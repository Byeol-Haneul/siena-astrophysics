{
 "metadata": {
  "name": "Eli_Histogram_Test"
 },
 "nbformat": 3,
 "nbformat_minor": 0,
 "worksheets": [
  {
   "cells": [
    {
     "cell_type": "code",
     "collapsed": false,
     "input": [
      "import time\n",
      "import random\n",
      "import numpy as np\n",
      "import matplotlib.pylab as plt\n",
      "t0= time.time()\n",
      "a=np.array([random.random() for _ in xrange(100000000)])\n",
      "hist=plt.hist(a,bins=100)\n",
      "tot_freq=hist[0]\n",
      "print tot_freq\n",
      "t1=time.time()\n",
      "tot=t1-t0\n",
      "print 'This code took %f seconds to run' %tot\n",
      "\n"
     ],
     "language": "python",
     "metadata": {},
     "outputs": [
      {
       "output_type": "stream",
       "stream": "stdout",
       "text": [
        "[  998806.   998773.   999663.   998915.  1000522.   998119.  1000207.\n",
        "  1002582.   998718.  1001239.   997895.   999572.   999498.  1001284.\n",
        "   997190.   998875.  1001662.  1000793.   998644.   998629.  1000402.\n",
        "   999731.   999659.   999511.   999132.  1001977.   999910.   999775.\n",
        "  1000210.  1000993.  1000321.  1000428.  1000378.   999174.  1001026.\n",
        "  1000708.   999365.  1001218.  1001737.   998900.   998847.  1001747.\n",
        "  1000086.  1000361.   999439.   999053.   999707.  1000271.  1000825.\n",
        "  1001524.   999698.   999643.  1000847.  1001138.  1001121.  1000201.\n",
        "   999958.  1001625.   999982.   999478.  1000119.   999223.   999142.\n",
        "  1001426.  1000846.   998947.  1001174.   997314.  1000763.   998421.\n",
        "   999688.   999420.   999774.  1000099.  1000303.   999922.   999377.\n",
        "  1001106.  1001421.  1000832.   998417.   999567.  1000786.  1001282.\n",
        "   999799.  1000531.   999392.   999374.  1001556.   999616.   999415.\n",
        "  1000389.   998990.   999624.  1001616.   999039.   999904.   999632.\n",
        "  1000342.   999720.]\n",
        "This code took 19.911451 seconds to run\n"
       ]
      }
     ],
     "prompt_number": 22
    },
    {
     "cell_type": "code",
     "collapsed": false,
     "input": [
      "import time\n",
      "import random\n",
      "import numpy as np\n",
      "import matplotlib.pylab as plt\n",
      "t0=time.time()\n",
      "tot_freq=np.zeros(100)\n",
      "for i in range(0,100):\n",
      "    a=np.array([random.random() for _ in xrange(1000000)])\n",
      "    hist=plt.hist(a,bins=100)\n",
      "    tot_freq+=hist[0]\n",
      "    del a\n",
      "    del hist\n",
      "    #print tot_freq\n",
      "t1=time.time()\n",
      "tot=t1-t0\n",
      "totmin=tot/60\n",
      "print 'This code took %f minutes to run' %totmin\n",
      "    "
     ],
     "language": "python",
     "metadata": {},
     "outputs": [
      {
       "output_type": "stream",
       "stream": "stdout",
       "text": [
        "This code took 28.693730 seconds to run\n"
       ]
      }
     ],
     "prompt_number": 24
    },
    {
     "cell_type": "code",
     "collapsed": false,
     "input": [],
     "language": "python",
     "metadata": {},
     "outputs": []
    }
   ],
   "metadata": {}
  }
 ]
}