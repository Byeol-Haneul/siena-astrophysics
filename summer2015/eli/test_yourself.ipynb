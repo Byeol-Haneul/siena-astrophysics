{
 "metadata": {
  "name": "test_yourself",
  "signature": "sha256:699c199cd63c42b4b818caa0c2c0b063910fef00cb3ddd5ee9c4f45ef3fe93ef"
 },
 "nbformat": 3,
 "nbformat_minor": 0,
 "worksheets": [
  {
   "cells": [
    {
     "cell_type": "markdown",
     "metadata": {},
     "source": [
      "Test your mastery of Python with the following problems."
     ]
    },
    {
     "cell_type": "markdown",
     "metadata": {},
     "source": [
      "Loop over all the numbers between 1 and 100. Sum up all the numbers that are divisible by 3."
     ]
    },
    {
     "cell_type": "code",
     "collapsed": false,
     "input": [
      "J=0\n",
      "for i in range(1,101):\n",
      "    if i%3==0:\n",
      "        J=J+i\n",
      "print J"
     ],
     "language": "python",
     "metadata": {},
     "outputs": [
      {
       "output_type": "stream",
       "stream": "stdout",
       "text": [
        "1683\n"
       ]
      }
     ],
     "prompt_number": 12
    },
    {
     "cell_type": "markdown",
     "metadata": {},
     "source": [
      "Print out all the prime numbers between 0 and 100"
     ]
    },
    {
     "cell_type": "code",
     "collapsed": false,
     "input": [
      "k=[]\n",
      "for i in range(1,101):\n",
      "    if i==2:\n",
      "        k.append(i)\n",
      "    elif i%2==1:\n",
      "        k.append(i)\n",
      "        \n",
      "\n",
      "\n",
      "\n",
      "        \n",
      "      \n",
      "        "
     ],
     "language": "python",
     "metadata": {},
     "outputs": [
      {
       "output_type": "stream",
       "stream": "stdout",
       "text": [
        "[1, 2, 3, 5, 7, 9, 11, 13, 15, 17, 19, 21, 23, 25, 27, 29, 31, 33, 35, 37, 39, 41, 43, 45, 47, 49, 51, 53, 55, 57, 59, 61, 63, 65, 67, 69, 71, 73, 75, 77, 79, 81, 83, 85, 87, 89, 91, 93, 95, 97, 99]\n"
       ]
      }
     ],
     "prompt_number": 19
    },
    {
     "cell_type": "markdown",
     "metadata": {},
     "source": [
      "Generate 100k random numbers between -1 and 1. Take the arcsin of them and sum them up using a standard Python loop. Time how long this takes using the Python <b><tt>time</tt></b> library. <i>Do not print any output to the screen or it might freeze your computer!</i>"
     ]
    },
    {
     "cell_type": "code",
     "collapsed": false,
     "input": [
      "import time\n",
      "import random\n",
      "import math\n",
      "import numpy as np\n",
      "t0=time.time()\n",
      "a=(2) * np.random.random_sample(100000) - 1\n",
      "arcs=[]\n",
      "for i in range(0,len(a)):\n",
      "    ar=math.asin(i)\n"
     ],
     "language": "python",
     "metadata": {},
     "outputs": [],
     "prompt_number": 2
    },
    {
     "cell_type": "markdown",
     "metadata": {},
     "source": [
      "Do the same thing as before, but use <b><tt>numpy</tt></b> functions. How much time does this save you?"
     ]
    },
    {
     "cell_type": "code",
     "collapsed": false,
     "input": [
      "import time\n",
      "import random\n",
      "import numpy as np\n",
      "a=(2) * np.random.random_sample(100000) - 1"
     ],
     "language": "python",
     "metadata": {},
     "outputs": [],
     "prompt_number": 6
    },
    {
     "cell_type": "markdown",
     "metadata": {},
     "source": [
      "Repeat the above two challenges but for 1M random numbers"
     ]
    },
    {
     "cell_type": "code",
     "collapsed": false,
     "input": [
      "# Your code here"
     ],
     "language": "python",
     "metadata": {},
     "outputs": [],
     "prompt_number": 7
    },
    {
     "cell_type": "markdown",
     "metadata": {},
     "source": [
      "Write a standalone function that takes a sentence (passed in as a string) and another letter, and returns a list of the words in that sentence that contain that letter. Call the function with different test cases to see if it works."
     ]
    },
    {
     "cell_type": "code",
     "collapsed": false,
     "input": [
      "def thisisafunction(sent,let):\n",
      "    a=sent.split()\n",
      "    for i in range(0,len(a)):\n",
      "        for j in range(0,\n",
      "        if a[i==let:\n",
      "            print a[i]\n",
      "thisisafunction(\"hello there eli\",\"e\")\n",
      "\n",
      "\n",
      "        \n"
     ],
     "language": "python",
     "metadata": {},
     "outputs": [
      {
       "output_type": "stream",
       "stream": "stdout",
       "text": [
        "e\n"
       ]
      }
     ],
     "prompt_number": 32
    },
    {
     "cell_type": "markdown",
     "metadata": {},
     "source": [
      "Estimate $\\pi$ through a Monte Carlo method. Algebraically solve for $\\pi$ in terms of the ratio of the area of a circle with radius of 1 to the area of a square with side length of 2 (draw a picture to see this). Estimate the ratio by generating random pairs of numbers that fall within the square and see how many also fall within the circle. "
     ]
    },
    {
     "cell_type": "code",
     "collapsed": false,
     "input": [
      "# Your code here"
     ],
     "language": "python",
     "metadata": {},
     "outputs": [],
     "prompt_number": 10
    },
    {
     "cell_type": "markdown",
     "metadata": {},
     "source": [
      "Write some sample code that makes use of the <b><tt>enumerate</tt></b> command."
     ]
    },
    {
     "cell_type": "code",
     "collapsed": false,
     "input": [
      "# Your code here"
     ],
     "language": "python",
     "metadata": {},
     "outputs": [],
     "prompt_number": 11
    },
    {
     "cell_type": "markdown",
     "metadata": {},
     "source": [
      "Write some sample code that makes use of the <b><tt>zip</tt></b> command."
     ]
    },
    {
     "cell_type": "code",
     "collapsed": false,
     "input": [
      "# Your code here"
     ],
     "language": "python",
     "metadata": {},
     "outputs": [],
     "prompt_number": 12
    },
    {
     "cell_type": "markdown",
     "metadata": {},
     "source": [
      "Write a piece of code that generates 10 arrays of 1000 numbers between 5 and 25 and writes them to a text file with 10 columns of these 1000 numbers. Then read in this text file and plot the 2nd column versus the 8th column on a scatter plot and histograms the 6th column.  "
     ]
    },
    {
     "cell_type": "code",
     "collapsed": false,
     "input": [
      "# Your code here"
     ],
     "language": "python",
     "metadata": {},
     "outputs": [],
     "prompt_number": 13
    },
    {
     "cell_type": "code",
     "collapsed": false,
     "input": [],
     "language": "python",
     "metadata": {},
     "outputs": []
    }
   ],
   "metadata": {}
  }
 ]
}