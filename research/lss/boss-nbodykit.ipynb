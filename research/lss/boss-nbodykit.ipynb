{
 "cells": [
  {
   "cell_type": "markdown",
   "metadata": {},
   "source": [
    "## Reproduce the BOSS cosmology results\n",
    "\n",
    "Some notes and papers:\n",
    "\n",
    "* https://nbodykit.readthedocs.io/en/latest/cookbook/convpower.html\n",
    "* [Baryon Acoustic Oscillations](https://arxiv.org/abs/0910.5224) is a nice reference paper on the BAO feature.\n",
    "* [BOSS LSS catalogs](https://www.sdss.org/dr14/spectro/lss/#BOSS)\n",
    "\n",
    "#### Getting the data\n",
    "* wget \"https://data.sdss.org/sas/dr12/boss/lss/galaxy_DR12v5_CMASSLOWZTOT_North.fits.gz\"\n",
    "* wget \"https://data.sdss.org/sas/dr12/boss/lss/galaxy_DR12v5_CMASSLOWZTOT_South.fits.gz\"\n",
    "* wget \"https://data.sdss.org/sas/dr12/boss/lss/random0_DR12v5_CMASSLOWZTOT_North.fits.gz\"\n",
    "* wget \"https://data.sdss.org/sas/dr12/boss/lss/random0_DR12v5_CMASSLOWZTOT_South.fits.gz\""
   ]
  },
  {
   "cell_type": "code",
   "execution_count": 1,
   "metadata": {},
   "outputs": [],
   "source": [
    "#%%bash\n",
    "#wget \"https://data.sdss.org/sas/dr12/boss/lss/galaxy_DR12v5_CMASSLOWZTOT_North.fits.gz\"\n",
    "#wget \"https://data.sdss.org/sas/dr12/boss/lss/galaxy_DR12v5_CMASSLOWZTOT_South.fits.gz\"\n",
    "#wget \"https://data.sdss.org/sas/dr12/boss/lss/random0_DR12v5_CMASSLOWZTOT_North.fits.gz\"\n",
    "#wget \"https://data.sdss.org/sas/dr12/boss/lss/random0_DR12v5_CMASSLOWZTOT_South.fits.gz\""
   ]
  },
  {
   "cell_type": "code",
   "execution_count": 2,
   "metadata": {},
   "outputs": [],
   "source": [
    "import os, pdb\n",
    "import numpy as np\n",
    "import matplotlib.pyplot as plt"
   ]
  },
  {
   "cell_type": "code",
   "execution_count": 3,
   "metadata": {},
   "outputs": [
    {
     "data": {
      "text/plain": [
       "<nbodykit.set_options at 0x118a77518>"
      ]
     },
     "execution_count": 3,
     "metadata": {},
     "output_type": "execute_result"
    }
   ],
   "source": [
    "from nbodykit.lab import *\n",
    "from nbodykit import setup_logging, style, set_options\n",
    "\n",
    "set_options(dask_chunk_size=1024*1024*32)\n",
    "#from nbodykit.source.catalog import FITSCatalog\n",
    "#from nbodykit.algorithms import SurveyData2PCF"
   ]
  },
  {
   "cell_type": "code",
   "execution_count": 4,
   "metadata": {},
   "outputs": [],
   "source": [
    "plt.style.use(style.notebook)\n",
    "%matplotlib inline"
   ]
  },
  {
   "cell_type": "markdown",
   "metadata": {},
   "source": [
    "### Preliminaries"
   ]
  },
  {
   "cell_type": "code",
   "execution_count": 5,
   "metadata": {},
   "outputs": [],
   "source": [
    "setup_logging()"
   ]
  },
  {
   "cell_type": "code",
   "execution_count": 6,
   "metadata": {},
   "outputs": [],
   "source": [
    "cosmo = cosmology.Cosmology(h=0.7).match(Omega0_m=0.31)"
   ]
  },
  {
   "cell_type": "code",
   "execution_count": 8,
   "metadata": {},
   "outputs": [],
   "source": [
    "datadir = os.path.join(os.getenv('IM_DATA_DIR'), 'sdss', 'dr12')"
   ]
  },
  {
   "cell_type": "code",
   "execution_count": 30,
   "metadata": {},
   "outputs": [],
   "source": [
    "def subsample_data(randoms=False, nsample=None, clobber=False):\n",
    "    \"\"\"Read and subsample the data or randoms LSS catalog, for speed.\n",
    "    \n",
    "    Here, we select objects with z=0.4-0.6 (see Alam+17, Table 2).\n",
    "    \n",
    "    \"\"\"\n",
    "    import fitsio\n",
    "    import dask.array as da    \n",
    "    \n",
    "    if randoms:\n",
    "        dataset = 'DR12v5-randoms'\n",
    "        columns = ['RA', 'DEC', 'Z', 'WEIGHT_FKP',]\n",
    "        infile = os.path.join(datadir, 'random0_DR12v5_CMASSLOWZTOT_North.fits.gz')\n",
    "        outfile = os.path.join(datadir, 'subset_random0_DR12v5_CMASSLOWZTOT_North.fits')\n",
    "    else:\n",
    "        dataset = 'DR12v5'\n",
    "        columns = ['RA', 'DEC', 'Z', 'WEIGHT_FKP', 'WEIGHT_CP', 'WEIGHT_NOZ', 'WEIGHT_SYSTOT',]\n",
    "        infile = os.path.join(datadir, 'galaxy_DR12v5_CMASSLOWZTOT_North.fits.gz')\n",
    "        outfile = os.path.join(datadir, 'subset_galaxy_DR12v5_CMASSLOWZTOT_North.fits')\n",
    "        \n",
    "    if not os.path.exists(outfile) or clobber:\n",
    "        finfo = fitsio.FITS(infile)\n",
    "        \n",
    "        # Read a subset of the data.\n",
    "        if nsample is None:\n",
    "            rows = None\n",
    "        else:\n",
    "            rows = np.arange(0, finfo[1].get_nrows(), nsample)\n",
    "            \n",
    "        data = finfo[1].read(upper=True, columns=columns, rows=rows)\n",
    "        #data = FITSCatalog(infile)\n",
    "        print('Read {} / {} rows from {}'.format(len(data), finfo[1].get_nrows(), infile))\n",
    "    \n",
    "        keep = (data['Z'] > 0.4) * (data['Z'] < 0.6)\n",
    "        nobj = np.sum(keep)\n",
    "        print('Keeping {} / {} galaxies with 0.4<z<0.6.'.format(nobj, len(data)))\n",
    "        _subdata = data[keep]\n",
    "        #subdata = da.from_array(data[keep], chunks=np.sum(keep))\n",
    "    \n",
    "        # Add Cartesian coordinates\n",
    "        xyzpos = transform.SkyToCartesian(_subdata['RA'], _subdata['DEC'], _subdata['Z'], cosmo=cosmo).compute()\n",
    "        columns += ['POSITION']\n",
    "        \n",
    "        # This doesn't work!\n",
    "        #np.lib.recfunctions.append_fields(_subdata, 'POSITION', xyzpos, dtypes=np.dtype(('POSITION', '>f8', (3,))))\n",
    "\n",
    "        subdata = np.empty(_subdata.shape, dtype=np.dtype( _subdata.dtype.descr + [('POSITION', xyzpos.dtype, (3, ))] ))\n",
    "        for ff in _subdata.dtype.fields:\n",
    "            subdata[ff] = _subdata[ff]\n",
    "        subdata['POSITION'] = xyzpos\n",
    "        del _subdata\n",
    "        \n",
    "        print('Writing {} rows to {}'.format(nobj, outfile))\n",
    "        #subdata.save(outfile, columns, dataset=dataset)\n",
    "        fitsio.write(outfile, subdata, clobber=True)\n",
    "        del subdata\n",
    "    \n",
    "    print('Reading {}'.format(outfile))\n",
    "    out = FITSCatalog(outfile)\n",
    "        \n",
    "        #if not randoms:\n",
    "        #    # Read and compute the statistical weight from Anderson+12, equation 18:\n",
    "        #    out = FITSCatalog(outfile)\n",
    "        #    out['Weight'] = out['WEIGHT_SYSTOT'] * ( out['WEIGHT_NOZ'] + out['WEIGHT_CP'] - 1 )\n",
    "    \n",
    "    return out"
   ]
  },
  {
   "cell_type": "code",
   "execution_count": 9,
   "metadata": {},
   "outputs": [],
   "source": [
    "def subsample2_data(randoms=False, nsample=1, clobber=False):\n",
    "    \"\"\"Read and subsample the data or randoms LSS catalog, for speed.\n",
    "    \n",
    "    Here, we select objects with z=0.4-0.6 (see Alam+17, Table 2).\n",
    "    \n",
    "    \"\"\"\n",
    "    import fitsio\n",
    "\n",
    "    if randoms:\n",
    "        dataset = 'DR12v5-randoms'\n",
    "        columns = ['RA', 'DEC', 'Z', 'WEIGHT_FKP',]\n",
    "        infile = os.path.join(datadir, 'random0_DR12v5_CMASSLOWZTOT_North.fits.gz')\n",
    "        outfile = os.path.join(datadir, 'random0_DR12v5_CMASSLOWZTOT_North')\n",
    "    else:\n",
    "        dataset = 'DR12v5'\n",
    "        columns = ['RA', 'DEC', 'Z', 'WEIGHT_FKP', 'WEIGHT_CP', 'WEIGHT_NOZ', 'WEIGHT_SYSTOT',]\n",
    "        infile = os.path.join(datadir, 'galaxy_DR12v5_CMASSLOWZTOT_North.fits.gz')\n",
    "        outfile = os.path.join(datadir, 'galaxy_DR12v5_CMASSLOWZTOT_North')\n",
    "    try:\n",
    "        data = BigFileCatalog(outfile, dataset='samples')\n",
    "    except:\n",
    "        clobber = True\n",
    "        \n",
    "    if clobber: # convert to bigfile if not yet.\n",
    "        data = ArrayCatalog(fitsio.read(infile, columns=columns))\n",
    "        # if data doesn't fit into memory, use FITSCatalog(infile)\n",
    "        data.save(outfile, columns=columns, dataset='samples')\n",
    "    \n",
    "    data = BigFileCatalog(outfile, dataset='samples')\n",
    "    \n",
    "    if nsample is not None:\n",
    "        data = data[::nsample]\n",
    "        \n",
    "    keep = (data['Z'] > 0.4) & (data['Z'] < 0.6)\n",
    "    print(keep.sum().compute())\n",
    "    out = data[keep]\n",
    "        \n",
    "    out['POSITION'] = transform.SkyToCartesian(out['RA'], out['DEC'], out['Z'], cosmo=cosmo)\n",
    "    \n",
    "    return out"
   ]
  },
  {
   "cell_type": "code",
   "execution_count": 10,
   "metadata": {},
   "outputs": [],
   "source": [
    "#%time data = subsample_data(nsample=32, clobber=True)"
   ]
  },
  {
   "cell_type": "code",
   "execution_count": 11,
   "metadata": {},
   "outputs": [
    {
     "name": "stderr",
     "output_type": "stream",
     "text": [
      "[ 000120.88 ]   0: 01-03 19:04  CatalogSource   INFO     Extra arguments to FileType: ('/Users/ioannis/research/data/sdss/dr12/galaxy_DR12v5_CMASSLOWZTOT_North',) {'dataset': 'samples'}\n"
     ]
    },
    {
     "name": "stdout",
     "output_type": "stream",
     "text": [
      "500872\n",
      "CPU times: user 2.18 s, sys: 479 ms, total: 2.66 s\n",
      "Wall time: 2.67 s\n"
     ]
    }
   ],
   "source": [
    "%time data = subsample2_data(nsample=1, clobber=True)"
   ]
  },
  {
   "cell_type": "code",
   "execution_count": 14,
   "metadata": {},
   "outputs": [
    {
     "name": "stderr",
     "output_type": "stream",
     "text": [
      "[ 000272.21 ]   0: 01-03 19:07  CatalogSource   INFO     Extra arguments to FileType: ('/Users/ioannis/research/data/sdss/dr12/random0_DR12v5_CMASSLOWZTOT_North',) {'dataset': 'samples'}\n"
     ]
    },
    {
     "name": "stdout",
     "output_type": "stream",
     "text": [
      "26017384\n",
      "CPU times: user 48.6 s, sys: 22.4 s, total: 1min 10s\n",
      "Wall time: 1min 10s\n"
     ]
    }
   ],
   "source": [
    "%time random = subsample2_data(nsample=1, randoms=True, clobber=False)"
   ]
  },
  {
   "cell_type": "code",
   "execution_count": 15,
   "metadata": {},
   "outputs": [],
   "source": [
    "#%time random = subsample_data(randoms=True, nsample=32, clobber=True)"
   ]
  },
  {
   "cell_type": "code",
   "execution_count": 17,
   "metadata": {},
   "outputs": [
    {
     "name": "stdout",
     "output_type": "stream",
     "text": [
      "Data columns: ['DEC', 'POSITION', 'RA', 'Selection', 'Value', 'WEIGHT_CP', 'WEIGHT_FKP', 'WEIGHT_NOZ', 'WEIGHT_SYSTOT', 'Weight', 'Z']\n",
      "Random columns: ['DEC', 'POSITION', 'RA', 'Selection', 'Value', 'WEIGHT_FKP', 'Weight', 'Z']\n"
     ]
    }
   ],
   "source": [
    "print('Data columns: {}'.format(data.columns))\n",
    "print('Random columns: {}'.format(random.columns))"
   ]
  },
  {
   "cell_type": "code",
   "execution_count": 145,
   "metadata": {},
   "outputs": [],
   "source": [
    "#rr = (data['WEIGHT_SYSTOT'] * (data['WEIGHT_NOZ'] + data['WEIGHT_CP'] - 1)).compute()\n",
    "#data.Weight"
   ]
  },
  {
   "cell_type": "markdown",
   "metadata": {},
   "source": [
    "### Generate n(z) for the data."
   ]
  },
  {
   "cell_type": "code",
   "execution_count": 18,
   "metadata": {},
   "outputs": [],
   "source": [
    "def get_nofz(totarea=9329, north=True):\n",
    "    \"\"\"Build n(z) for the data.  The total area is from Alam+17, Table 2.\n",
    "    \n",
    "    \"\"\"\n",
    "    from scipy.interpolate import InterpolatedUnivariateSpline\n",
    "    \n",
    "    if north:\n",
    "        area = totarea * 5.3 / 7.3\n",
    "    else:\n",
    "        area = totarea * 2.0 / 7.3\n",
    "    \n",
    "    # compute n(z) from the randoms\n",
    "    fsky = area / ( 4 * np.pi * (180 / np.pi)**2 ) # sky fraction from Alam+17\n",
    "    zhist = RedshiftHistogram(random, fsky, cosmo, redshift='Z')\n",
    "    \n",
    "    # re-normalize to the total size of the data catalog\n",
    "    alpha = 1.0 * data.csize / random.csize\n",
    "    print('Renormalization factor = {:.5f}'.format(alpha))\n",
    "    zhist.nbar *= alpha\n",
    "    \n",
    "    # Compute the interpolator we'll use below.\n",
    "    nofz = InterpolatedUnivariateSpline(zhist.bin_centers, zhist.nbar)\n",
    "    \n",
    "    return zhist, nofz"
   ]
  },
  {
   "cell_type": "code",
   "execution_count": 19,
   "metadata": {},
   "outputs": [],
   "source": [
    "def qa_zhist(zhist):\n",
    "    fig, ax = plt.subplots()\n",
    "    ax.plot(zhist.bin_centers, zhist.nbar)\n",
    "    ax.set_xlabel(r'$z$', fontsize=16)\n",
    "    ax.set_ylabel(r'$n(z)$ $[h^{3} \\mathrm{Mpc}^{-3}]$', fontsize=16)    "
   ]
  },
  {
   "cell_type": "code",
   "execution_count": 20,
   "metadata": {},
   "outputs": [
    {
     "name": "stderr",
     "output_type": "stream",
     "text": [
      "[ 000359.26 ]   0: 01-03 19:08  RedshiftHistogram INFO     using Scott's rule to determine optimal binning; h = 5.99e-04, N_bins = 334\n",
      "[ 000362.88 ]   0: 01-03 19:08  RedshiftHistogram INFO     using cosmology {'output': 'vTk dTk mPk', 'extra metric transfer functions': 'y', 'n_s': 0.9667, 'gauge': 'synchronous', 'N_ur': 2.0328, 'h': 0.7, 'T_cmb': 2.7255, 'N_ncdm': 1, 'P_k_max_h/Mpc': 10.0, 'z_max_pk': 100.0, 'Omega_b': 0.04775550899153668, 'Omega_cdm': 0.2609299279412303, 'm_ncdm': [0.06]} to compute volume in units of (Mpc/h)^3\n",
      "[ 000362.88 ]   0: 01-03 19:08  RedshiftHistogram INFO     sky fraction used in volume calculation: 0.1642\n"
     ]
    },
    {
     "name": "stdout",
     "output_type": "stream",
     "text": [
      "Renormalization factor = 0.01925\n",
      "CPU times: user 4.84 s, sys: 1.65 s, total: 6.49 s\n",
      "Wall time: 5.62 s\n"
     ]
    }
   ],
   "source": [
    "%time zhist, nofz = get_nofz()"
   ]
  },
  {
   "cell_type": "code",
   "execution_count": 21,
   "metadata": {},
   "outputs": [
    {
     "data": {
      "image/png": "[encoded data removed]",
      "text/plain": [
       "<Figure size 432x288 with 1 Axes>"
      ]
     },
     "metadata": {
      "needs_background": "light"
     },
     "output_type": "display_data"
    }
   ],
   "source": [
    "qa_zhist(zhist)"
   ]
  },
  {
   "cell_type": "markdown",
   "metadata": {},
   "source": [
    "### Instantiate an FKPCatalog object by combining the data and randoms."
   ]
  },
  {
   "cell_type": "code",
   "execution_count": 22,
   "metadata": {},
   "outputs": [],
   "source": [
    "data['NZ'] = nofz(data['Z'])\n",
    "random['NZ'] = nofz(random['Z'])\n",
    "data['FKPWeight'] = 1.0 / (1 + data['NZ'] * 2e4)\n",
    "random['FKPWeight'] = 1.0 / (1 + random['NZ'] * 2e4)\n",
    "\n",
    "data['Weight'] = (data['WEIGHT_SYSTOT'] * (data['WEIGHT_NOZ'] + data['WEIGHT_CP'] - 1)).compute()\n",
    "random['Weight'] = np.ones(len(random))\n",
    "\n",
    "fkp = FKPCatalog(data, random)"
   ]
  },
  {
   "cell_type": "code",
   "execution_count": 23,
   "metadata": {},
   "outputs": [
    {
     "data": {
      "text/plain": [
       "array([0.00030718, 0.00030129, 0.00041125, ..., 0.00027166, 0.00020825,\n",
       "       0.00018999])"
      ]
     },
     "execution_count": 23,
     "metadata": {},
     "output_type": "execute_result"
    }
   ],
   "source": [
    "data['NZ'].compute()"
   ]
  },
  {
   "cell_type": "code",
   "execution_count": 26,
   "metadata": {},
   "outputs": [
    {
     "data": {
      "text/plain": [
       "array([0.00030718, 0.00030129, 0.00041125, ..., 0.00027166, 0.00020825,\n",
       "       0.00018999])"
      ]
     },
     "execution_count": 26,
     "metadata": {},
     "output_type": "execute_result"
    }
   ],
   "source": [
    "#fkp['data/FKPWeight'].compute(), data['WEIGHT_FKP'].compute()\n",
    "data['NZ'].compute()"
   ]
  },
  {
   "cell_type": "code",
   "execution_count": 143,
   "metadata": {},
   "outputs": [
    {
     "data": {
      "text/plain": [
       "array([0.9976136, 1.0060105, 0.9926974, ..., 0.9762613, 1.0764927,\n",
       "       0.9659687], dtype=float32)"
      ]
     },
     "execution_count": 143,
     "metadata": {},
     "output_type": "execute_result"
    }
   ],
   "source": [
    "data['Weight'].compute()"
   ]
  },
  {
   "cell_type": "code",
   "execution_count": 27,
   "metadata": {},
   "outputs": [
    {
     "name": "stderr",
     "output_type": "stream",
     "text": [
      "[ 037681.12 ]   0: 01-04 05:30  FKPCatalog      INFO     cartesian coordinate range: [-1537.92027082 -1419.69646037   -96.66655346] : [-101.95582015 1347.59487189 1432.35074652]\n",
      "[ 037681.12 ]   0: 01-04 05:30  FKPCatalog      INFO     BoxSize = [1465. 2823. 1560.]\n",
      "[ 037681.12 ]   0: 01-04 05:30  FKPCatalog      INFO     BoxCenter = [-819.93804548  -36.05079424  667.84209653]\n"
     ]
    },
    {
     "name": "stdout",
     "output_type": "stream",
     "text": [
      "CPU times: user 34.9 s, sys: 9.19 s, total: 44.1 s\n",
      "Wall time: 37.3 s\n"
     ]
    }
   ],
   "source": [
    "%time mesh = fkp.to_mesh(Nmesh=256, nbar='NZ', comp_weight='Weight', fkp_weight='FKPWeight', position='POSITION')"
   ]
  },
  {
   "cell_type": "code",
   "execution_count": 31,
   "metadata": {},
   "outputs": [
    {
     "name": "stderr",
     "output_type": "stream",
     "text": [
      "[ 037933.62 ]   0: 01-04 05:34  CatalogMesh     INFO     Chunk 0 ~ 4194304 / 500872 \n",
      "[ 037934.36 ]   0: 01-04 05:34  CatalogMesh     INFO     painted 500872 out of 500872 objects to mesh\n",
      "[ 037934.37 ]   0: 01-04 05:34  CatalogMesh     INFO     painted 500872 out of 500872 objects to mesh\n",
      "[ 037934.37 ]   0: 01-04 05:34  CatalogMesh     INFO     mean particles per cell is 0.00443252\n",
      "[ 037934.37 ]   0: 01-04 05:34  CatalogMesh     INFO     sum is 74365.4 \n",
      "[ 037934.37 ]   0: 01-04 05:34  FKPCatalogMesh  INFO     data painted.\n",
      "[ 037934.41 ]   0: 01-04 05:34  CatalogMesh     INFO     Chunk 0 ~ 4194304 / 26017384 \n",
      "[ 037946.47 ]   0: 01-04 05:35  CatalogMesh     INFO     painted 4194304 out of 26017384 objects to mesh\n",
      "[ 037946.47 ]   0: 01-04 05:35  CatalogMesh     INFO     Chunk 4194304 ~ 8388608 / 26017384 \n",
      "[ 037957.60 ]   0: 01-04 05:35  CatalogMesh     INFO     painted 8388608 out of 26017384 objects to mesh\n",
      "[ 037957.60 ]   0: 01-04 05:35  CatalogMesh     INFO     Chunk 8388608 ~ 12582912 / 26017384 \n",
      "[ 037968.69 ]   0: 01-04 05:35  CatalogMesh     INFO     painted 12582912 out of 26017384 objects to mesh\n",
      "[ 037968.69 ]   0: 01-04 05:35  CatalogMesh     INFO     Chunk 12582912 ~ 16777216 / 26017384 \n",
      "[ 037979.60 ]   0: 01-04 05:35  CatalogMesh     INFO     painted 16777216 out of 26017384 objects to mesh\n",
      "[ 037979.61 ]   0: 01-04 05:35  CatalogMesh     INFO     Chunk 16777216 ~ 20971520 / 26017384 \n",
      "[ 037994.49 ]   0: 01-04 05:35  CatalogMesh     INFO     painted 20971520 out of 26017384 objects to mesh\n",
      "[ 037994.49 ]   0: 01-04 05:35  CatalogMesh     INFO     Chunk 20971520 ~ 25165824 / 26017384 \n",
      "[ 038000.53 ]   0: 01-04 05:35  CatalogMesh     INFO     painted 25165824 out of 26017384 objects to mesh\n",
      "[ 038000.53 ]   0: 01-04 05:35  CatalogMesh     INFO     Chunk 25165824 ~ 29360128 / 26017384 \n",
      "[ 038004.87 ]   0: 01-04 05:36  CatalogMesh     INFO     painted 26017384 out of 26017384 objects to mesh\n",
      "[ 038004.88 ]   0: 01-04 05:36  CatalogMesh     INFO     painted 26017384 out of 26017384 objects to mesh\n",
      "[ 038004.88 ]   0: 01-04 05:36  CatalogMesh     INFO     mean particles per cell is 0.215564\n",
      "[ 038004.88 ]   0: 01-04 05:36  CatalogMesh     INFO     sum is 3.61656e+06 \n",
      "[ 038004.90 ]   0: 01-04 05:36  FKPCatalogMesh  INFO     randoms painted.\n",
      "[ 038004.93 ]   0: 01-04 05:36  FKPCatalogMesh  INFO     volume per cell is 384.55\n",
      "[ 038004.94 ]   0: 01-04 05:36  FKPCatalogMesh  INFO     field: <nbodykit.algorithms.convpower.catalogmesh.FKPCatalogMesh object at 0x1a1ff18fd0> painting done\n"
     ]
    }
   ],
   "source": [
    "field = mesh.paint()"
   ]
  },
  {
   "cell_type": "code",
   "execution_count": 30,
   "metadata": {},
   "outputs": [
    {
     "ename": "NameError",
     "evalue": "name 'field' is not defined",
     "output_type": "error",
     "traceback": [
      "\u001b[0;31m---------------------------------------------------------------------------\u001b[0m",
      "\u001b[0;31mNameError\u001b[0m                                 Traceback (most recent call last)",
      "\u001b[0;32m<ipython-input-30-318e39539b7e>\u001b[0m in \u001b[0;36m<module>\u001b[0;34m\u001b[0m\n\u001b[0;32m----> 1\u001b[0;31m \u001b[0mplt\u001b[0m\u001b[0;34m.\u001b[0m\u001b[0mimshow\u001b[0m\u001b[0;34m(\u001b[0m\u001b[0mfield\u001b[0m\u001b[0;34m[\u001b[0m\u001b[0;34m...\u001b[0m\u001b[0;34m]\u001b[0m\u001b[0;34m.\u001b[0m\u001b[0msum\u001b[0m\u001b[0;34m(\u001b[0m\u001b[0maxis\u001b[0m\u001b[0;34m=\u001b[0m\u001b[0;36m0\u001b[0m\u001b[0;34m)\u001b[0m\u001b[0;34m)\u001b[0m\u001b[0;34m\u001b[0m\u001b[0;34m\u001b[0m\u001b[0m\n\u001b[0m",
      "\u001b[0;31mNameError\u001b[0m: name 'field' is not defined"
     ]
    }
   ],
   "source": [
    "plt.imshow(field[...].sum(axis=0))"
   ]
  },
  {
   "cell_type": "code",
   "execution_count": 28,
   "metadata": {},
   "outputs": [
    {
     "name": "stderr",
     "output_type": "stream",
     "text": [
      "[ 037755.63 ]   0: 01-04 05:31  ConvolvedFFTPower INFO     using compensation function CompensateCICShotnoise for source 'first'\n",
      "[ 037755.63 ]   0: 01-04 05:31  ConvolvedFFTPower INFO     using compensation function CompensateCICShotnoise for source 'second'\n",
      "[ 037769.66 ]   0: 01-04 05:32  CatalogMesh     INFO     Chunk 0 ~ 4194304 / 500872 \n",
      "[ 037770.21 ]   0: 01-04 05:32  CatalogMesh     INFO     painted 500872 out of 500872 objects to mesh\n",
      "[ 037770.22 ]   0: 01-04 05:32  CatalogMesh     INFO     painted 500872 out of 500872 objects to mesh\n",
      "[ 037770.22 ]   0: 01-04 05:32  CatalogMesh     INFO     mean particles per cell is 0.00443252\n",
      "[ 037770.23 ]   0: 01-04 05:32  CatalogMesh     INFO     sum is 74365.4 \n",
      "[ 037770.23 ]   0: 01-04 05:32  FKPCatalogMesh  INFO     data painted.\n",
      "[ 037770.27 ]   0: 01-04 05:32  CatalogMesh     INFO     Chunk 0 ~ 4194304 / 26017384 \n",
      "[ 037782.36 ]   0: 01-04 05:32  CatalogMesh     INFO     painted 4194304 out of 26017384 objects to mesh\n",
      "[ 037782.36 ]   0: 01-04 05:32  CatalogMesh     INFO     Chunk 4194304 ~ 8388608 / 26017384 \n",
      "[ 037794.21 ]   0: 01-04 05:32  CatalogMesh     INFO     painted 8388608 out of 26017384 objects to mesh\n",
      "[ 037794.21 ]   0: 01-04 05:32  CatalogMesh     INFO     Chunk 8388608 ~ 12582912 / 26017384 \n",
      "[ 037806.08 ]   0: 01-04 05:32  CatalogMesh     INFO     painted 12582912 out of 26017384 objects to mesh\n",
      "[ 037806.08 ]   0: 01-04 05:32  CatalogMesh     INFO     Chunk 12582912 ~ 16777216 / 26017384 \n",
      "[ 037818.21 ]   0: 01-04 05:32  CatalogMesh     INFO     painted 16777216 out of 26017384 objects to mesh\n",
      "[ 037818.21 ]   0: 01-04 05:32  CatalogMesh     INFO     Chunk 16777216 ~ 20971520 / 26017384 \n",
      "[ 037833.99 ]   0: 01-04 05:33  CatalogMesh     INFO     painted 20971520 out of 26017384 objects to mesh\n",
      "[ 037833.99 ]   0: 01-04 05:33  CatalogMesh     INFO     Chunk 20971520 ~ 25165824 / 26017384 \n",
      "[ 037839.95 ]   0: 01-04 05:33  CatalogMesh     INFO     painted 25165824 out of 26017384 objects to mesh\n",
      "[ 037839.96 ]   0: 01-04 05:33  CatalogMesh     INFO     Chunk 25165824 ~ 29360128 / 26017384 \n",
      "[ 037844.42 ]   0: 01-04 05:33  CatalogMesh     INFO     painted 26017384 out of 26017384 objects to mesh\n",
      "[ 037844.43 ]   0: 01-04 05:33  CatalogMesh     INFO     painted 26017384 out of 26017384 objects to mesh\n",
      "[ 037844.44 ]   0: 01-04 05:33  CatalogMesh     INFO     mean particles per cell is 0.215564\n",
      "[ 037844.44 ]   0: 01-04 05:33  CatalogMesh     INFO     sum is 3.61656e+06 \n",
      "[ 037844.46 ]   0: 01-04 05:33  FKPCatalogMesh  INFO     randoms painted.\n",
      "[ 037844.50 ]   0: 01-04 05:33  FKPCatalogMesh  INFO     volume per cell is 384.55\n",
      "[ 037844.50 ]   0: 01-04 05:33  FKPCatalogMesh  INFO     field: <nbodykit.algorithms.convpower.catalogmesh.FKPCatalogMesh object at 0x1a1ff18fd0> painting done\n",
      "[ 037844.51 ]   0: 01-04 05:33  ConvolvedFFTPower INFO     cic painting of 'first' done\n",
      "[ 037844.82 ]   0: 01-04 05:33  ConvolvedFFTPower INFO     ell = 0 done; 1 r2c completed\n",
      "[ 037873.21 ]   0: 01-04 05:33  ConvolvedFFTPower INFO     normalized power spectrum with `randoms.norm = 3.177606`\n",
      "[ 037875.44 ]   0: 01-04 05:33  ConvolvedFFTPower INFO     ell = 2 done; 5 r2c completed\n",
      "[ 037880.34 ]   0: 01-04 05:33  ConvolvedFFTPower INFO     ell = 4 done; 9 r2c completed\n",
      "[ 037881.27 ]   0: 01-04 05:33  ConvolvedFFTPower INFO     higher order multipoles computed in elapsed time 00:00:08.05\n"
     ]
    },
    {
     "name": "stdout",
     "output_type": "stream",
     "text": [
      "CPU times: user 2min 8s, sys: 47.7 s, total: 2min 55s\n",
      "Wall time: 2min 31s\n"
     ]
    }
   ],
   "source": [
    "%time r = ConvolvedFFTPower(mesh, poles=[0, 2, 4])"
   ]
  },
  {
   "cell_type": "code",
   "execution_count": 149,
   "metadata": {},
   "outputs": [
    {
     "data": {
      "text/plain": [
       "[]"
      ]
     },
     "execution_count": 149,
     "metadata": {},
     "output_type": "execute_result"
    },
    {
     "data": {
      "image/png": "[encoded data removed]",
      "text/plain": [
       "<Figure size 432x288 with 1 Axes>"
      ]
     },
     "metadata": {
      "needs_background": "light"
     },
     "output_type": "display_data"
    }
   ],
   "source": [
    "plt.plot(r.poles['k'], r.poles['power_0'])\n",
    "plt.plot(r.poles['k'], r.poles['power_2'])\n",
    "plt.plot(r.poles['k'], r.poles['power_4'])\n",
    "plt.loglog()"
   ]
  },
  {
   "cell_type": "markdown",
   "metadata": {},
   "source": [
    "### Compute the 2-point correlation function"
   ]
  },
  {
   "cell_type": "code",
   "execution_count": 40,
   "metadata": {},
   "outputs": [
    {
     "data": {
      "text/plain": [
       "array([ 1,  2,  3,  4,  5,  6,  7,  8,  9, 10, 11, 12, 13, 14, 15, 16, 17,\n",
       "       18, 19, 20, 21, 22, 23, 24, 25, 26, 27, 28, 29, 30, 31, 32, 33, 34,\n",
       "       35, 36, 37, 38, 39, 40])"
      ]
     },
     "execution_count": 40,
     "metadata": {},
     "output_type": "execute_result"
    }
   ],
   "source": [
    "pimax = 40\n",
    "edges = np.arange(1, 41, 1)\n",
    "edges"
   ]
  },
  {
   "cell_type": "code",
   "execution_count": 42,
   "metadata": {},
   "outputs": [
    {
     "name": "stderr",
     "output_type": "stream",
     "text": [
      "[ 038908.75 ]   0: 01-04 05:51  SurveyData2PCF  INFO     computing randoms1 - randoms2 pair counts\n",
      "[ 038908.75 ]   0: 01-04 05:51  SurveyDataPairCount INFO     using cpu grid decomposition: (1, 1, 1)\n",
      "[ 038943.02 ]   0: 01-04 05:51  SurveyDataPairCount INFO     position variable range on rank 0 (max, min) = [-100.5198557  1350.36216323 1433.87976382], [-1539.35623527 -1422.46375171   -98.19557076]\n",
      "[ 038944.85 ]   0: 01-04 05:51  SurveyDataPairCount INFO     Load balance done\n",
      "[ 038955.97 ]   0: 01-04 05:51  SurveyDataPairCount INFO     correlating 26017384 x 26017384 objects in total\n",
      "[ 038955.97 ]   0: 01-04 05:51  SurveyDataPairCount INFO     correlating A x B = 26017384 x 26017384 objects (median) per rank\n",
      "[ 038955.98 ]   0: 01-04 05:51  SurveyDataPairCount INFO     min A load per rank = 26017384\n",
      "[ 038955.98 ]   0: 01-04 05:51  SurveyDataPairCount INFO     max A load per rank = 26017384\n",
      "[ 038955.98 ]   0: 01-04 05:51  SurveyDataPairCount INFO     (even distribution would result in 26017384 x 26017384)\n",
      "[ 038956.22 ]   0: 01-04 05:51  MPICorrfuncCallable INFO     calling function 'Corrfunc.mocks.DDrppi_mocks.DDrppi_mocks'\n",
      "[ 040397.34 ]   0: 01-04 06:15  MPICorrfuncCallable INFO     10% done\n",
      "[ 041828.44 ]   0: 01-04 06:39  MPICorrfuncCallable INFO     20% done\n",
      "[ 052825.94 ]   0: 01-04 09:43  MPICorrfuncCallable INFO     30% done\n"
     ]
    },
    {
     "ename": "RuntimeError",
     "evalue": "calling the function 'Corrfunc.mocks.DDrppi_mocks.DDrppi_mocks' failed, likely due to issues with input data/parameters. Open at issue at https://github.com/bccp/nbodykit/issues for further help.\nexception: RuntimeError occurred\nstdout: \nstderr: Received signal = `Interrupt: 2' (signo = 2). Aborting \n",
     "output_type": "error",
     "traceback": [
      "\u001b[0;31m---------------------------------------------------------------------------\u001b[0m",
      "\u001b[0;31mRuntimeError\u001b[0m                              Traceback (most recent call last)",
      "\u001b[0;32m~/repos/nbodykit/nbodykit/algorithms/pair_counters/corrfunc/base.py\u001b[0m in \u001b[0;36m_run\u001b[0;34m(self, func, kws)\u001b[0m\n\u001b[1;32m    204\u001b[0m             \u001b[0;32mwith\u001b[0m \u001b[0mcaptured_output\u001b[0m\u001b[0;34m(\u001b[0m\u001b[0mself\u001b[0m\u001b[0;34m.\u001b[0m\u001b[0mcomm\u001b[0m\u001b[0;34m,\u001b[0m \u001b[0mroot\u001b[0m\u001b[0;34m=\u001b[0m\u001b[0;32mNone\u001b[0m\u001b[0;34m)\u001b[0m \u001b[0;32mas\u001b[0m \u001b[0;34m(\u001b[0m\u001b[0mout\u001b[0m\u001b[0;34m,\u001b[0m \u001b[0merr\u001b[0m\u001b[0;34m)\u001b[0m\u001b[0;34m:\u001b[0m\u001b[0;34m\u001b[0m\u001b[0;34m\u001b[0m\u001b[0m\n\u001b[0;32m--> 205\u001b[0;31m                 \u001b[0mresult\u001b[0m \u001b[0;34m=\u001b[0m \u001b[0mfunc\u001b[0m\u001b[0;34m(\u001b[0m\u001b[0;34m**\u001b[0m\u001b[0mkws\u001b[0m\u001b[0;34m)\u001b[0m\u001b[0;34m\u001b[0m\u001b[0;34m\u001b[0m\u001b[0m\n\u001b[0m\u001b[1;32m    206\u001b[0m \u001b[0;34m\u001b[0m\u001b[0m\n",
      "\u001b[0;32m/usr/local/anaconda3/envs/nbodykit-env/lib/python3.6/site-packages/Corrfunc/mocks/DDrppi_mocks.py\u001b[0m in \u001b[0;36mDDrppi_mocks\u001b[0;34m(autocorr, cosmology, nthreads, pimax, binfile, RA1, DEC1, CZ1, weights1, RA2, DEC2, CZ2, weights2, is_comoving_dist, verbose, output_rpavg, fast_divide_and_NR_steps, xbin_refine_factor, ybin_refine_factor, zbin_refine_factor, max_cells_per_dim, c_api_timer, isa, weight_type)\u001b[0m\n\u001b[1;32m    379\u001b[0m         \u001b[0mmsg\u001b[0m \u001b[0;34m=\u001b[0m \u001b[0;34m\"RuntimeError occurred\"\u001b[0m\u001b[0;34m\u001b[0m\u001b[0;34m\u001b[0m\u001b[0m\n\u001b[0;32m--> 380\u001b[0;31m         \u001b[0;32mraise\u001b[0m \u001b[0mRuntimeError\u001b[0m\u001b[0;34m(\u001b[0m\u001b[0mmsg\u001b[0m\u001b[0;34m)\u001b[0m\u001b[0;34m\u001b[0m\u001b[0;34m\u001b[0m\u001b[0m\n\u001b[0m\u001b[1;32m    381\u001b[0m     \u001b[0;32melse\u001b[0m\u001b[0;34m:\u001b[0m\u001b[0;34m\u001b[0m\u001b[0;34m\u001b[0m\u001b[0m\n",
      "\u001b[0;31mRuntimeError\u001b[0m: RuntimeError occurred",
      "\nDuring handling of the above exception, another exception occurred:\n",
      "\u001b[0;31mRuntimeError\u001b[0m                              Traceback (most recent call last)",
      "\u001b[0;32m<ipython-input-42-8ec6173ad133>\u001b[0m in \u001b[0;36m<module>\u001b[0;34m\u001b[0m\n\u001b[1;32m      1\u001b[0m xi = SurveyData2PCF('projected', data, random, edges, cosmo=cosmo, pimax=pimax, \n\u001b[0;32m----> 2\u001b[0;31m                     redshift='Z', weight='Weight', show_progress=True, **{'nthreads': 4})\n\u001b[0m",
      "\u001b[0;32m~/repos/nbodykit/nbodykit/algorithms/paircount_tpcf/tpcf.py\u001b[0m in \u001b[0;36m__init__\u001b[0;34m(self, mode, data1, randoms1, edges, cosmo, Nmu, pimax, data2, randoms2, R1R2, ra, dec, redshift, weight, show_progress, **config)\u001b[0m\n\u001b[1;32m    423\u001b[0m \u001b[0;34m\u001b[0m\u001b[0m\n\u001b[1;32m    424\u001b[0m         \u001b[0;31m# and run\u001b[0m\u001b[0;34m\u001b[0m\u001b[0;34m\u001b[0m\u001b[0;34m\u001b[0m\u001b[0m\n\u001b[0;32m--> 425\u001b[0;31m         \u001b[0mself\u001b[0m\u001b[0;34m.\u001b[0m\u001b[0mrun\u001b[0m\u001b[0;34m(\u001b[0m\u001b[0;34m)\u001b[0m\u001b[0;34m\u001b[0m\u001b[0;34m\u001b[0m\u001b[0m\n\u001b[0m\u001b[1;32m    426\u001b[0m \u001b[0;34m\u001b[0m\u001b[0m\n\u001b[1;32m    427\u001b[0m     \u001b[0;32mdef\u001b[0m \u001b[0mrun\u001b[0m\u001b[0;34m(\u001b[0m\u001b[0mself\u001b[0m\u001b[0;34m)\u001b[0m\u001b[0;34m:\u001b[0m\u001b[0;34m\u001b[0m\u001b[0;34m\u001b[0m\u001b[0m\n",
      "\u001b[0;32m~/repos/nbodykit/nbodykit/algorithms/paircount_tpcf/tpcf.py\u001b[0m in \u001b[0;36mrun\u001b[0;34m(self)\u001b[0m\n\u001b[1;32m    462\u001b[0m         \"\"\"\n\u001b[1;32m    463\u001b[0m         \u001b[0;31m# this does most of the work\u001b[0m\u001b[0;34m\u001b[0m\u001b[0;34m\u001b[0m\u001b[0;34m\u001b[0m\u001b[0m\n\u001b[0;32m--> 464\u001b[0;31m         \u001b[0mBasePairCount2PCF\u001b[0m\u001b[0;34m.\u001b[0m\u001b[0mrun\u001b[0m\u001b[0;34m(\u001b[0m\u001b[0mself\u001b[0m\u001b[0;34m)\u001b[0m\u001b[0;34m\u001b[0m\u001b[0;34m\u001b[0m\u001b[0m\n\u001b[0m\u001b[1;32m    465\u001b[0m \u001b[0;34m\u001b[0m\u001b[0m\n\u001b[1;32m    466\u001b[0m         \u001b[0;31m# compute wp(rp) if we computed xi(rp, pi)\u001b[0m\u001b[0;34m\u001b[0m\u001b[0;34m\u001b[0m\u001b[0;34m\u001b[0m\u001b[0m\n",
      "\u001b[0;32m~/repos/nbodykit/nbodykit/algorithms/paircount_tpcf/tpcf.py\u001b[0m in \u001b[0;36mrun\u001b[0;34m(self)\u001b[0m\n\u001b[1;32m    125\u001b[0m             result = LandySzalayEstimator(pair_counter, self.data1, self.data2,\n\u001b[1;32m    126\u001b[0m                                             \u001b[0mself\u001b[0m\u001b[0;34m.\u001b[0m\u001b[0mrandoms1\u001b[0m\u001b[0;34m,\u001b[0m \u001b[0mself\u001b[0m\u001b[0;34m.\u001b[0m\u001b[0mrandoms2\u001b[0m\u001b[0;34m,\u001b[0m \u001b[0mR1R2\u001b[0m\u001b[0;34m=\u001b[0m\u001b[0mself\u001b[0m\u001b[0;34m.\u001b[0m\u001b[0mR1R2\u001b[0m\u001b[0;34m,\u001b[0m\u001b[0;34m\u001b[0m\u001b[0;34m\u001b[0m\u001b[0m\n\u001b[0;32m--> 127\u001b[0;31m                                             logger=self.logger, **attrs)\n\u001b[0m\u001b[1;32m    128\u001b[0m             \u001b[0mself\u001b[0m\u001b[0;34m.\u001b[0m\u001b[0mD1D2\u001b[0m\u001b[0;34m,\u001b[0m \u001b[0mself\u001b[0m\u001b[0;34m.\u001b[0m\u001b[0mD1R2\u001b[0m\u001b[0;34m,\u001b[0m \u001b[0mself\u001b[0m\u001b[0;34m.\u001b[0m\u001b[0mD2R1\u001b[0m\u001b[0;34m,\u001b[0m \u001b[0mself\u001b[0m\u001b[0;34m.\u001b[0m\u001b[0mR1R2\u001b[0m\u001b[0;34m,\u001b[0m \u001b[0mself\u001b[0m\u001b[0;34m.\u001b[0m\u001b[0mcorr\u001b[0m \u001b[0;34m=\u001b[0m \u001b[0mresult\u001b[0m\u001b[0;34m\u001b[0m\u001b[0;34m\u001b[0m\u001b[0m\n\u001b[1;32m    129\u001b[0m \u001b[0;34m\u001b[0m\u001b[0m\n",
      "\u001b[0;32m~/repos/nbodykit/nbodykit/algorithms/paircount_tpcf/estimators.py\u001b[0m in \u001b[0;36mLandySzalayEstimator\u001b[0;34m(pair_counter, data1, data2, randoms1, randoms2, R1R2, logger, **kwargs)\u001b[0m\n\u001b[1;32m    181\u001b[0m         \u001b[0mlogger\u001b[0m\u001b[0;34m.\u001b[0m\u001b[0minfo\u001b[0m\u001b[0;34m(\u001b[0m\u001b[0;34m\"computing randoms1 - randoms2 pair counts\"\u001b[0m\u001b[0;34m)\u001b[0m\u001b[0;34m\u001b[0m\u001b[0;34m\u001b[0m\u001b[0m\n\u001b[1;32m    182\u001b[0m     \u001b[0;32mif\u001b[0m \u001b[0;32mnot\u001b[0m \u001b[0mR1R2\u001b[0m\u001b[0;34m:\u001b[0m\u001b[0;34m\u001b[0m\u001b[0;34m\u001b[0m\u001b[0m\n\u001b[0;32m--> 183\u001b[0;31m         \u001b[0mR1R2\u001b[0m \u001b[0;34m=\u001b[0m \u001b[0mpair_counter\u001b[0m\u001b[0;34m(\u001b[0m\u001b[0mfirst\u001b[0m\u001b[0;34m=\u001b[0m\u001b[0mrandoms1\u001b[0m\u001b[0;34m,\u001b[0m \u001b[0msecond\u001b[0m\u001b[0;34m=\u001b[0m\u001b[0mrandoms2\u001b[0m\u001b[0;34m,\u001b[0m \u001b[0;34m**\u001b[0m\u001b[0mkwargs\u001b[0m\u001b[0;34m)\u001b[0m\u001b[0;34m\u001b[0m\u001b[0;34m\u001b[0m\u001b[0m\n\u001b[0m\u001b[1;32m    184\u001b[0m \u001b[0;34m\u001b[0m\u001b[0m\n\u001b[1;32m    185\u001b[0m     \u001b[0;31m# data1 x data2\u001b[0m\u001b[0;34m\u001b[0m\u001b[0;34m\u001b[0m\u001b[0;34m\u001b[0m\u001b[0m\n",
      "\u001b[0;32m~/repos/nbodykit/nbodykit/algorithms/pair_counters/mocksurvey.py\u001b[0m in \u001b[0;36m__init__\u001b[0;34m(self, mode, first, edges, cosmo, second, Nmu, pimax, ra, dec, redshift, weight, show_progress, domain_factor, **config)\u001b[0m\n\u001b[1;32m    120\u001b[0m \u001b[0;34m\u001b[0m\u001b[0m\n\u001b[1;32m    121\u001b[0m         \u001b[0;31m# run the algorithm\u001b[0m\u001b[0;34m\u001b[0m\u001b[0;34m\u001b[0m\u001b[0;34m\u001b[0m\u001b[0m\n\u001b[0;32m--> 122\u001b[0;31m         \u001b[0mself\u001b[0m\u001b[0;34m.\u001b[0m\u001b[0mrun\u001b[0m\u001b[0;34m(\u001b[0m\u001b[0;34m)\u001b[0m\u001b[0;34m\u001b[0m\u001b[0;34m\u001b[0m\u001b[0m\n\u001b[0m\u001b[1;32m    123\u001b[0m \u001b[0;34m\u001b[0m\u001b[0m\n\u001b[1;32m    124\u001b[0m     \u001b[0;32mdef\u001b[0m \u001b[0mrun\u001b[0m\u001b[0;34m(\u001b[0m\u001b[0mself\u001b[0m\u001b[0;34m)\u001b[0m\u001b[0;34m:\u001b[0m\u001b[0;34m\u001b[0m\u001b[0;34m\u001b[0m\u001b[0m\n",
      "\u001b[0;32m~/repos/nbodykit/nbodykit/algorithms/pair_counters/mocksurvey.py\u001b[0m in \u001b[0;36mrun\u001b[0;34m(self)\u001b[0m\n\u001b[1;32m    183\u001b[0m \u001b[0;34m\u001b[0m\u001b[0m\n\u001b[1;32m    184\u001b[0m         \u001b[0;31m# do the calculation\u001b[0m\u001b[0;34m\u001b[0m\u001b[0;34m\u001b[0m\u001b[0;34m\u001b[0m\u001b[0m\n\u001b[0;32m--> 185\u001b[0;31m         \u001b[0mself\u001b[0m\u001b[0;34m.\u001b[0m\u001b[0mpairs\u001b[0m \u001b[0;34m=\u001b[0m \u001b[0mfunc\u001b[0m\u001b[0;34m(\u001b[0m\u001b[0mpos1\u001b[0m\u001b[0;34m,\u001b[0m \u001b[0mw1\u001b[0m\u001b[0;34m,\u001b[0m \u001b[0mpos2\u001b[0m\u001b[0;34m,\u001b[0m \u001b[0mw2\u001b[0m\u001b[0;34m,\u001b[0m \u001b[0;34m**\u001b[0m\u001b[0mattrs\u001b[0m\u001b[0;34m[\u001b[0m\u001b[0;34m'config'\u001b[0m\u001b[0;34m]\u001b[0m\u001b[0;34m)\u001b[0m\u001b[0;34m\u001b[0m\u001b[0;34m\u001b[0m\u001b[0m\n\u001b[0m\u001b[1;32m    186\u001b[0m         \u001b[0mself\u001b[0m\u001b[0;34m.\u001b[0m\u001b[0mpairs\u001b[0m\u001b[0;34m.\u001b[0m\u001b[0mattrs\u001b[0m\u001b[0;34m[\u001b[0m\u001b[0;34m'total_wnpairs'\u001b[0m\u001b[0;34m]\u001b[0m \u001b[0;34m=\u001b[0m \u001b[0mself\u001b[0m\u001b[0;34m.\u001b[0m\u001b[0mattrs\u001b[0m\u001b[0;34m[\u001b[0m\u001b[0;34m'total_wnpairs'\u001b[0m\u001b[0;34m]\u001b[0m\u001b[0;34m\u001b[0m\u001b[0;34m\u001b[0m\u001b[0m\n\u001b[1;32m    187\u001b[0m \u001b[0;34m\u001b[0m\u001b[0m\n",
      "\u001b[0;32m~/repos/nbodykit/nbodykit/algorithms/pair_counters/corrfunc/mocks.py\u001b[0m in \u001b[0;36m__call__\u001b[0;34m(self, pos1, w1, pos2, w2, **config)\u001b[0m\n\u001b[1;32m    112\u001b[0m     \u001b[0;32mdef\u001b[0m \u001b[0m__call__\u001b[0m\u001b[0;34m(\u001b[0m\u001b[0mself\u001b[0m\u001b[0;34m,\u001b[0m \u001b[0mpos1\u001b[0m\u001b[0;34m,\u001b[0m \u001b[0mw1\u001b[0m\u001b[0;34m,\u001b[0m \u001b[0mpos2\u001b[0m\u001b[0;34m,\u001b[0m \u001b[0mw2\u001b[0m\u001b[0;34m,\u001b[0m \u001b[0;34m**\u001b[0m\u001b[0mconfig\u001b[0m\u001b[0;34m)\u001b[0m\u001b[0;34m:\u001b[0m\u001b[0;34m\u001b[0m\u001b[0;34m\u001b[0m\u001b[0m\n\u001b[1;32m    113\u001b[0m         \u001b[0mconfig\u001b[0m\u001b[0;34m[\u001b[0m\u001b[0;34m'pimax'\u001b[0m\u001b[0;34m]\u001b[0m \u001b[0;34m=\u001b[0m \u001b[0mfloat\u001b[0m\u001b[0;34m(\u001b[0m\u001b[0mself\u001b[0m\u001b[0;34m.\u001b[0m\u001b[0mpimax\u001b[0m\u001b[0;34m)\u001b[0m\u001b[0;34m\u001b[0m\u001b[0;34m\u001b[0m\u001b[0m\n\u001b[0;32m--> 114\u001b[0;31m         \u001b[0;32mreturn\u001b[0m \u001b[0mCorrfuncMocksCallable\u001b[0m\u001b[0;34m.\u001b[0m\u001b[0m__call__\u001b[0m\u001b[0;34m(\u001b[0m\u001b[0mself\u001b[0m\u001b[0;34m,\u001b[0m \u001b[0mpos1\u001b[0m\u001b[0;34m,\u001b[0m \u001b[0mw1\u001b[0m\u001b[0;34m,\u001b[0m \u001b[0mpos2\u001b[0m\u001b[0;34m,\u001b[0m \u001b[0mw2\u001b[0m\u001b[0;34m,\u001b[0m \u001b[0;34m**\u001b[0m\u001b[0mconfig\u001b[0m\u001b[0;34m)\u001b[0m\u001b[0;34m\u001b[0m\u001b[0;34m\u001b[0m\u001b[0m\n\u001b[0m",
      "\u001b[0;32m~/repos/nbodykit/nbodykit/algorithms/pair_counters/corrfunc/mocks.py\u001b[0m in \u001b[0;36m__call__\u001b[0;34m(self, pos1, w1, pos2, w2, **config)\u001b[0m\n\u001b[1;32m     50\u001b[0m         \u001b[0;31m# compute the result\u001b[0m\u001b[0;34m\u001b[0m\u001b[0;34m\u001b[0m\u001b[0;34m\u001b[0m\u001b[0m\n\u001b[1;32m     51\u001b[0m         \u001b[0msizes\u001b[0m \u001b[0;34m=\u001b[0m \u001b[0mself\u001b[0m\u001b[0;34m.\u001b[0m\u001b[0mcomm\u001b[0m\u001b[0;34m.\u001b[0m\u001b[0mallgather\u001b[0m\u001b[0;34m(\u001b[0m\u001b[0mlen\u001b[0m\u001b[0;34m(\u001b[0m\u001b[0mpos1\u001b[0m\u001b[0;34m)\u001b[0m\u001b[0;34m)\u001b[0m\u001b[0;34m\u001b[0m\u001b[0;34m\u001b[0m\u001b[0m\n\u001b[0;32m---> 52\u001b[0;31m         \u001b[0;32mreturn\u001b[0m \u001b[0mMPICorrfuncCallable\u001b[0m\u001b[0;34m.\u001b[0m\u001b[0m__call__\u001b[0m\u001b[0;34m(\u001b[0m\u001b[0mself\u001b[0m\u001b[0;34m,\u001b[0m \u001b[0msizes\u001b[0m\u001b[0;34m,\u001b[0m \u001b[0mkws\u001b[0m\u001b[0;34m,\u001b[0m \u001b[0mcallback\u001b[0m\u001b[0;34m=\u001b[0m\u001b[0mcallback\u001b[0m\u001b[0;34m)\u001b[0m\u001b[0;34m\u001b[0m\u001b[0;34m\u001b[0m\u001b[0m\n\u001b[0m\u001b[1;32m     53\u001b[0m \u001b[0;34m\u001b[0m\u001b[0m\n\u001b[1;32m     54\u001b[0m \u001b[0;34m\u001b[0m\u001b[0m\n",
      "\u001b[0;32m~/repos/nbodykit/nbodykit/algorithms/pair_counters/corrfunc/base.py\u001b[0m in \u001b[0;36m__call__\u001b[0;34m(self, loads, kwargs, callback)\u001b[0m\n\u001b[1;32m    145\u001b[0m         \u001b[0mchunks\u001b[0m \u001b[0;34m=\u001b[0m \u001b[0mnumpy\u001b[0m\u001b[0;34m.\u001b[0m\u001b[0marray_split\u001b[0m\u001b[0;34m(\u001b[0m\u001b[0mnumpy\u001b[0m\u001b[0;34m.\u001b[0m\u001b[0marange\u001b[0m\u001b[0;34m(\u001b[0m\u001b[0mloads\u001b[0m\u001b[0;34m[\u001b[0m\u001b[0mself\u001b[0m\u001b[0;34m.\u001b[0m\u001b[0mcomm\u001b[0m\u001b[0;34m.\u001b[0m\u001b[0mrank\u001b[0m\u001b[0;34m]\u001b[0m\u001b[0;34m,\u001b[0m\u001b[0mdtype\u001b[0m\u001b[0;34m=\u001b[0m\u001b[0;34m'intp'\u001b[0m\u001b[0;34m)\u001b[0m\u001b[0;34m,\u001b[0m \u001b[0mN\u001b[0m\u001b[0;34m,\u001b[0m \u001b[0maxis\u001b[0m\u001b[0;34m=\u001b[0m\u001b[0;36m0\u001b[0m\u001b[0;34m)\u001b[0m\u001b[0;34m\u001b[0m\u001b[0;34m\u001b[0m\u001b[0m\n\u001b[1;32m    146\u001b[0m         \u001b[0;32mfor\u001b[0m \u001b[0mi\u001b[0m\u001b[0;34m,\u001b[0m \u001b[0mchunk\u001b[0m \u001b[0;32min\u001b[0m \u001b[0menumerate\u001b[0m\u001b[0;34m(\u001b[0m\u001b[0mchunks\u001b[0m\u001b[0;34m)\u001b[0m\u001b[0;34m:\u001b[0m\u001b[0;34m\u001b[0m\u001b[0;34m\u001b[0m\u001b[0m\n\u001b[0;32m--> 147\u001b[0;31m             \u001b[0mthis_pc\u001b[0m \u001b[0;34m=\u001b[0m \u001b[0mrun\u001b[0m\u001b[0;34m(\u001b[0m\u001b[0mchunk\u001b[0m\u001b[0;34m)\u001b[0m\u001b[0;34m\u001b[0m\u001b[0;34m\u001b[0m\u001b[0m\n\u001b[0m\u001b[1;32m    148\u001b[0m             \u001b[0;32mif\u001b[0m \u001b[0mself\u001b[0m\u001b[0;34m.\u001b[0m\u001b[0mcomm\u001b[0m\u001b[0;34m.\u001b[0m\u001b[0mrank\u001b[0m \u001b[0;34m==\u001b[0m \u001b[0mlargest_load\u001b[0m \u001b[0;32mand\u001b[0m \u001b[0mself\u001b[0m\u001b[0;34m.\u001b[0m\u001b[0mshow_progress\u001b[0m\u001b[0;34m:\u001b[0m\u001b[0;34m\u001b[0m\u001b[0;34m\u001b[0m\u001b[0m\n\u001b[1;32m    149\u001b[0m                 \u001b[0mself\u001b[0m\u001b[0;34m.\u001b[0m\u001b[0mlogger\u001b[0m\u001b[0;34m.\u001b[0m\u001b[0minfo\u001b[0m\u001b[0;34m(\u001b[0m\u001b[0;34m\"%d%% done\"\u001b[0m \u001b[0;34m%\u001b[0m \u001b[0;34m(\u001b[0m\u001b[0mN\u001b[0m\u001b[0;34m*\u001b[0m\u001b[0;34m(\u001b[0m\u001b[0mi\u001b[0m\u001b[0;34m+\u001b[0m\u001b[0;36m1\u001b[0m\u001b[0;34m)\u001b[0m\u001b[0;34m)\u001b[0m\u001b[0;34m)\u001b[0m\u001b[0;34m\u001b[0m\u001b[0;34m\u001b[0m\u001b[0m\n",
      "\u001b[0;32m~/repos/nbodykit/nbodykit/algorithms/pair_counters/corrfunc/base.py\u001b[0m in \u001b[0;36mrun\u001b[0;34m(chunk)\u001b[0m\n\u001b[1;32m    131\u001b[0m             \u001b[0;32mif\u001b[0m \u001b[0mcallback\u001b[0m \u001b[0;32mis\u001b[0m \u001b[0;32mnot\u001b[0m \u001b[0;32mNone\u001b[0m\u001b[0;34m:\u001b[0m\u001b[0;34m\u001b[0m\u001b[0;34m\u001b[0m\u001b[0m\n\u001b[1;32m    132\u001b[0m                 \u001b[0mcallback\u001b[0m\u001b[0;34m(\u001b[0m\u001b[0mkwargs\u001b[0m\u001b[0;34m,\u001b[0m \u001b[0mchunk\u001b[0m\u001b[0;34m)\u001b[0m\u001b[0;34m\u001b[0m\u001b[0;34m\u001b[0m\u001b[0m\n\u001b[0;32m--> 133\u001b[0;31m             \u001b[0;32mreturn\u001b[0m \u001b[0mself\u001b[0m\u001b[0;34m.\u001b[0m\u001b[0m_run\u001b[0m\u001b[0;34m(\u001b[0m\u001b[0mself\u001b[0m\u001b[0;34m.\u001b[0m\u001b[0mcallable\u001b[0m\u001b[0;34m,\u001b[0m \u001b[0mkwargs\u001b[0m\u001b[0;34m)\u001b[0m\u001b[0;34m\u001b[0m\u001b[0;34m\u001b[0m\u001b[0m\n\u001b[0m\u001b[1;32m    134\u001b[0m \u001b[0;34m\u001b[0m\u001b[0m\n\u001b[1;32m    135\u001b[0m         \u001b[0;31m# log the function start\u001b[0m\u001b[0;34m\u001b[0m\u001b[0;34m\u001b[0m\u001b[0;34m\u001b[0m\u001b[0m\n",
      "\u001b[0;32m~/repos/nbodykit/nbodykit/algorithms/pair_counters/corrfunc/base.py\u001b[0m in \u001b[0;36m_run\u001b[0;34m(self, func, kws)\u001b[0m\n\u001b[1;32m    217\u001b[0m             \u001b[0mmsg\u001b[0m \u001b[0;34m+=\u001b[0m \u001b[0;34m\"stdout: %s\\n\"\u001b[0m \u001b[0;34m%\u001b[0m \u001b[0mstdout\u001b[0m\u001b[0;34m\u001b[0m\u001b[0;34m\u001b[0m\u001b[0m\n\u001b[1;32m    218\u001b[0m             \u001b[0mmsg\u001b[0m \u001b[0;34m+=\u001b[0m \u001b[0;34m\"stderr: %s\"\u001b[0m \u001b[0;34m%\u001b[0m \u001b[0mstderr\u001b[0m\u001b[0;34m\u001b[0m\u001b[0;34m\u001b[0m\u001b[0m\n\u001b[0;32m--> 219\u001b[0;31m             \u001b[0;32mraise\u001b[0m \u001b[0mRuntimeError\u001b[0m\u001b[0;34m(\u001b[0m\u001b[0mmsg\u001b[0m\u001b[0;34m)\u001b[0m\u001b[0;34m\u001b[0m\u001b[0;34m\u001b[0m\u001b[0m\n\u001b[0m\u001b[1;32m    220\u001b[0m \u001b[0;34m\u001b[0m\u001b[0m\n\u001b[1;32m    221\u001b[0m         \u001b[0;32mreturn\u001b[0m \u001b[0mCorrfuncResult\u001b[0m\u001b[0;34m(\u001b[0m\u001b[0mresult\u001b[0m\u001b[0;34m)\u001b[0m\u001b[0;34m\u001b[0m\u001b[0;34m\u001b[0m\u001b[0m\n",
      "\u001b[0;31mRuntimeError\u001b[0m: calling the function 'Corrfunc.mocks.DDrppi_mocks.DDrppi_mocks' failed, likely due to issues with input data/parameters. Open at issue at https://github.com/bccp/nbodykit/issues for further help.\nexception: RuntimeError occurred\nstdout: \nstderr: Received signal = `Interrupt: 2' (signo = 2). Aborting \n"
     ]
    }
   ],
   "source": [
    "xi = SurveyData2PCF('projected', data, random, edges, cosmo=cosmo, pimax=pimax, \n",
    "                    redshift='Z', weight='Weight', show_progress=True, **{'nthreads': 4})"
   ]
  },
  {
   "cell_type": "code",
   "execution_count": null,
   "metadata": {},
   "outputs": [],
   "source": []
  }
 ],
 "metadata": {
  "kernelspec": {
   "display_name": "Python 3",
   "language": "python",
   "name": "python3"
  },
  "language_info": {
   "codemirror_mode": {
    "name": "ipython",
    "version": 3
   },
   "file_extension": ".py",
   "mimetype": "text/x-python",
   "name": "python",
   "nbconvert_exporter": "python",
   "pygments_lexer": "ipython3",
   "version": "3.6.7"
  }
 },
 "nbformat": 4,
 "nbformat_minor": 2
}
