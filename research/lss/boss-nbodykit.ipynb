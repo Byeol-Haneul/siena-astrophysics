{
 "cells": [
  {
   "cell_type": "markdown",
   "metadata": {},
   "source": [
    "## Reproduce the BOSS cosmology results\n",
    "\n",
    "Some notes and papers:\n",
    "\n",
    "* https://nbodykit.readthedocs.io/en/latest/cookbook/convpower.html\n",
    "* [Baryon Acoustic Oscillations](https://arxiv.org/abs/0910.5224) is a nice reference paper on the BAO feature.\n",
    "* [BOSS LSS catalogs](https://www.sdss.org/dr14/spectro/lss/#BOSS)\n",
    "\n",
    "#### Getting the data\n",
    "* wget \"https://data.sdss.org/sas/dr12/boss/lss/galaxy_DR12v5_CMASSLOWZTOT_North.fits.gz\"\n",
    "* wget \"https://data.sdss.org/sas/dr12/boss/lss/galaxy_DR12v5_CMASSLOWZTOT_South.fits.gz\"\n",
    "* wget \"https://data.sdss.org/sas/dr12/boss/lss/random0_DR12v5_CMASSLOWZTOT_North.fits.gz\"\n",
    "* wget \"https://data.sdss.org/sas/dr12/boss/lss/random0_DR12v5_CMASSLOWZTOT_South.fits.gz\""
   ]
  },
  {
   "cell_type": "code",
   "execution_count": 70,
   "metadata": {},
   "outputs": [],
   "source": [
    "import os, pdb\n",
    "import numpy as np\n",
    "import matplotlib.pyplot as plt"
   ]
  },
  {
   "cell_type": "code",
   "execution_count": 2,
   "metadata": {},
   "outputs": [],
   "source": [
    "from nbodykit.lab import *\n",
    "from nbodykit import setup_logging, style\n",
    "#from nbodykit.source.catalog import FITSCatalog\n",
    "#from nbodykit.algorithms import SurveyData2PCF"
   ]
  },
  {
   "cell_type": "code",
   "execution_count": 3,
   "metadata": {},
   "outputs": [],
   "source": [
    "plt.style.use(style.notebook)\n",
    "%matplotlib inline"
   ]
  },
  {
   "cell_type": "markdown",
   "metadata": {},
   "source": [
    "### Preliminaries"
   ]
  },
  {
   "cell_type": "code",
   "execution_count": 4,
   "metadata": {},
   "outputs": [],
   "source": [
    "setup_logging()"
   ]
  },
  {
   "cell_type": "code",
   "execution_count": 5,
   "metadata": {},
   "outputs": [],
   "source": [
    "cosmo = cosmology.Cosmology(h=0.7).match(Omega0_m=0.31)"
   ]
  },
  {
   "cell_type": "code",
   "execution_count": 6,
   "metadata": {},
   "outputs": [],
   "source": [
    "datadir = os.path.join(os.getenv('IM_DATA_DIR'), 'sdss', 'dr12')"
   ]
  },
  {
   "cell_type": "code",
   "execution_count": 138,
   "metadata": {},
   "outputs": [],
   "source": [
    "def subsample_data(randoms=False, nsample=None, clobber=False):\n",
    "    \"\"\"Read and subsample the data or randoms LSS catalog, for speed.\n",
    "    \n",
    "    Here, we select objects with z=0.4-0.6 (see Alam+17, Table 2).\n",
    "    \n",
    "    \"\"\"\n",
    "    import fitsio\n",
    "    import dask.array as da    \n",
    "    \n",
    "    if randoms:\n",
    "        dataset = 'DR12v5-randoms'\n",
    "        columns = ['RA', 'DEC', 'Z', 'WEIGHT_FKP',]\n",
    "        infile = os.path.join(datadir, 'random0_DR12v5_CMASSLOWZTOT_North.fits.gz')\n",
    "        outfile = os.path.join(datadir, 'subset_random0_DR12v5_CMASSLOWZTOT_North.fits')\n",
    "    else:\n",
    "        dataset = 'DR12v5'\n",
    "        columns = ['RA', 'DEC', 'Z', 'WEIGHT_FKP', 'WEIGHT_CP', 'WEIGHT_NOZ', 'WEIGHT_SYSTOT',]\n",
    "        infile = os.path.join(datadir, 'galaxy_DR12v5_CMASSLOWZTOT_North.fits.gz')\n",
    "        outfile = os.path.join(datadir, 'subset_galaxy_DR12v5_CMASSLOWZTOT_North.fits')\n",
    "        \n",
    "    if not os.path.exists(outfile) or clobber:\n",
    "        finfo = fitsio.FITS(infile)\n",
    "        \n",
    "        # Read a subset of the data.\n",
    "        if nsample is None:\n",
    "            rows = None\n",
    "        else:\n",
    "            rows = np.arange(0, finfo[1].get_nrows(), nsample)\n",
    "            \n",
    "        data = finfo[1].read(upper=True, columns=columns, rows=rows)\n",
    "        #data = FITSCatalog(infile)\n",
    "        print('Read {} / {} rows from {}'.format(len(data), finfo[1].get_nrows(), infile))\n",
    "    \n",
    "        keep = (data['Z'] > 0.4) * (data['Z'] < 0.6)\n",
    "        nobj = np.sum(keep)\n",
    "        print('Keeping {} / {} galaxies with 0.4<z<0.6.'.format(nobj, len(data)))\n",
    "        _subdata = data[keep]\n",
    "        #subdata = da.from_array(data[keep], chunks=np.sum(keep))\n",
    "    \n",
    "        # Add Cartesian coordinates\n",
    "        xyzpos = transform.SkyToCartesian(_subdata['RA'], _subdata['DEC'], _subdata['Z'], cosmo=cosmo).compute()\n",
    "        columns += ['POSITION']\n",
    "        \n",
    "        # This doesn't work!\n",
    "        #np.lib.recfunctions.append_fields(_subdata, 'POSITION', xyzpos, dtypes=np.dtype(('POSITION', '>f8', (3,))))\n",
    "\n",
    "        subdata = np.empty(_subdata.shape, dtype=np.dtype( _subdata.dtype.descr + [('POSITION', xyzpos.dtype, (3, ))] ))\n",
    "        for ff in _subdata.dtype.fields:\n",
    "            subdata[ff] = _subdata[ff]\n",
    "        subdata['POSITION'] = xyzpos\n",
    "        del _subdata\n",
    "        \n",
    "        print('Writing {} rows to {}'.format(nobj, outfile))\n",
    "        #subdata.save(outfile, columns, dataset=dataset)\n",
    "        fitsio.write(outfile, subdata, clobber=True)\n",
    "        del subdata\n",
    "    else:\n",
    "        print('Reading {}'.format(outfile))\n",
    "        out = FITSCatalog(outfile)\n",
    "        \n",
    "        #if not randoms:\n",
    "        #    # Read and compute the statistical weight from Anderson+12, equation 18:\n",
    "        #    out = FITSCatalog(outfile)\n",
    "        #    out['Weight'] = out['WEIGHT_SYSTOT'] * ( out['WEIGHT_NOZ'] + out['WEIGHT_CP'] - 1 )\n",
    "    \n",
    "    return out"
   ]
  },
  {
   "cell_type": "code",
   "execution_count": 139,
   "metadata": {},
   "outputs": [
    {
     "name": "stderr",
     "output_type": "stream",
     "text": [
      "[ 262207.08 ]   0: 01-03 06:29  CatalogSource   INFO     Extra arguments to FileType: ('/Users/ioannis/research/data/sdss/dr12/subset_galaxy_DR12v5_CMASSLOWZTOT_North.fits',) {}\n"
     ]
    },
    {
     "name": "stdout",
     "output_type": "stream",
     "text": [
      "Reading /Users/ioannis/research/data/sdss/dr12/subset_galaxy_DR12v5_CMASSLOWZTOT_North.fits\n",
      "CPU times: user 4.12 ms, sys: 2.06 ms, total: 6.18 ms\n",
      "Wall time: 4.47 ms\n"
     ]
    }
   ],
   "source": [
    "%time data = subsample_data(nsample=32, clobber=False)"
   ]
  },
  {
   "cell_type": "code",
   "execution_count": 140,
   "metadata": {},
   "outputs": [
    {
     "data": {
      "text/plain": [
       "array([1., 1., 1., ..., 1., 1., 1.])"
      ]
     },
     "execution_count": 140,
     "metadata": {},
     "output_type": "execute_result"
    }
   ],
   "source": [
    "data.Weight().compute()"
   ]
  },
  {
   "cell_type": "code",
   "execution_count": 141,
   "metadata": {},
   "outputs": [
    {
     "data": {
      "text/plain": [
       "<bound method CatalogSource.Weight of FITSCatalog(size=813308, FileStack(FITSFile(path=/Users/ioannis/research/data/sdss/dr12/subset_random0_DR12v5_CMASSLOWZTOT_North.fits, dataset=None, ncolumns=5, shape=(813308,)>, ... 1 files))>"
      ]
     },
     "execution_count": 141,
     "metadata": {},
     "output_type": "execute_result"
    }
   ],
   "source": [
    "random.Weight"
   ]
  },
  {
   "cell_type": "code",
   "execution_count": 142,
   "metadata": {},
   "outputs": [
    {
     "name": "stderr",
     "output_type": "stream",
     "text": [
      "[ 262217.22 ]   0: 01-03 06:29  CatalogSource   INFO     Extra arguments to FileType: ('/Users/ioannis/research/data/sdss/dr12/subset_random0_DR12v5_CMASSLOWZTOT_North.fits',) {}\n"
     ]
    },
    {
     "name": "stdout",
     "output_type": "stream",
     "text": [
      "Reading /Users/ioannis/research/data/sdss/dr12/subset_random0_DR12v5_CMASSLOWZTOT_North.fits\n",
      "CPU times: user 3.56 ms, sys: 1.63 ms, total: 5.19 ms\n",
      "Wall time: 10.2 ms\n"
     ]
    }
   ],
   "source": [
    "%time random = subsample_data(randoms=True, nsample=32, clobber=False)"
   ]
  },
  {
   "cell_type": "code",
   "execution_count": 143,
   "metadata": {},
   "outputs": [
    {
     "name": "stdout",
     "output_type": "stream",
     "text": [
      "Data columns: ['DEC', 'POSITION', 'RA', 'Selection', 'Value', 'WEIGHT_CP', 'WEIGHT_FKP', 'WEIGHT_NOZ', 'WEIGHT_SYSTOT', 'Weight', 'Z']\n",
      "Random columns: ['DEC', 'POSITION', 'RA', 'Selection', 'Value', 'WEIGHT_FKP', 'Weight', 'Z']\n"
     ]
    }
   ],
   "source": [
    "print('Data columns: {}'.format(data.columns))\n",
    "print('Random columns: {}'.format(random.columns))"
   ]
  },
  {
   "cell_type": "code",
   "execution_count": 145,
   "metadata": {},
   "outputs": [],
   "source": [
    "#rr = (data['WEIGHT_SYSTOT'] * (data['WEIGHT_NOZ'] + data['WEIGHT_CP'] - 1)).compute()\n",
    "#data.Weight"
   ]
  },
  {
   "cell_type": "markdown",
   "metadata": {},
   "source": [
    "### Generate n(z) for the data."
   ]
  },
  {
   "cell_type": "code",
   "execution_count": 146,
   "metadata": {},
   "outputs": [],
   "source": [
    "def get_nofz(totarea=9329, north=True):\n",
    "    \"\"\"Build n(z) for the data.  The total area is from Alam+17, Table 2.\n",
    "    \n",
    "    \"\"\"\n",
    "    from scipy.interpolate import InterpolatedUnivariateSpline\n",
    "    \n",
    "    if north:\n",
    "        area = totarea * 5.3 / 7.3\n",
    "    else:\n",
    "        area = totarea * 2.0 / 7.3\n",
    "    \n",
    "    # compute n(z) from the randoms\n",
    "    fsky = area / ( 4 * np.pi * (180 / np.pi)**2 ) # sky fraction from Alam+17\n",
    "    zhist = RedshiftHistogram(random, fsky, cosmo, redshift='Z')\n",
    "    \n",
    "    # re-normalize to the total size of the data catalog\n",
    "    alpha = 1.0 * data.csize / random.csize\n",
    "    print('Renormalization factor = {:.5f}'.format(alpha))\n",
    "    zhist.nbar *= alpha\n",
    "    \n",
    "    # Compute the interpolator we'll use below.\n",
    "    nofz = InterpolatedUnivariateSpline(zhist.bin_centers, zhist.nbar)\n",
    "    \n",
    "    return zhist, nofz"
   ]
  },
  {
   "cell_type": "code",
   "execution_count": 147,
   "metadata": {},
   "outputs": [],
   "source": [
    "def qa_zhist(zhist):\n",
    "    fig, ax = plt.subplots()\n",
    "    ax.plot(zhist.bin_centers, zhist.nbar)\n",
    "    ax.set_xlabel(r'$z$', fontsize=16)\n",
    "    ax.set_ylabel(r'$n(z)$ $[h^{3} \\mathrm{Mpc}^{-3}]$', fontsize=16)    "
   ]
  },
  {
   "cell_type": "code",
   "execution_count": 148,
   "metadata": {},
   "outputs": [
    {
     "name": "stderr",
     "output_type": "stream",
     "text": [
      "[ 262245.33 ]   0: 01-03 06:29  RedshiftHistogram INFO     using Scott's rule to determine optimal binning; h = 1.90e-03, N_bins = 106\n",
      "[ 262245.55 ]   0: 01-03 06:29  RedshiftHistogram INFO     using cosmology {'output': 'vTk dTk mPk', 'extra metric transfer functions': 'y', 'n_s': 0.9667, 'gauge': 'synchronous', 'N_ur': 2.0328, 'h': 0.7, 'T_cmb': 2.7255, 'N_ncdm': 1, 'P_k_max_h/Mpc': 10.0, 'z_max_pk': 100.0, 'Omega_b': 0.04775550899153668, 'Omega_cdm': 0.2609299279412303, 'm_ncdm': [0.06]} to compute volume in units of (Mpc/h)^3\n",
      "[ 262245.55 ]   0: 01-03 06:29  RedshiftHistogram INFO     sky fraction used in volume calculation: 0.1642\n"
     ]
    },
    {
     "name": "stdout",
     "output_type": "stream",
     "text": [
      "Renormalization factor = 0.01922\n"
     ]
    }
   ],
   "source": [
    "zhist, nofz = get_nofz()"
   ]
  },
  {
   "cell_type": "code",
   "execution_count": 152,
   "metadata": {},
   "outputs": [
    {
     "data": {
      "image/png": "[encoded data removed]",
      "text/plain": [
       "<Figure size 432x288 with 1 Axes>"
      ]
     },
     "metadata": {
      "needs_background": "light"
     },
     "output_type": "display_data"
    }
   ],
   "source": [
    "qa_zhist(zhist)"
   ]
  },
  {
   "cell_type": "markdown",
   "metadata": {},
   "source": [
    "### Instantiate an FKPCatalog object by combining the data and randoms."
   ]
  },
  {
   "cell_type": "code",
   "execution_count": 160,
   "metadata": {},
   "outputs": [],
   "source": [
    "data['NZ'] = nofz(data['Z'])\n",
    "random['NZ'] = nofz(random['Z'])\n",
    "fkp = FKPCatalog(data, random)\n",
    "\n",
    "fkp['data/FKPWeight'] = 1.0 / (1 + fkp['data/NZ'] * 2e4)\n",
    "fkp['randoms/FKPWeight'] = 1.0 / (1 + fkp['randoms/NZ'] * 2e4)\n",
    "\n",
    "fkp['data/Weight'] = (data['WEIGHT_SYSTOT'] * (data['WEIGHT_NOZ'] + data['WEIGHT_CP'] - 1)).compute()\n",
    "fkp['randoms/Weight'] = np.ones(len(random))"
   ]
  },
  {
   "cell_type": "code",
   "execution_count": 164,
   "metadata": {},
   "outputs": [
    {
     "data": {
      "text/plain": [
       "array([9.59187480e-06, 1.20108503e-05, 9.52562415e-06, ...,\n",
       "       6.23083132e-06, 6.62146989e-06, 6.18484949e-06])"
      ]
     },
     "execution_count": 164,
     "metadata": {},
     "output_type": "execute_result"
    }
   ],
   "source": [
    "data['NZ'].compute()"
   ]
  },
  {
   "cell_type": "code",
   "execution_count": 158,
   "metadata": {},
   "outputs": [],
   "source": [
    "#fkp['data/FKPWeight'].compute(), data['WEIGHT_FKP'].compute()"
   ]
  },
  {
   "cell_type": "code",
   "execution_count": 162,
   "metadata": {},
   "outputs": [
    {
     "data": {
      "text/plain": [
       "array([0.9976136 , 1.0001835 , 0.9981984 , ..., 1.5029838 , 0.97167385,\n",
       "       1.1953032 ], dtype=float32)"
      ]
     },
     "execution_count": 162,
     "metadata": {},
     "output_type": "execute_result"
    }
   ],
   "source": [
    "fkp['data/Weight'].compute()"
   ]
  },
  {
   "cell_type": "code",
   "execution_count": 167,
   "metadata": {},
   "outputs": [
    {
     "name": "stdout",
     "output_type": "stream",
     "text": [
      "Help on method to_mesh in module nbodykit.algorithms.convpower.catalog:\n",
      "\n",
      "to_mesh(Nmesh=None, BoxSize=None, BoxCenter=None, dtype='f4', interlaced=False, compensated=False, resampler='cic', fkp_weight='FKPWeight', comp_weight='Weight', selection='Selection', position='Position', bbox_from_species=None, window=None, nbar=None) method of nbodykit.algorithms.convpower.catalog.FKPCatalog instance\n",
      "    Convert the FKPCatalog to a mesh, which knows how to \"paint\" the\n",
      "    FKP density field.\n",
      "    \n",
      "    Additional keywords to the :func:`to_mesh` function include the\n",
      "    FKP weight column, completeness weight column, and the column\n",
      "    specifying the number density as a function of redshift.\n",
      "    \n",
      "    Parameters\n",
      "    ----------\n",
      "    Nmesh : int, 3-vector, optional\n",
      "        the number of cells per box side; if not specified in `attrs`, this\n",
      "        must be provided\n",
      "    dtype : str, dtype, optional\n",
      "        the data type of the mesh when painting\n",
      "    interlaced : bool, optional\n",
      "        whether to use interlacing to reduce aliasing when painting the\n",
      "        particles on the mesh\n",
      "    compensated : bool, optional\n",
      "        whether to apply a Fourier-space transfer function to account for\n",
      "        the effects of the gridding + aliasing\n",
      "    resampler : str, optional\n",
      "        the string name of the resampler to use when interpolating the\n",
      "        particles to the mesh; see ``pmesh.window.methods`` for choices\n",
      "    fkp_weight : str, optional\n",
      "        the name of the column in the source specifying the FKP weight;\n",
      "        this weight is applied to the FKP density field:\n",
      "        ``n_data - alpha*n_randoms``\n",
      "    comp_weight : str, optional\n",
      "        the name of the column in the source specifying the completeness\n",
      "        weight; this weight is applied to the individual fields, either\n",
      "        ``n_data``  or ``n_random``\n",
      "    selection : str, optional\n",
      "        the name of the column used to select a subset of the source when\n",
      "        painting\n",
      "    position : str, optional\n",
      "        the name of the column that specifies the position data of the\n",
      "        objects in the catalog\n",
      "    bbox_from_species: str, optional\n",
      "        if given, use the species to infer a bbox.\n",
      "        if not give, will try random, then data (if random is empty)\n",
      "    window : deprecated.\n",
      "        use resampler=\n",
      "    nbar: deprecated.\n",
      "        deprecated. set nbar in the call to FKPCatalog()\n",
      "\n"
     ]
    }
   ],
   "source": [
    "help(fkp.to_mesh)"
   ]
  },
  {
   "cell_type": "code",
   "execution_count": 168,
   "metadata": {},
   "outputs": [
    {
     "ename": "ValueError",
     "evalue": "source does not contain columns: {'data/POSITION'}; try adding columns via `source[column] = data`",
     "output_type": "error",
     "traceback": [
      "\u001b[0;31m---------------------------------------------------------------------------\u001b[0m",
      "\u001b[0;31mValueError\u001b[0m                                Traceback (most recent call last)",
      "\u001b[0;32m<ipython-input-168-a89df57dff1d>\u001b[0m in \u001b[0;36m<module>\u001b[0;34m\u001b[0m\n\u001b[0;32m----> 1\u001b[0;31m \u001b[0mmesh\u001b[0m \u001b[0;34m=\u001b[0m \u001b[0mfkp\u001b[0m\u001b[0;34m.\u001b[0m\u001b[0mto_mesh\u001b[0m\u001b[0;34m(\u001b[0m\u001b[0mNmesh\u001b[0m\u001b[0;34m=\u001b[0m\u001b[0;36m256\u001b[0m\u001b[0;34m,\u001b[0m \u001b[0mnbar\u001b[0m\u001b[0;34m=\u001b[0m\u001b[0;34m'NZ'\u001b[0m\u001b[0;34m,\u001b[0m \u001b[0mcomp_weight\u001b[0m\u001b[0;34m=\u001b[0m\u001b[0;34m'Weight'\u001b[0m\u001b[0;34m,\u001b[0m \u001b[0mfkp_weight\u001b[0m\u001b[0;34m=\u001b[0m\u001b[0;34m'FKPWeight'\u001b[0m\u001b[0;34m,\u001b[0m \u001b[0mposition\u001b[0m\u001b[0;34m=\u001b[0m\u001b[0;34m'data/POSITION'\u001b[0m\u001b[0;34m)\u001b[0m\u001b[0;34m\u001b[0m\u001b[0;34m\u001b[0m\u001b[0m\n\u001b[0m",
      "\u001b[0;32m~/repos/nbodykit/nbodykit/algorithms/convpower/catalog.py\u001b[0m in \u001b[0;36mto_mesh\u001b[0;34m(self, Nmesh, BoxSize, BoxCenter, dtype, interlaced, compensated, resampler, fkp_weight, comp_weight, selection, position, bbox_from_species, window, nbar)\u001b[0m\n\u001b[1;32m    224\u001b[0m         \u001b[0;32melse\u001b[0m\u001b[0;34m:\u001b[0m\u001b[0;34m\u001b[0m\u001b[0;34m\u001b[0m\u001b[0m\n\u001b[1;32m    225\u001b[0m             \u001b[0;32mif\u001b[0m \u001b[0mself\u001b[0m\u001b[0;34m[\u001b[0m\u001b[0;34m'randoms'\u001b[0m\u001b[0;34m]\u001b[0m\u001b[0;34m.\u001b[0m\u001b[0mcsize\u001b[0m \u001b[0;34m>\u001b[0m \u001b[0;36m0\u001b[0m\u001b[0;34m:\u001b[0m\u001b[0;34m\u001b[0m\u001b[0;34m\u001b[0m\u001b[0m\n\u001b[0;32m--> 226\u001b[0;31m                 \u001b[0mBoxSize1\u001b[0m\u001b[0;34m,\u001b[0m \u001b[0mBoxCenter1\u001b[0m \u001b[0;34m=\u001b[0m \u001b[0mself\u001b[0m\u001b[0;34m.\u001b[0m\u001b[0m_define_bbox\u001b[0m\u001b[0;34m(\u001b[0m\u001b[0mposition\u001b[0m\u001b[0;34m,\u001b[0m \u001b[0mselection\u001b[0m\u001b[0;34m,\u001b[0m \u001b[0;34m\"randoms\"\u001b[0m\u001b[0;34m)\u001b[0m\u001b[0;34m\u001b[0m\u001b[0;34m\u001b[0m\u001b[0m\n\u001b[0m\u001b[1;32m    227\u001b[0m             \u001b[0;32melse\u001b[0m\u001b[0;34m:\u001b[0m\u001b[0;34m\u001b[0m\u001b[0;34m\u001b[0m\u001b[0m\n\u001b[1;32m    228\u001b[0m                 \u001b[0mBoxSize1\u001b[0m\u001b[0;34m,\u001b[0m \u001b[0mBoxCenter1\u001b[0m \u001b[0;34m=\u001b[0m \u001b[0mself\u001b[0m\u001b[0;34m.\u001b[0m\u001b[0m_define_bbox\u001b[0m\u001b[0;34m(\u001b[0m\u001b[0mposition\u001b[0m\u001b[0;34m,\u001b[0m \u001b[0mselection\u001b[0m\u001b[0;34m,\u001b[0m \u001b[0;34m\"data\"\u001b[0m\u001b[0;34m)\u001b[0m\u001b[0;34m\u001b[0m\u001b[0;34m\u001b[0m\u001b[0m\n",
      "\u001b[0;32m~/repos/nbodykit/nbodykit/algorithms/convpower/catalog.py\u001b[0m in \u001b[0;36m_define_bbox\u001b[0;34m(self, position, selection, species)\u001b[0m\n\u001b[1;32m    126\u001b[0m \u001b[0;34m\u001b[0m\u001b[0m\n\u001b[1;32m    127\u001b[0m         \u001b[0;31m# compute the min/max of the position data\u001b[0m\u001b[0;34m\u001b[0m\u001b[0;34m\u001b[0m\u001b[0;34m\u001b[0m\u001b[0m\n\u001b[0;32m--> 128\u001b[0;31m         \u001b[0mpos\u001b[0m\u001b[0;34m,\u001b[0m \u001b[0msel\u001b[0m \u001b[0;34m=\u001b[0m \u001b[0mself\u001b[0m\u001b[0;34m[\u001b[0m\u001b[0mspecies\u001b[0m\u001b[0;34m]\u001b[0m\u001b[0;34m.\u001b[0m\u001b[0mread\u001b[0m\u001b[0;34m(\u001b[0m\u001b[0;34m[\u001b[0m\u001b[0mposition\u001b[0m\u001b[0;34m,\u001b[0m \u001b[0mselection\u001b[0m\u001b[0;34m]\u001b[0m\u001b[0;34m)\u001b[0m\u001b[0;34m\u001b[0m\u001b[0;34m\u001b[0m\u001b[0m\n\u001b[0m\u001b[1;32m    129\u001b[0m         \u001b[0mpos_min\u001b[0m\u001b[0;34m,\u001b[0m \u001b[0mpos_max\u001b[0m \u001b[0;34m=\u001b[0m \u001b[0mget_data_bounds\u001b[0m\u001b[0;34m(\u001b[0m\u001b[0mpos\u001b[0m\u001b[0;34m,\u001b[0m \u001b[0mself\u001b[0m\u001b[0;34m.\u001b[0m\u001b[0mcomm\u001b[0m\u001b[0;34m,\u001b[0m \u001b[0mselection\u001b[0m\u001b[0;34m=\u001b[0m\u001b[0msel\u001b[0m\u001b[0;34m)\u001b[0m\u001b[0;34m\u001b[0m\u001b[0;34m\u001b[0m\u001b[0m\n\u001b[1;32m    130\u001b[0m \u001b[0;34m\u001b[0m\u001b[0m\n",
      "\u001b[0;32m~/repos/nbodykit/nbodykit/base/catalog.py\u001b[0m in \u001b[0;36mread\u001b[0;34m(self, columns)\u001b[0m\n\u001b[1;32m    666\u001b[0m             \u001b[0mmsg\u001b[0m \u001b[0;34m=\u001b[0m \u001b[0;34m\"source does not contain columns: %s; \"\u001b[0m \u001b[0;34m%\u001b[0m\u001b[0mstr\u001b[0m\u001b[0;34m(\u001b[0m\u001b[0mmissing\u001b[0m\u001b[0;34m)\u001b[0m\u001b[0;34m\u001b[0m\u001b[0;34m\u001b[0m\u001b[0m\n\u001b[1;32m    667\u001b[0m             \u001b[0mmsg\u001b[0m \u001b[0;34m+=\u001b[0m \u001b[0;34m\"try adding columns via `source[column] = data`\"\u001b[0m\u001b[0;34m\u001b[0m\u001b[0;34m\u001b[0m\u001b[0m\n\u001b[0;32m--> 668\u001b[0;31m             \u001b[0;32mraise\u001b[0m \u001b[0mValueError\u001b[0m\u001b[0;34m(\u001b[0m\u001b[0mmsg\u001b[0m\u001b[0;34m)\u001b[0m\u001b[0;34m\u001b[0m\u001b[0;34m\u001b[0m\u001b[0m\n\u001b[0m\u001b[1;32m    669\u001b[0m \u001b[0;34m\u001b[0m\u001b[0m\n\u001b[1;32m    670\u001b[0m         \u001b[0;32mreturn\u001b[0m \u001b[0;34m[\u001b[0m\u001b[0mself\u001b[0m\u001b[0;34m[\u001b[0m\u001b[0mcol\u001b[0m\u001b[0;34m]\u001b[0m \u001b[0;32mfor\u001b[0m \u001b[0mcol\u001b[0m \u001b[0;32min\u001b[0m \u001b[0mcolumns\u001b[0m\u001b[0;34m]\u001b[0m\u001b[0;34m\u001b[0m\u001b[0;34m\u001b[0m\u001b[0m\n",
      "\u001b[0;31mValueError\u001b[0m: source does not contain columns: {'data/POSITION'}; try adding columns via `source[column] = data`"
     ]
    }
   ],
   "source": [
    "mesh = fkp.to_mesh(Nmesh=256, nbar='NZ', comp_weight='Weight', fkp_weight='FKPWeight', position='data/POSITION')"
   ]
  },
  {
   "cell_type": "code",
   "execution_count": null,
   "metadata": {},
   "outputs": [],
   "source": []
  }
 ],
 "metadata": {
  "kernelspec": {
   "display_name": "Python 3",
   "language": "python",
   "name": "python3"
  },
  "language_info": {
   "codemirror_mode": {
    "name": "ipython",
    "version": 3
   },
   "file_extension": ".py",
   "mimetype": "text/x-python",
   "name": "python",
   "nbconvert_exporter": "python",
   "pygments_lexer": "ipython3",
   "version": "3.6.7"
  }
 },
 "nbformat": 4,
 "nbformat_minor": 2
}
