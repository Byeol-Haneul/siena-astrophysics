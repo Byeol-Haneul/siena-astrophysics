{
 "cells": [
  {
   "cell_type": "markdown",
   "metadata": {},
   "source": [
    "# Exploration of the UPenn PhotDec catalogs\n",
    "\n",
    "The goal of this notebook is to play around with the data released by A. Meert and collaborators at  \n",
    "http://alan-meert-website-aws.s3-website-us-east-1.amazonaws.com/fit_catalog/download/index.html\n",
    "\n",
    "Relevant and related papers:\n",
    "* [Vikram et al. 2010, *PyMorph: Automated Galaxy Structural Parameter Estimation using Python*](https://arxiv.org/abs/1007.4965)\n",
    "\n",
    "\n",
    "* [Meert et al. 2013, *Simulations of single- and two-component galaxy decompositions for spectroscopically selected galaxies from the SDSS*](http://adsabs.harvard.edu/abs/2013MNRAS.433.1344M)\n",
    "* [Meert et al. 2015, *A catalogue of 2D photometric decompositions in the SDSS-DR7 spectroscopic main galaxy sample: preferred models and systematics*](http://adsabs.harvard.edu/abs/2015MNRAS.446.3943M)\n",
    "* [Meert et al. 2016, *A catalogue of 2D photometric decompositions in the SDSS-DR7 spectroscopic main galaxy sample: extension to g and i bands*](http://adsabs.harvard.edu/abs/2016MNRAS.455.2440M)  \n",
    "\n",
    "\n",
    "* [Bernardi et al. 2013, *The massive end of the luminosity and stellar mass functions: dependence on the fit to the light profile*](http://adsabs.harvard.edu/abs/2013MNRAS.436..697B)\n",
    "* [Bernardi et al. 2014, *Systematic effects on the size-luminosity relations of early- and late-type galaxies: dependence on model fitting and morphology*](http://adsabs.harvard.edu/abs/2014MNRAS.443..874B)\n",
    "* [Bernardi et al. 2016, *The massive end of the luminosity and stellar mass functions and clustering from CMASS to SDSS: evidence for and against passive evolution*](http://adsabs.harvard.edu/abs/2016MNRAS.455.4122B)\n",
    "* [Bernardi et al. 2017a, *The high mass end of the stellar mass function: Dependence on stellar population models and agreement between fits to the light profile*](http://adsabs.harvard.edu/abs/2017MNRAS.467.2217B)\n",
    "\n",
    "\n",
    "* [Fischer et al. 2017, *Comparing pymorph and SDSS photometry - I. Background sky and model fitting effects*](http://adsabs.harvard.edu/abs/2017MNRAS.467..490F)\n",
    "* [Bernardi et al. 2017b, *Comparing pymorph and SDSS photometry - II. The differences are more than semantics and are not dominated by intracluster light*](http://adsabs.harvard.edu/abs/2017MNRAS.468.2569B)\n",
    "\n",
    "\n",
    "* [Mendel et al. 2014, *A Catalog of Bulge, Disk, and Total Stellar Mass Estimates for the Sloan Digital Sky Survey*](http://adsabs.harvard.edu/abs/2014ApJS..210....3M)"
   ]
  },
  {
   "cell_type": "markdown",
   "metadata": {},
   "source": [
    "### Imports and paths"
   ]
  },
  {
   "cell_type": "code",
   "execution_count": 1,
   "metadata": {
    "collapsed": true
   },
   "outputs": [],
   "source": [
    "import os\n",
    "import numpy as np\n",
    "\n",
    "import fitsio\n",
    "import matplotlib.pyplot as plt\n",
    "from corner import corner"
   ]
  },
  {
   "cell_type": "code",
   "execution_count": 2,
   "metadata": {},
   "outputs": [
    {
     "name": "stdout",
     "output_type": "stream",
     "text": [
      "Populating the interactive namespace from numpy and matplotlib\n"
     ]
    }
   ],
   "source": [
    "%pylab inline"
   ]
  },
  {
   "cell_type": "code",
   "execution_count": 3,
   "metadata": {
    "collapsed": true
   },
   "outputs": [],
   "source": [
    "basicdir = os.path.join(os.getenv('IM_DATA_DIR'), 'upenn-photdec', 'basic-catalog', 'v2')\n",
    "adddir = os.path.join(os.getenv('IM_DATA_DIR'), 'upenn-photdec', 'additional-catalogs')"
   ]
  },
  {
   "cell_type": "markdown",
   "metadata": {},
   "source": [
    "### Read the parent CAST catalog.\n",
    "Read the parent SDSS (*CAST*) catalog which defines the sample."
   ]
  },
  {
   "cell_type": "code",
   "execution_count": 4,
   "metadata": {},
   "outputs": [
    {
     "data": {
      "text/plain": [
       "\n",
       "  file: /Users/ioannis/research/data/upenn-photdec/basic-catalog/v2/UPenn_PhotDec_CAST.fits\n",
       "  extension: 1\n",
       "  type: BINARY_TBL\n",
       "  rows: 670722\n",
       "  column info:\n",
       "    galcount            i4  \n",
       "    objid               i8  \n",
       "    SDSSIAU            S24  \n",
       "    badflag             i4  \n",
       "    nchild              i2  \n",
       "    mode                i2  \n",
       "    run                 i2  \n",
       "    rerun               i2  \n",
       "    camCol              i2  \n",
       "    field               i2  \n",
       "    obj                 i2  \n",
       "    stripe              i4  \n",
       "    startmu             i4  \n",
       "    specobjid           i8  \n",
       "    plate               i2  \n",
       "    mjd                 i4  \n",
       "    fiberid             i2  \n",
       "    ra                  f4  \n",
       "    dec                 f4  \n",
       "    z                   f4  \n",
       "    veldisp             f4  \n",
       "    veldispErr          f4  \n",
       "    eclass              f4  \n",
       "    p_el_debiased       f4  \n",
       "    p_cs_debiased       f4  \n",
       "    spiral              i4  \n",
       "    elliptical          i4  \n",
       "    uncertain           i4  "
      ]
     },
     "execution_count": 4,
     "metadata": {},
     "output_type": "execute_result"
    }
   ],
   "source": [
    "castfile = os.path.join(basicdir, 'UPenn_PhotDec_CAST.fits')\n",
    "castinfo = fitsio.FITS(castfile)\n",
    "castinfo[1]"
   ]
  },
  {
   "cell_type": "code",
   "execution_count": 6,
   "metadata": {
    "collapsed": true
   },
   "outputs": [],
   "source": [
    "allcast = castinfo[1].read()"
   ]
  },
  {
   "cell_type": "markdown",
   "metadata": {},
   "source": [
    "### Read the grz model fitting results and select a \"good\" sample.\n",
    "Read the model fitting results (in each band) and select a clean sample using the \"finalflag\" bit (see Section 2.2 of the `data_tables.pdf` documentation)."
   ]
  },
  {
   "cell_type": "code",
   "execution_count": 8,
   "metadata": {
    "collapsed": true
   },
   "outputs": [],
   "source": [
    "band = ['gband', 'rband', 'iband']"
   ]
  },
  {
   "cell_type": "code",
   "execution_count": 10,
   "metadata": {
    "collapsed": true
   },
   "outputs": [],
   "source": [
    "def select_good(finalflag, n_bulge):\n",
    "    \"\"\"Select a good sample of targets.\"\"\"\n",
    "    noflags = finalflag & 11 != 0\n",
    "    goodserexp = finalflag & 12 != 0\n",
    "    flip = finalflag & 13 != 0\n",
    "    smalln = n_bulge < 8\n",
    "\n",
    "    good = np.logical_or(noflags, goodserexp)\n",
    "    good = np.logical_or(good, flip)\n",
    "    good = np.logical_and(good, smalln)\n",
    "\n",
    "    isbulge = finalflag & 1 != 0\n",
    "    isser = finalflag & 4 != 0\n",
    "    isfit = np.logical_or(isbulge, isser)\n",
    "    \n",
    "    good = np.logical_and(good, isfit)\n",
    "    \n",
    "    return good"
   ]
  },
  {
   "cell_type": "code",
   "execution_count": 33,
   "metadata": {},
   "outputs": [
    {
     "data": {
      "text/plain": [
       "('m_tot',\n",
       " 'm_aper',\n",
       " 'BT',\n",
       " 'r_tot',\n",
       " 'ba_tot',\n",
       " 'BT_aper',\n",
       " 'xctr_bulge',\n",
       " 'xctr_bulge_err',\n",
       " 'yctr_bulge',\n",
       " 'yctr_bulge_err',\n",
       " 'm_bulge',\n",
       " 'm_bulge_err',\n",
       " 'r_bulge',\n",
       " 'r_bulge_err',\n",
       " 'n_bulge',\n",
       " 'n_bulge_err',\n",
       " 'ba_bulge',\n",
       " 'ba_bulge_err',\n",
       " 'pa_bulge',\n",
       " 'pa_bulge_err',\n",
       " 'xctr_disk',\n",
       " 'xctr_disk_err',\n",
       " 'yctr_disk',\n",
       " 'yctr_disk_err',\n",
       " 'm_disk',\n",
       " 'm_disk_err',\n",
       " 'r_disk',\n",
       " 'r_disk_err',\n",
       " 'n_disk',\n",
       " 'n_disk_err',\n",
       " 'ba_disk',\n",
       " 'ba_disk_err',\n",
       " 'pa_disk',\n",
       " 'pa_disk_err',\n",
       " 'GalSky',\n",
       " 'GalSky_err',\n",
       " 'chi2nu',\n",
       " 'finalflag',\n",
       " 'autoflag',\n",
       " 'pyflag',\n",
       " 'pyfitflag')"
      ]
     },
     "execution_count": 33,
     "metadata": {},
     "output_type": "execute_result"
    }
   ],
   "source": [
    "band = 'rband'\n",
    "ff = fitsio.read(os.path.join(basicdir, 'UPenn_PhotDec_Models_rband.fits'), ext=1)\n",
    "ff.dtype.names"
   ]
  },
  {
   "cell_type": "code",
   "execution_count": 52,
   "metadata": {},
   "outputs": [
    {
     "name": "stdout",
     "output_type": "stream",
     "text": [
      "81\n",
      "292825\n",
      "127574\n"
     ]
    }
   ],
   "source": [
    "print(ff['finalflag'][1])\n",
    "print( np.sum(ff['finalflag'] & 20 != 0) )\n",
    "print( np.sum( (ff['finalflag'] & 20 != 0) * (ff['finalflag'] & 10 != 0) ) )"
   ]
  },
  {
   "cell_type": "code",
   "execution_count": 43,
   "metadata": {},
   "outputs": [
    {
     "name": "stdout",
     "output_type": "stream",
     "text": [
      "0 0\n",
      "1 1\n",
      "2 0\n",
      "3 1\n",
      "4 0\n",
      "5 1\n",
      "6 0\n",
      "7 1\n",
      "8 0\n",
      "9 1\n",
      "10 0\n",
      "11 1\n",
      "12 0\n",
      "13 1\n",
      "14 0\n",
      "15 1\n",
      "16 16\n",
      "17 17\n",
      "18 16\n",
      "19 17\n",
      "20 16\n",
      "21 17\n",
      "22 16\n",
      "23 17\n",
      "24 16\n",
      "25 17\n",
      "26 16\n"
     ]
    }
   ],
   "source": [
    "for bb in np.arange(27):\n",
    "    print(bb, ff['finalflag'][1] & bb)"
   ]
  },
  {
   "cell_type": "code",
   "execution_count": null,
   "metadata": {
    "collapsed": true
   },
   "outputs": [],
   "source": []
  },
  {
   "cell_type": "code",
   "execution_count": 11,
   "metadata": {},
   "outputs": [
    {
     "name": "stdout",
     "output_type": "stream",
     "text": [
      "\n",
      "  file: /Users/ioannis/research/data/upenn-photdec/basic-catalog/v2/UPenn_PhotDec_NonParam_gband.fits\n",
      "  extension: 1\n",
      "  type: BINARY_TBL\n",
      "  rows: 670722\n",
      "  column info:\n",
      "    SexMag              f4  \n",
      "    SexMag_Err          f4  \n",
      "    SexHrad             f4  \n",
      "    SexSky              f4  \n",
      "    num_targets         i2  \n",
      "    num_neighborfit     i2  \n",
      "    AperRad             f4  \n",
      "    C                   f4  \n",
      "    C_err               f4  \n",
      "    A                   f4  \n",
      "    A_err               f4  \n",
      "    S                   f4  \n",
      "    S_err               f4  \n",
      "    G                   f4  \n",
      "    M20                 f4  \n",
      "    extinction          f4  \n",
      "    dismod              f4  \n",
      "    kpc_per_arcsec      f4  \n",
      "    Vmax                f4  \n",
      "    SN                  f4  \n",
      "    kcorr               f4  \n",
      "\n",
      "  file: /Users/ioannis/research/data/upenn-photdec/basic-catalog/v2/UPenn_PhotDec_Models_gband.fits\n",
      "  extension: 1\n",
      "  type: BINARY_TBL\n",
      "  rows: 670722\n",
      "  column info:\n",
      "    m_tot               f4  \n",
      "    m_aper              f4  \n",
      "    BT                  f4  \n",
      "    r_tot               f4  \n",
      "    ba_tot              f4  \n",
      "    BT_aper             f4  \n",
      "    xctr_bulge          f4  \n",
      "    xctr_bulge_err      f4  \n",
      "    yctr_bulge          f4  \n",
      "    yctr_bulge_err      f4  \n",
      "    m_bulge             f4  \n",
      "    m_bulge_err         f4  \n",
      "    r_bulge             f4  \n",
      "    r_bulge_err         f4  \n",
      "    n_bulge             f4  \n",
      "    n_bulge_err         f4  \n",
      "    ba_bulge            f4  \n",
      "    ba_bulge_err        f4  \n",
      "    pa_bulge            f4  \n",
      "    pa_bulge_err        f4  \n",
      "    xctr_disk           f4  \n",
      "    xctr_disk_err       f4  \n",
      "    yctr_disk           f4  \n",
      "    yctr_disk_err       f4  \n",
      "    m_disk              f4  \n",
      "    m_disk_err          f4  \n",
      "    r_disk              f4  \n",
      "    r_disk_err          f4  \n",
      "    n_disk              f4  \n",
      "    n_disk_err          f4  \n",
      "    ba_disk             f4  \n",
      "    ba_disk_err         f4  \n",
      "    pa_disk             f4  \n",
      "    pa_disk_err         f4  \n",
      "    GalSky              f4  \n",
      "    GalSky_err          f4  \n",
      "    chi2nu              f4  \n",
      "    finalflag           i4  \n",
      "    autoflag            i4  \n",
      "    pyflag              i4  \n",
      "    pyfitflag           i4  \n",
      "Selected 445790/670722 good targets.\n"
     ]
    }
   ],
   "source": [
    "good = None\n",
    "for thisband in band:\n",
    "    measfile = os.path.join(basicdir, 'UPenn_PhotDec_NonParam_{}.fits'.format(thisband))\n",
    "    measinfo = fitsio.FITS(measfile)\n",
    "    fitfile = os.path.join(basicdir, 'UPenn_PhotDec_Models_{}.fits'.format(thisband))\n",
    "    fitinfo = fitsio.FITS(fitfile)    \n",
    "    _fit = fitinfo[1].read(columns=['finalflag', 'n_bulge'])\n",
    "    _good = select_meert(_fit['finalflag'], _fit['n_bulge'])\n",
    "    if good is None:\n",
    "        print(measinfo[1])\n",
    "        print(fitinfo[1])\n",
    "        good = _good        \n",
    "    else:\n",
    "        good = np.logical_and(good, _good)\n",
    "goodindx = np.where(good)[0]\n",
    "nobj = len(goodindx)\n",
    "print('Selected {}/{} good targets.'.format(nobj, len(_fit)))"
   ]
  },
  {
   "cell_type": "code",
   "execution_count": null,
   "metadata": {
    "collapsed": true
   },
   "outputs": [],
   "source": [
    "fit, meas = [], []\n",
    "for thisband in band:\n",
    "    fitfile = os.path.join(basicdir, 'UPenn_PhotDec_Models_{}.fits'.format(thisband))\n",
    "    measfile = os.path.join(basicdir, 'UPenn_PhotDec_NonParam_{}.fits'.format(thisband))\n",
    "    fit.append(fitsio.read(fitfile, ext=1, rows=goodindx))\n",
    "    meas.append(fitsio.read(measfile, ext=1, rows=goodindx))\n",
    "gfit, rfit, ifit = fit\n",
    "gmeas, rmeas, imeas = meas\n",
    "del fit, meas"
   ]
  },
  {
   "cell_type": "markdown",
   "metadata": {},
   "source": [
    "### Read supplemental catalogs.\n",
    "\n",
    "Read additional, supplemental catalogs which we will analyze below: the *CASTModel* catalog (SDSS photometry) and the stellar masses catalog based on the dust-free mass-to-light ratios from Mendel et al. (2014) (their Table 5)."
   ]
  },
  {
   "cell_type": "code",
   "execution_count": null,
   "metadata": {
    "collapsed": true
   },
   "outputs": [],
   "source": [
    "castmodfile = os.path.join(adddir, 'UPenn_PhotDec_CASTmodels.fits')\n",
    "castmodinfo = fitsio.FITS(castmodfile)\n",
    "castmodinfo[1]"
   ]
  },
  {
   "cell_type": "code",
   "execution_count": null,
   "metadata": {
    "collapsed": true
   },
   "outputs": [],
   "source": [
    "castmod = castmodinfo[1].read(rows=goodindx)"
   ]
  },
  {
   "cell_type": "code",
   "execution_count": null,
   "metadata": {
    "collapsed": true
   },
   "outputs": [],
   "source": [
    "mendelfile = os.path.join(adddir, 'UPenn_PhotDec_Mstar_mlMendel14.dat')\n",
    "columns = ('GalCount', 'FlagSerExp', 'Mstar_Tab5_Pymorph',\n",
    "           'Mstar_Tab5_Truncated', 'Mstar_Tab3_Pymorph',\n",
    "           'Mstar_Tab3_Truncated', 'Mstar_Tab5_Mendel',\n",
    "           'Mstar_Tab3_Mendel', 'Mstar_Tab5_cModel',\n",
    "           'Mstar_Tab3_cModel')\n",
    "dtype = np.dtype([(col, np.float) for col in columns])\n",
    "allmendel = np.loadtxt(mendelfile, dtype=dtype)\n"
   ]
  },
  {
   "cell_type": "code",
   "execution_count": null,
   "metadata": {
    "collapsed": true
   },
   "outputs": [],
   "source": [
    "allmendel"
   ]
  },
  {
   "cell_type": "markdown",
   "metadata": {},
   "source": [
    "### Generate various diagnostic plots"
   ]
  },
  {
   "cell_type": "code",
   "execution_count": null,
   "metadata": {
    "collapsed": true
   },
   "outputs": [],
   "source": [
    "print('r-band range = {:.3f} - {:.3f}'.format(rfit['m_tot'].min(), rfit['m_tot'].max()))\n",
    "print('Redshift range = {:.4f} - {:.4f}'.format(cast['z'].min(), cast['z'].max()))"
   ]
  },
  {
   "cell_type": "code",
   "execution_count": null,
   "metadata": {
    "collapsed": true
   },
   "outputs": [],
   "source": [
    "fig, ax = plt.subplots()\n",
    "cm = plt.cm.get_cmap('RdYlBu')\n",
    "hb = ax.hexbin(cast['ra'], cast['dec'], C=cast['z'], cmap=cm, \n",
    "               vmin=0, vmax=0.3)\n",
    "cb = plt.colorbar(hb)\n",
    "cb.set_label('Redshift')"
   ]
  },
  {
   "cell_type": "code",
   "execution_count": null,
   "metadata": {
    "collapsed": true
   },
   "outputs": [],
   "source": [
    "fig, ax = plt.subplots()\n",
    "_, _, _ = ax.hist(cast['z'], bins=100, range=(0, 0.4), alpha=0.5)\n",
    "ax.set_xlabel('Redshift')\n",
    "ax.set_ylabel('Number of Galaxies')"
   ]
  },
  {
   "cell_type": "code",
   "execution_count": null,
   "metadata": {
    "collapsed": true
   },
   "outputs": [],
   "source": [
    "fig, ax = plt.subplots()\n",
    "ax.scatter(cast['z'], rfit['m_tot'], s=1)\n",
    "ax.set_xlim((0, 0.4))\n",
    "ax.margins(0.05)"
   ]
  },
  {
   "cell_type": "code",
   "execution_count": null,
   "metadata": {
    "collapsed": true
   },
   "outputs": [],
   "source": [
    "labels = ['r (AB mag)', 'g - r', 'Sersic n', 'Half-light Radius (arcsec)']\n",
    "data = np.array([ rfit['m_tot'], gfit['m_tot'] - rfit['m_tot'], rfit['n_disk'], rfit['r_disk'] ]).T\n",
    "data.shape"
   ]
  },
  {
   "cell_type": "code",
   "execution_count": null,
   "metadata": {
    "collapsed": true
   },
   "outputs": [],
   "source": [
    "_ = corner(data, quantiles=[0.25, 0.50, 0.75], labels=labels)"
   ]
  },
  {
   "cell_type": "code",
   "execution_count": null,
   "metadata": {
    "collapsed": true
   },
   "outputs": [],
   "source": []
  }
 ],
 "metadata": {
  "kernelspec": {
   "display_name": "Python 3",
   "language": "python",
   "name": "python3"
  },
  "language_info": {
   "codemirror_mode": {
    "name": "ipython",
    "version": 3
   },
   "file_extension": ".py",
   "mimetype": "text/x-python",
   "name": "python",
   "nbconvert_exporter": "python",
   "pygments_lexer": "ipython3",
   "version": "3.6.1"
  }
 },
 "nbformat": 4,
 "nbformat_minor": 2
}
