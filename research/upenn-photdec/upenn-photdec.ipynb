{
 "cells": [
  {
   "cell_type": "markdown",
   "metadata": {},
   "source": [
    "# Exploration of the UPenn PhotDec catalogs\n",
    "\n",
    "The goal of this notebook is to play around with the data released by Meert et al. at  \n",
    "http://alan-meert-website-aws.s3-website-us-east-1.amazonaws.com/fit_catalog/download/index.html"
   ]
  },
  {
   "cell_type": "code",
   "execution_count": 2,
   "metadata": {
    "collapsed": true
   },
   "outputs": [],
   "source": [
    "import os\n",
    "import numpy as np\n",
    "\n",
    "import fitsio\n",
    "import matplotlib.pyplot as plt"
   ]
  },
  {
   "cell_type": "code",
   "execution_count": 3,
   "metadata": {},
   "outputs": [
    {
     "name": "stdout",
     "output_type": "stream",
     "text": [
      "Populating the interactive namespace from numpy and matplotlib\n"
     ]
    }
   ],
   "source": [
    "%pylab inline"
   ]
  },
  {
   "cell_type": "markdown",
   "metadata": {},
   "source": [
    "First, let's play around with the \"basic catalog.\""
   ]
  },
  {
   "cell_type": "code",
   "execution_count": 5,
   "metadata": {
    "collapsed": true
   },
   "outputs": [],
   "source": [
    "# topdir = '/global/work/data/upenn-photdec'\n",
    "topdir = '/Users/ioannis/research/data/upenn-photdec'\n",
    "basicdir = os.path.join(topdir, 'basic-catalog', 'v2')\n",
    "adddir = os.path.join(topdir, 'additional-catalogs')"
   ]
  },
  {
   "cell_type": "code",
   "execution_count": 8,
   "metadata": {},
   "outputs": [
    {
     "data": {
      "text/plain": [
       "\n",
       "  file: /Users/ioannis/research/data/upenn-photdec/basic-catalog/v2/UPenn_PhotDec_CAST.fits\n",
       "  extension: 1\n",
       "  type: BINARY_TBL\n",
       "  rows: 670722\n",
       "  column info:\n",
       "    galcount            i4  \n",
       "    objid               i8  \n",
       "    SDSSIAU            S24  \n",
       "    badflag             i4  \n",
       "    nchild              i2  \n",
       "    mode                i2  \n",
       "    run                 i2  \n",
       "    rerun               i2  \n",
       "    camCol              i2  \n",
       "    field               i2  \n",
       "    obj                 i2  \n",
       "    stripe              i4  \n",
       "    startmu             i4  \n",
       "    specobjid           i8  \n",
       "    plate               i2  \n",
       "    mjd                 i4  \n",
       "    fiberid             i2  \n",
       "    ra                  f4  \n",
       "    dec                 f4  \n",
       "    z                   f4  \n",
       "    veldisp             f4  \n",
       "    veldispErr          f4  \n",
       "    eclass              f4  \n",
       "    p_el_debiased       f4  \n",
       "    p_cs_debiased       f4  \n",
       "    spiral              i4  \n",
       "    elliptical          i4  \n",
       "    uncertain           i4  "
      ]
     },
     "execution_count": 8,
     "metadata": {},
     "output_type": "execute_result"
    }
   ],
   "source": [
    "ff = fitsio.FITS(os.path.join(basicdir, 'UPenn_PhotDec_CAST.fits'))\n",
    "ff[1]"
   ]
  },
  {
   "cell_type": "markdown",
   "metadata": {},
   "source": [
    "Make some plots!  ra, dec; redshift and veldisp histograms; histograms of spiral, elliptical, uncertain"
   ]
  },
  {
   "cell_type": "markdown",
   "metadata": {},
   "source": [
    "Read the other catalogs and make a couple plots!"
   ]
  },
  {
   "cell_type": "code",
   "execution_count": null,
   "metadata": {
    "collapsed": true
   },
   "outputs": [],
   "source": []
  }
 ],
 "metadata": {
  "kernelspec": {
   "display_name": "Python 3",
   "language": "python",
   "name": "python3"
  },
  "language_info": {
   "codemirror_mode": {
    "name": "ipython",
    "version": 3
   },
   "file_extension": ".py",
   "mimetype": "text/x-python",
   "name": "python",
   "nbconvert_exporter": "python",
   "pygments_lexer": "ipython3",
   "version": "3.6.1"
  }
 },
 "nbformat": 4,
 "nbformat_minor": 2
}
