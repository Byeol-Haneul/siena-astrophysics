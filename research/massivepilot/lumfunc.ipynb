{
 "cells": [
  {
   "cell_type": "markdown",
   "metadata": {},
   "source": [
    "# Objective: Create plots of stellar mass vs. conditional mass function"
   ]
  },
  {
   "cell_type": "code",
   "execution_count": 58,
   "metadata": {
    "collapsed": true
   },
   "outputs": [],
   "source": [
    "import os"
   ]
  },
  {
   "cell_type": "code",
   "execution_count": 59,
   "metadata": {},
   "outputs": [
    {
     "name": "stdout",
     "output_type": "stream",
     "text": [
      "Populating the interactive namespace from numpy and matplotlib\n"
     ]
    },
    {
     "name": "stderr",
     "output_type": "stream",
     "text": [
      "/usr/local/anaconda3/envs/py35/lib/python3.6/site-packages/IPython/core/magics/pylab.py:160: UserWarning: pylab import has clobbered these variables: ['clip']\n",
      "`%matplotlib` prevents importing * from pylab and numpy\n",
      "  \"\\n`%matplotlib` prevents importing * from pylab and numpy\"\n"
     ]
    }
   ],
   "source": [
    "import numpy as np\n",
    "import matplotlib.pyplot as plt\n",
    "%pylab inline"
   ]
  },
  {
   "cell_type": "code",
   "execution_count": 60,
   "metadata": {
    "collapsed": true
   },
   "outputs": [],
   "source": [
    "from astropy.io.ascii import read\n",
    "from astropy.coordinates import SkyCoord\n",
    "from astropy import units as u\n",
    "from astropy.io import fits\n",
    "import fitsio\n",
    "import seaborn"
   ]
  },
  {
   "cell_type": "code",
   "execution_count": 61,
   "metadata": {
    "collapsed": true
   },
   "outputs": [],
   "source": [
    "# Reading in the RedMaPPer iSEDfit catalog.\n",
    "rmpath = os.path.join(os.sep, 'global', 'work', 'projects', 'redmapper')\n",
    "rmcatfile = os.path.join(rmpath, 'redmapper_isedfit_v5.10_centrals.fits.gz')\n",
    "rminfo = fitsio.FITS(rmcatfile)\n",
    "rmcat = rminfo[1].read(columns=['Z', 'MSTAR_50', 'ILUM', 'LAMBDA_CHISQ', 'P_CEN', 'P_SAT', 'MSTAR_AVG'])"
   ]
  },
  {
   "cell_type": "code",
   "execution_count": 62,
   "metadata": {
    "collapsed": true
   },
   "outputs": [],
   "source": [
    "masses = {}"
   ]
  },
  {
   "cell_type": "code",
   "execution_count": 63,
   "metadata": {
    "collapsed": true
   },
   "outputs": [],
   "source": [
    "def indhist(data, bounds):\n",
    "    catalog = data\n",
    "    indices = np.where((catalog >= bounds[0]) * (catalog <= bounds[1]))[0]\n",
    "    return indices"
   ]
  },
  {
   "cell_type": "code",
   "execution_count": 64,
   "metadata": {
    "collapsed": true
   },
   "outputs": [],
   "source": [
    "def getdata(physics):\n",
    "    for jj in range(numslices):\n",
    "        physics[jj+1] = indhist(rmcat['MSTAR_AVG'][keep], [masschunks[1][jj], masschunks[1][jj+1]])\n",
    "    return;"
   ]
  },
  {
   "cell_type": "code",
   "execution_count": 169,
   "metadata": {
    "collapsed": true
   },
   "outputs": [],
   "source": [
    "# Convert dictionary to matrix\n",
    "def dicttomatrix(dictionary):\n",
    "    dataarray = []\n",
    "    for ii in range(numslices):\n",
    "        dataarray.append(list(dictionary.items())[ii][1])\n",
    "    return dataarray"
   ]
  },
  {
   "cell_type": "code",
   "execution_count": 68,
   "metadata": {
    "collapsed": true
   },
   "outputs": [],
   "source": [
    "# This function accepts two 1x2 arrays. The first is the richness bounds. The second is the redshift bounds.\n",
    "def cutter(lbounds, zbounds):\n",
    "    keep = np.where((rmcat['LAMBDA_CHISQ'] > lbounds[0]) * (rmcat['LAMBDA_CHISQ'] < lbounds[1]) * \n",
    "                    (rmcat['Z'] > zbounds[0]) * (rmcat['Z'] < zbounds[1]))[0]\n",
    "    return keep"
   ]
  },
  {
   "cell_type": "code",
   "execution_count": 69,
   "metadata": {
    "collapsed": true
   },
   "outputs": [],
   "source": [
    "# Goal: Create some clean subplots, reminiscent of those in the paper (but better).\n",
    "# How do I compute the Conditional Mass Function (CMF)?\n",
    "# Create little slices of richness and redshift.\n",
    "# Compute the volume of the little slices of Z, RA, Dec.\n",
    "# Figure out which sources are in each slice.\n",
    "# Compute the CMF of each slice of heavenly goodness.\n",
    "# Plot CMF vs. M*."
   ]
  },
  {
   "cell_type": "code",
   "execution_count": 217,
   "metadata": {
    "collapsed": true
   },
   "outputs": [],
   "source": [
    "numslices = 12"
   ]
  },
  {
   "cell_type": "code",
   "execution_count": 222,
   "metadata": {},
   "outputs": [
    {
     "data": {
      "text/plain": [
       "<matplotlib.collections.PathCollection at 0x7f09731a9b70>"
      ]
     },
     "execution_count": 222,
     "metadata": {},
     "output_type": "execute_result"
    },
    {
     "name": "stderr",
     "output_type": "stream",
     "text": [
      "/usr/local/anaconda3/envs/py35/lib/python3.6/site-packages/matplotlib/font_manager.py:1297: UserWarning: findfont: Font family ['sans-serif'] not found. Falling back to DejaVu Sans\n",
      "  (prop.get_family(), self.defaultFamily[fontext]))\n"
     ]
    },
    {
     "data": {
      "image/png": "[encoded data removed]",
      "text/plain": [
       "<matplotlib.figure.Figure at 0x7f09731a97f0>"
      ]
     },
     "metadata": {},
     "output_type": "display_data"
    }
   ],
   "source": [
    "keep = cutter([0, 100], [0, 1])\n",
    "fig, ax = plt.subplots()\n",
    "ax.scatter(rmcat['Z'][keep], rmcat['LAMBDA_CHISQ'][keep])"
   ]
  },
  {
   "cell_type": "markdown",
   "metadata": {
    "collapsed": true
   },
   "source": [
    "## Computing the Conditional Mass Function\n",
    "\n",
    "$$ \\Phi = \\Phi_C + \\Phi_S $$\n",
    "\n",
    "$$ \\Phi_C(M) = \\frac{\\Sigma_{i \\in clusters} \\Sigma_{j \\in galaxies \\, in \\, i}p_{cen,j}}{N_{cl}\\Delta\\log M} $$\n",
    "\n",
    "$$ \\Phi_S(M) = \\frac{\\Sigma_{i \\in clusters} \\Sigma_{j \\in galaxies \\, in \\, i}p_{mem,j}(1-p_{cen,j})}{N_{cl}\\Delta\\log M} $$\n",
    "\n",
    "This just means add up the component for each galaxy in each cluster... Very pain-in-the-ass notation.\n",
    "\n",
    "Map richness to M500"
   ]
  },
  {
   "cell_type": "code",
   "execution_count": 223,
   "metadata": {},
   "outputs": [
    {
     "name": "stderr",
     "output_type": "stream",
     "text": [
      "/usr/local/anaconda3/envs/py35/lib/python3.6/site-packages/matplotlib/font_manager.py:1297: UserWarning: findfont: Font family ['sans-serif'] not found. Falling back to DejaVu Sans\n",
      "  (prop.get_family(), self.defaultFamily[fontext]))\n"
     ]
    },
    {
     "data": {
      "image/png": "[encoded data removed]",
      "text/plain": [
       "<matplotlib.figure.Figure at 0x7f0990b38b38>"
      ]
     },
     "metadata": {},
     "output_type": "display_data"
    }
   ],
   "source": [
    "masssep = np.linspace(min(rmcat['MSTAR_AVG'][keep]), max(rmcat['MSTAR_AVG'][keep]), numslices)\n",
    "mdiff = masssep[1]-masssep[0]\n",
    "# Do I need to index based on mass too?... Make a damn histogram!\n",
    "masschunks = plt.hist(rmcat['MSTAR_AVG'][keep], bins=numslices)"
   ]
  },
  {
   "cell_type": "code",
   "execution_count": 224,
   "metadata": {},
   "outputs": [],
   "source": [
    "getdata(masses)\n",
    "massarray = dicttomatrix(masses)"
   ]
  },
  {
   "cell_type": "code",
   "execution_count": 239,
   "metadata": {},
   "outputs": [
    {
     "name": "stderr",
     "output_type": "stream",
     "text": [
      "/usr/local/anaconda3/envs/py35/lib/python3.6/site-packages/matplotlib/font_manager.py:1297: UserWarning: findfont: Font family ['sans-serif'] not found. Falling back to DejaVu Sans\n",
      "  (prop.get_family(), self.defaultFamily[fontext]))\n"
     ]
    },
    {
     "data": {
      "image/png": "[encoded data removed]",
      "text/plain": [
       "<matplotlib.figure.Figure at 0x7f0972f41cc0>"
      ]
     },
     "metadata": {},
     "output_type": "display_data"
    }
   ],
   "source": [
    "plt.figure()\n",
    "for ii in range(1, numslices):\n",
    "    if len(massarray[ii] > 0):\n",
    "        phic = np.sum(rmcat['P_CEN'][massarray[ii]])/(len(massarray[ii])*mdiff)\n",
    "        phis = np.sum(rmcat['P_SAT'][massarray[ii]])/(len(massarray[ii])*mdiff)\n",
    "        phi = phic + phis \n",
    "        plt.plot(masschunks[1][ii], phi, 'ko')"
   ]
  },
  {
   "cell_type": "code",
   "execution_count": 229,
   "metadata": {},
   "outputs": [
    {
     "name": "stdout",
     "output_type": "stream",
     "text": [
      "[array([  1652,  78396, 243223]), array([  2816,  15157, 124545, 128676]), array([   861,  10792,  23349,  57565,  64801,  72443,  80091,  87146,\n",
      "       101346, 111195, 112187, 116581, 119776, 120697, 126678, 137747,\n",
      "       171420, 178290, 179358, 186146, 192257, 196198, 211518, 216374,\n",
      "       221454, 230573, 231755, 232878, 233398, 237800, 244114, 245912,\n",
      "       251152, 263761, 268488, 284013, 290034, 293403, 298304, 298588,\n",
      "       300908, 308092, 336557, 342042, 345123, 350525, 355367, 355808,\n",
      "       356778, 360135, 360779, 369396, 372774, 390442, 394877, 398586,\n",
      "       401740, 405451]), array([   303,   1097,   1681,   3300,  12520,  15224,  16847,  17514,\n",
      "        20104,  21275,  21406,  31166,  33279,  36624,  36909,  37564,\n",
      "        37759,  38551,  38633,  39307,  47570,  50037,  52462,  53390,\n",
      "        54315,  54546,  54885,  57027,  57375,  60228,  60344,  64232,\n",
      "        67140,  68073,  68934,  69519,  73528,  74423,  74929,  77630,\n",
      "        79671,  81629,  82918,  83920,  84214,  84642,  85015,  85132,\n",
      "        89203,  92994,  95928,  96184,  96429,  97354,  97996,  98284,\n",
      "        99467,  99757, 100396, 100534, 100580, 103062, 103601, 105495,\n",
      "       107219, 108456, 108672, 109553, 109565, 110990, 111456, 111747,\n",
      "       112630, 113428, 113567, 115470, 115961, 117114, 117527, 118030,\n",
      "       118091, 118974, 119785, 120035, 120422, 121355, 121726, 122113,\n",
      "       122988, 125002, 125073, 125735, 128465, 130236, 130615, 132046,\n",
      "       133681, 134644, 137449, 137572, 137621, 138926, 139004, 140391,\n",
      "       141756, 141837, 142916, 144073, 144308, 144346, 145821, 147977,\n",
      "       148266, 152304, 153098, 153100, 153833, 159116, 159797, 160166,\n",
      "       160187, 160871, 162730, 164249, 165257, 165873, 167369, 169859,\n",
      "       170276, 171183, 172902, 172942, 173292, 173478, 173920, 173930,\n",
      "       174638, 175422, 176056, 176911, 177368, 178264, 179925, 181350,\n",
      "       183115, 183927, 184621, 185772, 186845, 187746, 190222, 190298,\n",
      "       190987, 191051, 191333, 191353, 191494, 192779, 194281, 195136,\n",
      "       195299, 195845, 196063, 196226, 200754, 201510, 202226, 202913,\n",
      "       203513, 204522, 206836, 207006, 209183, 212198, 213321, 216231,\n",
      "       216502, 217062, 218259, 218525, 218760, 219086, 221668, 221672,\n",
      "       221701, 222331, 222484, 223143, 223382, 224384, 226352, 227142,\n",
      "       227230, 228234, 228269, 228705, 228778, 230328, 230999, 231540,\n",
      "       232100, 235909, 236842, 237172, 237315, 237639, 237783, 238602,\n",
      "       239094, 239507, 240232, 240723, 241378, 242146, 243678, 244023,\n",
      "       244333, 244579, 245589, 246542, 246681, 247642, 247946, 249387,\n",
      "       249661, 250419, 250909, 252373, 253163, 253601, 253631, 255733,\n",
      "       256089, 256221, 256828, 256959, 257685, 257973, 257990, 258152,\n",
      "       258781, 260649, 260692, 261166, 261433, 261456, 262022, 262708,\n",
      "       263961, 264213, 264730, 264892, 265694, 265883, 267413, 268357,\n",
      "       270059, 270403, 270700, 271021, 271806, 272297, 272838, 273020,\n",
      "       273204, 275048, 275080, 275757, 277005, 277355, 277551, 281004,\n",
      "       281386, 282199, 282500, 282978, 284157, 284492, 284621, 285480,\n",
      "       285770, 285941, 286043, 286221, 286400, 286833, 287878, 288329,\n",
      "       288797, 290874, 292057, 292748, 293026, 293334, 293488, 294077,\n",
      "       295448, 295562, 295890, 296093, 296196, 296294, 296454, 297676,\n",
      "       298177, 298625, 298676, 298900, 299173, 299347, 299626, 299729,\n",
      "       300269, 300713, 301499, 301686, 302278, 302434, 303100, 303418,\n",
      "       304087, 305003, 305390, 305987, 307678, 308322, 308649, 309148,\n",
      "       309538, 310705, 311202, 313752, 313956, 314013, 315643, 316884,\n",
      "       317838, 318142, 318718, 318870, 320021, 320210, 320485, 321404,\n",
      "       321708, 321920, 323250, 323375, 323384, 323551, 324947, 325252,\n",
      "       325445, 325544, 325557, 326409, 326421, 326729, 327032, 327069,\n",
      "       329088, 329732, 330091, 330942, 331429, 331436, 331631, 333949,\n",
      "       333961, 333992, 334103, 334208, 334715, 334752, 335480, 335642,\n",
      "       335986, 336782, 337316, 337339, 338016, 338914, 339682, 339730,\n",
      "       340627, 341072, 342210, 342693, 343076, 343137, 343486, 344527,\n",
      "       344695, 344948, 345977, 346099, 346146, 347351, 347726, 347771,\n",
      "       347977, 348736, 349539, 349891, 350376, 350436, 351434, 351531,\n",
      "       351579, 352408, 352677, 352791, 353067, 354098, 355137, 355621,\n",
      "       356669, 358101, 358361, 358432, 359271, 359897, 361011, 361101,\n",
      "       361276, 361387, 361540, 361575, 362224, 362331, 362507, 363623,\n",
      "       363877, 364123, 364793, 364803, 364993, 365100, 365188, 365231,\n",
      "       365272, 365689, 365805, 366171, 367815, 368632, 370849, 371234,\n",
      "       371286, 372612, 372987, 373327, 373938, 374820, 374932, 375748,\n",
      "       377861, 379588, 380268, 381967, 382454, 383107, 383184, 383341,\n",
      "       383770, 384169, 384816, 385193, 385207, 385312, 385500, 385501,\n",
      "       385953, 386637, 386658, 387190, 387371, 387435, 387995, 388466,\n",
      "       388668, 389125, 389137, 389685, 389972, 391105, 391375, 391640,\n",
      "       391937, 392311, 392657, 392825, 392849, 393034, 393873, 394538,\n",
      "       395257, 395317, 395849, 395861, 396412, 396641, 397250, 397604,\n",
      "       398365, 398490, 398519, 398701, 398928, 399827, 400299, 400464,\n",
      "       400676, 401133, 401245, 401347, 401490, 401579, 401640, 401785,\n",
      "       402030, 402122, 402264, 402265, 402365, 402370, 402373, 402440,\n",
      "       402513, 402549, 402891, 402925, 402981, 403285, 403308, 403815,\n",
      "       403911, 403935, 403955, 403956, 404087, 404405, 404473, 404506,\n",
      "       404675, 404781, 405116, 405211, 405271, 405366, 405371, 405401,\n",
      "       405425, 405450, 405514, 405525, 405672, 405715, 405829, 405992,\n",
      "       406052, 406104, 406105, 406300, 406426, 406452, 406507, 406520]), array([   529,    674,    842, ..., 406512, 406529, 406534]), array([    22,    447,    743, ..., 406540, 406549, 406550]), array([     1,      5,      9, ..., 406545, 406547, 406548]), array([     0,      2,      3, ..., 406543, 406544, 406546]), array([     4,      6,     10, ..., 406483, 406496, 406504]), array([    18,     29,     42, ..., 403569, 404865, 405337]), array([   123,    237,   6855,   9381,  19920,  24320,  30335,  32622,\n",
      "        35871,  49106,  49460,  51004,  54776,  69432,  79109,  80381,\n",
      "        80724, 121462, 124041, 126076, 138851, 141153, 142483, 157946,\n",
      "       158977, 183190, 194241, 209869, 219733, 242913, 251087, 255574,\n",
      "       255942, 258598, 263261, 266515, 276173, 292223, 294588, 295477,\n",
      "       300692, 307695, 307938, 314371, 342231, 352873, 358134, 370141,\n",
      "       375680, 376728, 385877, 392547, 392935, 399552, 404799, 406503]), array([ 19975,  32650,  88921,  94153,  96281, 226413, 251154, 262000,\n",
      "       293910, 351497, 400452])]\n"
     ]
    }
   ],
   "source": [
    "print(massarray)"
   ]
  },
  {
   "cell_type": "code",
   "execution_count": 235,
   "metadata": {},
   "outputs": [
    {
     "name": "stdout",
     "output_type": "stream",
     "text": [
      "4.28255368326\n",
      "2.1724059022\n"
     ]
    }
   ],
   "source": [
    "print(np.sum(rmcat['P_SAT'][massarray[ii]])/(len(massarray[ii])*mdiff))\n",
    "print(np.sum(rmcat['P_CEN'][massarray[ii]])/(len(massarray[ii])*mdiff))"
   ]
  },
  {
   "cell_type": "code",
   "execution_count": null,
   "metadata": {
    "collapsed": true
   },
   "outputs": [],
   "source": []
  }
 ],
 "metadata": {
  "kernelspec": {
   "display_name": "Python 3",
   "language": "python",
   "name": "python3"
  },
  "language_info": {
   "codemirror_mode": {
    "name": "ipython",
    "version": 3
   },
   "file_extension": ".py",
   "mimetype": "text/x-python",
   "name": "python",
   "nbconvert_exporter": "python",
   "pygments_lexer": "ipython3",
   "version": "3.6.1"
  }
 },
 "nbformat": 4,
 "nbformat_minor": 2
}
