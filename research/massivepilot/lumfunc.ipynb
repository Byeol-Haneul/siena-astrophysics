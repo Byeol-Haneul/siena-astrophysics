{
 "cells": [
  {
   "cell_type": "markdown",
   "metadata": {},
   "source": [
    "# Objective: Create plots of stellar mass vs. conditional mass function"
   ]
  },
  {
   "cell_type": "code",
   "execution_count": 379,
   "metadata": {
    "collapsed": true
   },
   "outputs": [],
   "source": [
    "import os"
   ]
  },
  {
   "cell_type": "code",
   "execution_count": 380,
   "metadata": {},
   "outputs": [
    {
     "name": "stdout",
     "output_type": "stream",
     "text": [
      "Populating the interactive namespace from numpy and matplotlib\n"
     ]
    }
   ],
   "source": [
    "import numpy as np\n",
    "import matplotlib.pyplot as plt\n",
    "%pylab inline"
   ]
  },
  {
   "cell_type": "code",
   "execution_count": 381,
   "metadata": {
    "collapsed": true
   },
   "outputs": [],
   "source": [
    "from astropy.io.ascii import read\n",
    "from astropy.coordinates import SkyCoord\n",
    "from astropy import units as u\n",
    "from astropy.io import fits\n",
    "import fitsio\n",
    "import seaborn"
   ]
  },
  {
   "cell_type": "code",
   "execution_count": 382,
   "metadata": {
    "collapsed": true
   },
   "outputs": [],
   "source": [
    "# Reading in the RedMaPPer iSEDfit catalog.\n",
    "rmpath = os.path.join(os.sep, 'global', 'work', 'projects', 'redmapper')\n",
    "rmcatfile = os.path.join(rmpath, 'redmapper_isedfit_v5.10_centrals.fits.gz')\n",
    "rminfo = fitsio.FITS(rmcatfile)\n",
    "rmcat = rminfo[1].read(columns=['Z', 'MSTAR_50', 'ILUM', 'LAMBDA_CHISQ', 'P_CEN', 'P_SAT', 'MSTAR_AVG', 'P_BCG', 'P_C'])"
   ]
  },
  {
   "cell_type": "code",
   "execution_count": 383,
   "metadata": {
    "collapsed": true
   },
   "outputs": [],
   "source": [
    "# WARNING! This cell is huge. It takes a long time to run.\n",
    "#satellites = os.path.join(rmpath, 'redmapper_isedfit_v5.10_satellites.fits.gz')\n",
    "#satinfo = fits.open(satellites)"
   ]
  },
  {
   "cell_type": "code",
   "execution_count": 384,
   "metadata": {},
   "outputs": [],
   "source": [
    "#satinfo[1].header"
   ]
  },
  {
   "cell_type": "code",
   "execution_count": 385,
   "metadata": {
    "collapsed": true
   },
   "outputs": [],
   "source": [
    "masses = {}"
   ]
  },
  {
   "cell_type": "code",
   "execution_count": 386,
   "metadata": {
    "collapsed": true
   },
   "outputs": [],
   "source": [
    "def indhist(data, bounds):\n",
    "    catalog = data\n",
    "    indices = np.where((catalog >= bounds[0]) * (catalog <= bounds[1]))[0]\n",
    "    return indices"
   ]
  },
  {
   "cell_type": "code",
   "execution_count": 387,
   "metadata": {
    "collapsed": true
   },
   "outputs": [],
   "source": [
    "def getdata(physics):\n",
    "    for jj in range(numslices):\n",
    "        physics[jj+1] = indhist(rmcat['MSTAR_50'][keep], [masschunks[1][jj], masschunks[1][jj+1]])\n",
    "    return;"
   ]
  },
  {
   "cell_type": "code",
   "execution_count": 388,
   "metadata": {
    "collapsed": true
   },
   "outputs": [],
   "source": [
    "# Convert dictionary to matrix\n",
    "def dicttomatrix(dictionary):\n",
    "    dataarray = []\n",
    "    for ii in range(numslices):\n",
    "        dataarray.append(list(dictionary.items())[ii][1])\n",
    "    return dataarray"
   ]
  },
  {
   "cell_type": "code",
   "execution_count": 417,
   "metadata": {},
   "outputs": [],
   "source": [
    "# This function accepts two 1x2 arrays. The first is the richness bounds. The second is the redshift bounds.\n",
    "def cutter(lbounds, zbounds):\n",
    "    keep = np.where((rmcat['LAMBDA_CHISQ'] > lbounds[0]) * (rmcat['LAMBDA_CHISQ'] < lbounds[1]) * \n",
    "                    (rmcat['Z'] > zbounds[0]) * (rmcat['Z'] < zbounds[1]) * (rmcat['MSTAR_50'] > 10)\n",
    "                   * (rmcat['MSTAR_50'] < 13))[0]\n",
    "    return keep"
   ]
  },
  {
   "cell_type": "code",
   "execution_count": 418,
   "metadata": {
    "collapsed": true
   },
   "outputs": [],
   "source": [
    "# Goal: Create some clean subplots, reminiscent of those in the paper (but better).\n",
    "# How do I compute the Conditional Mass Function (CMF)?\n",
    "# Create little slices of richness and redshift.\n",
    "# Figure out which sources are in each slice.\n",
    "# Compute the CMF of each slice.\n",
    "# Plot CMF vs. M*."
   ]
  },
  {
   "cell_type": "code",
   "execution_count": 419,
   "metadata": {
    "collapsed": true
   },
   "outputs": [],
   "source": [
    "numslices = 10"
   ]
  },
  {
   "cell_type": "code",
   "execution_count": 420,
   "metadata": {},
   "outputs": [
    {
     "data": {
      "text/plain": [
       "<matplotlib.collections.PathCollection at 0x7f0990b89ba8>"
      ]
     },
     "execution_count": 420,
     "metadata": {},
     "output_type": "execute_result"
    },
    {
     "name": "stderr",
     "output_type": "stream",
     "text": [
      "/usr/local/anaconda3/envs/py35/lib/python3.6/site-packages/matplotlib/font_manager.py:1297: UserWarning: findfont: Font family ['sans-serif'] not found. Falling back to DejaVu Sans\n",
      "  (prop.get_family(), self.defaultFamily[fontext]))\n"
     ]
    },
    {
     "data": {
      "image/png": "[encoded data removed]",
      "text/plain": [
       "<matplotlib.figure.Figure at 0x7f098b4fa7b8>"
      ]
     },
     "metadata": {},
     "output_type": "display_data"
    }
   ],
   "source": [
    "keep = cutter([0, 100], [0, 0.6])\n",
    "fig, ax = plt.subplots()\n",
    "ax.scatter(rmcat['Z'][keep], rmcat['LAMBDA_CHISQ'][keep])"
   ]
  },
  {
   "cell_type": "markdown",
   "metadata": {
    "collapsed": true
   },
   "source": [
    "## Computing the Conditional Mass Function\n",
    "\n",
    "$$ \\Phi = \\Phi_C + \\Phi_S $$\n",
    "\n",
    "$$ \\Phi_C(M) = \\frac{\\Sigma_{i \\in clusters} \\Sigma_{j \\in galaxies \\, in \\, i}p_{cen,j}}{N_{cl}\\Delta\\log M} $$\n",
    "\n",
    "$$ \\Phi_S(M) = \\frac{\\Sigma_{i \\in clusters} \\Sigma_{j \\in galaxies \\, in \\, i}p_{mem,j}(1-p_{cen,j})}{N_{cl}\\Delta\\log M} $$\n",
    "\n",
    "This just means add up the component for each galaxy in each cluster... Very pain-in-the-ass notation.\n",
    "\n",
    "Map richness to M500"
   ]
  },
  {
   "cell_type": "code",
   "execution_count": 421,
   "metadata": {},
   "outputs": [
    {
     "name": "stderr",
     "output_type": "stream",
     "text": [
      "/usr/local/anaconda3/envs/py35/lib/python3.6/site-packages/matplotlib/font_manager.py:1297: UserWarning: findfont: Font family ['sans-serif'] not found. Falling back to DejaVu Sans\n",
      "  (prop.get_family(), self.defaultFamily[fontext]))\n"
     ]
    },
    {
     "data": {
      "image/png": "[encoded data removed]",
      "text/plain": [
       "<matplotlib.figure.Figure at 0x7f099037ceb8>"
      ]
     },
     "metadata": {},
     "output_type": "display_data"
    }
   ],
   "source": [
    "masssep = np.linspace(min(rmcat['MSTAR_50'][keep]), max(rmcat['MSTAR_50'][keep]), numslices)\n",
    "mdiff = masssep[1]-masssep[0]\n",
    "masschunks = plt.hist(rmcat['MSTAR_50'][keep], bins=numslices)"
   ]
  },
  {
   "cell_type": "code",
   "execution_count": 422,
   "metadata": {},
   "outputs": [],
   "source": [
    "getdata(masses)\n",
    "massarray = dicttomatrix(masses)"
   ]
  },
  {
   "cell_type": "code",
   "execution_count": 428,
   "metadata": {},
   "outputs": [
    {
     "name": "stderr",
     "output_type": "stream",
     "text": [
      "/usr/local/anaconda3/envs/py35/lib/python3.6/site-packages/matplotlib/font_manager.py:1297: UserWarning: findfont: Font family ['sans-serif'] not found. Falling back to DejaVu Sans\n",
      "  (prop.get_family(), self.defaultFamily[fontext]))\n"
     ]
    },
    {
     "data": {
      "image/png": "[encoded data removed]",
      "text/plain": [
       "<matplotlib.figure.Figure at 0x7f0990065630>"
      ]
     },
     "metadata": {},
     "output_type": "display_data"
    }
   ],
   "source": [
    "plt.figure()\n",
    "for ii in range(1, numslices):\n",
    "    if len(massarray[ii] > 0):\n",
    "        phic = np.sum(rmcat['P_CEN'][massarray[ii]])/(len(massarray[ii])*mdiff)\n",
    "        phis = np.sum(rmcat['P_SAT'][massarray[ii]])/(len(massarray[ii])*mdiff)\n",
    "        phi = phic + phis \n",
    "        plt.plot(masschunks[1][ii], phic, 'ko')\n",
    "        plt.plot(masschunks[1][ii], phis, 'ro')\n",
    "        plt.plot(masschunks[1][ii], phi, 'bo')"
   ]
  },
  {
   "cell_type": "code",
   "execution_count": null,
   "metadata": {
    "collapsed": true
   },
   "outputs": [],
   "source": []
  }
 ],
 "metadata": {
  "kernelspec": {
   "display_name": "Python 3",
   "language": "python",
   "name": "python3"
  },
  "language_info": {
   "codemirror_mode": {
    "name": "ipython",
    "version": 3
   },
   "file_extension": ".py",
   "mimetype": "text/x-python",
   "name": "python",
   "nbconvert_exporter": "python",
   "pygments_lexer": "ipython3",
   "version": "3.6.1"
  }
 },
 "nbformat": 4,
 "nbformat_minor": 2
}
