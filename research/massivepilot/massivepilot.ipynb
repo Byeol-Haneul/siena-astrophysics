{
 "cells": [
  {
   "cell_type": "markdown",
   "metadata": {},
   "source": [
    "# ToDo"
   ]
  },
  {
   "cell_type": "markdown",
   "metadata": {},
   "source": [
    "What do we have\n",
    "---------------\n",
    "\n",
    "* SDSS/DR8 redmapper cluster catalog (N~400,000 central galaxies) -- redmapper_isedfit_v5.10_centrals.fits\n",
    "* redmapper catalog matched to DECaLS/DR3 (N~250,000 matches) -- tractor-redmapper_isedfit_v5.10_centrals.fits\n"
   ]
  },
  {
   "cell_type": "markdown",
   "metadata": {},
   "source": [
    "### Convenient References\n",
    "* [DECaLS Documentation](http://legacysurvey.org/)\n",
    "* [GitHub Repository](https://github.com/moustakas/siena-astrophysics)\n",
    "* [Markdown Quick Reference Guide](https://en.support.wordpress.com/markdown-quick-reference)\n",
    "* [FITS Documentation](http://docs.astropy.org/en/stable/io/fits/#)"
   ]
  },
  {
   "cell_type": "code",
   "execution_count": null,
   "metadata": {
    "collapsed": true
   },
   "outputs": [],
   "source": [
    "from __future__ import division, print_function\n",
    "\n",
    "import os\n",
    "\n",
    "from astropy.io import fits\n",
    "import numpy as np"
   ]
  },
  {
   "cell_type": "markdown",
   "metadata": {},
   "source": [
    "### Define the operations to be performed in the subsequent cells."
   ]
  },
  {
   "cell_type": "code",
   "execution_count": null,
   "metadata": {
    "collapsed": true
   },
   "outputs": [],
   "source": [
    "# Trims data; outputs trimmed data into a fits file\n",
    "CUTS = True "
   ]
  },
  {
   "cell_type": "markdown",
   "metadata": {},
   "source": [
    "### Specify the path and the file."
   ]
  },
  {
   "cell_type": "code",
   "execution_count": null,
   "metadata": {
    "collapsed": true
   },
   "outputs": [],
   "source": [
    "path = '/home/kjnapes/'\n",
    "file = ''"
   ]
  },
  {
   "cell_type": "code",
   "execution_count": null,
   "metadata": {
    "collapsed": true
   },
   "outputs": [],
   "source": [
    "data = fits.getdata(os.join(path, file))\n",
    "print('hello')"
   ]
  },
  {
   "cell_type": "code",
   "execution_count": null,
   "metadata": {
    "collapsed": true
   },
   "outputs": [],
   "source": [
    "if CUTS == True:\n",
    "    keep = np.where(data == -1)\n",
    "    newdata = np.delete(data, keep)\n",
    "    newdata.writeto('newdata.fits')"
   ]
  },
  {
   "cell_type": "code",
   "execution_count": null,
   "metadata": {
    "collapsed": true
   },
   "outputs": [],
   "source": []
  },
  {
   "cell_type": "code",
   "execution_count": null,
   "metadata": {
    "collapsed": true
   },
   "outputs": [],
   "source": []
  }
 ],
 "metadata": {
  "anaconda-cloud": {},
  "kernelspec": {
   "display_name": "Python 3",
   "language": "python",
   "name": "python3"
  },
  "language_info": {
   "codemirror_mode": {
    "name": "ipython",
    "version": 3
   },
   "file_extension": ".py",
   "mimetype": "text/x-python",
   "name": "python",
   "nbconvert_exporter": "python",
   "pygments_lexer": "ipython3",
   "version": "3.4.2"
  }
 },
 "nbformat": 4,
 "nbformat_minor": 1
}
