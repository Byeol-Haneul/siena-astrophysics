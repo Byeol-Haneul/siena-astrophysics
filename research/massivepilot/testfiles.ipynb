{
 "cells": [
  {
   "cell_type": "code",
   "execution_count": 2,
   "metadata": {
    "collapsed": true
   },
   "outputs": [],
   "source": [
    "path = '/global/work/projects/legacysurvey/legacycentrals'"
   ]
  },
  {
   "cell_type": "code",
   "execution_count": 5,
   "metadata": {
    "collapsed": true
   },
   "outputs": [],
   "source": [
    "# numpy nd array is like a smart dictionary"
   ]
  },
  {
   "cell_type": "markdown",
   "metadata": {
    "collapsed": true
   },
   "source": [
    "# An Exploration of the Stellar Mass Function of BCGs\n",
    "\n",
    "* This directory is dedicated to the study of the masses of BCGs in galaxy \n",
    "clusters. \n",
    "\n",
    "* NOTE: My own (very basic) CLF calculator is under lumfunc.ipynb. The variable names suggest that the mass function is being studied in the notebook. However, this is just a consequence of my laziness when making modifications; relic of the notebook's development. It is in semi-functioning condition, returning the expected lognormal distribution for $\\Phi (L)$ versus $L (L_{\\odot})$. \n",
    "\n",
    "* Reddick's code and files are available on NYX at: `/global/work/projects/redmapper/csmf`\n",
    "\n",
    "* <a href=\"https://www.evernote.com/shard/s730/sh/982bd8b9-3c15-4fe1-be5c-5068f7995aa3/936bc9c36eb37628\" target=\"_blank\">Here are Reddick's notes on the code.</a>\n",
    "\n",
    "\n",
    "##### A few notes on the use of the code:\n",
    "\n",
    "* The codes are all written in Python 2. \n",
    "* `chtolib` ***needs*** to be in the `redmapper` directory at the moment.\n",
    "* The code requires `pyfits` (installed using pip)\n",
    "* The code requires `esutil` (installed using pip)\n",
    "* The code requires `healpy` (installed using pip)\n",
    "\n",
    "\n",
    "##### Calculating the Conditional Stellar Mass Function (CSMF):\n",
    "\n",
    "* "
   ]
  },
  {
   "cell_type": "code",
   "execution_count": null,
   "metadata": {
    "collapsed": true
   },
   "outputs": [],
   "source": []
  }
 ],
 "metadata": {
  "kernelspec": {
   "display_name": "Python 2",
   "language": "python",
   "name": "python2"
  },
  "language_info": {
   "codemirror_mode": {
    "name": "ipython",
    "version": 2
   },
   "file_extension": ".py",
   "mimetype": "text/x-python",
   "name": "python",
   "nbconvert_exporter": "python",
   "pygments_lexer": "ipython2",
   "version": "2.7.13"
  }
 },
 "nbformat": 4,
 "nbformat_minor": 2
}
