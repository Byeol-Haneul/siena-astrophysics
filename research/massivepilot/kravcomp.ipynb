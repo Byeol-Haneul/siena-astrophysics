{
 "cells": [
  {
   "cell_type": "code",
   "execution_count": 113,
   "metadata": {},
   "outputs": [
    {
     "name": "stdout",
     "output_type": "stream",
     "text": [
      "Populating the interactive namespace from numpy and matplotlib\n"
     ]
    }
   ],
   "source": [
    "import os\n",
    "\n",
    "import numpy as np\n",
    "import matplotlib.pyplot as plt\n",
    "\n",
    "from astropy.io.ascii import read\n",
    "import fitsio\n",
    "\n",
    "%pylab inline"
   ]
  },
  {
   "cell_type": "code",
   "execution_count": 114,
   "metadata": {
    "collapsed": true
   },
   "outputs": [],
   "source": [
    "rmpath = os.path.join(os.sep, 'global', 'work', 'projects', 'redmapper')\n",
    "rmcatfile = os.path.join(rmpath, 'redmapper_isedfit_v5.10_centrals.fits.gz')\n",
    "# Set a path... just doing this on the fly for now.\n",
    "kravsources = 'kravsources.txt'"
   ]
  },
  {
   "cell_type": "code",
   "execution_count": 115,
   "metadata": {
    "collapsed": true
   },
   "outputs": [],
   "source": [
    "rminfo = fitsio.FITS(rmcatfile)\n",
    "rmcat = rminfo[1].read(columns=['Z', 'RA', 'DEC', 'MSTAR'])"
   ]
  },
  {
   "cell_type": "code",
   "execution_count": 116,
   "metadata": {
    "collapsed": true
   },
   "outputs": [],
   "source": [
    "sourceRA, sourceDEC, helioZ = np.loadtxt(kravsources, unpack=True, usecols=(1,2,3))\n",
    "name = np.genfromtxt(kravsources, dtype='U', usecols=0)"
   ]
  },
  {
   "cell_type": "code",
   "execution_count": 117,
   "metadata": {
    "collapsed": true
   },
   "outputs": [],
   "source": [
    "from astropy.coordinates import SkyCoord\n",
    "from astropy import units as u"
   ]
  },
  {
   "cell_type": "code",
   "execution_count": 118,
   "metadata": {
    "collapsed": true
   },
   "outputs": [],
   "source": [
    "rcoord = SkyCoord(ra=rmcat['RA']*u.degree, dec=rmcat['DEC']*u.degree)\n",
    "kravcoord = SkyCoord(ra=sourceRA*u.degree, dec=sourceDEC*u.degree)\n",
    "idx, sep2d, dist3d = kravcoord.match_to_catalog_sky(rcoord, nthneighbor=1)"
   ]
  },
  {
   "cell_type": "code",
   "execution_count": 119,
   "metadata": {},
   "outputs": [
    {
     "name": "stdout",
     "output_type": "stream",
     "text": [
      "9\n",
      "[     0 239264 371354    232    548    623   3007 170802 387725]\n"
     ]
    }
   ],
   "source": [
    "print(len(idx))\n",
    "print(idx)"
   ]
  },
  {
   "cell_type": "code",
   "execution_count": 120,
   "metadata": {},
   "outputs": [
    {
     "data": {
      "text/plain": [
       "4"
      ]
     },
     "execution_count": 120,
     "metadata": {},
     "output_type": "execute_result"
    }
   ],
   "source": [
    "gd = np.where(sep2d < 50 * u.arcsec)[0] # at 50 there are 4 matches... that tolerance seems high\n",
    "len(gd)"
   ]
  },
  {
   "cell_type": "code",
   "execution_count": 121,
   "metadata": {},
   "outputs": [
    {
     "name": "stdout",
     "output_type": "stream",
     "text": [
      "[0 3 4 5]\n",
      "[\"'A2142'\" \"'A1795'\" \"'MKW3s'\" \"'A2052'\"]\n",
      "[ 12.03592491  12.4707346   12.04804516  10.70074081]\n"
     ]
    }
   ],
   "source": [
    "print(gd)\n",
    "print(name[gd])\n",
    "print(rmcat['MSTAR'][idx[gd]])"
   ]
  },
  {
   "cell_type": "code",
   "execution_count": 122,
   "metadata": {},
   "outputs": [
    {
     "name": "stdout",
     "output_type": "stream",
     "text": [
      "[ 239.58332907  207.22202106  230.46604816  229.18537268]\n",
      "[ 27.23341292  26.60373126   7.70881574   7.02162407]\n",
      "[ 0.09577668  0.06997315  0.06400454  0.05806554]\n"
     ]
    }
   ],
   "source": [
    "print(rmcat['RA'][idx[gd]])\n",
    "print(rmcat['DEC'][idx[gd]])\n",
    "print(rmcat['Z'][idx[gd]]) # The redshifts are a little off..."
   ]
  },
  {
   "cell_type": "code",
   "execution_count": 123,
   "metadata": {},
   "outputs": [
    {
     "data": {
      "text/plain": [
       "<matplotlib.legend.Legend at 0x7fe31a032898>"
      ]
     },
     "execution_count": 123,
     "metadata": {},
     "output_type": "execute_result"
    },
    {
     "name": "stderr",
     "output_type": "stream",
     "text": [
      "/usr/local/anaconda3/envs/py35/lib/python3.6/site-packages/matplotlib/font_manager.py:1297: UserWarning: findfont: Font family ['sans-serif'] not found. Falling back to DejaVu Sans\n",
      "  (prop.get_family(), self.defaultFamily[fontext]))\n"
     ]
    },
    {
     "data": {
      "image/png": "[encoded data removed]",
      "text/plain": [
       "<matplotlib.figure.Figure at 0x7fe31a1200b8>"
      ]
     },
     "metadata": {},
     "output_type": "display_data"
    }
   ],
   "source": [
    "# All\n",
    "fig, ax = plt.subplots()\n",
    "ax.scatter(rmcat['RA'], rmcat['DEC'], label='Redmapper')\n",
    "ax.scatter(sourceRA, sourceDEC, alpha=0.9, label='Kravtsov')\n",
    "ax.legend(loc='upper left')"
   ]
  },
  {
   "cell_type": "code",
   "execution_count": 124,
   "metadata": {},
   "outputs": [
    {
     "data": {
      "text/plain": [
       "<matplotlib.legend.Legend at 0x7fe319fe6cc0>"
      ]
     },
     "execution_count": 124,
     "metadata": {},
     "output_type": "execute_result"
    },
    {
     "name": "stderr",
     "output_type": "stream",
     "text": [
      "/usr/local/anaconda3/envs/py35/lib/python3.6/site-packages/matplotlib/font_manager.py:1297: UserWarning: findfont: Font family ['sans-serif'] not found. Falling back to DejaVu Sans\n",
      "  (prop.get_family(), self.defaultFamily[fontext]))\n"
     ]
    },
    {
     "data": {
      "image/png": "[encoded data removed]",
      "text/plain": [
       "<matplotlib.figure.Figure at 0x7fe31932be48>"
      ]
     },
     "metadata": {},
     "output_type": "display_data"
    }
   ],
   "source": [
    "# Matches\n",
    "fig, ax = plt.subplots()\n",
    "ax.scatter(rmcat['RA'], rmcat['DEC'], label='Redmapper')\n",
    "ax.scatter(sourceRA[gd], sourceDEC[gd], alpha=0.9, label='Kravtsov')\n",
    "ax.legend(loc='upper left')"
   ]
  },
  {
   "cell_type": "code",
   "execution_count": null,
   "metadata": {
    "collapsed": true
   },
   "outputs": [],
   "source": []
  }
 ],
 "metadata": {
  "kernelspec": {
   "display_name": "Python 3",
   "language": "python",
   "name": "python3"
  },
  "language_info": {
   "codemirror_mode": {
    "name": "ipython",
    "version": 3
   },
   "file_extension": ".py",
   "mimetype": "text/x-python",
   "name": "python",
   "nbconvert_exporter": "python",
   "pygments_lexer": "ipython3",
   "version": "3.6.1"
  }
 },
 "nbformat": 4,
 "nbformat_minor": 2
}
