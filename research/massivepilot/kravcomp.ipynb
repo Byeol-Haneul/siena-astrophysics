{
 "cells": [
  {
   "cell_type": "markdown",
   "metadata": {},
   "source": [
    "# Objective: Match Kravtsov's BCGs to objects in RedMaPPer\n",
    "\n",
    "* In this notebook, we first use the `astropy` function `match_catalog_to_sky` to find the overlap between Kravtsov's BCGs and our `RedMaPPer` sample. The RA/Dec of the sources from Kravtsov were hand-picked from SDSS DR13. Our finalized coordinates are available on our GutHub in an `ecsv` file.\n",
    "\n",
    "    * [SDSS DR13](http://skyserver.sdss.org/dr13/en/tools/chart/navi.aspx)\n",
    "    * [Finalized Coordinates](https://github.com/moustakas/siena-astrophysics/blob/masscompare/research/massivepilot/kravsources.ecsv)\n",
    "\n",
    "\n",
    "* We then compare the stellar masses (M*) of the matching sources."
   ]
  },
  {
   "cell_type": "code",
   "execution_count": 1,
   "metadata": {},
   "outputs": [
    {
     "name": "stdout",
     "output_type": "stream",
     "text": [
      "Populating the interactive namespace from numpy and matplotlib\n"
     ]
    }
   ],
   "source": [
    "import os\n",
    "\n",
    "import numpy as np\n",
    "import matplotlib.pyplot as plt\n",
    "\n",
    "from astropy.io.ascii import read\n",
    "from astropy.coordinates import SkyCoord\n",
    "from astropy import units as u\n",
    "import fitsio\n",
    "import seaborn\n",
    "\n",
    "%pylab inline"
   ]
  },
  {
   "cell_type": "code",
   "execution_count": 45,
   "metadata": {
    "collapsed": true
   },
   "outputs": [],
   "source": [
    "# Reading in all necessary files and data\n",
    "rmpath = os.path.join(os.sep, 'global', 'work', 'projects', 'redmapper')\n",
    "rmcatfile = os.path.join(rmpath, 'redmapper_isedfit_v5.10_centrals.fits.gz')\n",
    "kravsources = os.path.join(os.sep, 'home','kjnapes', 'siena-astrophysics', 'research', 'massivepilot',\n",
    "                           'kravsources.txt')\n",
    "rminfo = fitsio.FITS(rmcatfile)\n",
    "rmcat = rminfo[1].read(columns=['Z', 'RA', 'DEC', 'MSTAR_50', 'MSTAR_AVG', 'MSTAR_ERR'])\n",
    "sourceRA, sourceDEC, helioZ = np.loadtxt(kravsources, unpack=True, usecols=(1,2,3))\n",
    "name = np.genfromtxt(kravsources, dtype='U', usecols=0)"
   ]
  },
  {
   "cell_type": "code",
   "execution_count": 55,
   "metadata": {
    "collapsed": true
   },
   "outputs": [],
   "source": [
    "# Cross-matching catalogs\n",
    "rcoord = SkyCoord(ra=rmcat['RA']*u.degree, dec=rmcat['DEC']*u.degree)\n",
    "kravcoord = SkyCoord(ra=sourceRA*u.degree, dec=sourceDEC*u.degree)\n",
    "idx, sep2d, dist3d = kravcoord.match_to_catalog_sky(rcoord, nthneighbor=1)\n",
    "\n",
    "# Applying a limiting tolerance to matches\n",
    "gd = np.where(sep2d < 30 * u.arcsec)[0]"
   ]
  },
  {
   "cell_type": "code",
   "execution_count": 50,
   "metadata": {},
   "outputs": [
    {
     "data": {
      "text/plain": [
       "<matplotlib.legend.Legend at 0x7f407251c898>"
      ]
     },
     "execution_count": 50,
     "metadata": {},
     "output_type": "execute_result"
    },
    {
     "data": {
      "image/png": "[encoded data removed]",
      "text/plain": [
       "<matplotlib.figure.Figure at 0x7f4098b38ef0>"
      ]
     },
     "metadata": {},
     "output_type": "display_data"
    }
   ],
   "source": [
    "# Taking a look at the overlap between matches\n",
    "fig = plt.figure(figsize(10,4))\n",
    "\n",
    "ax2 = fig.add_subplot(121)\n",
    "ax2.scatter(rmcat['RA'], rmcat['DEC'], label='Redmapper')\n",
    "ax2.scatter(sourceRA, sourceDEC, alpha=0.9, label='Kravtsov')\n",
    "ax2.legend(loc='upper left')\n",
    "\n",
    "ax1 = fig.add_subplot(122)\n",
    "ax1.scatter(rmcat['RA'], rmcat['DEC'], label='Redmapper')\n",
    "ax1.scatter(sourceRA[gd], sourceDEC[gd], alpha=0.9, label='Kravtsov')\n",
    "ax1.legend(loc='upper left')"
   ]
  },
  {
   "cell_type": "code",
   "execution_count": 57,
   "metadata": {},
   "outputs": [
    {
     "name": "stdout",
     "output_type": "stream",
     "text": [
      "[0 4 5]\n",
      "[\"'A2142'\" \"'MKW3s'\" \"'A2052'\"]\n",
      "[ 239.58332907  230.46604816  229.18537268]\n",
      "[ 27.23341292   7.70881574   7.02162407]\n",
      "[ 0.09577668  0.06400454  0.05806554]\n",
      "[ 12.03588104  12.04784679  10.70101738]\n",
      "[ 12.00933456  12.06140423  10.70101643]\n",
      "[ 0.06717658  0.02627182  0.        ]\n"
     ]
    }
   ],
   "source": [
    "# Looking at the indices and properties of the matches. \n",
    "print(gd)\n",
    "print(name[gd])\n",
    "print(rmcat['RA'][idx[gd]])\n",
    "print(rmcat['DEC'][idx[gd]])\n",
    "print(rmcat['Z'][idx[gd]]) # The redshifts are a little off...\n",
    "print(rmcat['MSTAR_50'][idx[gd]])\n",
    "print(rmcat['MSTAR_AVG'][idx[gd]])\n",
    "print(rmcat['MSTAR_ERR'][idx[gd]])"
   ]
  },
  {
   "cell_type": "code",
   "execution_count": null,
   "metadata": {
    "collapsed": true
   },
   "outputs": [],
   "source": []
  }
 ],
 "metadata": {
  "kernelspec": {
   "display_name": "Python 3",
   "language": "python",
   "name": "python3"
  },
  "language_info": {
   "codemirror_mode": {
    "name": "ipython",
    "version": 3
   },
   "file_extension": ".py",
   "mimetype": "text/x-python",
   "name": "python",
   "nbconvert_exporter": "python",
   "pygments_lexer": "ipython3",
   "version": "3.6.1"
  }
 },
 "nbformat": 4,
 "nbformat_minor": 2
}
