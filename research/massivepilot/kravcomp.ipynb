{
 "cells": [
  {
   "cell_type": "markdown",
   "metadata": {},
   "source": [
    "# Objective: Match Kravtsov's BCGs to objects in RedMaPPer\n",
    "\n",
    "* Kravtsov (2014) considers a sample of nine Brightest Cluster Galaxies, comparing their stellar mass estimates with those of Bernardi et al.\n",
    "\n",
    "\n",
    "* In this notebook, we first use the `astropy` function `match_catalog_to_sky` to find the overlap between Kravtsov's BCGs and our `RedMaPPer` sample. The RA/Dec of the sources from Kravtsov were hand-picked from SDSS DR13. Our finalized coordinates are available on our GutHub in an `ecsv` file.\n",
    "\n",
    "    * <a href=\"http://skyserver.sdss.org/dr13/en/tools/chart/navi.aspx\" target=\"_blank\">SDSS DR13</a>\n",
    "    * <a href=\"http://legacysurvey.org/viewer\" target=\"_blank\">DECaLS Sky Viewer</a>\n",
    "    * <a href=\"https://github.com/moustakas/siena-astrophysics/blob/masscompare/research/massivepilot/kravsources.ecsv\" target=\"_blank\">Finalized Coordinates</a>\n",
    "    \n",
    "    * <a href=\"https://yymao.github.io/decals-image-list-tool/\" target=\"_blank\">Make Some Quick Cutouts</a>\n",
    "\n",
    "\n",
    "* We then compare the stellar masses (M*) of the matching sources."
   ]
  },
  {
   "cell_type": "code",
   "execution_count": 1,
   "metadata": {},
   "outputs": [
    {
     "data": {
      "text/html": [
       "<center><img src=\"https://omundy.files.wordpress.com/2012/04/i-will-not-write-any-more-bad-code.gif\" \n",
       "alt=\"Jokes\"></center>"
      ],
      "text/plain": [
       "<IPython.core.display.HTML object>"
      ]
     },
     "metadata": {},
     "output_type": "display_data"
    }
   ],
   "source": [
    "%%html\n",
    "<center><img src=\"https://omundy.files.wordpress.com/2012/04/i-will-not-write-any-more-bad-code.gif\" \n",
    "alt=\"Jokes\"></center>"
   ]
  },
  {
   "cell_type": "code",
   "execution_count": 2,
   "metadata": {
    "collapsed": true
   },
   "outputs": [],
   "source": [
    "import os"
   ]
  },
  {
   "cell_type": "code",
   "execution_count": 3,
   "metadata": {},
   "outputs": [
    {
     "name": "stdout",
     "output_type": "stream",
     "text": [
      "Populating the interactive namespace from numpy and matplotlib\n"
     ]
    }
   ],
   "source": [
    "import numpy as np\n",
    "import matplotlib.pyplot as plt\n",
    "%pylab inline"
   ]
  },
  {
   "cell_type": "code",
   "execution_count": 4,
   "metadata": {
    "collapsed": true
   },
   "outputs": [],
   "source": [
    "from astropy.io.ascii import read\n",
    "from astropy.coordinates import SkyCoord\n",
    "from astropy import units as u\n",
    "from astropy.io import fits\n",
    "import fitsio\n",
    "import seaborn"
   ]
  },
  {
   "cell_type": "markdown",
   "metadata": {},
   "source": [
    "## Reading in all necessary data and making initial cuts."
   ]
  },
  {
   "cell_type": "code",
   "execution_count": 5,
   "metadata": {
    "collapsed": true
   },
   "outputs": [],
   "source": [
    "# Setting convenient paths.\n",
    "pypath = os.path.join(os.sep, 'global', 'work', 'projects', 'legacysurvey', 'legacycentrals')\n",
    "meertcat = os.path.join(pypath, 'meert_et_al_data_tables_v2')\n",
    "mendelcat = os.path.join(pypath, 'UPenn_PhotDec_Mstar_mlMendel14.dat')\n",
    "wisccat = os.path.join(pypath, 'UPenn_PhotDec_Mstar_mlPCAWiscM11.dat')"
   ]
  },
  {
   "cell_type": "code",
   "execution_count": 6,
   "metadata": {
    "collapsed": true
   },
   "outputs": [],
   "source": [
    "# Read the Mendel catalog\n",
    "columns = ('GalCount', 'FlagSerExp', 'Mstar_Tab5_Pymorph',\n",
    "           'Mstar_Tab5_Truncated', 'Mstar_Tab3_Pymorph',\n",
    "           'Mstar_Tab3_Truncated', 'Mstar_Tab5_Mendel',\n",
    "           'Mstar_Tab3_Mendel', 'Mstar_Tab5_cModel',\n",
    "           'Mstar_Tab3_cModel')\n",
    "dtype = np.dtype([(col, np.float) for col in columns])\n",
    "allmendel = np.loadtxt(mendelcat, dtype=dtype)"
   ]
  },
  {
   "cell_type": "code",
   "execution_count": 7,
   "metadata": {},
   "outputs": [
    {
     "name": "stdout",
     "output_type": "stream",
     "text": [
      "Keeping 628919 / 670722 measurements in the Mendel catalog.\n"
     ]
    }
   ],
   "source": [
    "# Trim the Mendel catalog. Here we simply remove the bad flags.\n",
    "keep = (np.where(allmendel['FlagSerExp'] == 0))[0]\n",
    "print('Keeping {} / {} measurements in the Mendel catalog.'.format(len(keep), len(allmendel)))\n",
    "mendel = allmendel[keep]"
   ]
  },
  {
   "cell_type": "code",
   "execution_count": 8,
   "metadata": {
    "collapsed": true
   },
   "outputs": [],
   "source": [
    "# Read the parent Meert catalog to get ra, dec and other info.\n",
    "upennpath = os.path.join(pypath, 'meert_et_al_data_tables_v2')\n",
    "upenncatfile = os.path.join(upennpath, 'UPenn_PhotDec_CAST.fits')\n",
    "upenncat = fitsio.read(upenncatfile, ext=1, rows=keep, upper=True)"
   ]
  },
  {
   "cell_type": "code",
   "execution_count": 9,
   "metadata": {
    "collapsed": true
   },
   "outputs": [],
   "source": [
    "# Reading in all the RedMaPPer iSEDfit catalog.\n",
    "rmpath = os.path.join(os.sep, 'global', 'work', 'projects', 'redmapper')\n",
    "rmcatfile = os.path.join(rmpath, 'redmapper_isedfit_v5.10_centrals.fits.gz')\n",
    "rminfo = fitsio.FITS(rmcatfile)\n",
    "rmcat = rminfo[1].read(columns=['MEM_MATCH_ID', 'Z', 'RA', 'DEC', 'MSTAR_50', 'MSTAR_AVG', 'MSTAR_ERR'])"
   ]
  },
  {
   "cell_type": "code",
   "execution_count": 10,
   "metadata": {
    "collapsed": true
   },
   "outputs": [],
   "source": [
    "matched = os.path.join(os.sep, 'home', 'kjnapes')\n",
    "mcentrals = os.path.join(matched, 'tractor_redmapper_isedfit_matches_centrals.fits')\n",
    "matchedinfo = fitsio.FITS(mcentrals)\n",
    "matchedcat = matchedinfo[1].read(columns=['RA', 'DEC'])"
   ]
  },
  {
   "cell_type": "code",
   "execution_count": 11,
   "metadata": {
    "collapsed": true
   },
   "outputs": [],
   "source": [
    "#rcoord = SkyCoord(ra=matchedcat['RA']*u.degree, dec=matchedcat['DEC']*u.degree)\n",
    "#rmcoord = SkyCoord(ra=rmcat['RA']*u.degree, dec=rmcat['DEC']*u.degree)\n",
    "#idx, sep2d, dist3d = rcoord.match_to_catalog_sky(rmcoord, nthneighbor=1)"
   ]
  },
  {
   "cell_type": "code",
   "execution_count": 12,
   "metadata": {
    "collapsed": true
   },
   "outputs": [],
   "source": [
    "#gd = np.where(sep2d < 0.001 * u.arcsec)[0]\n",
    "#print(len(gd))"
   ]
  },
  {
   "cell_type": "code",
   "execution_count": 13,
   "metadata": {
    "collapsed": true
   },
   "outputs": [],
   "source": [
    "# WARNING! This cell is huge. It takes a long time to run.\n",
    "satellites = os.path.join(rmpath, 'redmapper_isedfit_v5.10_satellites.fits.gz')\n",
    "satinfo = fits.open(satellites)"
   ]
  },
  {
   "cell_type": "code",
   "execution_count": 14,
   "metadata": {
    "collapsed": true
   },
   "outputs": [],
   "source": [
    "#rcoord = SkyCoord(ra=matchedcat['RA']*u.degree, dec=matchedcat['DEC']*u.degree)\n",
    "#rmcoord = SkyCoord(ra=satinfo[1].data['RA']*u.degree, dec=satinfo[1].data['DEC']*u.degree)\n",
    "#idx, sep2d, dist3d = rcoord.match_to_catalog_sky(rmcoord, nthneighbor=1)"
   ]
  },
  {
   "cell_type": "code",
   "execution_count": 15,
   "metadata": {
    "collapsed": true
   },
   "outputs": [],
   "source": [
    "#gd = np.where(sep2d < 0.001 * u.arcsec)[0]\n",
    "#print(len(gd))"
   ]
  },
  {
   "cell_type": "code",
   "execution_count": 16,
   "metadata": {
    "collapsed": true
   },
   "outputs": [],
   "source": [
    "rcoord = SkyCoord(ra=satinfo[1].data['RA']*u.degree, dec=satinfo[1].data['DEC']*u.degree)\n",
    "rmcoord = SkyCoord(ra=rmcat['RA']*u.degree, dec=rmcat['DEC']*u.degree)\n",
    "idx, sep2d, dist3d = rcoord.match_to_catalog_sky(rmcoord, nthneighbor=1)"
   ]
  },
  {
   "cell_type": "code",
   "execution_count": 17,
   "metadata": {
    "collapsed": true
   },
   "outputs": [],
   "source": [
    "gd = np.where(sep2d < 0.001 * u.arcsec)[0]\n",
    "#print(satinfo[1].data['RA'][gd]-rmcat['RA'][idx[gd]])"
   ]
  },
  {
   "cell_type": "code",
   "execution_count": 18,
   "metadata": {
    "collapsed": true
   },
   "outputs": [],
   "source": [
    "overlap=open(\"overlap.txt\",\"w\")\n",
    "for val in zip(rmcat['MEM_MATCH_ID'][idx[gd]], rmcat['RA'][idx[gd]],rmcat['DEC'][idx[gd]]):\n",
    "    overlap.write('{}, {}, {}\\n'.format(str(val[0]), val[1], val[2]))\n",
    "overlap.close()"
   ]
  },
  {
   "cell_type": "code",
   "execution_count": 19,
   "metadata": {
    "collapsed": true
   },
   "outputs": [],
   "source": [
    "# Reading in the RA, Dec, and helioZ of Kravtsov's selected objects.\n",
    "kravsources = os.path.join(os.sep, 'home','kjnapes', 'siena-astrophysics', 'research', 'massivepilot',\n",
    "                           'kravsources.txt')\n",
    "sourceRA, sourceDEC = np.loadtxt(kravsources, unpack=True, usecols=(1,2))\n",
    "name = np.genfromtxt(kravsources, dtype='U', usecols=0)"
   ]
  },
  {
   "cell_type": "code",
   "execution_count": 20,
   "metadata": {
    "collapsed": true
   },
   "outputs": [],
   "source": [
    "#rcoord = SkyCoord(ra=satinfo[1].data['RA']*u.degree, dec=satinfo[1].data['DEC']*u.degree)\n",
    "#kravcoord = SkyCoord(ra=sourceRA*u.degree, dec=sourceDEC*u.degree)\n",
    "#idx, sep2d, dist3d = kravcoord.match_to_catalog_sky(rcoord, nthneighbor=1)"
   ]
  },
  {
   "cell_type": "code",
   "execution_count": 21,
   "metadata": {},
   "outputs": [
    {
     "name": "stdout",
     "output_type": "stream",
     "text": [
      "20733\n"
     ]
    },
    {
     "ename": "IndexError",
     "evalue": "index 502 is out of bounds for axis 1 with size 9",
     "output_type": "error",
     "traceback": [
      "\u001b[0;31m---------------------------------------------------------------------------\u001b[0m",
      "\u001b[0;31mIndexError\u001b[0m                                Traceback (most recent call last)",
      "\u001b[0;32m<ipython-input-21-9a93a428afd5>\u001b[0m in \u001b[0;36m<module>\u001b[0;34m()\u001b[0m\n\u001b[1;32m      2\u001b[0m \u001b[0mgd\u001b[0m \u001b[0;34m=\u001b[0m \u001b[0mnp\u001b[0m\u001b[0;34m.\u001b[0m\u001b[0mwhere\u001b[0m\u001b[0;34m(\u001b[0m\u001b[0msep2d\u001b[0m \u001b[0;34m<\u001b[0m \u001b[0;36m3\u001b[0m \u001b[0;34m*\u001b[0m \u001b[0mu\u001b[0m\u001b[0;34m.\u001b[0m\u001b[0marcsec\u001b[0m\u001b[0;34m)\u001b[0m\u001b[0;34m[\u001b[0m\u001b[0;36m0\u001b[0m\u001b[0;34m]\u001b[0m\u001b[0;34m\u001b[0m\u001b[0m\n\u001b[1;32m      3\u001b[0m \u001b[0mprint\u001b[0m\u001b[0;34m(\u001b[0m\u001b[0mlen\u001b[0m\u001b[0;34m(\u001b[0m\u001b[0mgd\u001b[0m\u001b[0;34m)\u001b[0m\u001b[0;34m)\u001b[0m\u001b[0;34m\u001b[0m\u001b[0m\n\u001b[0;32m----> 4\u001b[0;31m \u001b[0mprint\u001b[0m\u001b[0;34m(\u001b[0m\u001b[0mname\u001b[0m\u001b[0;34m[\u001b[0m\u001b[0mgd\u001b[0m\u001b[0;34m]\u001b[0m\u001b[0;34m)\u001b[0m\u001b[0;34m\u001b[0m\u001b[0m\n\u001b[0m\u001b[1;32m      5\u001b[0m \u001b[0mprint\u001b[0m\u001b[0;34m(\u001b[0m\u001b[0msatinfo\u001b[0m\u001b[0;34m[\u001b[0m\u001b[0;36m1\u001b[0m\u001b[0;34m]\u001b[0m\u001b[0;34m.\u001b[0m\u001b[0mdata\u001b[0m\u001b[0;34m[\u001b[0m\u001b[0;34m'RA'\u001b[0m\u001b[0;34m]\u001b[0m\u001b[0;34m[\u001b[0m\u001b[0midx\u001b[0m\u001b[0;34m[\u001b[0m\u001b[0mgd\u001b[0m\u001b[0;34m]\u001b[0m\u001b[0;34m]\u001b[0m\u001b[0;34m)\u001b[0m\u001b[0;34m\u001b[0m\u001b[0m\n\u001b[1;32m      6\u001b[0m \u001b[0mprint\u001b[0m\u001b[0;34m(\u001b[0m\u001b[0msatinfo\u001b[0m\u001b[0;34m[\u001b[0m\u001b[0;36m1\u001b[0m\u001b[0;34m]\u001b[0m\u001b[0;34m.\u001b[0m\u001b[0mdata\u001b[0m\u001b[0;34m[\u001b[0m\u001b[0;34m'DEC'\u001b[0m\u001b[0;34m]\u001b[0m\u001b[0;34m[\u001b[0m\u001b[0midx\u001b[0m\u001b[0;34m[\u001b[0m\u001b[0mgd\u001b[0m\u001b[0;34m]\u001b[0m\u001b[0;34m]\u001b[0m\u001b[0;34m)\u001b[0m\u001b[0;34m\u001b[0m\u001b[0m\n",
      "\u001b[0;31mIndexError\u001b[0m: index 502 is out of bounds for axis 1 with size 9"
     ]
    }
   ],
   "source": [
    "# Applying a limiting tolerance to matches. 30 arcseconds is a reasonable radius.\n",
    "gd = np.where(sep2d < 3 * u.arcsec)[0]\n",
    "print(len(gd))\n",
    "print(name[gd])\n",
    "print(satinfo[1].data['RA'][idx[gd]])\n",
    "print(satinfo[1].data['DEC'][idx[gd]])\n",
    "print(satinfo[1].data['Z'][idx[gd]]) # The redshifts are a little off...\n",
    "print(satinfo[1].data['MSTAR_50'][idx[gd]])\n",
    "print(satinfo[1].data['MSTAR_AVG'][idx[gd]])\n",
    "print(satinfo[1].data['MSTAR_ERR'][idx[gd]])"
   ]
  },
  {
   "cell_type": "markdown",
   "metadata": {},
   "source": [
    "## Matching RedMaPPer and Kravtsov"
   ]
  },
  {
   "cell_type": "code",
   "execution_count": null,
   "metadata": {
    "collapsed": true
   },
   "outputs": [],
   "source": [
    "# Cross-matching catalogs\n",
    "rcoord = SkyCoord(ra=rmcat['RA']*u.degree, dec=rmcat['DEC']*u.degree)\n",
    "kravcoord = SkyCoord(ra=sourceRA*u.degree, dec=sourceDEC*u.degree)\n",
    "idx, sep2d, dist3d = kravcoord.match_to_catalog_sky(rcoord, nthneighbor=1)\n",
    "\n",
    "# Applying a limiting tolerance to matches. 30 arcseconds is a reasonable radius.\n",
    "gd = np.where(sep2d < 30 * u.arcsec)[0]"
   ]
  },
  {
   "cell_type": "code",
   "execution_count": null,
   "metadata": {},
   "outputs": [],
   "source": [
    "# Looking at the indices and properties of the matches. \n",
    "print(gd)\n",
    "print(name[gd])\n",
    "print(rmcat['RA'][idx[gd]])\n",
    "print(rmcat['DEC'][idx[gd]])\n",
    "print(rmcat['Z'][idx[gd]]) # The redshifts are a little off...\n",
    "print(rmcat['MSTAR_50'][idx[gd]])\n",
    "print(rmcat['MSTAR_AVG'][idx[gd]])\n",
    "print(rmcat['MSTAR_ERR'][idx[gd]])"
   ]
  },
  {
   "cell_type": "code",
   "execution_count": null,
   "metadata": {
    "collapsed": true
   },
   "outputs": [],
   "source": [
    "# Generate a custom FITS file for matching purposes\n",
    "from astropy.table import Table, Column\n",
    "out = Table()\n",
    "out.add_column(Column(name='RA', data=rmcat['RA'][idx[gd]]))\n",
    "out.add_column(Column(name='DEC', data=rmcat['DEC'][idx[gd]]))\n",
    "out.write(os.path.join(os.sep, 'home','kjnapes', 'siena-astrophysics', 'research', 'massivepilot',\n",
    "                           'rmmatches.fits'), overwrite=True) # Clobber is deprecated"
   ]
  },
  {
   "cell_type": "markdown",
   "metadata": {},
   "source": [
    "## Matching PyMorph and Kravtsov"
   ]
  },
  {
   "cell_type": "code",
   "execution_count": null,
   "metadata": {},
   "outputs": [],
   "source": [
    "# Cross-matching catalogs\n",
    "rcoord = SkyCoord(ra=upenncat['RA']*u.degree, dec=upenncat['DEC']*u.degree)\n",
    "kravcoord = SkyCoord(ra=sourceRA*u.degree, dec=sourceDEC*u.degree)\n",
    "idx, sep2d, dist3d = kravcoord.match_to_catalog_sky(rcoord, nthneighbor=1)\n",
    "\n",
    "# Applying a limiting tolerance to matches\n",
    "gdpy = np.where(sep2d < 30 * u.arcsec)[0]\n",
    "print(len(gdpy))"
   ]
  },
  {
   "cell_type": "code",
   "execution_count": null,
   "metadata": {},
   "outputs": [],
   "source": [
    "print(name[gdpy])\n",
    "print(upenncat['RA'][idx[gdpy]])\n",
    "print(upenncat['DEC'][idx[gdpy]])"
   ]
  },
  {
   "cell_type": "markdown",
   "metadata": {},
   "source": [
    "# Looking at the overlap between the catalogs."
   ]
  },
  {
   "cell_type": "code",
   "execution_count": null,
   "metadata": {},
   "outputs": [],
   "source": [
    "fig = plt.figure(figsize(18,14))\n",
    "\n",
    "ax2 = fig.add_subplot(221)\n",
    "ax2.scatter(rmcat['RA'], rmcat['DEC'], color='gray', label='RedMaPPer')\n",
    "ax2.scatter(sourceRA, sourceDEC, alpha=0.9, color='white', label='Kravtsov(full)')\n",
    "ax2.legend(loc='upper left')\n",
    "\n",
    "ax1 = fig.add_subplot(222)\n",
    "ax1.scatter(rmcat['RA'], rmcat['DEC'], color='gray', label='RedMaPPer')\n",
    "ax1.scatter(sourceRA[gd], sourceDEC[gd], alpha=0.9, color='white', label='Kravtsov (matched)')\n",
    "ax1.legend(loc='upper left')\n",
    "\n",
    "ax3 = fig.add_subplot(223)\n",
    "ax3.scatter(upenncat['RA'], upenncat['DEC'], color='black', label='PyMorph')\n",
    "ax3.scatter(sourceRA, sourceDEC, alpha=0.9, color='white', label='Kravtsov (full)')\n",
    "ax3.legend(loc='upper left')\n",
    "\n",
    "ax4 = fig.add_subplot(224)\n",
    "ax4.scatter(upenncat['RA'], upenncat['DEC'], color='black', label='PyMorph')\n",
    "ax4.scatter(sourceRA[gdpy], sourceDEC[gdpy], alpha=0.9, color='white', label='Kravtsov (matched)')\n",
    "ax4.legend(loc='upper left')"
   ]
  },
  {
   "cell_type": "code",
   "execution_count": null,
   "metadata": {},
   "outputs": [],
   "source": [
    "from IPython.display import IFrame\n",
    "IFrame('cutouts.html', width=700, height=1000)"
   ]
  },
  {
   "cell_type": "markdown",
   "metadata": {},
   "source": [
    "## Creating a fits file of matched redMaPPer/PyMorph, along with $\\lambda$, $M_{500}$, $M_{*,Moustakas}$, $M_{*, PyMorph}$."
   ]
  },
  {
   "cell_type": "code",
   "execution_count": 26,
   "metadata": {
    "collapsed": true
   },
   "outputs": [],
   "source": [
    "# Read the parent Meert catalog to get ra, dec and other info.\n",
    "upenncatfile = os.path.join(meertcat, 'UPenn_PhotDec_CAST.fits')\n",
    "upenncat = fitsio.read(upenncatfile, ext=1, rows=keep, upper=True)"
   ]
  },
  {
   "cell_type": "code",
   "execution_count": 33,
   "metadata": {
    "collapsed": true
   },
   "outputs": [],
   "source": [
    "rmpath = os.path.join(os.sep, 'global', 'work', 'projects', 'redmapper')\n",
    "rmcatfile = os.path.join(rmpath, 'redmapper_isedfit_v5.10_centrals.fits.gz')\n",
    "rminfo = fitsio.FITS(rmcatfile)\n",
    "rmcat = rminfo[1].read(columns=['Z', 'RA', 'DEC', 'LAMBDA_CHISQ', 'MSTAR_50', 'MSTAR_ERR', 'IMAG'])"
   ]
  },
  {
   "cell_type": "code",
   "execution_count": 34,
   "metadata": {
    "collapsed": true
   },
   "outputs": [],
   "source": [
    "# Cross-matching RedMaPPer and PyMorph\n",
    "rcoord = SkyCoord(ra=rmcat['RA']*u.degree, dec=rmcat['DEC']*u.degree)\n",
    "upenn = SkyCoord(ra=upenncat['RA']*u.degree, dec=upenncat['DEC']*u.degree)\n",
    "idx, sep2d, dist3d = rcoord.match_to_catalog_sky(upenn, nthneighbor=1)"
   ]
  },
  {
   "cell_type": "code",
   "execution_count": 35,
   "metadata": {},
   "outputs": [
    {
     "name": "stdout",
     "output_type": "stream",
     "text": [
      "19760\n"
     ]
    }
   ],
   "source": [
    "# Applying a limiting tolerance to matches\n",
    "gd = np.where(sep2d < 3 * u.arcsec)[0]\n",
    "print(len(gd))"
   ]
  },
  {
   "cell_type": "code",
   "execution_count": null,
   "metadata": {
    "collapsed": true
   },
   "outputs": [],
   "source": [
    "from astropy.table import Table, Column\n",
    "out = Table()\n",
    "out.add_column(Column(name='LAMBDA', data=rmcat['LAMBDA_CHISQ'][idx[gd]]))\n",
    "out.add_column(Column(name='DEC', data=rmcat['DEC'][idx[gd]]))\n",
    "out.write(os.path.join(os.sep, 'home','kjnapes', 'siena-astrophysics', 'research', 'massivepilot',\n",
    "                           'rmmatches.fits'), overwrite=True) # Clobber is deprecated"
   ]
  }
 ],
 "metadata": {
  "kernelspec": {
   "display_name": "Python 3",
   "language": "python",
   "name": "python3"
  },
  "language_info": {
   "codemirror_mode": {
    "name": "ipython",
    "version": 3
   },
   "file_extension": ".py",
   "mimetype": "text/x-python",
   "name": "python",
   "nbconvert_exporter": "python",
   "pygments_lexer": "ipython3",
   "version": "3.6.1"
  }
 },
 "nbformat": 4,
 "nbformat_minor": 2
}
