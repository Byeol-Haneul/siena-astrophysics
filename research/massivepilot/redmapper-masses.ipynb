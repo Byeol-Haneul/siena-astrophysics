{
 "cells": [
  {
   "cell_type": "markdown",
   "metadata": {},
   "source": [
    "## Import"
   ]
  },
  {
   "cell_type": "code",
   "execution_count": 1,
   "metadata": {},
   "outputs": [],
   "source": [
    "#from __future__ import print_function, division\n",
    "\n",
    "import os\n",
    "import numpy as np\n",
    "import fitsio"
   ]
  },
  {
   "cell_type": "code",
   "execution_count": 2,
   "metadata": {},
   "outputs": [],
   "source": [
    "import fsps\n",
    "import sedpy\n",
    "import prospect\n",
    "import time\n",
    "import emcee\n",
    "import h5py\n",
    "from prospect.models import priors, sedmodel\n",
    "from sedpy.observate import load_filters\n",
    "from prospect import fitting\n",
    "from scipy.optimize import minimize\n",
    "import plot_utils as pread\n",
    "from prospect.io import read_results, write_results\n",
    "from prospect.likelihood import lnlike_spec, lnlike_phot, write_log"
   ]
  },
  {
   "cell_type": "code",
   "execution_count": 3,
   "metadata": {},
   "outputs": [
    {
     "name": "stdout",
     "output_type": "stream",
     "text": [
      "Populating the interactive namespace from numpy and matplotlib\n"
     ]
    }
   ],
   "source": [
    "%pylab inline"
   ]
  },
  {
   "cell_type": "markdown",
   "metadata": {},
   "source": [
    "### Setup the models"
   ]
  },
  {
   "cell_type": "code",
   "execution_count": 4,
   "metadata": {
    "collapsed": true
   },
   "outputs": [],
   "source": [
    "from prospect.models import model_setup\n",
    "from prospect.sources import CSPBasis"
   ]
  },
  {
   "cell_type": "code",
   "execution_count": 5,
   "metadata": {
    "collapsed": true
   },
   "outputs": [],
   "source": [
    "#help(CSPBasis)"
   ]
  },
  {
   "cell_type": "code",
   "execution_count": 6,
   "metadata": {},
   "outputs": [
    {
     "name": "stdout",
     "output_type": "stream",
     "text": [
      "{'param_file': '', 'verbose': True, 'debug': False, 'outfile': 'redmapper-masses', 'nwalkers': 128, 'nburn': [32, 32, 64], 'niter': 512, 'do_powell': True, 'ftol': 5e-06, 'maxfev': 5000, 'initial_disp': 0.1, 'mass': 10000000000.0, 'logzsol': -0.5, 'tage': 12.0, 'tau': 3.0, 'dust2': 0.3, 'zcontinuous': 1}\n"
     ]
    }
   ],
   "source": [
    "# Specify the run parameters.\n",
    "run_params = {\n",
    "    'param_file': '',\n",
    "    'verbose': True,\n",
    "    'debug': False,\n",
    "              'outfile': 'redmapper-masses',\n",
    "              # Fitter parameters\n",
    "              'nwalkers': 128,\n",
    "              'nburn': [32, 32, 64], 'niter': 512,\n",
    "              'do_powell': True,\n",
    "              'ftol': 0.5e-5, 'maxfev': 5000,\n",
    "              'initial_disp': 0.1,\n",
    "              # Data parameters\n",
    "              #'snr': 20.0, # ???\n",
    "              #'add_noise': False, # ???\n",
    "              # Model parameters\n",
    "              'mass': 1E10,\n",
    "              'logzsol': -0.5,\n",
    "              'tage': 12.0,\n",
    "              'tau': 3.0,\n",
    "              'dust2': 0.3,\n",
    "              # Data manipulation parameters\n",
    "              #'logify_spectrum': False,\n",
    "              #'normalize_spectrum': False,\n",
    "              #'wlo':3750., 'whi':7200.,\n",
    "              # SPS parameters\n",
    "              'zcontinuous': 1,\n",
    "              }\n",
    "print(run_params)"
   ]
  },
  {
   "cell_type": "code",
   "execution_count": 7,
   "metadata": {},
   "outputs": [
    {
     "name": "stdout",
     "output_type": "stream",
     "text": [
      "['sdss_u0', 'sdss_g0', 'sdss_r0', 'sdss_i0', 'sdss_z0', 'wise_w1', 'wise_w2']\n"
     ]
    }
   ],
   "source": [
    "sdss = ['sdss_{}0'.format(b) for b in ['u','g','r','i','z']]\n",
    "wise = ['wise_{}'.format(b) for b in ['w1','w2']]\n",
    "filternames = sdss + wise\n",
    "print(filternames)"
   ]
  },
  {
   "cell_type": "code",
   "execution_count": 8,
   "metadata": {
    "collapsed": true
   },
   "outputs": [],
   "source": [
    "# load sps model (default)\n",
    "#sps = model_setup.load_sps(**run_params)\n",
    "sps = CSPBasis(zcontinuous=1, compute_vega_mags=False)"
   ]
  },
  {
   "cell_type": "code",
   "execution_count": 9,
   "metadata": {},
   "outputs": [
    {
     "name": "stdout",
     "output_type": "stream",
     "text": [
      "[<class 'sedpy.observate.Filter'>(sdss_u0), <class 'sedpy.observate.Filter'>(sdss_g0), <class 'sedpy.observate.Filter'>(sdss_r0), <class 'sedpy.observate.Filter'>(sdss_i0), <class 'sedpy.observate.Filter'>(sdss_z0), <class 'sedpy.observate.Filter'>(wise_w1), <class 'sedpy.observate.Filter'>(wise_w2)]\n"
     ]
    }
   ],
   "source": [
    "filters = load_filters(filternames)\n",
    "print(filters)\n",
    "#help(filters[0])\n",
    "#filters[0].load_filter\n",
    "#filters[0].display()"
   ]
  },
  {
   "cell_type": "code",
   "execution_count": 10,
   "metadata": {
    "collapsed": true
   },
   "outputs": [],
   "source": [
    "# create a function to read in the redmapper catalog and extract relavent files\n",
    "def readred():\n",
    "    redfile = os.path.join(os.sep, 'global', 'work', 'projects', \n",
    "                           'redmapper', 'redmapper_isedfit_v5.10_centrals.fits.gz')\n",
    "    info = fitsio.FITS(redfile)\n",
    "    # hack, read just one galaxy\n",
    "    cat = info[1].read(rows=3)\n",
    "    \n",
    "    \n",
    "    return cat"
   ]
  },
  {
   "cell_type": "code",
   "execution_count": 39,
   "metadata": {
    "collapsed": true
   },
   "outputs": [],
   "source": [
    "# Build output dictionary which contains the input photometry (our version of load_obs).\n",
    "def prospcat(redcat):\n",
    "    mask = (redcat['IVARMAGGIES'] > 0) * 1\n",
    "    # print(mask)\n",
    "    obs = {}\n",
    "    obs['maggies'] = np.squeeze(redcat['MAGGIES'])\n",
    "    with np.errstate(divide='ignore'):\n",
    "        obs['maggies_unc'] = np.squeeze(1.0/np.sqrt(redcat['IVARMAGGIES'])) #[:3, :])\n",
    "    obs['wavelength'] = None # not fitting spectra\n",
    "    obs['filternames'] = filternames\n",
    "    obs['filters'] = load_filters(filternames)\n",
    "    obs['phot_mask'] = mask  # 1 = good, 0 = bad\n",
    "    obs['isedfit_id'] = redcat['ISEDFIT_ID']\n",
    "    obs['zred'] = redcat['Z']\n",
    "    # NOT SURE IF CORRECT\n",
    "    obs['unc'] = obs['maggies_unc']\n",
    "    obs['spectrum'] = None\n",
    "    \n",
    "    \n",
    "    return obs"
   ]
  },
  {
   "cell_type": "code",
   "execution_count": 40,
   "metadata": {
    "collapsed": true
   },
   "outputs": [],
   "source": [
    "redcat = readred()"
   ]
  },
  {
   "cell_type": "code",
   "execution_count": 13,
   "metadata": {},
   "outputs": [
    {
     "data": {
      "text/plain": [
       "array([  5.39746861e+11], dtype=float32)"
      ]
     },
     "execution_count": 13,
     "metadata": {},
     "output_type": "execute_result"
    }
   ],
   "source": [
    "redcat['MSTAR']\n",
    "10**redcat['MSTAR']\n"
   ]
  },
  {
   "cell_type": "code",
   "execution_count": 14,
   "metadata": {},
   "outputs": [
    {
     "data": {
      "text/plain": [
       "1"
      ]
     },
     "execution_count": 14,
     "metadata": {},
     "output_type": "execute_result"
    }
   ],
   "source": [
    "len(redcat)"
   ]
  },
  {
   "cell_type": "code",
   "execution_count": 41,
   "metadata": {
    "collapsed": true
   },
   "outputs": [],
   "source": [
    "obs = prospcat(redcat)"
   ]
  },
  {
   "cell_type": "code",
   "execution_count": 16,
   "metadata": {
    "collapsed": true
   },
   "outputs": [],
   "source": [
    "# Load the (default?) SPS model\n",
    "def load_sps(zcontinuous=1, compute_vega_mags=False, **extras):\n",
    "    sps = CSPBasis(zcontinuous=zcontinuous,\n",
    "                   compute_vega_mags=compute_vega_mags)\n",
    "    return sps"
   ]
  },
  {
   "cell_type": "code",
   "execution_count": 17,
   "metadata": {
    "collapsed": true
   },
   "outputs": [],
   "source": [
    "sps = load_sps(**run_params)"
   ]
  },
  {
   "cell_type": "code",
   "execution_count": 18,
   "metadata": {
    "collapsed": true
   },
   "outputs": [],
   "source": [
    "# I don't think we need to load a noise model since we're only fitting photometry.(?)\n",
    "spec_noise, phot_noise = model_setup.load_gp(**run_params)"
   ]
  },
  {
   "cell_type": "code",
   "execution_count": 19,
   "metadata": {
    "collapsed": true
   },
   "outputs": [],
   "source": [
    "# Initialize the priors and then load the (default?) model.\n",
    "# TBD: Do we need to define priors on dust, fburst, etc., etc.???\n",
    "def load_model(zred, **extras):\n",
    "    model_params = []\n",
    "    \n",
    "    # Prior on distance / redshift.\n",
    "    model_params.append({'name': 'zred', 'N': 1,\n",
    "                         'isfree': False,\n",
    "                         'init': zred,\n",
    "                         'units': '',\n",
    "                         'prior_function': priors.tophat,\n",
    "                         'prior_args': {'mini': 0.0, 'maxi': 4.0}})\n",
    "    \n",
    "    # Prior on SFH.\n",
    "    model_params.append({'name': 'sfh', 'N': 1,\n",
    "                         'isfree': False,\n",
    "                         'init': 4,\n",
    "                         'units': 'type'\n",
    "                        })\n",
    "\n",
    "    model_params.append({'name': 'mass', 'N': 1,\n",
    "                         'isfree': True,\n",
    "                         'init': 5e11,\n",
    "                         'init_disp': 1e9,\n",
    "                         'units': r'M_\\odot',\n",
    "                         'prior_function': priors.tophat,\n",
    "                         'prior_args': {'mini': 1e8, 'maxi': 3e12}})\n",
    "\n",
    "    model_params.append({'name': 'logzsol', 'N': 1,\n",
    "                         'isfree': True,\n",
    "                         'init': -0.3,\n",
    "                         'init_disp': 0.3,\n",
    "                         'units': r'$\\log (Z/Z_\\odot)$',\n",
    "                         'prior_function': priors.tophat,\n",
    "                         'prior_args': {'mini':-1, 'maxi':0.19}})\n",
    "    \n",
    "    # Metallicity, tau, and age priors\n",
    "    # If zcontinuous > 1, use 3-pt smoothing\n",
    "    model_params.append({'name': 'pmetals', 'N': 1,\n",
    "                         'isfree': False,\n",
    "                         'init': 0.02,})\n",
    "                        \n",
    "    model_params.append({'name': 'tau', 'N': 1,\n",
    "                         'isfree': True,\n",
    "                         'init': 1.0,\n",
    "                         'init_disp': 0.5,\n",
    "                         'units': 'Gyr',\n",
    "                         'prior_function': priors.logarithmic,\n",
    "                         'prior_args': {'mini': 0.1, 'maxi': 100}})\n",
    "\n",
    "    model_params.append({'name': 'tage', 'N': 1,\n",
    "                        'isfree': True,\n",
    "                        'init': 10.0,\n",
    "                        'init_disp': 3.0,\n",
    "                        'units': 'Gyr',\n",
    "                        'prior_function': priors.tophat,\n",
    "                        'prior_args': {'mini': 0.101, 'maxi': 14.0}})\n",
    "    \n",
    "    return sedmodel.SedModel(model_params)"
   ]
  },
  {
   "cell_type": "code",
   "execution_count": 20,
   "metadata": {
    "collapsed": true
   },
   "outputs": [],
   "source": [
    "model = load_model(obs['zred'], **run_params)"
   ]
  },
  {
   "cell_type": "code",
   "execution_count": 21,
   "metadata": {},
   "outputs": [],
   "source": [
    "# Do we need to define our likelihood function (cf lnprobfn in the Interactive Demo)?"
   ]
  },
  {
   "cell_type": "code",
   "execution_count": 22,
   "metadata": {},
   "outputs": [
    {
     "name": "stdout",
     "output_type": "stream",
     "text": [
      "Writing to file redmapper-masses_1496171711_mcmc.h5\n"
     ]
    }
   ],
   "source": [
    "outroot = \"{0}_{1}\".format(run_params['outfile'], int(time.time()))\n",
    "try:\n",
    "    hfilename = outroot + '_mcmc.h5'\n",
    "    hfile = h5py.File(hfilename, \"a\")\n",
    "    print(\"Writing to file {}\".format(hfilename))\n",
    "    write_results.write_h5_header(hfile, run_params, model)\n",
    "    write_results.write_obs_to_h5(hfile, obs)\n",
    "except:\n",
    "    hfile = None"
   ]
  },
  {
   "cell_type": "code",
   "execution_count": 23,
   "metadata": {},
   "outputs": [
    {
     "name": "stdout",
     "output_type": "stream",
     "text": [
      "Free parameters:  ['mass', 'logzsol', 'tau', 'tage']\n",
      "Fixed parameters:  ['zred', 'sfh', 'pmetals']\n"
     ]
    }
   ],
   "source": [
    "print('Free parameters: ', model.free_params)\n",
    "print('Fixed parameters: ', model.fixed_params)"
   ]
  },
  {
   "cell_type": "code",
   "execution_count": 24,
   "metadata": {},
   "outputs": [
    {
     "data": {
      "text/plain": [
       "array([  5.00000000e+11,  -3.00000000e-01,   1.00000000e+00,\n",
       "         1.00000000e+01])"
      ]
     },
     "execution_count": 24,
     "metadata": {},
     "output_type": "execute_result"
    }
   ],
   "source": [
    "model.initial_theta"
   ]
  },
  {
   "cell_type": "code",
   "execution_count": 25,
   "metadata": {},
   "outputs": [
    {
     "data": {
      "text/plain": [
       "array([  9.10000000e+01,   9.40000000e+01,   9.60000000e+01, ...,\n",
       "         9.81700000e+07,   9.90800000e+07,   1.00000000e+08])"
      ]
     },
     "execution_count": 25,
     "metadata": {},
     "output_type": "execute_result"
    }
   ],
   "source": [
    "sps.csp.wavelengths"
   ]
  },
  {
   "cell_type": "code",
   "execution_count": 26,
   "metadata": {},
   "outputs": [
    {
     "data": {
      "text/plain": [
       "['sdss_u0', 'sdss_g0', 'sdss_r0', 'sdss_i0', 'sdss_z0', 'wise_w1', 'wise_w2']"
      ]
     },
     "execution_count": 26,
     "metadata": {},
     "output_type": "execute_result"
    }
   ],
   "source": [
    "obs['filternames']\n"
   ]
  },
  {
   "cell_type": "code",
   "execution_count": 27,
   "metadata": {},
   "outputs": [
    {
     "name": "stdout",
     "output_type": "stream",
     "text": [
      "(7,)\n"
     ]
    },
    {
     "data": {
      "text/plain": [
       "(7,)"
      ]
     },
     "execution_count": 27,
     "metadata": {},
     "output_type": "execute_result"
    }
   ],
   "source": [
    "wphot = array([f.wave_effective for f in obs['filters']])\n",
    "print(wphot.shape)\n",
    "obs['maggies'].shape"
   ]
  },
  {
   "cell_type": "code",
   "execution_count": 28,
   "metadata": {
    "scrolled": true
   },
   "outputs": [
    {
     "data": {
      "image/png": "[encoded data removed]",
      "text/plain": [
       "<matplotlib.figure.Figure at 0x7fdf1a647a20>"
      ]
     },
     "metadata": {},
     "output_type": "display_data"
    }
   ],
   "source": [
    "wspec = sps.csp.wavelengths # spectral wavelengths\n",
    "wphot = array([f.wave_effective for f in obs['filters']]) # photometric effective wavelengths\n",
    "wphot_width = array([f.effective_width for f in obs['filters']]) # photometric effective widths\n",
    "\n",
    "initial_theta = model.rectify_theta(model.initial_theta) # initial parameters\n",
    "mspec_init, mphot_init, mextra_init = model.mean_model(initial_theta, obs, sps=sps) # generate model\n",
    "\n",
    "# establish bounds\n",
    "xmin, xmax = wphot.min()*0.8, wphot.max()/0.8\n",
    "temp = interp(linspace(xmin,xmax,10000), wspec, mspec_init)\n",
    "ymin, ymax = temp.min()*0.8, temp.max()/0.8\n",
    "\n",
    "# plotting \n",
    "figure(figsize=(16,8))\n",
    "for i in range(len(wphot)):\n",
    "    f = obs['filters'][i]\n",
    "    w, t = f.wavelength.copy(), f.transmission.copy()\n",
    "    while t.max() > 1:\n",
    "        t /= 10.\n",
    "    t = 0.1*(ymax-ymin)*t + ymin\n",
    "    loglog(w, t, lw=3, color='gray', alpha=0.7)\n",
    "loglog(wspec, mspec_init, lw=0.7, color='navy', alpha=0.7, label='Model spectrum')\n",
    "errorbar(wphot, mphot_init, marker='s', ls='', lw=3, markersize=10,\n",
    "         markerfacecolor='none', markeredgecolor='blue', markeredgewidth=3, alpha=0.8, label='Model photometry')\n",
    "errorbar(wphot, obs['maggies'], yerr=obs['maggies_unc'], ecolor='red', marker='o', ls='', lw=3, markersize=10, \n",
    "         markerfacecolor='none', markeredgecolor='red', markeredgewidth=3, alpha=0.8, label='Observed photometry')\n",
    "\n",
    "xlabel('Wavelength [A]')\n",
    "ylabel('Flux Density [maggies]')\n",
    "xlim([xmin, xmax])\n",
    "ylim([ymin, ymax])\n",
    "legend(loc='best', fontsize=20)\n",
    "tight_layout()\n",
    "\n"
   ]
  },
  {
   "cell_type": "code",
   "execution_count": 29,
   "metadata": {},
   "outputs": [
    {
     "name": "stdout",
     "output_type": "stream",
     "text": [
      "Not using MPI\n"
     ]
    }
   ],
   "source": [
    "# Do we actually need this?\n",
    "try:\n",
    "    from emcee.utils import MPIPool\n",
    "    pool = MPIPool(debug=False, loadbalance=True)\n",
    "    if not pool.is_master():\n",
    "        # Wait for instructions from the master process.\n",
    "        pool.wait()\n",
    "        sys.exit(0)\n",
    "except(ImportError, ValueError):\n",
    "    pool = None\n",
    "    print('Not using MPI')"
   ]
  },
  {
   "cell_type": "code",
   "execution_count": 30,
   "metadata": {
    "collapsed": true
   },
   "outputs": [],
   "source": [
    "def halt(message):\n",
    "    \"\"\"Exit, closing pool safely.\n",
    "    \"\"\"\n",
    "    print(message)\n",
    "    try:\n",
    "        pool.close()\n",
    "    except:\n",
    "        pass"
   ]
  },
  {
   "cell_type": "code",
   "execution_count": 31,
   "metadata": {
    "collapsed": true
   },
   "outputs": [],
   "source": [
    "def lnprobfn(theta):\n",
    "    \"\"\"Given a parameter vector and a dictionary of observational data and a model object, \n",
    "    return the ln of the posterior. This requires that an sps object (and if using spectra \n",
    "    and gaussian processes, a GP object) be instantiated.\n",
    "    \"\"\"\n",
    "\n",
    "    lnp_prior = model.prior_product(theta)\n",
    "    if isfinite(lnp_prior):\n",
    "        \n",
    "        # Generate mean model\n",
    "        t1 = time.time()\n",
    "        try:\n",
    "            mu, phot, x = model.mean_model(theta, obs, sps=sps)\n",
    "        except(ValueError):\n",
    "            return -np.infty\n",
    "        d1 = time.time() - t1\n",
    "\n",
    "        # Noise modeling\n",
    "        if spec_noise is not None:\n",
    "            spec_noise.update(**model.params)\n",
    "        if phot_noise is not None:\n",
    "            phot_noise.update(**model.params)\n",
    "        vectors = {'spec': mu, 'unc': obs['unc'],\n",
    "                   'sed': model._spec, 'cal': model._speccal,\n",
    "                   'phot': phot, 'maggies_unc': obs['maggies_unc']}\n",
    "\n",
    "        # Calculate log-likelihoods\n",
    "        t2 = time.time()\n",
    "        lnp_spec = lnlike_spec(mu, obs=obs, spec_noise=spec_noise, **vectors)\n",
    "        lnp_phot = lnlike_phot(phot, obs=obs, phot_noise=phot_noise, **vectors)\n",
    "        d2 = time.time() - t2\n",
    "        if verbose:\n",
    "            write_log(theta, lnp_prior, lnp_spec, lnp_phot, d1, d2)\n",
    "\n",
    "        return lnp_prior + lnp_phot + lnp_spec\n",
    "    \n",
    "    else:\n",
    "        return -np.infty\n"
   ]
  },
  {
   "cell_type": "code",
   "execution_count": 34,
   "metadata": {},
   "outputs": [
    {
     "name": "stdout",
     "output_type": "stream",
     "text": [
      "WARNING: tage is out of bounds\n",
      "WARNING: tage is out of bounds\n",
      "WARNING: tage is out of bounds\n",
      "WARNING: tage is out of bounds\n",
      "WARNING: tage is out of bounds\n",
      "WARNING: tage is out of bounds\n",
      "WARNING: tage is out of bounds\n",
      "WARNING: tage is out of bounds\n",
      "WARNING: tage is out of bounds\n",
      "WARNING: tage is out of bounds\n",
      "WARNING: tage is out of bounds\n",
      "WARNING: tage is out of bounds\n",
      "WARNING: tage is out of bounds\n",
      "WARNING: tage is out of bounds\n",
      "WARNING: tage is out of bounds\n",
      "WARNING: tage is out of bounds\n",
      "WARNING: tage is out of bounds\n",
      "WARNING: tage is out of bounds\n",
      "WARNING: tage is out of bounds\n",
      "WARNING: tage is out of bounds\n",
      "WARNING: tage is out of bounds\n",
      "WARNING: tage is out of bounds\n",
      "WARNING: tage is out of bounds\n",
      "WARNING: tage is out of bounds\n",
      "WARNING: tage is out of bounds\n",
      "WARNING: tage is out of bounds\n",
      "WARNING: tage is out of bounds\n",
      "WARNING: tage is out of bounds\n",
      "WARNING: tage is out of bounds\n",
      "WARNING: tage is out of bounds\n",
      "WARNING: tage is out of bounds\n",
      "WARNING: tage is out of bounds\n",
      "WARNING: tage is out of bounds\n",
      "WARNING: tage is out of bounds\n",
      "WARNING: tage is out of bounds\n",
      "WARNING: tage is out of bounds\n",
      "WARNING: tage is out of bounds\n",
      "WARNING: tage is out of bounds\n",
      "WARNING: tage is out of bounds\n",
      "WARNING: tage is out of bounds\n",
      "WARNING: tage is out of bounds\n",
      "WARNING: tage is out of bounds\n",
      "WARNING: tage is out of bounds\n",
      "WARNING: tage is out of bounds\n",
      "WARNING: tage is out of bounds\n",
      "WARNING: tage is out of bounds\n",
      "WARNING: tage is out of bounds\n",
      "WARNING: tage is out of bounds\n",
      "WARNING: tage is out of bounds\n",
      "WARNING: tage is out of bounds\n",
      "WARNING: tage is out of bounds\n",
      "WARNING: tage is out of bounds\n",
      "WARNING: tage is out of bounds\n",
      "WARNING: tage is out of bounds\n",
      "WARNING: tage is out of bounds\n",
      "WARNING: tau is out of bounds\n",
      "WARNING: tau is out of bounds\n",
      "WARNING: tau is out of bounds\n",
      "WARNING: tau is out of bounds\n",
      "WARNING: tau is out of bounds\n",
      "WARNING: tau is out of bounds\n",
      "WARNING: tau is out of bounds\n",
      "WARNING: tau is out of bounds\n",
      "WARNING: tau is out of bounds\n",
      "WARNING: tau is out of bounds\n",
      "WARNING: tau is out of bounds\n",
      "WARNING: tau is out of bounds\n",
      "WARNING: tau is out of bounds\n",
      "WARNING: tau is out of bounds\n",
      "WARNING: tau is out of bounds\n",
      "WARNING: tau is out of bounds\n",
      "WARNING: tau is out of bounds\n",
      "WARNING: tau is out of bounds\n",
      "WARNING: tau is out of bounds\n",
      "WARNING: tau is out of bounds\n",
      "WARNING: tau is out of bounds\n",
      "WARNING: tau is out of bounds\n",
      "WARNING: tau is out of bounds\n",
      "WARNING: tau is out of bounds\n",
      "WARNING: tau is out of bounds\n",
      "WARNING: tau is out of bounds\n",
      "WARNING: tau is out of bounds\n",
      "WARNING: tau is out of bounds\n",
      "WARNING: tau is out of bounds\n",
      "WARNING: tau is out of bounds\n",
      "WARNING: tau is out of bounds\n",
      "WARNING: tau is out of bounds\n",
      "WARNING: tau is out of bounds\n",
      "WARNING: tau is out of bounds\n",
      "WARNING: tau is out of bounds\n",
      "WARNING: tau is out of bounds\n",
      "WARNING: tau is out of bounds\n",
      "WARNING: tau is out of bounds\n",
      "WARNING: tau is out of bounds\n",
      "WARNING: tau is out of bounds\n",
      "WARNING: tau is out of bounds\n",
      "WARNING: tau is out of bounds\n",
      "WARNING: tau is out of bounds\n",
      "WARNING: tau is out of bounds\n",
      "WARNING: tau is out of bounds\n",
      "WARNING: tau is out of bounds\n",
      "WARNING: tau is out of bounds\n",
      "WARNING: tau is out of bounds\n",
      "WARNING: tau is out of bounds\n",
      "WARNING: tau is out of bounds\n",
      "WARNING: tau is out of bounds\n",
      "WARNING: tau is out of bounds\n",
      "WARNING: tau is out of bounds\n",
      "WARNING: tau is out of bounds\n",
      "WARNING: tau is out of bounds\n",
      "WARNING: tau is out of bounds\n",
      "WARNING: tau is out of bounds\n",
      "WARNING: tau is out of bounds\n",
      "WARNING: tau is out of bounds\n",
      "WARNING: tau is out of bounds\n",
      "WARNING: tau is out of bounds\n",
      "WARNING: tau is out of bounds\n",
      "WARNING: tau is out of bounds\n",
      "WARNING: tau is out of bounds\n",
      "WARNING: tau is out of bounds\n",
      "WARNING: tau is out of bounds\n",
      "WARNING: tau is out of bounds\n",
      "WARNING: tau is out of bounds\n",
      "WARNING: tau is out of bounds\n",
      "WARNING: tau is out of bounds\n",
      "WARNING: tau is out of bounds\n",
      "WARNING: tau is out of bounds\n",
      "WARNING: tau is out of bounds\n",
      "WARNING: tau is out of bounds\n",
      "WARNING: tau is out of bounds\n",
      "WARNING: tau is out of bounds\n",
      "WARNING: tau is out of bounds\n",
      "WARNING: tau is out of bounds\n",
      "WARNING: tau is out of bounds\n",
      "WARNING: tau is out of bounds\n",
      "WARNING: tau is out of bounds\n",
      "WARNING: tau is out of bounds\n",
      "WARNING: tau is out of bounds\n",
      "WARNING: tau is out of bounds\n",
      "WARNING: tau is out of bounds\n",
      "WARNING: tau is out of bounds\n",
      "WARNING: tau is out of bounds\n",
      "WARNING: tau is out of bounds\n",
      "WARNING: tau is out of bounds\n",
      "WARNING: tau is out of bounds\n",
      "WARNING: tau is out of bounds\n",
      "WARNING: tau is out of bounds\n",
      "WARNING: tau is out of bounds\n",
      "WARNING: tau is out of bounds\n",
      "WARNING: tau is out of bounds\n",
      "WARNING: tau is out of bounds\n",
      "WARNING: tau is out of bounds\n",
      "WARNING: tau is out of bounds\n",
      "WARNING: tau is out of bounds\n",
      "WARNING: tau is out of bounds\n",
      "WARNING: tau is out of bounds\n",
      "WARNING: tau is out of bounds\n",
      "WARNING: tau is out of bounds\n",
      "WARNING: tau is out of bounds\n",
      "WARNING: tau is out of bounds\n",
      "WARNING: tau is out of bounds\n",
      "WARNING: tau is out of bounds\n",
      "WARNING: tau is out of bounds\n",
      "WARNING: tau is out of bounds\n",
      "done Nelder-Mead in 28.163764715194702s\n",
      "best Nelder-Mead guess: [  4.60496162e+11  -1.17243035e-01   1.00000000e-01   1.39075499e+01]\n",
      "best Nelder-Mead lnp: 125.46077295919142\n"
     ]
    }
   ],
   "source": [
    "def chisqfn(theta):\n",
    "    \"\"\"Negative of lnprobfn for minimization, and also handles passing in\n",
    "    keyword arguments which can only be postional arguments when using scipy\n",
    "    minimize.\n",
    "    \"\"\"\n",
    "    return -lnprobfn(theta)\n",
    "\n",
    "verbose=False # don't output function calls\n",
    "\n",
    "# start minimization\n",
    "min_method = 'Nelder-Mead'\n",
    "ts = time.time()\n",
    "min_results = minimize(chisqfn, initial_theta, method=min_method)\n",
    "pdur = time.time() - ts\n",
    "\n",
    "# reinitialize fit\n",
    "initial_center = fitting.reinitialize(min_results.x, model, edge_trunc=run_params.get('edge_trunc', 0.1))\n",
    "initial_prob = -1 * min_results['fun']\n",
    "\n",
    "# output results\n",
    "print('done {0} in {1}s'.format(min_method,pdur))\n",
    "print('best {0} guess: {1}'.format(min_method,initial_center))\n",
    "print('best {0} lnp: {1}'.format(min_method,initial_prob))"
   ]
  },
  {
   "cell_type": "code",
   "execution_count": 33,
   "metadata": {},
   "outputs": [
    {
     "name": "stderr",
     "output_type": "stream",
     "text": [
      "/usr/local/anaconda3/envs/py35/lib/python3.6/site-packages/prospect-73a489a-py3.6.egg/prospect/models/priors.py:54: RuntimeWarning: invalid value encountered in log\n"
     ]
    },
    {
     "name": "stdout",
     "output_type": "stream",
     "text": [
      "done emcee in 2642.5673472881317s\n"
     ]
    }
   ],
   "source": [
    "##### DO NOT RE-RUN UNLESS ABSOLUTELY NECESSARY #####\n",
    "# ~44 minutes to run\n",
    "\n",
    "postkwargs = {}\n",
    "\n",
    "fout = sys.stdout\n",
    "fnull = open(os.devnull, 'w')\n",
    "sys.stdout = fnull\n",
    "\n",
    "tstart = time.time()\n",
    "out = fitting.run_emcee_sampler(lnprobfn, initial_center, model,\n",
    "                                postkwargs=postkwargs, initial_prob=initial_prob,\n",
    "                                pool=pool, hdf5=hfile, **run_params)\n",
    "esampler, burn_p0, burn_prob0 = out\n",
    "edur = time.time() - tstart\n",
    "\n",
    "sys.stdout = fout\n",
    "\n",
    "print('done emcee in {0}s'.format(edur))"
   ]
  },
  {
   "cell_type": "code",
   "execution_count": 44,
   "metadata": {},
   "outputs": [
    {
     "ename": "RuntimeError",
     "evalue": "Unable to create link (Name already exists)",
     "output_type": "error",
     "traceback": [
      "\u001b[0;31m---------------------------------------------------------------------------\u001b[0m",
      "\u001b[0;31mRuntimeError\u001b[0m                              Traceback (most recent call last)",
      "\u001b[0;32m<ipython-input-44-c02fa5186ce9>\u001b[0m in \u001b[0;36m<module>\u001b[0;34m()\u001b[0m\n\u001b[1;32m     13\u001b[0m                          \u001b[0msampling_initial_center\u001b[0m\u001b[0;34m=\u001b[0m\u001b[0minitial_center\u001b[0m\u001b[0;34m,\u001b[0m\u001b[0;34m\u001b[0m\u001b[0m\n\u001b[1;32m     14\u001b[0m                          \u001b[0mpost_burnin_center\u001b[0m\u001b[0;34m=\u001b[0m\u001b[0mburn_p0\u001b[0m\u001b[0;34m,\u001b[0m\u001b[0;34m\u001b[0m\u001b[0m\n\u001b[0;32m---> 15\u001b[0;31m                          post_burnin_prob=burn_prob0)\n\u001b[0m\u001b[1;32m     16\u001b[0m \u001b[0;34m\u001b[0m\u001b[0m\n\u001b[1;32m     17\u001b[0m \u001b[0mhalt\u001b[0m\u001b[0;34m(\u001b[0m\u001b[0;34m'Finished'\u001b[0m\u001b[0;34m)\u001b[0m\u001b[0;34m\u001b[0m\u001b[0m\n",
      "\u001b[0;32m/usr/local/anaconda3/envs/py35/lib/python3.6/site-packages/prospect-73a489a-py3.6.egg/prospect/io/write_results.py\u001b[0m in \u001b[0;36mwrite_hdf5\u001b[0;34m(hfile, run_params, model, obs, sampler, powell_results, tsample, toptimize, sampling_initial_center, **extras)\u001b[0m\n\u001b[1;32m    145\u001b[0m         \u001b[0;31m# emcee\u001b[0m\u001b[0;34m\u001b[0m\u001b[0;34m\u001b[0m\u001b[0m\n\u001b[1;32m    146\u001b[0m         \u001b[0ma\u001b[0m \u001b[0;34m=\u001b[0m \u001b[0msampler\u001b[0m\u001b[0;34m.\u001b[0m\u001b[0macceptance_fraction\u001b[0m\u001b[0;34m\u001b[0m\u001b[0m\n\u001b[0;32m--> 147\u001b[0;31m         \u001b[0mwrite_emcee_h5\u001b[0m\u001b[0;34m(\u001b[0m\u001b[0mhf\u001b[0m\u001b[0;34m,\u001b[0m \u001b[0msampler\u001b[0m\u001b[0;34m,\u001b[0m \u001b[0mmodel\u001b[0m\u001b[0;34m,\u001b[0m \u001b[0msampling_initial_center\u001b[0m\u001b[0;34m,\u001b[0m \u001b[0mtsample\u001b[0m\u001b[0;34m)\u001b[0m\u001b[0;34m\u001b[0m\u001b[0m\n\u001b[0m\u001b[1;32m    148\u001b[0m     \u001b[0;32mexcept\u001b[0m\u001b[0;34m(\u001b[0m\u001b[0mAttributeError\u001b[0m\u001b[0;34m)\u001b[0m\u001b[0;34m:\u001b[0m\u001b[0;34m\u001b[0m\u001b[0m\n\u001b[1;32m    149\u001b[0m         \u001b[0;31m# nestle\u001b[0m\u001b[0;34m\u001b[0m\u001b[0;34m\u001b[0m\u001b[0m\n",
      "\u001b[0;32m/usr/local/anaconda3/envs/py35/lib/python3.6/site-packages/prospect-73a489a-py3.6.egg/prospect/io/write_results.py\u001b[0m in \u001b[0;36mwrite_emcee_h5\u001b[0;34m(hf, sampler, model, sampling_initial_center, tsample)\u001b[0m\n\u001b[1;32m    182\u001b[0m         \u001b[0msdat\u001b[0m\u001b[0;34m.\u001b[0m\u001b[0mcreate_dataset\u001b[0m\u001b[0;34m(\u001b[0m\u001b[0;34m'chain'\u001b[0m\u001b[0;34m,\u001b[0m \u001b[0mdata\u001b[0m\u001b[0;34m=\u001b[0m\u001b[0msampler\u001b[0m\u001b[0;34m.\u001b[0m\u001b[0mchain\u001b[0m\u001b[0;34m)\u001b[0m\u001b[0;34m\u001b[0m\u001b[0m\n\u001b[1;32m    183\u001b[0m         \u001b[0msdat\u001b[0m\u001b[0;34m.\u001b[0m\u001b[0mcreate_dataset\u001b[0m\u001b[0;34m(\u001b[0m\u001b[0;34m'lnprobability'\u001b[0m\u001b[0;34m,\u001b[0m \u001b[0mdata\u001b[0m\u001b[0;34m=\u001b[0m\u001b[0msampler\u001b[0m\u001b[0;34m.\u001b[0m\u001b[0mlnprobability\u001b[0m\u001b[0;34m)\u001b[0m\u001b[0;34m\u001b[0m\u001b[0m\n\u001b[0;32m--> 184\u001b[0;31m     \u001b[0msdat\u001b[0m\u001b[0;34m.\u001b[0m\u001b[0mcreate_dataset\u001b[0m\u001b[0;34m(\u001b[0m\u001b[0;34m'acceptance'\u001b[0m\u001b[0;34m,\u001b[0m \u001b[0mdata\u001b[0m\u001b[0;34m=\u001b[0m\u001b[0msampler\u001b[0m\u001b[0;34m.\u001b[0m\u001b[0macceptance_fraction\u001b[0m\u001b[0;34m)\u001b[0m\u001b[0;34m\u001b[0m\u001b[0m\n\u001b[0m\u001b[1;32m    185\u001b[0m     \u001b[0msdat\u001b[0m\u001b[0;34m.\u001b[0m\u001b[0mcreate_dataset\u001b[0m\u001b[0;34m(\u001b[0m\u001b[0;34m'sampling_initial_center'\u001b[0m\u001b[0;34m,\u001b[0m \u001b[0mdata\u001b[0m\u001b[0;34m=\u001b[0m\u001b[0msampling_initial_center\u001b[0m\u001b[0;34m)\u001b[0m\u001b[0;34m\u001b[0m\u001b[0m\n\u001b[1;32m    186\u001b[0m     \u001b[0msdat\u001b[0m\u001b[0;34m.\u001b[0m\u001b[0mcreate_dataset\u001b[0m\u001b[0;34m(\u001b[0m\u001b[0;34m'initial_theta'\u001b[0m\u001b[0;34m,\u001b[0m \u001b[0mdata\u001b[0m\u001b[0;34m=\u001b[0m\u001b[0mmodel\u001b[0m\u001b[0;34m.\u001b[0m\u001b[0minitial_theta\u001b[0m\u001b[0;34m.\u001b[0m\u001b[0mcopy\u001b[0m\u001b[0;34m(\u001b[0m\u001b[0;34m)\u001b[0m\u001b[0;34m)\u001b[0m\u001b[0;34m\u001b[0m\u001b[0m\n",
      "\u001b[0;32m/usr/local/anaconda3/envs/py35/lib/python3.6/site-packages/h5py/_hl/group.py\u001b[0m in \u001b[0;36mcreate_dataset\u001b[0;34m(self, name, shape, dtype, data, **kwds)\u001b[0m\n\u001b[1;32m    109\u001b[0m             \u001b[0mdset\u001b[0m \u001b[0;34m=\u001b[0m \u001b[0mdataset\u001b[0m\u001b[0;34m.\u001b[0m\u001b[0mDataset\u001b[0m\u001b[0;34m(\u001b[0m\u001b[0mdsid\u001b[0m\u001b[0;34m)\u001b[0m\u001b[0;34m\u001b[0m\u001b[0m\n\u001b[1;32m    110\u001b[0m             \u001b[0;32mif\u001b[0m \u001b[0mname\u001b[0m \u001b[0;32mis\u001b[0m \u001b[0;32mnot\u001b[0m \u001b[0;32mNone\u001b[0m\u001b[0;34m:\u001b[0m\u001b[0;34m\u001b[0m\u001b[0m\n\u001b[0;32m--> 111\u001b[0;31m                 \u001b[0mself\u001b[0m\u001b[0;34m[\u001b[0m\u001b[0mname\u001b[0m\u001b[0;34m]\u001b[0m \u001b[0;34m=\u001b[0m \u001b[0mdset\u001b[0m\u001b[0;34m\u001b[0m\u001b[0m\n\u001b[0m\u001b[1;32m    112\u001b[0m             \u001b[0;32mreturn\u001b[0m \u001b[0mdset\u001b[0m\u001b[0;34m\u001b[0m\u001b[0m\n\u001b[1;32m    113\u001b[0m \u001b[0;34m\u001b[0m\u001b[0m\n",
      "\u001b[0;32mh5py/_objects.pyx\u001b[0m in \u001b[0;36mh5py._objects.with_phil.wrapper (/home/ilan/minonda/conda-bld/h5py_1490028290543/work/h5py/_objects.c:2846)\u001b[0;34m()\u001b[0m\n",
      "\u001b[0;32mh5py/_objects.pyx\u001b[0m in \u001b[0;36mh5py._objects.with_phil.wrapper (/home/ilan/minonda/conda-bld/h5py_1490028290543/work/h5py/_objects.c:2804)\u001b[0;34m()\u001b[0m\n",
      "\u001b[0;32m/usr/local/anaconda3/envs/py35/lib/python3.6/site-packages/h5py/_hl/group.py\u001b[0m in \u001b[0;36m__setitem__\u001b[0;34m(self, name, obj)\u001b[0m\n\u001b[1;32m    274\u001b[0m \u001b[0;34m\u001b[0m\u001b[0m\n\u001b[1;32m    275\u001b[0m         \u001b[0;32mif\u001b[0m \u001b[0misinstance\u001b[0m\u001b[0;34m(\u001b[0m\u001b[0mobj\u001b[0m\u001b[0;34m,\u001b[0m \u001b[0mHLObject\u001b[0m\u001b[0;34m)\u001b[0m\u001b[0;34m:\u001b[0m\u001b[0;34m\u001b[0m\u001b[0m\n\u001b[0;32m--> 276\u001b[0;31m             \u001b[0mh5o\u001b[0m\u001b[0;34m.\u001b[0m\u001b[0mlink\u001b[0m\u001b[0;34m(\u001b[0m\u001b[0mobj\u001b[0m\u001b[0;34m.\u001b[0m\u001b[0mid\u001b[0m\u001b[0;34m,\u001b[0m \u001b[0mself\u001b[0m\u001b[0;34m.\u001b[0m\u001b[0mid\u001b[0m\u001b[0;34m,\u001b[0m \u001b[0mname\u001b[0m\u001b[0;34m,\u001b[0m \u001b[0mlcpl\u001b[0m\u001b[0;34m=\u001b[0m\u001b[0mlcpl\u001b[0m\u001b[0;34m,\u001b[0m \u001b[0mlapl\u001b[0m\u001b[0;34m=\u001b[0m\u001b[0mself\u001b[0m\u001b[0;34m.\u001b[0m\u001b[0m_lapl\u001b[0m\u001b[0;34m)\u001b[0m\u001b[0;34m\u001b[0m\u001b[0m\n\u001b[0m\u001b[1;32m    277\u001b[0m \u001b[0;34m\u001b[0m\u001b[0m\n\u001b[1;32m    278\u001b[0m         \u001b[0;32melif\u001b[0m \u001b[0misinstance\u001b[0m\u001b[0;34m(\u001b[0m\u001b[0mobj\u001b[0m\u001b[0;34m,\u001b[0m \u001b[0mSoftLink\u001b[0m\u001b[0;34m)\u001b[0m\u001b[0;34m:\u001b[0m\u001b[0;34m\u001b[0m\u001b[0m\n",
      "\u001b[0;32mh5py/_objects.pyx\u001b[0m in \u001b[0;36mh5py._objects.with_phil.wrapper (/home/ilan/minonda/conda-bld/h5py_1490028290543/work/h5py/_objects.c:2846)\u001b[0;34m()\u001b[0m\n",
      "\u001b[0;32mh5py/_objects.pyx\u001b[0m in \u001b[0;36mh5py._objects.with_phil.wrapper (/home/ilan/minonda/conda-bld/h5py_1490028290543/work/h5py/_objects.c:2804)\u001b[0;34m()\u001b[0m\n",
      "\u001b[0;32mh5py/h5o.pyx\u001b[0m in \u001b[0;36mh5py.h5o.link (/home/ilan/minonda/conda-bld/h5py_1490028290543/work/h5py/h5o.c:3901)\u001b[0;34m()\u001b[0m\n",
      "\u001b[0;31mRuntimeError\u001b[0m: Unable to create link (Name already exists)"
     ]
    }
   ],
   "source": [
    "####### Saves results to a disk? #######\n",
    "\n",
    "write_results.write_pickles(run_params, model, obs, esampler, min_results,\n",
    "                            outroot=outroot, toptimize=pdur, tsample=edur,\n",
    "                            sampling_initial_center=initial_center,\n",
    "                            post_burnin_center=burn_p0,\n",
    "                            post_burnin_prob=burn_prob0)\n",
    "\n",
    "if hfile is None:\n",
    "    hfile = hfilename\n",
    "write_results.write_hdf5(hfile, run_params, model, obs, esampler, min_results,\n",
    "                         toptimize=pdur, tsample=edur,                         \n",
    "                         sampling_initial_center=initial_center,\n",
    "                         post_burnin_center=burn_p0,\n",
    "                         post_burnin_prob=burn_prob0)\n",
    "\n",
    "halt('Finished')"
   ]
  },
  {
   "cell_type": "code",
   "execution_count": 42,
   "metadata": {},
   "outputs": [
    {
     "ename": "KeyError",
     "evalue": "\"Unable to open object (Object 'obs' doesn't exist)\"",
     "output_type": "error",
     "traceback": [
      "\u001b[0;31m---------------------------------------------------------------------------\u001b[0m",
      "\u001b[0;31mKeyError\u001b[0m                                  Traceback (most recent call last)",
      "\u001b[0;32m<ipython-input-42-262328114e2a>\u001b[0m in \u001b[0;36m<module>\u001b[0;34m()\u001b[0m\n\u001b[1;32m      1\u001b[0m \u001b[0;31m# grab results, powell results, and our corresponding models\u001b[0m\u001b[0;34m\u001b[0m\u001b[0;34m\u001b[0m\u001b[0m\n\u001b[0;32m----> 2\u001b[0;31m \u001b[0mres\u001b[0m\u001b[0;34m,\u001b[0m \u001b[0mpr\u001b[0m\u001b[0;34m,\u001b[0m \u001b[0mmod\u001b[0m \u001b[0;34m=\u001b[0m \u001b[0mread_results\u001b[0m\u001b[0;34m.\u001b[0m\u001b[0mresults_from\u001b[0m\u001b[0;34m(\u001b[0m\u001b[0;34m\"redmapper-masses_1496171711_mcmc.h5\"\u001b[0m\u001b[0;34m)\u001b[0m\u001b[0;34m\u001b[0m\u001b[0m\n\u001b[0m",
      "\u001b[0;32m/usr/local/anaconda3/envs/py35/lib/python3.6/site-packages/prospect-73a489a-py3.6.egg/prospect/io/read_results.py\u001b[0m in \u001b[0;36mresults_from\u001b[0;34m(filename, model_file, **kwargs)\u001b[0m\n\u001b[1;32m     40\u001b[0m     \u001b[0;31m# Read the basic chain, parameter, and run_params info\u001b[0m\u001b[0;34m\u001b[0m\u001b[0;34m\u001b[0m\u001b[0m\n\u001b[1;32m     41\u001b[0m     \u001b[0;32mif\u001b[0m \u001b[0mfilename\u001b[0m\u001b[0;34m.\u001b[0m\u001b[0msplit\u001b[0m\u001b[0;34m(\u001b[0m\u001b[0;34m'.'\u001b[0m\u001b[0;34m)\u001b[0m\u001b[0;34m[\u001b[0m\u001b[0;34m-\u001b[0m\u001b[0;36m1\u001b[0m\u001b[0;34m]\u001b[0m \u001b[0;34m==\u001b[0m \u001b[0;34m'h5'\u001b[0m\u001b[0;34m:\u001b[0m\u001b[0;34m\u001b[0m\u001b[0m\n\u001b[0;32m---> 42\u001b[0;31m         \u001b[0mres\u001b[0m \u001b[0;34m=\u001b[0m \u001b[0mread_hdf5\u001b[0m\u001b[0;34m(\u001b[0m\u001b[0mfilename\u001b[0m\u001b[0;34m,\u001b[0m \u001b[0;34m**\u001b[0m\u001b[0mkwargs\u001b[0m\u001b[0;34m)\u001b[0m\u001b[0;34m\u001b[0m\u001b[0m\n\u001b[0m\u001b[1;32m     43\u001b[0m         \u001b[0mmf_default\u001b[0m \u001b[0;34m=\u001b[0m \u001b[0mfilename\u001b[0m\u001b[0;34m.\u001b[0m\u001b[0mreplace\u001b[0m\u001b[0;34m(\u001b[0m\u001b[0;34m'_mcmc.h5'\u001b[0m\u001b[0;34m,\u001b[0m \u001b[0;34m'_model'\u001b[0m\u001b[0;34m)\u001b[0m\u001b[0;34m\u001b[0m\u001b[0m\n\u001b[1;32m     44\u001b[0m     \u001b[0;32melse\u001b[0m\u001b[0;34m:\u001b[0m\u001b[0;34m\u001b[0m\u001b[0m\n",
      "\u001b[0;32m/usr/local/anaconda3/envs/py35/lib/python3.6/site-packages/prospect-73a489a-py3.6.egg/prospect/io/read_results.py\u001b[0m in \u001b[0;36mread_hdf5\u001b[0;34m(filename, **extras)\u001b[0m\n\u001b[1;32m    132\u001b[0m         \u001b[0;32mfor\u001b[0m \u001b[0mgroup\u001b[0m\u001b[0;34m,\u001b[0m \u001b[0md\u001b[0m \u001b[0;32min\u001b[0m \u001b[0mgroups\u001b[0m\u001b[0;34m.\u001b[0m\u001b[0mitems\u001b[0m\u001b[0;34m(\u001b[0m\u001b[0;34m)\u001b[0m\u001b[0;34m:\u001b[0m\u001b[0;34m\u001b[0m\u001b[0m\n\u001b[1;32m    133\u001b[0m             \u001b[0;31m# read the arrays in that group into the dictionary for that group\u001b[0m\u001b[0;34m\u001b[0m\u001b[0;34m\u001b[0m\u001b[0m\n\u001b[0;32m--> 134\u001b[0;31m             \u001b[0;32mfor\u001b[0m \u001b[0mk\u001b[0m\u001b[0;34m,\u001b[0m \u001b[0mv\u001b[0m \u001b[0;32min\u001b[0m \u001b[0mhf\u001b[0m\u001b[0;34m[\u001b[0m\u001b[0mgroup\u001b[0m\u001b[0;34m]\u001b[0m\u001b[0;34m.\u001b[0m\u001b[0mitems\u001b[0m\u001b[0;34m(\u001b[0m\u001b[0;34m)\u001b[0m\u001b[0;34m:\u001b[0m\u001b[0;34m\u001b[0m\u001b[0m\n\u001b[0m\u001b[1;32m    135\u001b[0m                 \u001b[0md\u001b[0m\u001b[0;34m[\u001b[0m\u001b[0mk\u001b[0m\u001b[0;34m]\u001b[0m \u001b[0;34m=\u001b[0m \u001b[0mnp\u001b[0m\u001b[0;34m.\u001b[0m\u001b[0marray\u001b[0m\u001b[0;34m(\u001b[0m\u001b[0mv\u001b[0m\u001b[0;34m)\u001b[0m\u001b[0;34m\u001b[0m\u001b[0m\n\u001b[1;32m    136\u001b[0m             \u001b[0;31m# unserialize the attributes and put them in the dictionary\u001b[0m\u001b[0;34m\u001b[0m\u001b[0;34m\u001b[0m\u001b[0m\n",
      "\u001b[0;32mh5py/_objects.pyx\u001b[0m in \u001b[0;36mh5py._objects.with_phil.wrapper (/home/ilan/minonda/conda-bld/h5py_1490028290543/work/h5py/_objects.c:2846)\u001b[0;34m()\u001b[0m\n",
      "\u001b[0;32mh5py/_objects.pyx\u001b[0m in \u001b[0;36mh5py._objects.with_phil.wrapper (/home/ilan/minonda/conda-bld/h5py_1490028290543/work/h5py/_objects.c:2804)\u001b[0;34m()\u001b[0m\n",
      "\u001b[0;32m/usr/local/anaconda3/envs/py35/lib/python3.6/site-packages/h5py/_hl/group.py\u001b[0m in \u001b[0;36m__getitem__\u001b[0;34m(self, name)\u001b[0m\n\u001b[1;32m    167\u001b[0m                 \u001b[0;32mraise\u001b[0m \u001b[0mValueError\u001b[0m\u001b[0;34m(\u001b[0m\u001b[0;34m\"Invalid HDF5 object reference\"\u001b[0m\u001b[0;34m)\u001b[0m\u001b[0;34m\u001b[0m\u001b[0m\n\u001b[1;32m    168\u001b[0m         \u001b[0;32melse\u001b[0m\u001b[0;34m:\u001b[0m\u001b[0;34m\u001b[0m\u001b[0m\n\u001b[0;32m--> 169\u001b[0;31m             \u001b[0moid\u001b[0m \u001b[0;34m=\u001b[0m \u001b[0mh5o\u001b[0m\u001b[0;34m.\u001b[0m\u001b[0mopen\u001b[0m\u001b[0;34m(\u001b[0m\u001b[0mself\u001b[0m\u001b[0;34m.\u001b[0m\u001b[0mid\u001b[0m\u001b[0;34m,\u001b[0m \u001b[0mself\u001b[0m\u001b[0;34m.\u001b[0m\u001b[0m_e\u001b[0m\u001b[0;34m(\u001b[0m\u001b[0mname\u001b[0m\u001b[0;34m)\u001b[0m\u001b[0;34m,\u001b[0m \u001b[0mlapl\u001b[0m\u001b[0;34m=\u001b[0m\u001b[0mself\u001b[0m\u001b[0;34m.\u001b[0m\u001b[0m_lapl\u001b[0m\u001b[0;34m)\u001b[0m\u001b[0;34m\u001b[0m\u001b[0m\n\u001b[0m\u001b[1;32m    170\u001b[0m \u001b[0;34m\u001b[0m\u001b[0m\n\u001b[1;32m    171\u001b[0m         \u001b[0motype\u001b[0m \u001b[0;34m=\u001b[0m \u001b[0mh5i\u001b[0m\u001b[0;34m.\u001b[0m\u001b[0mget_type\u001b[0m\u001b[0;34m(\u001b[0m\u001b[0moid\u001b[0m\u001b[0;34m)\u001b[0m\u001b[0;34m\u001b[0m\u001b[0m\n",
      "\u001b[0;32mh5py/_objects.pyx\u001b[0m in \u001b[0;36mh5py._objects.with_phil.wrapper (/home/ilan/minonda/conda-bld/h5py_1490028290543/work/h5py/_objects.c:2846)\u001b[0;34m()\u001b[0m\n",
      "\u001b[0;32mh5py/_objects.pyx\u001b[0m in \u001b[0;36mh5py._objects.with_phil.wrapper (/home/ilan/minonda/conda-bld/h5py_1490028290543/work/h5py/_objects.c:2804)\u001b[0;34m()\u001b[0m\n",
      "\u001b[0;32mh5py/h5o.pyx\u001b[0m in \u001b[0;36mh5py.h5o.open (/home/ilan/minonda/conda-bld/h5py_1490028290543/work/h5py/h5o.c:3740)\u001b[0;34m()\u001b[0m\n",
      "\u001b[0;31mKeyError\u001b[0m: \"Unable to open object (Object 'obs' doesn't exist)\""
     ]
    }
   ],
   "source": [
    "# grab results, powell results, and our corresponding models\n",
    "res, pr, mod = read_results.results_from(\"redmapper-masses_1496171711_mcmc.h5\")"
   ]
  }
 ],
 "metadata": {
  "anaconda-cloud": {},
  "kernelspec": {
   "display_name": "Python 3",
   "language": "python",
   "name": "python3"
  },
  "language_info": {
   "codemirror_mode": {
    "name": "ipython",
    "version": 3
   },
   "file_extension": ".py",
   "mimetype": "text/x-python",
   "name": "python",
   "nbconvert_exporter": "python",
   "pygments_lexer": "ipython3",
   "version": "3.6.1"
  }
 },
 "nbformat": 4,
 "nbformat_minor": 2
}
