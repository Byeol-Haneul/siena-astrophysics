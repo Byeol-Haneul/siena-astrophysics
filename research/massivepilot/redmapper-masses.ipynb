{
 "cells": [
  {
   "cell_type": "markdown",
   "metadata": {},
   "source": [
    "## Import"
   ]
  },
  {
   "cell_type": "code",
   "execution_count": 1,
   "metadata": {
    "collapsed": true
   },
   "outputs": [],
   "source": [
    "import os\n",
    "import numpy as np\n",
    "import fitsio"
   ]
  },
  {
   "cell_type": "code",
   "execution_count": 2,
   "metadata": {
    "collapsed": true
   },
   "outputs": [],
   "source": [
    "import fsps\n",
    "import sedpy\n",
    "import prospect\n",
    "import time\n",
    "import emcee\n",
    "import h5py\n",
    "import plot_utils as pread\n",
    "\n",
    "from prospect.models import priors, sedmodel\n",
    "from sedpy.observate import load_filters\n",
    "from prospect import fitting\n",
    "from scipy.optimize import minimize\n",
    "from prospect.io import read_results, write_results\n",
    "from prospect.likelihood import lnlike_spec, lnlike_phot, write_log"
   ]
  },
  {
   "cell_type": "code",
   "execution_count": 3,
   "metadata": {},
   "outputs": [
    {
     "name": "stdout",
     "output_type": "stream",
     "text": [
      "Populating the interactive namespace from numpy and matplotlib\n"
     ]
    }
   ],
   "source": [
    "%pylab inline"
   ]
  },
  {
   "cell_type": "markdown",
   "metadata": {},
   "source": [
    "### Setup the models"
   ]
  },
  {
   "cell_type": "code",
   "execution_count": 4,
   "metadata": {
    "collapsed": true
   },
   "outputs": [],
   "source": [
    "from prospect.models import model_setup\n",
    "from prospect.sources import CSPBasis"
   ]
  },
  {
   "cell_type": "code",
   "execution_count": 5,
   "metadata": {},
   "outputs": [
    {
     "name": "stdout",
     "output_type": "stream",
     "text": [
      "{'param_file': '', 'outfile': 'test', 'verbose': True, 'debug': False, 'nwalkers': 10, 'nburn': [32, 32, 64], 'niter': 100, 'do_powell': True, 'ftol': 5e-06, 'maxfev': 5000, 'zcontinuous': 1}\n"
     ]
    }
   ],
   "source": [
    "# Specify the run parameters.\n",
    "run_params = {\n",
    "              'param_file': '',\n",
    "              'outfile': 'test',\n",
    "              'verbose': True,\n",
    "              'debug': False,\n",
    "              'nwalkers': 10, # 128,\n",
    "              'nburn': [32, 32, 64], \n",
    "              'niter': 100, # 512,\n",
    "    \n",
    "              'do_powell': True,\n",
    "              'ftol': 0.5e-5, 'maxfev': 5000,\n",
    "              #'initial_disp': 0.1,\n",
    "              # Data parameters\n",
    "              #'snr': 20.0, # ???\n",
    "              #'add_noise': False, # ???\n",
    "              # Model parameters\n",
    "              #'mass': 1e10,\n",
    "              #'logzsol': -0.5,\n",
    "              #'tage': 12.0,\n",
    "              #'tau': 3.0,\n",
    "              #'dust2': 0.3,\n",
    "              # Data manipulation parameters\n",
    "              #'logify_spectrum': False,\n",
    "              #'normalize_spectrum': False,\n",
    "              #'wlo':3750., 'whi':7200.,\n",
    "              # SPS parameters\n",
    "              'zcontinuous': 1,\n",
    "              }\n",
    "print(run_params)"
   ]
  },
  {
   "cell_type": "code",
   "execution_count": 6,
   "metadata": {},
   "outputs": [
    {
     "name": "stdout",
     "output_type": "stream",
     "text": [
      "['sdss_u0', 'sdss_g0', 'sdss_r0', 'sdss_i0', 'sdss_z0', 'wise_w1', 'wise_w2']\n"
     ]
    }
   ],
   "source": [
    "sdss = ['sdss_{}0'.format(b) for b in ['u','g','r','i','z']]\n",
    "wise = ['wise_{}'.format(b) for b in ['w1','w2']]\n",
    "filternames = sdss + wise\n",
    "print(filternames)"
   ]
  },
  {
   "cell_type": "code",
   "execution_count": 7,
   "metadata": {
    "collapsed": true
   },
   "outputs": [],
   "source": [
    "# load sps model (default)\n",
    "#sps = model_setup.load_sps(**run_params)\n",
    "sps = CSPBasis(zcontinuous=1, compute_vega_mags=False)"
   ]
  },
  {
   "cell_type": "code",
   "execution_count": 8,
   "metadata": {},
   "outputs": [
    {
     "name": "stdout",
     "output_type": "stream",
     "text": [
      "(b'pdva', b'basel')\n"
     ]
    }
   ],
   "source": [
    "print(sps.csp.libraries)"
   ]
  },
  {
   "cell_type": "code",
   "execution_count": 9,
   "metadata": {
    "scrolled": true
   },
   "outputs": [
    {
     "name": "stdout",
     "output_type": "stream",
     "text": [
      "[<class 'sedpy.observate.Filter'>(sdss_u0), <class 'sedpy.observate.Filter'>(sdss_g0), <class 'sedpy.observate.Filter'>(sdss_r0), <class 'sedpy.observate.Filter'>(sdss_i0), <class 'sedpy.observate.Filter'>(sdss_z0), <class 'sedpy.observate.Filter'>(wise_w1), <class 'sedpy.observate.Filter'>(wise_w2)]\n"
     ]
    }
   ],
   "source": [
    "filters = load_filters(filternames)\n",
    "print(filters)"
   ]
  },
  {
   "cell_type": "code",
   "execution_count": 10,
   "metadata": {
    "collapsed": true
   },
   "outputs": [],
   "source": [
    "# create a function to read in the redmapper catalog and extract relavent files\n",
    "def readred():\n",
    "    redfile = os.path.join(os.sep, 'global', 'work', 'projects', \n",
    "                           'redmapper', 'redmapper_isedfit_v5.10_centrals.fits.gz')\n",
    "    info = fitsio.FITS(redfile)\n",
    "    # hack, read just one galaxy\n",
    "    cat = info[1].read(rows=3)\n",
    "    \n",
    "    return cat"
   ]
  },
  {
   "cell_type": "code",
   "execution_count": 11,
   "metadata": {
    "collapsed": true
   },
   "outputs": [],
   "source": [
    "# Build output dictionary which contains the input photometry (our version of load_obs).\n",
    "def prospcat(redcat):\n",
    "    mask = (redcat['IVARMAGGIES'] > 0) * 1\n",
    "    obs = {}\n",
    "    obs['maggies'] = np.squeeze(redcat['MAGGIES'])\n",
    "    with np.errstate(divide='ignore'):\n",
    "        obs['maggies_unc'] = np.squeeze(1.0/np.sqrt(redcat['IVARMAGGIES'])) #[:3, :])\n",
    "    obs['wavelength'] = None # not fitting spectra\n",
    "    obs['filternames'] = filternames\n",
    "    obs['filters'] = load_filters(filternames)\n",
    "    obs['phot_mask'] = mask  # 1 = good, 0 = bad\n",
    "    obs['isedfit_id'] = redcat['ISEDFIT_ID']\n",
    "    obs['zred'] = redcat['Z']\n",
    "    \n",
    "    # NOT SURE IF CORRECT\n",
    "    obs['unc'] = obs['maggies_unc']\n",
    "    obs['spectrum'] = None\n",
    "    \n",
    "    return obs"
   ]
  },
  {
   "cell_type": "code",
   "execution_count": 12,
   "metadata": {
    "collapsed": true
   },
   "outputs": [],
   "source": [
    "redcat = readred()"
   ]
  },
  {
   "cell_type": "code",
   "execution_count": 13,
   "metadata": {
    "collapsed": true
   },
   "outputs": [],
   "source": [
    "obs = prospcat(redcat)"
   ]
  },
  {
   "cell_type": "code",
   "execution_count": 14,
   "metadata": {
    "collapsed": true
   },
   "outputs": [],
   "source": [
    "# Load the (default?) SPS model\n",
    "def load_sps(zcontinuous=1, compute_vega_mags=False, **extras):\n",
    "    sps = CSPBasis(zcontinuous=zcontinuous,\n",
    "                   compute_vega_mags=compute_vega_mags)\n",
    "    return sps"
   ]
  },
  {
   "cell_type": "code",
   "execution_count": 15,
   "metadata": {
    "collapsed": true
   },
   "outputs": [],
   "source": [
    "sps = load_sps(**run_params)"
   ]
  },
  {
   "cell_type": "code",
   "execution_count": 16,
   "metadata": {
    "collapsed": true
   },
   "outputs": [],
   "source": [
    "# I don't think we need to load a noise model since we're only fitting photometry.(?)\n",
    "spec_noise, phot_noise = model_setup.load_gp(**run_params)"
   ]
  },
  {
   "cell_type": "code",
   "execution_count": 17,
   "metadata": {
    "collapsed": true
   },
   "outputs": [],
   "source": [
    "# Initialize the priors and then load the (default?) model.\n",
    "# TBD: Do we need to define priors on dust, fburst, etc., etc.???\n",
    "def load_model(zred, **extras):\n",
    "    model_params = []\n",
    "    \n",
    "    # Prior on distance / redshift.\n",
    "    model_params.append({'name': 'zred', 'N': 1,\n",
    "                         'isfree': False,\n",
    "                         'init': zred,\n",
    "                         'units': '',\n",
    "                         'prior_function': priors.tophat,\n",
    "                         'prior_args': {'mini': 0.0, 'maxi': 4.0}})\n",
    "    \n",
    "    # Prior on SFH.\n",
    "    model_params.append({'name': 'sfh', 'N': 1,\n",
    "                         'isfree': False,\n",
    "                         'init': 4,\n",
    "                         'units': 'type'})\n",
    "\n",
    "    model_params.append({'name': 'mass', 'N': 1,\n",
    "                         'isfree': True,\n",
    "                         'init': 5e11,\n",
    "                         'init_disp': 1e9,\n",
    "                         'units': r'M_\\odot',\n",
    "                         'prior_function': priors.tophat,\n",
    "                         'prior_args': {'mini': 1e8, 'maxi': 3e12}})\n",
    "\n",
    "    model_params.append({'name': 'logzsol', 'N': 1,\n",
    "                         'isfree': False,\n",
    "                         'init': -0.3,\n",
    "                         'init_disp': 0.3,\n",
    "                         'units': r'$\\log (Z/Z_\\odot)$',\n",
    "                         'prior_function': priors.tophat,\n",
    "                         'prior_args': {'mini':-1, 'maxi':0.19}})\n",
    "    \n",
    "    # Metallicity, tau, and age priors\n",
    "    # If zcontinuous > 1, use 3-pt smoothing\n",
    "    model_params.append({'name': 'pmetals', 'N': 1,\n",
    "                         'isfree': False,\n",
    "                         'init': 0.02,})\n",
    "                        \n",
    "    model_params.append({'name': 'tau', 'N': 1,\n",
    "                         'isfree': False,\n",
    "                         'init': 1.0,\n",
    "                         'init_disp': 0.5,\n",
    "                         'units': 'Gyr',\n",
    "                         'prior_function': priors.logarithmic,\n",
    "                         'prior_args': {'mini': 0.1, 'maxi': 100}})\n",
    "\n",
    "    model_params.append({'name': 'tage', 'N': 1,\n",
    "                        'isfree': True,\n",
    "                        'init': 10.0,\n",
    "                        'init_disp': 3.0,\n",
    "                        'units': 'Gyr',\n",
    "                        'prior_function': priors.tophat,\n",
    "                        'prior_args': {'mini': 0.101, 'maxi': 14.0}})\n",
    "    \n",
    "    return sedmodel.SedModel(model_params)"
   ]
  },
  {
   "cell_type": "code",
   "execution_count": 18,
   "metadata": {
    "collapsed": true
   },
   "outputs": [],
   "source": [
    "model = load_model(obs['zred'], **run_params)"
   ]
  },
  {
   "cell_type": "code",
   "execution_count": 19,
   "metadata": {
    "collapsed": true
   },
   "outputs": [],
   "source": [
    "# Define our likelihood function\n",
    "def lnprobfn(theta, verbose=True):\n",
    "    \"\"\"Given a parameter vector and a dictionary of observational data and a model object, \n",
    "    return the ln of the posterior. This requires that an sps object (and if using spectra \n",
    "    and gaussian processes, a GP object) be instantiated.\n",
    "    \"\"\"\n",
    "\n",
    "    lnp_prior = model.prior_product(theta)\n",
    "    if isfinite(lnp_prior):\n",
    "        \n",
    "        # Generate mean model\n",
    "        t1 = time.time()\n",
    "        try:\n",
    "            mu, phot, x = model.mean_model(theta, obs, sps=sps)\n",
    "        except(ValueError):\n",
    "            return -np.infty\n",
    "        d1 = time.time() - t1\n",
    "\n",
    "        # Noise modeling\n",
    "        if spec_noise is not None:\n",
    "            spec_noise.update(**model.params)\n",
    "        if phot_noise is not None:\n",
    "            phot_noise.update(**model.params)\n",
    "        vectors = {'spec': mu, 'unc': obs['unc'],\n",
    "                   'sed': model._spec, 'cal': model._speccal,\n",
    "                   'phot': phot, 'maggies_unc': obs['maggies_unc']}\n",
    "\n",
    "        # Calculate log-likelihoods\n",
    "        t2 = time.time()\n",
    "        lnp_spec = lnlike_spec(mu, obs=obs, spec_noise=spec_noise, **vectors)\n",
    "        lnp_phot = lnlike_phot(phot, obs=obs, phot_noise=phot_noise, **vectors)\n",
    "        d2 = time.time() - t2\n",
    "        if verbose:\n",
    "            write_log(theta, lnp_prior, lnp_spec, lnp_phot, d1, d2)\n",
    "\n",
    "        return lnp_prior + lnp_phot + lnp_spec\n",
    "\n",
    "    else:\n",
    "        return -np.infty"
   ]
  },
  {
   "cell_type": "markdown",
   "metadata": {},
   "source": [
    "# Running Prospector"
   ]
  },
  {
   "cell_type": "markdown",
   "metadata": {},
   "source": [
    "### Outputs"
   ]
  },
  {
   "cell_type": "code",
   "execution_count": 20,
   "metadata": {},
   "outputs": [
    {
     "name": "stdout",
     "output_type": "stream",
     "text": [
      "Writing to file test_1496342003_mcmc.h5\n",
      "Could not JSON serialize model_params, pickled instead\n"
     ]
    }
   ],
   "source": [
    "outroot = \"{0}_{1}\".format(run_params['outfile'], int(time.time()))\n",
    "try:\n",
    "    hfilename = '{}_mcmc.h5'.format(outroot)\n",
    "    hfile = h5py.File(hfilename, \"a\")\n",
    "    print(\"Writing to file {}\".format(hfilename))\n",
    "    write_results.write_h5_header(hfile, run_params, model)\n",
    "    write_results.write_obs_to_h5(hfile, obs)\n",
    "except:\n",
    "    hfile = None"
   ]
  },
  {
   "cell_type": "markdown",
   "metadata": {},
   "source": [
    "### Model Preview"
   ]
  },
  {
   "cell_type": "code",
   "execution_count": 21,
   "metadata": {
    "scrolled": true
   },
   "outputs": [
    {
     "name": "stdout",
     "output_type": "stream",
     "text": [
      "Free parameters:  ['mass', 'tage']\n",
      "Fixed parameters:  ['zred', 'sfh', 'logzsol', 'pmetals', 'tau']\n"
     ]
    }
   ],
   "source": [
    "print('Free parameters: ', model.free_params)\n",
    "print('Fixed parameters: ', model.fixed_params)"
   ]
  },
  {
   "cell_type": "markdown",
   "metadata": {},
   "source": [
    "### SED Preview"
   ]
  },
  {
   "cell_type": "code",
   "execution_count": 22,
   "metadata": {},
   "outputs": [
    {
     "data": {
      "text/plain": [
       "array([  5.00000000e+11,   1.00000000e+01])"
      ]
     },
     "execution_count": 22,
     "metadata": {},
     "output_type": "execute_result"
    }
   ],
   "source": [
    "model.initial_theta"
   ]
  },
  {
   "cell_type": "code",
   "execution_count": 23,
   "metadata": {},
   "outputs": [
    {
     "data": {
      "text/plain": [
       "array([  9.10000000e+01,   9.40000000e+01,   9.60000000e+01, ...,\n",
       "         9.81700000e+07,   9.90800000e+07,   1.00000000e+08])"
      ]
     },
     "execution_count": 23,
     "metadata": {},
     "output_type": "execute_result"
    }
   ],
   "source": [
    "sps.csp.wavelengths"
   ]
  },
  {
   "cell_type": "code",
   "execution_count": 24,
   "metadata": {
    "scrolled": false
   },
   "outputs": [
    {
     "data": {
      "image/png": "[encoded data removed]",
      "text/plain": [
       "<matplotlib.figure.Figure at 0x7f6a08a902e8>"
      ]
     },
     "metadata": {},
     "output_type": "display_data"
    }
   ],
   "source": [
    "wspec = sps.csp.wavelengths # spectral wavelengths\n",
    "wphot = array([f.wave_effective for f in obs['filters']]) # photometric effective wavelengths\n",
    "wphot_width = array([f.effective_width for f in obs['filters']]) # photometric effective widths\n",
    "\n",
    "initial_theta = model.rectify_theta(model.initial_theta) # initial parameters\n",
    "mspec_init, mphot_init, mextra_init = model.mean_model(initial_theta, obs, sps=sps) # generate model\n",
    "\n",
    "# establish bounds\n",
    "xmin, xmax = wphot.min()*0.8, wphot.max()/0.8\n",
    "temp = interp(linspace(xmin,xmax,10000), wspec, mspec_init)\n",
    "ymin, ymax = temp.min()*0.8, temp.max()/0.8\n",
    "\n",
    "# plotting \n",
    "figure(figsize=(16,8))\n",
    "for i in range(len(wphot)):\n",
    "    f = obs['filters'][i]\n",
    "    w, t = f.wavelength.copy(), f.transmission.copy()\n",
    "    while t.max() > 1:\n",
    "        t /= 10.\n",
    "    t = 0.1*(ymax-ymin)*t + ymin\n",
    "    loglog(w, t, lw=3, color='gray', alpha=0.7)\n",
    "loglog(wspec, mspec_init, lw=0.7, color='navy', alpha=0.7, label='Model spectrum')\n",
    "errorbar(wphot, mphot_init, marker='s', ls='', lw=3, markersize=10,\n",
    "         markerfacecolor='none', markeredgecolor='blue', markeredgewidth=3, alpha=0.8, label='Model photometry')\n",
    "errorbar(wphot, obs['maggies'], yerr=obs['maggies_unc'], ecolor='red', marker='o', ls='', lw=3, markersize=10, \n",
    "         markerfacecolor='none', markeredgecolor='red', markeredgewidth=3, alpha=0.8, label='Observed photometry')\n",
    "\n",
    "xlabel('Wavelength [A]')\n",
    "ylabel('Flux Density [maggies]')\n",
    "xlim([xmin, xmax])\n",
    "ylim([ymin, ymax])\n",
    "legend(loc='best', fontsize=20)\n",
    "tight_layout()\n",
    "\n"
   ]
  },
  {
   "cell_type": "markdown",
   "metadata": {},
   "source": [
    "### Minimization Step"
   ]
  },
  {
   "cell_type": "code",
   "execution_count": 25,
   "metadata": {},
   "outputs": [
    {
     "name": "stdout",
     "output_type": "stream",
     "text": [
      "Not using MPI\n"
     ]
    }
   ],
   "source": [
    "# Do we actually need this?\n",
    "try:\n",
    "    from emcee.utils import MPIPool\n",
    "    pool = MPIPool(debug=False, loadbalance=True)\n",
    "    if not pool.is_master():\n",
    "        # Wait for instructions from the master process.\n",
    "        pool.wait()\n",
    "        sys.exit(0)\n",
    "except(ImportError, ValueError):\n",
    "    pool = None\n",
    "    print('Not using MPI')"
   ]
  },
  {
   "cell_type": "code",
   "execution_count": 26,
   "metadata": {
    "collapsed": true
   },
   "outputs": [],
   "source": [
    "def halt(message):\n",
    "    \"\"\"Exit, closing pool safely.\n",
    "    \"\"\"\n",
    "    print(message)\n",
    "    try:\n",
    "        pool.close()\n",
    "    except:\n",
    "        pass"
   ]
  },
  {
   "cell_type": "code",
   "execution_count": 27,
   "metadata": {},
   "outputs": [
    {
     "name": "stdout",
     "output_type": "stream",
     "text": [
      "[  5.00000000e+11   1.00000000e+01]\n",
      "model calc = 0.003663301467895508s, lnlike calc = 0.00010204315185546875\n",
      "lnp = -10000.238341321208, lnp_spec = 0.0, lnp_phot = -10000.238341321208\n",
      "[  5.25000000e+11   1.00000000e+01]\n",
      "model calc = 0.001850128173828125s, lnlike calc = 6.341934204101562e-05\n",
      "lnp = -12122.395435572633, lnp_spec = 0.0, lnp_phot = -12122.395435572633\n",
      "[  5.00000000e+11   1.05000000e+01]\n",
      "model calc = 0.01245880126953125s, lnlike calc = 6.341934204101562e-05\n",
      "lnp = -7812.136393760899, lnp_spec = 0.0, lnp_phot = -7812.136393760899\n",
      "[  4.75000000e+11   1.05000000e+01]\n",
      "model calc = 0.0017642974853515625s, lnlike calc = 6.270408630371094e-05\n",
      "lnp = -6214.987641656104, lnp_spec = 0.0, lnp_phot = -6214.987641656104\n",
      "[  4.50000000e+11   1.07500000e+01]\n",
      "model calc = 0.011452674865722656s, lnlike calc = 6.365776062011719e-05\n",
      "lnp = -4175.847834072981, lnp_spec = 0.0, lnp_phot = -4175.847834072981\n",
      "[  4.50000000e+11   1.12500000e+01]\n",
      "model calc = 0.011541366577148438s, lnlike calc = 6.318092346191406e-05\n",
      "lnp = -3168.2479719032162, lnp_spec = 0.0, lnp_phot = -3168.2479719032162\n",
      "[  4.25000000e+11   1.18750000e+01]\n",
      "model calc = 0.011542320251464844s, lnlike calc = 6.341934204101562e-05\n",
      "lnp = -1504.808705869735, lnp_spec = 0.0, lnp_phot = -1504.808705869735\n",
      "[  3.75000000e+11   1.21250000e+01]\n",
      "model calc = 0.011656522750854492s, lnlike calc = 6.413459777832031e-05\n",
      "lnp = -328.3827422072243, lnp_spec = 0.0, lnp_phot = -328.3827422072243\n",
      "[  3.12500000e+11   1.29375000e+01]\n",
      "model calc = 0.011687040328979492s, lnlike calc = 6.437301635742188e-05\n",
      "lnp = 98.84821124340237, lnp_spec = 0.0, lnp_phot = 98.84821124340237\n",
      "WARNING: tage is out of bounds\n",
      "[  4.09375000e+11   1.15781250e+01]\n",
      "model calc = 0.011479616165161133s, lnlike calc = 6.341934204101562e-05\n",
      "lnp = -1380.5457669854986, lnp_spec = 0.0, lnp_phot = -1380.5457669854986\n",
      "[  2.96875000e+11   1.26406250e+01]\n",
      "model calc = 0.011583089828491211s, lnlike calc = 6.318092346191406e-05\n",
      "lnp = 62.530665700901, lnp_spec = 0.0, lnp_phot = 62.530665700901\n",
      "[  2.00000000e+11   1.40000000e+01]\n",
      "model calc = 0.011595726013183594s, lnlike calc = 6.198883056640625e-05\n",
      "lnp = -1759.3359350084556, lnp_spec = 0.0, lnp_phot = -1759.3359350084556\n",
      "[  3.57031250e+11   1.21835938e+01]\n",
      "model calc = 0.01153254508972168s, lnlike calc = 6.318092346191406e-05\n",
      "lnp = -98.33774249427432, lnp_spec = 0.0, lnp_phot = -98.33774249427432\n",
      "[  2.52343750e+11   1.33945312e+01]\n",
      "model calc = 0.011593818664550781s, lnlike calc = 6.318092346191406e-05\n",
      "lnp = -532.762682037447, lnp_spec = 0.0, lnp_phot = -532.762682037447\n",
      "[  3.30859375e+11   1.24863281e+01]\n",
      "model calc = 0.011452198028564453s, lnlike calc = 6.29425048828125e-05\n",
      "lnp = 107.35409630851026, lnp_spec = 0.0, lnp_phot = 107.35409630851026\n",
      "[  3.46484375e+11   1.27832031e+01]\n",
      "model calc = 0.011661767959594727s, lnlike calc = 6.318092346191406e-05\n",
      "lnp = 79.88563885231211, lnp_spec = 0.0, lnp_phot = 79.88563885231211\n",
      "[  3.34082031e+11   1.27475586e+01]\n",
      "model calc = 0.011610269546508789s, lnlike calc = 6.318092346191406e-05\n",
      "lnp = 114.08120931243792, lnp_spec = 0.0, lnp_phot = 114.08120931243792\n",
      "[  3.52441406e+11   1.22963867e+01]\n",
      "model calc = 0.011552810668945312s, lnlike calc = 6.341934204101562e-05\n",
      "lnp = -30.494974711402108, lnp_spec = 0.0, lnp_phot = -30.494974711402108\n",
      "[  3.22485352e+11   1.27772217e+01]\n",
      "model calc = 0.012204647064208984s, lnlike calc = 6.318092346191406e-05\n",
      "lnp = 122.54806244759548, lnp_spec = 0.0, lnp_phot = 122.54806244759548\n",
      "[  3.25708008e+11   1.30384521e+01]\n",
      "model calc = 0.011571407318115234s, lnlike calc = 6.318092346191406e-05\n",
      "lnp = 120.65014301706405, lnp_spec = 0.0, lnp_phot = 120.65014301706405\n",
      "[  3.14111328e+11   1.30681152e+01]\n",
      "model calc = 0.011541366577148438s, lnlike calc = 6.318092346191406e-05\n",
      "lnp = 95.18701156930379, lnp_spec = 0.0, lnp_phot = 95.18701156930379\n",
      "[  3.29089355e+11   1.28276978e+01]\n",
      "model calc = 0.011598825454711914s, lnlike calc = 6.365776062011719e-05\n",
      "lnp = 122.35240206671347, lnp_spec = 0.0, lnp_phot = 122.35240206671347\n",
      "[  3.25866699e+11   1.25664673e+01]\n",
      "model calc = 0.01166534423828125s, lnlike calc = 6.270408630371094e-05\n",
      "lnp = 119.93557453207555, lnp_spec = 0.0, lnp_phot = 119.93557453207555\n",
      "[  3.25747681e+11   1.29204559e+01]\n",
      "model calc = 0.011663198471069336s, lnlike calc = 6.365776062011719e-05\n",
      "lnp = 122.56230990081795, lnp_spec = 0.0, lnp_phot = 122.56230990081795\n",
      "[  3.19143677e+11   1.28699799e+01]\n",
      "model calc = 0.011601448059082031s, lnlike calc = 6.246566772460938e-05\n",
      "lnp = 117.16370962407147, lnp_spec = 0.0, lnp_phot = 117.16370962407147\n",
      "[  3.26602936e+11   1.28382683e+01]\n",
      "model calc = 0.011528730392456055s, lnlike calc = 6.318092346191406e-05\n",
      "lnp = 123.1546823958707, lnp_spec = 0.0, lnp_phot = 123.1546823958707\n",
      "[  3.29865265e+11   1.29815025e+01]\n",
      "model calc = 0.011527299880981445s, lnlike calc = 6.389617919921875e-05\n",
      "lnp = 123.1540182928986, lnp_spec = 0.0, lnp_phot = 123.1540182928986\n",
      "[  3.30720520e+11   1.28993149e+01]\n",
      "model calc = 0.011592864990234375s, lnlike calc = 6.29425048828125e-05\n",
      "lnp = 122.35793834965384, lnp_spec = 0.0, lnp_phot = 122.35793834965384\n",
      "[  3.26990891e+11   1.29151707e+01]\n",
      "model calc = 0.011594772338867188s, lnlike calc = 6.29425048828125e-05\n",
      "lnp = 123.0316068966259, lnp_spec = 0.0, lnp_phot = 123.0316068966259\n",
      "[  3.29477310e+11   1.29046001e+01]\n",
      "model calc = 0.011595964431762695s, lnlike calc = 6.270408630371094e-05\n",
      "lnp = 122.93021401317763, lnp_spec = 0.0, lnp_phot = 122.93021401317763\n",
      "[  3.27612495e+11   1.29125280e+01]\n",
      "model calc = 0.011649608612060547s, lnlike calc = 6.270408630371094e-05\n",
      "lnp = 123.13640534933248, lnp_spec = 0.0, lnp_phot = 123.13640534933248\n",
      "[  3.28855705e+11   1.29072428e+01]\n",
      "model calc = 0.011518239974975586s, lnlike calc = 6.341934204101562e-05\n",
      "lnp = 123.08580801841848, lnp_spec = 0.0, lnp_phot = 123.08580801841848\n",
      "[  3.27923298e+11   1.29112067e+01]\n",
      "model calc = 0.011645317077636719s, lnlike calc = 6.29425048828125e-05\n",
      "lnp = 123.15629885734299, lnp_spec = 0.0, lnp_phot = 123.15629885734299\n",
      "[  3.24660969e+11   1.27679725e+01]\n",
      "model calc = 0.011597633361816406s, lnlike calc = 6.318092346191406e-05\n",
      "lnp = 123.15620146535724, lnp_spec = 0.0, lnp_phot = 123.15620146535724\n",
      "[  3.25981331e+11   1.28409109e+01]\n",
      "model calc = 0.012196063995361328s, lnlike calc = 6.318092346191406e-05\n",
      "lnp = 123.13562730254405, lnp_spec = 0.0, lnp_phot = 123.13562730254405\n",
      "[  3.26447535e+11   1.28389289e+01]\n",
      "model calc = 0.011569976806640625s, lnlike calc = 6.270408630371094e-05\n",
      "lnp = 123.15814098194608, lnp_spec = 0.0, lnp_phot = 123.15814098194608\n",
      "[  3.29709864e+11   1.29821632e+01]\n",
      "model calc = 0.011524200439453125s, lnlike calc = 6.270408630371094e-05\n",
      "lnp = 123.1580247422445, lnp_spec = 0.0, lnp_phot = 123.1580247422445\n",
      "[  3.28234100e+11   1.29098854e+01]\n",
      "model calc = 0.011601448059082031s, lnlike calc = 6.270408630371094e-05\n",
      "lnp = 123.15450539545006, lnp_spec = 0.0, lnp_phot = 123.15450539545006\n",
      "[  3.28000998e+11   1.29108764e+01]\n",
      "model calc = 0.011516332626342773s, lnlike calc = 6.29425048828125e-05\n",
      "lnp = 123.15788412880568, lnp_spec = 0.0, lnp_phot = 123.15788412880568\n",
      "[  3.28156400e+11   1.29102157e+01]\n",
      "model calc = 0.011615991592407227s, lnlike calc = 6.270408630371094e-05\n",
      "lnp = 123.15698759134257, lnp_spec = 0.0, lnp_phot = 123.15698759134257\n",
      "[  3.28039849e+11   1.29107112e+01]\n",
      "model calc = 0.011589527130126953s, lnlike calc = 6.29425048828125e-05\n",
      "lnp = 123.15816841576121, lnp_spec = 0.0, lnp_phot = 123.15816841576121\n",
      "[  3.24777520e+11   1.27674770e+01]\n",
      "model calc = 0.011602163314819336s, lnlike calc = 6.318092346191406e-05\n",
      "lnp = 123.15816202959407, lnp_spec = 0.0, lnp_phot = 123.15816202959407\n",
      "[  3.26369834e+11   1.28392593e+01]\n",
      "model calc = 0.011582374572753906s, lnlike calc = 6.914138793945312e-05\n",
      "lnp = 123.15781418679907, lnp_spec = 0.0, lnp_phot = 123.15781418679907\n",
      "[  3.26428109e+11   1.28390115e+01]\n",
      "model calc = 0.011582612991333008s, lnlike calc = 6.29425048828125e-05\n",
      "lnp = 123.15818777465017, lnp_spec = 0.0, lnp_phot = 123.15818777465017\n",
      "[  3.29690439e+11   1.29822458e+01]\n",
      "model calc = 0.011517047882080078s, lnlike calc = 6.29425048828125e-05\n",
      "lnp = 123.15814821009124, lnp_spec = 0.0, lnp_phot = 123.15814821009124\n",
      "[  3.26005749e+11   1.28211692e+01]\n",
      "model calc = 0.011524677276611328s, lnlike calc = 6.29425048828125e-05\n",
      "lnp = 123.15816653566011, lnp_spec = 0.0, lnp_phot = 123.15816653566011\n",
      "[  3.28462209e+11   1.29285536e+01]\n",
      "model calc = 0.011510610580444336s, lnlike calc = 7.128715515136719e-05\n",
      "lnp = 123.15818612422271, lnp_spec = 0.0, lnp_phot = 123.15818612422271\n",
      "[  3.26850469e+11   1.28568539e+01]\n",
      "model calc = 0.011592388153076172s, lnlike calc = 6.29425048828125e-05\n",
      "lnp = 123.15815873993893, lnp_spec = 0.0, lnp_phot = 123.15815873993893\n",
      "[  3.27742504e+11   1.28972469e+01]\n",
      "model calc = 0.011646032333374023s, lnlike calc = 6.29425048828125e-05\n",
      "lnp = 123.15818344344191, lnp_spec = 0.0, lnp_phot = 123.15818344344191\n",
      "[  3.27147814e+11   1.28703182e+01]\n",
      "model calc = 0.011590957641601562s, lnlike calc = 6.246566772460938e-05\n"
     ]
    },
    {
     "name": "stdout",
     "output_type": "stream",
     "text": [
      "lnp = 123.15818004498715, lnp_spec = 0.0, lnp_phot = 123.15818004498715\n",
      "[  3.27593832e+11   1.28905147e+01]\n",
      "model calc = 0.012247800827026367s, lnlike calc = 6.365776062011719e-05\n",
      "lnp = 123.15818702991692, lnp_spec = 0.0, lnp_phot = 123.15818702991692\n",
      "[  3.25559732e+11   1.28009727e+01]\n",
      "model calc = 0.011587142944335938s, lnlike calc = 6.341934204101562e-05\n",
      "lnp = 123.1581878581263, lnp_spec = 0.0, lnp_phot = 123.1581878581263\n",
      "[  3.24108494e+11   1.27371822e+01]\n",
      "model calc = 0.011611461639404297s, lnlike calc = 6.318092346191406e-05\n",
      "lnp = 123.15817915056759, lnp_spec = 0.0, lnp_phot = 123.15817915056759\n",
      "[  3.24394010e+11   1.27494695e+01]\n",
      "model calc = 0.011597633361816406s, lnlike calc = 6.341934204101562e-05\n",
      "lnp = 123.15817196831111, lnp_spec = 0.0, lnp_phot = 123.15817196831111\n",
      "[  3.26793876e+11   1.28552534e+01]\n",
      "model calc = 0.011528491973876953s, lnlike calc = 6.246566772460938e-05\n",
      "lnp = 123.15818721463062, lnp_spec = 0.0, lnp_phot = 123.15818721463062\n",
      "[  3.25193965e+11   1.27847308e+01]\n",
      "model calc = 0.011532306671142578s, lnlike calc = 6.29425048828125e-05\n",
      "lnp = 123.15818540827479, lnp_spec = 0.0, lnp_phot = 123.15818540827479\n",
      "[  3.26393898e+11   1.28376227e+01]\n",
      "model calc = 0.011530876159667969s, lnlike calc = 6.341934204101562e-05\n",
      "lnp = 123.15818761889395, lnp_spec = 0.0, lnp_phot = 123.15818761889395\n",
      "[  3.25593943e+11   1.28023614e+01]\n",
      "model calc = 0.011661291122436523s, lnlike calc = 6.365776062011719e-05\n",
      "lnp = 123.15818740285397, lnp_spec = 0.0, lnp_phot = 123.15818740285397\n",
      "[  3.26193910e+11   1.28288074e+01]\n",
      "model calc = 0.011586189270019531s, lnlike calc = 6.341934204101562e-05\n",
      "lnp = 123.15818779095122, lnp_spec = 0.0, lnp_phot = 123.15818779095122\n",
      "[  3.25325532e+11   1.27907686e+01]\n",
      "model calc = 0.011671781539916992s, lnlike calc = 6.365776062011719e-05\n",
      "lnp = 123.15818768420452, lnp_spec = 0.0, lnp_phot = 123.15818768420452\n",
      "[  3.26152465e+11   1.28269508e+01]\n",
      "model calc = 0.013682365417480469s, lnlike calc = 7.104873657226562e-05\n",
      "lnp = 123.15818786602729, lnp_spec = 0.0, lnp_phot = 123.15818786602729\n",
      "[  3.25518288e+11   1.27991160e+01]\n",
      "model calc = 0.011870384216308594s, lnlike calc = 6.29425048828125e-05\n",
      "lnp = 123.15818782472472, lnp_spec = 0.0, lnp_phot = 123.15818782472472\n",
      "[  3.25687193e+11   1.28065389e+01]\n",
      "model calc = 0.011597394943237305s, lnlike calc = 6.246566772460938e-05\n",
      "lnp = 123.15818786518277, lnp_spec = 0.0, lnp_phot = 123.15818786518277\n",
      "[  3.26279926e+11   1.28325170e+01]\n",
      "model calc = 0.011522531509399414s, lnlike calc = 6.29425048828125e-05\n",
      "lnp = 123.15818782714925, lnp_spec = 0.0, lnp_phot = 123.15818782714925\n",
      "[  3.25739781e+11   1.28088587e+01]\n",
      "model calc = 0.01160120964050293s, lnlike calc = 6.365776062011719e-05\n",
      "lnp = 123.15818786041801, lnp_spec = 0.0, lnp_phot = 123.15818786041801\n",
      "[  3.26099878e+11   1.28246309e+01]\n",
      "model calc = 0.011665821075439453s, lnlike calc = 6.29425048828125e-05\n",
      "lnp = 123.15818786151634, lnp_spec = 0.0, lnp_phot = 123.15818786151634\n",
      "[  3.26009853e+11   1.28206879e+01]\n",
      "model calc = 0.012328624725341797s, lnlike calc = 6.341934204101562e-05\n",
      "lnp = 123.15818786588696, lnp_spec = 0.0, lnp_phot = 123.15818786588696\n",
      "[  3.26475125e+11   1.28410998e+01]\n",
      "model calc = 0.011559247970581055s, lnlike calc = 6.413459777832031e-05\n",
      "lnp = 123.15818784437727, lnp_spec = 0.0, lnp_phot = 123.15818784437727\n",
      "[  3.25884176e+11   1.28151791e+01]\n",
      "model calc = 0.011609554290771484s, lnlike calc = 6.937980651855469e-05\n",
      "lnp = 123.15818786615361, lnp_spec = 0.0, lnp_phot = 123.15818786615361\n",
      "[  3.26026788e+11   1.28214420e+01]\n",
      "model calc = 0.01160430908203125s, lnlike calc = 6.198883056640625e-05\n",
      "lnp = 123.15818786258143, lnp_spec = 0.0, lnp_phot = 123.15818786258143\n",
      "[  3.26014087e+11   1.28208764e+01]\n",
      "model calc = 0.011632919311523438s, lnlike calc = 6.270408630371094e-05\n",
      "lnp = 123.1581878662084, lnp_spec = 0.0, lnp_phot = 123.1581878662084\n",
      "[  3.25745798e+11   1.28091047e+01]\n",
      "model calc = 0.01162099838256836s, lnlike calc = 6.318092346191406e-05\n",
      "lnp = 123.15818786385285, lnp_spec = 0.0, lnp_phot = 123.15818786385285\n",
      "[  3.26050798e+11   1.28224893e+01]\n",
      "model calc = 0.011602401733398438s, lnlike calc = 7.033348083496094e-05\n",
      "lnp = 123.1581878659423, lnp_spec = 0.0, lnp_phot = 123.1581878659423\n",
      "[  3.25949132e+11   1.28180278e+01]\n",
      "model calc = 0.011736392974853516s, lnlike calc = 6.4849853515625e-05\n",
      "lnp = 123.15818786616072, lnp_spec = 0.0, lnp_phot = 123.15818786616072\n",
      "[  3.26083276e+11   1.28239136e+01]\n",
      "model calc = 0.011524200439453125s, lnlike calc = 6.270408630371094e-05\n",
      "lnp = 123.15818786610325, lnp_spec = 0.0, lnp_phot = 123.15818786610325\n",
      "[  3.25879943e+11   1.28149906e+01]\n",
      "model calc = 0.011518001556396484s, lnlike calc = 6.341934204101562e-05\n",
      "lnp = 123.1581878660498, lnp_spec = 0.0, lnp_phot = 123.1581878660498\n",
      "[  3.26032443e+11   1.28216828e+01]\n",
      "model calc = 0.01163625717163086s, lnlike calc = 6.270408630371094e-05\n",
      "lnp = 123.15818786612644, lnp_spec = 0.0, lnp_phot = 123.15818786612644\n",
      "[  3.25930776e+11   1.28172213e+01]\n",
      "model calc = 0.011608600616455078s, lnlike calc = 6.29425048828125e-05\n",
      "lnp = 123.15818786620554, lnp_spec = 0.0, lnp_phot = 123.15818786620554\n",
      "[  3.25995731e+11   1.28200700e+01]\n",
      "model calc = 0.011589527130126953s, lnlike calc = 6.246566772460938e-05\n",
      "lnp = 123.15818786616997, lnp_spec = 0.0, lnp_phot = 123.15818786616997\n",
      "[  3.25984081e+11   1.28195594e+01]\n",
      "model calc = 0.011518716812133789s, lnlike calc = 6.246566772460938e-05\n",
      "lnp = 123.15818786620316, lnp_spec = 0.0, lnp_phot = 123.15818786620316\n",
      "[  3.25960782e+11   1.28185383e+01]\n",
      "model calc = 0.011513233184814453s, lnlike calc = 6.318092346191406e-05\n",
      "lnp = 123.15818786619529, lnp_spec = 0.0, lnp_phot = 123.15818786619529\n",
      "[  3.25978256e+11   1.28193041e+01]\n",
      "model calc = 0.011515140533447266s, lnlike calc = 6.29425048828125e-05\n",
      "lnp = 123.15818786620986, lnp_spec = 0.0, lnp_phot = 123.15818786620986\n",
      "[  3.26061568e+11   1.28229592e+01]\n",
      "model calc = 0.012177467346191406s, lnlike calc = 6.341934204101562e-05\n",
      "lnp = 123.15818786620771, lnp_spec = 0.0, lnp_phot = 123.15818786620771\n",
      "[  3.26028870e+11   1.28215247e+01]\n",
      "model calc = 0.011564493179321289s, lnlike calc = 6.318092346191406e-05\n",
      "lnp = 123.15818786621094, lnp_spec = 0.0, lnp_phot = 123.15818786621094\n",
      "[  3.25993039e+11   1.28199525e+01]\n",
      "model calc = 0.011603355407714844s, lnlike calc = 6.341934204101562e-05\n",
      "lnp = 123.15818786620675, lnp_spec = 0.0, lnp_phot = 123.15818786620675\n",
      "[  3.26008825e+11   1.28206454e+01]\n",
      "model calc = 0.011529922485351562s, lnlike calc = 6.365776062011719e-05\n",
      "lnp = 123.1581878662104, lnp_spec = 0.0, lnp_phot = 123.1581878662104\n",
      "[  3.26059438e+11   1.28228660e+01]\n",
      "model calc = 0.011520147323608398s, lnlike calc = 6.365776062011719e-05\n",
      "lnp = 123.15818786621094, lnp_spec = 0.0, lnp_phot = 123.15818786621094\n",
      "[  3.26079483e+11   1.28237454e+01]\n",
      "model calc = 0.011603593826293945s, lnlike calc = 6.318092346191406e-05\n",
      "lnp = 123.15818786620676, lnp_spec = 0.0, lnp_phot = 123.15818786620676\n",
      "[  3.26026489e+11   1.28214204e+01]\n",
      "model calc = 0.011605501174926758s, lnlike calc = 7.033348083496094e-05\n",
      "lnp = 123.1581878662106, lnp_spec = 0.0, lnp_phot = 123.1581878662106\n",
      "[  3.26061818e+11   1.28229704e+01]\n",
      "model calc = 0.01161050796508789s, lnlike calc = 6.29425048828125e-05\n",
      "lnp = 123.1581878662103, lnp_spec = 0.0, lnp_phot = 123.1581878662103\n",
      "[  3.26035322e+11   1.28218079e+01]\n",
      "model calc = 0.011730670928955078s, lnlike calc = 6.389617919921875e-05\n",
      "lnp = 123.1581878662108, lnp_spec = 0.0, lnp_phot = 123.1581878662108\n",
      "[  3.26052986e+11   1.28225829e+01]\n",
      "model calc = 0.011598348617553711s, lnlike calc = 6.29425048828125e-05\n",
      "lnp = 123.15818786621084, lnp_spec = 0.0, lnp_phot = 123.15818786621084\n",
      "[  3.26048570e+11   1.28223891e+01]\n",
      "model calc = 0.011589288711547852s, lnlike calc = 6.29425048828125e-05\n",
      "lnp = 123.15818786621092, lnp_spec = 0.0, lnp_phot = 123.15818786621092\n",
      "[  3.26039738e+11   1.28220016e+01]\n",
      "model calc = 0.01159358024597168s, lnlike calc = 6.961822509765625e-05\n",
      "lnp = 123.15818786621088, lnp_spec = 0.0, lnp_phot = 123.15818786621088\n",
      "[  3.26046362e+11   1.28222923e+01]\n",
      "model calc = 0.01159977912902832s, lnlike calc = 6.29425048828125e-05\n",
      "lnp = 123.15818786621094, lnp_spec = 0.0, lnp_phot = 123.15818786621094\n",
      "[  3.26041946e+11   1.28220985e+01]\n",
      "model calc = 0.011605262756347656s, lnlike calc = 6.270408630371094e-05\n",
      "lnp = 123.15818786621091, lnp_spec = 0.0, lnp_phot = 123.15818786621091\n",
      "[  3.26045258e+11   1.28222438e+01]\n",
      "model calc = 0.011529684066772461s, lnlike calc = 6.389617919921875e-05\n",
      "lnp = 123.15818786621094, lnp_spec = 0.0, lnp_phot = 123.15818786621094\n",
      "[  3.26044154e+11   1.28221954e+01]\n",
      "model calc = 0.011586904525756836s, lnlike calc = 6.318092346191406e-05\n"
     ]
    },
    {
     "name": "stdout",
     "output_type": "stream",
     "text": [
      "lnp = 123.15818786621094, lnp_spec = 0.0, lnp_phot = 123.15818786621094\n",
      "[  3.26037616e+11   1.28219085e+01]\n",
      "model calc = 0.012258291244506836s, lnlike calc = 6.29425048828125e-05\n",
      "lnp = 123.15818786621094, lnp_spec = 0.0, lnp_phot = 123.15818786621094\n",
      "[  3.26035408e+11   1.28218116e+01]\n",
      "model calc = 0.011557579040527344s, lnlike calc = 6.341934204101562e-05\n",
      "lnp = 123.15818786621092, lnp_spec = 0.0, lnp_phot = 123.15818786621092\n",
      "[  3.26037064e+11   1.28218843e+01]\n",
      "model calc = 0.011796236038208008s, lnlike calc = 6.29425048828125e-05\n",
      "lnp = 123.15818786621094, lnp_spec = 0.0, lnp_phot = 123.15818786621094\n",
      "[  3.26036512e+11   1.28218601e+01]\n",
      "model calc = 0.011605501174926758s, lnlike calc = 6.29425048828125e-05\n",
      "lnp = 123.15818786621094, lnp_spec = 0.0, lnp_phot = 123.15818786621094\n",
      "[  3.26033243e+11   1.28217166e+01]\n",
      "model calc = 0.011597633361816406s, lnlike calc = 6.246566772460938e-05\n",
      "lnp = 123.15818786621094, lnp_spec = 0.0, lnp_phot = 123.15818786621094\n",
      "[  3.26032139e+11   1.28216682e+01]\n",
      "model calc = 0.011612653732299805s, lnlike calc = 6.29425048828125e-05\n",
      "lnp = 123.15818786621094, lnp_spec = 0.0, lnp_phot = 123.15818786621094\n",
      "[  3.26032967e+11   1.28217045e+01]\n",
      "model calc = 0.011600971221923828s, lnlike calc = 6.29425048828125e-05\n",
      "lnp = 123.15818786621094, lnp_spec = 0.0, lnp_phot = 123.15818786621094\n",
      "[  3.26032691e+11   1.28216924e+01]\n",
      "model calc = 0.011531591415405273s, lnlike calc = 6.318092346191406e-05\n",
      "lnp = 123.15818786621094, lnp_spec = 0.0, lnp_phot = 123.15818786621094\n",
      "[  3.26031056e+11   1.28216207e+01]\n",
      "model calc = 0.011595487594604492s, lnlike calc = 6.318092346191406e-05\n",
      "lnp = 123.15818786621094, lnp_spec = 0.0, lnp_phot = 123.15818786621094\n",
      "[  3.26030504e+11   1.28215965e+01]\n",
      "model calc = 0.01166677474975586s, lnlike calc = 6.246566772460938e-05\n",
      "lnp = 123.15818786621094, lnp_spec = 0.0, lnp_phot = 123.15818786621094\n",
      "[  3.26030918e+11   1.28216146e+01]\n",
      "model calc = 0.01165151596069336s, lnlike calc = 6.246566772460938e-05\n",
      "lnp = 123.15818786621094, lnp_spec = 0.0, lnp_phot = 123.15818786621094\n",
      "[  3.26030780e+11   1.28216086e+01]\n",
      "model calc = 0.011589527130126953s, lnlike calc = 6.318092346191406e-05\n",
      "lnp = 123.15818786621094, lnp_spec = 0.0, lnp_phot = 123.15818786621094\n",
      "[  3.26029963e+11   1.28215727e+01]\n",
      "model calc = 0.011516571044921875s, lnlike calc = 6.246566772460938e-05\n",
      "lnp = 123.15818786621094, lnp_spec = 0.0, lnp_phot = 123.15818786621094\n",
      "[  3.26029687e+11   1.28215606e+01]\n",
      "model calc = 0.011591196060180664s, lnlike calc = 6.29425048828125e-05\n",
      "lnp = 123.15818786621094, lnp_spec = 0.0, lnp_phot = 123.15818786621094\n",
      "[  3.26029894e+11   1.28215697e+01]\n",
      "model calc = 0.011509418487548828s, lnlike calc = 6.961822509765625e-05\n",
      "lnp = 123.15818786621094, lnp_spec = 0.0, lnp_phot = 123.15818786621094\n",
      "[  3.26029825e+11   1.28215667e+01]\n",
      "model calc = 0.011508464813232422s, lnlike calc = 6.29425048828125e-05\n",
      "lnp = 123.15818786621094, lnp_spec = 0.0, lnp_phot = 123.15818786621094\n",
      "[  3.26029416e+11   1.28215487e+01]\n",
      "model calc = 0.012087583541870117s, lnlike calc = 7.033348083496094e-05\n",
      "lnp = 123.15818786621094, lnp_spec = 0.0, lnp_phot = 123.15818786621094\n",
      "[  3.26029278e+11   1.28215427e+01]\n",
      "model calc = 0.011622190475463867s, lnlike calc = 6.29425048828125e-05\n",
      "lnp = 123.15818786621094, lnp_spec = 0.0, lnp_phot = 123.15818786621094\n",
      "[  3.26029382e+11   1.28215472e+01]\n",
      "model calc = 0.011586904525756836s, lnlike calc = 6.270408630371094e-05\n",
      "lnp = 123.15818786621094, lnp_spec = 0.0, lnp_phot = 123.15818786621094\n",
      "[  3.26029347e+11   1.28215457e+01]\n",
      "model calc = 0.01153707504272461s, lnlike calc = 6.318092346191406e-05\n",
      "lnp = 123.15818786621094, lnp_spec = 0.0, lnp_phot = 123.15818786621094\n",
      "[  3.26029143e+11   1.28215367e+01]\n",
      "model calc = 0.014025449752807617s, lnlike calc = 7.319450378417969e-05\n",
      "lnp = 123.15818786621094, lnp_spec = 0.0, lnp_phot = 123.15818786621094\n",
      "[  3.26029074e+11   1.28215337e+01]\n",
      "model calc = 0.011736631393432617s, lnlike calc = 6.29425048828125e-05\n",
      "lnp = 123.15818786621094, lnp_spec = 0.0, lnp_phot = 123.15818786621094\n",
      "[  3.26029126e+11   1.28215360e+01]\n",
      "model calc = 0.011545896530151367s, lnlike calc = 6.246566772460938e-05\n",
      "lnp = 123.15818786621094, lnp_spec = 0.0, lnp_phot = 123.15818786621094\n",
      "[  3.26029108e+11   1.28215352e+01]\n",
      "model calc = 0.011623144149780273s, lnlike calc = 6.246566772460938e-05\n",
      "lnp = 123.15818786621094, lnp_spec = 0.0, lnp_phot = 123.15818786621094\n",
      "[  3.26029006e+11   1.28215307e+01]\n",
      "model calc = 0.01159524917602539s, lnlike calc = 6.985664367675781e-05\n",
      "lnp = 123.15818786621094, lnp_spec = 0.0, lnp_phot = 123.15818786621094\n",
      "[  3.26028972e+11   1.28215292e+01]\n",
      "model calc = 0.011585474014282227s, lnlike calc = 6.270408630371094e-05\n",
      "lnp = 123.15818786621094, lnp_spec = 0.0, lnp_phot = 123.15818786621094\n",
      "[  3.26028998e+11   1.28215304e+01]\n",
      "model calc = 0.011526107788085938s, lnlike calc = 6.270408630371094e-05\n",
      "lnp = 123.15818786621094, lnp_spec = 0.0, lnp_phot = 123.15818786621094\n",
      "[  3.26028989e+11   1.28215300e+01]\n",
      "model calc = 0.011595010757446289s, lnlike calc = 6.413459777832031e-05\n",
      "lnp = 123.15818786621094, lnp_spec = 0.0, lnp_phot = 123.15818786621094\n",
      "[  3.26028938e+11   1.28215277e+01]\n",
      "model calc = 0.011518478393554688s, lnlike calc = 6.437301635742188e-05\n",
      "lnp = 123.15818786621094, lnp_spec = 0.0, lnp_phot = 123.15818786621094\n",
      "[  3.26028921e+11   1.28215270e+01]\n",
      "model calc = 0.011606216430664062s, lnlike calc = 6.222724914550781e-05\n",
      "lnp = 123.15818786621094, lnp_spec = 0.0, lnp_phot = 123.15818786621094\n",
      "[  3.26028934e+11   1.28215276e+01]\n",
      "model calc = 0.011531591415405273s, lnlike calc = 6.246566772460938e-05\n",
      "lnp = 123.15818786621094, lnp_spec = 0.0, lnp_phot = 123.15818786621094\n",
      "[  3.26028929e+11   1.28215274e+01]\n",
      "model calc = 0.011523008346557617s, lnlike calc = 6.246566772460938e-05\n",
      "lnp = 123.15818786621094, lnp_spec = 0.0, lnp_phot = 123.15818786621094\n",
      "[  3.26028904e+11   1.28215262e+01]\n",
      "model calc = 0.012304067611694336s, lnlike calc = 6.270408630371094e-05\n",
      "lnp = 123.15818786621094, lnp_spec = 0.0, lnp_phot = 123.15818786621094\n",
      "[  3.26028895e+11   1.28215259e+01]\n",
      "model calc = 0.011569976806640625s, lnlike calc = 6.341934204101562e-05\n",
      "lnp = 123.15818786621094, lnp_spec = 0.0, lnp_phot = 123.15818786621094\n",
      "[  3.26028902e+11   1.28215262e+01]\n",
      "model calc = 0.011574745178222656s, lnlike calc = 6.318092346191406e-05\n",
      "lnp = 123.15818786621094, lnp_spec = 0.0, lnp_phot = 123.15818786621094\n",
      "[  3.26028899e+11   1.28215261e+01]\n",
      "model calc = 0.011603355407714844s, lnlike calc = 6.365776062011719e-05\n",
      "lnp = 123.15818786621094, lnp_spec = 0.0, lnp_phot = 123.15818786621094\n",
      "[  3.26028887e+11   1.28215255e+01]\n",
      "model calc = 0.011590003967285156s, lnlike calc = 6.246566772460938e-05\n",
      "lnp = 123.15818786621094, lnp_spec = 0.0, lnp_phot = 123.15818786621094\n",
      "[  3.26028882e+11   1.28215253e+01]\n",
      "model calc = 0.011613607406616211s, lnlike calc = 6.246566772460938e-05\n",
      "lnp = 123.15818786621094, lnp_spec = 0.0, lnp_phot = 123.15818786621094\n",
      "[  3.26028886e+11   1.28215255e+01]\n",
      "model calc = 0.011613607406616211s, lnlike calc = 6.270408630371094e-05\n",
      "lnp = 123.15818786621094, lnp_spec = 0.0, lnp_phot = 123.15818786621094\n",
      "[  3.26028885e+11   1.28215254e+01]\n",
      "model calc = 0.011595010757446289s, lnlike calc = 6.866455078125e-05\n",
      "lnp = 123.15818786621094, lnp_spec = 0.0, lnp_phot = 123.15818786621094\n",
      "[  3.26028878e+11   1.28215251e+01]\n",
      "model calc = 0.011610269546508789s, lnlike calc = 6.318092346191406e-05\n",
      "lnp = 123.15818786621094, lnp_spec = 0.0, lnp_phot = 123.15818786621094\n",
      "[  3.26028876e+11   1.28215250e+01]\n",
      "model calc = 0.011797904968261719s, lnlike calc = 6.318092346191406e-05\n",
      "lnp = 123.15818786621094, lnp_spec = 0.0, lnp_phot = 123.15818786621094\n",
      "[  3.26028878e+11   1.28215251e+01]\n",
      "model calc = 0.011647224426269531s, lnlike calc = 6.365776062011719e-05\n",
      "lnp = 123.15818786621094, lnp_spec = 0.0, lnp_phot = 123.15818786621094\n",
      "[  3.26028877e+11   1.28215251e+01]\n",
      "model calc = 0.011600494384765625s, lnlike calc = 6.29425048828125e-05\n",
      "lnp = 123.15818786621094, lnp_spec = 0.0, lnp_phot = 123.15818786621094\n",
      "[  3.26028874e+11   1.28215249e+01]\n",
      "model calc = 0.011592388153076172s, lnlike calc = 6.29425048828125e-05\n",
      "lnp = 123.15818786621094, lnp_spec = 0.0, lnp_phot = 123.15818786621094\n",
      "[  3.26028873e+11   1.28215249e+01]\n",
      "model calc = 0.011590003967285156s, lnlike calc = 6.270408630371094e-05\n",
      "lnp = 123.15818786621094, lnp_spec = 0.0, lnp_phot = 123.15818786621094\n",
      "[  3.26028874e+11   1.28215249e+01]\n",
      "model calc = 0.011510133743286133s, lnlike calc = 6.270408630371094e-05\n",
      "lnp = 123.15818786621094, lnp_spec = 0.0, lnp_phot = 123.15818786621094\n",
      "[  3.26028873e+11   1.28215249e+01]\n",
      "model calc = 0.011586189270019531s, lnlike calc = 6.318092346191406e-05\n",
      "lnp = 123.15818786621094, lnp_spec = 0.0, lnp_phot = 123.15818786621094\n"
     ]
    },
    {
     "name": "stdout",
     "output_type": "stream",
     "text": [
      "[  3.26028872e+11   1.28215248e+01]\n",
      "model calc = 0.01208949089050293s, lnlike calc = 6.318092346191406e-05\n",
      "lnp = 123.15818786621094, lnp_spec = 0.0, lnp_phot = 123.15818786621094\n",
      "[  3.26028871e+11   1.28215248e+01]\n",
      "model calc = 0.011580467224121094s, lnlike calc = 6.29425048828125e-05\n",
      "lnp = 123.15818786621094, lnp_spec = 0.0, lnp_phot = 123.15818786621094\n",
      "[  3.26028872e+11   1.28215248e+01]\n",
      "model calc = 0.011670112609863281s, lnlike calc = 7.033348083496094e-05\n",
      "lnp = 123.15818786621094, lnp_spec = 0.0, lnp_phot = 123.15818786621094\n",
      "[  3.26028872e+11   1.28215248e+01]\n",
      "model calc = 0.011606454849243164s, lnlike calc = 6.29425048828125e-05\n",
      "lnp = 123.15818786621094, lnp_spec = 0.0, lnp_phot = 123.15818786621094\n",
      "[  3.26028871e+11   1.28215248e+01]\n",
      "model calc = 0.0115966796875s, lnlike calc = 6.270408630371094e-05\n",
      "lnp = 123.15818786621094, lnp_spec = 0.0, lnp_phot = 123.15818786621094\n",
      "[  3.26028870e+11   1.28215248e+01]\n",
      "model calc = 0.012405872344970703s, lnlike calc = 0.00015592575073242188\n",
      "lnp = 123.15818786621094, lnp_spec = 0.0, lnp_phot = 123.15818786621094\n",
      "[  3.26028871e+11   1.28215248e+01]\n",
      "model calc = 0.0225067138671875s, lnlike calc = 0.000110626220703125\n",
      "lnp = 123.15818786621094, lnp_spec = 0.0, lnp_phot = 123.15818786621094\n",
      "[  3.26028871e+11   1.28215248e+01]\n",
      "model calc = 0.01803731918334961s, lnlike calc = 8.916854858398438e-05\n",
      "lnp = 123.15818786621094, lnp_spec = 0.0, lnp_phot = 123.15818786621094\n",
      "[  3.26028870e+11   1.28215248e+01]\n",
      "model calc = 0.015340805053710938s, lnlike calc = 7.915496826171875e-05\n",
      "lnp = 123.15818786621094, lnp_spec = 0.0, lnp_phot = 123.15818786621094\n",
      "[  3.26028870e+11   1.28215248e+01]\n",
      "model calc = 0.014270305633544922s, lnlike calc = 7.653236389160156e-05\n",
      "lnp = 123.15818786621094, lnp_spec = 0.0, lnp_phot = 123.15818786621094\n",
      "[  3.26028870e+11   1.28215248e+01]\n",
      "model calc = 0.01325082778930664s, lnlike calc = 6.890296936035156e-05\n",
      "lnp = 123.15818786621094, lnp_spec = 0.0, lnp_phot = 123.15818786621094\n",
      "[  3.26028870e+11   1.28215248e+01]\n",
      "model calc = 0.01129150390625s, lnlike calc = 6.365776062011719e-05\n",
      "lnp = 123.15818786621094, lnp_spec = 0.0, lnp_phot = 123.15818786621094\n",
      "[  3.26028870e+11   1.28215248e+01]\n",
      "model calc = 0.01117253303527832s, lnlike calc = 6.127357482910156e-05\n",
      "lnp = 123.15818786621094, lnp_spec = 0.0, lnp_phot = 123.15818786621094\n",
      "[  3.26028870e+11   1.28215248e+01]\n",
      "model calc = 0.011546850204467773s, lnlike calc = 6.079673767089844e-05\n",
      "lnp = 123.15818786621094, lnp_spec = 0.0, lnp_phot = 123.15818786621094\n",
      "[  3.26028870e+11   1.28215248e+01]\n",
      "model calc = 0.011997222900390625s, lnlike calc = 6.318092346191406e-05\n",
      "lnp = 123.15818786621094, lnp_spec = 0.0, lnp_phot = 123.15818786621094\n",
      "[  3.26028870e+11   1.28215248e+01]\n",
      "model calc = 0.011055231094360352s, lnlike calc = 5.817413330078125e-05\n",
      "lnp = 123.15818786621094, lnp_spec = 0.0, lnp_phot = 123.15818786621094\n",
      "[  3.26028870e+11   1.28215248e+01]\n",
      "model calc = 0.011137008666992188s, lnlike calc = 6.031990051269531e-05\n",
      "lnp = 123.15818786621094, lnp_spec = 0.0, lnp_phot = 123.15818786621094\n",
      "[  3.26028870e+11   1.28215248e+01]\n",
      "model calc = 0.01106119155883789s, lnlike calc = 5.841255187988281e-05\n",
      "lnp = 123.15818786621094, lnp_spec = 0.0, lnp_phot = 123.15818786621094\n",
      "[  3.26028870e+11   1.28215248e+01]\n",
      "model calc = 0.011727333068847656s, lnlike calc = 6.365776062011719e-05\n",
      "lnp = 123.15818786621094, lnp_spec = 0.0, lnp_phot = 123.15818786621094\n",
      "[  3.26028870e+11   1.28215248e+01]\n",
      "model calc = 0.011327028274536133s, lnlike calc = 6.127357482910156e-05\n",
      "lnp = 123.15818786621094, lnp_spec = 0.0, lnp_phot = 123.15818786621094\n",
      "[  3.26028870e+11   1.28215248e+01]\n",
      "model calc = 0.011066198348999023s, lnlike calc = 5.817413330078125e-05\n",
      "lnp = 123.15818786621094, lnp_spec = 0.0, lnp_phot = 123.15818786621094\n",
      "[  3.26028870e+11   1.28215248e+01]\n",
      "model calc = 0.011119842529296875s, lnlike calc = 6.0558319091796875e-05\n",
      "lnp = 123.15818786621094, lnp_spec = 0.0, lnp_phot = 123.15818786621094\n",
      "[  3.26028870e+11   1.28215248e+01]\n",
      "model calc = 0.011020421981811523s, lnlike calc = 5.7697296142578125e-05\n",
      "lnp = 123.15818786621094, lnp_spec = 0.0, lnp_phot = 123.15818786621094\n",
      "[  3.26028870e+11   1.28215248e+01]\n",
      "model calc = 0.011219263076782227s, lnlike calc = 6.079673767089844e-05\n",
      "lnp = 123.15818786621094, lnp_spec = 0.0, lnp_phot = 123.15818786621094\n",
      "[  3.26028870e+11   1.28215247e+01]\n",
      "model calc = 0.011515140533447266s, lnlike calc = 6.008148193359375e-05\n",
      "lnp = 123.15818786621094, lnp_spec = 0.0, lnp_phot = 123.15818786621094\n",
      "[  3.26028870e+11   1.28215247e+01]\n",
      "model calc = 0.011293649673461914s, lnlike calc = 6.771087646484375e-05\n",
      "lnp = 123.15818786621094, lnp_spec = 0.0, lnp_phot = 123.15818786621094\n",
      "[  3.26028870e+11   1.28215247e+01]\n",
      "model calc = 0.011151313781738281s, lnlike calc = 5.8650970458984375e-05\n",
      "lnp = 123.15818786621094, lnp_spec = 0.0, lnp_phot = 123.15818786621094\n",
      "[  3.26028870e+11   1.28215247e+01]\n",
      "model calc = 0.011274337768554688s, lnlike calc = 6.079673767089844e-05\n",
      "lnp = 123.15818786621094, lnp_spec = 0.0, lnp_phot = 123.15818786621094\n",
      "[  3.26028870e+11   1.28215247e+01]\n",
      "model calc = 0.01102304458618164s, lnlike calc = 5.817413330078125e-05\n",
      "lnp = 123.15818786621094, lnp_spec = 0.0, lnp_phot = 123.15818786621094\n",
      "[  3.26028870e+11   1.28215247e+01]\n",
      "model calc = 0.011651992797851562s, lnlike calc = 6.318092346191406e-05\n",
      "lnp = 123.15818786621094, lnp_spec = 0.0, lnp_phot = 123.15818786621094\n",
      "[  3.26028870e+11   1.28215247e+01]\n",
      "model calc = 0.011751651763916016s, lnlike calc = 0.00012564659118652344\n",
      "lnp = 123.15818786621094, lnp_spec = 0.0, lnp_phot = 123.15818786621094\n",
      "[  3.26028870e+11   1.28215247e+01]\n",
      "model calc = 0.01799750328063965s, lnlike calc = 6.699562072753906e-05\n",
      "lnp = 123.15818786621094, lnp_spec = 0.0, lnp_phot = 123.15818786621094\n",
      "[  3.26028870e+11   1.28215247e+01]\n",
      "model calc = 0.01175069808959961s, lnlike calc = 6.341934204101562e-05\n",
      "lnp = 123.15818786621094, lnp_spec = 0.0, lnp_phot = 123.15818786621094\n",
      "[  3.26028870e+11   1.28215247e+01]\n",
      "model calc = 0.011625289916992188s, lnlike calc = 6.389617919921875e-05\n",
      "lnp = 123.15818786621094, lnp_spec = 0.0, lnp_phot = 123.15818786621094\n",
      "[  3.26028870e+11   1.28215247e+01]\n",
      "model calc = 0.011623620986938477s, lnlike calc = 6.270408630371094e-05\n",
      "lnp = 123.15818786621094, lnp_spec = 0.0, lnp_phot = 123.15818786621094\n",
      "[  3.26028870e+11   1.28215247e+01]\n",
      "model calc = 0.011524200439453125s, lnlike calc = 6.365776062011719e-05\n",
      "lnp = 123.15818786621094, lnp_spec = 0.0, lnp_phot = 123.15818786621094\n",
      "[  3.26028870e+11   1.28215247e+01]\n",
      "model calc = 0.011657476425170898s, lnlike calc = 6.341934204101562e-05\n",
      "lnp = 123.15818786621094, lnp_spec = 0.0, lnp_phot = 123.15818786621094\n",
      "[  3.26028870e+11   1.28215247e+01]\n",
      "model calc = 0.01158595085144043s, lnlike calc = 6.29425048828125e-05\n",
      "lnp = 123.15818786621094, lnp_spec = 0.0, lnp_phot = 123.15818786621094\n",
      "[  3.26028870e+11   1.28215247e+01]\n",
      "model calc = 0.011601686477661133s, lnlike calc = 6.270408630371094e-05\n",
      "lnp = 123.15818786621094, lnp_spec = 0.0, lnp_phot = 123.15818786621094\n",
      "[  3.26028870e+11   1.28215247e+01]\n",
      "model calc = 0.011595487594604492s, lnlike calc = 6.341934204101562e-05\n",
      "lnp = 123.15818786621094, lnp_spec = 0.0, lnp_phot = 123.15818786621094\n",
      "[  3.26028870e+11   1.28215247e+01]\n",
      "model calc = 0.011597156524658203s, lnlike calc = 6.246566772460938e-05\n",
      "lnp = 123.15818786621094, lnp_spec = 0.0, lnp_phot = 123.15818786621094\n",
      "[  3.26028870e+11   1.28215247e+01]\n",
      "model calc = 0.011587142944335938s, lnlike calc = 6.29425048828125e-05\n",
      "lnp = 123.15818786621094, lnp_spec = 0.0, lnp_phot = 123.15818786621094\n",
      "[  3.26028870e+11   1.28215247e+01]\n",
      "model calc = 0.011597156524658203s, lnlike calc = 6.341934204101562e-05\n",
      "lnp = 123.15818786621094, lnp_spec = 0.0, lnp_phot = 123.15818786621094\n",
      "[  3.26028870e+11   1.28215247e+01]\n",
      "model calc = 0.011604785919189453s, lnlike calc = 6.341934204101562e-05\n",
      "lnp = 123.15818786621094, lnp_spec = 0.0, lnp_phot = 123.15818786621094\n",
      "[  3.26028870e+11   1.28215247e+01]\n",
      "model calc = 0.011645793914794922s, lnlike calc = 6.318092346191406e-05\n",
      "lnp = 123.15818786621094, lnp_spec = 0.0, lnp_phot = 123.15818786621094\n",
      "[  3.26028870e+11   1.28215247e+01]\n",
      "model calc = 0.011612892150878906s, lnlike calc = 6.318092346191406e-05\n",
      "lnp = 123.15818786621094, lnp_spec = 0.0, lnp_phot = 123.15818786621094\n",
      "[  3.26028870e+11   1.28215247e+01]\n",
      "model calc = 0.011594057083129883s, lnlike calc = 6.29425048828125e-05\n"
     ]
    },
    {
     "name": "stdout",
     "output_type": "stream",
     "text": [
      "lnp = 123.15818786621094, lnp_spec = 0.0, lnp_phot = 123.15818786621094\n",
      "[  3.26028870e+11   1.28215247e+01]\n",
      "model calc = 0.012128114700317383s, lnlike calc = 6.389617919921875e-05\n",
      "lnp = 123.15818786621094, lnp_spec = 0.0, lnp_phot = 123.15818786621094\n",
      "[  3.26028870e+11   1.28215247e+01]\n",
      "model calc = 0.011644840240478516s, lnlike calc = 6.270408630371094e-05\n",
      "lnp = 123.15818786621094, lnp_spec = 0.0, lnp_phot = 123.15818786621094\n",
      "[  3.26028870e+11   1.28215247e+01]\n",
      "model calc = 0.011602640151977539s, lnlike calc = 6.341934204101562e-05\n",
      "lnp = 123.15818786621094, lnp_spec = 0.0, lnp_phot = 123.15818786621094\n",
      "[  3.26028870e+11   1.28215247e+01]\n",
      "model calc = 0.011522054672241211s, lnlike calc = 7.081031799316406e-05\n",
      "lnp = 123.15818786621094, lnp_spec = 0.0, lnp_phot = 123.15818786621094\n",
      "[  3.26028870e+11   1.28215247e+01]\n",
      "model calc = 0.011592388153076172s, lnlike calc = 6.270408630371094e-05\n",
      "lnp = 123.15818786621094, lnp_spec = 0.0, lnp_phot = 123.15818786621094\n",
      "[  3.26028870e+11   1.28215247e+01]\n",
      "model calc = 0.011654376983642578s, lnlike calc = 6.318092346191406e-05\n",
      "lnp = 123.15818786621094, lnp_spec = 0.0, lnp_phot = 123.15818786621094\n",
      "[  3.26028870e+11   1.28215247e+01]\n",
      "model calc = 0.011600494384765625s, lnlike calc = 6.246566772460938e-05\n",
      "lnp = 123.15818786621094, lnp_spec = 0.0, lnp_phot = 123.15818786621094\n",
      "[  3.26028870e+11   1.28215247e+01]\n",
      "model calc = 0.011606216430664062s, lnlike calc = 6.961822509765625e-05\n",
      "lnp = 123.15818786621094, lnp_spec = 0.0, lnp_phot = 123.15818786621094\n",
      "[  3.26028870e+11   1.28215247e+01]\n",
      "model calc = 0.011591434478759766s, lnlike calc = 6.222724914550781e-05\n",
      "lnp = 123.15818786621094, lnp_spec = 0.0, lnp_phot = 123.15818786621094\n",
      "[  3.26028870e+11   1.28215247e+01]\n",
      "model calc = 0.011584758758544922s, lnlike calc = 6.29425048828125e-05\n",
      "lnp = 123.15818786621094, lnp_spec = 0.0, lnp_phot = 123.15818786621094\n",
      "[  3.26028870e+11   1.28215247e+01]\n",
      "model calc = 0.0115966796875s, lnlike calc = 6.341934204101562e-05\n",
      "lnp = 123.15818786621094, lnp_spec = 0.0, lnp_phot = 123.15818786621094\n",
      "[  3.26028870e+11   1.28215247e+01]\n",
      "model calc = 0.0115966796875s, lnlike calc = 6.270408630371094e-05\n",
      "lnp = 123.15818786621094, lnp_spec = 0.0, lnp_phot = 123.15818786621094\n",
      "[  3.26028870e+11   1.28215247e+01]\n",
      "model calc = 0.011612176895141602s, lnlike calc = 6.246566772460938e-05\n",
      "lnp = 123.15818786621094, lnp_spec = 0.0, lnp_phot = 123.15818786621094\n",
      "[  3.26028870e+11   1.28215247e+01]\n",
      "model calc = 0.011600255966186523s, lnlike calc = 6.270408630371094e-05\n",
      "lnp = 123.15818786621094, lnp_spec = 0.0, lnp_phot = 123.15818786621094\n",
      "[  3.26028870e+11   1.28215247e+01]\n",
      "model calc = 0.011651277542114258s, lnlike calc = 6.341934204101562e-05\n",
      "lnp = 123.15818786621094, lnp_spec = 0.0, lnp_phot = 123.15818786621094\n",
      "[  3.26028870e+11   1.28215247e+01]\n",
      "model calc = 0.011595726013183594s, lnlike calc = 6.270408630371094e-05\n",
      "lnp = 123.15818786621094, lnp_spec = 0.0, lnp_phot = 123.15818786621094\n",
      "[  3.26028870e+11   1.28215247e+01]\n",
      "model calc = 0.01220083236694336s, lnlike calc = 6.413459777832031e-05\n",
      "lnp = 123.15818786621094, lnp_spec = 0.0, lnp_phot = 123.15818786621094\n",
      "[  3.26028870e+11   1.28215247e+01]\n",
      "model calc = 0.011557340621948242s, lnlike calc = 7.033348083496094e-05\n",
      "lnp = 123.15818786621094, lnp_spec = 0.0, lnp_phot = 123.15818786621094\n",
      "[  3.26028870e+11   1.28215247e+01]\n",
      "model calc = 0.011607885360717773s, lnlike calc = 6.270408630371094e-05\n",
      "lnp = 123.15818786621094, lnp_spec = 0.0, lnp_phot = 123.15818786621094\n",
      "[  3.26028870e+11   1.28215247e+01]\n",
      "model calc = 0.011599302291870117s, lnlike calc = 6.246566772460938e-05\n",
      "lnp = 123.15818786621094, lnp_spec = 0.0, lnp_phot = 123.15818786621094\n",
      "[  3.26028870e+11   1.28215247e+01]\n",
      "model calc = 0.011592388153076172s, lnlike calc = 6.318092346191406e-05\n",
      "lnp = 123.15818786621094, lnp_spec = 0.0, lnp_phot = 123.15818786621094\n",
      "[  3.26028870e+11   1.28215247e+01]\n",
      "model calc = 0.011594295501708984s, lnlike calc = 6.246566772460938e-05\n",
      "lnp = 123.15818786621094, lnp_spec = 0.0, lnp_phot = 123.15818786621094\n",
      "[  3.26028870e+11   1.28215247e+01]\n",
      "model calc = 0.011816263198852539s, lnlike calc = 6.341934204101562e-05\n",
      "lnp = 123.15818786621094, lnp_spec = 0.0, lnp_phot = 123.15818786621094\n",
      "[  3.26028870e+11   1.28215247e+01]\n",
      "model calc = 0.011597633361816406s, lnlike calc = 6.222724914550781e-05\n",
      "lnp = 123.15818786621094, lnp_spec = 0.0, lnp_phot = 123.15818786621094\n",
      "[  3.26028870e+11   1.28215247e+01]\n",
      "model calc = 0.011596202850341797s, lnlike calc = 6.341934204101562e-05\n",
      "lnp = 123.15818786621094, lnp_spec = 0.0, lnp_phot = 123.15818786621094\n",
      "[  3.26028870e+11   1.28215247e+01]\n",
      "model calc = 0.011582374572753906s, lnlike calc = 6.937980651855469e-05\n",
      "lnp = 123.15818786621094, lnp_spec = 0.0, lnp_phot = 123.15818786621094\n",
      "[  3.26028870e+11   1.28215247e+01]\n",
      "model calc = 0.011590719223022461s, lnlike calc = 6.198883056640625e-05\n",
      "lnp = 123.15818786621094, lnp_spec = 0.0, lnp_phot = 123.15818786621094\n",
      "[  3.26028870e+11   1.28215247e+01]\n",
      "model calc = 0.011605024337768555s, lnlike calc = 6.29425048828125e-05\n",
      "lnp = 123.15818786621094, lnp_spec = 0.0, lnp_phot = 123.15818786621094\n",
      "[  3.26028870e+11   1.28215247e+01]\n",
      "model calc = 0.011600017547607422s, lnlike calc = 6.270408630371094e-05\n",
      "lnp = 123.15818786621094, lnp_spec = 0.0, lnp_phot = 123.15818786621094\n",
      "[  3.26028870e+11   1.28215247e+01]\n",
      "model calc = 0.011605501174926758s, lnlike calc = 6.341934204101562e-05\n",
      "lnp = 123.15818786621094, lnp_spec = 0.0, lnp_phot = 123.15818786621094\n",
      "[  3.26028870e+11   1.28215247e+01]\n",
      "model calc = 0.011656999588012695s, lnlike calc = 6.341934204101562e-05\n",
      "lnp = 123.15818786621094, lnp_spec = 0.0, lnp_phot = 123.15818786621094\n",
      "[  3.26028870e+11   1.28215247e+01]\n",
      "model calc = 0.011606931686401367s, lnlike calc = 6.341934204101562e-05\n",
      "lnp = 123.15818786621094, lnp_spec = 0.0, lnp_phot = 123.15818786621094\n",
      "[  3.26028870e+11   1.28215247e+01]\n",
      "model calc = 0.012151479721069336s, lnlike calc = 6.365776062011719e-05\n",
      "lnp = 123.15818786621094, lnp_spec = 0.0, lnp_phot = 123.15818786621094\n",
      "[  3.26028870e+11   1.28215247e+01]\n",
      "model calc = 0.011553049087524414s, lnlike calc = 6.341934204101562e-05\n",
      "lnp = 123.15818786621094, lnp_spec = 0.0, lnp_phot = 123.15818786621094\n",
      "[  3.26028870e+11   1.28215247e+01]\n",
      "model calc = 0.01164102554321289s, lnlike calc = 6.389617919921875e-05\n",
      "lnp = 123.15818786621094, lnp_spec = 0.0, lnp_phot = 123.15818786621094\n",
      "[  3.26028870e+11   1.28215247e+01]\n",
      "model calc = 0.011633157730102539s, lnlike calc = 6.341934204101562e-05\n",
      "lnp = 123.15818786621094, lnp_spec = 0.0, lnp_phot = 123.15818786621094\n",
      "[  3.26028870e+11   1.28215247e+01]\n",
      "model calc = 0.011611700057983398s, lnlike calc = 6.29425048828125e-05\n",
      "lnp = 123.15818786621094, lnp_spec = 0.0, lnp_phot = 123.15818786621094\n",
      "[  3.26028870e+11   1.28215247e+01]\n",
      "model calc = 0.011508941650390625s, lnlike calc = 6.29425048828125e-05\n",
      "lnp = 123.15818786621094, lnp_spec = 0.0, lnp_phot = 123.15818786621094\n",
      "[  3.26028870e+11   1.28215247e+01]\n",
      "model calc = 0.011587142944335938s, lnlike calc = 6.341934204101562e-05\n",
      "lnp = 123.15818786621094, lnp_spec = 0.0, lnp_phot = 123.15818786621094\n",
      "[  3.26028870e+11   1.28215247e+01]\n",
      "model calc = 0.011651277542114258s, lnlike calc = 6.29425048828125e-05\n",
      "lnp = 123.15818786621094, lnp_spec = 0.0, lnp_phot = 123.15818786621094\n",
      "[  3.26028870e+11   1.28215247e+01]\n",
      "model calc = 0.011587858200073242s, lnlike calc = 6.246566772460938e-05\n",
      "lnp = 123.15818786621094, lnp_spec = 0.0, lnp_phot = 123.15818786621094\n",
      "[  3.26028870e+11   1.28215247e+01]\n",
      "model calc = 0.015787601470947266s, lnlike calc = 0.0001697540283203125\n",
      "lnp = 123.15818786621094, lnp_spec = 0.0, lnp_phot = 123.15818786621094\n",
      "[  3.26028870e+11   1.28215247e+01]\n",
      "model calc = 0.012092113494873047s, lnlike calc = 6.318092346191406e-05\n",
      "lnp = 123.15818786621094, lnp_spec = 0.0, lnp_phot = 123.15818786621094\n",
      "[  3.26028870e+11   1.28215247e+01]\n",
      "model calc = 0.011727571487426758s, lnlike calc = 6.318092346191406e-05\n",
      "lnp = 123.15818786621094, lnp_spec = 0.0, lnp_phot = 123.15818786621094\n",
      "[  3.26028870e+11   1.28215247e+01]\n",
      "model calc = 0.011639833450317383s, lnlike calc = 6.270408630371094e-05\n",
      "lnp = 123.15818786621094, lnp_spec = 0.0, lnp_phot = 123.15818786621094\n",
      "[  3.26028870e+11   1.28215247e+01]\n",
      "model calc = 0.011615991592407227s, lnlike calc = 6.29425048828125e-05\n",
      "lnp = 123.15818786621094, lnp_spec = 0.0, lnp_phot = 123.15818786621094\n",
      "[  3.26028870e+11   1.28215247e+01]\n",
      "model calc = 0.011684656143188477s, lnlike calc = 6.29425048828125e-05\n",
      "lnp = 123.15818786621094, lnp_spec = 0.0, lnp_phot = 123.15818786621094\n",
      "[  3.26028870e+11   1.28215247e+01]\n",
      "model calc = 0.011657953262329102s, lnlike calc = 6.246566772460938e-05\n"
     ]
    },
    {
     "name": "stdout",
     "output_type": "stream",
     "text": [
      "lnp = 123.15818786621094, lnp_spec = 0.0, lnp_phot = 123.15818786621094\n",
      "[  3.26028870e+11   1.28215247e+01]\n",
      "model calc = 0.012513875961303711s, lnlike calc = 6.29425048828125e-05\n",
      "lnp = 123.15818786621094, lnp_spec = 0.0, lnp_phot = 123.15818786621094\n",
      "[  3.26028870e+11   1.28215247e+01]\n",
      "model calc = 0.01169586181640625s, lnlike calc = 6.29425048828125e-05\n",
      "lnp = 123.15818786621094, lnp_spec = 0.0, lnp_phot = 123.15818786621094\n",
      "[  3.26028870e+11   1.28215247e+01]\n",
      "model calc = 0.0019114017486572266s, lnlike calc = 6.222724914550781e-05\n",
      "lnp = 123.15818786621094, lnp_spec = 0.0, lnp_phot = 123.15818786621094\n",
      "[  3.26028870e+11   1.28215247e+01]\n",
      "model calc = 0.0018465518951416016s, lnlike calc = 6.341934204101562e-05\n",
      "lnp = 123.15818786621094, lnp_spec = 0.0, lnp_phot = 123.15818786621094\n",
      "[  3.26028870e+11   1.28215247e+01]\n",
      "model calc = 0.0018458366394042969s, lnlike calc = 6.29425048828125e-05\n",
      "lnp = 123.15818786621094, lnp_spec = 0.0, lnp_phot = 123.15818786621094\n",
      "[  3.26028870e+11   1.28215247e+01]\n",
      "model calc = 0.011628389358520508s, lnlike calc = 6.961822509765625e-05\n",
      "lnp = 123.15818786621094, lnp_spec = 0.0, lnp_phot = 123.15818786621094\n",
      "[  3.26028870e+11   1.28215247e+01]\n",
      "model calc = 0.0018377304077148438s, lnlike calc = 6.341934204101562e-05\n",
      "lnp = 123.15818786621094, lnp_spec = 0.0, lnp_phot = 123.15818786621094\n",
      "[  3.26028870e+11   1.28215247e+01]\n",
      "model calc = 0.0018970966339111328s, lnlike calc = 6.270408630371094e-05\n",
      "lnp = 123.15818786621094, lnp_spec = 0.0, lnp_phot = 123.15818786621094\n",
      "[  3.26028870e+11   1.28215247e+01]\n",
      "model calc = 0.0018336772918701172s, lnlike calc = 6.318092346191406e-05\n",
      "lnp = 123.15818786621094, lnp_spec = 0.0, lnp_phot = 123.15818786621094\n",
      "[  3.26028870e+11   1.28215247e+01]\n",
      "model calc = 0.0018322467803955078s, lnlike calc = 6.270408630371094e-05\n",
      "lnp = 123.15818786621094, lnp_spec = 0.0, lnp_phot = 123.15818786621094\n",
      "done Nelder-Mead in 3.1604065895080566s\n",
      "best Nelder-Mead guess: [  3.26028870e+11   1.28215247e+01]\n",
      "best Nelder-Mead lnp: 123.15818786621094\n"
     ]
    }
   ],
   "source": [
    "def chisqfn(theta):\n",
    "    \"\"\"Negative of lnprobfn for minimization, and also handles passing in\n",
    "    keyword arguments which can only be postional arguments when using scipy\n",
    "    minimize.\n",
    "    \"\"\"\n",
    "    return -lnprobfn(theta)\n",
    "\n",
    "verbose=False # don't output function calls\n",
    "\n",
    "# start minimization\n",
    "min_method = 'Nelder-Mead'\n",
    "ts = time.time()\n",
    "min_results = minimize(chisqfn, initial_theta, method=min_method)\n",
    "pdur = time.time() - ts\n",
    "\n",
    "# reinitialize fit\n",
    "initial_center = fitting.reinitialize(min_results.x, model, edge_trunc=run_params.get('edge_trunc', 0.1))\n",
    "initial_prob = -1 * min_results['fun']\n",
    "\n",
    "# output results\n",
    "print('done {0} in {1}s'.format(min_method,pdur))\n",
    "print('best {0} guess: {1}'.format(min_method,initial_center))\n",
    "print('best {0} lnp: {1}'.format(min_method,initial_prob))"
   ]
  },
  {
   "cell_type": "code",
   "execution_count": 28,
   "metadata": {},
   "outputs": [
    {
     "data": {
      "image/png": "[encoded data removed]",
      "text/plain": [
       "<matplotlib.figure.Figure at 0x7f6a05aa23c8>"
      ]
     },
     "metadata": {},
     "output_type": "display_data"
    }
   ],
   "source": [
    "# Check that we got closer!\n",
    "mspec_init, mphot_init, mextra_init = model.mean_model(min_results.x, obs, sps=sps) # generate model\n",
    "\n",
    "# plotting \n",
    "figure(figsize=(16,8))\n",
    "loglog(wspec, mspec_init, lw=0.7, color='navy', alpha=0.7, label='Model spectrum')\n",
    "errorbar(wphot, mphot_init, marker='s', ls='', lw=3, markersize=10,\n",
    "         markerfacecolor='none', markeredgecolor='blue', markeredgewidth=3, alpha=0.8, label='Model photometry')\n",
    "errorbar(wphot, obs['maggies'], yerr=obs['maggies_unc'], ecolor='red', marker='o', ls='', lw=3, markersize=10, \n",
    "         markerfacecolor='none', markeredgecolor='red', markeredgewidth=3, alpha=0.8, label='Observed photometry')\n",
    "\n",
    "xlabel('Wavelength [A]')\n",
    "ylabel('Flux Density [maggies]')\n",
    "xlim([xmin, xmax])\n",
    "ylim([ymin, ymax])\n",
    "legend(loc='best', fontsize=20)\n",
    "tight_layout()"
   ]
  },
  {
   "cell_type": "markdown",
   "metadata": {},
   "source": [
    "### Sampling the Posterior"
   ]
  },
  {
   "cell_type": "code",
   "execution_count": 29,
   "metadata": {},
   "outputs": [
    {
     "name": "stdout",
     "output_type": "stream",
     "text": [
      "done emcee in 23.593186616897583s\n"
     ]
    }
   ],
   "source": [
    "postkwargs = {}\n",
    "\n",
    "fout = sys.stdout\n",
    "fnull = open(os.devnull, 'w')\n",
    "sys.stdout = fnull\n",
    "\n",
    "tstart = time.time()\n",
    "out = fitting.run_emcee_sampler(lnprobfn, initial_center, model,\n",
    "                                postkwargs=postkwargs, initial_prob=initial_prob,\n",
    "                                pool=pool, hdf5=hfile, **run_params)\n",
    "esampler, burn_p0, burn_prob0 = out\n",
    "edur = time.time() - tstart\n",
    "\n",
    "sys.stdout = fout\n",
    "\n",
    "print('done emcee in {0}s'.format(edur))"
   ]
  },
  {
   "cell_type": "code",
   "execution_count": 30,
   "metadata": {},
   "outputs": [
    {
     "ename": "IndexError",
     "evalue": "index 99 is out of bounds for axis 1 with size 0",
     "output_type": "error",
     "traceback": [
      "\u001b[0;31m---------------------------------------------------------------------------\u001b[0m",
      "\u001b[0;31mIndexError\u001b[0m                                Traceback (most recent call last)",
      "\u001b[0;32m<ipython-input-30-5e41a89a1660>\u001b[0m in \u001b[0;36m<module>\u001b[0;34m()\u001b[0m\n\u001b[1;32m      1\u001b[0m \u001b[0;31m# Pick a random walker at the end!\u001b[0m\u001b[0;34m\u001b[0m\u001b[0;34m\u001b[0m\u001b[0m\n\u001b[0;32m----> 2\u001b[0;31m \u001b[0mtheta\u001b[0m \u001b[0;34m=\u001b[0m \u001b[0mesampler\u001b[0m\u001b[0;34m.\u001b[0m\u001b[0mchain\u001b[0m\u001b[0;34m[\u001b[0m\u001b[0;36m5\u001b[0m\u001b[0;34m,\u001b[0m \u001b[0mrun_params\u001b[0m\u001b[0;34m[\u001b[0m\u001b[0;34m'niter'\u001b[0m\u001b[0;34m]\u001b[0m\u001b[0;34m-\u001b[0m\u001b[0;36m1\u001b[0m\u001b[0;34m,\u001b[0m \u001b[0;34m:\u001b[0m\u001b[0;34m]\u001b[0m\u001b[0;34m\u001b[0m\u001b[0m\n\u001b[0m\u001b[1;32m      3\u001b[0m \u001b[0mprint\u001b[0m\u001b[0;34m(\u001b[0m\u001b[0mtheta\u001b[0m\u001b[0;34m)\u001b[0m\u001b[0;34m\u001b[0m\u001b[0m\n\u001b[1;32m      4\u001b[0m \u001b[0;34m\u001b[0m\u001b[0m\n\u001b[1;32m      5\u001b[0m \u001b[0mmspec_init\u001b[0m\u001b[0;34m,\u001b[0m \u001b[0mmphot_init\u001b[0m\u001b[0;34m,\u001b[0m \u001b[0mmextra_init\u001b[0m \u001b[0;34m=\u001b[0m \u001b[0mmodel\u001b[0m\u001b[0;34m.\u001b[0m\u001b[0mmean_model\u001b[0m\u001b[0;34m(\u001b[0m\u001b[0mtheta\u001b[0m\u001b[0;34m,\u001b[0m \u001b[0mobs\u001b[0m\u001b[0;34m,\u001b[0m \u001b[0msps\u001b[0m\u001b[0;34m=\u001b[0m\u001b[0msps\u001b[0m\u001b[0;34m)\u001b[0m \u001b[0;31m# generate model\u001b[0m\u001b[0;34m\u001b[0m\u001b[0m\n",
      "\u001b[0;31mIndexError\u001b[0m: index 99 is out of bounds for axis 1 with size 0"
     ]
    }
   ],
   "source": [
    "# Pick a random walker at the end!\n",
    "theta = esampler.chain[5, run_params['niter']-1, :]\n",
    "print(theta)\n",
    "\n",
    "mspec_init, mphot_init, mextra_init = model.mean_model(theta, obs, sps=sps) # generate model\n",
    "\n",
    "# plotting \n",
    "figure(figsize=(16,8))\n",
    "loglog(wspec, mspec_init, lw=0.7, color='navy', alpha=0.7, label='Model spectrum')\n",
    "errorbar(wphot, mphot_init, marker='s', ls='', lw=3, markersize=10,\n",
    "         markerfacecolor='none', markeredgecolor='blue', markeredgewidth=3, alpha=0.8, label='Model photometry')\n",
    "errorbar(wphot, obs['maggies'], yerr=obs['maggies_unc'], ecolor='red', marker='o', ls='', lw=3, markersize=10, \n",
    "         markerfacecolor='none', markeredgecolor='red', markeredgewidth=3, alpha=0.8, label='Observed photometry')\n",
    "\n",
    "xlabel('Wavelength [A]')\n",
    "ylabel('Flux Density [maggies]')\n",
    "xlim([xmin, xmax])\n",
    "ylim([ymin, ymax])\n",
    "legend(loc='best', fontsize=20)\n",
    "tight_layout()\n",
    "\n"
   ]
  },
  {
   "cell_type": "code",
   "execution_count": 31,
   "metadata": {},
   "outputs": [
    {
     "ename": "TypeError",
     "evalue": "expected str, bytes or os.PathLike object, not File",
     "output_type": "error",
     "traceback": [
      "\u001b[0;31m---------------------------------------------------------------------------\u001b[0m",
      "\u001b[0;31mTypeError\u001b[0m                                 Traceback (most recent call last)",
      "\u001b[0;32m<ipython-input-31-70fdf2d096d9>\u001b[0m in \u001b[0;36m<module>\u001b[0;34m()\u001b[0m\n\u001b[1;32m     12\u001b[0m                          \u001b[0msampling_initial_center\u001b[0m\u001b[0;34m=\u001b[0m\u001b[0minitial_center\u001b[0m\u001b[0;34m,\u001b[0m\u001b[0;34m\u001b[0m\u001b[0m\n\u001b[1;32m     13\u001b[0m                          \u001b[0mpost_burnin_center\u001b[0m\u001b[0;34m=\u001b[0m\u001b[0mburn_p0\u001b[0m\u001b[0;34m,\u001b[0m\u001b[0;34m\u001b[0m\u001b[0m\n\u001b[0;32m---> 14\u001b[0;31m                          post_burnin_prob=burn_prob0)\n\u001b[0m\u001b[1;32m     15\u001b[0m \u001b[0;34m\u001b[0m\u001b[0m\n\u001b[1;32m     16\u001b[0m \u001b[0mhalt\u001b[0m\u001b[0;34m(\u001b[0m\u001b[0;34m'Finished'\u001b[0m\u001b[0;34m)\u001b[0m\u001b[0;34m\u001b[0m\u001b[0m\n",
      "\u001b[0;32m/usr/local/anaconda3/envs/py35/lib/python3.6/site-packages/prospect-e48ef60-py3.6.egg/prospect/io/write_results.py\u001b[0m in \u001b[0;36mwrite_hdf5\u001b[0;34m(hfile, run_params, model, obs, sampler, powell_results, tsample, toptimize, sampling_initial_center, **extras)\u001b[0m\n\u001b[1;32m    139\u001b[0m     \u001b[0;32mtry\u001b[0m\u001b[0;34m:\u001b[0m\u001b[0;34m\u001b[0m\u001b[0m\n\u001b[1;32m    140\u001b[0m         \u001b[0;31m# If ``hfile`` is not a file object, assume it is a filename and open\u001b[0m\u001b[0;34m\u001b[0m\u001b[0;34m\u001b[0m\u001b[0m\n\u001b[0;32m--> 141\u001b[0;31m         \u001b[0mhf\u001b[0m \u001b[0;34m=\u001b[0m \u001b[0mh5py\u001b[0m\u001b[0;34m.\u001b[0m\u001b[0mFile\u001b[0m\u001b[0;34m(\u001b[0m\u001b[0mhfile\u001b[0m\u001b[0;34m,\u001b[0m \u001b[0;34m\"a\"\u001b[0m\u001b[0;34m)\u001b[0m\u001b[0;34m\u001b[0m\u001b[0m\n\u001b[0m\u001b[1;32m    142\u001b[0m     \u001b[0;32mexcept\u001b[0m\u001b[0;34m(\u001b[0m\u001b[0mAttributeError\u001b[0m\u001b[0;34m)\u001b[0m\u001b[0;34m:\u001b[0m\u001b[0;34m\u001b[0m\u001b[0m\n\u001b[1;32m    143\u001b[0m         \u001b[0mhf\u001b[0m \u001b[0;34m=\u001b[0m \u001b[0mhfile\u001b[0m\u001b[0;34m\u001b[0m\u001b[0m\n",
      "\u001b[0;32m/usr/local/anaconda3/envs/py35/lib/python3.6/site-packages/h5py/_hl/files.py\u001b[0m in \u001b[0;36m__init__\u001b[0;34m(self, name, mode, driver, libver, userblock_size, swmr, **kwds)\u001b[0m\n\u001b[1;32m    266\u001b[0m                 \u001b[0mfid\u001b[0m \u001b[0;34m=\u001b[0m \u001b[0mh5i\u001b[0m\u001b[0;34m.\u001b[0m\u001b[0mget_file_id\u001b[0m\u001b[0;34m(\u001b[0m\u001b[0mname\u001b[0m\u001b[0;34m)\u001b[0m\u001b[0;34m\u001b[0m\u001b[0m\n\u001b[1;32m    267\u001b[0m             \u001b[0;32melse\u001b[0m\u001b[0;34m:\u001b[0m\u001b[0;34m\u001b[0m\u001b[0m\n\u001b[0;32m--> 268\u001b[0;31m                 \u001b[0mname\u001b[0m \u001b[0;34m=\u001b[0m \u001b[0mfsencode\u001b[0m\u001b[0;34m(\u001b[0m\u001b[0mfspath\u001b[0m\u001b[0;34m(\u001b[0m\u001b[0mname\u001b[0m\u001b[0;34m)\u001b[0m\u001b[0;34m)\u001b[0m\u001b[0;34m\u001b[0m\u001b[0m\n\u001b[0m\u001b[1;32m    269\u001b[0m \u001b[0;34m\u001b[0m\u001b[0m\n\u001b[1;32m    270\u001b[0m                 \u001b[0mfapl\u001b[0m \u001b[0;34m=\u001b[0m \u001b[0mmake_fapl\u001b[0m\u001b[0;34m(\u001b[0m\u001b[0mdriver\u001b[0m\u001b[0;34m,\u001b[0m \u001b[0mlibver\u001b[0m\u001b[0;34m,\u001b[0m \u001b[0;34m**\u001b[0m\u001b[0mkwds\u001b[0m\u001b[0;34m)\u001b[0m\u001b[0;34m\u001b[0m\u001b[0m\n",
      "\u001b[0;31mTypeError\u001b[0m: expected str, bytes or os.PathLike object, not File"
     ]
    }
   ],
   "source": [
    "# Saves results to a disk - Error \n",
    "write_results.write_pickles(run_params, model, obs, esampler, min_results,\n",
    "                            outroot=outroot, toptimize=pdur, tsample=edur,\n",
    "                            sampling_initial_center=initial_center,\n",
    "                            post_burnin_center=burn_p0,\n",
    "                            post_burnin_prob=burn_prob0)\n",
    "\n",
    "if hfile is None:\n",
    "    hfile = hfilename\n",
    "write_results.write_hdf5(hfile, run_params, model, obs, esampler, min_results,\n",
    "                         toptimize=pdur, tsample=edur,                         \n",
    "                         sampling_initial_center=initial_center,\n",
    "                         post_burnin_center=burn_p0,\n",
    "                         post_burnin_prob=burn_prob0)\n",
    "\n",
    "halt('Finished')"
   ]
  },
  {
   "cell_type": "markdown",
   "metadata": {},
   "source": [
    "# Visualizing the Results"
   ]
  },
  {
   "cell_type": "code",
   "execution_count": 32,
   "metadata": {},
   "outputs": [
    {
     "ename": "KeyError",
     "evalue": "\"Unable to open object (Object 'obs' doesn't exist)\"",
     "output_type": "error",
     "traceback": [
      "\u001b[0;31m---------------------------------------------------------------------------\u001b[0m",
      "\u001b[0;31mKeyError\u001b[0m                                  Traceback (most recent call last)",
      "\u001b[0;32m<ipython-input-32-fe280c903bd9>\u001b[0m in \u001b[0;36m<module>\u001b[0;34m()\u001b[0m\n\u001b[1;32m      1\u001b[0m \u001b[0;31m# grab results, powell results, and our corresponding models -Error\u001b[0m\u001b[0;34m\u001b[0m\u001b[0;34m\u001b[0m\u001b[0m\n\u001b[0;32m----> 2\u001b[0;31m \u001b[0mres\u001b[0m\u001b[0;34m,\u001b[0m \u001b[0mpr\u001b[0m\u001b[0;34m,\u001b[0m \u001b[0mmod\u001b[0m \u001b[0;34m=\u001b[0m \u001b[0mread_results\u001b[0m\u001b[0;34m.\u001b[0m\u001b[0mresults_from\u001b[0m\u001b[0;34m(\u001b[0m\u001b[0;34m\"{}_1496243536_mcmc.h5\"\u001b[0m\u001b[0;34m.\u001b[0m\u001b[0mformat\u001b[0m\u001b[0;34m(\u001b[0m\u001b[0mrun_params\u001b[0m\u001b[0;34m[\u001b[0m\u001b[0;34m'outfile'\u001b[0m\u001b[0;34m]\u001b[0m\u001b[0;34m)\u001b[0m\u001b[0;34m)\u001b[0m\u001b[0;34m\u001b[0m\u001b[0m\n\u001b[0m",
      "\u001b[0;32m/usr/local/anaconda3/envs/py35/lib/python3.6/site-packages/prospect-e48ef60-py3.6.egg/prospect/io/read_results.py\u001b[0m in \u001b[0;36mresults_from\u001b[0;34m(filename, model_file, **kwargs)\u001b[0m\n\u001b[1;32m     50\u001b[0m     \u001b[0;31m# Read the basic chain, parameter, and run_params info\u001b[0m\u001b[0;34m\u001b[0m\u001b[0;34m\u001b[0m\u001b[0m\n\u001b[1;32m     51\u001b[0m     \u001b[0;32mif\u001b[0m \u001b[0mfilename\u001b[0m\u001b[0;34m.\u001b[0m\u001b[0msplit\u001b[0m\u001b[0;34m(\u001b[0m\u001b[0;34m'.'\u001b[0m\u001b[0;34m)\u001b[0m\u001b[0;34m[\u001b[0m\u001b[0;34m-\u001b[0m\u001b[0;36m1\u001b[0m\u001b[0;34m]\u001b[0m \u001b[0;34m==\u001b[0m \u001b[0;34m'h5'\u001b[0m\u001b[0;34m:\u001b[0m\u001b[0;34m\u001b[0m\u001b[0m\n\u001b[0;32m---> 52\u001b[0;31m         \u001b[0mres\u001b[0m \u001b[0;34m=\u001b[0m \u001b[0mread_hdf5\u001b[0m\u001b[0;34m(\u001b[0m\u001b[0mfilename\u001b[0m\u001b[0;34m,\u001b[0m \u001b[0;34m**\u001b[0m\u001b[0mkwargs\u001b[0m\u001b[0;34m)\u001b[0m\u001b[0;34m\u001b[0m\u001b[0m\n\u001b[0m\u001b[1;32m     53\u001b[0m         \u001b[0mmf_default\u001b[0m \u001b[0;34m=\u001b[0m \u001b[0mfilename\u001b[0m\u001b[0;34m.\u001b[0m\u001b[0mreplace\u001b[0m\u001b[0;34m(\u001b[0m\u001b[0;34m'_mcmc.h5'\u001b[0m\u001b[0;34m,\u001b[0m \u001b[0;34m'_model'\u001b[0m\u001b[0;34m)\u001b[0m\u001b[0;34m\u001b[0m\u001b[0m\n\u001b[1;32m     54\u001b[0m     \u001b[0;32melse\u001b[0m\u001b[0;34m:\u001b[0m\u001b[0;34m\u001b[0m\u001b[0m\n",
      "\u001b[0;32m/usr/local/anaconda3/envs/py35/lib/python3.6/site-packages/prospect-e48ef60-py3.6.egg/prospect/io/read_results.py\u001b[0m in \u001b[0;36mread_hdf5\u001b[0;34m(filename, **extras)\u001b[0m\n\u001b[1;32m    142\u001b[0m         \u001b[0;32mfor\u001b[0m \u001b[0mgroup\u001b[0m\u001b[0;34m,\u001b[0m \u001b[0md\u001b[0m \u001b[0;32min\u001b[0m \u001b[0mgroups\u001b[0m\u001b[0;34m.\u001b[0m\u001b[0mitems\u001b[0m\u001b[0;34m(\u001b[0m\u001b[0;34m)\u001b[0m\u001b[0;34m:\u001b[0m\u001b[0;34m\u001b[0m\u001b[0m\n\u001b[1;32m    143\u001b[0m             \u001b[0;31m# read the arrays in that group into the dictionary for that group\u001b[0m\u001b[0;34m\u001b[0m\u001b[0;34m\u001b[0m\u001b[0m\n\u001b[0;32m--> 144\u001b[0;31m             \u001b[0;32mfor\u001b[0m \u001b[0mk\u001b[0m\u001b[0;34m,\u001b[0m \u001b[0mv\u001b[0m \u001b[0;32min\u001b[0m \u001b[0mhf\u001b[0m\u001b[0;34m[\u001b[0m\u001b[0mgroup\u001b[0m\u001b[0;34m]\u001b[0m\u001b[0;34m.\u001b[0m\u001b[0mitems\u001b[0m\u001b[0;34m(\u001b[0m\u001b[0;34m)\u001b[0m\u001b[0;34m:\u001b[0m\u001b[0;34m\u001b[0m\u001b[0m\n\u001b[0m\u001b[1;32m    145\u001b[0m                 \u001b[0md\u001b[0m\u001b[0;34m[\u001b[0m\u001b[0mk\u001b[0m\u001b[0;34m]\u001b[0m \u001b[0;34m=\u001b[0m \u001b[0mnp\u001b[0m\u001b[0;34m.\u001b[0m\u001b[0marray\u001b[0m\u001b[0;34m(\u001b[0m\u001b[0mv\u001b[0m\u001b[0;34m)\u001b[0m\u001b[0;34m\u001b[0m\u001b[0m\n\u001b[1;32m    146\u001b[0m             \u001b[0;31m# unserialize the attributes and put them in the dictionary\u001b[0m\u001b[0;34m\u001b[0m\u001b[0;34m\u001b[0m\u001b[0m\n",
      "\u001b[0;32mh5py/_objects.pyx\u001b[0m in \u001b[0;36mh5py._objects.with_phil.wrapper (/home/ilan/minonda/conda-bld/h5py_1490028290543/work/h5py/_objects.c:2846)\u001b[0;34m()\u001b[0m\n",
      "\u001b[0;32mh5py/_objects.pyx\u001b[0m in \u001b[0;36mh5py._objects.with_phil.wrapper (/home/ilan/minonda/conda-bld/h5py_1490028290543/work/h5py/_objects.c:2804)\u001b[0;34m()\u001b[0m\n",
      "\u001b[0;32m/usr/local/anaconda3/envs/py35/lib/python3.6/site-packages/h5py/_hl/group.py\u001b[0m in \u001b[0;36m__getitem__\u001b[0;34m(self, name)\u001b[0m\n\u001b[1;32m    167\u001b[0m                 \u001b[0;32mraise\u001b[0m \u001b[0mValueError\u001b[0m\u001b[0;34m(\u001b[0m\u001b[0;34m\"Invalid HDF5 object reference\"\u001b[0m\u001b[0;34m)\u001b[0m\u001b[0;34m\u001b[0m\u001b[0m\n\u001b[1;32m    168\u001b[0m         \u001b[0;32melse\u001b[0m\u001b[0;34m:\u001b[0m\u001b[0;34m\u001b[0m\u001b[0m\n\u001b[0;32m--> 169\u001b[0;31m             \u001b[0moid\u001b[0m \u001b[0;34m=\u001b[0m \u001b[0mh5o\u001b[0m\u001b[0;34m.\u001b[0m\u001b[0mopen\u001b[0m\u001b[0;34m(\u001b[0m\u001b[0mself\u001b[0m\u001b[0;34m.\u001b[0m\u001b[0mid\u001b[0m\u001b[0;34m,\u001b[0m \u001b[0mself\u001b[0m\u001b[0;34m.\u001b[0m\u001b[0m_e\u001b[0m\u001b[0;34m(\u001b[0m\u001b[0mname\u001b[0m\u001b[0;34m)\u001b[0m\u001b[0;34m,\u001b[0m \u001b[0mlapl\u001b[0m\u001b[0;34m=\u001b[0m\u001b[0mself\u001b[0m\u001b[0;34m.\u001b[0m\u001b[0m_lapl\u001b[0m\u001b[0;34m)\u001b[0m\u001b[0;34m\u001b[0m\u001b[0m\n\u001b[0m\u001b[1;32m    170\u001b[0m \u001b[0;34m\u001b[0m\u001b[0m\n\u001b[1;32m    171\u001b[0m         \u001b[0motype\u001b[0m \u001b[0;34m=\u001b[0m \u001b[0mh5i\u001b[0m\u001b[0;34m.\u001b[0m\u001b[0mget_type\u001b[0m\u001b[0;34m(\u001b[0m\u001b[0moid\u001b[0m\u001b[0;34m)\u001b[0m\u001b[0;34m\u001b[0m\u001b[0m\n",
      "\u001b[0;32mh5py/_objects.pyx\u001b[0m in \u001b[0;36mh5py._objects.with_phil.wrapper (/home/ilan/minonda/conda-bld/h5py_1490028290543/work/h5py/_objects.c:2846)\u001b[0;34m()\u001b[0m\n",
      "\u001b[0;32mh5py/_objects.pyx\u001b[0m in \u001b[0;36mh5py._objects.with_phil.wrapper (/home/ilan/minonda/conda-bld/h5py_1490028290543/work/h5py/_objects.c:2804)\u001b[0;34m()\u001b[0m\n",
      "\u001b[0;32mh5py/h5o.pyx\u001b[0m in \u001b[0;36mh5py.h5o.open (/home/ilan/minonda/conda-bld/h5py_1490028290543/work/h5py/h5o.c:3740)\u001b[0;34m()\u001b[0m\n",
      "\u001b[0;31mKeyError\u001b[0m: \"Unable to open object (Object 'obs' doesn't exist)\""
     ]
    }
   ],
   "source": [
    "# grab results, powell results, and our corresponding models -Error\n",
    "res, pr, mod = read_results.results_from(\"{}_1496243536_mcmc.h5\".format(run_params['outfile']))"
   ]
  },
  {
   "cell_type": "code",
   "execution_count": null,
   "metadata": {
    "collapsed": true
   },
   "outputs": [],
   "source": []
  },
  {
   "cell_type": "code",
   "execution_count": null,
   "metadata": {
    "collapsed": true
   },
   "outputs": [],
   "source": []
  }
 ],
 "metadata": {
  "anaconda-cloud": {},
  "kernelspec": {
   "display_name": "Python 3",
   "language": "python",
   "name": "python3"
  },
  "language_info": {
   "codemirror_mode": {
    "name": "ipython",
    "version": 3
   },
   "file_extension": ".py",
   "mimetype": "text/x-python",
   "name": "python",
   "nbconvert_exporter": "python",
   "pygments_lexer": "ipython3",
   "version": "3.6.1"
  }
 },
 "nbformat": 4,
 "nbformat_minor": 2
}
