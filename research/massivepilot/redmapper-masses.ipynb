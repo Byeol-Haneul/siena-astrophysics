{
 "cells": [
  {
   "cell_type": "markdown",
   "metadata": {},
   "source": [
    "## Import"
   ]
  },
  {
   "cell_type": "code",
   "execution_count": 1,
   "metadata": {
    "collapsed": true
   },
   "outputs": [],
   "source": [
    "import os\n",
    "import numpy as np\n",
    "import fitsio"
   ]
  },
  {
   "cell_type": "code",
   "execution_count": 2,
   "metadata": {
    "collapsed": true
   },
   "outputs": [],
   "source": [
    "import fsps\n",
    "import sedpy\n",
    "import prospect\n",
    "import time\n",
    "import emcee\n",
    "import h5py\n",
    "import plot_utils as pread\n",
    "\n",
    "from prospect.models import priors, sedmodel\n",
    "from sedpy.observate import load_filters\n",
    "from prospect import fitting\n",
    "from scipy.optimize import minimize\n",
    "from prospect.io import read_results, write_results\n",
    "from prospect.likelihood import lnlike_spec, lnlike_phot, write_log"
   ]
  },
  {
   "cell_type": "code",
   "execution_count": 3,
   "metadata": {},
   "outputs": [
    {
     "name": "stdout",
     "output_type": "stream",
     "text": [
      "Populating the interactive namespace from numpy and matplotlib\n"
     ]
    }
   ],
   "source": [
    "%pylab inline"
   ]
  },
  {
   "cell_type": "markdown",
   "metadata": {},
   "source": [
    "### Setup the models"
   ]
  },
  {
   "cell_type": "code",
   "execution_count": 4,
   "metadata": {
    "collapsed": true
   },
   "outputs": [],
   "source": [
    "from prospect.models import model_setup\n",
    "from prospect.sources import CSPBasis, CSPSpecBasis"
   ]
  },
  {
   "cell_type": "code",
   "execution_count": 40,
   "metadata": {},
   "outputs": [
    {
     "name": "stdout",
     "output_type": "stream",
     "text": [
      "{'param_file': '', 'outfile': 'test', 'verbose': True, 'debug': False, 'nwalkers': 12, 'nburn': [32, 32, 64], 'niter': 50, 'do_powell': True, 'ftol': 5e-06, 'maxfev': 5000, 'zcontinuous': 1}\n"
     ]
    }
   ],
   "source": [
    "# Specify the run parameters.\n",
    "run_params = {\n",
    "              'param_file': '',\n",
    "              'outfile': 'test',\n",
    "              'verbose': True,\n",
    "              'debug': False,\n",
    "              'nwalkers': 50, # 128,\n",
    "              'nburn': [32, 32, 64], \n",
    "              'niter': 500, # 512,\n",
    "    \n",
    "              'do_powell': True,\n",
    "              'ftol': 0.5e-5, 'maxfev': 5000,\n",
    "              #'initial_disp': 0.1,\n",
    "              # Data parameters\n",
    "              #'snr': 20.0, # ???\n",
    "              #'add_noise': False, # ???\n",
    "              # Model parameters\n",
    "              #'mass': 1e10,\n",
    "              #'logzsol': -0.5,\n",
    "              #'tage': 12.0,\n",
    "              #'tau': 3.0,\n",
    "              #'dust2': 0.3,\n",
    "              # Data manipulation parameters\n",
    "              #'logify_spectrum': False,\n",
    "              #'normalize_spectrum': False,\n",
    "              #'wlo':3750., 'whi':7200.,\n",
    "              # SPS parameters\n",
    "              'zcontinuous': 1,\n",
    "              }\n",
    "print(run_params)"
   ]
  },
  {
   "cell_type": "code",
   "execution_count": 41,
   "metadata": {},
   "outputs": [
    {
     "name": "stdout",
     "output_type": "stream",
     "text": [
      "['sdss_u0', 'sdss_g0', 'sdss_r0', 'sdss_i0', 'sdss_z0', 'wise_w1', 'wise_w2']\n"
     ]
    }
   ],
   "source": [
    "sdss = ['sdss_{}0'.format(b) for b in ['u','g','r','i','z']]\n",
    "wise = ['wise_{}'.format(b) for b in ['w1','w2']]\n",
    "filternames = sdss + wise\n",
    "print(filternames)"
   ]
  },
  {
   "cell_type": "code",
   "execution_count": 42,
   "metadata": {
    "collapsed": true
   },
   "outputs": [],
   "source": [
    "# load sps model (default)\n",
    "#sps = model_setup.load_sps(**run_params)\n",
    "sps = CSPSpecBasis(zcontinuous=1, compute_vega_mags=False)"
   ]
  },
  {
   "cell_type": "code",
   "execution_count": 43,
   "metadata": {},
   "outputs": [
    {
     "name": "stdout",
     "output_type": "stream",
     "text": [
      "(b'pdva', b'basel')\n"
     ]
    }
   ],
   "source": [
    "print(sps.csp.libraries)"
   ]
  },
  {
   "cell_type": "code",
   "execution_count": 44,
   "metadata": {
    "scrolled": true
   },
   "outputs": [
    {
     "name": "stdout",
     "output_type": "stream",
     "text": [
      "[<class 'sedpy.observate.Filter'>(sdss_u0), <class 'sedpy.observate.Filter'>(sdss_g0), <class 'sedpy.observate.Filter'>(sdss_r0), <class 'sedpy.observate.Filter'>(sdss_i0), <class 'sedpy.observate.Filter'>(sdss_z0), <class 'sedpy.observate.Filter'>(wise_w1), <class 'sedpy.observate.Filter'>(wise_w2)]\n"
     ]
    }
   ],
   "source": [
    "filters = load_filters(filternames)\n",
    "print(filters)"
   ]
  },
  {
   "cell_type": "code",
   "execution_count": 45,
   "metadata": {
    "collapsed": true
   },
   "outputs": [],
   "source": [
    "# create a function to read in the redmapper catalog and extract relavent files\n",
    "def readred():\n",
    "    redfile = os.path.join(os.sep, 'global', 'work', 'projects', \n",
    "                           'redmapper', 'redmapper_isedfit_v5.10_centrals.fits.gz')\n",
    "    info = fitsio.FITS(redfile)\n",
    "    # hack, read just one galaxy\n",
    "    cat = info[1].read(rows=3)\n",
    "    \n",
    "    return cat"
   ]
  },
  {
   "cell_type": "code",
   "execution_count": 46,
   "metadata": {
    "collapsed": true
   },
   "outputs": [],
   "source": [
    "# Build output dictionary which contains the input photometry (our version of load_obs).\n",
    "def prospcat(redcat):\n",
    "    mask = (redcat['IVARMAGGIES'] > 0) * 1\n",
    "    obs = {}\n",
    "    obs['maggies'] = np.squeeze(redcat['MAGGIES'])\n",
    "    with np.errstate(divide='ignore'):\n",
    "        obs['maggies_unc'] = np.squeeze(1.0/np.sqrt(redcat['IVARMAGGIES'])) #[:3, :])\n",
    "    obs['wavelength'] = None # not fitting spectra\n",
    "    obs['filternames'] = filternames\n",
    "    obs['filters'] = load_filters(filternames)\n",
    "    obs['phot_mask'] = mask  # 1 = good, 0 = bad\n",
    "    obs['isedfit_id'] = redcat['ISEDFIT_ID']\n",
    "    obs['zred'] = redcat['Z']\n",
    "    \n",
    "    # NOT SURE IF CORRECT\n",
    "    obs['unc'] = obs['maggies_unc']\n",
    "    obs['spectrum'] = None\n",
    "    \n",
    "    return obs"
   ]
  },
  {
   "cell_type": "code",
   "execution_count": 47,
   "metadata": {
    "collapsed": true
   },
   "outputs": [],
   "source": [
    "redcat = readred()"
   ]
  },
  {
   "cell_type": "code",
   "execution_count": 48,
   "metadata": {
    "collapsed": true
   },
   "outputs": [],
   "source": [
    "obs = prospcat(redcat)\n",
    "#print(obs)"
   ]
  },
  {
   "cell_type": "code",
   "execution_count": 49,
   "metadata": {
    "collapsed": true
   },
   "outputs": [],
   "source": [
    "# Load the (default?) SPS model\n",
    "def load_sps(zcontinuous=1, compute_vega_mags=False, **extras):\n",
    "    sps = CSPSpecBasis(zcontinuous=zcontinuous,\n",
    "                   compute_vega_mags=compute_vega_mags)\n",
    "    return sps"
   ]
  },
  {
   "cell_type": "code",
   "execution_count": 51,
   "metadata": {
    "collapsed": true
   },
   "outputs": [],
   "source": [
    "#sps = load_sps(**run_params)"
   ]
  },
  {
   "cell_type": "code",
   "execution_count": 52,
   "metadata": {
    "collapsed": true
   },
   "outputs": [],
   "source": [
    "# I don't think we need to load a noise model since we're only fitting photometry.(?)\n",
    "spec_noise, phot_noise = model_setup.load_gp(**run_params)"
   ]
  },
  {
   "cell_type": "code",
   "execution_count": 63,
   "metadata": {
    "collapsed": true
   },
   "outputs": [],
   "source": [
    "# Initialize the priors and then load the (default?) model.\n",
    "# TBD: Do we need to define priors on dust, fburst, etc., etc.???\n",
    "def load_model(zred, **extras):\n",
    "    model_params = []\n",
    "    \n",
    "    # Prior on distance / redshift.\n",
    "    model_params.append({'name': 'zred', 'N': 1,\n",
    "                         'isfree': False,\n",
    "                         'init': zred,\n",
    "                         'units': '',\n",
    "                         'prior_function': priors.tophat,\n",
    "                         'prior_args': {'mini': 0.0, 'maxi': 4.0}})\n",
    "    \n",
    "    # Prior on SFH.\n",
    "    model_params.append({'name': 'sfh', 'N': 1,\n",
    "                         'isfree': False,\n",
    "                         'init': 4,\n",
    "                         'units': 'type'})\n",
    "\n",
    "    model_params.append({'name': 'mass', 'N': 1,\n",
    "                         'isfree': True,\n",
    "                         'init': 1e11,\n",
    "                         'init_disp': 1e10,\n",
    "                         'units': r'M_\\odot',\n",
    "                         'prior_function': priors.tophat,\n",
    "                         'prior_args': {'mini': 1e10, 'maxi': 5e12}})\n",
    "\n",
    "    model_params.append({'name': 'logzsol', 'N': 1,\n",
    "                         'isfree': False,\n",
    "                         'init': -0.3,\n",
    "                         'init_disp': 0.3,\n",
    "                         'units': r'$\\log (Z/Z_\\odot)$',\n",
    "                         'prior_function': priors.tophat,\n",
    "                         'prior_args': {'mini':-1, 'maxi':0.19}})\n",
    "    \n",
    "    # Metallicity, tau, and age priors\n",
    "    # If zcontinuous > 1, use 3-pt smoothing\n",
    "    model_params.append({'name': 'pmetals', 'N': 1,\n",
    "                         'isfree': False,\n",
    "                         'init': 0.02,})\n",
    "                        \n",
    "    model_params.append({'name': 'tau', 'N': 1,\n",
    "                         'isfree': False,\n",
    "                         'init': 1.0,\n",
    "                         'init_disp': 0.5,\n",
    "                         'units': 'Gyr',\n",
    "                         'prior_function': priors.logarithmic,\n",
    "                         'prior_args': {'mini': 0.1, 'maxi': 100}})\n",
    "\n",
    "    model_params.append({'name': 'tage', 'N': 1,\n",
    "                        'isfree': True,\n",
    "                        'init': 10.0,\n",
    "                        'init_disp': 3.0,\n",
    "                        'units': 'Gyr',\n",
    "                        'prior_function': priors.tophat,\n",
    "                        'prior_args': {'mini': 0.101, 'maxi': 14.0}})\n",
    "    \n",
    "# Ben's speed solution:\n",
    "    model_params.append({'name': 'mass_units', 'N': 1,\n",
    "                        'isfree': False,\n",
    "                        'init': 'mformed'})\n",
    "    \n",
    "    return sedmodel.SedModel(model_params)"
   ]
  },
  {
   "cell_type": "code",
   "execution_count": 64,
   "metadata": {
    "collapsed": true
   },
   "outputs": [],
   "source": [
    "model = load_model(obs['zred'], **run_params)"
   ]
  },
  {
   "cell_type": "code",
   "execution_count": 55,
   "metadata": {},
   "outputs": [],
   "source": [
    "# Ben's speed solution:\n",
    "if False:\n",
    "    sps = CSPSpecBasis(**run_params)\n",
    "    sps2 = CSPBasis(**run_params)\n",
    "    s, p, x = model.mean_model(model.initial_theta, obs=obs, sps=sps)\n",
    "    sps2.csp.params.dirtiness = 1  # just to make sure the model is fully recalculated\n",
    "    s2, p2, x2 = model.mean_model(model.initial_theta, obs=obs, sps=sps2)\n",
    "    assert np.allclose(p2, p)\n",
    "    print(p2 - p)"
   ]
  },
  {
   "cell_type": "code",
   "execution_count": 65,
   "metadata": {
    "collapsed": true
   },
   "outputs": [],
   "source": [
    "# Define our likelihood function\n",
    "def lnprobfn(theta, verbose=True):\n",
    "    \"\"\"Given a parameter vector and a dictionary of observational data and a model object, \n",
    "    return the ln of the posterior. This requires that an sps object (and if using spectra \n",
    "    and gaussian processes, a GP object) be instantiated.\n",
    "    \"\"\"\n",
    "\n",
    "    lnp_prior = model.prior_product(theta)\n",
    "    if isfinite(lnp_prior):\n",
    "        \n",
    "        # Generate mean model\n",
    "        t1 = time.time()\n",
    "        try:\n",
    "            mu, phot, x = model.mean_model(theta, obs, sps=sps)\n",
    "        except(ValueError):\n",
    "            return -np.infty\n",
    "        d1 = time.time() - t1\n",
    "\n",
    "        # Noise modeling\n",
    "        if spec_noise is not None:\n",
    "            spec_noise.update(**model.params)\n",
    "        if phot_noise is not None:\n",
    "            phot_noise.update(**model.params)\n",
    "        vectors = {'spec': mu, 'unc': obs['unc'],\n",
    "                   'sed': model._spec, 'cal': model._speccal,\n",
    "                   'phot': phot, 'maggies_unc': obs['maggies_unc']}\n",
    "\n",
    "        # Calculate log-likelihoods\n",
    "        t2 = time.time()\n",
    "        lnp_spec = lnlike_spec(mu, obs=obs, spec_noise=spec_noise, **vectors)\n",
    "        lnp_phot = lnlike_phot(phot, obs=obs, phot_noise=phot_noise, **vectors)\n",
    "        d2 = time.time() - t2\n",
    "        if verbose:\n",
    "            write_log(theta, lnp_prior, lnp_spec, lnp_phot, d1, d2)\n",
    "\n",
    "        return lnp_prior + lnp_phot + lnp_spec\n",
    "\n",
    "    else:\n",
    "        return -np.infty"
   ]
  },
  {
   "cell_type": "markdown",
   "metadata": {},
   "source": [
    "# Running Prospector"
   ]
  },
  {
   "cell_type": "markdown",
   "metadata": {},
   "source": [
    "### Outputs"
   ]
  },
  {
   "cell_type": "code",
   "execution_count": 66,
   "metadata": {},
   "outputs": [
    {
     "name": "stdout",
     "output_type": "stream",
     "text": [
      "Writing to file test_1496430515_mcmc.h5\n",
      "Could not JSON serialize model_params, pickled instead\n"
     ]
    }
   ],
   "source": [
    "outroot = \"{0}_{1}\".format(run_params['outfile'], int(time.time()))\n",
    "try:\n",
    "    hfilename = '{}_mcmc.h5'.format(outroot)\n",
    "    hfile = h5py.File(hfilename, \"a\")\n",
    "    print(\"Writing to file {}\".format(hfilename))\n",
    "    write_results.write_h5_header(hfile, run_params, model)\n",
    "    write_results.write_obs_to_h5(hfile, obs)\n",
    "except:\n",
    "    hfile = None"
   ]
  },
  {
   "cell_type": "markdown",
   "metadata": {},
   "source": [
    "### Model Preview"
   ]
  },
  {
   "cell_type": "code",
   "execution_count": 67,
   "metadata": {
    "scrolled": true
   },
   "outputs": [
    {
     "name": "stdout",
     "output_type": "stream",
     "text": [
      "Free parameters:  ['mass', 'tage']\n",
      "Fixed parameters:  ['zred', 'sfh', 'logzsol', 'pmetals', 'tau', 'mass_units']\n"
     ]
    }
   ],
   "source": [
    "print('Free parameters: ', model.free_params)\n",
    "print('Fixed parameters: ', model.fixed_params)"
   ]
  },
  {
   "cell_type": "markdown",
   "metadata": {},
   "source": [
    "### SED Preview"
   ]
  },
  {
   "cell_type": "code",
   "execution_count": 68,
   "metadata": {},
   "outputs": [
    {
     "data": {
      "text/plain": [
       "array([  1.00000000e+11,   1.00000000e+01])"
      ]
     },
     "execution_count": 68,
     "metadata": {},
     "output_type": "execute_result"
    }
   ],
   "source": [
    "model.initial_theta"
   ]
  },
  {
   "cell_type": "code",
   "execution_count": 69,
   "metadata": {},
   "outputs": [
    {
     "data": {
      "text/plain": [
       "array([  9.10000000e+01,   9.40000000e+01,   9.60000000e+01, ...,\n",
       "         9.81700000e+07,   9.90800000e+07,   1.00000000e+08])"
      ]
     },
     "execution_count": 69,
     "metadata": {},
     "output_type": "execute_result"
    }
   ],
   "source": [
    "sps.csp.wavelengths"
   ]
  },
  {
   "cell_type": "code",
   "execution_count": 70,
   "metadata": {
    "scrolled": false
   },
   "outputs": [
    {
     "data": {
      "image/png": "[encoded data removed]",
      "text/plain": [
       "<matplotlib.figure.Figure at 0x7f809485db00>"
      ]
     },
     "metadata": {},
     "output_type": "display_data"
    }
   ],
   "source": [
    "wspec = sps.csp.wavelengths # spectral wavelengths\n",
    "wphot = array([f.wave_effective for f in obs['filters']]) # photometric effective wavelengths\n",
    "wphot_width = array([f.effective_width for f in obs['filters']]) # photometric effective widths\n",
    "\n",
    "initial_theta = model.rectify_theta(model.initial_theta) # initial parameters\n",
    "mspec_init, mphot_init, mextra_init = model.mean_model(initial_theta, obs, sps=sps) # generate model\n",
    "\n",
    "# establish bounds\n",
    "xmin, xmax = wphot.min()*0.8, wphot.max()/0.8\n",
    "temp = interp(linspace(xmin,xmax,10000), wspec, mspec_init)\n",
    "ymin, ymax = temp.min()*0.8, temp.max()/0.8\n",
    "\n",
    "# plotting \n",
    "figure(figsize=(16,8))\n",
    "for i in range(len(wphot)):\n",
    "    f = obs['filters'][i]\n",
    "    w, t = f.wavelength.copy(), f.transmission.copy()\n",
    "    while t.max() > 1:\n",
    "        t /= 10.\n",
    "    t = 0.1*(ymax-ymin)*t + ymin\n",
    "    loglog(w, t, lw=3, color='gray', alpha=0.7)\n",
    "loglog(wspec, mspec_init, lw=0.7, color='navy', alpha=0.7, label='Model spectrum')\n",
    "errorbar(wphot, mphot_init, marker='s', ls='', lw=3, markersize=10,\n",
    "         markerfacecolor='none', markeredgecolor='blue', markeredgewidth=3, alpha=0.8, label='Model photometry')\n",
    "errorbar(wphot, obs['maggies'], yerr=obs['maggies_unc'], ecolor='red', marker='o', ls='', lw=3, markersize=10, \n",
    "         markerfacecolor='none', markeredgecolor='red', markeredgewidth=3, alpha=0.8, label='Observed photometry')\n",
    "\n",
    "xlabel('Wavelength [A]')\n",
    "ylabel('Flux Density [maggies]')\n",
    "xlim([xmin, xmax])\n",
    "ylim([ymin, ymax])\n",
    "legend(loc='best', fontsize=20)\n",
    "tight_layout()\n",
    "\n"
   ]
  },
  {
   "cell_type": "markdown",
   "metadata": {},
   "source": [
    "### Minimization Step"
   ]
  },
  {
   "cell_type": "code",
   "execution_count": 71,
   "metadata": {},
   "outputs": [
    {
     "name": "stdout",
     "output_type": "stream",
     "text": [
      "Not using MPI\n"
     ]
    }
   ],
   "source": [
    "# Do we actually need this?\n",
    "try:\n",
    "    from emcee.utils import MPIPool\n",
    "    pool = MPIPool(debug=False, loadbalance=True)\n",
    "    if not pool.is_master():\n",
    "        # Wait for instructions from the master process.\n",
    "        pool.wait()\n",
    "        sys.exit(0)\n",
    "except(ImportError, ValueError):\n",
    "    pool = None\n",
    "    print('Not using MPI')"
   ]
  },
  {
   "cell_type": "code",
   "execution_count": 72,
   "metadata": {
    "collapsed": true
   },
   "outputs": [],
   "source": [
    "def halt(message):\n",
    "    \"\"\"Exit, closing pool safely.\n",
    "    \"\"\"\n",
    "    print(message)\n",
    "    try:\n",
    "        pool.close()\n",
    "    except:\n",
    "        pass"
   ]
  },
  {
   "cell_type": "code",
   "execution_count": 73,
   "metadata": {},
   "outputs": [
    {
     "name": "stdout",
     "output_type": "stream",
     "text": [
      "[  1.00000000e+11   1.00000000e+01]\n",
      "model calc = 0.003836393356323242s, lnlike calc = 0.00010657310485839844\n",
      "lnp = -5666.130862493828, lnp_spec = 0.0, lnp_phot = -5666.130862493828\n",
      "[  1.05000000e+11   1.00000000e+01]\n",
      "model calc = 0.0027997493743896484s, lnlike calc = 8.726119995117188e-05\n",
      "lnp = -5483.551084582022, lnp_spec = 0.0, lnp_phot = -5483.551084582022\n",
      "[  1.00000000e+11   1.05000000e+01]\n",
      "model calc = 0.009768009185791016s, lnlike calc = 6.794929504394531e-05\n",
      "lnp = -5889.749452504872, lnp_spec = 0.0, lnp_phot = -5889.749452504872\n",
      "[  1.05000000e+11   9.50000000e+00]\n",
      "model calc = 0.007464885711669922s, lnlike calc = 6.4849853515625e-05\n",
      "lnp = -5211.880117059647, lnp_spec = 0.0, lnp_phot = -5211.880117059647\n",
      "[  1.07500000e+11   9.00000000e+00]\n",
      "model calc = 0.007374286651611328s, lnlike calc = 6.198883056640625e-05\n",
      "lnp = -4790.756272846931, lnp_spec = 0.0, lnp_phot = -4790.756272846931\n",
      "[  1.12500000e+11   9.00000000e+00]\n",
      "model calc = 0.00222015380859375s, lnlike calc = 6.198883056640625e-05\n",
      "lnp = -4595.95018371754, lnp_spec = 0.0, lnp_phot = -4595.95018371754\n",
      "[  1.18750000e+11   8.50000000e+00]\n",
      "model calc = 0.00693964958190918s, lnlike calc = 5.936622619628906e-05\n",
      "lnp = -3950.1351827430094, lnp_spec = 0.0, lnp_phot = -3950.1351827430094\n",
      "[  1.21250000e+11   7.50000000e+00]\n",
      "model calc = 0.006903409957885742s, lnlike calc = 6.151199340820312e-05\n",
      "lnp = -2796.6274898939546, lnp_spec = 0.0, lnp_phot = -2796.6274898939546\n",
      "[  1.29375000e+11   6.25000000e+00]\n",
      "model calc = 0.006785154342651367s, lnlike calc = 6.175041198730469e-05\n",
      "lnp = -747.8560222431759, lnp_spec = 0.0, lnp_phot = -747.8560222431759\n",
      "[  1.40625000e+11   5.75000000e+00]\n",
      "model calc = 0.0067555904388427734s, lnlike calc = 5.91278076171875e-05\n",
      "lnp = 51.642034383804514, lnp_spec = 0.0, lnp_phot = 51.642034383804514\n",
      "[  1.57187500e+11   4.12500000e+00]\n",
      "model calc = 0.00657963752746582s, lnlike calc = 5.91278076171875e-05\n",
      "lnp = -11782.070818519423, lnp_spec = 0.0, lnp_phot = -11782.070818519423\n",
      "[  1.51250000e+11   3.50000000e+00]\n",
      "model calc = 0.006459951400756836s, lnlike calc = 5.9604644775390625e-05\n",
      "lnp = -31939.77387393989, lnp_spec = 0.0, lnp_phot = -31939.77387393989\n",
      "[  1.26875000e+11   7.25000000e+00]\n",
      "model calc = 0.006853818893432617s, lnlike calc = 5.936622619628906e-05\n",
      "lnp = -2250.1871397462146, lnp_spec = 0.0, lnp_phot = -2250.1871397462146\n",
      "[  1.43125000e+11   4.75000000e+00]\n",
      "model calc = 0.006654977798461914s, lnlike calc = 6.127357482910156e-05\n",
      "lnp = -1568.7017723420947, lnp_spec = 0.0, lnp_phot = -1568.7017723420947\n",
      "[  1.39062500e+11   5.37500000e+00]\n",
      "model calc = 0.006745576858520508s, lnlike calc = 6.151199340820312e-05\n",
      "lnp = 100.23466088473474, lnp_spec = 0.0, lnp_phot = 100.23466088473474\n",
      "[  1.50312500e+11   4.87500000e+00]\n",
      "model calc = 0.0065577030181884766s, lnlike calc = 5.936622619628906e-05\n",
      "lnp = -1486.7211934952807, lnp_spec = 0.0, lnp_phot = -1486.7211934952807\n",
      "[  1.34609375e+11   5.90625000e+00]\n",
      "model calc = 0.0067462921142578125s, lnlike calc = 5.91278076171875e-05\n",
      "lnp = -175.95196006876887, lnp_spec = 0.0, lnp_phot = -175.95196006876887\n",
      "[  1.45078125e+11   5.21875000e+00]\n",
      "model calc = 0.006721019744873047s, lnlike calc = 5.936622619628906e-05\n",
      "lnp = -152.13572408032968, lnp_spec = 0.0, lnp_phot = -152.13572408032968\n",
      "[  1.42460938e+11   5.39062500e+00]\n",
      "model calc = 0.006706953048706055s, lnlike calc = 6.031990051269531e-05\n",
      "lnp = 78.54939156988749, lnp_spec = 0.0, lnp_phot = 78.54939156988749\n",
      "[  1.40898438e+11   5.01562500e+00]\n",
      "model calc = 0.006710529327392578s, lnlike calc = 6.222724914550781e-05\n",
      "lnp = -427.0441522132095, lnp_spec = 0.0, lnp_phot = -427.0441522132095\n",
      "[  1.40693359e+11   5.56640625e+00]\n",
      "model calc = 0.0066487789154052734s, lnlike calc = 6.175041198730469e-05\n",
      "lnp = 120.10477832622895, lnp_spec = 0.0, lnp_phot = 120.10477832622895\n",
      "[  1.37294922e+11   5.55078125e+00]\n",
      "model calc = 0.006681680679321289s, lnlike calc = 5.91278076171875e-05\n",
      "lnp = 110.6227044502479, lnp_spec = 0.0, lnp_phot = 110.6227044502479\n",
      "[  1.38925781e+11   5.74218750e+00]\n",
      "model calc = 0.006717681884765625s, lnlike calc = 5.91278076171875e-05\n",
      "lnp = 36.660306731835746, lnp_spec = 0.0, lnp_phot = 36.660306731835746\n",
      "[  1.39028320e+11   5.46679688e+00]\n",
      "model calc = 0.006551504135131836s, lnlike calc = 5.888938903808594e-05\n",
      "lnp = 122.21511559520503, lnp_spec = 0.0, lnp_phot = 122.21511559520503\n",
      "[  1.42426758e+11   5.48242188e+00]\n",
      "model calc = 0.006485939025878906s, lnlike calc = 6.67572021484375e-05\n",
      "lnp = 115.28439068687281, lnp_spec = 0.0, lnp_phot = 115.28439068687281\n",
      "[  1.41143799e+11   5.49951172e+00]\n",
      "model calc = 0.006676197052001953s, lnlike calc = 5.91278076171875e-05\n",
      "lnp = 121.74076874695673, lnp_spec = 0.0, lnp_phot = 121.74076874695673\n",
      "[  1.39478760e+11   5.39990234e+00]\n",
      "model calc = 0.007833242416381836s, lnlike calc = 6.079673767089844e-05\n",
      "lnp = 106.75744618036096, lnp_spec = 0.0, lnp_phot = 106.75744618036096\n",
      "[  1.40389709e+11   5.52478027e+00]\n",
      "model calc = 0.006432056427001953s, lnlike calc = 5.936622619628906e-05\n",
      "lnp = 123.03631021666097, lnp_spec = 0.0, lnp_phot = 123.03631021666097\n",
      "[  1.38274231e+11   5.49206543e+00]\n",
      "model calc = 0.006453275680541992s, lnlike calc = 5.8650970458984375e-05\n",
      "lnp = 122.82183268112273, lnp_spec = 0.0, lnp_phot = 122.82183268112273\n",
      "[  1.39635620e+11   5.55004883e+00]\n",
      "model calc = 0.006409645080566406s, lnlike calc = 5.650520324707031e-05\n",
      "lnp = 119.68656101254615, lnp_spec = 0.0, lnp_phot = 119.68656101254615\n",
      "[  1.39180145e+11   5.48760986e+00]\n",
      "model calc = 0.00654149055480957s, lnlike calc = 5.650520324707031e-05\n",
      "lnp = 123.09572682072304, lnp_spec = 0.0, lnp_phot = 123.09572682072304\n",
      "[  1.41295624e+11   5.52032471e+00]\n",
      "model calc = 0.006674051284790039s, lnlike calc = 5.9604644775390625e-05\n",
      "lnp = 122.93574527592168, lnp_spec = 0.0, lnp_phot = 122.93574527592168\n",
      "[  1.40540276e+11   5.51325989e+00]\n",
      "model calc = 0.006693363189697266s, lnlike calc = 5.984306335449219e-05\n",
      "lnp = 123.1134611570109, lnp_spec = 0.0, lnp_phot = 123.1134611570109\n",
      "[  1.39330711e+11   5.47608948e+00]\n",
      "model calc = 0.006606340408325195s, lnlike calc = 5.888938903808594e-05\n",
      "lnp = 122.48859831690994, lnp_spec = 0.0, lnp_phot = 122.48859831690994\n",
      "[  1.40124960e+11   5.51260757e+00]\n",
      "model calc = 0.006445884704589844s, lnlike calc = 5.698204040527344e-05\n",
      "lnp = 123.15461481095532, lnp_spec = 0.0, lnp_phot = 123.15461481095532\n",
      "[  1.41485090e+11   5.53825760e+00]\n",
      "model calc = 0.006513833999633789s, lnlike calc = 6.461143493652344e-05\n",
      "lnp = 123.14828891633107, lnp_spec = 0.0, lnp_phot = 123.14828891633107\n",
      "[  1.41069775e+11   5.53760529e+00]\n",
      "model calc = 0.006484508514404297s, lnlike calc = 5.698204040527344e-05\n",
      "lnp = 123.02271330517178, lnp_spec = 0.0, lnp_phot = 123.02271330517178\n",
      "[  1.40672650e+11   5.51934624e+00]\n",
      "model calc = 0.006685733795166016s, lnlike calc = 5.984306335449219e-05\n",
      "lnp = 123.15383566334184, lnp_spec = 0.0, lnp_phot = 123.15383566334184\n",
      "[  1.39312520e+11   5.49369621e+00]\n",
      "model calc = 0.00667881965637207s, lnlike calc = 5.888938903808594e-05\n",
      "lnp = 123.14736767831928, lnp_spec = 0.0, lnp_phot = 123.14736767831928\n",
      "[  1.40941948e+11   5.52711725e+00]\n",
      "model calc = 0.006735563278198242s, lnlike calc = 5.936622619628906e-05\n",
      "lnp = 123.15589339591769, lnp_spec = 0.0, lnp_phot = 123.15589339591769\n",
      "[  1.40394257e+11   5.52037859e+00]\n",
      "model calc = 0.0064716339111328125s, lnlike calc = 5.936622619628906e-05\n",
      "lnp = 123.12819809938915, lnp_spec = 0.0, lnp_phot = 123.12819809938915\n",
      "[  1.40603052e+11   5.51960433e+00]\n",
      "model calc = 0.006391763687133789s, lnlike calc = 5.936622619628906e-05\n",
      "lnp = 123.1581498329848, lnp_spec = 0.0, lnp_phot = 123.1581498329848\n",
      "[  1.41420040e+11   5.53411400e+00]\n",
      "model calc = 0.006376028060913086s, lnlike calc = 6.318092346191406e-05\n",
      "lnp = 123.15790272919975, lnp_spec = 0.0, lnp_phot = 123.15790272919975\n",
      "[  1.41081144e+11   5.52660108e+00]\n",
      "model calc = 0.0067441463470458984s, lnlike calc = 5.8650970458984375e-05\n",
      "lnp = 123.15309204651922, lnp_spec = 0.0, lnp_phot = 123.15309204651922\n",
      "[  1.40976747e+11   5.52698821e+00]\n",
      "model calc = 0.006690502166748047s, lnlike calc = 5.936622619628906e-05\n",
      "lnp = 123.15786085108955, lnp_spec = 0.0, lnp_phot = 123.15786085108955\n",
      "[  1.41046345e+11   5.52673012e+00]\n",
      "model calc = 0.006681203842163086s, lnlike calc = 5.9604644775390625e-05\n",
      "lnp = 123.15646069411474, lnp_spec = 0.0, lnp_phot = 123.15646069411474\n",
      "[  1.40994146e+11   5.52692369e+00]\n",
      "model calc = 0.006473064422607422s, lnlike calc = 6.008148193359375e-05\n",
      "lnp = 123.15817779231844, lnp_spec = 0.0, lnp_phot = 123.15817779231844\n",
      "[  1.40177159e+11   5.51241401e+00]\n",
      "model calc = 0.006754636764526367s, lnlike calc = 6.318092346191406e-05\n",
      "lnp = 123.15796839003337, lnp_spec = 0.0, lnp_phot = 123.15796839003337\n",
      "[  1.40487879e+11   5.51783901e+00]\n",
      "model calc = 0.006716012954711914s, lnlike calc = 6.079673767089844e-05\n",
      "lnp = 123.15814547807852, lnp_spec = 0.0, lnp_phot = 123.15814547807852\n",
      "[  1.41109320e+11   5.52868900e+00]\n",
      "model calc = 0.006708621978759766s, lnlike calc = 6.151199340820312e-05\n",
      "lnp = 123.158100672814, lnp_spec = 0.0, lnp_phot = 123.158100672814\n",
      "[  1.40643239e+11   5.52055151e+00]\n",
      "model calc = 0.006702423095703125s, lnlike calc = 5.888938903808594e-05\n",
      "lnp = 123.15818184447647, lnp_spec = 0.0, lnp_phot = 123.15818184447647\n",
      "[  1.41034333e+11   5.52787087e+00]\n",
      "model calc = 0.006721019744873047s, lnlike calc = 6.222724914550781e-05\n",
      "lnp = 123.15804819872406, lnp_spec = 0.0, lnp_phot = 123.15804819872406\n"
     ]
    },
    {
     "name": "stdout",
     "output_type": "stream",
     "text": [
      "[  1.40710872e+11   5.52167096e+00]\n",
      "model calc = 0.007677555084228516s, lnlike calc = 6.222724914550781e-05\n",
      "lnp = 123.15818495099165, lnp_spec = 0.0, lnp_phot = 123.15818495099165\n",
      "[  1.40359965e+11   5.51529878e+00]\n",
      "model calc = 0.0066699981689453125s, lnlike calc = 6.151199340820312e-05\n",
      "lnp = 123.15818306144345, lnp_spec = 0.0, lnp_phot = 123.15818306144345\n",
      "[  1.40427598e+11   5.51641824e+00]\n",
      "model calc = 0.0067331790924072266s, lnlike calc = 6.127357482910156e-05\n",
      "lnp = 123.15814685954898, lnp_spec = 0.0, lnp_phot = 123.15814685954898\n",
      "[  1.40589329e+11   5.51951819e+00]\n",
      "model calc = 0.006719350814819336s, lnlike calc = 6.222724914550781e-05\n",
      "lnp = 123.15818781316757, lnp_spec = 0.0, lnp_phot = 123.15818781316757\n",
      "[  1.40940236e+11   5.52589037e+00]\n",
      "model calc = 0.0067369937896728516s, lnlike calc = 6.651878356933594e-05\n",
      "lnp = 123.15818704283608, lnp_spec = 0.0, lnp_phot = 123.15818704283608\n",
      "[  1.40818693e+11   5.52373760e+00]\n",
      "model calc = 0.00658726692199707s, lnlike calc = 6.175041198730469e-05\n",
      "lnp = 123.15818015580699, lnp_spec = 0.0, lnp_phot = 123.15818015580699\n",
      "[  1.40737827e+11   5.52218762e+00]\n",
      "model calc = 0.006540536880493164s, lnlike calc = 6.151199340820312e-05\n",
      "lnp = 123.15818751970224, lnp_spec = 0.0, lnp_phot = 123.15818751970224\n",
      "[  1.40386920e+11   5.51581544e+00]\n",
      "model calc = 0.0067174434661865234s, lnlike calc = 6.151199340820312e-05\n",
      "lnp = 123.15818666751154, lnp_spec = 0.0, lnp_phot = 123.15818666751154\n",
      "[  1.40801907e+11   5.52337164e+00]\n",
      "model calc = 0.006726264953613281s, lnlike calc = 6.127357482910156e-05\n",
      "lnp = 123.15818775215462, lnp_spec = 0.0, lnp_phot = 123.15818775215462\n",
      "[  1.40653409e+11   5.52070221e+00]\n",
      "model calc = 0.006753206253051758s, lnlike calc = 5.936622619628906e-05\n",
      "lnp = 123.15818658071208, lnp_spec = 0.0, lnp_phot = 123.15818658071208\n",
      "[  1.40716723e+11   5.52181627e+00]\n",
      "model calc = 0.006717205047607422s, lnlike calc = 6.198883056640625e-05\n",
      "lnp = 123.15818784068715, lnp_spec = 0.0, lnp_phot = 123.15818784068715\n",
      "[  1.40504144e+11   5.51796282e+00]\n",
      "model calc = 0.006718158721923828s, lnlike calc = 6.198883056640625e-05\n",
      "lnp = 123.15818781629707, lnp_spec = 0.0, lnp_phot = 123.15818781629707\n",
      "[  1.40631538e+11   5.52026090e+00]\n",
      "model calc = 0.0067174434661865234s, lnlike calc = 6.079673767089844e-05\n",
      "lnp = 123.15818745675881, lnp_spec = 0.0, lnp_phot = 123.15818745675881\n",
      "[  1.40599881e+11   5.51970387e+00]\n",
      "model calc = 0.00671696662902832s, lnlike calc = 6.127357482910156e-05\n",
      "lnp = 123.1581878660589, lnp_spec = 0.0, lnp_phot = 123.1581878660589\n",
      "[  1.40812460e+11   5.52355731e+00]\n",
      "model calc = 0.0067272186279296875s, lnlike calc = 6.127357482910156e-05\n",
      "lnp = 123.1581878504931, lnp_spec = 0.0, lnp_phot = 123.1581878504931\n",
      "[  1.40695618e+11   5.52144491e+00]\n",
      "model calc = 0.006636381149291992s, lnlike calc = 6.151199340820312e-05\n",
      "lnp = 123.15818779316217, lnp_spec = 0.0, lnp_phot = 123.15818779316217\n",
      "[  1.40711447e+11   5.52172343e+00]\n",
      "model calc = 0.006695747375488281s, lnlike calc = 5.91278076171875e-05\n",
      "lnp = 123.15818786346935, lnp_spec = 0.0, lnp_phot = 123.15818786346935\n",
      "[  1.40498868e+11   5.51786998e+00]\n",
      "model calc = 0.006716012954711914s, lnlike calc = 6.175041198730469e-05\n",
      "lnp = 123.15818785339881, lnp_spec = 0.0, lnp_phot = 123.15818785339881\n",
      "[  1.40577266e+11   5.51929181e+00]\n",
      "model calc = 0.006589651107788086s, lnlike calc = 6.151199340820312e-05\n",
      "lnp = 123.15818786043555, lnp_spec = 0.0, lnp_phot = 123.15818786043555\n",
      "[  1.40734062e+11   5.52213548e+00]\n",
      "model calc = 0.006739616394042969s, lnlike calc = 6.127357482910156e-05\n",
      "lnp = 123.1581878643345, lnp_spec = 0.0, lnp_phot = 123.1581878643345\n",
      "[  1.40622496e+11   5.52011592e+00]\n",
      "model calc = 0.006571531295776367s, lnlike calc = 6.127357482910156e-05\n",
      "lnp = 123.15818785582928, lnp_spec = 0.0, lnp_phot = 123.15818785582928\n",
      "[  1.40689209e+11   5.52132155e+00]\n",
      "model calc = 0.006726741790771484s, lnlike calc = 6.127357482910156e-05\n",
      "lnp = 123.15818786596711, lnp_spec = 0.0, lnp_phot = 123.15818786596711\n",
      "[  1.40555029e+11   5.51888994e+00]\n",
      "model calc = 0.006688594818115234s, lnlike calc = 5.91278076171875e-05\n",
      "lnp = 123.15818786518994, lnp_spec = 0.0, lnp_phot = 123.15818786518994\n",
      "[  1.40599787e+11   5.51970132e+00]\n",
      "model calc = 0.006716489791870117s, lnlike calc = 6.151199340820312e-05\n",
      "lnp = 123.1581878657924, lnp_spec = 0.0, lnp_phot = 123.1581878657924\n",
      "[  1.40689303e+11   5.52132409e+00]\n",
      "model calc = 0.006796836853027344s, lnlike calc = 6.175041198730469e-05\n",
      "lnp = 123.15818786591566, lnp_spec = 0.0, lnp_phot = 123.15818786591566\n",
      "[  1.40666924e+11   5.52091840e+00]\n",
      "model calc = 0.006713151931762695s, lnlike calc = 6.151199340820312e-05\n",
      "lnp = 123.15818786617561, lnp_spec = 0.0, lnp_phot = 123.15818786617561\n",
      "[  1.40577597e+11   5.51930072e+00]\n",
      "model calc = 0.007281303405761719s, lnlike calc = 6.103515625e-05\n",
      "lnp = 123.15818786470895, lnp_spec = 0.0, lnp_phot = 123.15818786470895\n",
      "[  1.40661306e+11   5.52081634e+00]\n",
      "model calc = 0.006657838821411133s, lnlike calc = 6.198883056640625e-05\n",
      "lnp = 123.15818786618718, lnp_spec = 0.0, lnp_phot = 123.15818786618718\n",
      "[  1.40728349e+11   5.52203088e+00]\n",
      "model calc = 0.006610870361328125s, lnlike calc = 5.8650970458984375e-05\n",
      "lnp = 123.15818786620946, lnp_spec = 0.0, lnp_phot = 123.15818786620946\n",
      "[  1.40792583e+11   5.52319438e+00]\n",
      "model calc = 0.006714582443237305s, lnlike calc = 6.079673767089844e-05\n",
      "lnp = 123.15818786616077, lnp_spec = 0.0, lnp_phot = 123.15818786616077\n",
      "[  1.40722731e+11   5.52192882e+00]\n",
      "model calc = 0.006729841232299805s, lnlike calc = 6.151199340820312e-05\n",
      "lnp = 123.15818786604517, lnp_spec = 0.0, lnp_phot = 123.15818786604517\n",
      "[  1.40680876e+11   5.52117101e+00]\n",
      "model calc = 0.006569385528564453s, lnlike calc = 6.151199340820312e-05\n",
      "lnp = 123.15818786621065, lnp_spec = 0.0, lnp_phot = 123.15818786621065\n",
      "[  1.40747919e+11   5.52238554e+00]\n",
      "model calc = 0.006628990173339844s, lnlike calc = 6.0558319091796875e-05\n",
      "lnp = 123.15818786615652, lnp_spec = 0.0, lnp_phot = 123.15818786615652\n",
      "[  1.40682959e+11   5.52120864e+00]\n",
      "model calc = 0.006680727005004883s, lnlike calc = 5.888938903808594e-05\n",
      "lnp = 123.15818786619852, lnp_spec = 0.0, lnp_phot = 123.15818786619852\n",
      "[  1.40726266e+11   5.52199324e+00]\n",
      "model calc = 0.006682395935058594s, lnlike calc = 5.91278076171875e-05\n",
      "lnp = 123.15818786620417, lnp_spec = 0.0, lnp_phot = 123.15818786620417\n",
      "[  1.40715439e+11   5.52179709e+00]\n",
      "model calc = 0.006705760955810547s, lnlike calc = 6.175041198730469e-05\n",
      "lnp = 123.15818786621053, lnp_spec = 0.0, lnp_phot = 123.15818786621053\n",
      "[  1.40667966e+11   5.52093722e+00]\n",
      "model calc = 0.0065975189208984375s, lnlike calc = 6.198883056640625e-05\n",
      "lnp = 123.15818786619587, lnp_spec = 0.0, lnp_phot = 123.15818786619587\n",
      "[  1.40713253e+11   5.52175746e+00]\n",
      "model calc = 0.006591081619262695s, lnlike calc = 6.198883056640625e-05\n",
      "lnp = 123.15818786621034, lnp_spec = 0.0, lnp_phot = 123.15818786621034\n",
      "[  1.40683062e+11   5.52121063e+00]\n",
      "model calc = 0.006521701812744141s, lnlike calc = 6.103515625e-05\n",
      "lnp = 123.1581878662078, lnp_spec = 0.0, lnp_phot = 123.1581878662078\n",
      "[  1.40705705e+11   5.52162076e+00]\n",
      "model calc = 0.006751537322998047s, lnlike calc = 6.389617919921875e-05\n",
      "lnp = 123.15818786621082, lnp_spec = 0.0, lnp_phot = 123.15818786621082\n",
      "[  1.40671142e+11   5.52099467e+00]\n",
      "model calc = 0.0066852569580078125s, lnlike calc = 5.8650970458984375e-05\n",
      "lnp = 123.15818786621081, lnp_spec = 0.0, lnp_phot = 123.15818786621081\n",
      "[  1.40695972e+11   5.52144442e+00]\n",
      "model calc = 0.006711244583129883s, lnlike calc = 6.198883056640625e-05\n",
      "lnp = 123.15818786620972, lnp_spec = 0.0, lnp_phot = 123.15818786620972\n",
      "[  1.40684650e+11   5.52123936e+00]\n",
      "model calc = 0.006646633148193359s, lnlike calc = 6.103515625e-05\n",
      "lnp = 123.15818786621094, lnp_spec = 0.0, lnp_phot = 123.15818786621094\n",
      "[  1.40719213e+11   5.52186544e+00]\n",
      "model calc = 0.00673222541809082s, lnlike calc = 6.151199340820312e-05\n",
      "lnp = 123.15818786621068, lnp_spec = 0.0, lnp_phot = 123.15818786621068\n",
      "[  1.40683160e+11   5.52121236e+00]\n",
      "model calc = 0.006531476974487305s, lnlike calc = 6.151199340820312e-05\n",
      "lnp = 123.15818786621092, lnp_spec = 0.0, lnp_phot = 123.15818786621092\n",
      "[  1.40662104e+11   5.52083097e+00]\n",
      "model calc = 0.0067212581634521484s, lnlike calc = 6.270408630371094e-05\n",
      "lnp = 123.15818786620888, lnp_spec = 0.0, lnp_phot = 123.15818786620888\n",
      "[  1.40694805e+11   5.52142331e+00]\n",
      "model calc = 0.006676197052001953s, lnlike calc = 5.91278076171875e-05\n",
      "lnp = 123.15818786621082, lnp_spec = 0.0, lnp_phot = 123.15818786621082\n",
      "[  1.40683905e+11   5.52122586e+00]\n",
      "model calc = 0.006787300109863281s, lnlike calc = 6.246566772460938e-05\n",
      "lnp = 123.15818786621094, lnp_spec = 0.0, lnp_phot = 123.15818786621094\n",
      "[  1.40695178e+11   5.52143006e+00]\n",
      "model calc = 0.006752967834472656s, lnlike calc = 5.841255187988281e-05\n",
      "lnp = 123.15818786621087, lnp_spec = 0.0, lnp_phot = 123.15818786621087\n",
      "[  1.40673377e+11   5.52103516e+00]\n",
      "model calc = 0.006725311279296875s, lnlike calc = 6.151199340820312e-05\n",
      "lnp = 123.15818786621058, lnp_spec = 0.0, lnp_phot = 123.15818786621058\n",
      "[  1.40689727e+11   5.52133133e+00]\n",
      "model calc = 0.006540775299072266s, lnlike calc = 6.175041198730469e-05\n",
      "lnp = 123.15818786621091, lnp_spec = 0.0, lnp_phot = 123.15818786621091\n",
      "[  1.40678827e+11   5.52113389e+00]\n",
      "model calc = 0.0067119598388671875s, lnlike calc = 6.341934204101562e-05\n"
     ]
    },
    {
     "name": "stdout",
     "output_type": "stream",
     "text": [
      "lnp = 123.15818786621087, lnp_spec = 0.0, lnp_phot = 123.15818786621087\n",
      "[  1.40687002e+11   5.52128197e+00]\n",
      "model calc = 0.007321596145629883s, lnlike calc = 6.198883056640625e-05\n",
      "lnp = 123.15818786621092, lnp_spec = 0.0, lnp_phot = 123.15818786621092\n",
      "[  1.40681552e+11   5.52118325e+00]\n",
      "model calc = 0.006677389144897461s, lnlike calc = 6.151199340820312e-05\n",
      "lnp = 123.15818786621092, lnp_spec = 0.0, lnp_phot = 123.15818786621092\n",
      "[  1.40685640e+11   5.52125729e+00]\n",
      "model calc = 0.006697893142700195s, lnlike calc = 6.222724914550781e-05\n",
      "lnp = 123.15818786621094, lnp_spec = 0.0, lnp_phot = 123.15818786621094\n",
      "[  1.40682915e+11   5.52120793e+00]\n",
      "model calc = 0.0066754817962646484s, lnlike calc = 6.222724914550781e-05\n",
      "lnp = 123.15818786621094, lnp_spec = 0.0, lnp_phot = 123.15818786621094\n",
      "[  1.40684959e+11   5.52124495e+00]\n",
      "model calc = 0.006525516510009766s, lnlike calc = 6.151199340820312e-05\n",
      "lnp = 123.15818786621094, lnp_spec = 0.0, lnp_phot = 123.15818786621094\n",
      "[  1.40684277e+11   5.52123261e+00]\n",
      "model calc = 0.006685972213745117s, lnlike calc = 5.9604644775390625e-05\n",
      "lnp = 123.15818786621094, lnp_spec = 0.0, lnp_phot = 123.15818786621094\n",
      "[  1.40685145e+11   5.52124832e+00]\n",
      "model calc = 0.00678706169128418s, lnlike calc = 5.91278076171875e-05\n",
      "lnp = 123.15818786621094, lnp_spec = 0.0, lnp_phot = 123.15818786621094\n",
      "[  1.40683782e+11   5.52122364e+00]\n",
      "model calc = 0.006684541702270508s, lnlike calc = 5.8650970458984375e-05\n",
      "lnp = 123.15818786621094, lnp_spec = 0.0, lnp_phot = 123.15818786621094\n",
      "[  1.40684804e+11   5.52124215e+00]\n",
      "model calc = 0.006435871124267578s, lnlike calc = 6.341934204101562e-05\n",
      "lnp = 123.15818786621094, lnp_spec = 0.0, lnp_phot = 123.15818786621094\n",
      "[  1.40684464e+11   5.52123598e+00]\n",
      "model calc = 0.006464958190917969s, lnlike calc = 5.698204040527344e-05\n",
      "lnp = 123.15818786621094, lnp_spec = 0.0, lnp_phot = 123.15818786621094\n",
      "[  1.40684897e+11   5.52124384e+00]\n",
      "model calc = 0.0064847469329833984s, lnlike calc = 5.698204040527344e-05\n",
      "lnp = 123.15818786621094, lnp_spec = 0.0, lnp_phot = 123.15818786621094\n",
      "[  1.40684216e+11   5.52123150e+00]\n",
      "model calc = 0.006757974624633789s, lnlike calc = 5.984306335449219e-05\n",
      "lnp = 123.15818786621094, lnp_spec = 0.0, lnp_phot = 123.15818786621094\n",
      "[  1.40684727e+11   5.52124076e+00]\n",
      "model calc = 0.006682395935058594s, lnlike calc = 5.936622619628906e-05\n",
      "lnp = 123.15818786621094, lnp_spec = 0.0, lnp_phot = 123.15818786621094\n",
      "[  1.40684557e+11   5.52123767e+00]\n",
      "model calc = 0.006684541702270508s, lnlike calc = 5.936622619628906e-05\n",
      "lnp = 123.15818786621094, lnp_spec = 0.0, lnp_phot = 123.15818786621094\n",
      "[  1.40684774e+11   5.52124160e+00]\n",
      "model calc = 0.006436824798583984s, lnlike calc = 5.7220458984375e-05\n",
      "lnp = 123.15818786621094, lnp_spec = 0.0, lnp_phot = 123.15818786621094\n",
      "[  1.40684433e+11   5.52123543e+00]\n",
      "model calc = 0.006802082061767578s, lnlike calc = 5.91278076171875e-05\n",
      "lnp = 123.15818786621094, lnp_spec = 0.0, lnp_phot = 123.15818786621094\n",
      "[  1.40684688e+11   5.52124006e+00]\n",
      "model calc = 0.006436347961425781s, lnlike calc = 5.7220458984375e-05\n",
      "lnp = 123.15818786621094, lnp_spec = 0.0, lnp_phot = 123.15818786621094\n",
      "[  1.40684603e+11   5.52123852e+00]\n",
      "model calc = 0.0067484378814697266s, lnlike calc = 5.936622619628906e-05\n",
      "lnp = 123.15818786621094, lnp_spec = 0.0, lnp_phot = 123.15818786621094\n",
      "[  1.40684712e+11   5.52124048e+00]\n",
      "model calc = 0.0067713260650634766s, lnlike calc = 5.91278076171875e-05\n",
      "lnp = 123.15818786621094, lnp_spec = 0.0, lnp_phot = 123.15818786621094\n",
      "[  1.40684541e+11   5.52123739e+00]\n",
      "model calc = 0.006690502166748047s, lnlike calc = 5.9604644775390625e-05\n",
      "lnp = 123.15818786621094, lnp_spec = 0.0, lnp_phot = 123.15818786621094\n",
      "[  1.40684669e+11   5.52123971e+00]\n",
      "model calc = 0.0064373016357421875s, lnlike calc = 5.7220458984375e-05\n",
      "lnp = 123.15818786621094, lnp_spec = 0.0, lnp_phot = 123.15818786621094\n",
      "[  1.40684627e+11   5.52123894e+00]\n",
      "model calc = 0.0065000057220458984s, lnlike calc = 5.745887756347656e-05\n",
      "lnp = 123.15818786621094, lnp_spec = 0.0, lnp_phot = 123.15818786621094\n",
      "[  1.40684681e+11   5.52123992e+00]\n",
      "model calc = 0.006528615951538086s, lnlike calc = 5.7220458984375e-05\n",
      "lnp = 123.15818786621094, lnp_spec = 0.0, lnp_phot = 123.15818786621094\n",
      "[  1.40684596e+11   5.52123838e+00]\n",
      "model calc = 0.006768703460693359s, lnlike calc = 5.9604644775390625e-05\n",
      "lnp = 123.15818786621094, lnp_spec = 0.0, lnp_phot = 123.15818786621094\n",
      "[  1.40684659e+11   5.52123953e+00]\n",
      "model calc = 0.006701946258544922s, lnlike calc = 5.936622619628906e-05\n",
      "lnp = 123.15818786621094, lnp_spec = 0.0, lnp_phot = 123.15818786621094\n",
      "[  1.40684638e+11   5.52123915e+00]\n",
      "model calc = 0.0066680908203125s, lnlike calc = 5.91278076171875e-05\n",
      "lnp = 123.15818786621094, lnp_spec = 0.0, lnp_phot = 123.15818786621094\n",
      "[  1.40684665e+11   5.52123964e+00]\n",
      "model calc = 0.0074596405029296875s, lnlike calc = 5.9604644775390625e-05\n",
      "lnp = 123.15818786621094, lnp_spec = 0.0, lnp_phot = 123.15818786621094\n",
      "[  1.40684623e+11   5.52123887e+00]\n",
      "model calc = 0.006365060806274414s, lnlike calc = 5.6743621826171875e-05\n",
      "lnp = 123.15818786621094, lnp_spec = 0.0, lnp_phot = 123.15818786621094\n",
      "[  1.40684655e+11   5.52123945e+00]\n",
      "model calc = 0.00683283805847168s, lnlike calc = 5.9604644775390625e-05\n",
      "lnp = 123.15818786621094, lnp_spec = 0.0, lnp_phot = 123.15818786621094\n",
      "[  1.40684644e+11   5.52123925e+00]\n",
      "model calc = 0.006641864776611328s, lnlike calc = 6.175041198730469e-05\n",
      "lnp = 123.15818786621094, lnp_spec = 0.0, lnp_phot = 123.15818786621094\n",
      "[  1.40684658e+11   5.52123950e+00]\n",
      "model calc = 0.006649017333984375s, lnlike calc = 6.246566772460938e-05\n",
      "lnp = 123.15818786621094, lnp_spec = 0.0, lnp_phot = 123.15818786621094\n",
      "[  1.40684636e+11   5.52123911e+00]\n",
      "model calc = 0.006594181060791016s, lnlike calc = 5.91278076171875e-05\n",
      "lnp = 123.15818786621094, lnp_spec = 0.0, lnp_phot = 123.15818786621094\n",
      "[  1.40684652e+11   5.52123940e+00]\n",
      "model calc = 0.006348371505737305s, lnlike calc = 5.745887756347656e-05\n",
      "lnp = 123.15818786621094, lnp_spec = 0.0, lnp_phot = 123.15818786621094\n",
      "[  1.40684647e+11   5.52123931e+00]\n",
      "model calc = 0.006415843963623047s, lnlike calc = 5.650520324707031e-05\n",
      "lnp = 123.15818786621094, lnp_spec = 0.0, lnp_phot = 123.15818786621094\n",
      "[  1.40684654e+11   5.52123943e+00]\n",
      "model calc = 0.0065004825592041016s, lnlike calc = 5.7697296142578125e-05\n",
      "lnp = 123.15818786621094, lnp_spec = 0.0, lnp_phot = 123.15818786621094\n",
      "[  1.40684643e+11   5.52123924e+00]\n",
      "model calc = 0.006804943084716797s, lnlike calc = 5.936622619628906e-05\n",
      "lnp = 123.15818786621094, lnp_spec = 0.0, lnp_phot = 123.15818786621094\n",
      "[  1.40684651e+11   5.52123938e+00]\n",
      "model calc = 0.006681680679321289s, lnlike calc = 5.9604644775390625e-05\n",
      "lnp = 123.15818786621094, lnp_spec = 0.0, lnp_phot = 123.15818786621094\n",
      "[  1.40684648e+11   5.52123933e+00]\n",
      "model calc = 0.0066852569580078125s, lnlike calc = 5.888938903808594e-05\n",
      "lnp = 123.15818786621094, lnp_spec = 0.0, lnp_phot = 123.15818786621094\n",
      "[  1.40684652e+11   5.52123939e+00]\n",
      "model calc = 0.006425142288208008s, lnlike calc = 5.745887756347656e-05\n",
      "lnp = 123.15818786621094, lnp_spec = 0.0, lnp_phot = 123.15818786621094\n",
      "[  1.40684646e+11   5.52123930e+00]\n",
      "model calc = 0.006482839584350586s, lnlike calc = 5.7220458984375e-05\n",
      "lnp = 123.15818786621094, lnp_spec = 0.0, lnp_phot = 123.15818786621094\n",
      "[  1.40684650e+11   5.52123937e+00]\n",
      "model calc = 0.006734371185302734s, lnlike calc = 5.936622619628906e-05\n",
      "lnp = 123.15818786621094, lnp_spec = 0.0, lnp_phot = 123.15818786621094\n",
      "[  1.40684649e+11   5.52123935e+00]\n",
      "model calc = 0.006601095199584961s, lnlike calc = 5.936622619628906e-05\n",
      "lnp = 123.15818786621094, lnp_spec = 0.0, lnp_phot = 123.15818786621094\n",
      "[  1.40684651e+11   5.52123938e+00]\n",
      "model calc = 0.006675004959106445s, lnlike calc = 5.936622619628906e-05\n",
      "lnp = 123.15818786621094, lnp_spec = 0.0, lnp_phot = 123.15818786621094\n",
      "[  1.40684648e+11   5.52123933e+00]\n",
      "model calc = 0.006680727005004883s, lnlike calc = 5.91278076171875e-05\n",
      "lnp = 123.15818786621094, lnp_spec = 0.0, lnp_phot = 123.15818786621094\n",
      "[  1.40684650e+11   5.52123936e+00]\n",
      "model calc = 0.00640416145324707s, lnlike calc = 5.650520324707031e-05\n",
      "lnp = 123.15818786621094, lnp_spec = 0.0, lnp_phot = 123.15818786621094\n",
      "[  1.40684649e+11   5.52123935e+00]\n",
      "model calc = 0.006750583648681641s, lnlike calc = 5.91278076171875e-05\n",
      "lnp = 123.15818786621094, lnp_spec = 0.0, lnp_phot = 123.15818786621094\n",
      "[  1.40684650e+11   5.52123937e+00]\n",
      "model calc = 0.0063664913177490234s, lnlike calc = 5.650520324707031e-05\n",
      "lnp = 123.15818786621094, lnp_spec = 0.0, lnp_phot = 123.15818786621094\n",
      "[  1.40684649e+11   5.52123934e+00]\n",
      "model calc = 0.006753444671630859s, lnlike calc = 5.91278076171875e-05\n",
      "lnp = 123.15818786621094, lnp_spec = 0.0, lnp_phot = 123.15818786621094\n",
      "[  1.40684650e+11   5.52123936e+00]\n",
      "model calc = 0.006632804870605469s, lnlike calc = 6.198883056640625e-05\n",
      "lnp = 123.15818786621094, lnp_spec = 0.0, lnp_phot = 123.15818786621094\n",
      "[  1.40684650e+11   5.52123936e+00]\n",
      "model calc = 0.006644248962402344s, lnlike calc = 6.222724914550781e-05\n",
      "lnp = 123.15818786621094, lnp_spec = 0.0, lnp_phot = 123.15818786621094\n",
      "[  1.40684650e+11   5.52123936e+00]\n",
      "model calc = 0.006437063217163086s, lnlike calc = 5.984306335449219e-05\n",
      "lnp = 123.15818786621094, lnp_spec = 0.0, lnp_phot = 123.15818786621094\n",
      "[  1.40684649e+11   5.52123935e+00]\n",
      "model calc = 0.00643157958984375s, lnlike calc = 5.6743621826171875e-05\n",
      "lnp = 123.15818786621094, lnp_spec = 0.0, lnp_phot = 123.15818786621094\n"
     ]
    },
    {
     "name": "stdout",
     "output_type": "stream",
     "text": [
      "[  1.40684650e+11   5.52123936e+00]\n",
      "model calc = 0.0070688724517822266s, lnlike calc = 6.818771362304688e-05\n",
      "lnp = 123.15818786621094, lnp_spec = 0.0, lnp_phot = 123.15818786621094\n",
      "[  1.40684650e+11   5.52123936e+00]\n",
      "model calc = 0.0069026947021484375s, lnlike calc = 5.984306335449219e-05\n",
      "lnp = 123.15818786621094, lnp_spec = 0.0, lnp_phot = 123.15818786621094\n",
      "[  1.40684650e+11   5.52123936e+00]\n",
      "model calc = 0.00667572021484375s, lnlike calc = 6.580352783203125e-05\n",
      "lnp = 123.15818786621094, lnp_spec = 0.0, lnp_phot = 123.15818786621094\n",
      "[  1.40684650e+11   5.52123935e+00]\n",
      "model calc = 0.006677865982055664s, lnlike calc = 5.888938903808594e-05\n",
      "lnp = 123.15818786621094, lnp_spec = 0.0, lnp_phot = 123.15818786621094\n",
      "[  1.40684650e+11   5.52123936e+00]\n",
      "model calc = 0.006424903869628906s, lnlike calc = 5.91278076171875e-05\n",
      "lnp = 123.15818786621094, lnp_spec = 0.0, lnp_phot = 123.15818786621094\n",
      "[  1.40684650e+11   5.52123936e+00]\n",
      "model calc = 0.00639033317565918s, lnlike calc = 6.628036499023438e-05\n",
      "lnp = 123.15818786621094, lnp_spec = 0.0, lnp_phot = 123.15818786621094\n",
      "[  1.40684650e+11   5.52123936e+00]\n",
      "model calc = 0.006379842758178711s, lnlike calc = 5.936622619628906e-05\n",
      "lnp = 123.15818786621094, lnp_spec = 0.0, lnp_phot = 123.15818786621094\n",
      "[  1.40684650e+11   5.52123936e+00]\n",
      "model calc = 0.0066106319427490234s, lnlike calc = 5.9604644775390625e-05\n",
      "lnp = 123.15818786621094, lnp_spec = 0.0, lnp_phot = 123.15818786621094\n",
      "[  1.40684650e+11   5.52123936e+00]\n",
      "model calc = 0.006644725799560547s, lnlike calc = 6.198883056640625e-05\n",
      "lnp = 123.15818786621094, lnp_spec = 0.0, lnp_phot = 123.15818786621094\n",
      "[  1.40684650e+11   5.52123936e+00]\n",
      "model calc = 0.00664830207824707s, lnlike calc = 6.175041198730469e-05\n",
      "lnp = 123.15818786621094, lnp_spec = 0.0, lnp_phot = 123.15818786621094\n",
      "[  1.40684650e+11   5.52123936e+00]\n",
      "model calc = 0.006432771682739258s, lnlike calc = 5.8650970458984375e-05\n",
      "lnp = 123.15818786621094, lnp_spec = 0.0, lnp_phot = 123.15818786621094\n",
      "[  1.40684650e+11   5.52123936e+00]\n",
      "model calc = 0.00660395622253418s, lnlike calc = 5.888938903808594e-05\n",
      "lnp = 123.15818786621094, lnp_spec = 0.0, lnp_phot = 123.15818786621094\n",
      "[  1.40684650e+11   5.52123936e+00]\n",
      "model calc = 0.006644010543823242s, lnlike calc = 6.127357482910156e-05\n",
      "lnp = 123.15818786621094, lnp_spec = 0.0, lnp_phot = 123.15818786621094\n",
      "[  1.40684650e+11   5.52123936e+00]\n",
      "model calc = 0.0066301822662353516s, lnlike calc = 6.175041198730469e-05\n",
      "lnp = 123.15818786621094, lnp_spec = 0.0, lnp_phot = 123.15818786621094\n",
      "[  1.40684650e+11   5.52123936e+00]\n",
      "model calc = 0.0066263675689697266s, lnlike calc = 6.079673767089844e-05\n",
      "lnp = 123.15818786621094, lnp_spec = 0.0, lnp_phot = 123.15818786621094\n",
      "[  1.40684650e+11   5.52123936e+00]\n",
      "model calc = 0.0066070556640625s, lnlike calc = 5.91278076171875e-05\n",
      "lnp = 123.15818786621094, lnp_spec = 0.0, lnp_phot = 123.15818786621094\n",
      "[  1.40684650e+11   5.52123936e+00]\n",
      "model calc = 0.006695747375488281s, lnlike calc = 6.127357482910156e-05\n",
      "lnp = 123.15818786621094, lnp_spec = 0.0, lnp_phot = 123.15818786621094\n",
      "[  1.40684650e+11   5.52123936e+00]\n",
      "model calc = 0.0066547393798828125s, lnlike calc = 6.151199340820312e-05\n",
      "lnp = 123.15818786621094, lnp_spec = 0.0, lnp_phot = 123.15818786621094\n",
      "[  1.40684650e+11   5.52123936e+00]\n",
      "model calc = 0.006636619567871094s, lnlike calc = 7.033348083496094e-05\n",
      "lnp = 123.15818786621094, lnp_spec = 0.0, lnp_phot = 123.15818786621094\n",
      "[  1.40684650e+11   5.52123936e+00]\n",
      "model calc = 0.006561279296875s, lnlike calc = 5.936622619628906e-05\n",
      "lnp = 123.15818786621094, lnp_spec = 0.0, lnp_phot = 123.15818786621094\n",
      "[  1.40684650e+11   5.52123936e+00]\n",
      "model calc = 0.00664973258972168s, lnlike calc = 6.175041198730469e-05\n",
      "lnp = 123.15818786621094, lnp_spec = 0.0, lnp_phot = 123.15818786621094\n",
      "[  1.40684650e+11   5.52123936e+00]\n",
      "model calc = 0.006638288497924805s, lnlike calc = 6.079673767089844e-05\n",
      "lnp = 123.15818786621094, lnp_spec = 0.0, lnp_phot = 123.15818786621094\n",
      "[  1.40684650e+11   5.52123936e+00]\n",
      "model calc = 0.0066432952880859375s, lnlike calc = 6.151199340820312e-05\n",
      "lnp = 123.15818786621094, lnp_spec = 0.0, lnp_phot = 123.15818786621094\n",
      "[  1.40684650e+11   5.52123936e+00]\n",
      "model calc = 0.00664973258972168s, lnlike calc = 6.198883056640625e-05\n",
      "lnp = 123.15818786621094, lnp_spec = 0.0, lnp_phot = 123.15818786621094\n",
      "[  1.40684650e+11   5.52123936e+00]\n",
      "model calc = 0.006633281707763672s, lnlike calc = 6.127357482910156e-05\n",
      "lnp = 123.15818786621094, lnp_spec = 0.0, lnp_phot = 123.15818786621094\n",
      "[  1.40684650e+11   5.52123936e+00]\n",
      "model calc = 0.006667137145996094s, lnlike calc = 5.817413330078125e-05\n",
      "lnp = 123.15818786621094, lnp_spec = 0.0, lnp_phot = 123.15818786621094\n",
      "[  1.40684650e+11   5.52123936e+00]\n",
      "model calc = 0.007452726364135742s, lnlike calc = 6.246566772460938e-05\n",
      "lnp = 123.15818786621094, lnp_spec = 0.0, lnp_phot = 123.15818786621094\n",
      "[  1.40684650e+11   5.52123936e+00]\n",
      "model calc = 0.006609201431274414s, lnlike calc = 5.888938903808594e-05\n",
      "lnp = 123.15818786621094, lnp_spec = 0.0, lnp_phot = 123.15818786621094\n",
      "[  1.40684650e+11   5.52123936e+00]\n",
      "model calc = 0.006375789642333984s, lnlike calc = 5.91278076171875e-05\n",
      "lnp = 123.15818786621094, lnp_spec = 0.0, lnp_phot = 123.15818786621094\n",
      "[  1.40684650e+11   5.52123936e+00]\n",
      "model calc = 0.006389617919921875s, lnlike calc = 5.91278076171875e-05\n",
      "lnp = 123.15818786621094, lnp_spec = 0.0, lnp_phot = 123.15818786621094\n",
      "[  1.40684650e+11   5.52123936e+00]\n",
      "model calc = 0.006417751312255859s, lnlike calc = 5.8650970458984375e-05\n",
      "lnp = 123.15818786621094, lnp_spec = 0.0, lnp_phot = 123.15818786621094\n",
      "[  1.40684650e+11   5.52123936e+00]\n",
      "model calc = 0.00660395622253418s, lnlike calc = 5.9604644775390625e-05\n",
      "lnp = 123.15818786621094, lnp_spec = 0.0, lnp_phot = 123.15818786621094\n",
      "[  1.40684650e+11   5.52123936e+00]\n",
      "model calc = 0.0066301822662353516s, lnlike calc = 6.151199340820312e-05\n",
      "lnp = 123.15818786621094, lnp_spec = 0.0, lnp_phot = 123.15818786621094\n",
      "[  1.40684650e+11   5.52123936e+00]\n",
      "model calc = 0.006559133529663086s, lnlike calc = 5.9604644775390625e-05\n",
      "lnp = 123.15818786621094, lnp_spec = 0.0, lnp_phot = 123.15818786621094\n",
      "[  1.40684650e+11   5.52123936e+00]\n",
      "model calc = 0.0064182281494140625s, lnlike calc = 5.9604644775390625e-05\n",
      "lnp = 123.15818786621094, lnp_spec = 0.0, lnp_phot = 123.15818786621094\n",
      "[  1.40684650e+11   5.52123936e+00]\n",
      "model calc = 0.006220579147338867s, lnlike calc = 5.6743621826171875e-05\n",
      "lnp = 123.15818786621094, lnp_spec = 0.0, lnp_phot = 123.15818786621094\n",
      "[  1.40684650e+11   5.52123936e+00]\n",
      "model calc = 0.006461381912231445s, lnlike calc = 5.888938903808594e-05\n",
      "lnp = 123.15818786621094, lnp_spec = 0.0, lnp_phot = 123.15818786621094\n",
      "[  1.40684650e+11   5.52123936e+00]\n",
      "model calc = 0.006632566452026367s, lnlike calc = 6.127357482910156e-05\n",
      "lnp = 123.15818786621094, lnp_spec = 0.0, lnp_phot = 123.15818786621094\n",
      "[  1.40684650e+11   5.52123936e+00]\n",
      "model calc = 0.0066394805908203125s, lnlike calc = 6.198883056640625e-05\n",
      "lnp = 123.15818786621094, lnp_spec = 0.0, lnp_phot = 123.15818786621094\n",
      "[  1.40684650e+11   5.52123936e+00]\n",
      "model calc = 0.006599903106689453s, lnlike calc = 6.031990051269531e-05\n",
      "lnp = 123.15818786621094, lnp_spec = 0.0, lnp_phot = 123.15818786621094\n",
      "[  1.40684650e+11   5.52123936e+00]\n",
      "model calc = 0.006381511688232422s, lnlike calc = 5.936622619628906e-05\n",
      "lnp = 123.15818786621094, lnp_spec = 0.0, lnp_phot = 123.15818786621094\n",
      "[  1.40684650e+11   5.52123936e+00]\n",
      "model calc = 0.006422281265258789s, lnlike calc = 6.008148193359375e-05\n",
      "lnp = 123.15818786621094, lnp_spec = 0.0, lnp_phot = 123.15818786621094\n",
      "[  1.40684650e+11   5.52123936e+00]\n",
      "model calc = 0.006385087966918945s, lnlike calc = 5.888938903808594e-05\n",
      "lnp = 123.15818786621094, lnp_spec = 0.0, lnp_phot = 123.15818786621094\n",
      "[  1.40684650e+11   5.52123936e+00]\n",
      "model calc = 0.006601572036743164s, lnlike calc = 5.888938903808594e-05\n",
      "lnp = 123.15818786621094, lnp_spec = 0.0, lnp_phot = 123.15818786621094\n",
      "[  1.40684650e+11   5.52123936e+00]\n",
      "model calc = 0.006681680679321289s, lnlike calc = 5.888938903808594e-05\n",
      "lnp = 123.15818786621094, lnp_spec = 0.0, lnp_phot = 123.15818786621094\n",
      "[  1.40684650e+11   5.52123936e+00]\n",
      "model calc = 0.0065000057220458984s, lnlike calc = 5.6743621826171875e-05\n",
      "lnp = 123.15818786621094, lnp_spec = 0.0, lnp_phot = 123.15818786621094\n",
      "[  1.40684650e+11   5.52123936e+00]\n",
      "model calc = 0.00655055046081543s, lnlike calc = 5.7220458984375e-05\n",
      "lnp = 123.15818786621094, lnp_spec = 0.0, lnp_phot = 123.15818786621094\n",
      "[  1.40684650e+11   5.52123936e+00]\n",
      "model calc = 0.0064585208892822266s, lnlike calc = 5.6743621826171875e-05\n",
      "lnp = 123.15818786621094, lnp_spec = 0.0, lnp_phot = 123.15818786621094\n",
      "[  1.40684650e+11   5.52123936e+00]\n",
      "model calc = 0.006494760513305664s, lnlike calc = 5.6743621826171875e-05\n",
      "lnp = 123.15818786621094, lnp_spec = 0.0, lnp_phot = 123.15818786621094\n",
      "[  1.40684650e+11   5.52123936e+00]\n",
      "model calc = 0.00672459602355957s, lnlike calc = 5.936622619628906e-05\n",
      "lnp = 123.15818786621094, lnp_spec = 0.0, lnp_phot = 123.15818786621094\n",
      "[  1.40684650e+11   5.52123936e+00]\n",
      "model calc = 0.0066907405853271484s, lnlike calc = 5.91278076171875e-05\n",
      "lnp = 123.15818786621094, lnp_spec = 0.0, lnp_phot = 123.15818786621094\n",
      "[  1.40684650e+11   5.52123936e+00]\n",
      "model calc = 0.006679058074951172s, lnlike calc = 5.9604644775390625e-05\n",
      "lnp = 123.15818786621094, lnp_spec = 0.0, lnp_phot = 123.15818786621094\n",
      "[  1.40684650e+11   5.52123936e+00]\n",
      "model calc = 0.006475687026977539s, lnlike calc = 5.91278076171875e-05\n",
      "lnp = 123.15818786621094, lnp_spec = 0.0, lnp_phot = 123.15818786621094\n"
     ]
    },
    {
     "name": "stdout",
     "output_type": "stream",
     "text": [
      "[  1.40684650e+11   5.52123936e+00]\n",
      "model calc = 0.0070934295654296875s, lnlike calc = 6.175041198730469e-05\n",
      "lnp = 123.15818786621094, lnp_spec = 0.0, lnp_phot = 123.15818786621094\n",
      "[  1.40684650e+11   5.52123936e+00]\n",
      "model calc = 0.006494045257568359s, lnlike calc = 5.888938903808594e-05\n",
      "lnp = 123.15818786621094, lnp_spec = 0.0, lnp_phot = 123.15818786621094\n",
      "[  1.40684650e+11   5.52123936e+00]\n",
      "model calc = 0.006598949432373047s, lnlike calc = 5.888938903808594e-05\n",
      "lnp = 123.15818786621094, lnp_spec = 0.0, lnp_phot = 123.15818786621094\n",
      "[  1.40684650e+11   5.52123936e+00]\n",
      "model calc = 0.0066950321197509766s, lnlike calc = 5.841255187988281e-05\n",
      "lnp = 123.15818786621094, lnp_spec = 0.0, lnp_phot = 123.15818786621094\n",
      "[  1.40684650e+11   5.52123936e+00]\n",
      "model calc = 0.006481647491455078s, lnlike calc = 5.745887756347656e-05\n",
      "lnp = 123.15818786621094, lnp_spec = 0.0, lnp_phot = 123.15818786621094\n",
      "[  1.40684650e+11   5.52123936e+00]\n",
      "model calc = 0.0064966678619384766s, lnlike calc = 5.698204040527344e-05\n",
      "lnp = 123.15818786621094, lnp_spec = 0.0, lnp_phot = 123.15818786621094\n",
      "[  1.40684650e+11   5.52123936e+00]\n",
      "model calc = 0.006429910659790039s, lnlike calc = 5.698204040527344e-05\n",
      "lnp = 123.15818786621094, lnp_spec = 0.0, lnp_phot = 123.15818786621094\n",
      "[  1.40684650e+11   5.52123936e+00]\n",
      "model calc = 0.006541013717651367s, lnlike calc = 5.6743621826171875e-05\n",
      "lnp = 123.15818786621094, lnp_spec = 0.0, lnp_phot = 123.15818786621094\n",
      "[  1.40684650e+11   5.52123936e+00]\n",
      "model calc = 0.00668025016784668s, lnlike calc = 5.91278076171875e-05\n",
      "lnp = 123.15818786621094, lnp_spec = 0.0, lnp_phot = 123.15818786621094\n",
      "[  1.40684650e+11   5.52123936e+00]\n",
      "model calc = 0.006686687469482422s, lnlike calc = 5.888938903808594e-05\n",
      "lnp = 123.15818786621094, lnp_spec = 0.0, lnp_phot = 123.15818786621094\n",
      "[  1.40684650e+11   5.52123936e+00]\n",
      "model calc = 0.006498575210571289s, lnlike calc = 5.698204040527344e-05\n",
      "lnp = 123.15818786621094, lnp_spec = 0.0, lnp_phot = 123.15818786621094\n",
      "[  1.40684650e+11   5.52123936e+00]\n",
      "model calc = 0.0064318180084228516s, lnlike calc = 5.91278076171875e-05\n",
      "lnp = 123.15818786621094, lnp_spec = 0.0, lnp_phot = 123.15818786621094\n",
      "[  1.40684650e+11   5.52123936e+00]\n",
      "model calc = 0.006396770477294922s, lnlike calc = 5.936622619628906e-05\n",
      "lnp = 123.15818786621094, lnp_spec = 0.0, lnp_phot = 123.15818786621094\n",
      "[  1.40684650e+11   5.52123936e+00]\n",
      "model calc = 0.006449699401855469s, lnlike calc = 5.888938903808594e-05\n",
      "lnp = 123.15818786621094, lnp_spec = 0.0, lnp_phot = 123.15818786621094\n",
      "[  1.40684650e+11   5.52123936e+00]\n",
      "model calc = 0.00661015510559082s, lnlike calc = 5.888938903808594e-05\n",
      "lnp = 123.15818786621094, lnp_spec = 0.0, lnp_phot = 123.15818786621094\n",
      "[  1.40684650e+11   5.52123936e+00]\n",
      "model calc = 0.006692409515380859s, lnlike calc = 5.841255187988281e-05\n",
      "lnp = 123.15818786621094, lnp_spec = 0.0, lnp_phot = 123.15818786621094\n",
      "[  1.40684650e+11   5.52123936e+00]\n",
      "model calc = 0.006491184234619141s, lnlike calc = 6.246566772460938e-05\n",
      "lnp = 123.15818786621094, lnp_spec = 0.0, lnp_phot = 123.15818786621094\n",
      "[  1.40684650e+11   5.52123936e+00]\n",
      "model calc = 0.006506204605102539s, lnlike calc = 5.6743621826171875e-05\n",
      "lnp = 123.15818786621094, lnp_spec = 0.0, lnp_phot = 123.15818786621094\n",
      "[  1.40684650e+11   5.52123936e+00]\n",
      "model calc = 0.006422519683837891s, lnlike calc = 5.626678466796875e-05\n",
      "lnp = 123.15818786621094, lnp_spec = 0.0, lnp_phot = 123.15818786621094\n",
      "[  1.40684650e+11   5.52123936e+00]\n",
      "model calc = 0.006491661071777344s, lnlike calc = 5.698204040527344e-05\n",
      "lnp = 123.15818786621094, lnp_spec = 0.0, lnp_phot = 123.15818786621094\n",
      "[  1.40684650e+11   5.52123936e+00]\n",
      "model calc = 0.0067462921142578125s, lnlike calc = 5.936622619628906e-05\n",
      "lnp = 123.15818786621094, lnp_spec = 0.0, lnp_phot = 123.15818786621094\n",
      "[  1.40684650e+11   5.52123936e+00]\n",
      "model calc = 0.006715059280395508s, lnlike calc = 5.91278076171875e-05\n",
      "lnp = 123.15818786621094, lnp_spec = 0.0, lnp_phot = 123.15818786621094\n",
      "[  1.40684650e+11   5.52123936e+00]\n",
      "model calc = 0.006496906280517578s, lnlike calc = 5.745887756347656e-05\n",
      "lnp = 123.15818786621094, lnp_spec = 0.0, lnp_phot = 123.15818786621094\n",
      "[  1.40684650e+11   5.52123936e+00]\n",
      "model calc = 0.006505489349365234s, lnlike calc = 5.7220458984375e-05\n",
      "lnp = 123.15818786621094, lnp_spec = 0.0, lnp_phot = 123.15818786621094\n",
      "[  1.40684650e+11   5.52123936e+00]\n",
      "model calc = 0.00649714469909668s, lnlike calc = 5.650520324707031e-05\n",
      "lnp = 123.15818786621094, lnp_spec = 0.0, lnp_phot = 123.15818786621094\n",
      "[  1.40684650e+11   5.52123936e+00]\n",
      "model calc = 0.006420612335205078s, lnlike calc = 5.7220458984375e-05\n",
      "lnp = 123.15818786621094, lnp_spec = 0.0, lnp_phot = 123.15818786621094\n",
      "[  1.40684650e+11   5.52123936e+00]\n",
      "model calc = 0.006696224212646484s, lnlike calc = 5.888938903808594e-05\n",
      "lnp = 123.15818786621094, lnp_spec = 0.0, lnp_phot = 123.15818786621094\n",
      "[  1.40684650e+11   5.52123936e+00]\n",
      "model calc = 0.007253170013427734s, lnlike calc = 6.866455078125e-05\n",
      "lnp = 123.15818786621094, lnp_spec = 0.0, lnp_phot = 123.15818786621094\n",
      "[  1.40684650e+11   5.52123936e+00]\n",
      "model calc = 0.006424427032470703s, lnlike calc = 5.888938903808594e-05\n",
      "lnp = 123.15818786621094, lnp_spec = 0.0, lnp_phot = 123.15818786621094\n",
      "[  1.40684650e+11   5.52123936e+00]\n",
      "model calc = 0.006435394287109375s, lnlike calc = 5.936622619628906e-05\n",
      "lnp = 123.15818786621094, lnp_spec = 0.0, lnp_phot = 123.15818786621094\n",
      "[  1.40684650e+11   5.52123936e+00]\n",
      "model calc = 0.006561756134033203s, lnlike calc = 6.127357482910156e-05\n",
      "lnp = 123.15818786621094, lnp_spec = 0.0, lnp_phot = 123.15818786621094\n",
      "[  1.40684650e+11   5.52123936e+00]\n",
      "model calc = 0.0065042972564697266s, lnlike calc = 5.698204040527344e-05\n",
      "lnp = 123.15818786621094, lnp_spec = 0.0, lnp_phot = 123.15818786621094\n",
      "[  1.40684650e+11   5.52123936e+00]\n",
      "model calc = 0.006750822067260742s, lnlike calc = 5.91278076171875e-05\n",
      "lnp = 123.15818786621094, lnp_spec = 0.0, lnp_phot = 123.15818786621094\n",
      "[  1.40684650e+11   5.52123936e+00]\n",
      "model calc = 0.0066814422607421875s, lnlike calc = 5.936622619628906e-05\n",
      "lnp = 123.15818786621094, lnp_spec = 0.0, lnp_phot = 123.15818786621094\n",
      "done Nelder-Mead in 1.8891675472259521s\n",
      "best Nelder-Mead guess: [  1.40684650e+11   5.52123936e+00]\n",
      "best Nelder-Mead lnp: 123.15818786621094\n"
     ]
    }
   ],
   "source": [
    "def chisqfn(theta):\n",
    "    \"\"\"Negative of lnprobfn for minimization, and also handles passing in\n",
    "    keyword arguments which can only be postional arguments when using scipy\n",
    "    minimize.\n",
    "    \"\"\"\n",
    "    return -lnprobfn(theta)\n",
    "\n",
    "verbose=False # don't output function calls\n",
    "\n",
    "# start minimization\n",
    "min_method = 'Nelder-Mead'\n",
    "ts = time.time()\n",
    "min_results = minimize(chisqfn, initial_theta, method=min_method)\n",
    "pdur = time.time() - ts\n",
    "\n",
    "# reinitialize fit\n",
    "initial_center = fitting.reinitialize(min_results.x, model, edge_trunc=run_params.get('edge_trunc', 0.1))\n",
    "initial_prob = -1 * min_results['fun']\n",
    "\n",
    "# output results\n",
    "print('done {0} in {1}s'.format(min_method,pdur))\n",
    "print('best {0} guess: {1}'.format(min_method,initial_center))\n",
    "print('best {0} lnp: {1}'.format(min_method,initial_prob))"
   ]
  },
  {
   "cell_type": "code",
   "execution_count": 75,
   "metadata": {},
   "outputs": [
    {
     "data": {
      "image/png": "[encoded data removed]",
      "text/plain": [
       "<matplotlib.figure.Figure at 0x7f808fcd40f0>"
      ]
     },
     "metadata": {},
     "output_type": "display_data"
    }
   ],
   "source": [
    "# Check that we got closer!\n",
    "mspec_init, mphot_init, mextra_init = model.mean_model(min_results.x, obs, sps=sps) # generate model\n",
    "\n",
    "# plotting \n",
    "figure(figsize=(16,8))\n",
    "loglog(wspec, mspec_init, lw=0.7, color='navy', alpha=0.7, label='Model spectrum')\n",
    "errorbar(wphot, mphot_init, marker='s', ls='', lw=3, markersize=10,\n",
    "         markerfacecolor='none', markeredgecolor='blue', markeredgewidth=3, alpha=0.8, label='Model photometry')\n",
    "errorbar(wphot, obs['maggies'], yerr=obs['maggies_unc'], ecolor='red', marker='o', ls='', lw=3, markersize=10, \n",
    "         markerfacecolor='none', markeredgecolor='red', markeredgewidth=3, alpha=0.8, label='Observed photometry')\n",
    "\n",
    "xlabel('Wavelength [A]')\n",
    "ylabel('Flux Density [maggies]')\n",
    "xlim([xmin, xmax])\n",
    "ylim([ymin, ymax*10])\n",
    "legend(loc='best', fontsize=20)\n",
    "tight_layout()"
   ]
  },
  {
   "cell_type": "markdown",
   "metadata": {},
   "source": [
    "### Sampling the Posterior"
   ]
  },
  {
   "cell_type": "code",
   "execution_count": 76,
   "metadata": {},
   "outputs": [
    {
     "name": "stdout",
     "output_type": "stream",
     "text": [
      "done emcee in 14.550545930862427s\n"
     ]
    }
   ],
   "source": [
    "postkwargs = {}\n",
    "\n",
    "fout = sys.stdout\n",
    "fnull = open(os.devnull, 'w')\n",
    "sys.stdout = fnull\n",
    "\n",
    "tstart = time.time()\n",
    "#out = fitting.run_emcee_sampler(lnprobfn, initial_center, model,\n",
    "#                                postkwargs=postkwargs, initial_prob=initial_prob,\n",
    "#                                pool=pool, hdf5=hfile, **run_params)\n",
    "#esampler, burn_p0, burn_prob0 = out\n",
    "\n",
    "esampler, burn_p0, burn_prob0 = fitting.run_emcee_sampler(lnprobfn, initial_center, model,\n",
    "                                postkwargs=postkwargs, initial_prob=initial_prob,\n",
    "                                pool=pool, hdf5=hfile, **run_params)\n",
    "#esampler, burn_p0, burn_prob0 = out\n",
    "\n",
    "edur = time.time() - tstart\n",
    "\n",
    "sys.stdout = fout\n",
    "\n",
    "print('done emcee in {0}s'.format(edur))"
   ]
  },
  {
   "cell_type": "code",
   "execution_count": 77,
   "metadata": {},
   "outputs": [
    {
     "name": "stdout",
     "output_type": "stream",
     "text": [
      "[  1.40684650e+11   5.52123936e+00]\n",
      "123.158187866\n"
     ]
    }
   ],
   "source": [
    "print(initial_center)\n",
    "print(initial_prob)"
   ]
  },
  {
   "cell_type": "code",
   "execution_count": 78,
   "metadata": {
    "scrolled": true
   },
   "outputs": [
    {
     "ename": "IndexError",
     "evalue": "index 49 is out of bounds for axis 1 with size 0",
     "output_type": "error",
     "traceback": [
      "\u001b[0;31m---------------------------------------------------------------------------\u001b[0m",
      "\u001b[0;31mIndexError\u001b[0m                                Traceback (most recent call last)",
      "\u001b[0;32m<ipython-input-78-175e38124262>\u001b[0m in \u001b[0;36m<module>\u001b[0;34m()\u001b[0m\n\u001b[1;32m      1\u001b[0m \u001b[0;31m# Pick a random walker at the end!\u001b[0m\u001b[0;34m\u001b[0m\u001b[0;34m\u001b[0m\u001b[0m\n\u001b[0;32m----> 2\u001b[0;31m \u001b[0mtheta\u001b[0m \u001b[0;34m=\u001b[0m \u001b[0mesampler\u001b[0m\u001b[0;34m.\u001b[0m\u001b[0mchain\u001b[0m\u001b[0;34m[\u001b[0m\u001b[0;36m5\u001b[0m\u001b[0;34m,\u001b[0m \u001b[0mrun_params\u001b[0m\u001b[0;34m[\u001b[0m\u001b[0;34m'niter'\u001b[0m\u001b[0;34m]\u001b[0m\u001b[0;34m-\u001b[0m\u001b[0;36m1\u001b[0m\u001b[0;34m,\u001b[0m \u001b[0;34m:\u001b[0m\u001b[0;34m]\u001b[0m\u001b[0;34m\u001b[0m\u001b[0m\n\u001b[0m\u001b[1;32m      3\u001b[0m \u001b[0;31m#theta = esampler.chain[5, 100, :]\u001b[0m\u001b[0;34m\u001b[0m\u001b[0;34m\u001b[0m\u001b[0m\n\u001b[1;32m      4\u001b[0m \u001b[0mprint\u001b[0m\u001b[0;34m(\u001b[0m\u001b[0mtheta\u001b[0m\u001b[0;34m)\u001b[0m\u001b[0;34m\u001b[0m\u001b[0m\n\u001b[1;32m      5\u001b[0m \u001b[0;34m\u001b[0m\u001b[0m\n",
      "\u001b[0;31mIndexError\u001b[0m: index 49 is out of bounds for axis 1 with size 0"
     ]
    }
   ],
   "source": [
    "# Pick a random walker at the end!\n",
    "theta = esampler.chain[5, run_params['niter']-1, :]\n",
    "#theta = esampler.chain[5, 100, :]\n",
    "print(theta)\n",
    "\n",
    "mspec_init, mphot_init, mextra_init = model.mean_model(theta, obs, sps=sps) # generate model"
   ]
  },
  {
   "cell_type": "code",
   "execution_count": 35,
   "metadata": {},
   "outputs": [
    {
     "data": {
      "text/plain": [
       "(10, 0, 2)"
      ]
     },
     "execution_count": 35,
     "metadata": {},
     "output_type": "execute_result"
    }
   ],
   "source": [
    "esampler.chain.shape"
   ]
  },
  {
   "cell_type": "code",
   "execution_count": 36,
   "metadata": {},
   "outputs": [
    {
     "data": {
      "image/png": "[encoded data removed]",
      "text/plain": [
       "<matplotlib.figure.Figure at 0x7f808fc09080>"
      ]
     },
     "metadata": {},
     "output_type": "display_data"
    }
   ],
   "source": [
    "# plotting \n",
    "figure(figsize=(16,8))\n",
    "loglog(wspec, mspec_init, lw=0.7, color='navy', alpha=0.7, label='Model spectrum')\n",
    "errorbar(wphot, mphot_init, marker='s', ls='', lw=3, markersize=10,\n",
    "         markerfacecolor='none', markeredgecolor='blue', markeredgewidth=3, alpha=0.8, label='Model photometry')\n",
    "errorbar(wphot, obs['maggies'], yerr=obs['maggies_unc'], ecolor='red', marker='o', ls='', lw=3, markersize=10, \n",
    "         markerfacecolor='none', markeredgecolor='red', markeredgewidth=3, alpha=0.8, label='Observed photometry')\n",
    "\n",
    "xlabel('Wavelength [A]')\n",
    "ylabel('Flux Density [maggies]')\n",
    "xlim([xmin, xmax])\n",
    "ylim([ymin, ymax])\n",
    "legend(loc='best', fontsize=20)\n",
    "tight_layout()\n"
   ]
  },
  {
   "cell_type": "code",
   "execution_count": 34,
   "metadata": {},
   "outputs": [
    {
     "ename": "TypeError",
     "evalue": "expected str, bytes or os.PathLike object, not File",
     "output_type": "error",
     "traceback": [
      "\u001b[0;31m---------------------------------------------------------------------------\u001b[0m",
      "\u001b[0;31mTypeError\u001b[0m                                 Traceback (most recent call last)",
      "\u001b[0;32m<ipython-input-34-70fdf2d096d9>\u001b[0m in \u001b[0;36m<module>\u001b[0;34m()\u001b[0m\n\u001b[1;32m     12\u001b[0m                          \u001b[0msampling_initial_center\u001b[0m\u001b[0;34m=\u001b[0m\u001b[0minitial_center\u001b[0m\u001b[0;34m,\u001b[0m\u001b[0;34m\u001b[0m\u001b[0m\n\u001b[1;32m     13\u001b[0m                          \u001b[0mpost_burnin_center\u001b[0m\u001b[0;34m=\u001b[0m\u001b[0mburn_p0\u001b[0m\u001b[0;34m,\u001b[0m\u001b[0;34m\u001b[0m\u001b[0m\n\u001b[0;32m---> 14\u001b[0;31m                          post_burnin_prob=burn_prob0)\n\u001b[0m\u001b[1;32m     15\u001b[0m \u001b[0;34m\u001b[0m\u001b[0m\n\u001b[1;32m     16\u001b[0m \u001b[0mhalt\u001b[0m\u001b[0;34m(\u001b[0m\u001b[0;34m'Finished'\u001b[0m\u001b[0;34m)\u001b[0m\u001b[0;34m\u001b[0m\u001b[0m\n",
      "\u001b[0;32m/usr/local/anaconda3/envs/py35/lib/python3.6/site-packages/prospect-e48ef60-py3.6.egg/prospect/io/write_results.py\u001b[0m in \u001b[0;36mwrite_hdf5\u001b[0;34m(hfile, run_params, model, obs, sampler, powell_results, tsample, toptimize, sampling_initial_center, **extras)\u001b[0m\n\u001b[1;32m    139\u001b[0m     \u001b[0;32mtry\u001b[0m\u001b[0;34m:\u001b[0m\u001b[0;34m\u001b[0m\u001b[0m\n\u001b[1;32m    140\u001b[0m         \u001b[0;31m# If ``hfile`` is not a file object, assume it is a filename and open\u001b[0m\u001b[0;34m\u001b[0m\u001b[0;34m\u001b[0m\u001b[0m\n\u001b[0;32m--> 141\u001b[0;31m         \u001b[0mhf\u001b[0m \u001b[0;34m=\u001b[0m \u001b[0mh5py\u001b[0m\u001b[0;34m.\u001b[0m\u001b[0mFile\u001b[0m\u001b[0;34m(\u001b[0m\u001b[0mhfile\u001b[0m\u001b[0;34m,\u001b[0m \u001b[0;34m\"a\"\u001b[0m\u001b[0;34m)\u001b[0m\u001b[0;34m\u001b[0m\u001b[0m\n\u001b[0m\u001b[1;32m    142\u001b[0m     \u001b[0;32mexcept\u001b[0m\u001b[0;34m(\u001b[0m\u001b[0mAttributeError\u001b[0m\u001b[0;34m)\u001b[0m\u001b[0;34m:\u001b[0m\u001b[0;34m\u001b[0m\u001b[0m\n\u001b[1;32m    143\u001b[0m         \u001b[0mhf\u001b[0m \u001b[0;34m=\u001b[0m \u001b[0mhfile\u001b[0m\u001b[0;34m\u001b[0m\u001b[0m\n",
      "\u001b[0;32m/usr/local/anaconda3/envs/py35/lib/python3.6/site-packages/h5py/_hl/files.py\u001b[0m in \u001b[0;36m__init__\u001b[0;34m(self, name, mode, driver, libver, userblock_size, swmr, **kwds)\u001b[0m\n\u001b[1;32m    266\u001b[0m                 \u001b[0mfid\u001b[0m \u001b[0;34m=\u001b[0m \u001b[0mh5i\u001b[0m\u001b[0;34m.\u001b[0m\u001b[0mget_file_id\u001b[0m\u001b[0;34m(\u001b[0m\u001b[0mname\u001b[0m\u001b[0;34m)\u001b[0m\u001b[0;34m\u001b[0m\u001b[0m\n\u001b[1;32m    267\u001b[0m             \u001b[0;32melse\u001b[0m\u001b[0;34m:\u001b[0m\u001b[0;34m\u001b[0m\u001b[0m\n\u001b[0;32m--> 268\u001b[0;31m                 \u001b[0mname\u001b[0m \u001b[0;34m=\u001b[0m \u001b[0mfsencode\u001b[0m\u001b[0;34m(\u001b[0m\u001b[0mfspath\u001b[0m\u001b[0;34m(\u001b[0m\u001b[0mname\u001b[0m\u001b[0;34m)\u001b[0m\u001b[0;34m)\u001b[0m\u001b[0;34m\u001b[0m\u001b[0m\n\u001b[0m\u001b[1;32m    269\u001b[0m \u001b[0;34m\u001b[0m\u001b[0m\n\u001b[1;32m    270\u001b[0m                 \u001b[0mfapl\u001b[0m \u001b[0;34m=\u001b[0m \u001b[0mmake_fapl\u001b[0m\u001b[0;34m(\u001b[0m\u001b[0mdriver\u001b[0m\u001b[0;34m,\u001b[0m \u001b[0mlibver\u001b[0m\u001b[0;34m,\u001b[0m \u001b[0;34m**\u001b[0m\u001b[0mkwds\u001b[0m\u001b[0;34m)\u001b[0m\u001b[0;34m\u001b[0m\u001b[0m\n",
      "\u001b[0;31mTypeError\u001b[0m: expected str, bytes or os.PathLike object, not File"
     ]
    }
   ],
   "source": [
    "# Saves results to a disk - Error \n",
    "write_results.write_pickles(run_params, model, obs, esampler, min_results,\n",
    "                            outroot=outroot, toptimize=pdur, tsample=edur,\n",
    "                            sampling_initial_center=initial_center,\n",
    "                            post_burnin_center=burn_p0,\n",
    "                            post_burnin_prob=burn_prob0)\n",
    "\n",
    "if hfile is None:\n",
    "    hfile = hfilename\n",
    "write_results.write_hdf5(hfile, run_params, model, obs, esampler, min_results,\n",
    "                         toptimize=pdur, tsample=edur,                         \n",
    "                         sampling_initial_center=initial_center,\n",
    "                         post_burnin_center=burn_p0,\n",
    "                         post_burnin_prob=burn_prob0)\n",
    "\n",
    "halt('Finished')"
   ]
  },
  {
   "cell_type": "markdown",
   "metadata": {},
   "source": [
    "# Visualizing the Results"
   ]
  },
  {
   "cell_type": "code",
   "execution_count": null,
   "metadata": {
    "collapsed": true
   },
   "outputs": [],
   "source": [
    "# grab results, powell results, and our corresponding models -Error\n",
    "res, pr, mod = read_results.results_from(\"{}_1496243536_mcmc.h5\".format(run_params['outfile']))"
   ]
  }
 ],
 "metadata": {
  "anaconda-cloud": {},
  "kernelspec": {
   "display_name": "Python 3",
   "language": "python",
   "name": "python3"
  },
  "language_info": {
   "codemirror_mode": {
    "name": "ipython",
    "version": 3
   },
   "file_extension": ".py",
   "mimetype": "text/x-python",
   "name": "python",
   "nbconvert_exporter": "python",
   "pygments_lexer": "ipython3",
   "version": "3.6.1"
  }
 },
 "nbformat": 4,
 "nbformat_minor": 2
}
