{
 "cells": [
  {
   "cell_type": "markdown",
   "metadata": {},
   "source": [
    "## Import"
   ]
  },
  {
   "cell_type": "code",
   "execution_count": 1,
   "metadata": {
    "collapsed": true
   },
   "outputs": [],
   "source": [
    "import os\n",
    "import numpy as np\n",
    "import fitsio"
   ]
  },
  {
   "cell_type": "code",
   "execution_count": 2,
   "metadata": {
    "collapsed": true
   },
   "outputs": [],
   "source": [
    "import fsps\n",
    "import sedpy\n",
    "import prospect\n",
    "import time\n",
    "import emcee\n",
    "import h5py\n",
    "import plot_utils as pread\n",
    "\n",
    "from prospect.models import priors, sedmodel\n",
    "from sedpy.observate import load_filters\n",
    "from prospect import fitting\n",
    "from scipy.optimize import minimize\n",
    "from prospect.io import read_results, write_results\n",
    "from prospect.likelihood import lnlike_spec, lnlike_phot, write_log"
   ]
  },
  {
   "cell_type": "code",
   "execution_count": 3,
   "metadata": {},
   "outputs": [
    {
     "name": "stdout",
     "output_type": "stream",
     "text": [
      "Populating the interactive namespace from numpy and matplotlib\n"
     ]
    }
   ],
   "source": [
    "%pylab inline"
   ]
  },
  {
   "cell_type": "markdown",
   "metadata": {},
   "source": [
    "### Setup the models"
   ]
  },
  {
   "cell_type": "code",
   "execution_count": 4,
   "metadata": {
    "collapsed": true
   },
   "outputs": [],
   "source": [
    "from prospect.models import model_setup\n",
    "from prospect.sources import CSPBasis, CSPSpecBasis"
   ]
  },
  {
   "cell_type": "code",
   "execution_count": 5,
   "metadata": {},
   "outputs": [
    {
     "name": "stdout",
     "output_type": "stream",
     "text": [
      "{'param_file': '', 'outfile': 'test', 'verbose': True, 'debug': False, 'nwalkers': 50, 'nburn': [32, 32, 64], 'niter': 500, 'do_powell': True, 'ftol': 5e-06, 'maxfev': 5000, 'zcontinuous': 1}\n"
     ]
    }
   ],
   "source": [
    "# Specify the run parameters.\n",
    "run_params = {\n",
    "              'param_file': '',\n",
    "              'outfile': 'test',\n",
    "              'verbose': True,\n",
    "              'debug': False,\n",
    "              'nwalkers': 50, # 128,\n",
    "              'nburn': [32, 32, 64], \n",
    "              'niter': 500, # 512,\n",
    "    \n",
    "              'do_powell': True,\n",
    "              'ftol': 0.5e-5, 'maxfev': 5000,\n",
    "              #'initial_disp': 0.1,\n",
    "              # Data parameters\n",
    "              #'snr': 20.0, # ???\n",
    "              #'add_noise': False, # ???\n",
    "              # Model parameters\n",
    "              #'mass': 1e10,\n",
    "              #'logzsol': -0.5,\n",
    "              #'tage': 12.0,\n",
    "              #'tau': 3.0,\n",
    "              #'dust2': 0.3,\n",
    "              # Data manipulation parameters\n",
    "              #'logify_spectrum': False,\n",
    "              #'normalize_spectrum': False,\n",
    "              #'wlo':3750., 'whi':7200.,\n",
    "              # SPS parameters\n",
    "              'zcontinuous': 1,\n",
    "              }\n",
    "print(run_params)"
   ]
  },
  {
   "cell_type": "code",
   "execution_count": 6,
   "metadata": {},
   "outputs": [
    {
     "name": "stdout",
     "output_type": "stream",
     "text": [
      "['sdss_u0', 'sdss_g0', 'sdss_r0', 'sdss_i0', 'sdss_z0', 'wise_w1', 'wise_w2']\n"
     ]
    }
   ],
   "source": [
    "sdss = ['sdss_{}0'.format(b) for b in ['u','g','r','i','z']]\n",
    "wise = ['wise_{}'.format(b) for b in ['w1','w2']]\n",
    "filternames = sdss + wise\n",
    "print(filternames)"
   ]
  },
  {
   "cell_type": "code",
   "execution_count": 7,
   "metadata": {
    "collapsed": true
   },
   "outputs": [],
   "source": [
    "# load sps model (default)\n",
    "#sps = model_setup.load_sps(**run_params)\n",
    "sps = CSPSpecBasis(zcontinuous=1, compute_vega_mags=False)"
   ]
  },
  {
   "cell_type": "code",
   "execution_count": 8,
   "metadata": {},
   "outputs": [
    {
     "name": "stdout",
     "output_type": "stream",
     "text": [
      "(b'pdva', b'basel')\n"
     ]
    }
   ],
   "source": [
    "print(sps.csp.libraries)"
   ]
  },
  {
   "cell_type": "code",
   "execution_count": 9,
   "metadata": {
    "scrolled": true
   },
   "outputs": [
    {
     "name": "stdout",
     "output_type": "stream",
     "text": [
      "[<class 'sedpy.observate.Filter'>(sdss_u0), <class 'sedpy.observate.Filter'>(sdss_g0), <class 'sedpy.observate.Filter'>(sdss_r0), <class 'sedpy.observate.Filter'>(sdss_i0), <class 'sedpy.observate.Filter'>(sdss_z0), <class 'sedpy.observate.Filter'>(wise_w1), <class 'sedpy.observate.Filter'>(wise_w2)]\n"
     ]
    }
   ],
   "source": [
    "filters = load_filters(filternames)\n",
    "print(filters)"
   ]
  },
  {
   "cell_type": "code",
   "execution_count": 10,
   "metadata": {
    "collapsed": true
   },
   "outputs": [],
   "source": [
    "# create a function to read in the redmapper catalog and extract relavent files\n",
    "def readred():\n",
    "    redfile = os.path.join(os.sep, 'global', 'work', 'projects', \n",
    "                           'redmapper', 'redmapper_isedfit_v5.10_centrals.fits.gz')\n",
    "    info = fitsio.FITS(redfile)\n",
    "    # hack, read just one galaxy\n",
    "    cat = info[1].read(rows=3)\n",
    "    \n",
    "    return cat"
   ]
  },
  {
   "cell_type": "code",
   "execution_count": 11,
   "metadata": {
    "collapsed": true
   },
   "outputs": [],
   "source": [
    "# Build output dictionary which contains the input photometry (our version of load_obs).\n",
    "def prospcat(redcat):\n",
    "    mask = (redcat['IVARMAGGIES'] > 0) * 1\n",
    "    obs = {}\n",
    "    obs['maggies'] = np.squeeze(redcat['MAGGIES'])\n",
    "    with np.errstate(divide='ignore'):\n",
    "        obs['maggies_unc'] = np.squeeze(1.0/np.sqrt(redcat['IVARMAGGIES'])) #[:3, :])\n",
    "    obs['wavelength'] = None # not fitting spectra\n",
    "    obs['filternames'] = filternames\n",
    "    obs['filters'] = load_filters(filternames)\n",
    "    obs['phot_mask'] = mask  # 1 = good, 0 = bad\n",
    "    obs['isedfit_id'] = redcat['ISEDFIT_ID']\n",
    "    obs['zred'] = redcat['Z']\n",
    "    \n",
    "    # NOT SURE IF CORRECT\n",
    "    obs['unc'] = obs['maggies_unc']\n",
    "    obs['spectrum'] = None\n",
    "    \n",
    "    return obs"
   ]
  },
  {
   "cell_type": "code",
   "execution_count": 12,
   "metadata": {
    "collapsed": true
   },
   "outputs": [],
   "source": [
    "redcat = readred()"
   ]
  },
  {
   "cell_type": "code",
   "execution_count": 13,
   "metadata": {
    "collapsed": true
   },
   "outputs": [],
   "source": [
    "obs = prospcat(redcat)\n",
    "#print(obs)"
   ]
  },
  {
   "cell_type": "code",
   "execution_count": 14,
   "metadata": {
    "collapsed": true
   },
   "outputs": [],
   "source": [
    "# Load the (default?) SPS model\n",
    "def load_sps(zcontinuous=1, compute_vega_mags=False, **extras):\n",
    "    sps = CSPSpecBasis(zcontinuous=zcontinuous,\n",
    "                   compute_vega_mags=compute_vega_mags)\n",
    "    return sps"
   ]
  },
  {
   "cell_type": "code",
   "execution_count": 16,
   "metadata": {
    "collapsed": true
   },
   "outputs": [],
   "source": [
    "# I don't think we need to load a noise model since we're only fitting photometry.(?)\n",
    "spec_noise, phot_noise = model_setup.load_gp(**run_params)"
   ]
  },
  {
   "cell_type": "code",
   "execution_count": 17,
   "metadata": {
    "collapsed": true
   },
   "outputs": [],
   "source": [
    "# Initialize the priors and then load the (default?) model.\n",
    "# TBD: Do we need to define priors on dust, fburst, etc., etc.???\n",
    "def load_model(zred, **extras):\n",
    "    model_params = []\n",
    "    \n",
    "    # Prior on distance / redshift.\n",
    "    model_params.append({'name': 'zred', 'N': 1,\n",
    "                         'isfree': False,\n",
    "                         'init': zred,\n",
    "                         'units': '',\n",
    "                         'prior_function': priors.tophat,\n",
    "                         'prior_args': {'mini': 0.0, 'maxi': 4.0}})\n",
    "    \n",
    "    # Prior on SFH.\n",
    "    model_params.append({'name': 'sfh', 'N': 1,\n",
    "                         'isfree': False,\n",
    "                         'init': 4,\n",
    "                         'units': 'type'})\n",
    "\n",
    "    model_params.append({'name': 'mass', 'N': 1,\n",
    "                         'isfree': True,\n",
    "                         'init': 1e11,\n",
    "                         'init_disp': 1e10,\n",
    "                         'units': r'M_\\odot',\n",
    "                         'prior_function': priors.tophat,\n",
    "                         'prior_args': {'mini': 1e10, 'maxi': 5e12}})\n",
    "\n",
    "    model_params.append({'name': 'logzsol', 'N': 1,\n",
    "                         'isfree': False,\n",
    "                         'init': -0.3,\n",
    "                         'init_disp': 0.3,\n",
    "                         'units': r'$\\log (Z/Z_\\odot)$',\n",
    "                         'prior_function': priors.tophat,\n",
    "                         'prior_args': {'mini':-1, 'maxi':0.19}})\n",
    "    \n",
    "    # Metallicity, tau, and age priors\n",
    "    # If zcontinuous > 1, use 3-pt smoothing\n",
    "    model_params.append({'name': 'pmetals', 'N': 1,\n",
    "                         'isfree': False,\n",
    "                         'init': 0.02,})\n",
    "                        \n",
    "    model_params.append({'name': 'tau', 'N': 1,\n",
    "                         'isfree': False,\n",
    "                         'init': 1.0,\n",
    "                         'init_disp': 0.5,\n",
    "                         'units': 'Gyr',\n",
    "                         'prior_function': priors.logarithmic,\n",
    "                         'prior_args': {'mini': 0.1, 'maxi': 100}})\n",
    "\n",
    "    model_params.append({'name': 'tage', 'N': 1,\n",
    "                        'isfree': True,\n",
    "                        'init': 10.0,\n",
    "                        'init_disp': 3.0,\n",
    "                        'units': 'Gyr',\n",
    "                        'prior_function': priors.tophat,\n",
    "                        'prior_args': {'mini': 0.101, 'maxi': 14.0}})\n",
    "    \n",
    "# Ben's speed solution:\n",
    "    model_params.append({'name': 'mass_units', 'N': 1,\n",
    "                        'isfree': False,\n",
    "                        'init': 'mformed'})\n",
    "    \n",
    "    return sedmodel.SedModel(model_params)"
   ]
  },
  {
   "cell_type": "code",
   "execution_count": 18,
   "metadata": {
    "collapsed": true
   },
   "outputs": [],
   "source": [
    "model = load_model(obs['zred'], **run_params)"
   ]
  },
  {
   "cell_type": "code",
   "execution_count": 19,
   "metadata": {
    "collapsed": true
   },
   "outputs": [],
   "source": [
    "# Ben's speed solution:\n",
    "if False:\n",
    "    sps = CSPSpecBasis(**run_params)\n",
    "    sps2 = CSPBasis(**run_params)\n",
    "    s, p, x = model.mean_model(model.initial_theta, obs=obs, sps=sps)\n",
    "    sps2.csp.params.dirtiness = 1  # just to make sure the model is fully recalculated\n",
    "    s2, p2, x2 = model.mean_model(model.initial_theta, obs=obs, sps=sps2)\n",
    "    assert np.allclose(p2, p)\n",
    "    print(p2 - p)"
   ]
  },
  {
   "cell_type": "code",
   "execution_count": 20,
   "metadata": {
    "collapsed": true
   },
   "outputs": [],
   "source": [
    "# Define our likelihood function\n",
    "def lnprobfn(theta, verbose=True):\n",
    "    \"\"\"Given a parameter vector and a dictionary of observational data and a model object, \n",
    "    return the ln of the posterior. This requires that an sps object (and if using spectra \n",
    "    and gaussian processes, a GP object) be instantiated.\n",
    "    \"\"\"\n",
    "\n",
    "    lnp_prior = model.prior_product(theta)\n",
    "    if isfinite(lnp_prior):\n",
    "        \n",
    "        # Generate mean model\n",
    "        t1 = time.time()\n",
    "        try:\n",
    "            mu, phot, x = model.mean_model(theta, obs, sps=sps)\n",
    "        except(ValueError):\n",
    "            return -np.infty\n",
    "        d1 = time.time() - t1\n",
    "\n",
    "        # Noise modeling\n",
    "        if spec_noise is not None:\n",
    "            spec_noise.update(**model.params)\n",
    "        if phot_noise is not None:\n",
    "            phot_noise.update(**model.params)\n",
    "        vectors = {'spec': mu, 'unc': obs['unc'],\n",
    "                   'sed': model._spec, 'cal': model._speccal,\n",
    "                   'phot': phot, 'maggies_unc': obs['maggies_unc']}\n",
    "\n",
    "        # Calculate log-likelihoods\n",
    "        t2 = time.time()\n",
    "        lnp_spec = lnlike_spec(mu, obs=obs, spec_noise=spec_noise, **vectors)\n",
    "        lnp_phot = lnlike_phot(phot, obs=obs, phot_noise=phot_noise, **vectors)\n",
    "        d2 = time.time() - t2\n",
    "        if verbose:\n",
    "            write_log(theta, lnp_prior, lnp_spec, lnp_phot, d1, d2)\n",
    "\n",
    "        return lnp_prior + lnp_phot + lnp_spec\n",
    "\n",
    "    else:\n",
    "        return -np.infty"
   ]
  },
  {
   "cell_type": "markdown",
   "metadata": {},
   "source": [
    "# Running Prospector"
   ]
  },
  {
   "cell_type": "markdown",
   "metadata": {},
   "source": [
    "### Outputs"
   ]
  },
  {
   "cell_type": "code",
   "execution_count": 21,
   "metadata": {},
   "outputs": [
    {
     "name": "stdout",
     "output_type": "stream",
     "text": [
      "Writing to file test_1496686975_mcmc.h5\n",
      "Could not JSON serialize model_params, pickled instead\n"
     ]
    }
   ],
   "source": [
    "outroot = \"{0}_{1}\".format(run_params['outfile'], int(time.time()))\n",
    "try:\n",
    "    hfilename = '{}_mcmc.h5'.format(outroot)\n",
    "    hfile = h5py.File(hfilename, \"a\")\n",
    "    print(\"Writing to file {}\".format(hfilename))\n",
    "    write_results.write_h5_header(hfile, run_params, model)\n",
    "    write_results.write_obs_to_h5(hfile, obs)\n",
    "except:\n",
    "    hfile = None"
   ]
  },
  {
   "cell_type": "markdown",
   "metadata": {},
   "source": [
    "### Model Preview"
   ]
  },
  {
   "cell_type": "code",
   "execution_count": 22,
   "metadata": {
    "scrolled": true
   },
   "outputs": [
    {
     "name": "stdout",
     "output_type": "stream",
     "text": [
      "Free parameters:  ['mass', 'tage']\n",
      "Fixed parameters:  ['zred', 'sfh', 'logzsol', 'pmetals', 'tau', 'mass_units']\n"
     ]
    }
   ],
   "source": [
    "print('Free parameters: ', model.free_params)\n",
    "print('Fixed parameters: ', model.fixed_params)"
   ]
  },
  {
   "cell_type": "markdown",
   "metadata": {},
   "source": [
    "### SED Preview"
   ]
  },
  {
   "cell_type": "code",
   "execution_count": 23,
   "metadata": {},
   "outputs": [
    {
     "data": {
      "text/plain": [
       "array([  1.00000000e+11,   1.00000000e+01])"
      ]
     },
     "execution_count": 23,
     "metadata": {},
     "output_type": "execute_result"
    }
   ],
   "source": [
    "model.initial_theta"
   ]
  },
  {
   "cell_type": "code",
   "execution_count": 24,
   "metadata": {},
   "outputs": [
    {
     "data": {
      "text/plain": [
       "array([  9.10000000e+01,   9.40000000e+01,   9.60000000e+01, ...,\n",
       "         9.81700000e+07,   9.90800000e+07,   1.00000000e+08])"
      ]
     },
     "execution_count": 24,
     "metadata": {},
     "output_type": "execute_result"
    }
   ],
   "source": [
    "sps.csp.wavelengths"
   ]
  },
  {
   "cell_type": "code",
   "execution_count": 25,
   "metadata": {
    "scrolled": false
   },
   "outputs": [
    {
     "data": {
      "image/png": "[encoded data removed]",
      "text/plain": [
       "<matplotlib.figure.Figure at 0x7ff554bad278>"
      ]
     },
     "metadata": {},
     "output_type": "display_data"
    }
   ],
   "source": [
    "wspec = sps.csp.wavelengths # spectral wavelengths\n",
    "wphot = array([f.wave_effective for f in obs['filters']]) # photometric effective wavelengths\n",
    "wphot_width = array([f.effective_width for f in obs['filters']]) # photometric effective widths\n",
    "\n",
    "initial_theta = model.rectify_theta(model.initial_theta) # initial parameters\n",
    "mspec_init, mphot_init, mextra_init = model.mean_model(initial_theta, obs, sps=sps) # generate model\n",
    "\n",
    "# establish bounds\n",
    "xmin, xmax = wphot.min()*0.8, wphot.max()/0.8\n",
    "temp = interp(linspace(xmin,xmax,10000), wspec, mspec_init)\n",
    "ymin, ymax = temp.min()*0.8, temp.max()/0.8\n",
    "\n",
    "# plotting \n",
    "figure(figsize=(16,8))\n",
    "for i in range(len(wphot)):\n",
    "    f = obs['filters'][i]\n",
    "    w, t = f.wavelength.copy(), f.transmission.copy()\n",
    "    while t.max() > 1:\n",
    "        t /= 10.\n",
    "    t = 0.1*(ymax-ymin)*t + ymin\n",
    "    loglog(w, t, lw=3, color='gray', alpha=0.7)\n",
    "loglog(wspec, mspec_init, lw=0.7, color='navy', alpha=0.7, label='Model spectrum')\n",
    "errorbar(wphot, mphot_init, marker='s', ls='', lw=3, markersize=10,\n",
    "         markerfacecolor='none', markeredgecolor='blue', markeredgewidth=3, alpha=0.8, label='Model photometry')\n",
    "errorbar(wphot, obs['maggies'], yerr=obs['maggies_unc'], ecolor='red', marker='o', ls='', lw=3, markersize=10, \n",
    "         markerfacecolor='none', markeredgecolor='red', markeredgewidth=3, alpha=0.8, label='Observed photometry')\n",
    "\n",
    "xlabel('Wavelength [A]')\n",
    "ylabel('Flux Density [maggies]')\n",
    "xlim([xmin, xmax])\n",
    "ylim([ymin, ymax])\n",
    "legend(loc='best', fontsize=20)\n",
    "tight_layout()\n",
    "\n"
   ]
  },
  {
   "cell_type": "markdown",
   "metadata": {},
   "source": [
    "### Minimization Step"
   ]
  },
  {
   "cell_type": "code",
   "execution_count": 26,
   "metadata": {},
   "outputs": [
    {
     "name": "stdout",
     "output_type": "stream",
     "text": [
      "[  1.00000000e+11   1.00000000e+01]\n",
      "model calc = 0.0031418800354003906s, lnlike calc = 0.00011229515075683594\n",
      "lnp = -5666.130862493828, lnp_spec = 0.0, lnp_phot = -5666.130862493828\n",
      "[  1.05000000e+11   1.00000000e+01]\n",
      "model calc = 0.002016305923461914s, lnlike calc = 6.365776062011719e-05\n",
      "lnp = -5483.551084582022, lnp_spec = 0.0, lnp_phot = -5483.551084582022\n",
      "[  1.00000000e+11   1.05000000e+01]\n",
      "model calc = 0.008753299713134766s, lnlike calc = 6.508827209472656e-05\n",
      "lnp = -5889.749452504872, lnp_spec = 0.0, lnp_phot = -5889.749452504872\n",
      "[  1.05000000e+11   9.50000000e+00]\n",
      "model calc = 0.00797414779663086s, lnlike calc = 6.413459777832031e-05\n",
      "lnp = -5211.880117059647, lnp_spec = 0.0, lnp_phot = -5211.880117059647\n",
      "[  1.07500000e+11   9.00000000e+00]\n",
      "model calc = 0.007942438125610352s, lnlike calc = 6.413459777832031e-05\n",
      "lnp = -4790.756272846931, lnp_spec = 0.0, lnp_phot = -4790.756272846931\n",
      "[  1.12500000e+11   9.00000000e+00]\n",
      "model calc = 0.001996278762817383s, lnlike calc = 6.365776062011719e-05\n",
      "lnp = -4595.95018371754, lnp_spec = 0.0, lnp_phot = -4595.95018371754\n",
      "[  1.18750000e+11   8.50000000e+00]\n",
      "model calc = 0.008106708526611328s, lnlike calc = 6.413459777832031e-05\n",
      "lnp = -3950.1351827430094, lnp_spec = 0.0, lnp_phot = -3950.1351827430094\n",
      "[  1.21250000e+11   7.50000000e+00]\n",
      "model calc = 0.007975101470947266s, lnlike calc = 6.341934204101562e-05\n",
      "lnp = -2796.6274898939546, lnp_spec = 0.0, lnp_phot = -2796.6274898939546\n",
      "[  1.29375000e+11   6.25000000e+00]\n",
      "model calc = 0.007785320281982422s, lnlike calc = 6.318092346191406e-05\n",
      "lnp = -747.8560222431759, lnp_spec = 0.0, lnp_phot = -747.8560222431759\n",
      "[  1.40625000e+11   5.75000000e+00]\n",
      "model calc = 0.007767438888549805s, lnlike calc = 6.365776062011719e-05\n",
      "lnp = 51.642034383804514, lnp_spec = 0.0, lnp_phot = 51.642034383804514\n",
      "[  1.57187500e+11   4.12500000e+00]\n",
      "model calc = 0.007604837417602539s, lnlike calc = 6.437301635742188e-05\n",
      "lnp = -11782.070818519423, lnp_spec = 0.0, lnp_phot = -11782.070818519423\n",
      "[  1.51250000e+11   3.50000000e+00]\n",
      "model calc = 0.007692098617553711s, lnlike calc = 6.437301635742188e-05\n",
      "lnp = -31939.77387393989, lnp_spec = 0.0, lnp_phot = -31939.77387393989\n",
      "[  1.26875000e+11   7.25000000e+00]\n",
      "model calc = 0.00797414779663086s, lnlike calc = 6.318092346191406e-05\n",
      "lnp = -2250.1871397462146, lnp_spec = 0.0, lnp_phot = -2250.1871397462146\n",
      "[  1.43125000e+11   4.75000000e+00]\n",
      "model calc = 0.007673740386962891s, lnlike calc = 6.341934204101562e-05\n",
      "lnp = -1568.7017723420947, lnp_spec = 0.0, lnp_phot = -1568.7017723420947\n",
      "[  1.39062500e+11   5.37500000e+00]\n",
      "model calc = 0.0077097415924072266s, lnlike calc = 6.413459777832031e-05\n",
      "lnp = 100.23466088473474, lnp_spec = 0.0, lnp_phot = 100.23466088473474\n",
      "[  1.50312500e+11   4.87500000e+00]\n",
      "model calc = 0.0076906681060791016s, lnlike calc = 6.437301635742188e-05\n",
      "lnp = -1486.7211934952807, lnp_spec = 0.0, lnp_phot = -1486.7211934952807\n",
      "[  1.34609375e+11   5.90625000e+00]\n",
      "model calc = 0.007781028747558594s, lnlike calc = 6.389617919921875e-05\n",
      "lnp = -175.95196006876887, lnp_spec = 0.0, lnp_phot = -175.95196006876887\n",
      "[  1.45078125e+11   5.21875000e+00]\n",
      "model calc = 0.00772547721862793s, lnlike calc = 6.341934204101562e-05\n",
      "lnp = -152.13572408032968, lnp_spec = 0.0, lnp_phot = -152.13572408032968\n",
      "[  1.42460938e+11   5.39062500e+00]\n",
      "model calc = 0.007695913314819336s, lnlike calc = 6.413459777832031e-05\n",
      "lnp = 78.54939156988749, lnp_spec = 0.0, lnp_phot = 78.54939156988749\n",
      "[  1.40898438e+11   5.01562500e+00]\n",
      "model calc = 0.00771784782409668s, lnlike calc = 6.318092346191406e-05\n",
      "lnp = -427.0441522132095, lnp_spec = 0.0, lnp_phot = -427.0441522132095\n",
      "[  1.40693359e+11   5.56640625e+00]\n",
      "model calc = 0.0077245235443115234s, lnlike calc = 6.413459777832031e-05\n",
      "lnp = 120.10477832622895, lnp_spec = 0.0, lnp_phot = 120.10477832622895\n",
      "[  1.37294922e+11   5.55078125e+00]\n",
      "model calc = 0.007731199264526367s, lnlike calc = 6.389617919921875e-05\n",
      "lnp = 110.6227044502479, lnp_spec = 0.0, lnp_phot = 110.6227044502479\n",
      "[  1.38925781e+11   5.74218750e+00]\n",
      "model calc = 0.007837772369384766s, lnlike calc = 6.341934204101562e-05\n",
      "lnp = 36.660306731835746, lnp_spec = 0.0, lnp_phot = 36.660306731835746\n",
      "[  1.39028320e+11   5.46679688e+00]\n",
      "model calc = 0.007652997970581055s, lnlike calc = 6.389617919921875e-05\n",
      "lnp = 122.21511559520503, lnp_spec = 0.0, lnp_phot = 122.21511559520503\n",
      "[  1.42426758e+11   5.48242188e+00]\n",
      "model calc = 0.008435249328613281s, lnlike calc = 6.461143493652344e-05\n",
      "lnp = 115.28439068687281, lnp_spec = 0.0, lnp_phot = 115.28439068687281\n",
      "[  1.41143799e+11   5.49951172e+00]\n",
      "model calc = 0.007719755172729492s, lnlike calc = 6.365776062011719e-05\n",
      "lnp = 121.74076874695673, lnp_spec = 0.0, lnp_phot = 121.74076874695673\n",
      "[  1.39478760e+11   5.39990234e+00]\n",
      "model calc = 0.007825136184692383s, lnlike calc = 6.413459777832031e-05\n",
      "lnp = 106.75744618036096, lnp_spec = 0.0, lnp_phot = 106.75744618036096\n",
      "[  1.40389709e+11   5.52478027e+00]\n",
      "model calc = 0.007721662521362305s, lnlike calc = 6.413459777832031e-05\n",
      "lnp = 123.03631021666097, lnp_spec = 0.0, lnp_phot = 123.03631021666097\n",
      "[  1.38274231e+11   5.49206543e+00]\n",
      "model calc = 0.007828950881958008s, lnlike calc = 6.413459777832031e-05\n",
      "lnp = 122.82183268112273, lnp_spec = 0.0, lnp_phot = 122.82183268112273\n",
      "[  1.39635620e+11   5.55004883e+00]\n",
      "model calc = 0.0077381134033203125s, lnlike calc = 6.341934204101562e-05\n",
      "lnp = 119.68656101254615, lnp_spec = 0.0, lnp_phot = 119.68656101254615\n",
      "[  1.39180145e+11   5.48760986e+00]\n",
      "model calc = 0.007703542709350586s, lnlike calc = 6.389617919921875e-05\n",
      "lnp = 123.09572682072304, lnp_spec = 0.0, lnp_phot = 123.09572682072304\n",
      "[  1.41295624e+11   5.52032471e+00]\n",
      "model calc = 0.007706165313720703s, lnlike calc = 6.556510925292969e-05\n",
      "lnp = 122.93574527592168, lnp_spec = 0.0, lnp_phot = 122.93574527592168\n",
      "[  1.40540276e+11   5.51325989e+00]\n",
      "model calc = 0.007800579071044922s, lnlike calc = 7.319450378417969e-05\n",
      "lnp = 123.1134611570109, lnp_spec = 0.0, lnp_phot = 123.1134611570109\n",
      "[  1.39330711e+11   5.47608948e+00]\n",
      "model calc = 0.007730245590209961s, lnlike calc = 6.437301635742188e-05\n",
      "lnp = 122.48859831690994, lnp_spec = 0.0, lnp_phot = 122.48859831690994\n",
      "[  1.40124960e+11   5.51260757e+00]\n",
      "model calc = 0.007714986801147461s, lnlike calc = 6.389617919921875e-05\n",
      "lnp = 123.15461481095532, lnp_spec = 0.0, lnp_phot = 123.15461481095532\n",
      "[  1.41485090e+11   5.53825760e+00]\n",
      "model calc = 0.0077021121978759766s, lnlike calc = 6.413459777832031e-05\n",
      "lnp = 123.14828891633107, lnp_spec = 0.0, lnp_phot = 123.14828891633107\n",
      "[  1.41069775e+11   5.53760529e+00]\n",
      "model calc = 0.007798194885253906s, lnlike calc = 6.437301635742188e-05\n",
      "lnp = 123.02271330517178, lnp_spec = 0.0, lnp_phot = 123.02271330517178\n",
      "[  1.40672650e+11   5.51934624e+00]\n",
      "model calc = 0.007727384567260742s, lnlike calc = 6.413459777832031e-05\n",
      "lnp = 123.15383566334184, lnp_spec = 0.0, lnp_phot = 123.15383566334184\n",
      "[  1.39312520e+11   5.49369621e+00]\n",
      "model calc = 0.00763249397277832s, lnlike calc = 6.413459777832031e-05\n",
      "lnp = 123.14736767831928, lnp_spec = 0.0, lnp_phot = 123.14736767831928\n",
      "[  1.40941948e+11   5.52711725e+00]\n",
      "model calc = 0.00771021842956543s, lnlike calc = 6.29425048828125e-05\n",
      "lnp = 123.15589339591769, lnp_spec = 0.0, lnp_phot = 123.15589339591769\n",
      "[  1.40394257e+11   5.52037859e+00]\n",
      "model calc = 0.007816314697265625s, lnlike calc = 6.389617919921875e-05\n",
      "lnp = 123.12819809938915, lnp_spec = 0.0, lnp_phot = 123.12819809938915\n",
      "[  1.40603052e+11   5.51960433e+00]\n",
      "model calc = 0.0077364444732666016s, lnlike calc = 6.437301635742188e-05\n",
      "lnp = 123.1581498329848, lnp_spec = 0.0, lnp_phot = 123.1581498329848\n",
      "[  1.41420040e+11   5.53411400e+00]\n",
      "model calc = 0.0077059268951416016s, lnlike calc = 6.389617919921875e-05\n",
      "lnp = 123.15790272919975, lnp_spec = 0.0, lnp_phot = 123.15790272919975\n",
      "[  1.41081144e+11   5.52660108e+00]\n",
      "model calc = 0.007723331451416016s, lnlike calc = 6.413459777832031e-05\n",
      "lnp = 123.15309204651922, lnp_spec = 0.0, lnp_phot = 123.15309204651922\n",
      "[  1.40976747e+11   5.52698821e+00]\n",
      "model calc = 0.007804393768310547s, lnlike calc = 6.437301635742188e-05\n",
      "lnp = 123.15786085108955, lnp_spec = 0.0, lnp_phot = 123.15786085108955\n",
      "[  1.41046345e+11   5.52673012e+00]\n",
      "model calc = 0.007734060287475586s, lnlike calc = 6.365776062011719e-05\n",
      "lnp = 123.15646069411474, lnp_spec = 0.0, lnp_phot = 123.15646069411474\n",
      "[  1.40994146e+11   5.52692369e+00]\n",
      "model calc = 0.007720947265625s, lnlike calc = 6.461143493652344e-05\n"
     ]
    },
    {
     "name": "stdout",
     "output_type": "stream",
     "text": [
      "lnp = 123.15817779231844, lnp_spec = 0.0, lnp_phot = 123.15817779231844\n",
      "[  1.40177159e+11   5.51241401e+00]\n",
      "model calc = 0.008280754089355469s, lnlike calc = 6.365776062011719e-05\n",
      "lnp = 123.15796839003337, lnp_spec = 0.0, lnp_phot = 123.15796839003337\n",
      "[  1.40487879e+11   5.51783901e+00]\n",
      "model calc = 0.007754802703857422s, lnlike calc = 6.413459777832031e-05\n",
      "lnp = 123.15814547807852, lnp_spec = 0.0, lnp_phot = 123.15814547807852\n",
      "[  1.41109320e+11   5.52868900e+00]\n",
      "model calc = 0.007760286331176758s, lnlike calc = 6.341934204101562e-05\n",
      "lnp = 123.158100672814, lnp_spec = 0.0, lnp_phot = 123.158100672814\n",
      "[  1.40643239e+11   5.52055151e+00]\n",
      "model calc = 0.007723808288574219s, lnlike calc = 6.389617919921875e-05\n",
      "lnp = 123.15818184447647, lnp_spec = 0.0, lnp_phot = 123.15818184447647\n",
      "[  1.41034333e+11   5.52787087e+00]\n",
      "model calc = 0.007704257965087891s, lnlike calc = 6.341934204101562e-05\n",
      "lnp = 123.15804819872406, lnp_spec = 0.0, lnp_phot = 123.15804819872406\n",
      "[  1.40710872e+11   5.52167096e+00]\n",
      "model calc = 0.007721900939941406s, lnlike calc = 6.389617919921875e-05\n",
      "lnp = 123.15818495099165, lnp_spec = 0.0, lnp_phot = 123.15818495099165\n",
      "[  1.40359965e+11   5.51529878e+00]\n",
      "model calc = 0.0077855587005615234s, lnlike calc = 6.413459777832031e-05\n",
      "lnp = 123.15818306144345, lnp_spec = 0.0, lnp_phot = 123.15818306144345\n",
      "[  1.40427598e+11   5.51641824e+00]\n",
      "model calc = 0.007719993591308594s, lnlike calc = 6.389617919921875e-05\n",
      "lnp = 123.15814685954898, lnp_spec = 0.0, lnp_phot = 123.15814685954898\n",
      "[  1.40589329e+11   5.51951819e+00]\n",
      "model calc = 0.007781505584716797s, lnlike calc = 6.389617919921875e-05\n",
      "lnp = 123.15818781316757, lnp_spec = 0.0, lnp_phot = 123.15818781316757\n",
      "[  1.40940236e+11   5.52589037e+00]\n",
      "model calc = 0.0077211856842041016s, lnlike calc = 6.389617919921875e-05\n",
      "lnp = 123.15818704283608, lnp_spec = 0.0, lnp_phot = 123.15818704283608\n",
      "[  1.40818693e+11   5.52373760e+00]\n",
      "model calc = 0.007748603820800781s, lnlike calc = 6.580352783203125e-05\n",
      "lnp = 123.15818015580699, lnp_spec = 0.0, lnp_phot = 123.15818015580699\n",
      "[  1.40737827e+11   5.52218762e+00]\n",
      "model calc = 0.007720947265625s, lnlike calc = 6.389617919921875e-05\n",
      "lnp = 123.15818751970224, lnp_spec = 0.0, lnp_phot = 123.15818751970224\n",
      "[  1.40386920e+11   5.51581544e+00]\n",
      "model calc = 0.007710695266723633s, lnlike calc = 6.389617919921875e-05\n",
      "lnp = 123.15818666751154, lnp_spec = 0.0, lnp_phot = 123.15818666751154\n",
      "[  1.40801907e+11   5.52337164e+00]\n",
      "model calc = 0.007723093032836914s, lnlike calc = 6.413459777832031e-05\n",
      "lnp = 123.15818775215462, lnp_spec = 0.0, lnp_phot = 123.15818775215462\n",
      "[  1.40653409e+11   5.52070221e+00]\n",
      "model calc = 0.007801532745361328s, lnlike calc = 6.389617919921875e-05\n",
      "lnp = 123.15818658071208, lnp_spec = 0.0, lnp_phot = 123.15818658071208\n",
      "[  1.40716723e+11   5.52181627e+00]\n",
      "model calc = 0.0076634883880615234s, lnlike calc = 6.389617919921875e-05\n",
      "lnp = 123.15818784068715, lnp_spec = 0.0, lnp_phot = 123.15818784068715\n",
      "[  1.40504144e+11   5.51796282e+00]\n",
      "model calc = 0.0077059268951416016s, lnlike calc = 6.365776062011719e-05\n",
      "lnp = 123.15818781629707, lnp_spec = 0.0, lnp_phot = 123.15818781629707\n",
      "[  1.40631538e+11   5.52026090e+00]\n",
      "model calc = 0.007745504379272461s, lnlike calc = 6.389617919921875e-05\n",
      "lnp = 123.15818745675881, lnp_spec = 0.0, lnp_phot = 123.15818745675881\n",
      "[  1.40599881e+11   5.51970387e+00]\n",
      "model calc = 0.007825613021850586s, lnlike calc = 6.389617919921875e-05\n",
      "lnp = 123.1581878660589, lnp_spec = 0.0, lnp_phot = 123.1581878660589\n",
      "[  1.40812460e+11   5.52355731e+00]\n",
      "model calc = 0.007725715637207031s, lnlike calc = 6.365776062011719e-05\n",
      "lnp = 123.1581878504931, lnp_spec = 0.0, lnp_phot = 123.1581878504931\n",
      "[  1.40695618e+11   5.52144491e+00]\n",
      "model calc = 0.0077245235443115234s, lnlike calc = 6.341934204101562e-05\n",
      "lnp = 123.15818779316217, lnp_spec = 0.0, lnp_phot = 123.15818779316217\n",
      "[  1.40711447e+11   5.52172343e+00]\n",
      "model calc = 0.007723569869995117s, lnlike calc = 6.318092346191406e-05\n",
      "lnp = 123.15818786346935, lnp_spec = 0.0, lnp_phot = 123.15818786346935\n",
      "[  1.40498868e+11   5.51786998e+00]\n",
      "model calc = 0.0077974796295166016s, lnlike calc = 6.389617919921875e-05\n",
      "lnp = 123.15818785339881, lnp_spec = 0.0, lnp_phot = 123.15818785339881\n",
      "[  1.40577266e+11   5.51929181e+00]\n",
      "model calc = 0.00822305679321289s, lnlike calc = 6.461143493652344e-05\n",
      "lnp = 123.15818786043555, lnp_spec = 0.0, lnp_phot = 123.15818786043555\n",
      "[  1.40734062e+11   5.52213548e+00]\n",
      "model calc = 0.007682085037231445s, lnlike calc = 6.365776062011719e-05\n",
      "lnp = 123.1581878643345, lnp_spec = 0.0, lnp_phot = 123.1581878643345\n",
      "[  1.40622496e+11   5.52011592e+00]\n",
      "model calc = 0.0077707767486572266s, lnlike calc = 6.413459777832031e-05\n",
      "lnp = 123.15818785582928, lnp_spec = 0.0, lnp_phot = 123.15818785582928\n",
      "[  1.40689209e+11   5.52132155e+00]\n",
      "model calc = 0.00782012939453125s, lnlike calc = 6.437301635742188e-05\n",
      "lnp = 123.15818786596711, lnp_spec = 0.0, lnp_phot = 123.15818786596711\n",
      "[  1.40555029e+11   5.51888994e+00]\n",
      "model calc = 0.007658958435058594s, lnlike calc = 6.389617919921875e-05\n",
      "lnp = 123.15818786518994, lnp_spec = 0.0, lnp_phot = 123.15818786518994\n",
      "[  1.40599787e+11   5.51970132e+00]\n",
      "model calc = 0.0077207088470458984s, lnlike calc = 6.365776062011719e-05\n",
      "lnp = 123.1581878657924, lnp_spec = 0.0, lnp_phot = 123.1581878657924\n",
      "[  1.40689303e+11   5.52132409e+00]\n",
      "model calc = 0.007637500762939453s, lnlike calc = 6.413459777832031e-05\n",
      "lnp = 123.15818786591566, lnp_spec = 0.0, lnp_phot = 123.15818786591566\n",
      "[  1.40666924e+11   5.52091840e+00]\n",
      "model calc = 0.007790088653564453s, lnlike calc = 6.389617919921875e-05\n",
      "lnp = 123.15818786617561, lnp_spec = 0.0, lnp_phot = 123.15818786617561\n",
      "[  1.40577597e+11   5.51930072e+00]\n",
      "model calc = 0.007725954055786133s, lnlike calc = 6.389617919921875e-05\n",
      "lnp = 123.15818786470895, lnp_spec = 0.0, lnp_phot = 123.15818786470895\n",
      "[  1.40661306e+11   5.52081634e+00]\n",
      "model calc = 0.007717609405517578s, lnlike calc = 6.389617919921875e-05\n",
      "lnp = 123.15818786618718, lnp_spec = 0.0, lnp_phot = 123.15818786618718\n",
      "[  1.40728349e+11   5.52203088e+00]\n",
      "model calc = 0.007716178894042969s, lnlike calc = 6.389617919921875e-05\n",
      "lnp = 123.15818786620946, lnp_spec = 0.0, lnp_phot = 123.15818786620946\n",
      "[  1.40792583e+11   5.52319438e+00]\n",
      "model calc = 0.0077972412109375s, lnlike calc = 6.437301635742188e-05\n",
      "lnp = 123.15818786616077, lnp_spec = 0.0, lnp_phot = 123.15818786616077\n",
      "[  1.40722731e+11   5.52192882e+00]\n",
      "model calc = 0.007665157318115234s, lnlike calc = 6.437301635742188e-05\n",
      "lnp = 123.15818786604517, lnp_spec = 0.0, lnp_phot = 123.15818786604517\n",
      "[  1.40680876e+11   5.52117101e+00]\n",
      "model calc = 0.007727146148681641s, lnlike calc = 6.413459777832031e-05\n",
      "lnp = 123.15818786621065, lnp_spec = 0.0, lnp_phot = 123.15818786621065\n",
      "[  1.40747919e+11   5.52238554e+00]\n",
      "model calc = 0.007716655731201172s, lnlike calc = 6.341934204101562e-05\n",
      "lnp = 123.15818786615652, lnp_spec = 0.0, lnp_phot = 123.15818786615652\n",
      "[  1.40682959e+11   5.52120864e+00]\n",
      "model calc = 0.007708311080932617s, lnlike calc = 7.128715515136719e-05\n",
      "lnp = 123.15818786619852, lnp_spec = 0.0, lnp_phot = 123.15818786619852\n",
      "[  1.40726266e+11   5.52199324e+00]\n",
      "model calc = 0.007701873779296875s, lnlike calc = 6.413459777832031e-05\n",
      "lnp = 123.15818786620417, lnp_spec = 0.0, lnp_phot = 123.15818786620417\n",
      "[  1.40715439e+11   5.52179709e+00]\n",
      "model calc = 0.007748603820800781s, lnlike calc = 6.365776062011719e-05\n",
      "lnp = 123.15818786621053, lnp_spec = 0.0, lnp_phot = 123.15818786621053\n",
      "[  1.40667966e+11   5.52093722e+00]\n",
      "model calc = 0.007750749588012695s, lnlike calc = 6.389617919921875e-05\n",
      "lnp = 123.15818786619587, lnp_spec = 0.0, lnp_phot = 123.15818786619587\n",
      "[  1.40713253e+11   5.52175746e+00]\n",
      "model calc = 0.007728099822998047s, lnlike calc = 6.437301635742188e-05\n",
      "lnp = 123.15818786621034, lnp_spec = 0.0, lnp_phot = 123.15818786621034\n",
      "[  1.40683062e+11   5.52121063e+00]\n",
      "model calc = 0.007723808288574219s, lnlike calc = 6.413459777832031e-05\n",
      "lnp = 123.1581878662078, lnp_spec = 0.0, lnp_phot = 123.1581878662078\n",
      "[  1.40705705e+11   5.52162076e+00]\n",
      "model calc = 0.0077419281005859375s, lnlike calc = 6.365776062011719e-05\n",
      "lnp = 123.15818786621082, lnp_spec = 0.0, lnp_phot = 123.15818786621082\n",
      "[  1.40671142e+11   5.52099467e+00]\n",
      "model calc = 0.007719516754150391s, lnlike calc = 6.413459777832031e-05\n",
      "lnp = 123.15818786621081, lnp_spec = 0.0, lnp_phot = 123.15818786621081\n"
     ]
    },
    {
     "name": "stdout",
     "output_type": "stream",
     "text": [
      "[  1.40695972e+11   5.52144442e+00]\n",
      "model calc = 0.008466005325317383s, lnlike calc = 6.794929504394531e-05\n",
      "lnp = 123.15818786620972, lnp_spec = 0.0, lnp_phot = 123.15818786620972\n",
      "[  1.40684650e+11   5.52123936e+00]\n",
      "model calc = 0.007761478424072266s, lnlike calc = 6.437301635742188e-05\n",
      "lnp = 123.15818786621094, lnp_spec = 0.0, lnp_phot = 123.15818786621094\n",
      "[  1.40719213e+11   5.52186544e+00]\n",
      "model calc = 0.007770061492919922s, lnlike calc = 6.365776062011719e-05\n",
      "lnp = 123.15818786621068, lnp_spec = 0.0, lnp_phot = 123.15818786621068\n",
      "[  1.40683160e+11   5.52121236e+00]\n",
      "model calc = 0.00773167610168457s, lnlike calc = 6.341934204101562e-05\n",
      "lnp = 123.15818786621092, lnp_spec = 0.0, lnp_phot = 123.15818786621092\n",
      "[  1.40662104e+11   5.52083097e+00]\n",
      "model calc = 0.007800579071044922s, lnlike calc = 6.341934204101562e-05\n",
      "lnp = 123.15818786620888, lnp_spec = 0.0, lnp_phot = 123.15818786620888\n",
      "[  1.40694805e+11   5.52142331e+00]\n",
      "model calc = 0.007828712463378906s, lnlike calc = 6.365776062011719e-05\n",
      "lnp = 123.15818786621082, lnp_spec = 0.0, lnp_phot = 123.15818786621082\n",
      "[  1.40683905e+11   5.52122586e+00]\n",
      "model calc = 0.007668018341064453s, lnlike calc = 6.4849853515625e-05\n",
      "lnp = 123.15818786621094, lnp_spec = 0.0, lnp_phot = 123.15818786621094\n",
      "[  1.40695178e+11   5.52143006e+00]\n",
      "model calc = 0.00764155387878418s, lnlike calc = 6.437301635742188e-05\n",
      "lnp = 123.15818786621087, lnp_spec = 0.0, lnp_phot = 123.15818786621087\n",
      "[  1.40673377e+11   5.52103516e+00]\n",
      "model calc = 0.0077207088470458984s, lnlike calc = 6.461143493652344e-05\n",
      "lnp = 123.15818786621058, lnp_spec = 0.0, lnp_phot = 123.15818786621058\n",
      "[  1.40689727e+11   5.52133133e+00]\n",
      "model calc = 0.007811307907104492s, lnlike calc = 6.365776062011719e-05\n",
      "lnp = 123.15818786621091, lnp_spec = 0.0, lnp_phot = 123.15818786621091\n",
      "[  1.40678827e+11   5.52113389e+00]\n",
      "model calc = 0.007737159729003906s, lnlike calc = 6.365776062011719e-05\n",
      "lnp = 123.15818786621087, lnp_spec = 0.0, lnp_phot = 123.15818786621087\n",
      "[  1.40687002e+11   5.52128197e+00]\n",
      "model calc = 0.007797956466674805s, lnlike calc = 6.318092346191406e-05\n",
      "lnp = 123.15818786621092, lnp_spec = 0.0, lnp_phot = 123.15818786621092\n",
      "[  1.40681552e+11   5.52118325e+00]\n",
      "model calc = 0.0077741146087646484s, lnlike calc = 6.341934204101562e-05\n",
      "lnp = 123.15818786621092, lnp_spec = 0.0, lnp_phot = 123.15818786621092\n",
      "[  1.40685640e+11   5.52125729e+00]\n",
      "model calc = 0.007837057113647461s, lnlike calc = 6.365776062011719e-05\n",
      "lnp = 123.15818786621094, lnp_spec = 0.0, lnp_phot = 123.15818786621094\n",
      "[  1.40682915e+11   5.52120793e+00]\n",
      "model calc = 0.0077381134033203125s, lnlike calc = 6.365776062011719e-05\n",
      "lnp = 123.15818786621094, lnp_spec = 0.0, lnp_phot = 123.15818786621094\n",
      "[  1.40684959e+11   5.52124495e+00]\n",
      "model calc = 0.007715940475463867s, lnlike calc = 6.413459777832031e-05\n",
      "lnp = 123.15818786621094, lnp_spec = 0.0, lnp_phot = 123.15818786621094\n",
      "[  1.40684277e+11   5.52123261e+00]\n",
      "model calc = 0.007642269134521484s, lnlike calc = 6.389617919921875e-05\n",
      "lnp = 123.15818786621094, lnp_spec = 0.0, lnp_phot = 123.15818786621094\n",
      "[  1.40685145e+11   5.52124832e+00]\n",
      "model calc = 0.00772404670715332s, lnlike calc = 6.389617919921875e-05\n",
      "lnp = 123.15818786621094, lnp_spec = 0.0, lnp_phot = 123.15818786621094\n",
      "[  1.40683782e+11   5.52122364e+00]\n",
      "model calc = 0.007735490798950195s, lnlike calc = 6.389617919921875e-05\n",
      "lnp = 123.15818786621094, lnp_spec = 0.0, lnp_phot = 123.15818786621094\n",
      "[  1.40684804e+11   5.52124215e+00]\n",
      "model calc = 0.0077190399169921875s, lnlike calc = 7.224082946777344e-05\n",
      "lnp = 123.15818786621094, lnp_spec = 0.0, lnp_phot = 123.15818786621094\n",
      "[  1.40684464e+11   5.52123598e+00]\n",
      "model calc = 0.007652759552001953s, lnlike calc = 6.365776062011719e-05\n",
      "lnp = 123.15818786621094, lnp_spec = 0.0, lnp_phot = 123.15818786621094\n",
      "[  1.40684897e+11   5.52124384e+00]\n",
      "model calc = 0.0077364444732666016s, lnlike calc = 6.461143493652344e-05\n",
      "lnp = 123.15818786621094, lnp_spec = 0.0, lnp_phot = 123.15818786621094\n",
      "[  1.40684216e+11   5.52123150e+00]\n",
      "model calc = 0.00774073600769043s, lnlike calc = 6.341934204101562e-05\n",
      "lnp = 123.15818786621094, lnp_spec = 0.0, lnp_phot = 123.15818786621094\n",
      "[  1.40684727e+11   5.52124076e+00]\n",
      "model calc = 0.008325338363647461s, lnlike calc = 6.413459777832031e-05\n",
      "lnp = 123.15818786621094, lnp_spec = 0.0, lnp_phot = 123.15818786621094\n",
      "[  1.40684557e+11   5.52123767e+00]\n",
      "model calc = 0.007619380950927734s, lnlike calc = 7.2479248046875e-05\n",
      "lnp = 123.15818786621094, lnp_spec = 0.0, lnp_phot = 123.15818786621094\n",
      "[  1.40684774e+11   5.52124160e+00]\n",
      "model calc = 0.007740497589111328s, lnlike calc = 6.413459777832031e-05\n",
      "lnp = 123.15818786621094, lnp_spec = 0.0, lnp_phot = 123.15818786621094\n",
      "[  1.40684433e+11   5.52123543e+00]\n",
      "model calc = 0.007761716842651367s, lnlike calc = 6.365776062011719e-05\n",
      "lnp = 123.15818786621094, lnp_spec = 0.0, lnp_phot = 123.15818786621094\n",
      "[  1.40684688e+11   5.52124006e+00]\n",
      "model calc = 0.007730245590209961s, lnlike calc = 6.437301635742188e-05\n",
      "lnp = 123.15818786621094, lnp_spec = 0.0, lnp_phot = 123.15818786621094\n",
      "[  1.40684603e+11   5.52123852e+00]\n",
      "model calc = 0.007662296295166016s, lnlike calc = 6.365776062011719e-05\n",
      "lnp = 123.15818786621094, lnp_spec = 0.0, lnp_phot = 123.15818786621094\n",
      "[  1.40684712e+11   5.52124048e+00]\n",
      "model calc = 0.007727622985839844s, lnlike calc = 6.389617919921875e-05\n",
      "lnp = 123.15818786621094, lnp_spec = 0.0, lnp_phot = 123.15818786621094\n",
      "[  1.40684541e+11   5.52123739e+00]\n",
      "model calc = 0.007726192474365234s, lnlike calc = 6.413459777832031e-05\n",
      "lnp = 123.15818786621094, lnp_spec = 0.0, lnp_phot = 123.15818786621094\n",
      "[  1.40684669e+11   5.52123971e+00]\n",
      "model calc = 0.007742404937744141s, lnlike calc = 6.389617919921875e-05\n",
      "lnp = 123.15818786621094, lnp_spec = 0.0, lnp_phot = 123.15818786621094\n",
      "[  1.40684627e+11   5.52123894e+00]\n",
      "model calc = 0.0076711177825927734s, lnlike calc = 6.389617919921875e-05\n",
      "lnp = 123.15818786621094, lnp_spec = 0.0, lnp_phot = 123.15818786621094\n",
      "[  1.40684681e+11   5.52123992e+00]\n",
      "model calc = 0.007651329040527344s, lnlike calc = 6.4849853515625e-05\n",
      "lnp = 123.15818786621094, lnp_spec = 0.0, lnp_phot = 123.15818786621094\n",
      "[  1.40684596e+11   5.52123838e+00]\n",
      "model calc = 0.007767677307128906s, lnlike calc = 6.389617919921875e-05\n",
      "lnp = 123.15818786621094, lnp_spec = 0.0, lnp_phot = 123.15818786621094\n",
      "[  1.40684659e+11   5.52123953e+00]\n",
      "model calc = 0.007730722427368164s, lnlike calc = 6.341934204101562e-05\n",
      "lnp = 123.15818786621094, lnp_spec = 0.0, lnp_phot = 123.15818786621094\n",
      "[  1.40684638e+11   5.52123915e+00]\n",
      "model calc = 0.0075969696044921875s, lnlike calc = 6.365776062011719e-05\n",
      "lnp = 123.15818786621094, lnp_spec = 0.0, lnp_phot = 123.15818786621094\n",
      "[  1.40684665e+11   5.52123964e+00]\n",
      "model calc = 0.0076596736907958984s, lnlike calc = 6.389617919921875e-05\n",
      "lnp = 123.15818786621094, lnp_spec = 0.0, lnp_phot = 123.15818786621094\n",
      "[  1.40684623e+11   5.52123887e+00]\n",
      "model calc = 0.007816076278686523s, lnlike calc = 6.389617919921875e-05\n",
      "lnp = 123.15818786621094, lnp_spec = 0.0, lnp_phot = 123.15818786621094\n",
      "[  1.40684655e+11   5.52123945e+00]\n",
      "model calc = 0.007740497589111328s, lnlike calc = 6.437301635742188e-05\n",
      "lnp = 123.15818786621094, lnp_spec = 0.0, lnp_phot = 123.15818786621094\n",
      "[  1.40684644e+11   5.52123925e+00]\n",
      "model calc = 0.0076677799224853516s, lnlike calc = 6.389617919921875e-05\n",
      "lnp = 123.15818786621094, lnp_spec = 0.0, lnp_phot = 123.15818786621094\n",
      "[  1.40684658e+11   5.52123950e+00]\n",
      "model calc = 0.007650136947631836s, lnlike calc = 6.341934204101562e-05\n",
      "lnp = 123.15818786621094, lnp_spec = 0.0, lnp_phot = 123.15818786621094\n",
      "[  1.40684636e+11   5.52123911e+00]\n",
      "model calc = 0.00777435302734375s, lnlike calc = 6.389617919921875e-05\n",
      "lnp = 123.15818786621094, lnp_spec = 0.0, lnp_phot = 123.15818786621094\n",
      "[  1.40684652e+11   5.52123940e+00]\n",
      "model calc = 0.007740974426269531s, lnlike calc = 6.389617919921875e-05\n",
      "lnp = 123.15818786621094, lnp_spec = 0.0, lnp_phot = 123.15818786621094\n",
      "[  1.40684647e+11   5.52123931e+00]\n",
      "model calc = 0.00765681266784668s, lnlike calc = 6.341934204101562e-05\n",
      "lnp = 123.15818786621094, lnp_spec = 0.0, lnp_phot = 123.15818786621094\n",
      "[  1.40684654e+11   5.52123943e+00]\n",
      "model calc = 0.007705211639404297s, lnlike calc = 6.413459777832031e-05\n"
     ]
    },
    {
     "name": "stdout",
     "output_type": "stream",
     "text": [
      "lnp = 123.15818786621094, lnp_spec = 0.0, lnp_phot = 123.15818786621094\n",
      "[  1.40684643e+11   5.52123924e+00]\n",
      "model calc = 0.008382320404052734s, lnlike calc = 6.461143493652344e-05\n",
      "lnp = 123.15818786621094, lnp_spec = 0.0, lnp_phot = 123.15818786621094\n",
      "[  1.40684651e+11   5.52123938e+00]\n",
      "model calc = 0.007726192474365234s, lnlike calc = 6.437301635742188e-05\n",
      "lnp = 123.15818786621094, lnp_spec = 0.0, lnp_phot = 123.15818786621094\n",
      "[  1.40684648e+11   5.52123933e+00]\n",
      "model calc = 0.007655143737792969s, lnlike calc = 6.413459777832031e-05\n",
      "lnp = 123.15818786621094, lnp_spec = 0.0, lnp_phot = 123.15818786621094\n",
      "[  1.40684652e+11   5.52123939e+00]\n",
      "model calc = 0.007715463638305664s, lnlike calc = 6.389617919921875e-05\n",
      "lnp = 123.15818786621094, lnp_spec = 0.0, lnp_phot = 123.15818786621094\n",
      "[  1.40684646e+11   5.52123930e+00]\n",
      "model calc = 0.00781869888305664s, lnlike calc = 6.318092346191406e-05\n",
      "lnp = 123.15818786621094, lnp_spec = 0.0, lnp_phot = 123.15818786621094\n",
      "[  1.40684650e+11   5.52123937e+00]\n",
      "model calc = 0.0077435970306396484s, lnlike calc = 6.389617919921875e-05\n",
      "lnp = 123.15818786621094, lnp_spec = 0.0, lnp_phot = 123.15818786621094\n",
      "[  1.40684649e+11   5.52123935e+00]\n",
      "model calc = 0.007658481597900391s, lnlike calc = 6.413459777832031e-05\n",
      "lnp = 123.15818786621094, lnp_spec = 0.0, lnp_phot = 123.15818786621094\n",
      "[  1.40684651e+11   5.52123938e+00]\n",
      "model calc = 0.007648944854736328s, lnlike calc = 6.437301635742188e-05\n",
      "lnp = 123.15818786621094, lnp_spec = 0.0, lnp_phot = 123.15818786621094\n",
      "[  1.40684648e+11   5.52123933e+00]\n",
      "model calc = 0.00779271125793457s, lnlike calc = 6.341934204101562e-05\n",
      "lnp = 123.15818786621094, lnp_spec = 0.0, lnp_phot = 123.15818786621094\n",
      "[  1.40684650e+11   5.52123936e+00]\n",
      "model calc = 0.007738590240478516s, lnlike calc = 6.365776062011719e-05\n",
      "lnp = 123.15818786621094, lnp_spec = 0.0, lnp_phot = 123.15818786621094\n",
      "[  1.40684649e+11   5.52123935e+00]\n",
      "model calc = 0.00758051872253418s, lnlike calc = 6.508827209472656e-05\n",
      "lnp = 123.15818786621094, lnp_spec = 0.0, lnp_phot = 123.15818786621094\n",
      "[  1.40684650e+11   5.52123937e+00]\n",
      "model calc = 0.007660627365112305s, lnlike calc = 6.365776062011719e-05\n",
      "lnp = 123.15818786621094, lnp_spec = 0.0, lnp_phot = 123.15818786621094\n",
      "[  1.40684649e+11   5.52123934e+00]\n",
      "model calc = 0.0077855587005615234s, lnlike calc = 6.341934204101562e-05\n",
      "lnp = 123.15818786621094, lnp_spec = 0.0, lnp_phot = 123.15818786621094\n",
      "[  1.40684650e+11   5.52123936e+00]\n",
      "model calc = 0.007747173309326172s, lnlike calc = 6.318092346191406e-05\n",
      "lnp = 123.15818786621094, lnp_spec = 0.0, lnp_phot = 123.15818786621094\n",
      "[  1.40684650e+11   5.52123936e+00]\n",
      "model calc = 0.007699012756347656s, lnlike calc = 6.389617919921875e-05\n",
      "lnp = 123.15818786621094, lnp_spec = 0.0, lnp_phot = 123.15818786621094\n",
      "[  1.40684650e+11   5.52123936e+00]\n",
      "model calc = 0.008056640625s, lnlike calc = 6.437301635742188e-05\n",
      "lnp = 123.15818786621094, lnp_spec = 0.0, lnp_phot = 123.15818786621094\n",
      "[  1.40684649e+11   5.52123935e+00]\n",
      "model calc = 0.007843017578125s, lnlike calc = 7.176399230957031e-05\n",
      "lnp = 123.15818786621094, lnp_spec = 0.0, lnp_phot = 123.15818786621094\n",
      "[  1.40684650e+11   5.52123936e+00]\n",
      "model calc = 0.007723331451416016s, lnlike calc = 6.413459777832031e-05\n",
      "lnp = 123.15818786621094, lnp_spec = 0.0, lnp_phot = 123.15818786621094\n",
      "[  1.40684650e+11   5.52123936e+00]\n",
      "model calc = 0.007675886154174805s, lnlike calc = 6.413459777832031e-05\n",
      "lnp = 123.15818786621094, lnp_spec = 0.0, lnp_phot = 123.15818786621094\n",
      "[  1.40684650e+11   5.52123936e+00]\n",
      "model calc = 0.007657051086425781s, lnlike calc = 6.341934204101562e-05\n",
      "lnp = 123.15818786621094, lnp_spec = 0.0, lnp_phot = 123.15818786621094\n",
      "[  1.40684650e+11   5.52123935e+00]\n",
      "model calc = 0.007734775543212891s, lnlike calc = 6.437301635742188e-05\n",
      "lnp = 123.15818786621094, lnp_spec = 0.0, lnp_phot = 123.15818786621094\n",
      "[  1.40684650e+11   5.52123936e+00]\n",
      "model calc = 0.007730960845947266s, lnlike calc = 6.413459777832031e-05\n",
      "lnp = 123.15818786621094, lnp_spec = 0.0, lnp_phot = 123.15818786621094\n",
      "[  1.40684650e+11   5.52123936e+00]\n",
      "model calc = 0.007664918899536133s, lnlike calc = 6.29425048828125e-05\n",
      "lnp = 123.15818786621094, lnp_spec = 0.0, lnp_phot = 123.15818786621094\n",
      "[  1.40684650e+11   5.52123936e+00]\n",
      "model calc = 0.008214712142944336s, lnlike calc = 6.461143493652344e-05\n",
      "lnp = 123.15818786621094, lnp_spec = 0.0, lnp_phot = 123.15818786621094\n",
      "[  1.40684650e+11   5.52123936e+00]\n",
      "model calc = 0.007695913314819336s, lnlike calc = 6.413459777832031e-05\n",
      "lnp = 123.15818786621094, lnp_spec = 0.0, lnp_phot = 123.15818786621094\n",
      "[  1.40684650e+11   5.52123936e+00]\n",
      "model calc = 0.007772684097290039s, lnlike calc = 6.341934204101562e-05\n",
      "lnp = 123.15818786621094, lnp_spec = 0.0, lnp_phot = 123.15818786621094\n",
      "[  1.40684650e+11   5.52123936e+00]\n",
      "model calc = 0.0076885223388671875s, lnlike calc = 6.413459777832031e-05\n",
      "lnp = 123.15818786621094, lnp_spec = 0.0, lnp_phot = 123.15818786621094\n",
      "[  1.40684650e+11   5.52123936e+00]\n",
      "model calc = 0.007659912109375s, lnlike calc = 6.413459777832031e-05\n",
      "lnp = 123.15818786621094, lnp_spec = 0.0, lnp_phot = 123.15818786621094\n",
      "[  1.40684650e+11   5.52123936e+00]\n",
      "model calc = 0.007731199264526367s, lnlike calc = 7.224082946777344e-05\n",
      "lnp = 123.15818786621094, lnp_spec = 0.0, lnp_phot = 123.15818786621094\n",
      "[  1.40684650e+11   5.52123936e+00]\n",
      "model calc = 0.007898807525634766s, lnlike calc = 7.271766662597656e-05\n",
      "lnp = 123.15818786621094, lnp_spec = 0.0, lnp_phot = 123.15818786621094\n",
      "[  1.40684650e+11   5.52123936e+00]\n",
      "model calc = 0.007681369781494141s, lnlike calc = 6.389617919921875e-05\n",
      "lnp = 123.15818786621094, lnp_spec = 0.0, lnp_phot = 123.15818786621094\n",
      "[  1.40684650e+11   5.52123936e+00]\n",
      "model calc = 0.0076618194580078125s, lnlike calc = 6.413459777832031e-05\n",
      "lnp = 123.15818786621094, lnp_spec = 0.0, lnp_phot = 123.15818786621094\n",
      "[  1.40684650e+11   5.52123936e+00]\n",
      "model calc = 0.00771331787109375s, lnlike calc = 6.341934204101562e-05\n",
      "lnp = 123.15818786621094, lnp_spec = 0.0, lnp_phot = 123.15818786621094\n",
      "[  1.40684650e+11   5.52123936e+00]\n",
      "model calc = 0.007795810699462891s, lnlike calc = 6.365776062011719e-05\n",
      "lnp = 123.15818786621094, lnp_spec = 0.0, lnp_phot = 123.15818786621094\n",
      "[  1.40684650e+11   5.52123936e+00]\n",
      "model calc = 0.007626533508300781s, lnlike calc = 6.413459777832031e-05\n",
      "lnp = 123.15818786621094, lnp_spec = 0.0, lnp_phot = 123.15818786621094\n",
      "[  1.40684650e+11   5.52123936e+00]\n",
      "model calc = 0.0076596736907958984s, lnlike calc = 6.437301635742188e-05\n",
      "lnp = 123.15818786621094, lnp_spec = 0.0, lnp_phot = 123.15818786621094\n",
      "[  1.40684650e+11   5.52123936e+00]\n",
      "model calc = 0.007724285125732422s, lnlike calc = 6.413459777832031e-05\n",
      "lnp = 123.15818786621094, lnp_spec = 0.0, lnp_phot = 123.15818786621094\n",
      "[  1.40684650e+11   5.52123936e+00]\n",
      "model calc = 0.007839441299438477s, lnlike calc = 6.461143493652344e-05\n",
      "lnp = 123.15818786621094, lnp_spec = 0.0, lnp_phot = 123.15818786621094\n",
      "[  1.40684650e+11   5.52123936e+00]\n",
      "model calc = 0.007684469223022461s, lnlike calc = 7.319450378417969e-05\n",
      "lnp = 123.15818786621094, lnp_spec = 0.0, lnp_phot = 123.15818786621094\n",
      "[  1.40684650e+11   5.52123936e+00]\n",
      "model calc = 0.0076563358306884766s, lnlike calc = 6.413459777832031e-05\n",
      "lnp = 123.15818786621094, lnp_spec = 0.0, lnp_phot = 123.15818786621094\n",
      "[  1.40684650e+11   5.52123936e+00]\n",
      "model calc = 0.007722616195678711s, lnlike calc = 6.365776062011719e-05\n",
      "lnp = 123.15818786621094, lnp_spec = 0.0, lnp_phot = 123.15818786621094\n",
      "[  1.40684650e+11   5.52123936e+00]\n",
      "model calc = 0.00779271125793457s, lnlike calc = 6.389617919921875e-05\n",
      "lnp = 123.15818786621094, lnp_spec = 0.0, lnp_phot = 123.15818786621094\n",
      "[  1.40684650e+11   5.52123936e+00]\n",
      "model calc = 0.007674217224121094s, lnlike calc = 6.365776062011719e-05\n",
      "lnp = 123.15818786621094, lnp_spec = 0.0, lnp_phot = 123.15818786621094\n",
      "[  1.40684650e+11   5.52123936e+00]\n",
      "model calc = 0.0075876712799072266s, lnlike calc = 6.29425048828125e-05\n",
      "lnp = 123.15818786621094, lnp_spec = 0.0, lnp_phot = 123.15818786621094\n",
      "[  1.40684650e+11   5.52123936e+00]\n",
      "model calc = 0.007729053497314453s, lnlike calc = 6.341934204101562e-05\n",
      "lnp = 123.15818786621094, lnp_spec = 0.0, lnp_phot = 123.15818786621094\n",
      "[  1.40684650e+11   5.52123936e+00]\n",
      "model calc = 0.0078122615814208984s, lnlike calc = 6.365776062011719e-05\n"
     ]
    },
    {
     "name": "stdout",
     "output_type": "stream",
     "text": [
      "lnp = 123.15818786621094, lnp_spec = 0.0, lnp_phot = 123.15818786621094\n",
      "[  1.40684650e+11   5.52123936e+00]\n",
      "model calc = 0.00825047492980957s, lnlike calc = 6.508827209472656e-05\n",
      "lnp = 123.15818786621094, lnp_spec = 0.0, lnp_phot = 123.15818786621094\n",
      "[  1.40684650e+11   5.52123936e+00]\n",
      "model calc = 0.007634401321411133s, lnlike calc = 6.413459777832031e-05\n",
      "lnp = 123.15818786621094, lnp_spec = 0.0, lnp_phot = 123.15818786621094\n",
      "[  1.40684650e+11   5.52123936e+00]\n",
      "model calc = 0.0077190399169921875s, lnlike calc = 6.389617919921875e-05\n",
      "lnp = 123.15818786621094, lnp_spec = 0.0, lnp_phot = 123.15818786621094\n",
      "[  1.40684650e+11   5.52123936e+00]\n",
      "model calc = 0.007973670959472656s, lnlike calc = 6.437301635742188e-05\n",
      "lnp = 123.15818786621094, lnp_spec = 0.0, lnp_phot = 123.15818786621094\n",
      "[  1.40684650e+11   5.52123936e+00]\n",
      "model calc = 0.008387327194213867s, lnlike calc = 6.699562072753906e-05\n",
      "lnp = 123.15818786621094, lnp_spec = 0.0, lnp_phot = 123.15818786621094\n",
      "[  1.40684650e+11   5.52123936e+00]\n",
      "model calc = 0.007673978805541992s, lnlike calc = 7.295608520507812e-05\n",
      "lnp = 123.15818786621094, lnp_spec = 0.0, lnp_phot = 123.15818786621094\n",
      "[  1.40684650e+11   5.52123936e+00]\n",
      "model calc = 0.007721424102783203s, lnlike calc = 6.389617919921875e-05\n",
      "lnp = 123.15818786621094, lnp_spec = 0.0, lnp_phot = 123.15818786621094\n",
      "[  1.40684650e+11   5.52123936e+00]\n",
      "model calc = 0.007742643356323242s, lnlike calc = 6.365776062011719e-05\n",
      "lnp = 123.15818786621094, lnp_spec = 0.0, lnp_phot = 123.15818786621094\n",
      "[  1.40684650e+11   5.52123936e+00]\n",
      "model calc = 0.007761955261230469s, lnlike calc = 6.341934204101562e-05\n",
      "lnp = 123.15818786621094, lnp_spec = 0.0, lnp_phot = 123.15818786621094\n",
      "[  1.40684650e+11   5.52123936e+00]\n",
      "model calc = 0.0076694488525390625s, lnlike calc = 6.413459777832031e-05\n",
      "lnp = 123.15818786621094, lnp_spec = 0.0, lnp_phot = 123.15818786621094\n",
      "[  1.40684650e+11   5.52123936e+00]\n",
      "model calc = 0.007733821868896484s, lnlike calc = 6.389617919921875e-05\n",
      "lnp = 123.15818786621094, lnp_spec = 0.0, lnp_phot = 123.15818786621094\n",
      "[  1.40684650e+11   5.52123936e+00]\n",
      "model calc = 0.007727146148681641s, lnlike calc = 6.365776062011719e-05\n",
      "lnp = 123.15818786621094, lnp_spec = 0.0, lnp_phot = 123.15818786621094\n",
      "[  1.40684650e+11   5.52123936e+00]\n",
      "model calc = 0.0076754093170166016s, lnlike calc = 6.413459777832031e-05\n",
      "lnp = 123.15818786621094, lnp_spec = 0.0, lnp_phot = 123.15818786621094\n",
      "[  1.40684650e+11   5.52123936e+00]\n",
      "model calc = 0.00767207145690918s, lnlike calc = 7.200241088867188e-05\n",
      "lnp = 123.15818786621094, lnp_spec = 0.0, lnp_phot = 123.15818786621094\n",
      "[  1.40684650e+11   5.52123936e+00]\n",
      "model calc = 0.007728099822998047s, lnlike calc = 7.128715515136719e-05\n",
      "lnp = 123.15818786621094, lnp_spec = 0.0, lnp_phot = 123.15818786621094\n",
      "[  1.40684650e+11   5.52123936e+00]\n",
      "model calc = 0.0077021121978759766s, lnlike calc = 6.365776062011719e-05\n",
      "lnp = 123.15818786621094, lnp_spec = 0.0, lnp_phot = 123.15818786621094\n",
      "[  1.40684650e+11   5.52123936e+00]\n",
      "model calc = 0.007812976837158203s, lnlike calc = 6.389617919921875e-05\n",
      "lnp = 123.15818786621094, lnp_spec = 0.0, lnp_phot = 123.15818786621094\n",
      "[  1.40684650e+11   5.52123936e+00]\n",
      "model calc = 0.007683515548706055s, lnlike calc = 6.437301635742188e-05\n",
      "lnp = 123.15818786621094, lnp_spec = 0.0, lnp_phot = 123.15818786621094\n",
      "[  1.40684650e+11   5.52123936e+00]\n",
      "model calc = 0.007731914520263672s, lnlike calc = 6.413459777832031e-05\n",
      "lnp = 123.15818786621094, lnp_spec = 0.0, lnp_phot = 123.15818786621094\n",
      "[  1.40684650e+11   5.52123936e+00]\n",
      "model calc = 0.00773310661315918s, lnlike calc = 6.461143493652344e-05\n",
      "lnp = 123.15818786621094, lnp_spec = 0.0, lnp_phot = 123.15818786621094\n",
      "[  1.40684650e+11   5.52123936e+00]\n",
      "model calc = 0.00779271125793457s, lnlike calc = 6.318092346191406e-05\n",
      "lnp = 123.15818786621094, lnp_spec = 0.0, lnp_phot = 123.15818786621094\n",
      "[  1.40684650e+11   5.52123936e+00]\n",
      "model calc = 0.007691383361816406s, lnlike calc = 6.341934204101562e-05\n",
      "lnp = 123.15818786621094, lnp_spec = 0.0, lnp_phot = 123.15818786621094\n",
      "[  1.40684650e+11   5.52123936e+00]\n",
      "model calc = 0.007731914520263672s, lnlike calc = 6.341934204101562e-05\n",
      "lnp = 123.15818786621094, lnp_spec = 0.0, lnp_phot = 123.15818786621094\n",
      "[  1.40684650e+11   5.52123936e+00]\n",
      "model calc = 0.008457183837890625s, lnlike calc = 6.365776062011719e-05\n",
      "lnp = 123.15818786621094, lnp_spec = 0.0, lnp_phot = 123.15818786621094\n",
      "[  1.40684650e+11   5.52123936e+00]\n",
      "model calc = 0.007723093032836914s, lnlike calc = 6.365776062011719e-05\n",
      "lnp = 123.15818786621094, lnp_spec = 0.0, lnp_phot = 123.15818786621094\n",
      "[  1.40684650e+11   5.52123936e+00]\n",
      "model calc = 0.007626056671142578s, lnlike calc = 6.389617919921875e-05\n",
      "lnp = 123.15818786621094, lnp_spec = 0.0, lnp_phot = 123.15818786621094\n",
      "[  1.40684650e+11   5.52123936e+00]\n",
      "model calc = 0.00771331787109375s, lnlike calc = 6.318092346191406e-05\n",
      "lnp = 123.15818786621094, lnp_spec = 0.0, lnp_phot = 123.15818786621094\n",
      "[  1.40684650e+11   5.52123936e+00]\n",
      "model calc = 0.007720232009887695s, lnlike calc = 6.437301635742188e-05\n",
      "lnp = 123.15818786621094, lnp_spec = 0.0, lnp_phot = 123.15818786621094\n",
      "[  1.40684650e+11   5.52123936e+00]\n",
      "model calc = 0.0077288150787353516s, lnlike calc = 6.389617919921875e-05\n",
      "lnp = 123.15818786621094, lnp_spec = 0.0, lnp_phot = 123.15818786621094\n",
      "[  1.40684650e+11   5.52123936e+00]\n",
      "model calc = 0.007672548294067383s, lnlike calc = 7.224082946777344e-05\n",
      "lnp = 123.15818786621094, lnp_spec = 0.0, lnp_phot = 123.15818786621094\n",
      "[  1.40684650e+11   5.52123936e+00]\n",
      "model calc = 0.007641315460205078s, lnlike calc = 7.05718994140625e-05\n",
      "lnp = 123.15818786621094, lnp_spec = 0.0, lnp_phot = 123.15818786621094\n",
      "[  1.40684650e+11   5.52123936e+00]\n",
      "model calc = 0.007720947265625s, lnlike calc = 6.29425048828125e-05\n",
      "lnp = 123.15818786621094, lnp_spec = 0.0, lnp_phot = 123.15818786621094\n",
      "[  1.40684650e+11   5.52123936e+00]\n",
      "model calc = 0.007748603820800781s, lnlike calc = 6.437301635742188e-05\n",
      "lnp = 123.15818786621094, lnp_spec = 0.0, lnp_phot = 123.15818786621094\n",
      "[  1.40684650e+11   5.52123936e+00]\n",
      "model calc = 0.007679939270019531s, lnlike calc = 6.389617919921875e-05\n",
      "lnp = 123.15818786621094, lnp_spec = 0.0, lnp_phot = 123.15818786621094\n",
      "[  1.40684650e+11   5.52123936e+00]\n",
      "model calc = 0.0077245235443115234s, lnlike calc = 6.389617919921875e-05\n",
      "lnp = 123.15818786621094, lnp_spec = 0.0, lnp_phot = 123.15818786621094\n",
      "[  1.40684650e+11   5.52123936e+00]\n",
      "model calc = 0.007727622985839844s, lnlike calc = 6.365776062011719e-05\n",
      "lnp = 123.15818786621094, lnp_spec = 0.0, lnp_phot = 123.15818786621094\n",
      "[  1.40684650e+11   5.52123936e+00]\n",
      "model calc = 0.0077784061431884766s, lnlike calc = 6.413459777832031e-05\n",
      "lnp = 123.15818786621094, lnp_spec = 0.0, lnp_phot = 123.15818786621094\n",
      "[  1.40684650e+11   5.52123936e+00]\n",
      "model calc = 0.007679939270019531s, lnlike calc = 6.389617919921875e-05\n",
      "lnp = 123.15818786621094, lnp_spec = 0.0, lnp_phot = 123.15818786621094\n",
      "[  1.40684650e+11   5.52123936e+00]\n",
      "model calc = 0.0077326297760009766s, lnlike calc = 6.389617919921875e-05\n",
      "lnp = 123.15818786621094, lnp_spec = 0.0, lnp_phot = 123.15818786621094\n",
      "[  1.40684650e+11   5.52123936e+00]\n",
      "model calc = 0.0077168941497802734s, lnlike calc = 6.341934204101562e-05\n",
      "lnp = 123.15818786621094, lnp_spec = 0.0, lnp_phot = 123.15818786621094\n",
      "[  1.40684650e+11   5.52123936e+00]\n",
      "model calc = 0.007760286331176758s, lnlike calc = 6.389617919921875e-05\n",
      "lnp = 123.15818786621094, lnp_spec = 0.0, lnp_phot = 123.15818786621094\n",
      "[  1.40684650e+11   5.52123936e+00]\n",
      "model calc = 0.007674694061279297s, lnlike calc = 6.389617919921875e-05\n",
      "lnp = 123.15818786621094, lnp_spec = 0.0, lnp_phot = 123.15818786621094\n",
      "[  1.40684650e+11   5.52123936e+00]\n",
      "model calc = 0.007729053497314453s, lnlike calc = 6.341934204101562e-05\n",
      "lnp = 123.15818786621094, lnp_spec = 0.0, lnp_phot = 123.15818786621094\n",
      "[  1.40684650e+11   5.52123936e+00]\n",
      "model calc = 0.007711648941040039s, lnlike calc = 6.365776062011719e-05\n",
      "lnp = 123.15818786621094, lnp_spec = 0.0, lnp_phot = 123.15818786621094\n",
      "[  1.40684650e+11   5.52123936e+00]\n",
      "model calc = 0.007588386535644531s, lnlike calc = 6.389617919921875e-05\n",
      "lnp = 123.15818786621094, lnp_spec = 0.0, lnp_phot = 123.15818786621094\n",
      "[  1.40684650e+11   5.52123936e+00]\n",
      "model calc = 0.007664680480957031s, lnlike calc = 6.365776062011719e-05\n"
     ]
    },
    {
     "name": "stdout",
     "output_type": "stream",
     "text": [
      "lnp = 123.15818786621094, lnp_spec = 0.0, lnp_phot = 123.15818786621094\n",
      "[  1.40684650e+11   5.52123936e+00]\n",
      "model calc = 0.008292436599731445s, lnlike calc = 6.437301635742188e-05\n",
      "lnp = 123.15818786621094, lnp_spec = 0.0, lnp_phot = 123.15818786621094\n",
      "[  1.40684650e+11   5.52123936e+00]\n",
      "model calc = 0.007703065872192383s, lnlike calc = 6.437301635742188e-05\n",
      "lnp = 123.15818786621094, lnp_spec = 0.0, lnp_phot = 123.15818786621094\n",
      "[  1.40684650e+11   5.52123936e+00]\n",
      "model calc = 0.0076770782470703125s, lnlike calc = 6.341934204101562e-05\n",
      "lnp = 123.15818786621094, lnp_spec = 0.0, lnp_phot = 123.15818786621094\n",
      "[  1.40684650e+11   5.52123936e+00]\n",
      "model calc = 0.007766008377075195s, lnlike calc = 6.413459777832031e-05\n",
      "lnp = 123.15818786621094, lnp_spec = 0.0, lnp_phot = 123.15818786621094\n",
      "[  1.40684650e+11   5.52123936e+00]\n",
      "model calc = 0.0077474117279052734s, lnlike calc = 6.365776062011719e-05\n",
      "lnp = 123.15818786621094, lnp_spec = 0.0, lnp_phot = 123.15818786621094\n",
      "[  1.40684650e+11   5.52123936e+00]\n",
      "model calc = 0.0077228546142578125s, lnlike calc = 6.413459777832031e-05\n",
      "lnp = 123.15818786621094, lnp_spec = 0.0, lnp_phot = 123.15818786621094\n",
      "[  1.40684650e+11   5.52123936e+00]\n",
      "model calc = 0.00767970085144043s, lnlike calc = 6.4849853515625e-05\n",
      "lnp = 123.15818786621094, lnp_spec = 0.0, lnp_phot = 123.15818786621094\n",
      "[  1.40684650e+11   5.52123936e+00]\n",
      "model calc = 0.007779359817504883s, lnlike calc = 7.05718994140625e-05\n",
      "lnp = 123.15818786621094, lnp_spec = 0.0, lnp_phot = 123.15818786621094\n",
      "[  1.40684650e+11   5.52123936e+00]\n",
      "model calc = 0.007740497589111328s, lnlike calc = 6.365776062011719e-05\n",
      "lnp = 123.15818786621094, lnp_spec = 0.0, lnp_phot = 123.15818786621094\n",
      "[  1.40684650e+11   5.52123936e+00]\n",
      "model calc = 0.007729053497314453s, lnlike calc = 6.341934204101562e-05\n",
      "lnp = 123.15818786621094, lnp_spec = 0.0, lnp_phot = 123.15818786621094\n",
      "[  1.40684650e+11   5.52123936e+00]\n",
      "model calc = 0.007694721221923828s, lnlike calc = 6.341934204101562e-05\n",
      "lnp = 123.15818786621094, lnp_spec = 0.0, lnp_phot = 123.15818786621094\n",
      "[  1.40684650e+11   5.52123936e+00]\n",
      "model calc = 0.00775599479675293s, lnlike calc = 6.389617919921875e-05\n",
      "lnp = 123.15818786621094, lnp_spec = 0.0, lnp_phot = 123.15818786621094\n",
      "done Nelder-Mead in 2.160175085067749s\n",
      "best Nelder-Mead guess: [  1.40684650e+11   5.52123936e+00]\n",
      "best Nelder-Mead lnp: 123.15818786621094\n"
     ]
    }
   ],
   "source": [
    "def chisqfn(theta):\n",
    "    \"\"\"Negative of lnprobfn for minimization, and also handles passing in\n",
    "    keyword arguments which can only be postional arguments when using scipy\n",
    "    minimize.\n",
    "    \"\"\"\n",
    "    return -lnprobfn(theta)\n",
    "\n",
    "verbose=False # don't output function calls\n",
    "\n",
    "# start minimization\n",
    "min_method = 'Nelder-Mead'\n",
    "ts = time.time()\n",
    "min_results = minimize(chisqfn, initial_theta, method=min_method)\n",
    "pdur = time.time() - ts\n",
    "\n",
    "# reinitialize fit\n",
    "initial_center = fitting.reinitialize(min_results.x, model, edge_trunc=run_params.get('edge_trunc', 0.1))\n",
    "initial_prob = -1 * min_results['fun']\n",
    "\n",
    "# output results\n",
    "print('done {0} in {1}s'.format(min_method,pdur))\n",
    "print('best {0} guess: {1}'.format(min_method,initial_center))\n",
    "print('best {0} lnp: {1}'.format(min_method,initial_prob))"
   ]
  },
  {
   "cell_type": "code",
   "execution_count": 27,
   "metadata": {},
   "outputs": [
    {
     "data": {
      "image/png": "[encoded data removed]",
      "text/plain": [
       "<matplotlib.figure.Figure at 0x7ff550298ac8>"
      ]
     },
     "metadata": {},
     "output_type": "display_data"
    }
   ],
   "source": [
    "# Check that we got closer!\n",
    "mspec_init, mphot_init, mextra_init = model.mean_model(min_results.x, obs, sps=sps) # generate model\n",
    "\n",
    "# plotting \n",
    "figure(figsize=(16,8))\n",
    "loglog(wspec, mspec_init, lw=0.7, color='navy', alpha=0.7, label='Model spectrum')\n",
    "errorbar(wphot, mphot_init, marker='s', ls='', lw=3, markersize=10,\n",
    "         markerfacecolor='none', markeredgecolor='blue', markeredgewidth=3, alpha=0.8, label='Model photometry')\n",
    "errorbar(wphot, obs['maggies'], yerr=obs['maggies_unc'], ecolor='red', marker='o', ls='', lw=3, markersize=10, \n",
    "         markerfacecolor='none', markeredgecolor='red', markeredgewidth=3, alpha=0.8, label='Observed photometry')\n",
    "\n",
    "xlabel('Wavelength [A]')\n",
    "ylabel('Flux Density [maggies]')\n",
    "xlim([xmin, xmax])\n",
    "ylim([ymin, ymax*10])\n",
    "legend(loc='best', fontsize=20)\n",
    "tight_layout()"
   ]
  },
  {
   "cell_type": "markdown",
   "metadata": {},
   "source": [
    "### Sampling the Posterior"
   ]
  },
  {
   "cell_type": "code",
   "execution_count": 28,
   "metadata": {},
   "outputs": [
    {
     "name": "stdout",
     "output_type": "stream",
     "text": [
      "Not using MPI\n"
     ]
    }
   ],
   "source": [
    "# Do we actually need this?\n",
    "\n",
    "try:\n",
    "    from emcee.utils import MPIPool\n",
    "    pool = MPIPool(debug=False, loadbalance=True)\n",
    "    if not pool.is_master():\n",
    "    # Wait for instructions from the master process.\n",
    "        pool.wait()\n",
    "        sys.exit(0)\n",
    "except(ImportError, ValueError):\n",
    "    pool = None\n",
    "    print('Not using MPI')"
   ]
  },
  {
   "cell_type": "code",
   "execution_count": 29,
   "metadata": {
    "collapsed": true
   },
   "outputs": [],
   "source": [
    "def halt(message):\n",
    "    \"\"\"Exit, closing pool safely.\n",
    "    \"\"\"\n",
    "    print(message)\n",
    "    try:\n",
    "        pool.close()\n",
    "    except:\n",
    "        pass"
   ]
  },
  {
   "cell_type": "code",
   "execution_count": 30,
   "metadata": {},
   "outputs": [
    {
     "name": "stdout",
     "output_type": "stream",
     "text": [
      "done emcee in 207.07193779945374s\n"
     ]
    }
   ],
   "source": [
    "postkwargs = {}\n",
    "\n",
    "fout = sys.stdout\n",
    "fnull = open(os.devnull, 'w')\n",
    "sys.stdout = fnull\n",
    "\n",
    "\n",
    "tstart = time.time()\n",
    "\n",
    "out = fitting.run_emcee_sampler(lnprobfn, initial_center, model,\n",
    "                                postkwargs=postkwargs, initial_prob=initial_prob,\n",
    "                                pool=pool, hdf5=hfile, **run_params)\n",
    "esampler, burn_p0, burn_prob0 = out\n",
    "edur = time.time() - tstart\n",
    "sys.stdout = fout\n",
    "\n",
    "print('done emcee in {0}s'.format(edur))"
   ]
  },
  {
   "cell_type": "code",
   "execution_count": 31,
   "metadata": {},
   "outputs": [
    {
     "ename": "TypeError",
     "evalue": "expected str, bytes or os.PathLike object, not File",
     "output_type": "error",
     "traceback": [
      "\u001b[0;31m---------------------------------------------------------------------------\u001b[0m",
      "\u001b[0;31mTypeError\u001b[0m                                 Traceback (most recent call last)",
      "\u001b[0;32m<ipython-input-31-70fdf2d096d9>\u001b[0m in \u001b[0;36m<module>\u001b[0;34m()\u001b[0m\n\u001b[1;32m     12\u001b[0m                          \u001b[0msampling_initial_center\u001b[0m\u001b[0;34m=\u001b[0m\u001b[0minitial_center\u001b[0m\u001b[0;34m,\u001b[0m\u001b[0;34m\u001b[0m\u001b[0m\n\u001b[1;32m     13\u001b[0m                          \u001b[0mpost_burnin_center\u001b[0m\u001b[0;34m=\u001b[0m\u001b[0mburn_p0\u001b[0m\u001b[0;34m,\u001b[0m\u001b[0;34m\u001b[0m\u001b[0m\n\u001b[0;32m---> 14\u001b[0;31m                          post_burnin_prob=burn_prob0)\n\u001b[0m\u001b[1;32m     15\u001b[0m \u001b[0;34m\u001b[0m\u001b[0m\n\u001b[1;32m     16\u001b[0m \u001b[0mhalt\u001b[0m\u001b[0;34m(\u001b[0m\u001b[0;34m'Finished'\u001b[0m\u001b[0;34m)\u001b[0m\u001b[0;34m\u001b[0m\u001b[0m\n",
      "\u001b[0;32m/usr/local/anaconda3/envs/py35/lib/python3.6/site-packages/prospect-e48ef60-py3.6.egg/prospect/io/write_results.py\u001b[0m in \u001b[0;36mwrite_hdf5\u001b[0;34m(hfile, run_params, model, obs, sampler, powell_results, tsample, toptimize, sampling_initial_center, **extras)\u001b[0m\n\u001b[1;32m    139\u001b[0m     \u001b[0;32mtry\u001b[0m\u001b[0;34m:\u001b[0m\u001b[0;34m\u001b[0m\u001b[0m\n\u001b[1;32m    140\u001b[0m         \u001b[0;31m# If ``hfile`` is not a file object, assume it is a filename and open\u001b[0m\u001b[0;34m\u001b[0m\u001b[0;34m\u001b[0m\u001b[0m\n\u001b[0;32m--> 141\u001b[0;31m         \u001b[0mhf\u001b[0m \u001b[0;34m=\u001b[0m \u001b[0mh5py\u001b[0m\u001b[0;34m.\u001b[0m\u001b[0mFile\u001b[0m\u001b[0;34m(\u001b[0m\u001b[0mhfile\u001b[0m\u001b[0;34m,\u001b[0m \u001b[0;34m\"a\"\u001b[0m\u001b[0;34m)\u001b[0m\u001b[0;34m\u001b[0m\u001b[0m\n\u001b[0m\u001b[1;32m    142\u001b[0m     \u001b[0;32mexcept\u001b[0m\u001b[0;34m(\u001b[0m\u001b[0mAttributeError\u001b[0m\u001b[0;34m)\u001b[0m\u001b[0;34m:\u001b[0m\u001b[0;34m\u001b[0m\u001b[0m\n\u001b[1;32m    143\u001b[0m         \u001b[0mhf\u001b[0m \u001b[0;34m=\u001b[0m \u001b[0mhfile\u001b[0m\u001b[0;34m\u001b[0m\u001b[0m\n",
      "\u001b[0;32m/usr/local/anaconda3/envs/py35/lib/python3.6/site-packages/h5py/_hl/files.py\u001b[0m in \u001b[0;36m__init__\u001b[0;34m(self, name, mode, driver, libver, userblock_size, swmr, **kwds)\u001b[0m\n\u001b[1;32m    266\u001b[0m                 \u001b[0mfid\u001b[0m \u001b[0;34m=\u001b[0m \u001b[0mh5i\u001b[0m\u001b[0;34m.\u001b[0m\u001b[0mget_file_id\u001b[0m\u001b[0;34m(\u001b[0m\u001b[0mname\u001b[0m\u001b[0;34m)\u001b[0m\u001b[0;34m\u001b[0m\u001b[0m\n\u001b[1;32m    267\u001b[0m             \u001b[0;32melse\u001b[0m\u001b[0;34m:\u001b[0m\u001b[0;34m\u001b[0m\u001b[0m\n\u001b[0;32m--> 268\u001b[0;31m                 \u001b[0mname\u001b[0m \u001b[0;34m=\u001b[0m \u001b[0mfsencode\u001b[0m\u001b[0;34m(\u001b[0m\u001b[0mfspath\u001b[0m\u001b[0;34m(\u001b[0m\u001b[0mname\u001b[0m\u001b[0;34m)\u001b[0m\u001b[0;34m)\u001b[0m\u001b[0;34m\u001b[0m\u001b[0m\n\u001b[0m\u001b[1;32m    269\u001b[0m \u001b[0;34m\u001b[0m\u001b[0m\n\u001b[1;32m    270\u001b[0m                 \u001b[0mfapl\u001b[0m \u001b[0;34m=\u001b[0m \u001b[0mmake_fapl\u001b[0m\u001b[0;34m(\u001b[0m\u001b[0mdriver\u001b[0m\u001b[0;34m,\u001b[0m \u001b[0mlibver\u001b[0m\u001b[0;34m,\u001b[0m \u001b[0;34m**\u001b[0m\u001b[0mkwds\u001b[0m\u001b[0;34m)\u001b[0m\u001b[0;34m\u001b[0m\u001b[0m\n",
      "\u001b[0;31mTypeError\u001b[0m: expected str, bytes or os.PathLike object, not File"
     ]
    }
   ],
   "source": [
    "# Saves results to a disk - Error \n",
    "write_results.write_pickles(run_params, model, obs, esampler, min_results,\n",
    "                            outroot=outroot, toptimize=pdur, tsample=edur,\n",
    "                            sampling_initial_center=initial_center,\n",
    "                            post_burnin_center=burn_p0,\n",
    "                            post_burnin_prob=burn_prob0)\n",
    "\n",
    "if hfile is None:\n",
    "    hfile = hfilename\n",
    "write_results.write_hdf5(hfile, run_params, model, obs, esampler, min_results,\n",
    "                         toptimize=pdur, tsample=edur,                         \n",
    "                         sampling_initial_center=initial_center,\n",
    "                         post_burnin_center=burn_p0,\n",
    "                         post_burnin_prob=burn_prob0)\n",
    "\n",
    "halt('Finished')"
   ]
  },
  {
   "cell_type": "markdown",
   "metadata": {},
   "source": [
    "# Visualizing the Results"
   ]
  },
  {
   "cell_type": "code",
   "execution_count": 32,
   "metadata": {},
   "outputs": [
    {
     "ename": "OSError",
     "evalue": "Unable to open file (Unable to open file: name = 'test_1496243536_mcmc.h5', errno = 2, error message = 'no such file or directory', flags = 0, o_flags = 0)",
     "output_type": "error",
     "traceback": [
      "\u001b[0;31m---------------------------------------------------------------------------\u001b[0m",
      "\u001b[0;31mOSError\u001b[0m                                   Traceback (most recent call last)",
      "\u001b[0;32m<ipython-input-32-fe280c903bd9>\u001b[0m in \u001b[0;36m<module>\u001b[0;34m()\u001b[0m\n\u001b[1;32m      1\u001b[0m \u001b[0;31m# grab results, powell results, and our corresponding models -Error\u001b[0m\u001b[0;34m\u001b[0m\u001b[0;34m\u001b[0m\u001b[0m\n\u001b[0;32m----> 2\u001b[0;31m \u001b[0mres\u001b[0m\u001b[0;34m,\u001b[0m \u001b[0mpr\u001b[0m\u001b[0;34m,\u001b[0m \u001b[0mmod\u001b[0m \u001b[0;34m=\u001b[0m \u001b[0mread_results\u001b[0m\u001b[0;34m.\u001b[0m\u001b[0mresults_from\u001b[0m\u001b[0;34m(\u001b[0m\u001b[0;34m\"{}_1496243536_mcmc.h5\"\u001b[0m\u001b[0;34m.\u001b[0m\u001b[0mformat\u001b[0m\u001b[0;34m(\u001b[0m\u001b[0mrun_params\u001b[0m\u001b[0;34m[\u001b[0m\u001b[0;34m'outfile'\u001b[0m\u001b[0;34m]\u001b[0m\u001b[0;34m)\u001b[0m\u001b[0;34m)\u001b[0m\u001b[0;34m\u001b[0m\u001b[0m\n\u001b[0m",
      "\u001b[0;32m/usr/local/anaconda3/envs/py35/lib/python3.6/site-packages/prospect-e48ef60-py3.6.egg/prospect/io/read_results.py\u001b[0m in \u001b[0;36mresults_from\u001b[0;34m(filename, model_file, **kwargs)\u001b[0m\n\u001b[1;32m     50\u001b[0m     \u001b[0;31m# Read the basic chain, parameter, and run_params info\u001b[0m\u001b[0;34m\u001b[0m\u001b[0;34m\u001b[0m\u001b[0m\n\u001b[1;32m     51\u001b[0m     \u001b[0;32mif\u001b[0m \u001b[0mfilename\u001b[0m\u001b[0;34m.\u001b[0m\u001b[0msplit\u001b[0m\u001b[0;34m(\u001b[0m\u001b[0;34m'.'\u001b[0m\u001b[0;34m)\u001b[0m\u001b[0;34m[\u001b[0m\u001b[0;34m-\u001b[0m\u001b[0;36m1\u001b[0m\u001b[0;34m]\u001b[0m \u001b[0;34m==\u001b[0m \u001b[0;34m'h5'\u001b[0m\u001b[0;34m:\u001b[0m\u001b[0;34m\u001b[0m\u001b[0m\n\u001b[0;32m---> 52\u001b[0;31m         \u001b[0mres\u001b[0m \u001b[0;34m=\u001b[0m \u001b[0mread_hdf5\u001b[0m\u001b[0;34m(\u001b[0m\u001b[0mfilename\u001b[0m\u001b[0;34m,\u001b[0m \u001b[0;34m**\u001b[0m\u001b[0mkwargs\u001b[0m\u001b[0;34m)\u001b[0m\u001b[0;34m\u001b[0m\u001b[0m\n\u001b[0m\u001b[1;32m     53\u001b[0m         \u001b[0mmf_default\u001b[0m \u001b[0;34m=\u001b[0m \u001b[0mfilename\u001b[0m\u001b[0;34m.\u001b[0m\u001b[0mreplace\u001b[0m\u001b[0;34m(\u001b[0m\u001b[0;34m'_mcmc.h5'\u001b[0m\u001b[0;34m,\u001b[0m \u001b[0;34m'_model'\u001b[0m\u001b[0;34m)\u001b[0m\u001b[0;34m\u001b[0m\u001b[0m\n\u001b[1;32m     54\u001b[0m     \u001b[0;32melse\u001b[0m\u001b[0;34m:\u001b[0m\u001b[0;34m\u001b[0m\u001b[0m\n",
      "\u001b[0;32m/usr/local/anaconda3/envs/py35/lib/python3.6/site-packages/prospect-e48ef60-py3.6.egg/prospect/io/read_results.py\u001b[0m in \u001b[0;36mread_hdf5\u001b[0;34m(filename, **extras)\u001b[0m\n\u001b[1;32m    138\u001b[0m     \u001b[0mgroups\u001b[0m \u001b[0;34m=\u001b[0m \u001b[0;34m{\u001b[0m\u001b[0;34m'sampling'\u001b[0m\u001b[0;34m:\u001b[0m \u001b[0;34m{\u001b[0m\u001b[0;34m}\u001b[0m\u001b[0;34m,\u001b[0m \u001b[0;34m'obs'\u001b[0m\u001b[0;34m:\u001b[0m \u001b[0;34m{\u001b[0m\u001b[0;34m}\u001b[0m\u001b[0;34m}\u001b[0m\u001b[0;34m\u001b[0m\u001b[0m\n\u001b[1;32m    139\u001b[0m     \u001b[0mres\u001b[0m \u001b[0;34m=\u001b[0m \u001b[0;34m{\u001b[0m\u001b[0;34m}\u001b[0m\u001b[0;34m\u001b[0m\u001b[0m\n\u001b[0;32m--> 140\u001b[0;31m     \u001b[0;32mwith\u001b[0m \u001b[0mh5py\u001b[0m\u001b[0;34m.\u001b[0m\u001b[0mFile\u001b[0m\u001b[0;34m(\u001b[0m\u001b[0mfilename\u001b[0m\u001b[0;34m,\u001b[0m \u001b[0;34m\"r\"\u001b[0m\u001b[0;34m)\u001b[0m \u001b[0;32mas\u001b[0m \u001b[0mhf\u001b[0m\u001b[0;34m:\u001b[0m\u001b[0;34m\u001b[0m\u001b[0m\n\u001b[0m\u001b[1;32m    141\u001b[0m         \u001b[0;31m# loop over the groups\u001b[0m\u001b[0;34m\u001b[0m\u001b[0;34m\u001b[0m\u001b[0m\n\u001b[1;32m    142\u001b[0m         \u001b[0;32mfor\u001b[0m \u001b[0mgroup\u001b[0m\u001b[0;34m,\u001b[0m \u001b[0md\u001b[0m \u001b[0;32min\u001b[0m \u001b[0mgroups\u001b[0m\u001b[0;34m.\u001b[0m\u001b[0mitems\u001b[0m\u001b[0;34m(\u001b[0m\u001b[0;34m)\u001b[0m\u001b[0;34m:\u001b[0m\u001b[0;34m\u001b[0m\u001b[0m\n",
      "\u001b[0;32m/usr/local/anaconda3/envs/py35/lib/python3.6/site-packages/h5py/_hl/files.py\u001b[0m in \u001b[0;36m__init__\u001b[0;34m(self, name, mode, driver, libver, userblock_size, swmr, **kwds)\u001b[0m\n\u001b[1;32m    269\u001b[0m \u001b[0;34m\u001b[0m\u001b[0m\n\u001b[1;32m    270\u001b[0m                 \u001b[0mfapl\u001b[0m \u001b[0;34m=\u001b[0m \u001b[0mmake_fapl\u001b[0m\u001b[0;34m(\u001b[0m\u001b[0mdriver\u001b[0m\u001b[0;34m,\u001b[0m \u001b[0mlibver\u001b[0m\u001b[0;34m,\u001b[0m \u001b[0;34m**\u001b[0m\u001b[0mkwds\u001b[0m\u001b[0;34m)\u001b[0m\u001b[0;34m\u001b[0m\u001b[0m\n\u001b[0;32m--> 271\u001b[0;31m                 \u001b[0mfid\u001b[0m \u001b[0;34m=\u001b[0m \u001b[0mmake_fid\u001b[0m\u001b[0;34m(\u001b[0m\u001b[0mname\u001b[0m\u001b[0;34m,\u001b[0m \u001b[0mmode\u001b[0m\u001b[0;34m,\u001b[0m \u001b[0muserblock_size\u001b[0m\u001b[0;34m,\u001b[0m \u001b[0mfapl\u001b[0m\u001b[0;34m,\u001b[0m \u001b[0mswmr\u001b[0m\u001b[0;34m=\u001b[0m\u001b[0mswmr\u001b[0m\u001b[0;34m)\u001b[0m\u001b[0;34m\u001b[0m\u001b[0m\n\u001b[0m\u001b[1;32m    272\u001b[0m \u001b[0;34m\u001b[0m\u001b[0m\n\u001b[1;32m    273\u001b[0m                 \u001b[0;32mif\u001b[0m \u001b[0mswmr_support\u001b[0m\u001b[0;34m:\u001b[0m\u001b[0;34m\u001b[0m\u001b[0m\n",
      "\u001b[0;32m/usr/local/anaconda3/envs/py35/lib/python3.6/site-packages/h5py/_hl/files.py\u001b[0m in \u001b[0;36mmake_fid\u001b[0;34m(name, mode, userblock_size, fapl, fcpl, swmr)\u001b[0m\n\u001b[1;32m     99\u001b[0m         \u001b[0;32mif\u001b[0m \u001b[0mswmr\u001b[0m \u001b[0;32mand\u001b[0m \u001b[0mswmr_support\u001b[0m\u001b[0;34m:\u001b[0m\u001b[0;34m\u001b[0m\u001b[0m\n\u001b[1;32m    100\u001b[0m             \u001b[0mflags\u001b[0m \u001b[0;34m|=\u001b[0m \u001b[0mh5f\u001b[0m\u001b[0;34m.\u001b[0m\u001b[0mACC_SWMR_READ\u001b[0m\u001b[0;34m\u001b[0m\u001b[0m\n\u001b[0;32m--> 101\u001b[0;31m         \u001b[0mfid\u001b[0m \u001b[0;34m=\u001b[0m \u001b[0mh5f\u001b[0m\u001b[0;34m.\u001b[0m\u001b[0mopen\u001b[0m\u001b[0;34m(\u001b[0m\u001b[0mname\u001b[0m\u001b[0;34m,\u001b[0m \u001b[0mflags\u001b[0m\u001b[0;34m,\u001b[0m \u001b[0mfapl\u001b[0m\u001b[0;34m=\u001b[0m\u001b[0mfapl\u001b[0m\u001b[0;34m)\u001b[0m\u001b[0;34m\u001b[0m\u001b[0m\n\u001b[0m\u001b[1;32m    102\u001b[0m     \u001b[0;32melif\u001b[0m \u001b[0mmode\u001b[0m \u001b[0;34m==\u001b[0m \u001b[0;34m'r+'\u001b[0m\u001b[0;34m:\u001b[0m\u001b[0;34m\u001b[0m\u001b[0m\n\u001b[1;32m    103\u001b[0m         \u001b[0mfid\u001b[0m \u001b[0;34m=\u001b[0m \u001b[0mh5f\u001b[0m\u001b[0;34m.\u001b[0m\u001b[0mopen\u001b[0m\u001b[0;34m(\u001b[0m\u001b[0mname\u001b[0m\u001b[0;34m,\u001b[0m \u001b[0mh5f\u001b[0m\u001b[0;34m.\u001b[0m\u001b[0mACC_RDWR\u001b[0m\u001b[0;34m,\u001b[0m \u001b[0mfapl\u001b[0m\u001b[0;34m=\u001b[0m\u001b[0mfapl\u001b[0m\u001b[0;34m)\u001b[0m\u001b[0;34m\u001b[0m\u001b[0m\n",
      "\u001b[0;32mh5py/_objects.pyx\u001b[0m in \u001b[0;36mh5py._objects.with_phil.wrapper (/home/ilan/minonda/conda-bld/h5py_1490028290543/work/h5py/_objects.c:2846)\u001b[0;34m()\u001b[0m\n",
      "\u001b[0;32mh5py/_objects.pyx\u001b[0m in \u001b[0;36mh5py._objects.with_phil.wrapper (/home/ilan/minonda/conda-bld/h5py_1490028290543/work/h5py/_objects.c:2804)\u001b[0;34m()\u001b[0m\n",
      "\u001b[0;32mh5py/h5f.pyx\u001b[0m in \u001b[0;36mh5py.h5f.open (/home/ilan/minonda/conda-bld/h5py_1490028290543/work/h5py/h5f.c:2123)\u001b[0;34m()\u001b[0m\n",
      "\u001b[0;31mOSError\u001b[0m: Unable to open file (Unable to open file: name = 'test_1496243536_mcmc.h5', errno = 2, error message = 'no such file or directory', flags = 0, o_flags = 0)"
     ]
    }
   ],
   "source": [
    "# grab results, powell results, and our corresponding models -Error\n",
    "res, pr, mod = read_results.results_from(\"{}_1496243536_mcmc.h5\".format(run_params['outfile']))"
   ]
  },
  {
   "cell_type": "code",
   "execution_count": 33,
   "metadata": {},
   "outputs": [
    {
     "ename": "NameError",
     "evalue": "name 'res' is not defined",
     "output_type": "error",
     "traceback": [
      "\u001b[0;31m---------------------------------------------------------------------------\u001b[0m",
      "\u001b[0;31mNameError\u001b[0m                                 Traceback (most recent call last)",
      "\u001b[0;32m<ipython-input-33-192135bc718a>\u001b[0m in \u001b[0;36m<module>\u001b[0;34m()\u001b[0m\n\u001b[0;32m----> 1\u001b[0;31m \u001b[0mtracefig\u001b[0m \u001b[0;34m=\u001b[0m \u001b[0mpread\u001b[0m\u001b[0;34m.\u001b[0m\u001b[0mparam_evol\u001b[0m\u001b[0;34m(\u001b[0m\u001b[0mres\u001b[0m\u001b[0;34m,\u001b[0m \u001b[0mfigsize\u001b[0m\u001b[0;34m=\u001b[0m\u001b[0;34m(\u001b[0m\u001b[0;36m20\u001b[0m\u001b[0;34m,\u001b[0m\u001b[0;36m10\u001b[0m\u001b[0;34m)\u001b[0m\u001b[0;34m,\u001b[0m \u001b[0mchains\u001b[0m\u001b[0;34m=\u001b[0m\u001b[0mchoice\u001b[0m\u001b[0;34m(\u001b[0m\u001b[0;36m128\u001b[0m\u001b[0;34m,\u001b[0m \u001b[0msize\u001b[0m\u001b[0;34m=\u001b[0m\u001b[0;36m10\u001b[0m\u001b[0;34m,\u001b[0m \u001b[0mreplace\u001b[0m\u001b[0;34m=\u001b[0m\u001b[0;32mFalse\u001b[0m\u001b[0;34m)\u001b[0m\u001b[0;34m)\u001b[0m\u001b[0;34m\u001b[0m\u001b[0m\n\u001b[0m",
      "\u001b[0;31mNameError\u001b[0m: name 'res' is not defined"
     ]
    }
   ],
   "source": [
    "tracefig = pread.param_evol(res, figsize=(20,10), chains=choice(128, size=10, replace=False))"
   ]
  },
  {
   "cell_type": "code",
   "execution_count": 34,
   "metadata": {},
   "outputs": [
    {
     "ename": "KeyError",
     "evalue": "'mass'",
     "output_type": "error",
     "traceback": [
      "\u001b[0;31m---------------------------------------------------------------------------\u001b[0m",
      "\u001b[0;31mKeyError\u001b[0m                                  Traceback (most recent call last)",
      "\u001b[0;32m<ipython-input-34-3cb4fbad1190>\u001b[0m in \u001b[0;36m<module>\u001b[0;34m()\u001b[0m\n\u001b[0;32m----> 1\u001b[0;31m \u001b[0mtheta_truth\u001b[0m \u001b[0;34m=\u001b[0m \u001b[0marray\u001b[0m\u001b[0;34m(\u001b[0m\u001b[0;34m[\u001b[0m\u001b[0mrun_params\u001b[0m\u001b[0;34m[\u001b[0m\u001b[0mi\u001b[0m\u001b[0;34m]\u001b[0m \u001b[0;32mfor\u001b[0m \u001b[0mi\u001b[0m \u001b[0;32min\u001b[0m \u001b[0;34m[\u001b[0m\u001b[0;34m'mass'\u001b[0m\u001b[0;34m,\u001b[0m\u001b[0;34m'logzsol'\u001b[0m\u001b[0;34m,\u001b[0m\u001b[0;34m'tau'\u001b[0m\u001b[0;34m,\u001b[0m\u001b[0;34m'tage'\u001b[0m\u001b[0;34m,\u001b[0m\u001b[0;34m'dust2'\u001b[0m\u001b[0;34m]\u001b[0m\u001b[0;34m]\u001b[0m\u001b[0;34m)\u001b[0m\u001b[0;34m\u001b[0m\u001b[0m\n\u001b[0m\u001b[1;32m      2\u001b[0m \u001b[0mtheta_truth\u001b[0m\u001b[0;34m[\u001b[0m\u001b[0;36m0\u001b[0m\u001b[0;34m]\u001b[0m \u001b[0;34m=\u001b[0m \u001b[0mlog10\u001b[0m\u001b[0;34m(\u001b[0m\u001b[0mtheta_truth\u001b[0m\u001b[0;34m[\u001b[0m\u001b[0;36m0\u001b[0m\u001b[0;34m]\u001b[0m\u001b[0;34m)\u001b[0m\u001b[0;34m\u001b[0m\u001b[0m\n\u001b[1;32m      3\u001b[0m cornerfig = pread.subtriangle(res, start=0, thin=5, truths=theta_truth, \n\u001b[1;32m      4\u001b[0m                               fig=subplots(5,5,figsize=(27,27))[0])\n",
      "\u001b[0;32m<ipython-input-34-3cb4fbad1190>\u001b[0m in \u001b[0;36m<listcomp>\u001b[0;34m(.0)\u001b[0m\n\u001b[0;32m----> 1\u001b[0;31m \u001b[0mtheta_truth\u001b[0m \u001b[0;34m=\u001b[0m \u001b[0marray\u001b[0m\u001b[0;34m(\u001b[0m\u001b[0;34m[\u001b[0m\u001b[0mrun_params\u001b[0m\u001b[0;34m[\u001b[0m\u001b[0mi\u001b[0m\u001b[0;34m]\u001b[0m \u001b[0;32mfor\u001b[0m \u001b[0mi\u001b[0m \u001b[0;32min\u001b[0m \u001b[0;34m[\u001b[0m\u001b[0;34m'mass'\u001b[0m\u001b[0;34m,\u001b[0m\u001b[0;34m'logzsol'\u001b[0m\u001b[0;34m,\u001b[0m\u001b[0;34m'tau'\u001b[0m\u001b[0;34m,\u001b[0m\u001b[0;34m'tage'\u001b[0m\u001b[0;34m,\u001b[0m\u001b[0;34m'dust2'\u001b[0m\u001b[0;34m]\u001b[0m\u001b[0;34m]\u001b[0m\u001b[0;34m)\u001b[0m\u001b[0;34m\u001b[0m\u001b[0m\n\u001b[0m\u001b[1;32m      2\u001b[0m \u001b[0mtheta_truth\u001b[0m\u001b[0;34m[\u001b[0m\u001b[0;36m0\u001b[0m\u001b[0;34m]\u001b[0m \u001b[0;34m=\u001b[0m \u001b[0mlog10\u001b[0m\u001b[0;34m(\u001b[0m\u001b[0mtheta_truth\u001b[0m\u001b[0;34m[\u001b[0m\u001b[0;36m0\u001b[0m\u001b[0;34m]\u001b[0m\u001b[0;34m)\u001b[0m\u001b[0;34m\u001b[0m\u001b[0m\n\u001b[1;32m      3\u001b[0m cornerfig = pread.subtriangle(res, start=0, thin=5, truths=theta_truth, \n\u001b[1;32m      4\u001b[0m                               fig=subplots(5,5,figsize=(27,27))[0])\n",
      "\u001b[0;31mKeyError\u001b[0m: 'mass'"
     ]
    }
   ],
   "source": [
    "theta_truth = array([run_params[i] for i in ['mass','logzsol','tau','tage','dust2']])\n",
    "theta_truth[0] = log10(theta_truth[0])\n",
    "cornerfig = pread.subtriangle(res, start=0, thin=5, truths=theta_truth, \n",
    "                              fig=subplots(5,5,figsize=(27,27))[0])"
   ]
  },
  {
   "cell_type": "code",
   "execution_count": 35,
   "metadata": {
    "scrolled": true
   },
   "outputs": [
    {
     "ename": "IndexError",
     "evalue": "index 499 is out of bounds for axis 1 with size 0",
     "output_type": "error",
     "traceback": [
      "\u001b[0;31m---------------------------------------------------------------------------\u001b[0m",
      "\u001b[0;31mIndexError\u001b[0m                                Traceback (most recent call last)",
      "\u001b[0;32m<ipython-input-35-175e38124262>\u001b[0m in \u001b[0;36m<module>\u001b[0;34m()\u001b[0m\n\u001b[1;32m      1\u001b[0m \u001b[0;31m# Pick a random walker at the end!\u001b[0m\u001b[0;34m\u001b[0m\u001b[0;34m\u001b[0m\u001b[0m\n\u001b[0;32m----> 2\u001b[0;31m \u001b[0mtheta\u001b[0m \u001b[0;34m=\u001b[0m \u001b[0mesampler\u001b[0m\u001b[0;34m.\u001b[0m\u001b[0mchain\u001b[0m\u001b[0;34m[\u001b[0m\u001b[0;36m5\u001b[0m\u001b[0;34m,\u001b[0m \u001b[0mrun_params\u001b[0m\u001b[0;34m[\u001b[0m\u001b[0;34m'niter'\u001b[0m\u001b[0;34m]\u001b[0m\u001b[0;34m-\u001b[0m\u001b[0;36m1\u001b[0m\u001b[0;34m,\u001b[0m \u001b[0;34m:\u001b[0m\u001b[0;34m]\u001b[0m\u001b[0;34m\u001b[0m\u001b[0m\n\u001b[0m\u001b[1;32m      3\u001b[0m \u001b[0;31m#theta = esampler.chain[5, 100, :]\u001b[0m\u001b[0;34m\u001b[0m\u001b[0;34m\u001b[0m\u001b[0m\n\u001b[1;32m      4\u001b[0m \u001b[0mprint\u001b[0m\u001b[0;34m(\u001b[0m\u001b[0mtheta\u001b[0m\u001b[0;34m)\u001b[0m\u001b[0;34m\u001b[0m\u001b[0m\n\u001b[1;32m      5\u001b[0m \u001b[0;34m\u001b[0m\u001b[0m\n",
      "\u001b[0;31mIndexError\u001b[0m: index 499 is out of bounds for axis 1 with size 0"
     ]
    }
   ],
   "source": [
    "# Pick a random walker at the end!\n",
    "theta = esampler.chain[5, run_params['niter']-1, :]\n",
    "#theta = esampler.chain[5, 100, :]\n",
    "print(theta)\n",
    "\n",
    "mspec_init, mphot_init, mextra_init = model.mean_model(theta, obs, sps=sps) # generate model"
   ]
  },
  {
   "cell_type": "code",
   "execution_count": 38,
   "metadata": {},
   "outputs": [
    {
     "data": {
      "text/plain": [
       "(50, 0, 2)"
      ]
     },
     "execution_count": 38,
     "metadata": {},
     "output_type": "execute_result"
    }
   ],
   "source": [
    "esampler.chain.shape"
   ]
  },
  {
   "cell_type": "code",
   "execution_count": 39,
   "metadata": {},
   "outputs": [
    {
     "name": "stdout",
     "output_type": "stream",
     "text": [
      "(50, 0, 2)\n",
      "[  1.40684650e+11   5.52123936e+00]\n",
      "123.158187866\n"
     ]
    }
   ],
   "source": [
    "\n",
    "print(esampler.chain.shape)\n",
    "print(initial_center)\n",
    "print(initial_prob)"
   ]
  },
  {
   "cell_type": "code",
   "execution_count": null,
   "metadata": {
    "collapsed": true
   },
   "outputs": [],
   "source": []
  },
  {
   "cell_type": "code",
   "execution_count": 40,
   "metadata": {},
   "outputs": [
    {
     "ename": "IndexError",
     "evalue": "index 500 is out of bounds for axis 1 with size 0",
     "output_type": "error",
     "traceback": [
      "\u001b[0;31m---------------------------------------------------------------------------\u001b[0m",
      "\u001b[0;31mIndexError\u001b[0m                                Traceback (most recent call last)",
      "\u001b[0;32m<ipython-input-40-cc93d83743e7>\u001b[0m in \u001b[0;36m<module>\u001b[0;34m()\u001b[0m\n\u001b[1;32m      3\u001b[0m \u001b[0;31m# Pick a random walker at the end!\u001b[0m\u001b[0;34m\u001b[0m\u001b[0;34m\u001b[0m\u001b[0m\n\u001b[1;32m      4\u001b[0m \u001b[0;31m#theta = esampler.chain[5, run_params['niter']-1, :]\u001b[0m\u001b[0;34m\u001b[0m\u001b[0;34m\u001b[0m\u001b[0m\n\u001b[0;32m----> 5\u001b[0;31m \u001b[0mtheta\u001b[0m \u001b[0;34m=\u001b[0m \u001b[0mesampler\u001b[0m\u001b[0;34m.\u001b[0m\u001b[0mchain\u001b[0m\u001b[0;34m[\u001b[0m\u001b[0;36m5\u001b[0m\u001b[0;34m,\u001b[0m \u001b[0;36m500\u001b[0m\u001b[0;34m,\u001b[0m \u001b[0;34m:\u001b[0m\u001b[0;34m]\u001b[0m\u001b[0;34m\u001b[0m\u001b[0m\n\u001b[0m\u001b[1;32m      6\u001b[0m \u001b[0mprint\u001b[0m\u001b[0;34m(\u001b[0m\u001b[0mtheta\u001b[0m\u001b[0;34m)\u001b[0m\u001b[0;34m\u001b[0m\u001b[0m\n\u001b[1;32m      7\u001b[0m \u001b[0;34m\u001b[0m\u001b[0m\n",
      "\u001b[0;31mIndexError\u001b[0m: index 500 is out of bounds for axis 1 with size 0"
     ]
    }
   ],
   "source": [
    "# plotting \n",
    "\n",
    "# Pick a random walker at the end!\n",
    "#theta = esampler.chain[5, run_params['niter']-1, :]\n",
    "theta = esampler.chain[5, 500, :]\n",
    "print(theta)\n",
    "\n",
    "mspec_init, mphot_init, mextra_init = model.mean_model(theta, obs, sps=sps) # generate model\n",
    "# establish bounds\n",
    "xmin, xmax = wphot.min()*0.8, wphot.max()/0.8\n",
    "temp = interp(linspace(xmin,xmax,10000), wspec, mspec_init)\n",
    "ymin, ymax = temp.min()*1.0, temp.max()/1.0\n",
    "\n",
    "figure(figsize=(16,8))\n",
    "loglog(wspec, mspec_init, lw=0.7, color='navy', alpha=0.7, label='Model spectrum')\n",
    "errorbar(wphot, mphot_init, marker='s', ls='', lw=3, markersize=10,\n",
    "         markerfacecolor='none', markeredgecolor='blue', markeredgewidth=3, alpha=0.8, label='Model photometry')\n",
    "errorbar(wphot, obs['maggies'], yerr=obs['maggies_unc'], ecolor='red', marker='o', ls='', lw=3, markersize=10, \n",
    "         markerfacecolor='none', markeredgecolor='red', markeredgewidth=3, alpha=0.8, label='Observed photometry')\n",
    "\n",
    "xlabel('Wavelength [A]')\n",
    "ylabel('Flux Density [maggies]')\n",
    "xlim([xmin, xmax])\n",
    "ylim([ymin, ymax])\n",
    "legend(loc='best', fontsize=20)\n",
    "tight_layout()\n"
   ]
  },
  {
   "cell_type": "code",
   "execution_count": null,
   "metadata": {
    "collapsed": true
   },
   "outputs": [],
   "source": []
  }
 ],
 "metadata": {
  "anaconda-cloud": {},
  "kernelspec": {
   "display_name": "Python 3",
   "language": "python",
   "name": "python3"
  },
  "language_info": {
   "codemirror_mode": {
    "name": "ipython",
    "version": 3
   },
   "file_extension": ".py",
   "mimetype": "text/x-python",
   "name": "python",
   "nbconvert_exporter": "python",
   "pygments_lexer": "ipython3",
   "version": "3.6.1"
  }
 },
 "nbformat": 4,
 "nbformat_minor": 2
}
