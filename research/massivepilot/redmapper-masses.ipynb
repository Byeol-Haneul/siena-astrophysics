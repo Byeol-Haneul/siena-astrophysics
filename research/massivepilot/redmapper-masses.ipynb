{
 "cells": [
  {
   "cell_type": "markdown",
   "metadata": {},
   "source": [
    "## Import"
   ]
  },
  {
   "cell_type": "code",
   "execution_count": 1,
   "metadata": {
    "collapsed": true
   },
   "outputs": [],
   "source": [
    "from __future__ import print_function, division\n",
    "\n",
    "import os\n",
    "import numpy as np\n",
    "import fitsio\n",
    "\n",
    "import fsps\n",
    "import sedpy\n",
    "import prospect\n",
    "\n",
    "from sedpy.observate import load_filters"
   ]
  },
  {
   "cell_type": "code",
   "execution_count": 2,
   "metadata": {},
   "outputs": [
    {
     "name": "stdout",
     "output_type": "stream",
     "text": [
      "Populating the interactive namespace from numpy and matplotlib\n"
     ]
    }
   ],
   "source": [
    "%pylab inline"
   ]
  },
  {
   "cell_type": "markdown",
   "metadata": {},
   "source": [
    "### Setup the models"
   ]
  },
  {
   "cell_type": "code",
   "execution_count": 3,
   "metadata": {
    "collapsed": true
   },
   "outputs": [],
   "source": [
    "from prospect.models import model_setup\n",
    "from prospect.sources import CSPBasis"
   ]
  },
  {
   "cell_type": "code",
   "execution_count": 4,
   "metadata": {
    "collapsed": true
   },
   "outputs": [],
   "source": [
    "#help(CSPBasis)"
   ]
  },
  {
   "cell_type": "code",
   "execution_count": 12,
   "metadata": {},
   "outputs": [
    {
     "name": "stdout",
     "output_type": "stream",
     "text": [
      "{'niter': 512, 'dust2': 0.3, 'verbose': True, 'tage': 12.0, 'logzsol': -0.5, 'do_powell': True, 'zcontinuous': 1, 'initial_disp': 0.1, 'tau': 3.0, 'outfile': 'redmapper-masses', 'nburn': [32, 32, 64], 'maxfev': 5000, 'debug': False, 'mass': 10000000000.0, 'nwalkers': 128, 'param_file': '', 'ftol': 5e-06}\n"
     ]
    }
   ],
   "source": [
    "# Specify the run parameters.\n",
    "run_params = {\n",
    "    'param_file': '',\n",
    "    'verbose': True,\n",
    "    'debug': False,\n",
    "              'outfile': 'redmapper-masses',\n",
    "              # Fitter parameters\n",
    "              'nwalkers': 128,\n",
    "              'nburn': [32, 32, 64], 'niter': 512,\n",
    "              'do_powell': True,\n",
    "              'ftol': 0.5e-5, 'maxfev': 5000,\n",
    "              'initial_disp': 0.1,\n",
    "              # Data parameters\n",
    "              #'snr': 20.0, # ???\n",
    "              #'add_noise': False, # ???\n",
    "              # Model parameters\n",
    "              'mass': 1E10,\n",
    "              'logzsol': -0.5,\n",
    "              'tage': 12.0,\n",
    "              'tau': 3.0,\n",
    "              'dust2': 0.3,\n",
    "              # Data manipulation parameters\n",
    "              #'logify_spectrum': False,\n",
    "              #'normalize_spectrum': False,\n",
    "              #'wlo':3750., 'whi':7200.,\n",
    "              # SPS parameters\n",
    "              'zcontinuous': 1,\n",
    "              }\n",
    "print(run_params)"
   ]
  },
  {
   "cell_type": "code",
   "execution_count": 13,
   "metadata": {},
   "outputs": [
    {
     "name": "stdout",
     "output_type": "stream",
     "text": [
      "['sdss_u0', 'sdss_g0', 'sdss_r0', 'sdss_i0', 'sdss_z0', 'wise_w1', 'wise_w2']\n"
     ]
    }
   ],
   "source": [
    "sdss = ['sdss_{}0'.format(b) for b in ['u','g','r','i','z']]\n",
    "wise = ['wise_{}'.format(b) for b in ['w1','w2']]\n",
    "filternames = sdss + wise\n",
    "print(filternames)"
   ]
  },
  {
   "cell_type": "code",
   "execution_count": 7,
   "metadata": {
    "collapsed": true
   },
   "outputs": [],
   "source": [
    "# load sps model (default)\n",
    "#sps = model_setup.load_sps(**run_params)\n",
    "sps = CSPBasis(zcontinuous=1, compute_vega_mags=False)"
   ]
  },
  {
   "cell_type": "code",
   "execution_count": 11,
   "metadata": {},
   "outputs": [
    {
     "name": "stdout",
     "output_type": "stream",
     "text": [
      "[<class 'sedpy.observate.Filter'>(sdss_u0), <class 'sedpy.observate.Filter'>(sdss_g0), <class 'sedpy.observate.Filter'>(sdss_r0), <class 'sedpy.observate.Filter'>(sdss_i0), <class 'sedpy.observate.Filter'>(sdss_z0), <class 'sedpy.observate.Filter'>(wise_w1), <class 'sedpy.observate.Filter'>(wise_w2)]\n"
     ]
    }
   ],
   "source": [
    "filters = load_filters(filternames)\n",
    "print(filters)\n",
    "#help(filters[0])\n",
    "#filters[0].load_filter\n",
    "#filters[0].display()"
   ]
  },
  {
   "cell_type": "code",
   "execution_count": 7,
   "metadata": {
    "collapsed": true
   },
   "outputs": [],
   "source": [
    "# create a function to read in the redmapper catalog and extract relavent files\n",
    "def readred():\n",
    "    redfile = os.path.join(os.sep, 'global', 'work', 'projects', \n",
    "                           'redmapper', 'redmapper_isedfit_v5.10_centrals.fits.gz')\n",
    "    info = fitsio.FITS(redfile)\n",
    "    cat = info[1].read()\n",
    "    \n",
    "    return cat"
   ]
  },
  {
   "cell_type": "code",
   "execution_count": 14,
   "metadata": {
    "collapsed": true
   },
   "outputs": [],
   "source": [
    "# Build output dictionary which contains the input photometry (our version of load_obs).\n",
    "def prospcat(redcat):\n",
    "    mask = (redcat['IVARMAGGIES'] > 0) * 1\n",
    "    # print(mask)\n",
    "    obs = {}\n",
    "    obs['maggies'] = redcat['MAGGIES']\n",
    "    with np.errstate(divide='ignore'):\n",
    "        obs['maggies_unc'] = 1.0/np.sqrt(redcat['IVARMAGGIES']) #[:3, :])\n",
    "    obs['wavelength'] = None # not fitting spectra\n",
    "    obs['filters'] = filternames\n",
    "    obs['phot_mask'] = mask  # 1 = good, 0 = bad\n",
    "    obs['isedfit_id'] = redcat['ISEDFIT_ID']\n",
    "    \n",
    "    return obs"
   ]
  },
  {
   "cell_type": "code",
   "execution_count": 9,
   "metadata": {
    "collapsed": true
   },
   "outputs": [],
   "source": [
    "redcat = readred()"
   ]
  },
  {
   "cell_type": "code",
   "execution_count": 10,
   "metadata": {},
   "outputs": [
    {
     "data": {
      "text/plain": [
       "('MEM_MATCH_ID',\n",
       " 'Z',\n",
       " 'RA',\n",
       " 'DEC',\n",
       " 'R',\n",
       " 'P',\n",
       " 'PFREE',\n",
       " 'THETA_I',\n",
       " 'THETA_R',\n",
       " 'IMAG',\n",
       " 'IMAG_ERR',\n",
       " 'ZRED',\n",
       " 'ZRED_E',\n",
       " 'ZRED_CHISQ',\n",
       " 'BCG_SPEC_Z',\n",
       " 'Z_SPEC_INIT',\n",
       " 'Z_INIT',\n",
       " 'LAMBDA_CHISQ',\n",
       " 'LAMBDA_CHISQ_E',\n",
       " 'LAMBDA_ZRED',\n",
       " 'LAMBDA_ZRED_E',\n",
       " 'R_LAMBDA',\n",
       " 'SCALEVAL',\n",
       " 'MASKFRAC',\n",
       " 'C_LAMBDA',\n",
       " 'C_LAMBDA_ERR',\n",
       " 'MAG_LAMBDA_ERR',\n",
       " 'CHISQ',\n",
       " 'Z_LAMBDA',\n",
       " 'Z_LAMBDA_E',\n",
       " 'EBV_MEAN',\n",
       " 'LNLAMLIKE',\n",
       " 'LNBCGLIKE',\n",
       " 'LNLIKE',\n",
       " 'PZBINS',\n",
       " 'PZ',\n",
       " 'NCROSS',\n",
       " 'RMASK',\n",
       " 'RA_ORIG',\n",
       " 'DEC_ORIG',\n",
       " 'W',\n",
       " 'DLAMBDA_DZ',\n",
       " 'DLAMBDA_DZ2',\n",
       " 'DLAMBDAVAR_DZ',\n",
       " 'DLAMBDAVAR_DZ2',\n",
       " 'LAMBDA_CHISQ_C',\n",
       " 'LAMBDA_CHISQ_CE',\n",
       " 'NCENT',\n",
       " 'NCENT_GOOD',\n",
       " 'RA_CENT',\n",
       " 'DEC_CENT',\n",
       " 'ID_CENT',\n",
       " 'LAMBDA_CHISQ_CENT',\n",
       " 'ZLAMBDA_CENT',\n",
       " 'P_BCG',\n",
       " 'P_CEN',\n",
       " 'Q_CEN',\n",
       " 'P_FG',\n",
       " 'Q_MISS',\n",
       " 'P_SAT',\n",
       " 'P_C',\n",
       " 'BCG_ILUM',\n",
       " 'ILUM',\n",
       " 'Z_LAMBDA_RAW',\n",
       " 'Z_LAMBDA_E_RAW',\n",
       " 'LIM_EXPTIME',\n",
       " 'LIM_LIMMAG',\n",
       " 'LIM_LIMMAG_HARD',\n",
       " 'KCORR_MSTAR',\n",
       " 'KCORR_COEFFS',\n",
       " 'KCORR_CHI2',\n",
       " 'KCORR_UVFLUX',\n",
       " 'FNUV_ABSMAG_00',\n",
       " 'FNUV_ABSMAG_IVAR_00',\n",
       " 'UGRIZ_ABSMAG_00',\n",
       " 'UGRIZ_ABSMAG_IVAR_00',\n",
       " 'UBVRI_ABSMAG_00',\n",
       " 'UBVRI_ABSMAG_IVAR_00',\n",
       " 'JHK_ABSMAG_00',\n",
       " 'JHK_ABSMAG_IVAR_00',\n",
       " 'ISEDFIT_ID',\n",
       " 'MAGGIES',\n",
       " 'IVARMAGGIES',\n",
       " 'BESTMAGGIES',\n",
       " 'CHUNKINDX',\n",
       " 'MODELINDX',\n",
       " 'DELAYED',\n",
       " 'BURSTTYPE',\n",
       " 'CHI2',\n",
       " 'TOTALMASS',\n",
       " 'TOTALMASS_ERR',\n",
       " 'MSTAR',\n",
       " 'AGE',\n",
       " 'SFRAGE',\n",
       " 'TAU',\n",
       " 'ZMETAL',\n",
       " 'AV',\n",
       " 'MU',\n",
       " 'OIIIHB',\n",
       " 'NLYC',\n",
       " 'SFR',\n",
       " 'SFR100',\n",
       " 'B100',\n",
       " 'B1000',\n",
       " 'EWOII',\n",
       " 'EWOIIIHB',\n",
       " 'EWNIIHA',\n",
       " 'NBURST',\n",
       " 'TRUNCTAU',\n",
       " 'TBURST',\n",
       " 'DTBURST',\n",
       " 'FBURST',\n",
       " 'MSTAR_50',\n",
       " 'AGE_50',\n",
       " 'SFRAGE_50',\n",
       " 'TAU_50',\n",
       " 'ZMETAL_50',\n",
       " 'AV_50',\n",
       " 'MU_50',\n",
       " 'OIIIHB_50',\n",
       " 'SFR_50',\n",
       " 'SFR100_50',\n",
       " 'B100_50',\n",
       " 'B1000_50',\n",
       " 'EWOII_50',\n",
       " 'EWOIIIHB_50',\n",
       " 'EWNIIHA_50',\n",
       " 'MSTAR_AVG',\n",
       " 'AGE_AVG',\n",
       " 'SFRAGE_AVG',\n",
       " 'TAU_AVG',\n",
       " 'ZMETAL_AVG',\n",
       " 'AV_AVG',\n",
       " 'MU_AVG',\n",
       " 'OIIIHB_AVG',\n",
       " 'SFR_AVG',\n",
       " 'SFR100_AVG',\n",
       " 'B100_AVG',\n",
       " 'B1000_AVG',\n",
       " 'EWOII_AVG',\n",
       " 'EWOIIIHB_AVG',\n",
       " 'EWNIIHA_AVG',\n",
       " 'MSTAR_ERR',\n",
       " 'AGE_ERR',\n",
       " 'SFRAGE_ERR',\n",
       " 'TAU_ERR',\n",
       " 'ZMETAL_ERR',\n",
       " 'AV_ERR',\n",
       " 'MU_ERR',\n",
       " 'OIIIHB_ERR',\n",
       " 'SFR_ERR',\n",
       " 'SFR100_ERR',\n",
       " 'B100_ERR',\n",
       " 'B1000_ERR',\n",
       " 'EWOII_ERR',\n",
       " 'EWOIIIHB_ERR',\n",
       " 'EWNIIHA_ERR')"
      ]
     },
     "execution_count": 10,
     "metadata": {},
     "output_type": "execute_result"
    }
   ],
   "source": [
    "redcat.dtype.names"
   ]
  },
  {
   "cell_type": "code",
   "execution_count": 15,
   "metadata": {},
   "outputs": [],
   "source": [
    "obs = prospcat(redcat)"
   ]
  },
  {
   "cell_type": "code",
   "execution_count": 17,
   "metadata": {},
   "outputs": [
    {
     "data": {
      "text/plain": [
       "{'filters': ['sdss_u0',\n",
       "  'sdss_g0',\n",
       "  'sdss_r0',\n",
       "  'sdss_i0',\n",
       "  'sdss_z0',\n",
       "  'wise_w1',\n",
       "  'wise_w2'],\n",
       " 'isedfit_id': array([  168,   434,   666, ..., 34832, 34845, 34873], dtype=int32),\n",
       " 'maggies': array([[  8.08168750e-08,   6.74991668e-07,   1.72655052e-06, ...,\n",
       "           3.43672355e-06,   3.23942504e-06,   1.95509529e-06],\n",
       "        [  1.02759463e-08,   5.21811359e-08,   1.95987283e-07, ...,\n",
       "           3.73946961e-07,   5.84767633e-07,   3.87884427e-07],\n",
       "        [  6.44870024e-09,   1.60980221e-07,   4.88213459e-07, ...,\n",
       "           8.71438601e-07,   1.20944264e-06,   7.12299254e-07],\n",
       "        ..., \n",
       "        [  6.34218580e-11,   1.55727442e-09,   6.92663615e-09, ...,\n",
       "           1.99032932e-08,   4.07453697e-08,   2.86100370e-08],\n",
       "        [  1.79813442e-09,   1.88698146e-09,   4.91593877e-09, ...,\n",
       "           7.67191821e-09,   1.36742511e-08,   1.15819407e-08],\n",
       "        [  1.94307570e-09,   2.22601315e-09,   9.05395225e-09, ...,\n",
       "           2.15409379e-08,   2.61627928e-08,   1.76007653e-08]], dtype=float32),\n",
       " 'maggies_unc': array([[  5.24087573e-09,   1.26544473e-08,   3.20970521e-08, ...,\n",
       "           9.63501847e-08,   3.99176114e-09,   7.07049974e-09],\n",
       "        [  1.45151180e-09,   1.18069865e-09,   3.82212750e-09, ...,\n",
       "           1.22894583e-08,   1.49462065e-09,   2.69371991e-09],\n",
       "        [  2.96225267e-09,   3.32437056e-09,   9.32766486e-09, ...,\n",
       "           2.66084808e-08,   4.48346293e-09,   7.81975817e-09],\n",
       "        ..., \n",
       "        [  3.74172082e-10,   1.59458377e-10,   2.89772067e-10, ...,\n",
       "           1.47445822e-09,   8.18945467e-10,   1.61212854e-09],\n",
       "        [  4.31734315e-10,   1.92470540e-10,   2.93819413e-10, ...,\n",
       "           1.50145096e-09,   1.31845501e-09,   2.74022471e-09],\n",
       "        [  7.24639349e-10,   2.55593380e-10,   4.34001779e-10, ...,\n",
       "           2.58167843e-09,   1.10257814e-09,   2.18346785e-09]], dtype=float32),\n",
       " 'phot_mask': array([[1, 1, 1, ..., 1, 1, 1],\n",
       "        [1, 1, 1, ..., 1, 1, 1],\n",
       "        [1, 1, 1, ..., 1, 1, 1],\n",
       "        ..., \n",
       "        [1, 1, 1, ..., 1, 1, 1],\n",
       "        [1, 1, 1, ..., 1, 1, 1],\n",
       "        [1, 1, 1, ..., 1, 1, 1]]),\n",
       " 'wavelength': None}"
      ]
     },
     "execution_count": 17,
     "metadata": {},
     "output_type": "execute_result"
    }
   ],
   "source": [
    "obs"
   ]
  },
  {
   "cell_type": "code",
   "execution_count": 18,
   "metadata": {
    "collapsed": true
   },
   "outputs": [],
   "source": [
    "# Load the SPS object\n",
    "def load_sps(zcontinuous=1, compute_vega_mags=False, **extras):\n",
    "    sps = CSPBasis(zcontinuous=zcontinuous,\n",
    "                   compute_vega_mags=compute_vega_mags)\n",
    "    return sps"
   ]
  },
  {
   "cell_type": "code",
   "execution_count": null,
   "metadata": {
    "collapsed": true
   },
   "outputs": [],
   "source": []
  }
 ],
 "metadata": {
  "kernelspec": {
   "display_name": "Python 2",
   "language": "python",
   "name": "python2"
  },
  "language_info": {
   "codemirror_mode": {
    "name": "ipython",
    "version": 2
   },
   "file_extension": ".py",
   "mimetype": "text/x-python",
   "name": "python",
   "nbconvert_exporter": "python",
   "pygments_lexer": "ipython2",
   "version": "2.7.13"
  }
 },
 "nbformat": 4,
 "nbformat_minor": 2
}
