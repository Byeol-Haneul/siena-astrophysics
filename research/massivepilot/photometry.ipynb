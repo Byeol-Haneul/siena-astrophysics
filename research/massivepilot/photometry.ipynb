{
 "cells": [
  {
   "cell_type": "code",
   "execution_count": 1,
   "metadata": {},
   "outputs": [
    {
     "name": "stdout",
     "output_type": "stream",
     "text": [
      "Populating the interactive namespace from numpy and matplotlib\n"
     ]
    }
   ],
   "source": [
    "import os\n",
    "import numpy as np\n",
    "import matplotlib.pyplot as plt\n",
    "\n",
    "from astropy.io.ascii import read\n",
    "import fitsio\n",
    "\n",
    "%pylab inline"
   ]
  },
  {
   "cell_type": "code",
   "execution_count": 2,
   "metadata": {
    "collapsed": true
   },
   "outputs": [],
   "source": [
    "pypath = os.path.join(os.sep, 'global', 'work', 'projects', 'legacysurvey', 'legacycentrals')\n",
    "meertcat = os.path.join(pypath, 'meert_et_al_data_tables_v2')\n",
    "mendelcat = os.path.join(pypath, 'UPenn_PhotDec_Mstar_mlMendel14.dat')\n",
    "wisccat = os.path.join(pypath, 'UPenn_PhotDec_Mstar_mlPCAWiscM11.dat')"
   ]
  },
  {
   "cell_type": "code",
   "execution_count": 3,
   "metadata": {
    "collapsed": true
   },
   "outputs": [],
   "source": [
    "rmpath = os.path.join(os.sep, 'global', 'work', 'projects', 'redmapper')\n",
    "rmcatfile = os.path.join(rmpath, 'redmapper_isedfit_v5.10_centrals.fits.gz')"
   ]
  },
  {
   "cell_type": "code",
   "execution_count": 4,
   "metadata": {
    "collapsed": true
   },
   "outputs": [],
   "source": [
    "# Read the Mendel catalog\n",
    "columns = ('GalCount', 'FlagSerExp', 'Mstar_Tab5_Pymorph',\n",
    "           'Mstar_Tab5_Truncated', 'Mstar_Tab3_Pymorph',\n",
    "           'Mstar_Tab3_Truncated', 'Mstar_Tab5_Mendel',\n",
    "           'Mstar_Tab3_Mendel', 'Mstar_Tab5_cModel',\n",
    "           'Mstar_Tab3_cModel')\n",
    "dtype = np.dtype([(col, np.float) for col in columns])\n",
    "allmendel = np.loadtxt(mendelcat, dtype=dtype)\n",
    "#allmendel.dtype.names"
   ]
  },
  {
   "cell_type": "code",
   "execution_count": 5,
   "metadata": {},
   "outputs": [
    {
     "name": "stdout",
     "output_type": "stream",
     "text": [
      "Keeping 654801 / 670722 measurements in the Mendel catalog.\n"
     ]
    }
   ],
   "source": [
    "# Keep good measurements and data.\n",
    "keep = (np.where(allmendel['FlagSerExp'] == 0) and np.where(allmendel['Mstar_Tab5_Pymorph'] > 0))[0]\n",
    "print('Keeping {} / {} measurements in the Mendel catalog.'.format(len(keep), len(allmendel)))\n",
    "mendel = allmendel[keep]"
   ]
  },
  {
   "cell_type": "code",
   "execution_count": 6,
   "metadata": {},
   "outputs": [
    {
     "data": {
      "text/plain": [
       "654801"
      ]
     },
     "execution_count": 6,
     "metadata": {},
     "output_type": "execute_result"
    }
   ],
   "source": [
    "# Read the parent Meert catalog to get ra, dec and other info.\n",
    "#upennpath = os.path.join(pypath, 'meert_et_al_data_tables_v2')\n",
    "upenncatfile = os.path.join(meertcat, 'UPenn_PhotDec_CAST.fits')\n",
    "upenncat = fitsio.read(upenncatfile, ext=1, rows=keep, upper=True)\n",
    "#upenncat.dtype.names\n",
    "len(upenncat)"
   ]
  },
  {
   "cell_type": "code",
   "execution_count": 7,
   "metadata": {},
   "outputs": [
    {
     "name": "stdout",
     "output_type": "stream",
     "text": [
      "\n",
      "  file: /global/work/projects/redmapper/redmapper_isedfit_v5.10_centrals.fits.gz\n",
      "  extension: 1\n",
      "  type: BINARY_TBL\n",
      "  rows: 407118\n",
      "  column info:\n",
      "    MEM_MATCH_ID        i4  \n",
      "    Z                   f4  \n",
      "    RA                  f8  \n",
      "    DEC                 f8  \n",
      "    R                   f4  \n",
      "    P                   f4  \n",
      "    PFREE               f4  \n",
      "    THETA_I             f4  \n",
      "    THETA_R             f4  \n",
      "    IMAG                f4  \n",
      "    IMAG_ERR            f4  \n",
      "    ZRED                f4  \n",
      "    ZRED_E              f4  \n",
      "    ZRED_CHISQ          f4  \n",
      "    BCG_SPEC_Z          f4  \n",
      "    Z_SPEC_INIT         f4  \n",
      "    Z_INIT              f4  \n",
      "    LAMBDA_CHISQ        f4  \n",
      "    LAMBDA_CHISQ_E      f4  \n",
      "    LAMBDA_ZRED         f4  \n",
      "    LAMBDA_ZRED_E       f4  \n",
      "    R_LAMBDA            f4  \n",
      "    SCALEVAL            f4  \n",
      "    MASKFRAC            f4  \n",
      "    C_LAMBDA            f4  array[4]\n",
      "    C_LAMBDA_ERR        f4  array[4]\n",
      "    MAG_LAMBDA_ERR      f4  array[5]\n",
      "    CHISQ               f4  \n",
      "    Z_LAMBDA            f4  \n",
      "    Z_LAMBDA_E          f4  \n",
      "    EBV_MEAN            f4  \n",
      "    LNLAMLIKE           f4  \n",
      "    LNBCGLIKE           f4  \n",
      "    LNLIKE              f4  \n",
      "    PZBINS              f4  array[21]\n",
      "    PZ                  f4  array[21]\n",
      "    NCROSS              i2  \n",
      "    RMASK               f4  \n",
      "    RA_ORIG             f8  \n",
      "    DEC_ORIG            f8  \n",
      "    W                   f4  \n",
      "    DLAMBDA_DZ          f4  \n",
      "    DLAMBDA_DZ2         f4  \n",
      "    DLAMBDAVAR_DZ       f4  \n",
      "    DLAMBDAVAR_DZ2      f4  \n",
      "    LAMBDA_CHISQ_C      f4  \n",
      "    LAMBDA_CHISQ_CE     f4  \n",
      "    NCENT               i2  \n",
      "    NCENT_GOOD          i2  \n",
      "    RA_CENT             f8  array[5]\n",
      "    DEC_CENT            f8  array[5]\n",
      "    ID_CENT             i4  array[5]\n",
      "    LAMBDA_CHISQ_CENT\n",
      "                        f4  array[5]\n",
      "    ZLAMBDA_CENT        f4  array[5]\n",
      "    P_BCG               f4  array[5]\n",
      "    P_CEN               f4  array[5]\n",
      "    Q_CEN               f4  array[5]\n",
      "    P_FG                f4  array[5]\n",
      "    Q_MISS              f4  \n",
      "    P_SAT               f4  array[5]\n",
      "    P_C                 f4  array[5]\n",
      "    BCG_ILUM            f4  \n",
      "    ILUM                f4  \n",
      "    Z_LAMBDA_RAW        f4  \n",
      "    Z_LAMBDA_E_RAW      f4  \n",
      "    LIM_EXPTIME         f4  \n",
      "    LIM_LIMMAG          f4  \n",
      "    LIM_LIMMAG_HARD     f4  \n",
      "    KCORR_MSTAR         f4  \n",
      "    KCORR_COEFFS        f4  array[5]\n",
      "    KCORR_CHI2          f4  \n",
      "    KCORR_UVFLUX        f4  array[2]\n",
      "    FNUV_ABSMAG_00      f4  array[2]\n",
      "    FNUV_ABSMAG_IVAR_00\n",
      "                        f4  array[2]\n",
      "    UGRIZ_ABSMAG_00     f4  array[5]\n",
      "    UGRIZ_ABSMAG_IVAR_00\n",
      "                        f4  array[5]\n",
      "    UBVRI_ABSMAG_00     f4  array[5]\n",
      "    UBVRI_ABSMAG_IVAR_00\n",
      "                        f4  array[5]\n",
      "    JHK_ABSMAG_00       f4  array[3]\n",
      "    JHK_ABSMAG_IVAR_00\n",
      "                        f4  array[3]\n",
      "    ISEDFIT_ID          i4  \n",
      "    MAGGIES             f4  array[7]\n",
      "    IVARMAGGIES         f4  array[7]\n",
      "    BESTMAGGIES         f4  array[7]\n",
      "    CHUNKINDX           i2  \n",
      "    MODELINDX           i2  \n",
      "    DELAYED             i4  \n",
      "    BURSTTYPE           i4  \n",
      "    CHI2                f4  \n",
      "    TOTALMASS           f4  \n",
      "    TOTALMASS_ERR       f4  \n",
      "    MSTAR               f4  \n",
      "    AGE                 f4  \n",
      "    SFRAGE              f4  \n",
      "    TAU                 f4  \n",
      "    ZMETAL              f4  \n",
      "    AV                  f4  \n",
      "    MU                  f4  \n",
      "    OIIIHB              f4  \n",
      "    NLYC                f4  \n",
      "    SFR                 f4  \n",
      "    SFR100              f4  \n",
      "    B100                f4  \n",
      "    B1000               f4  \n",
      "    EWOII               f4  \n",
      "    EWOIIIHB            f4  \n",
      "    EWNIIHA             f4  \n",
      "    NBURST              i2  \n",
      "    TRUNCTAU            f4  \n",
      "    TBURST              f4  array[7]\n",
      "    DTBURST             f4  array[7]\n",
      "    FBURST              f4  array[7]\n",
      "    MSTAR_50            f4  \n",
      "    AGE_50              f4  \n",
      "    SFRAGE_50           f4  \n",
      "    TAU_50              f4  \n",
      "    ZMETAL_50           f4  \n",
      "    AV_50               f4  \n",
      "    MU_50               f4  \n",
      "    OIIIHB_50           f4  \n",
      "    SFR_50              f4  \n",
      "    SFR100_50           f4  \n",
      "    B100_50             f4  \n",
      "    B1000_50            f4  \n",
      "    EWOII_50            f4  \n",
      "    EWOIIIHB_50         f4  \n",
      "    EWNIIHA_50          f4  \n",
      "    MSTAR_AVG           f4  \n",
      "    AGE_AVG             f4  \n",
      "    SFRAGE_AVG          f4  \n",
      "    TAU_AVG             f4  \n",
      "    ZMETAL_AVG          f4  \n",
      "    AV_AVG              f4  \n",
      "    MU_AVG              f4  \n",
      "    OIIIHB_AVG          f4  \n",
      "    SFR_AVG             f4  \n",
      "    SFR100_AVG          f4  \n",
      "    B100_AVG            f4  \n",
      "    B1000_AVG           f4  \n",
      "    EWOII_AVG           f4  \n",
      "    EWOIIIHB_AVG        f4  \n",
      "    EWNIIHA_AVG         f4  \n",
      "    MSTAR_ERR           f4  \n",
      "    AGE_ERR             f4  \n",
      "    SFRAGE_ERR          f4  \n",
      "    TAU_ERR             f4  \n",
      "    ZMETAL_ERR          f4  \n",
      "    AV_ERR              f4  \n",
      "    MU_ERR              f4  \n",
      "    OIIIHB_ERR          f4  \n",
      "    SFR_ERR             f4  \n",
      "    SFR100_ERR          f4  \n",
      "    B100_ERR            f4  \n",
      "    B1000_ERR           f4  \n",
      "    EWOII_ERR           f4  \n",
      "    EWOIIIHB_ERR        f4  \n",
      "    EWNIIHA_ERR         f4  \n"
     ]
    }
   ],
   "source": [
    "rminfo = fitsio.FITS(rmcatfile)\n",
    "rmcat = rminfo[1].read(columns=['Z', 'RA', 'DEC', 'LAMBDA_CHISQ', 'MSTAR_50', 'MSTAR_ERR', 'IMAG', 'MAGGIES'])\n",
    "print(rminfo[1])"
   ]
  },
  {
   "cell_type": "code",
   "execution_count": 8,
   "metadata": {
    "collapsed": true
   },
   "outputs": [],
   "source": [
    "from astropy.coordinates import SkyCoord\n",
    "from astropy import units as u"
   ]
  },
  {
   "cell_type": "code",
   "execution_count": 9,
   "metadata": {
    "collapsed": true
   },
   "outputs": [],
   "source": [
    "rcoord = SkyCoord(ra=rmcat['RA']*u.degree, dec=rmcat['DEC']*u.degree)\n",
    "penncoord = SkyCoord(ra=upenncat['RA']*u.degree, dec=upenncat['DEC']*u.degree)\n",
    "idx, sep2d, dist3d = rcoord.match_to_catalog_sky(penncoord, nthneighbor=1)"
   ]
  },
  {
   "cell_type": "code",
   "execution_count": 10,
   "metadata": {},
   "outputs": [
    {
     "data": {
      "text/plain": [
       "23599"
      ]
     },
     "execution_count": 10,
     "metadata": {},
     "output_type": "execute_result"
    }
   ],
   "source": [
    "gd = np.where(sep2d < 3 * u.arcsec)[0]\n",
    "len(gd)"
   ]
  },
  {
   "cell_type": "code",
   "execution_count": 11,
   "metadata": {},
   "outputs": [
    {
     "data": {
      "text/plain": [
       "array([[  8.08168750e-08,   6.74991668e-07,   1.72655052e-06, ...,\n",
       "          3.43672355e-06,   3.23942504e-06,   1.95509529e-06],\n",
       "       [  1.02759463e-08,   5.21811359e-08,   1.95987283e-07, ...,\n",
       "          3.73946961e-07,   5.84767633e-07,   3.87884427e-07],\n",
       "       [  6.44870024e-09,   1.60980221e-07,   4.88213459e-07, ...,\n",
       "          8.71438601e-07,   1.20944264e-06,   7.12299254e-07],\n",
       "       ..., \n",
       "       [  6.34218580e-11,   1.55727442e-09,   6.92663615e-09, ...,\n",
       "          1.99032932e-08,   4.07453697e-08,   2.86100370e-08],\n",
       "       [  1.79813442e-09,   1.88698146e-09,   4.91593877e-09, ...,\n",
       "          7.67191821e-09,   1.36742511e-08,   1.15819407e-08],\n",
       "       [  1.94307570e-09,   2.22601315e-09,   9.05395225e-09, ...,\n",
       "          2.15409379e-08,   2.61627928e-08,   1.76007653e-08]], dtype=float32)"
      ]
     },
     "execution_count": 11,
     "metadata": {},
     "output_type": "execute_result"
    }
   ],
   "source": [
    "rmcat['MAGGIES']"
   ]
  },
  {
   "cell_type": "code",
   "execution_count": null,
   "metadata": {
    "collapsed": true
   },
   "outputs": [],
   "source": []
  }
 ],
 "metadata": {
  "kernelspec": {
   "display_name": "Python 3",
   "language": "python",
   "name": "python3"
  },
  "language_info": {
   "codemirror_mode": {
    "name": "ipython",
    "version": 3
   },
   "file_extension": ".py",
   "mimetype": "text/x-python",
   "name": "python",
   "nbconvert_exporter": "python",
   "pygments_lexer": "ipython3",
   "version": "3.6.1"
  }
 },
 "nbformat": 4,
 "nbformat_minor": 2
}
