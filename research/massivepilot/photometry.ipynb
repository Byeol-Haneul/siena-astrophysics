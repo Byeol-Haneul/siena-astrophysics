{
 "cells": [
  {
   "cell_type": "code",
   "execution_count": 62,
   "metadata": {},
   "outputs": [
    {
     "name": "stdout",
     "output_type": "stream",
     "text": [
      "Populating the interactive namespace from numpy and matplotlib\n"
     ]
    },
    {
     "name": "stderr",
     "output_type": "stream",
     "text": [
      "/usr/local/anaconda3/envs/py35/lib/python3.6/site-packages/IPython/core/magics/pylab.py:160: UserWarning: pylab import has clobbered these variables: ['dtype']\n",
      "`%matplotlib` prevents importing * from pylab and numpy\n",
      "  \"\\n`%matplotlib` prevents importing * from pylab and numpy\"\n"
     ]
    }
   ],
   "source": [
    "import os\n",
    "import numpy as np\n",
    "import matplotlib.pyplot as plt\n",
    "\n",
    "from astropy.io.ascii import read\n",
    "import fitsio\n",
    "\n",
    "%pylab inline"
   ]
  },
  {
   "cell_type": "code",
   "execution_count": 63,
   "metadata": {
    "collapsed": true
   },
   "outputs": [],
   "source": [
    "pypath = os.path.join(os.sep, 'global', 'work', 'projects', 'legacysurvey', 'legacycentrals')\n",
    "meertcat = os.path.join(pypath, 'meert_et_al_data_tables_v2')\n",
    "mendelcat = os.path.join(pypath, 'UPenn_PhotDec_Mstar_mlMendel14.dat')\n",
    "wisccat = os.path.join(pypath, 'UPenn_PhotDec_Mstar_mlPCAWiscM11.dat')"
   ]
  },
  {
   "cell_type": "code",
   "execution_count": 64,
   "metadata": {
    "collapsed": true
   },
   "outputs": [],
   "source": [
    "# Read the Mendel catalog\n",
    "columns = ('GalCount', 'FlagSerExp', 'Mstar_Tab5_Pymorph',\n",
    "           'Mstar_Tab5_Truncated', 'Mstar_Tab3_Pymorph',\n",
    "           'Mstar_Tab3_Truncated', 'Mstar_Tab5_Mendel',\n",
    "           'Mstar_Tab3_Mendel', 'Mstar_Tab5_cModel',\n",
    "           'Mstar_Tab3_cModel')\n",
    "dtype = np.dtype([(col, np.float) for col in columns])\n",
    "allmendel = np.loadtxt(mendelcat, dtype=dtype)\n",
    "#allmendel.dtype.names"
   ]
  },
  {
   "cell_type": "code",
   "execution_count": 65,
   "metadata": {},
   "outputs": [],
   "source": [
    "# Keep good measurements and data.\n",
    "#keep = (np.where(allmendel['FlagSerExp'] == 0) and np.where(allmendel['Mstar_Tab5_Pymorph'] > 0)\n",
    "#        and np.where(allmendel['Mstar_Tab5_cModel'] > 0))[0]\n",
    "#print('Keeping {} / {} measurements in the Mendel catalog.'.format(len(keep), len(allmendel)))\n",
    "#mendel = allmendel[keep]"
   ]
  },
  {
   "cell_type": "code",
   "execution_count": 83,
   "metadata": {
    "scrolled": true
   },
   "outputs": [
    {
     "data": {
      "text/plain": [
       "<matplotlib.collections.PathCollection at 0x7f17a02f4e80>"
      ]
     },
     "execution_count": 83,
     "metadata": {},
     "output_type": "execute_result"
    },
    {
     "data": {
      "image/png": "[encoded data removed]",
      "text/plain": [
       "<matplotlib.figure.Figure at 0x7f17a07918d0>"
      ]
     },
     "metadata": {},
     "output_type": "display_data"
    }
   ],
   "source": [
    "flags = (np.where(allmendel['FlagSerExp'] == 0))[0]\n",
    "#print('Keeping {} / {} measurements in the Mendel catalog.'.format(len(keep), len(allmendel)))\n",
    "mendel = allmendel[flags]\n",
    "keep = (np.where(mendel['Mstar_Tab3_Pymorph'] > 0) and np.where(mendel['Mstar_Tab3_cModel'] > 0))[0]\n",
    "mendel2 = mendel[keep]\n",
    "plt.scatter(mendel2['Mstar_Tab3_cModel'], mendel2['Mstar_Tab3_Pymorph'])"
   ]
  },
  {
   "cell_type": "code",
   "execution_count": 109,
   "metadata": {},
   "outputs": [
    {
     "data": {
      "text/plain": [
       "<matplotlib.collections.PathCollection at 0x7f179fdbcf98>"
      ]
     },
     "execution_count": 109,
     "metadata": {},
     "output_type": "execute_result"
    },
    {
     "data": {
      "image/png": "[encoded data removed]",
      "text/plain": [
       "<matplotlib.figure.Figure at 0x7f17a01dbd68>"
      ]
     },
     "metadata": {},
     "output_type": "display_data"
    }
   ],
   "source": [
    "flags = (np.where(allmendel['FlagSerExp'] == 0))[0]\n",
    "#print('Keeping {} / {} measurements in the Mendel catalog.'.format(len(keep), len(allmendel)))\n",
    "mendel = allmendel[flags]\n",
    "keep = (np.where(mendel['Mstar_Tab5_Pymorph'] > 0) and np.where(mendel['Mstar_Tab5_cModel'] > 0))[0]\n",
    "mendel2 = mendel[keep]\n",
    "plt.scatter(mendel2['Mstar_Tab5_cModel'], mendel2['Mstar_Tab5_Pymorph'])\n",
    "# Something weird is going on here. Ugh"
   ]
  },
  {
   "cell_type": "code",
   "execution_count": 92,
   "metadata": {},
   "outputs": [
    {
     "name": "stdout",
     "output_type": "stream",
     "text": [
      "628919\n",
      "619791\n"
     ]
    }
   ],
   "source": [
    "print(len(flags))\n",
    "print(len(keep))"
   ]
  },
  {
   "cell_type": "code",
   "execution_count": 99,
   "metadata": {},
   "outputs": [
    {
     "data": {
      "text/plain": [
       "619791"
      ]
     },
     "execution_count": 99,
     "metadata": {},
     "output_type": "execute_result"
    }
   ],
   "source": [
    "len(np.where(mendel['Mstar_Tab5_Pymorph'] > 0) and np.where(mendel['Mstar_Tab5_cModel'] > 0)[0])"
   ]
  },
  {
   "cell_type": "code",
   "execution_count": 101,
   "metadata": {},
   "outputs": [
    {
     "data": {
      "text/plain": [
       "620470"
      ]
     },
     "execution_count": 101,
     "metadata": {},
     "output_type": "execute_result"
    }
   ],
   "source": [
    "len(np.where(mendel['Mstar_Tab5_Pymorph'] > 0)[0])"
   ]
  },
  {
   "cell_type": "code",
   "execution_count": null,
   "metadata": {
    "collapsed": true
   },
   "outputs": [],
   "source": []
  }
 ],
 "metadata": {
  "kernelspec": {
   "display_name": "Python 3",
   "language": "python",
   "name": "python3"
  },
  "language_info": {
   "codemirror_mode": {
    "name": "ipython",
    "version": 3
   },
   "file_extension": ".py",
   "mimetype": "text/x-python",
   "name": "python",
   "nbconvert_exporter": "python",
   "pygments_lexer": "ipython3",
   "version": "3.6.1"
  }
 },
 "nbformat": 4,
 "nbformat_minor": 2
}
