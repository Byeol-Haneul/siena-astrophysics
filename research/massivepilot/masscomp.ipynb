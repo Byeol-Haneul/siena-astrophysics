{
 "cells": [
  {
   "cell_type": "markdown",
   "metadata": {},
   "source": [
    "# Objective: Match PyMorph with RedMapper, and compare stellar masses"
   ]
  },
  {
   "cell_type": "code",
   "execution_count": 7,
   "metadata": {},
   "outputs": [],
   "source": [
    "import os"
   ]
  },
  {
   "cell_type": "code",
   "execution_count": 8,
   "metadata": {},
   "outputs": [
    {
     "name": "stdout",
     "output_type": "stream",
     "text": [
      "Populating the interactive namespace from numpy and matplotlib\n"
     ]
    },
    {
     "name": "stderr",
     "output_type": "stream",
     "text": [
      "/usr/local/anaconda3/envs/py35/lib/python3.6/site-packages/IPython/core/magics/pylab.py:160: UserWarning: pylab import has clobbered these variables: ['dtype']\n",
      "`%matplotlib` prevents importing * from pylab and numpy\n",
      "  \"\\n`%matplotlib` prevents importing * from pylab and numpy\"\n"
     ]
    }
   ],
   "source": [
    "import numpy as np\n",
    "import matplotlib.pyplot as plt\n",
    "%pylab inline"
   ]
  },
  {
   "cell_type": "code",
   "execution_count": 9,
   "metadata": {
    "collapsed": true
   },
   "outputs": [],
   "source": [
    "from astropy.io.ascii import read\n",
    "from astropy.coordinates import SkyCoord\n",
    "from astropy import units as u\n",
    "import fitsio\n",
    "import seaborn as sns"
   ]
  },
  {
   "cell_type": "code",
   "execution_count": 2,
   "metadata": {
    "collapsed": true
   },
   "outputs": [],
   "source": [
    "def medxbin(x,y,binsize,minpts=20,xmin=None,xmax=None):\n",
    "    \"\"\"\n",
    "    Compute the median (and other statistics) in fixed bins along the x-axis.\n",
    "    \"\"\"\n",
    "    import numpy as np\n",
    "    from scipy import ptp\n",
    "\n",
    "    # Need an exception if there are fewer than three arguments.\n",
    "\n",
    "    if xmin==None:\n",
    "        xmin = x.min()\n",
    "    if xmax==None:\n",
    "        xmax = x.max()\n",
    "    #print(xmin,xmax)\n",
    "\n",
    "    nbin = int(ptp(x)/binsize)\n",
    "    bins = np.linspace(xmin,xmax,nbin)\n",
    "    idx  = np.digitize(x,bins)\n",
    "    #print(nbin, bins, xmin, xmax)\n",
    "\n",
    "    stats = np.zeros(nbin,[('median','f8'),('sigma','f8'),('iqr','f8')])\n",
    "    for kk in np.arange(nbin):\n",
    "        npts = len(y[idx==kk])\n",
    "        if npts>minpts:\n",
    "            stats['median'][kk] = np.median(y[idx==kk])\n",
    "            stats['sigma'][kk] = np.std(y[idx==kk])\n",
    "            stats['iqr'][kk] = np.subtract(*np.percentile(y[idx==kk],[75, 25]))\n",
    "\n",
    "    # Remove bins with too few points.\n",
    "    good = np.nonzero(stats['median'])\n",
    "    stats = stats[good]\n",
    "\n",
    "    return bins[good], stats"
   ]
  },
  {
   "cell_type": "code",
   "execution_count": 10,
   "metadata": {
    "collapsed": true
   },
   "outputs": [],
   "source": [
    "# Setting convenient paths\n",
    "pypath = os.path.join(os.sep, 'global', 'work', 'projects', 'legacysurvey', 'legacycentrals')\n",
    "meertcat = os.path.join(pypath, 'meert_et_al_data_tables_v2')\n",
    "mendelcat = os.path.join(pypath, 'UPenn_PhotDec_Mstar_mlMendel14.dat')\n",
    "wisccat = os.path.join(pypath, 'UPenn_PhotDec_Mstar_mlPCAWiscM11.dat')\n",
    "rmpath = os.path.join(os.sep, 'global', 'work', 'projects', 'redmapper')\n",
    "rmcatfile = os.path.join(rmpath, 'redmapper_isedfit_v5.10_centrals.fits.gz')"
   ]
  },
  {
   "cell_type": "code",
   "execution_count": 11,
   "metadata": {
    "collapsed": true
   },
   "outputs": [],
   "source": [
    "# Reas in RedMaPPer data\n",
    "rminfo = fitsio.FITS(rmcatfile)\n",
    "rmcat = rminfo[1].read(columns=['Z', 'RA', 'DEC', 'LAMBDA_CHISQ', 'MSTAR_50', 'MSTAR_ERR', 'IMAG'])"
   ]
  },
  {
   "cell_type": "code",
   "execution_count": 12,
   "metadata": {
    "collapsed": true
   },
   "outputs": [],
   "source": [
    "# Read the Mendel catalog\n",
    "# Tab3 includes the effects of dust, while Tab5 does not.\n",
    "columns = ('GalCount', 'FlagSerExp', 'Mstar_Tab5_Pymorph',\n",
    "           'Mstar_Tab5_Truncated', 'Mstar_Tab3_Pymorph',\n",
    "           'Mstar_Tab3_Truncated', 'Mstar_Tab5_Mendel',\n",
    "           'Mstar_Tab3_Mendel', 'Mstar_Tab5_cModel',\n",
    "           'Mstar_Tab3_cModel')\n",
    "dtype = np.dtype([(col, np.float) for col in columns])\n",
    "allmendel = np.loadtxt(mendelcat, dtype=dtype)"
   ]
  },
  {
   "cell_type": "code",
   "execution_count": 13,
   "metadata": {},
   "outputs": [
    {
     "name": "stdout",
     "output_type": "stream",
     "text": [
      "Keeping 654801 / 670722 measurements in the Mendel catalog.\n"
     ]
    }
   ],
   "source": [
    "# Keep good measurements and data.\n",
    "keep = (np.where(allmendel['FlagSerExp'] == 0) and np.where(allmendel['Mstar_Tab5_Pymorph'] > 0))[0]\n",
    "print('Keeping {} / {} measurements in the Mendel catalog.'.format(len(keep), len(allmendel)))\n",
    "mendel = allmendel[keep]"
   ]
  },
  {
   "cell_type": "code",
   "execution_count": 14,
   "metadata": {
    "collapsed": true
   },
   "outputs": [],
   "source": [
    "# Read the parent Meert catalog to get ra, dec and other info.\n",
    "upenncatfile = os.path.join(meertcat, 'UPenn_PhotDec_CAST.fits')\n",
    "upenncat = fitsio.read(upenncatfile, ext=1, rows=keep, upper=True)"
   ]
  },
  {
   "cell_type": "code",
   "execution_count": 15,
   "metadata": {
    "collapsed": true
   },
   "outputs": [],
   "source": [
    "# Cross-matching RedMaPPer and PyMorph\n",
    "rcoord = SkyCoord(ra=rmcat['RA']*u.degree, dec=rmcat['DEC']*u.degree)\n",
    "upenn = SkyCoord(ra=upenncat['RA']*u.degree, dec=upenncat['DEC']*u.degree)\n",
    "idx, sep2d, dist3d = rcoord.match_to_catalog_sky(upenn, nthneighbor=1)"
   ]
  },
  {
   "cell_type": "code",
   "execution_count": 18,
   "metadata": {},
   "outputs": [
    {
     "name": "stdout",
     "output_type": "stream",
     "text": [
      "23599\n"
     ]
    }
   ],
   "source": [
    "# Applying a limiting tolerance to matches\n",
    "gd = np.where(sep2d < 3 * u.arcsec)[0]\n",
    "print(len(gd))"
   ]
  },
  {
   "cell_type": "markdown",
   "metadata": {},
   "source": [
    "### Inspecting the catalogs."
   ]
  },
  {
   "cell_type": "code",
   "execution_count": 19,
   "metadata": {},
   "outputs": [
    {
     "data": {
      "text/plain": [
       "<matplotlib.legend.Legend at 0x7f648234eeb8>"
      ]
     },
     "execution_count": 19,
     "metadata": {},
     "output_type": "execute_result"
    },
    {
     "name": "stderr",
     "output_type": "stream",
     "text": [
      "/usr/local/anaconda3/envs/py35/lib/python3.6/site-packages/matplotlib/font_manager.py:1297: UserWarning: findfont: Font family ['sans-serif'] not found. Falling back to DejaVu Sans\n",
      "  (prop.get_family(), self.defaultFamily[fontext]))\n"
     ]
    },
    {
     "data": {
      "image/png": "[encoded data removed]",
      "text/plain": [
       "<matplotlib.figure.Figure at 0x7f6482445208>"
      ]
     },
     "metadata": {},
     "output_type": "display_data"
    }
   ],
   "source": [
    "fig, ax = plt.subplots()\n",
    "ax.scatter(rmcat['RA'], rmcat['DEC'], label='Redmapper')\n",
    "ax.scatter(upenncat['RA'], upenncat['DEC'], alpha=0.7, label='UPenn')\n",
    "ax.legend(loc='upper left')"
   ]
  },
  {
   "cell_type": "code",
   "execution_count": 20,
   "metadata": {},
   "outputs": [
    {
     "data": {
      "text/plain": [
       "<matplotlib.legend.Legend at 0x7f64822f38d0>"
      ]
     },
     "execution_count": 20,
     "metadata": {},
     "output_type": "execute_result"
    },
    {
     "name": "stderr",
     "output_type": "stream",
     "text": [
      "/usr/local/anaconda3/envs/py35/lib/python3.6/site-packages/matplotlib/font_manager.py:1297: UserWarning: findfont: Font family ['sans-serif'] not found. Falling back to DejaVu Sans\n",
      "  (prop.get_family(), self.defaultFamily[fontext]))\n"
     ]
    },
    {
     "data": {
      "image/png": "[encoded data removed]",
      "text/plain": [
       "<matplotlib.figure.Figure at 0x7f6479ffabe0>"
      ]
     },
     "metadata": {},
     "output_type": "display_data"
    }
   ],
   "source": [
    "fig, ax = plt.subplots()\n",
    "ax.scatter(rmcat['RA'], rmcat['DEC'], label='Redmapper')\n",
    "ax.scatter(upenncat['RA'], upenncat['DEC'], alpha=0.7, label='UPenn')\n",
    "ax.scatter(upenncat['RA'][idx[gd]], upenncat['DEC'][idx[gd]], alpha=0.7, label='Matched')\n",
    "ax.legend(loc='upper left')"
   ]
  },
  {
   "cell_type": "code",
   "execution_count": 21,
   "metadata": {},
   "outputs": [
    {
     "data": {
      "text/plain": [
       "<matplotlib.collections.PathCollection at 0x7f64822164a8>"
      ]
     },
     "execution_count": 21,
     "metadata": {},
     "output_type": "execute_result"
    },
    {
     "name": "stderr",
     "output_type": "stream",
     "text": [
      "/usr/local/anaconda3/envs/py35/lib/python3.6/site-packages/matplotlib/font_manager.py:1297: UserWarning: findfont: Font family ['sans-serif'] not found. Falling back to DejaVu Sans\n",
      "  (prop.get_family(), self.defaultFamily[fontext]))\n"
     ]
    },
    {
     "data": {
      "image/png": "[encoded data removed]",
      "text/plain": [
       "<matplotlib.figure.Figure at 0x7f64822b91d0>"
      ]
     },
     "metadata": {},
     "output_type": "display_data"
    }
   ],
   "source": [
    "plt.scatter(rmcat['RA'][gd] - upenncat['RA'][idx[gd]], rmcat['DEC'][gd] - upenncat['DEC'][idx[gd]])"
   ]
  },
  {
   "cell_type": "code",
   "execution_count": 22,
   "metadata": {},
   "outputs": [
    {
     "data": {
      "text/plain": [
       "array([   1.21145462,   88.37902542,  -46.95989881, ..., -295.143147  ,\n",
       "        -84.02245114, -111.28514995])"
      ]
     },
     "execution_count": 22,
     "metadata": {},
     "output_type": "execute_result"
    }
   ],
   "source": [
    "(rmcat['RA'] - upenncat[idx]['RA']) * 3600"
   ]
  },
  {
   "cell_type": "code",
   "execution_count": 23,
   "metadata": {},
   "outputs": [
    {
     "data": {
      "text/plain": [
       "<matplotlib.collections.PathCollection at 0x7f64822267b8>"
      ]
     },
     "execution_count": 23,
     "metadata": {},
     "output_type": "execute_result"
    },
    {
     "name": "stderr",
     "output_type": "stream",
     "text": [
      "/usr/local/anaconda3/envs/py35/lib/python3.6/site-packages/matplotlib/font_manager.py:1297: UserWarning: findfont: Font family ['sans-serif'] not found. Falling back to DejaVu Sans\n",
      "  (prop.get_family(), self.defaultFamily[fontext]))\n"
     ]
    },
    {
     "data": {
      "image/png": "[encoded data removed]",
      "text/plain": [
       "<matplotlib.figure.Figure at 0x7f64822269b0>"
      ]
     },
     "metadata": {},
     "output_type": "display_data"
    }
   ],
   "source": [
    "fig, ax = plt.subplots()\n",
    "plt.scatter(rmcat['RA'][gd], upenncat['RA'][idx[gd]])"
   ]
  },
  {
   "cell_type": "code",
   "execution_count": 24,
   "metadata": {
    "scrolled": true
   },
   "outputs": [
    {
     "data": {
      "text/plain": [
       "<matplotlib.collections.PathCollection at 0x7f64821632e8>"
      ]
     },
     "execution_count": 24,
     "metadata": {},
     "output_type": "execute_result"
    },
    {
     "name": "stderr",
     "output_type": "stream",
     "text": [
      "/usr/local/anaconda3/envs/py35/lib/python3.6/site-packages/matplotlib/font_manager.py:1297: UserWarning: findfont: Font family ['sans-serif'] not found. Falling back to DejaVu Sans\n",
      "  (prop.get_family(), self.defaultFamily[fontext]))\n"
     ]
    },
    {
     "data": {
      "image/png": "[encoded data removed]",
      "text/plain": [
       "<matplotlib.figure.Figure at 0x7f6482163438>"
      ]
     },
     "metadata": {},
     "output_type": "display_data"
    }
   ],
   "source": [
    "fig, ax = plt.subplots()\n",
    "plt.scatter(rmcat['DEC'][gd], upenncat['DEC'][idx[gd]])"
   ]
  },
  {
   "cell_type": "markdown",
   "metadata": {},
   "source": [
    "### PyMorph/Mendel vs. RedMaPPer Stellar Masses"
   ]
  },
  {
   "cell_type": "code",
   "execution_count": 25,
   "metadata": {},
   "outputs": [
    {
     "ename": "AttributeError",
     "evalue": "'AxesSubplot' object has no attribute 'xlabel'",
     "output_type": "error",
     "traceback": [
      "\u001b[0;31m---------------------------------------------------------------------------\u001b[0m",
      "\u001b[0;31mAttributeError\u001b[0m                            Traceback (most recent call last)",
      "\u001b[0;32m<ipython-input-25-fe01db88c0c7>\u001b[0m in \u001b[0;36m<module>\u001b[0;34m()\u001b[0m\n\u001b[1;32m      3\u001b[0m \u001b[0max1\u001b[0m \u001b[0;34m=\u001b[0m \u001b[0mfig\u001b[0m\u001b[0;34m.\u001b[0m\u001b[0madd_subplot\u001b[0m\u001b[0;34m(\u001b[0m\u001b[0;36m221\u001b[0m\u001b[0;34m)\u001b[0m\u001b[0;34m\u001b[0m\u001b[0m\n\u001b[1;32m      4\u001b[0m \u001b[0max1\u001b[0m\u001b[0;34m.\u001b[0m\u001b[0mscatter\u001b[0m\u001b[0;34m(\u001b[0m\u001b[0mrmcat\u001b[0m\u001b[0;34m[\u001b[0m\u001b[0;34m'MSTAR_50'\u001b[0m\u001b[0;34m]\u001b[0m\u001b[0;34m[\u001b[0m\u001b[0mgd\u001b[0m\u001b[0;34m]\u001b[0m\u001b[0;34m,\u001b[0m \u001b[0mmendel\u001b[0m\u001b[0;34m[\u001b[0m\u001b[0;34m'Mstar_Tab5_Pymorph'\u001b[0m\u001b[0;34m]\u001b[0m\u001b[0;34m[\u001b[0m\u001b[0midx\u001b[0m\u001b[0;34m[\u001b[0m\u001b[0mgd\u001b[0m\u001b[0;34m]\u001b[0m\u001b[0;34m]\u001b[0m\u001b[0;34m)\u001b[0m\u001b[0;34m\u001b[0m\u001b[0m\n\u001b[0;32m----> 5\u001b[0;31m \u001b[0max1\u001b[0m\u001b[0;34m.\u001b[0m\u001b[0mxlabel\u001b[0m\u001b[0;34m(\u001b[0m\u001b[0;34m'RedMaPPer'\u001b[0m\u001b[0;34m)\u001b[0m\u001b[0;34m\u001b[0m\u001b[0m\n\u001b[0m\u001b[1;32m      6\u001b[0m \u001b[0max1\u001b[0m\u001b[0;34m.\u001b[0m\u001b[0mylabel\u001b[0m\u001b[0;34m(\u001b[0m\u001b[0;34m'PyMorph_5'\u001b[0m\u001b[0;34m)\u001b[0m\u001b[0;34m\u001b[0m\u001b[0m\n\u001b[1;32m      7\u001b[0m \u001b[0;34m\u001b[0m\u001b[0m\n",
      "\u001b[0;31mAttributeError\u001b[0m: 'AxesSubplot' object has no attribute 'xlabel'"
     ]
    },
    {
     "name": "stderr",
     "output_type": "stream",
     "text": [
      "/usr/local/anaconda3/envs/py35/lib/python3.6/site-packages/matplotlib/font_manager.py:1297: UserWarning: findfont: Font family ['sans-serif'] not found. Falling back to DejaVu Sans\n",
      "  (prop.get_family(), self.defaultFamily[fontext]))\n"
     ]
    },
    {
     "data": {
      "image/png": "[encoded data removed]",
      "text/plain": [
       "<matplotlib.figure.Figure at 0x7f6473de5a58>"
      ]
     },
     "metadata": {},
     "output_type": "display_data"
    }
   ],
   "source": [
    "fig = plt.figure()\n",
    "\n",
    "ax1 = fig.add_subplot(221)\n",
    "ax1.scatter(rmcat['MSTAR_50'][gd], mendel['Mstar_Tab5_Pymorph'][idx[gd]])\n",
    "ax1.xlabel('RedMaPPer')\n",
    "ax1.ylabel('PyMorph_5')\n",
    "\n",
    "ax2 = fig.add_subplot(222)\n",
    "ax2.scatter(rmcat['MSTAR_50'][gd], mendel['Mstar_Tab3_Pymorph'][idx[gd]])\n",
    "ax2.xlabel('RedMaPPer')\n",
    "ax2.ylabel('PyMorph_3')\n",
    "\n",
    "ax3 = fig.add_subplot(223)\n",
    "ax3.scatter(rmcat['MSTAR_50'][gd], mendel['Mstar_Tab5_Mendel'][idx[gd]])\n",
    "ax3.xlabel('RedMaPPer')\n",
    "ax3.ylabel('Mendel_5')\n",
    "\n",
    "ax4 = fig.add_subplot(224)\n",
    "ax4.scatter(rmcat['MSTAR_50'][gd], mendel['Mstar_Tab3_Mendel'][idx[gd]])\n",
    "ax4.xlabel('RedMaPPer')\n",
    "ax4.ylabel('Mendel_3')"
   ]
  },
  {
   "cell_type": "code",
   "execution_count": null,
   "metadata": {
    "collapsed": true
   },
   "outputs": [],
   "source": [
    "_ = plt.hist(rmcat['Z'], bins=100, label='full')\n",
    "_ = plt.hist(rmcat['Z'][gd], bins=100, label='matched')\n",
    "plt.legend()"
   ]
  },
  {
   "cell_type": "code",
   "execution_count": null,
   "metadata": {
    "collapsed": true
   },
   "outputs": [],
   "source": [
    "_ = plt.hist(rmcat['LAMBDA_CHISQ'], bins=100, label='full')\n",
    "_ = plt.hist(rmcat['LAMBDA_CHISQ'][gd], bins=100, label='matched')\n",
    "plt.legend()"
   ]
  },
  {
   "cell_type": "code",
   "execution_count": null,
   "metadata": {
    "collapsed": true
   },
   "outputs": [],
   "source": [
    "_ = plt.hist(rmcat['IMAG'], bins=100, label='full')\n",
    "_ = plt.hist(rmcat['IMAG'][gd], bins=100, label='matched')\n",
    "plt.legend()"
   ]
  },
  {
   "cell_type": "code",
   "execution_count": null,
   "metadata": {
    "collapsed": true
   },
   "outputs": [],
   "source": [
    "sns.kdeplot(rmcat['Z'][gd], rmcat['LAMBDA_CHISQ'][gd],\n",
    "            cmap=\"Blues\", shade=True, shade_lowest=False)\n",
    "plt.xlim(0,0.3)\n",
    "plt.ylim(0,25)"
   ]
  },
  {
   "cell_type": "markdown",
   "metadata": {},
   "source": [
    "# Residuals"
   ]
  },
  {
   "cell_type": "code",
   "execution_count": null,
   "metadata": {
    "collapsed": true
   },
   "outputs": [],
   "source": [
    "blah = medxbin(rmcat['MSTAR_50'][gd]-mendel['Mstar_Tab5_Mendel'][idx[gd]], mendel['Mstar_Tab5_Mendel'][idx[gd]],0.1)"
   ]
  },
  {
   "cell_type": "code",
   "execution_count": null,
   "metadata": {
    "collapsed": true
   },
   "outputs": [],
   "source": [
    "blah"
   ]
  },
  {
   "cell_type": "markdown",
   "metadata": {
    "collapsed": true
   },
   "source": []
  },
  {
   "cell_type": "code",
   "execution_count": null,
   "metadata": {
    "collapsed": true
   },
   "outputs": [],
   "source": [
    "sns.kdeplot(rmcat['MSTAR_50'][gd], mendel['Mstar_Tab5_Pymorph'][idx[gd]],\n",
    "            cmap=\"Blues\", shade=True, shade_lowest=False)"
   ]
  },
  {
   "cell_type": "code",
   "execution_count": null,
   "metadata": {
    "collapsed": true
   },
   "outputs": [],
   "source": []
  }
 ],
 "metadata": {
  "kernelspec": {
   "display_name": "Python 3",
   "language": "python",
   "name": "python3"
  },
  "language_info": {
   "codemirror_mode": {
    "name": "ipython",
    "version": 3
   },
   "file_extension": ".py",
   "mimetype": "text/x-python",
   "name": "python",
   "nbconvert_exporter": "python",
   "pygments_lexer": "ipython3",
   "version": "3.6.1"
  }
 },
 "nbformat": 4,
 "nbformat_minor": 2
}
