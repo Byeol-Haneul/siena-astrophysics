{
 "cells": [
  {
   "cell_type": "markdown",
   "metadata": {},
   "source": [
    "## Import"
   ]
  },
  {
   "cell_type": "code",
   "execution_count": 10,
   "metadata": {
    "collapsed": true
   },
   "outputs": [],
   "source": [
    "from __future__ import print_function, division\n",
    "\n",
    "import os\n",
    "import numpy as np\n",
    "import fitsio\n",
    "\n",
    "import fsps\n",
    "import sedpy\n",
    "import prospect\n",
    "\n",
    "from sedpy.observate import load_filters"
   ]
  },
  {
   "cell_type": "code",
   "execution_count": 2,
   "metadata": {},
   "outputs": [
    {
     "name": "stdout",
     "output_type": "stream",
     "text": [
      "Populating the interactive namespace from numpy and matplotlib\n"
     ]
    }
   ],
   "source": [
    "%pylab inline"
   ]
  },
  {
   "cell_type": "markdown",
   "metadata": {},
   "source": [
    "### Setup the models"
   ]
  },
  {
   "cell_type": "code",
   "execution_count": 3,
   "metadata": {
    "collapsed": true
   },
   "outputs": [],
   "source": [
    "from prospect.models import model_setup\n",
    "from prospect.sources import CSPBasis"
   ]
  },
  {
   "cell_type": "code",
   "execution_count": 5,
   "metadata": {
    "collapsed": true
   },
   "outputs": [],
   "source": [
    "#help(CSPBasis)"
   ]
  },
  {
   "cell_type": "code",
   "execution_count": 6,
   "metadata": {},
   "outputs": [
    {
     "name": "stdout",
     "output_type": "stream",
     "text": [
      "{'niter': 512, 'dust2': 0.3, 'verbose': True, 'tage': 12.0, 'logzsol': -0.5, 'do_powell': True, 'zcontinuous': 1, 'initial_disp': 0.1, 'tau': 3.0, 'outfile': 'redmapper-masses', 'nburn': [32, 32, 64], 'maxfev': 5000, 'debug': False, 'mass': 10000000000.0, 'nwalkers': 128, 'param_file': '', 'ftol': 5e-06}\n"
     ]
    }
   ],
   "source": [
    "# Specify the run parameters.\n",
    "run_params = {\n",
    "    'param_file': '',\n",
    "    'verbose': True,\n",
    "    'debug': False,\n",
    "              'outfile': 'redmapper-masses',\n",
    "              # Fitter parameters\n",
    "              'nwalkers': 128,\n",
    "              'nburn': [32, 32, 64], 'niter': 512,\n",
    "              'do_powell': True,\n",
    "              'ftol': 0.5e-5, 'maxfev': 5000,\n",
    "              'initial_disp': 0.1,\n",
    "              # Data parameters\n",
    "              #'snr': 20.0, # ???\n",
    "              #'add_noise': False, # ???\n",
    "              # Model parameters\n",
    "              'mass': 1E10,\n",
    "              'logzsol': -0.5,\n",
    "              'tage': 12.0,\n",
    "              'tau': 3.0,\n",
    "              'dust2': 0.3,\n",
    "              # Data manipulation parameters\n",
    "              #'logify_spectrum': False,\n",
    "              #'normalize_spectrum': False,\n",
    "              #'wlo':3750., 'whi':7200.,\n",
    "              # SPS parameters\n",
    "              'zcontinuous': 1,\n",
    "              }\n",
    "print(run_params)"
   ]
  },
  {
   "cell_type": "code",
   "execution_count": 7,
   "metadata": {
    "collapsed": true
   },
   "outputs": [],
   "source": [
    "# load sps model (default)\n",
    "#sps = model_setup.load_sps(**run_params)\n",
    "sps = CSPBasis(zcontinuous=1, compute_vega_mags=False)"
   ]
  },
  {
   "cell_type": "code",
   "execution_count": 8,
   "metadata": {},
   "outputs": [
    {
     "name": "stdout",
     "output_type": "stream",
     "text": [
      "['sdss_u0', 'sdss_g0', 'sdss_r0', 'sdss_i0', 'sdss_z0', 'wise_w1', 'wise_w2']\n"
     ]
    }
   ],
   "source": [
    "sdss = ['sdss_{}0'.format(b) for b in ['u','g','r','i','z']]\n",
    "wise = ['wise_{}'.format(b) for b in ['w1','w2']]\n",
    "filternames = sdss + wise\n",
    "print(filternames)"
   ]
  },
  {
   "cell_type": "code",
   "execution_count": 11,
   "metadata": {},
   "outputs": [
    {
     "name": "stdout",
     "output_type": "stream",
     "text": [
      "[<class 'sedpy.observate.Filter'>(sdss_u0), <class 'sedpy.observate.Filter'>(sdss_g0), <class 'sedpy.observate.Filter'>(sdss_r0), <class 'sedpy.observate.Filter'>(sdss_i0), <class 'sedpy.observate.Filter'>(sdss_z0), <class 'sedpy.observate.Filter'>(wise_w1), <class 'sedpy.observate.Filter'>(wise_w2)]\n"
     ]
    }
   ],
   "source": [
    "filters = load_filters(filternames)\n",
    "print(filters)\n",
    "#help(filters[0])\n",
    "#filters[0].load_filter\n",
    "#filters[0].display()"
   ]
  },
  {
   "cell_type": "code",
   "execution_count": 12,
   "metadata": {
    "collapsed": true
   },
   "outputs": [],
   "source": [
    "# create a function to read in the redmapper catalog and extract relavent files\n",
    "\n",
    "def readred():\n",
    "    \n",
    "    redfile = os.path.join(os.sep, 'global', 'work', 'projects', 'redmapper', 'redmapper_isedfit_v5.10_centrals.fits.gz')\n",
    "    info = fitsio.FITS(redfile)\n",
    "    cat = info[1].read()\n",
    "    \n",
    "    return cat\n",
    "\n",
    "#redfile"
   ]
  },
  {
   "cell_type": "code",
   "execution_count": 13,
   "metadata": {
    "collapsed": true
   },
   "outputs": [],
   "source": [
    "# Build output dictionary. \n",
    "\n",
    "\n",
    "def prospcat(redcat):\n",
    "    \n",
    "    mask = (redcat['IVARMAGGIES'] > 0) * 1\n",
    "    # print(mask)\n",
    "    \n",
    "    obs = {}\n",
    "    obs['maggies'] = redcat['MAGGIES']\n",
    "    with np.errstate(divide='ignore'):\n",
    "        obs['maggies_unc'] = 1.0/np.sqrt(redcat['IVARMAGGIES']) #[:3, :])\n",
    "    obs['wavelength'] = None # not fitting spectra\n",
    "    obs['filters'] = filters\n",
    "    obs['phot_mask'] = mask  # 1 = good, 0 = bad\n",
    "    obs['isedfit_id'] = redcat['ISEDFIT_ID']\n",
    "    \n",
    "    return obs\n",
    "    "
   ]
  },
  {
   "cell_type": "code",
   "execution_count": 14,
   "metadata": {
    "collapsed": true
   },
   "outputs": [],
   "source": [
    "redcat = readred()"
   ]
  },
  {
   "cell_type": "code",
   "execution_count": 16,
   "metadata": {
    "collapsed": true
   },
   "outputs": [],
   "source": [
    "#redcat.dtype.names"
   ]
  },
  {
   "cell_type": "code",
   "execution_count": 17,
   "metadata": {
    "collapsed": true
   },
   "outputs": [],
   "source": [
    "obs = prospcat(redcat)"
   ]
  },
  {
   "cell_type": "code",
   "execution_count": 1,
   "metadata": {},
   "outputs": [],
   "source": [
    "#print(obs.keys())\n",
    "#print()\n",
    "#print(-2.5*np.log10(obs['maggies']))\n",
    "#print()\n",
    "#print(2.5*obs['maggies_unc']/(np.log(10)*obs['maggies']))"
   ]
  },
  {
   "cell_type": "code",
   "execution_count": null,
   "metadata": {
    "collapsed": true
   },
   "outputs": [],
   "source": []
  }
 ],
 "metadata": {
  "kernelspec": {
   "display_name": "Python 2",
   "language": "python",
   "name": "python2"
  },
  "language_info": {
   "codemirror_mode": {
    "name": "ipython",
    "version": 2
   },
   "file_extension": ".py",
   "mimetype": "text/x-python",
   "name": "python",
   "nbconvert_exporter": "python",
   "pygments_lexer": "ipython2",
   "version": "2.7.13"
  }
 },
 "nbformat": 4,
 "nbformat_minor": 2
}
