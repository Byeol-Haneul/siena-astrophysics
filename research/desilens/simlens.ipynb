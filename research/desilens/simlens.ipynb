{
 "cells": [
  {
   "cell_type": "code",
   "execution_count": 1,
   "metadata": {
    "collapsed": false,
    "deletable": true,
    "editable": true
   },
   "outputs": [],
   "source": [
    "import os, sys\n",
    "import numpy as np\n",
    "\n",
    "import fitsio\n",
    "import matplotlib.pyplot as plt\n",
    "\n",
    "from astropy.table import Table, Column\n",
    "\n",
    "from desisim.io import read_simspec\n",
    "from desisim.scripts import quickgen\n",
    "import desispec.io\n",
    "from desispec import brick   \n",
    "\n",
    "from desispec.log import get_logger\n",
    "log = get_logger()\n",
    "\n",
    "%matplotlib inline"
   ]
  },
  {
   "cell_type": "code",
   "execution_count": 2,
   "metadata": {
    "collapsed": true,
    "deletable": true,
    "editable": true
   },
   "outputs": [],
   "source": [
    "def _default_wave(wavemin=None, wavemax=None, dw=0.2):\n",
    "    '''Construct and return the default wavelength vector.'''\n",
    "    import desimodel.io\n",
    "    if wavemin is None: \n",
    "        wavemin = desimodel.io.load_throughput('b').wavemin\n",
    "    if wavemax is None:\n",
    "        wavemax = desimodel.io.load_throughput('z').wavemax\n",
    "    wave = np.arange(round(wavemin, 1), wavemax, dw)\n",
    "                                                                                                              \n",
    "    return wave"
   ]
  },
  {
   "cell_type": "code",
   "execution_count": 3,
   "metadata": {
    "collapsed": true,
    "deletable": true,
    "editable": true
   },
   "outputs": [],
   "source": [
    "def get_lensing_targets(priors, tileid=None, seed=None, specmin=0):\n",
    "    \"\"\"\n",
    "    Builds the truth dictionary and the fibermap from a tile ID, object type,\n",
    "    and wavelength set above. Sets the position of targets.\n",
    "    \n",
    "    Args:\n",
    "        priors (astropy.Table): table of prior parameters\n",
    "        \n",
    "    Options:\n",
    "        tileid : tile id, default RA = 0.0, Dec = 0.0\n",
    "        seed : random seed\n",
    "        specmin : default 0\n",
    "    \n",
    "    Returns:\n",
    "        fibermap\n",
    "        truth table\n",
    "    \n",
    "    \"\"\"\n",
    "    import desimodel.io\n",
    "    from desimodel.focalplane import FocalPlane\n",
    "    from desispec.io.fibermap import empty_fibermap\n",
    "    from desisim.io import empty_metatable, get_tile_radec\n",
    "    from desisim.templates import ELG, LRG\n",
    "\n",
    "    \n",
    "    #No tide id specified set RA and DEC to 0, if specified select from the tile id meta data\n",
    "    if tileid is None:\n",
    "        tile_ra, tile_dec = 0.0, 0.0\n",
    "    else:\n",
    "        tile_ra, tile_dec = get_tile_radec(tileid)  \n",
    "    \n",
    "    log.debug('Using random seed {}'.format(seed))\n",
    "    rand = np.random.RandomState(seed)\n",
    "    \n",
    "    # Get DESI wavelength coverage.\n",
    "    wave = _default_wave()\n",
    "    nwave = len(wave)\n",
    "    \n",
    "    # Initialize the 'truth' dictionary and output metadata and fibermap tables.\n",
    "    nspec = priors['NSPEC']\n",
    "    truth = dict()\n",
    "    truth['FLUX'] = np.zeros((nspec, len(wave)))\n",
    "    truth['OBJTYPE'] = np.zeros(nspec, dtype=(str, 10)) \n",
    "    truth['WAVE'] = wave                      #max and min set above\n",
    "\n",
    "    objtype = 'LRG'\n",
    "    truth['META'] = empty_metatable(nmodel=nspec, objtype=objtype)  \n",
    "    #changing OBJTYPE to selected rather than a zero array\n",
    "    truth['OBJTYPE'] = objtype               \n",
    "\n",
    "    #creating fibermap\n",
    "    fibermap = empty_fibermap(nspec)           \n",
    "    fibermap['OBJTYPE'] = objtype\n",
    "    \n",
    "    \n",
    "    # Simulate spectra according to the input priors.\n",
    "    elg = ELG(wave=wave)\n",
    "    lrg = LRG(wave=wave)\n",
    "\n",
    "    esimflux, _, emeta = elg.make_templates(nmodel=nspec, seed=seed, \n",
    "                                            zrange=priors['ZRANGE_SOURCE'],\n",
    "                                            rmagrange=priors['MAGRANGE_SOURCE'],\n",
    "                                            nocolorcuts=True, novdisp=True)\n",
    "    lsimflux, _, lmeta = lrg.make_templates(nmodel=nspec, seed=seed,\n",
    "                                            zrange=priors['ZRANGE_LENS'],\n",
    "                                            zmagrange=priors['MAGRANGE_LENS'],\n",
    "                                            nocolorcuts=True, novdisp=True)\n",
    "    simflux = lsimflux + esimflux\n",
    "    log.debug('This is wrong! Using the LRG table for META.') #????\n",
    "    meta = lmeta \n",
    "\n",
    "    truth['FLUX'] = 1e17 * simflux\n",
    "    truth['UNITS'] = '1e-17 erg/s/cm2/A'\n",
    "    truth['META'] = meta\n",
    "    truth['META_SOURCE'] = emeta\n",
    "\n",
    "    ugrizy = 22.5-2.5*np.log10(meta['DECAM_FLUX'].data)\n",
    "    wise = 22.5-2.5*np.log10(meta['WISE_FLUX'].data)\n",
    "    fibermap['FILTER'][:, :6] = ['DECAM_G', 'DECAM_R', 'DECAM_Z', 'WISE_W1', 'WISE_W2']\n",
    "    fibermap['MAG'][:, 0] = ugrizy[:, 1]\n",
    "    fibermap['MAG'][:, 1] = ugrizy[:, 2]\n",
    "    fibermap['MAG'][:, 2] = ugrizy[:, 4]\n",
    "    fibermap['MAG'][:, 3] = wise[:, 0]\n",
    "    fibermap['MAG'][:, 4] = wise[:, 1]\n",
    "\n",
    "    # Load fiber -> positioner mapping and tile information\n",
    "    fiberpos = desimodel.io.load_fiberpos()\n",
    "\n",
    "    # Where are these targets?  Centered on positioners for now.\n",
    "    x = fiberpos['X'][specmin:specmin+nspec]\n",
    "    y = fiberpos['Y'][specmin:specmin+nspec]\n",
    "    fp = FocalPlane(tile_ra, tile_dec)\n",
    "    ra = np.zeros(nspec)\n",
    "    dec = np.zeros(nspec)\n",
    "    for i in range(nspec):\n",
    "        ra[i], dec[i] = fp.xy2radec(x[i], y[i])\n",
    "\n",
    "    # Fill in the rest of the fibermap structure\n",
    "    fibermap['FIBER'] = np.arange(nspec, dtype='i4')\n",
    "    fibermap['POSITIONER'] = fiberpos['POSITIONER'][specmin:specmin+nspec]\n",
    "    fibermap['SPECTROID'] = fiberpos['SPECTROGRAPH'][specmin:specmin+nspec]\n",
    "    fibermap['TARGETID'] = rand.randint(sys.maxsize, size=nspec)\n",
    "    fibermap['TARGETCAT'] = np.zeros(nspec, dtype=(str, 20))\n",
    "    fibermap['LAMBDAREF'] = np.ones(nspec, dtype=np.float32)*5400\n",
    "    fibermap['RA_TARGET'] = ra\n",
    "    fibermap['DEC_TARGET'] = dec\n",
    "    fibermap['X_TARGET'] = x\n",
    "    fibermap['Y_TARGET'] = y\n",
    "    fibermap['X_FVCOBS'] = fibermap['X_TARGET']\n",
    "    fibermap['Y_FVCOBS'] = fibermap['Y_TARGET']\n",
    "    fibermap['X_FVCERR'] = np.zeros(nspec, dtype=np.float32)\n",
    "    fibermap['Y_FVCERR'] = np.zeros(nspec, dtype=np.float32)\n",
    "    fibermap['RA_OBS'] = fibermap['RA_TARGET']\n",
    "    fibermap['DEC_OBS'] = fibermap['DEC_TARGET']\n",
    "    fibermap['BRICKNAME'] = brick.brickname(ra, dec)\n",
    "\n",
    "    return fibermap, truth"
   ]
  },
  {
   "cell_type": "code",
   "execution_count": 4,
   "metadata": {
    "collapsed": true,
    "deletable": true,
    "editable": true
   },
   "outputs": [],
   "source": [
    "def new_lensing_exposure(priors, airmass=1.0, exptime=None, night=None, tileid=None,\n",
    "                         expid=None, seed=None, outdir='./'):\n",
    "    \"\"\"\n",
    "    Create a new exposure and output input simulation files.\n",
    "    Does not generate pixel-level simulations or noisy spectra.\n",
    "\n",
    "    Args:\n",
    "        priors (astropy.Table): table of prior parameters\n",
    "\n",
    "    Options:\n",
    "        airmass : airmass, default 1.0\n",
    "        exptime : exposure time in seconds\n",
    "        seed : random seed\n",
    "        outdir : output directory\n",
    "\n",
    "    Writes:\n",
    "        $OUTDIR/fibermap-{expid}.fits\n",
    "        $OUTDIR/simspec-{expid}.fits\n",
    "\n",
    "    Returns:\n",
    "        fibermap numpy structured array\n",
    "        truth dictionary\n",
    "\n",
    "    Notes:\n",
    "    WHAT IS A FLAVOR OF SCIENCE?\n",
    "\n",
    "\n",
    "    \"\"\"\n",
    "    import time\n",
    "    import desimodel.io\n",
    "    from desisim.io import get_tile_radec, write_simspec\n",
    "    from desisim.obs import get_next_expid, get_next_tileid, get_night\n",
    "\n",
    "    if expid is None:\n",
    "        expid = get_next_expid()\n",
    "    if tileid is None:\n",
    "        tileid = get_next_tileid()\n",
    "    if night is None:\n",
    "        night = get_night(utc=time.gmtime()) # simulation obs time = now, even if sun is up\n",
    "    dateobs = time.strptime(night+':22', '%Y%m%d:%H')\n",
    "    \n",
    "    flavor = 'science'   #???\n",
    "    \n",
    "    params = desimodel.io.load_desiparams()\n",
    "    if exptime is None:\n",
    "        exptime = params['exptime']\n",
    "        \n",
    "    nspec = priors['NSPEC']\n",
    "    log.debug('Generating {} targets'.format(nspec))\n",
    "    fibermap, truth = get_lensing_targets(priors, tileid=tileid, seed=seed)\n",
    "\n",
    "    flux = truth['FLUX']\n",
    "    wave = truth['WAVE']\n",
    "    nwave = len(wave)\n",
    "\n",
    "    # Load sky [Magic knowledge of units 1e-17 erg/s/cm2/A/arcsec2]\n",
    "    skyfile = os.getenv('DESIMODEL')+'/data/spectra/spec-sky.dat'\n",
    "\n",
    "    log.info('skyfile {}'.format(skyfile))\n",
    "    skywave, skyflux = np.loadtxt(skyfile, unpack=True)\n",
    "    skyflux = np.interp(wave, skywave, skyflux)\n",
    "    truth['SKYFLUX'] = skyflux\n",
    "\n",
    "    log.debug('Calculating flux -> photons')\n",
    "    for channel in ('B', 'R', 'Z'):\n",
    "        thru = desimodel.io.load_throughput(channel)\n",
    "\n",
    "        ii = np.where( (thru.wavemin <= wave) & (wave <= thru.wavemax) )[0]\n",
    "\n",
    "        # Project flux to photons\n",
    "        phot = thru.photons(wave[ii], flux[:,ii], units=truth['UNITS'],\n",
    "                objtype='LRG', exptime=exptime, airmass=airmass)\n",
    "\n",
    "        truth['PHOT_'+channel] = phot\n",
    "        truth['WAVE_'+channel] = wave[ii]\n",
    "\n",
    "        # Project sky flux to photons\n",
    "        skyphot = thru.photons(wave[ii], skyflux[ii]*airmass,\n",
    "                               units='1e-17 erg/s/cm2/A/arcsec2',\n",
    "                               objtype='SKY', exptime=exptime, airmass=airmass)\n",
    "\n",
    "        # 2D version\n",
    "        ### truth['SKYPHOT_'+channel] = np.tile(skyphot, nspec).reshape((nspec, len(ii)))\n",
    "        # 1D version\n",
    "        truth['SKYPHOT_{}'.format(channel)] = skyphot.astype(np.float32)\n",
    "\n",
    "    # NOTE: someday skyflux and skyphot may be 2D instead of 1D\n",
    "\n",
    "    # Extract the metadata part of the truth dictionary into a table\n",
    "    meta = truth['META']\n",
    "\n",
    "    # Write fibermap\n",
    "    telera, teledec = get_tile_radec(tileid)\n",
    "    hdr = dict(\n",
    "        NIGHT = (night, 'Night of observation YEARMMDD'),\n",
    "        EXPID = (expid, 'DESI exposure ID'),\n",
    "        TILEID = (tileid, 'DESI tile ID'),\n",
    "        FLAVOR = (flavor, 'Flavor [arc, flat, science, ...]'),\n",
    "        TELRA = (telera, 'Telescope pointing RA [degrees]'),\n",
    "        TELDEC = (teledec, 'Telescope pointing dec [degrees]'),\n",
    "        )\n",
    "    #- ISO 8601 DATE-OBS year-mm-ddThh:mm:ss\n",
    "    fiberfile = desispec.io.findfile('fibermap', night, expid)#, specprod_dir=outdir)\n",
    "    print(fiberfile)\n",
    "    #fiberfile = os.path.join(outdir, 'fibermap-{:08d}.fits'.format(expid))\n",
    "    desispec.io.write_fibermap(fiberfile, fibermap, header=hdr)\n",
    "    log.info('Wrote {}'.format(fiberfile))\n",
    "\n",
    "    #- Write simspec; expand fibermap header\n",
    "    hdr['AIRMASS'] = (airmass, 'Airmass at middle of exposure')\n",
    "    hdr['EXPTIME'] = (exptime, 'Exposure time [sec]')\n",
    "    hdr['DATE-OBS'] = (time.strftime('%FT%T', dateobs), 'Start of exposure')\n",
    "\n",
    "    #simfile = os.path.join(outdir, night, 'simspec-{:08d}.fits'.format(expid))\n",
    "    simfile = write_simspec(meta, truth, expid, night, header=hdr)#, outfile=simfile)\n",
    "    log.info('Wrote {}'.format(simfile))\n",
    "\n",
    "    return fibermap, truth"
   ]
  },
  {
   "cell_type": "code",
   "execution_count": 8,
   "metadata": {
    "collapsed": false,
    "deletable": true,
    "editable": true
   },
   "outputs": [
    {
     "name": "stdout",
     "output_type": "stream",
     "text": [
      "/home/desi1/simlens\n",
      "{'ZRANGE_SOURCE': array([ 0.8,  1.2]), 'LENSDIR': '/home/desi1/simlens', 'MAGRANGE_LENS': array([ 19. ,  20.5]), 'NSPEC': 30, 'EXPTIME': array([ 5000.], dtype=float32), 'MAGRANGE_SOURCE': array([ 20.5,  21.5]), 'EXPID': array([0]), 'ZRANGE_LENS': array([ 0.4,  0.6]), 'TILEID': 1000, 'NIGHT': '20170108', 'SEED': 456}\n"
     ]
    }
   ],
   "source": [
    " \"\"\"\n",
    "    Creates and builds the priors table(?)/dictionary. \n",
    "    \n",
    "    \n",
    "    Notes:\n",
    "    We had to hack the DESI environment to have everything in the lensdir directory.\n",
    "    Hard coded the night file\n",
    "    Needed to make the priors a dictionary because it didnt like when there were three spectra in the table\n",
    "    \n",
    "\"\"\"\n",
    "\n",
    "# Initialize the table of prior parameters.\n",
    "lensdir = os.path.join(os.getenv('HOME'), 'simlens')\n",
    "print(lensdir)\n",
    "\n",
    "# Temporarily hack the DESI environments\n",
    "os.environ['DESI_SPECTRO_SIM'] = lensdir\n",
    "os.environ['DESI_SPECTRO_DATA'] = lensdir\n",
    "os.environ['DESI_SPECTRO_REDUX'] = lensdir\n",
    "os.environ['PIXPROD'] = ''\n",
    "os.environ['SPECPROD'] = ''\n",
    "\n",
    "seed = 456\n",
    "rand = np.random.RandomState(seed)\n",
    "\n",
    "# Make our table/dictionary.\n",
    "night = '20170108'\n",
    "tileid = 1000\n",
    "nspec = 30\n",
    "exptime = np.array([5000.0]).astype('f4')\n",
    "#nspec = 3\n",
    "#exptime = np.array([10000.0, 100000.0]).astype('f4')\n",
    "nexp = len(exptime)\n",
    "expid = np.arange(nexp)\n",
    "\n",
    "priors = dict()\n",
    "priors['LENSDIR'] = lensdir\n",
    "priors['NIGHT'] = night\n",
    "priors['TILEID'] = tileid\n",
    "priors['EXPID'] = expid\n",
    "priors['EXPTIME'] = exptime\n",
    "priors['SEED'] = seed\n",
    "priors['NSPEC'] = nspec\n",
    "priors['ZRANGE_SOURCE'] = np.array([0.8, 1.2])\n",
    "priors['ZRANGE_LENS'] = np.array([0.4, 0.6])\n",
    "priors['MAGRANGE_SOURCE'] = np.array([20.5, 21.5])\n",
    "priors['MAGRANGE_LENS'] = np.array([19.0, 20.5])\n",
    "\n",
    "#priorfile = os.path.join(lensdir, 'priors.fits')\n",
    "#print('Writing {}'.format(priorfile))\n",
    "#Table(priors).writeto(priorfile)\n",
    "print(priors)"
   ]
  },
  {
   "cell_type": "code",
   "execution_count": 12,
   "metadata": {
    "collapsed": false,
    "deletable": true,
    "editable": true
   },
   "outputs": [
    {
     "name": "stdout",
     "output_type": "stream",
     "text": [
      "INFO:io.py:622:read_basis_templates: Reading /global/work/desi/spectro/templates/basis_templates/v2.2/elg_templates_v2.0.fits\n",
      "INFO:io.py:622:read_basis_templates: Reading /global/work/desi/spectro/templates/basis_templates/v2.2/lrg_templates_v1.3.fits\n",
      "INFO:<ipython-input-4-f850ffbf705c>:59:new_lensing_exposure: skyfile /usr/local/desihub/desimodel/data/spectra/spec-sky.dat\n",
      "/home/desi1/simlens/20170108/fibermap-00000000.fits\n",
      "INFO:<ipython-input-4-f850ffbf705c>:107:new_lensing_exposure: Wrote /home/desi1/simlens/20170108/fibermap-00000000.fits\n",
      "INFO:<ipython-input-4-f850ffbf705c>:116:new_lensing_exposure: Wrote /home/desi1/simlens/20170108/simspec-00000000.fits\n"
     ]
    },
    {
     "name": "stderr",
     "output_type": "stream",
     "text": [
      "WARNING: UnitsWarning: The unit 'erg' has been deprecated in the FITS standard. Suggested: cm2 g s-2. [astropy.units.format.utils]\n",
      "WARNING: UnitsWarning: The unit 'Angstrom' has been deprecated in the FITS standard. Suggested: 10**-1 nm. [astropy.units.format.utils]\n",
      "WARNING: The unit 'dex' could not be saved to FITS format [astropy.io.fits.convenience]\n"
     ]
    }
   ],
   "source": [
    "# Generate fibermap and simspec files.\n",
    "lensdir = priors['LENSDIR']\n",
    "for ii in range(nexp):\n",
    "    fibermap, truth = new_lensing_exposure(priors, exptime=priors['EXPTIME'][ii], night=priors['NIGHT'],\n",
    "                                           tileid=priors['TILEID'], expid=priors['EXPID'][ii], seed=seed, \n",
    "                                           outdir=lensdir)\n",
    "    # Write out truth table of the source.\n",
    "    metafile = os.path.join(lensdir, priors['NIGHT'], 'meta-source-{:08d}.fits'.format(priors['EXPID'][ii]))\n",
    "    truth['META_SOURCE'].write(metafile, overwrite=True)\n",
    "    \n",
    "    metafile = os.path.join(lensdir, priors['NIGHT'], 'meta-lens-{:08d}.fits'.format(priors['EXPID'][ii]))\n",
    "    truth['META'].write(metafile, overwrite=True)"
   ]
  },
  {
   "cell_type": "code",
   "execution_count": 14,
   "metadata": {
    "collapsed": false,
    "deletable": true,
    "editable": true
   },
   "outputs": [
    {
     "name": "stdout",
     "output_type": "stream",
     "text": [
      "INFO:quickgen.py:242:main: Reading fibermap file /home/desi1/simlens/20170108/fibermap-00000000.fits\n",
      "INFO:quickgen.py:275:main: Initializing SpecSim with config desi\n",
      "INFO:quickgen.py:281:main: Reading input file /home/desi1/simlens/20170108/simspec-00000000.fits\n",
      "INFO:quickgen.py:310:main: Only 30 spectra in input file\n",
      "INFO:quickgen.py:670:main: Writing files for channel:b, spectrograph:0, spectra:0 to 30\n",
      "INFO:quickgen.py:696:main: Wrote file /home/desi1/simlens/exposures/20170108/00000000/frame-b0-00000000.fits\n",
      "INFO:quickgen.py:713:main: Wrote file /home/desi1/simlens/exposures/20170108/00000000/cframe-b0-00000000.fits\n",
      "INFO:quickgen.py:728:main: Wrote file /home/desi1/simlens/exposures/20170108/00000000/sky-b0-00000000.fits\n",
      "INFO:quickgen.py:749:main: Wrote file /home/desi1/simlens/exposures/20170108/00000000/calib-b0-00000000.fits\n",
      "INFO:quickgen.py:670:main: Writing files for channel:r, spectrograph:0, spectra:0 to 30\n"
     ]
    },
    {
     "name": "stderr",
     "output_type": "stream",
     "text": [
      "WARNING: VerifyWarning: Card is too long, comment will be truncated. [astropy.io.fits.card]\n"
     ]
    },
    {
     "name": "stdout",
     "output_type": "stream",
     "text": [
      "INFO:quickgen.py:696:main: Wrote file /home/desi1/simlens/exposures/20170108/00000000/frame-r0-00000000.fits\n",
      "INFO:quickgen.py:713:main: Wrote file /home/desi1/simlens/exposures/20170108/00000000/cframe-r0-00000000.fits\n",
      "INFO:quickgen.py:728:main: Wrote file /home/desi1/simlens/exposures/20170108/00000000/sky-r0-00000000.fits\n",
      "INFO:quickgen.py:749:main: Wrote file /home/desi1/simlens/exposures/20170108/00000000/calib-r0-00000000.fits\n",
      "INFO:quickgen.py:670:main: Writing files for channel:z, spectrograph:0, spectra:0 to 30\n",
      "INFO:quickgen.py:696:main: Wrote file /home/desi1/simlens/exposures/20170108/00000000/frame-z0-00000000.fits\n",
      "INFO:quickgen.py:713:main: Wrote file /home/desi1/simlens/exposures/20170108/00000000/cframe-z0-00000000.fits\n",
      "INFO:quickgen.py:728:main: Wrote file /home/desi1/simlens/exposures/20170108/00000000/sky-z0-00000000.fits\n",
      "INFO:quickgen.py:749:main: Wrote file /home/desi1/simlens/exposures/20170108/00000000/calib-z0-00000000.fits\n"
     ]
    }
   ],
   "source": [
    "# Run quickgen\n",
    "lensdir = priors['LENSDIR']\n",
    "night = priors['NIGHT']\n",
    "for ii in range(nexp):\n",
    "    expid = priors['EXPID'][ii]\n",
    "    quickgen.main(quickgen.parse([\n",
    "        '--simspec', os.path.join(lensdir, night, 'simspec-{:08d}.fits'.format(expid)), \n",
    "        '--fibermap', os.path.join(lensdir, night, 'fibermap-{:08d}.fits'.format(expid))\n",
    "    ]))\n"
   ]
  },
  {
   "cell_type": "code",
   "execution_count": 15,
   "metadata": {
    "collapsed": false,
    "deletable": true,
    "editable": true
   },
   "outputs": [
    {
     "name": "stdout",
     "output_type": "stream",
     "text": [
      "DEBUG:makebricks.py:59:main: Exposure 00000000 covers 7 bricks and has cframes for b0,r0,z0.\n",
      "DEBUG:makebricks.py:84:main: Brick /home/desi1/simlens/bricks/3597p000/brick-b-3597p000.fits now contains 3 spectra for 3 targets.\n",
      "DEBUG:makebricks.py:84:main: Brick /home/desi1/simlens/bricks/3587m005/brick-b-3587m005.fits now contains 14 spectra for 14 targets.\n",
      "DEBUG:makebricks.py:84:main: Brick /home/desi1/simlens/bricks/3582p000/brick-b-3582p000.fits now contains 1 spectra for 1 targets.\n",
      "DEBUG:makebricks.py:84:main: Brick /home/desi1/simlens/bricks/3587p000/brick-b-3587p000.fits now contains 2 spectra for 2 targets.\n",
      "DEBUG:makebricks.py:84:main: Brick /home/desi1/simlens/bricks/3592m005/brick-b-3592m005.fits now contains 3 spectra for 3 targets.\n",
      "DEBUG:makebricks.py:84:main: Brick /home/desi1/simlens/bricks/3582m005/brick-b-3582m005.fits now contains 1 spectra for 1 targets.\n",
      "DEBUG:makebricks.py:84:main: Brick /home/desi1/simlens/bricks/3592p000/brick-b-3592p000.fits now contains 6 spectra for 6 targets.\n",
      "DEBUG:makebricks.py:84:main: Brick /home/desi1/simlens/bricks/3597p000/brick-r-3597p000.fits now contains 3 spectra for 3 targets.\n",
      "DEBUG:makebricks.py:84:main: Brick /home/desi1/simlens/bricks/3587m005/brick-r-3587m005.fits now contains 14 spectra for 14 targets.\n",
      "DEBUG:makebricks.py:84:main: Brick /home/desi1/simlens/bricks/3582p000/brick-r-3582p000.fits now contains 1 spectra for 1 targets.\n",
      "DEBUG:makebricks.py:84:main: Brick /home/desi1/simlens/bricks/3587p000/brick-r-3587p000.fits now contains 2 spectra for 2 targets.\n",
      "DEBUG:makebricks.py:84:main: Brick /home/desi1/simlens/bricks/3592m005/brick-r-3592m005.fits now contains 3 spectra for 3 targets.\n",
      "DEBUG:makebricks.py:84:main: Brick /home/desi1/simlens/bricks/3582m005/brick-r-3582m005.fits now contains 1 spectra for 1 targets.\n",
      "DEBUG:makebricks.py:84:main: Brick /home/desi1/simlens/bricks/3592p000/brick-r-3592p000.fits now contains 6 spectra for 6 targets.\n",
      "DEBUG:makebricks.py:84:main: Brick /home/desi1/simlens/bricks/3597p000/brick-z-3597p000.fits now contains 3 spectra for 3 targets.\n",
      "DEBUG:makebricks.py:84:main: Brick /home/desi1/simlens/bricks/3587m005/brick-z-3587m005.fits now contains 14 spectra for 14 targets.\n",
      "DEBUG:makebricks.py:84:main: Brick /home/desi1/simlens/bricks/3582p000/brick-z-3582p000.fits now contains 1 spectra for 1 targets.\n",
      "DEBUG:makebricks.py:84:main: Brick /home/desi1/simlens/bricks/3587p000/brick-z-3587p000.fits now contains 2 spectra for 2 targets.\n",
      "DEBUG:makebricks.py:84:main: Brick /home/desi1/simlens/bricks/3592m005/brick-z-3592m005.fits now contains 3 spectra for 3 targets.\n",
      "DEBUG:makebricks.py:84:main: Brick /home/desi1/simlens/bricks/3582m005/brick-z-3582m005.fits now contains 1 spectra for 1 targets.\n",
      "DEBUG:makebricks.py:84:main: Brick /home/desi1/simlens/bricks/3592p000/brick-z-3592p000.fits now contains 6 spectra for 6 targets.\n"
     ]
    }
   ],
   "source": [
    "# Make bricks from cframe files.\n",
    "from desispec.scripts import makebricks\n",
    "makebricks.main(makebricks.parse(['--night', priors['NIGHT'], '--verbose']))"
   ]
  },
  {
   "cell_type": "code",
   "execution_count": 18,
   "metadata": {
    "collapsed": false
   },
   "outputs": [
    {
     "name": "stdout",
     "output_type": "stream",
     "text": [
      "['/home/desi1/simlens/bricks/3597p000', '/home/desi1/simlens/bricks/3587m005', '/home/desi1/simlens/bricks/3582p000', '/home/desi1/simlens/bricks/3587p000', '/home/desi1/simlens/bricks/3592m005', '/home/desi1/simlens/bricks/3582m005', '/home/desi1/simlens/bricks/3592p000']\n"
     ]
    }
   ],
   "source": [
    "from glob import glob\n",
    "\n",
    "# Get the list of bricks\n",
    "bricks = glob(os.path.join(lensdir, 'bricks', '*'))\n",
    "print(bricks)\n"
   ]
  },
  {
   "cell_type": "code",
   "execution_count": 21,
   "metadata": {
    "collapsed": false,
    "deletable": true,
    "editable": true
   },
   "outputs": [
    {
     "name": "stdout",
     "output_type": "stream",
     "text": [
      "['/home/desi1/simlens/bricks/3597p000', '/home/desi1/simlens/bricks/3587m005', '/home/desi1/simlens/bricks/3582p000', '/home/desi1/simlens/bricks/3587p000', '/home/desi1/simlens/bricks/3592m005', '/home/desi1/simlens/bricks/3582m005', '/home/desi1/simlens/bricks/3592p000']\n",
      "/home/desi1/simlens/bricks/3587p000\n",
      "INFO:zfind.py:89:main: Reading bricks\n"
     ]
    },
    {
     "ename": "FileNotFoundError",
     "evalue": "[Errno 2] No such file or directory: '/home/desi1/simlens/bricks/home/desi1/simlens/bricks/3587p000/brick-b-/home/desi1/simlens/bricks/3587p000.fits'",
     "output_type": "error",
     "traceback": [
      "\u001b[0;31m---------------------------------------------------------------------------\u001b[0m",
      "\u001b[0;31mFileNotFoundError\u001b[0m                         Traceback (most recent call last)",
      "\u001b[0;32m<ipython-input-21-1fee40e3049c>\u001b[0m in \u001b[0;36m<module>\u001b[0;34m()\u001b[0m\n\u001b[1;32m     22\u001b[0m         \u001b[0;31m#'--outfile', os.path.join(lensdir, 'zbest-{}.fits'.format(exp))\u001b[0m\u001b[0;34m\u001b[0m\u001b[0;34m\u001b[0m\u001b[0m\n\u001b[1;32m     23\u001b[0m         '--objtype', 'LRG'])\n\u001b[0;32m---> 24\u001b[0;31m     \u001b[0mzfind\u001b[0m\u001b[0;34m.\u001b[0m\u001b[0mmain\u001b[0m\u001b[0;34m(\u001b[0m\u001b[0mzargs\u001b[0m\u001b[0;34m)\u001b[0m\u001b[0;34m\u001b[0m\u001b[0m\n\u001b[0m",
      "\u001b[0;32m/usr/local/desihub/desispec/py/desispec/scripts/zfind.py\u001b[0m in \u001b[0;36mmain\u001b[0;34m(args, comm)\u001b[0m\n\u001b[1;32m     99\u001b[0m             \u001b[0;32mif\u001b[0m \u001b[0mcomm\u001b[0m \u001b[0;32mis\u001b[0m \u001b[0;32mnot\u001b[0m \u001b[0;32mNone\u001b[0m\u001b[0;34m:\u001b[0m\u001b[0;34m\u001b[0m\u001b[0m\n\u001b[1;32m    100\u001b[0m                 \u001b[0mfilename\u001b[0m \u001b[0;34m=\u001b[0m \u001b[0mcomm\u001b[0m\u001b[0;34m.\u001b[0m\u001b[0mbcast\u001b[0m\u001b[0;34m(\u001b[0m\u001b[0mfilename\u001b[0m\u001b[0;34m,\u001b[0m \u001b[0mroot\u001b[0m\u001b[0;34m=\u001b[0m\u001b[0;36m0\u001b[0m\u001b[0;34m)\u001b[0m\u001b[0;34m\u001b[0m\u001b[0m\n\u001b[0;32m--> 101\u001b[0;31m             \u001b[0mbrick\u001b[0m\u001b[0;34m[\u001b[0m\u001b[0mchannel\u001b[0m\u001b[0;34m]\u001b[0m \u001b[0;34m=\u001b[0m \u001b[0mio\u001b[0m\u001b[0;34m.\u001b[0m\u001b[0mBrick\u001b[0m\u001b[0;34m(\u001b[0m\u001b[0mfilename\u001b[0m\u001b[0;34m)\u001b[0m\u001b[0;34m\u001b[0m\u001b[0m\n\u001b[0m\u001b[1;32m    102\u001b[0m     \u001b[0;32melse\u001b[0m\u001b[0;34m:\u001b[0m\u001b[0;34m\u001b[0m\u001b[0m\n\u001b[1;32m    103\u001b[0m         \u001b[0;32mfor\u001b[0m \u001b[0mfilename\u001b[0m \u001b[0;32min\u001b[0m \u001b[0margs\u001b[0m\u001b[0;34m.\u001b[0m\u001b[0mbrickfiles\u001b[0m\u001b[0;34m:\u001b[0m\u001b[0;34m\u001b[0m\u001b[0m\n",
      "\u001b[0;32m/usr/local/desihub/desispec/py/desispec/io/brick.py\u001b[0m in \u001b[0;36m__init__\u001b[0;34m(self, path, mode, header)\u001b[0m\n\u001b[1;32m    212\u001b[0m     \"\"\"\n\u001b[1;32m    213\u001b[0m     \u001b[0;32mdef\u001b[0m \u001b[0m__init__\u001b[0m\u001b[0;34m(\u001b[0m\u001b[0mself\u001b[0m\u001b[0;34m,\u001b[0m \u001b[0mpath\u001b[0m\u001b[0;34m,\u001b[0m \u001b[0mmode\u001b[0m\u001b[0;34m=\u001b[0m\u001b[0;34m'readonly'\u001b[0m\u001b[0;34m,\u001b[0m \u001b[0mheader\u001b[0m\u001b[0;34m=\u001b[0m\u001b[0;32mNone\u001b[0m\u001b[0;34m)\u001b[0m\u001b[0;34m:\u001b[0m\u001b[0;34m\u001b[0m\u001b[0m\n\u001b[0;32m--> 214\u001b[0;31m         \u001b[0msuper\u001b[0m\u001b[0;34m(\u001b[0m\u001b[0mBrick\u001b[0m\u001b[0;34m,\u001b[0m \u001b[0mself\u001b[0m\u001b[0;34m)\u001b[0m\u001b[0;34m.\u001b[0m\u001b[0m__init__\u001b[0m\u001b[0;34m(\u001b[0m\u001b[0mpath\u001b[0m\u001b[0;34m,\u001b[0m \u001b[0mmode\u001b[0m\u001b[0;34m,\u001b[0m \u001b[0mheader\u001b[0m\u001b[0;34m)\u001b[0m\u001b[0;34m\u001b[0m\u001b[0m\n\u001b[0m\u001b[1;32m    215\u001b[0m \u001b[0;34m\u001b[0m\u001b[0m\n\u001b[1;32m    216\u001b[0m     \u001b[0;32mdef\u001b[0m \u001b[0madd_objects\u001b[0m\u001b[0;34m(\u001b[0m\u001b[0mself\u001b[0m\u001b[0;34m,\u001b[0m\u001b[0mflux\u001b[0m\u001b[0;34m,\u001b[0m\u001b[0mivar\u001b[0m\u001b[0;34m,\u001b[0m\u001b[0mwave\u001b[0m\u001b[0;34m,\u001b[0m\u001b[0mresolution\u001b[0m\u001b[0;34m,\u001b[0m\u001b[0mobject_data\u001b[0m\u001b[0;34m,\u001b[0m\u001b[0mnight\u001b[0m\u001b[0;34m,\u001b[0m\u001b[0mexpid\u001b[0m\u001b[0;34m)\u001b[0m\u001b[0;34m:\u001b[0m\u001b[0;34m\u001b[0m\u001b[0m\n",
      "\u001b[0;32m/usr/local/desihub/desispec/py/desispec/io/brick.py\u001b[0m in \u001b[0;36m__init__\u001b[0;34m(self, path, mode, header)\u001b[0m\n\u001b[1;32m    118\u001b[0m             \u001b[0mself\u001b[0m\u001b[0;34m.\u001b[0m\u001b[0mhdu_list\u001b[0m \u001b[0;34m=\u001b[0m \u001b[0mastropy\u001b[0m\u001b[0;34m.\u001b[0m\u001b[0mio\u001b[0m\u001b[0;34m.\u001b[0m\u001b[0mfits\u001b[0m\u001b[0;34m.\u001b[0m\u001b[0mHDUList\u001b[0m\u001b[0;34m(\u001b[0m\u001b[0;34m[\u001b[0m\u001b[0mhdu0\u001b[0m\u001b[0;34m,\u001b[0m\u001b[0mhdu1\u001b[0m\u001b[0;34m,\u001b[0m\u001b[0mhdu2\u001b[0m\u001b[0;34m,\u001b[0m\u001b[0mhdu3\u001b[0m\u001b[0;34m,\u001b[0m\u001b[0mhdu4\u001b[0m\u001b[0;34m]\u001b[0m\u001b[0;34m)\u001b[0m\u001b[0;34m\u001b[0m\u001b[0m\n\u001b[1;32m    119\u001b[0m         \u001b[0;32melse\u001b[0m\u001b[0;34m:\u001b[0m\u001b[0;34m\u001b[0m\u001b[0m\n\u001b[0;32m--> 120\u001b[0;31m             \u001b[0mself\u001b[0m\u001b[0;34m.\u001b[0m\u001b[0mhdu_list\u001b[0m \u001b[0;34m=\u001b[0m \u001b[0mastropy\u001b[0m\u001b[0;34m.\u001b[0m\u001b[0mio\u001b[0m\u001b[0;34m.\u001b[0m\u001b[0mfits\u001b[0m\u001b[0;34m.\u001b[0m\u001b[0mopen\u001b[0m\u001b[0;34m(\u001b[0m\u001b[0mpath\u001b[0m\u001b[0;34m,\u001b[0m\u001b[0mmode\u001b[0m \u001b[0;34m=\u001b[0m \u001b[0mself\u001b[0m\u001b[0;34m.\u001b[0m\u001b[0mmode\u001b[0m\u001b[0;34m)\u001b[0m\u001b[0;34m\u001b[0m\u001b[0m\n\u001b[0m\u001b[1;32m    121\u001b[0m             \u001b[0;32mtry\u001b[0m\u001b[0;34m:\u001b[0m\u001b[0;34m\u001b[0m\u001b[0m\n\u001b[1;32m    122\u001b[0m                 \u001b[0mself\u001b[0m\u001b[0;34m.\u001b[0m\u001b[0mbrickname\u001b[0m \u001b[0;34m=\u001b[0m \u001b[0mself\u001b[0m\u001b[0;34m.\u001b[0m\u001b[0mhdu_list\u001b[0m\u001b[0;34m[\u001b[0m\u001b[0;36m0\u001b[0m\u001b[0;34m]\u001b[0m\u001b[0;34m.\u001b[0m\u001b[0mheader\u001b[0m\u001b[0;34m[\u001b[0m\u001b[0;34m'BRICKNAM'\u001b[0m\u001b[0;34m]\u001b[0m\u001b[0;34m\u001b[0m\u001b[0m\n",
      "\u001b[0;32m/usr/local/anaconda3/envs/desi/lib/python3.5/site-packages/astropy/io/fits/hdu/hdulist.py\u001b[0m in \u001b[0;36mfitsopen\u001b[0;34m(name, mode, memmap, save_backup, cache, **kwargs)\u001b[0m\n\u001b[1;32m    137\u001b[0m         \u001b[0;32mraise\u001b[0m \u001b[0mValueError\u001b[0m\u001b[0;34m(\u001b[0m\u001b[0;34m'Empty filename: %s'\u001b[0m \u001b[0;34m%\u001b[0m \u001b[0mrepr\u001b[0m\u001b[0;34m(\u001b[0m\u001b[0mname\u001b[0m\u001b[0;34m)\u001b[0m\u001b[0;34m)\u001b[0m\u001b[0;34m\u001b[0m\u001b[0m\n\u001b[1;32m    138\u001b[0m \u001b[0;34m\u001b[0m\u001b[0m\n\u001b[0;32m--> 139\u001b[0;31m     \u001b[0;32mreturn\u001b[0m \u001b[0mHDUList\u001b[0m\u001b[0;34m.\u001b[0m\u001b[0mfromfile\u001b[0m\u001b[0;34m(\u001b[0m\u001b[0mname\u001b[0m\u001b[0;34m,\u001b[0m \u001b[0mmode\u001b[0m\u001b[0;34m,\u001b[0m \u001b[0mmemmap\u001b[0m\u001b[0;34m,\u001b[0m \u001b[0msave_backup\u001b[0m\u001b[0;34m,\u001b[0m \u001b[0mcache\u001b[0m\u001b[0;34m,\u001b[0m \u001b[0;34m**\u001b[0m\u001b[0mkwargs\u001b[0m\u001b[0;34m)\u001b[0m\u001b[0;34m\u001b[0m\u001b[0m\n\u001b[0m\u001b[1;32m    140\u001b[0m \u001b[0;34m\u001b[0m\u001b[0m\n\u001b[1;32m    141\u001b[0m \u001b[0;34m\u001b[0m\u001b[0m\n",
      "\u001b[0;32m/usr/local/anaconda3/envs/desi/lib/python3.5/site-packages/astropy/io/fits/hdu/hdulist.py\u001b[0m in \u001b[0;36mfromfile\u001b[0;34m(cls, fileobj, mode, memmap, save_backup, cache, **kwargs)\u001b[0m\n\u001b[1;32m    279\u001b[0m \u001b[0;34m\u001b[0m\u001b[0m\n\u001b[1;32m    280\u001b[0m         return cls._readfrom(fileobj=fileobj, mode=mode, memmap=memmap,\n\u001b[0;32m--> 281\u001b[0;31m                              save_backup=save_backup, cache=cache, **kwargs)\n\u001b[0m\u001b[1;32m    282\u001b[0m \u001b[0;34m\u001b[0m\u001b[0m\n\u001b[1;32m    283\u001b[0m     \u001b[0;34m@\u001b[0m\u001b[0mclassmethod\u001b[0m\u001b[0;34m\u001b[0m\u001b[0m\n",
      "\u001b[0;32m/usr/local/anaconda3/envs/desi/lib/python3.5/site-packages/astropy/io/fits/hdu/hdulist.py\u001b[0m in \u001b[0;36m_readfrom\u001b[0;34m(cls, fileobj, data, mode, memmap, save_backup, cache, **kwargs)\u001b[0m\n\u001b[1;32m    800\u001b[0m             \u001b[0;32mif\u001b[0m \u001b[0;32mnot\u001b[0m \u001b[0misinstance\u001b[0m\u001b[0;34m(\u001b[0m\u001b[0mfileobj\u001b[0m\u001b[0;34m,\u001b[0m \u001b[0m_File\u001b[0m\u001b[0;34m)\u001b[0m\u001b[0;34m:\u001b[0m\u001b[0;34m\u001b[0m\u001b[0m\n\u001b[1;32m    801\u001b[0m                 \u001b[0;31m# instantiate a FITS file object (ffo)\u001b[0m\u001b[0;34m\u001b[0m\u001b[0;34m\u001b[0m\u001b[0m\n\u001b[0;32m--> 802\u001b[0;31m                 \u001b[0mffo\u001b[0m \u001b[0;34m=\u001b[0m \u001b[0m_File\u001b[0m\u001b[0;34m(\u001b[0m\u001b[0mfileobj\u001b[0m\u001b[0;34m,\u001b[0m \u001b[0mmode\u001b[0m\u001b[0;34m=\u001b[0m\u001b[0mmode\u001b[0m\u001b[0;34m,\u001b[0m \u001b[0mmemmap\u001b[0m\u001b[0;34m=\u001b[0m\u001b[0mmemmap\u001b[0m\u001b[0;34m,\u001b[0m \u001b[0mcache\u001b[0m\u001b[0;34m=\u001b[0m\u001b[0mcache\u001b[0m\u001b[0;34m)\u001b[0m\u001b[0;34m\u001b[0m\u001b[0m\n\u001b[0m\u001b[1;32m    803\u001b[0m             \u001b[0;32melse\u001b[0m\u001b[0;34m:\u001b[0m\u001b[0;34m\u001b[0m\u001b[0m\n\u001b[1;32m    804\u001b[0m                 \u001b[0mffo\u001b[0m \u001b[0;34m=\u001b[0m \u001b[0mfileobj\u001b[0m\u001b[0;34m\u001b[0m\u001b[0m\n",
      "\u001b[0;32m/usr/local/anaconda3/envs/desi/lib/python3.5/site-packages/astropy/io/fits/file.py\u001b[0m in \u001b[0;36m__init__\u001b[0;34m(self, fileobj, mode, memmap, clobber, cache)\u001b[0m\n\u001b[1;32m    148\u001b[0m             \u001b[0mself\u001b[0m\u001b[0;34m.\u001b[0m\u001b[0m_open_fileobj\u001b[0m\u001b[0;34m(\u001b[0m\u001b[0mfileobj\u001b[0m\u001b[0;34m,\u001b[0m \u001b[0mmode\u001b[0m\u001b[0;34m,\u001b[0m \u001b[0mclobber\u001b[0m\u001b[0;34m)\u001b[0m\u001b[0;34m\u001b[0m\u001b[0m\n\u001b[1;32m    149\u001b[0m         \u001b[0;32melif\u001b[0m \u001b[0misinstance\u001b[0m\u001b[0;34m(\u001b[0m\u001b[0mfileobj\u001b[0m\u001b[0;34m,\u001b[0m \u001b[0mstring_types\u001b[0m\u001b[0;34m)\u001b[0m\u001b[0;34m:\u001b[0m\u001b[0;34m\u001b[0m\u001b[0m\n\u001b[0;32m--> 150\u001b[0;31m             \u001b[0mself\u001b[0m\u001b[0;34m.\u001b[0m\u001b[0m_open_filename\u001b[0m\u001b[0;34m(\u001b[0m\u001b[0mfileobj\u001b[0m\u001b[0;34m,\u001b[0m \u001b[0mmode\u001b[0m\u001b[0;34m,\u001b[0m \u001b[0mclobber\u001b[0m\u001b[0;34m)\u001b[0m\u001b[0;34m\u001b[0m\u001b[0m\n\u001b[0m\u001b[1;32m    151\u001b[0m         \u001b[0;32melse\u001b[0m\u001b[0;34m:\u001b[0m\u001b[0;34m\u001b[0m\u001b[0m\n\u001b[1;32m    152\u001b[0m             \u001b[0mself\u001b[0m\u001b[0;34m.\u001b[0m\u001b[0m_open_filelike\u001b[0m\u001b[0;34m(\u001b[0m\u001b[0mfileobj\u001b[0m\u001b[0;34m,\u001b[0m \u001b[0mmode\u001b[0m\u001b[0;34m,\u001b[0m \u001b[0mclobber\u001b[0m\u001b[0;34m)\u001b[0m\u001b[0;34m\u001b[0m\u001b[0m\n",
      "\u001b[0;32m/usr/local/anaconda3/envs/desi/lib/python3.5/site-packages/astropy/io/fits/file.py\u001b[0m in \u001b[0;36m_open_filename\u001b[0;34m(self, filename, mode, clobber)\u001b[0m\n\u001b[1;32m    500\u001b[0m             \u001b[0mself\u001b[0m\u001b[0;34m.\u001b[0m\u001b[0m_file\u001b[0m \u001b[0;34m=\u001b[0m \u001b[0mbz2\u001b[0m\u001b[0;34m.\u001b[0m\u001b[0mBZ2File\u001b[0m\u001b[0;34m(\u001b[0m\u001b[0mself\u001b[0m\u001b[0;34m.\u001b[0m\u001b[0mname\u001b[0m\u001b[0;34m,\u001b[0m \u001b[0mbzip2_mode\u001b[0m\u001b[0;34m)\u001b[0m\u001b[0;34m\u001b[0m\u001b[0m\n\u001b[1;32m    501\u001b[0m         \u001b[0;32melse\u001b[0m\u001b[0;34m:\u001b[0m\u001b[0;34m\u001b[0m\u001b[0m\n\u001b[0;32m--> 502\u001b[0;31m             \u001b[0mself\u001b[0m\u001b[0;34m.\u001b[0m\u001b[0m_file\u001b[0m \u001b[0;34m=\u001b[0m \u001b[0mfileobj_open\u001b[0m\u001b[0;34m(\u001b[0m\u001b[0mself\u001b[0m\u001b[0;34m.\u001b[0m\u001b[0mname\u001b[0m\u001b[0;34m,\u001b[0m \u001b[0mPYFITS_MODES\u001b[0m\u001b[0;34m[\u001b[0m\u001b[0mmode\u001b[0m\u001b[0;34m]\u001b[0m\u001b[0;34m)\u001b[0m\u001b[0;34m\u001b[0m\u001b[0m\n\u001b[0m\u001b[1;32m    503\u001b[0m \u001b[0;34m\u001b[0m\u001b[0m\n\u001b[1;32m    504\u001b[0m         \u001b[0;31m# Make certain we're back at the beginning of the file\u001b[0m\u001b[0;34m\u001b[0m\u001b[0;34m\u001b[0m\u001b[0m\n",
      "\u001b[0;32m/usr/local/anaconda3/envs/desi/lib/python3.5/site-packages/astropy/io/fits/util.py\u001b[0m in \u001b[0;36mfileobj_open\u001b[0;34m(filename, mode)\u001b[0m\n\u001b[1;32m    387\u001b[0m         \"\"\"\n\u001b[1;32m    388\u001b[0m \u001b[0;34m\u001b[0m\u001b[0m\n\u001b[0;32m--> 389\u001b[0;31m         \u001b[0;32mreturn\u001b[0m \u001b[0mopen\u001b[0m\u001b[0;34m(\u001b[0m\u001b[0mfilename\u001b[0m\u001b[0;34m,\u001b[0m \u001b[0mmode\u001b[0m\u001b[0;34m,\u001b[0m \u001b[0mbuffering\u001b[0m\u001b[0;34m=\u001b[0m\u001b[0;36m0\u001b[0m\u001b[0;34m)\u001b[0m\u001b[0;34m\u001b[0m\u001b[0m\n\u001b[0m\u001b[1;32m    390\u001b[0m \u001b[0;32melif\u001b[0m \u001b[0msix\u001b[0m\u001b[0;34m.\u001b[0m\u001b[0mPY2\u001b[0m\u001b[0;34m:\u001b[0m\u001b[0;34m\u001b[0m\u001b[0m\n\u001b[1;32m    391\u001b[0m     \u001b[0;32mdef\u001b[0m \u001b[0mfileobj_open\u001b[0m\u001b[0;34m(\u001b[0m\u001b[0mfilename\u001b[0m\u001b[0;34m,\u001b[0m \u001b[0mmode\u001b[0m\u001b[0;34m)\u001b[0m\u001b[0;34m:\u001b[0m\u001b[0;34m\u001b[0m\u001b[0m\n",
      "\u001b[0;31mFileNotFoundError\u001b[0m: [Errno 2] No such file or directory: '/home/desi1/simlens/bricks/home/desi1/simlens/bricks/3587p000/brick-b-/home/desi1/simlens/bricks/3587p000.fits'"
     ]
    }
   ],
   "source": [
    "# Figure out redshift fitting.\n",
    "from desispec.scripts import zfind\n",
    "from glob import glob\n",
    "\n",
    "# Get the list of bricks\n",
    "bricks = glob(os.path.join(lensdir, 'bricks', '*'))\n",
    "print(bricks)\n",
    "\n",
    "nproc = 4\n",
    "zrange = [0.4, 0.6]\n",
    "\n",
    "for bb in list(set(bricks)):\n",
    "    print(bb)\n",
    "    #brickfiles = [os.path.join(lensdir, 'bricks', bb, 'brick-{}-{}.fits'.format(ch, bb)) for ch in ['b', 'r', 'z']]\n",
    "    #print(brickfiles)\n",
    "    zargs = zfind.parse([\n",
    "        '--brick', bb, \n",
    "        '--nproc', '{}'.format(nproc),\n",
    "        '--zrange-galaxy', '{}'.format(zrange[0]), '{}'.format(zrange[1]), \n",
    "        #'--zspec', \n",
    "        #'--qafile', os.path.join(lensdir, 'bricks', bb, 'qa-zbest-{}.pdf'.format(bb)),\n",
    "        #'--outfile', os.path.join(lensdir, 'zbest-{}.fits'.format(exp))\n",
    "        '--objtype', 'LRG'])\n",
    "    zfind.main(zargs)\n"
   ]
  },
  {
   "cell_type": "code",
   "execution_count": 11,
   "metadata": {
    "collapsed": false,
    "deletable": true,
    "editable": true
   },
   "outputs": [
    {
     "name": "stdout",
     "output_type": "stream",
     "text": [
      "BRICKNAME       TARGETID            Z        ... ZWARN    SPECTYPE   SUBTYPE\n",
      "--------- ------------------- -------------- ... ----- ------------- -------\n",
      " 3587m005 5232294543435377135 0.533457757609 ...     0 ssp_em_galaxy      NA\n",
      " 3587m005 5691252077003571054 0.533855055745 ...     0 ssp_em_galaxy      NA\n",
      " 3587m005 1920557591967215085 0.533556728675 ...     0 ssp_em_galaxy      NA\n",
      " 3587m005 4779873526751553756 0.457591332206 ...     0 ssp_em_galaxy      NA\n",
      " 3587m005 3340798629242901969 0.533699529784 ...     0 ssp_em_galaxy      NA\n",
      " 3587m005 2770134932869203432 0.457407900788 ...     0 ssp_em_galaxy      NA\n",
      "OBJTYPE SUBTYPE TEMPLATEID    SEED    REDSHIFT ... ZMETAL   AGE   TEFF LOGG FEH \n",
      "------- ------- ---------- ---------- -------- ... ------ ------- ---- ---- ----\n",
      "    LRG                 80 1068398491      0.5 ...  0.019 6.30957 -1.0 -1.0 -1.0\n",
      "    LRG                 52 4211147365      0.5 ...  0.019 1.25893 -1.0 -1.0 -1.0\n",
      "    LRG                 67  700366507      0.5 ...  0.019 2.98538 -1.0 -1.0 -1.0\n",
      "    LRG                120  650865241      0.5 ...   0.03 3.98107 -1.0 -1.0 -1.0\n",
      "    LRG                 69 3365722154      0.5 ...  0.019 3.34965 -1.0 -1.0 -1.0\n",
      "    LRG                 57 1437477359      0.5 ...  0.019  1.6788 -1.0 -1.0 -1.0\n",
      "    LRG                 35 3472581532      0.5 ... 0.0096 7.49894 -1.0 -1.0 -1.0\n",
      "    LRG                 64 1224769390      0.5 ...  0.019 2.51189 -1.0 -1.0 -1.0\n",
      "    LRG                 59 2687053647      0.5 ...  0.019 1.88365 -1.0 -1.0 -1.0\n",
      "    LRG                109  664237178      0.5 ...   0.03 2.11349 -1.0 -1.0 -1.0\n"
     ]
    }
   ],
   "source": [
    "#set the brick name and take the zbest file for the specified brick\n",
    "thisbrick = '3587m005'\n",
    "zfile = os.path.join(lensdir, 'bricks', thisbrick, 'zbest-{}.fits'.format(thisbrick))\n",
    "zbest = Table(fitsio.read(zfile, ext=1))\n",
    "print(zbest)\n",
    "\n",
    "#Create the table for the set brick \n",
    "simfile = os.path.join(lensdir, priors['NIGHT'], 'simspec-{:08d}.fits'.format(priors['EXPID'][0]))\n",
    "sim1 = read_simspec(simfile)\n",
    "print(Table(sim1.metadata))\n",
    "\n"
   ]
  },
  {
   "cell_type": "code",
   "execution_count": 12,
   "metadata": {
    "collapsed": true,
    "deletable": true,
    "editable": true
   },
   "outputs": [],
   "source": [
    "# Below here requires hacking....\n"
   ]
  },
  {
   "cell_type": "code",
   "execution_count": 13,
   "metadata": {
    "collapsed": false,
    "deletable": true,
    "editable": true,
    "scrolled": true
   },
   "outputs": [
    {
     "ename": "FileNotFoundError",
     "evalue": "[Errno 2] No such file or directory: '/home/desi1/simlens/simspec-00000000.fits'",
     "output_type": "error",
     "traceback": [
      "\u001b[0;31m---------------------------------------------------------------------------\u001b[0m",
      "\u001b[0;31mFileNotFoundError\u001b[0m                         Traceback (most recent call last)",
      "\u001b[0;32m<ipython-input-13-c30a853e74e9>\u001b[0m in \u001b[0;36m<module>\u001b[0;34m()\u001b[0m\n\u001b[1;32m      1\u001b[0m \u001b[0;31m# Read the simspec file to get trueflux.\u001b[0m\u001b[0;34m\u001b[0m\u001b[0;34m\u001b[0m\u001b[0m\n\u001b[1;32m      2\u001b[0m \u001b[0msimfile\u001b[0m \u001b[0;34m=\u001b[0m \u001b[0mos\u001b[0m\u001b[0;34m.\u001b[0m\u001b[0mpath\u001b[0m\u001b[0;34m.\u001b[0m\u001b[0mjoin\u001b[0m\u001b[0;34m(\u001b[0m\u001b[0mlensdir\u001b[0m\u001b[0;34m,\u001b[0m \u001b[0;34m'simspec-{:08d}.fits'\u001b[0m\u001b[0;34m.\u001b[0m\u001b[0mformat\u001b[0m\u001b[0;34m(\u001b[0m\u001b[0;36m0\u001b[0m\u001b[0;34m)\u001b[0m\u001b[0;34m)\u001b[0m\u001b[0;34m\u001b[0m\u001b[0m\n\u001b[0;32m----> 3\u001b[0;31m \u001b[0msim\u001b[0m \u001b[0;34m=\u001b[0m \u001b[0mread_simspec\u001b[0m\u001b[0;34m(\u001b[0m\u001b[0msimfile\u001b[0m\u001b[0;34m)\u001b[0m\u001b[0;34m\u001b[0m\u001b[0m\n\u001b[0m\u001b[1;32m      4\u001b[0m \u001b[0;34m\u001b[0m\u001b[0m\n\u001b[1;32m      5\u001b[0m \u001b[0msimfile1\u001b[0m \u001b[0;34m=\u001b[0m \u001b[0mos\u001b[0m\u001b[0;34m.\u001b[0m\u001b[0mpath\u001b[0m\u001b[0;34m.\u001b[0m\u001b[0mjoin\u001b[0m\u001b[0;34m(\u001b[0m\u001b[0mlensdir\u001b[0m\u001b[0;34m,\u001b[0m \u001b[0;34m'simspec-{:08d}.fits'\u001b[0m\u001b[0;34m.\u001b[0m\u001b[0mformat\u001b[0m\u001b[0;34m(\u001b[0m\u001b[0;36m1\u001b[0m\u001b[0;34m)\u001b[0m\u001b[0;34m)\u001b[0m\u001b[0;34m\u001b[0m\u001b[0m\n",
      "\u001b[0;32m/usr/local/desihub/desisim/py/desisim/io.py\u001b[0m in \u001b[0;36mread_simspec\u001b[0;34m(filename)\u001b[0m\n\u001b[1;32m    222\u001b[0m     \"\"\"\n\u001b[1;32m    223\u001b[0m \u001b[0;34m\u001b[0m\u001b[0m\n\u001b[0;32m--> 224\u001b[0;31m     \u001b[0mfx\u001b[0m \u001b[0;34m=\u001b[0m \u001b[0mfits\u001b[0m\u001b[0;34m.\u001b[0m\u001b[0mopen\u001b[0m\u001b[0;34m(\u001b[0m\u001b[0mfilename\u001b[0m\u001b[0;34m)\u001b[0m\u001b[0;34m\u001b[0m\u001b[0m\n\u001b[0m\u001b[1;32m    225\u001b[0m     \u001b[0mhdr\u001b[0m \u001b[0;34m=\u001b[0m \u001b[0mfx\u001b[0m\u001b[0;34m[\u001b[0m\u001b[0;36m0\u001b[0m\u001b[0;34m]\u001b[0m\u001b[0;34m.\u001b[0m\u001b[0mheader\u001b[0m\u001b[0;34m\u001b[0m\u001b[0m\n\u001b[1;32m    226\u001b[0m     \u001b[0mflavor\u001b[0m \u001b[0;34m=\u001b[0m \u001b[0mhdr\u001b[0m\u001b[0;34m[\u001b[0m\u001b[0;34m'FLAVOR'\u001b[0m\u001b[0;34m]\u001b[0m\u001b[0;34m\u001b[0m\u001b[0m\n",
      "\u001b[0;32m/usr/local/anaconda3/envs/desi/lib/python3.5/site-packages/astropy/io/fits/hdu/hdulist.py\u001b[0m in \u001b[0;36mfitsopen\u001b[0;34m(name, mode, memmap, save_backup, cache, **kwargs)\u001b[0m\n\u001b[1;32m    137\u001b[0m         \u001b[0;32mraise\u001b[0m \u001b[0mValueError\u001b[0m\u001b[0;34m(\u001b[0m\u001b[0;34m'Empty filename: %s'\u001b[0m \u001b[0;34m%\u001b[0m \u001b[0mrepr\u001b[0m\u001b[0;34m(\u001b[0m\u001b[0mname\u001b[0m\u001b[0;34m)\u001b[0m\u001b[0;34m)\u001b[0m\u001b[0;34m\u001b[0m\u001b[0m\n\u001b[1;32m    138\u001b[0m \u001b[0;34m\u001b[0m\u001b[0m\n\u001b[0;32m--> 139\u001b[0;31m     \u001b[0;32mreturn\u001b[0m \u001b[0mHDUList\u001b[0m\u001b[0;34m.\u001b[0m\u001b[0mfromfile\u001b[0m\u001b[0;34m(\u001b[0m\u001b[0mname\u001b[0m\u001b[0;34m,\u001b[0m \u001b[0mmode\u001b[0m\u001b[0;34m,\u001b[0m \u001b[0mmemmap\u001b[0m\u001b[0;34m,\u001b[0m \u001b[0msave_backup\u001b[0m\u001b[0;34m,\u001b[0m \u001b[0mcache\u001b[0m\u001b[0;34m,\u001b[0m \u001b[0;34m**\u001b[0m\u001b[0mkwargs\u001b[0m\u001b[0;34m)\u001b[0m\u001b[0;34m\u001b[0m\u001b[0m\n\u001b[0m\u001b[1;32m    140\u001b[0m \u001b[0;34m\u001b[0m\u001b[0m\n\u001b[1;32m    141\u001b[0m \u001b[0;34m\u001b[0m\u001b[0m\n",
      "\u001b[0;32m/usr/local/anaconda3/envs/desi/lib/python3.5/site-packages/astropy/io/fits/hdu/hdulist.py\u001b[0m in \u001b[0;36mfromfile\u001b[0;34m(cls, fileobj, mode, memmap, save_backup, cache, **kwargs)\u001b[0m\n\u001b[1;32m    279\u001b[0m \u001b[0;34m\u001b[0m\u001b[0m\n\u001b[1;32m    280\u001b[0m         return cls._readfrom(fileobj=fileobj, mode=mode, memmap=memmap,\n\u001b[0;32m--> 281\u001b[0;31m                              save_backup=save_backup, cache=cache, **kwargs)\n\u001b[0m\u001b[1;32m    282\u001b[0m \u001b[0;34m\u001b[0m\u001b[0m\n\u001b[1;32m    283\u001b[0m     \u001b[0;34m@\u001b[0m\u001b[0mclassmethod\u001b[0m\u001b[0;34m\u001b[0m\u001b[0m\n",
      "\u001b[0;32m/usr/local/anaconda3/envs/desi/lib/python3.5/site-packages/astropy/io/fits/hdu/hdulist.py\u001b[0m in \u001b[0;36m_readfrom\u001b[0;34m(cls, fileobj, data, mode, memmap, save_backup, cache, **kwargs)\u001b[0m\n\u001b[1;32m    800\u001b[0m             \u001b[0;32mif\u001b[0m \u001b[0;32mnot\u001b[0m \u001b[0misinstance\u001b[0m\u001b[0;34m(\u001b[0m\u001b[0mfileobj\u001b[0m\u001b[0;34m,\u001b[0m \u001b[0m_File\u001b[0m\u001b[0;34m)\u001b[0m\u001b[0;34m:\u001b[0m\u001b[0;34m\u001b[0m\u001b[0m\n\u001b[1;32m    801\u001b[0m                 \u001b[0;31m# instantiate a FITS file object (ffo)\u001b[0m\u001b[0;34m\u001b[0m\u001b[0;34m\u001b[0m\u001b[0m\n\u001b[0;32m--> 802\u001b[0;31m                 \u001b[0mffo\u001b[0m \u001b[0;34m=\u001b[0m \u001b[0m_File\u001b[0m\u001b[0;34m(\u001b[0m\u001b[0mfileobj\u001b[0m\u001b[0;34m,\u001b[0m \u001b[0mmode\u001b[0m\u001b[0;34m=\u001b[0m\u001b[0mmode\u001b[0m\u001b[0;34m,\u001b[0m \u001b[0mmemmap\u001b[0m\u001b[0;34m=\u001b[0m\u001b[0mmemmap\u001b[0m\u001b[0;34m,\u001b[0m \u001b[0mcache\u001b[0m\u001b[0;34m=\u001b[0m\u001b[0mcache\u001b[0m\u001b[0;34m)\u001b[0m\u001b[0;34m\u001b[0m\u001b[0m\n\u001b[0m\u001b[1;32m    803\u001b[0m             \u001b[0;32melse\u001b[0m\u001b[0;34m:\u001b[0m\u001b[0;34m\u001b[0m\u001b[0m\n\u001b[1;32m    804\u001b[0m                 \u001b[0mffo\u001b[0m \u001b[0;34m=\u001b[0m \u001b[0mfileobj\u001b[0m\u001b[0;34m\u001b[0m\u001b[0m\n",
      "\u001b[0;32m/usr/local/anaconda3/envs/desi/lib/python3.5/site-packages/astropy/io/fits/file.py\u001b[0m in \u001b[0;36m__init__\u001b[0;34m(self, fileobj, mode, memmap, clobber, cache)\u001b[0m\n\u001b[1;32m    148\u001b[0m             \u001b[0mself\u001b[0m\u001b[0;34m.\u001b[0m\u001b[0m_open_fileobj\u001b[0m\u001b[0;34m(\u001b[0m\u001b[0mfileobj\u001b[0m\u001b[0;34m,\u001b[0m \u001b[0mmode\u001b[0m\u001b[0;34m,\u001b[0m \u001b[0mclobber\u001b[0m\u001b[0;34m)\u001b[0m\u001b[0;34m\u001b[0m\u001b[0m\n\u001b[1;32m    149\u001b[0m         \u001b[0;32melif\u001b[0m \u001b[0misinstance\u001b[0m\u001b[0;34m(\u001b[0m\u001b[0mfileobj\u001b[0m\u001b[0;34m,\u001b[0m \u001b[0mstring_types\u001b[0m\u001b[0;34m)\u001b[0m\u001b[0;34m:\u001b[0m\u001b[0;34m\u001b[0m\u001b[0m\n\u001b[0;32m--> 150\u001b[0;31m             \u001b[0mself\u001b[0m\u001b[0;34m.\u001b[0m\u001b[0m_open_filename\u001b[0m\u001b[0;34m(\u001b[0m\u001b[0mfileobj\u001b[0m\u001b[0;34m,\u001b[0m \u001b[0mmode\u001b[0m\u001b[0;34m,\u001b[0m \u001b[0mclobber\u001b[0m\u001b[0;34m)\u001b[0m\u001b[0;34m\u001b[0m\u001b[0m\n\u001b[0m\u001b[1;32m    151\u001b[0m         \u001b[0;32melse\u001b[0m\u001b[0;34m:\u001b[0m\u001b[0;34m\u001b[0m\u001b[0m\n\u001b[1;32m    152\u001b[0m             \u001b[0mself\u001b[0m\u001b[0;34m.\u001b[0m\u001b[0m_open_filelike\u001b[0m\u001b[0;34m(\u001b[0m\u001b[0mfileobj\u001b[0m\u001b[0;34m,\u001b[0m \u001b[0mmode\u001b[0m\u001b[0;34m,\u001b[0m \u001b[0mclobber\u001b[0m\u001b[0;34m)\u001b[0m\u001b[0;34m\u001b[0m\u001b[0m\n",
      "\u001b[0;32m/usr/local/anaconda3/envs/desi/lib/python3.5/site-packages/astropy/io/fits/file.py\u001b[0m in \u001b[0;36m_open_filename\u001b[0;34m(self, filename, mode, clobber)\u001b[0m\n\u001b[1;32m    500\u001b[0m             \u001b[0mself\u001b[0m\u001b[0;34m.\u001b[0m\u001b[0m_file\u001b[0m \u001b[0;34m=\u001b[0m \u001b[0mbz2\u001b[0m\u001b[0;34m.\u001b[0m\u001b[0mBZ2File\u001b[0m\u001b[0;34m(\u001b[0m\u001b[0mself\u001b[0m\u001b[0;34m.\u001b[0m\u001b[0mname\u001b[0m\u001b[0;34m,\u001b[0m \u001b[0mbzip2_mode\u001b[0m\u001b[0;34m)\u001b[0m\u001b[0;34m\u001b[0m\u001b[0m\n\u001b[1;32m    501\u001b[0m         \u001b[0;32melse\u001b[0m\u001b[0;34m:\u001b[0m\u001b[0;34m\u001b[0m\u001b[0m\n\u001b[0;32m--> 502\u001b[0;31m             \u001b[0mself\u001b[0m\u001b[0;34m.\u001b[0m\u001b[0m_file\u001b[0m \u001b[0;34m=\u001b[0m \u001b[0mfileobj_open\u001b[0m\u001b[0;34m(\u001b[0m\u001b[0mself\u001b[0m\u001b[0;34m.\u001b[0m\u001b[0mname\u001b[0m\u001b[0;34m,\u001b[0m \u001b[0mPYFITS_MODES\u001b[0m\u001b[0;34m[\u001b[0m\u001b[0mmode\u001b[0m\u001b[0;34m]\u001b[0m\u001b[0;34m)\u001b[0m\u001b[0;34m\u001b[0m\u001b[0m\n\u001b[0m\u001b[1;32m    503\u001b[0m \u001b[0;34m\u001b[0m\u001b[0m\n\u001b[1;32m    504\u001b[0m         \u001b[0;31m# Make certain we're back at the beginning of the file\u001b[0m\u001b[0;34m\u001b[0m\u001b[0;34m\u001b[0m\u001b[0m\n",
      "\u001b[0;32m/usr/local/anaconda3/envs/desi/lib/python3.5/site-packages/astropy/io/fits/util.py\u001b[0m in \u001b[0;36mfileobj_open\u001b[0;34m(filename, mode)\u001b[0m\n\u001b[1;32m    387\u001b[0m         \"\"\"\n\u001b[1;32m    388\u001b[0m \u001b[0;34m\u001b[0m\u001b[0m\n\u001b[0;32m--> 389\u001b[0;31m         \u001b[0;32mreturn\u001b[0m \u001b[0mopen\u001b[0m\u001b[0;34m(\u001b[0m\u001b[0mfilename\u001b[0m\u001b[0;34m,\u001b[0m \u001b[0mmode\u001b[0m\u001b[0;34m,\u001b[0m \u001b[0mbuffering\u001b[0m\u001b[0;34m=\u001b[0m\u001b[0;36m0\u001b[0m\u001b[0;34m)\u001b[0m\u001b[0;34m\u001b[0m\u001b[0m\n\u001b[0m\u001b[1;32m    390\u001b[0m \u001b[0;32melif\u001b[0m \u001b[0msix\u001b[0m\u001b[0;34m.\u001b[0m\u001b[0mPY2\u001b[0m\u001b[0;34m:\u001b[0m\u001b[0;34m\u001b[0m\u001b[0m\n\u001b[1;32m    391\u001b[0m     \u001b[0;32mdef\u001b[0m \u001b[0mfileobj_open\u001b[0m\u001b[0;34m(\u001b[0m\u001b[0mfilename\u001b[0m\u001b[0;34m,\u001b[0m \u001b[0mmode\u001b[0m\u001b[0;34m)\u001b[0m\u001b[0;34m:\u001b[0m\u001b[0;34m\u001b[0m\u001b[0m\n",
      "\u001b[0;31mFileNotFoundError\u001b[0m: [Errno 2] No such file or directory: '/home/desi1/simlens/simspec-00000000.fits'"
     ]
    }
   ],
   "source": [
    "# Read the simspec file to get trueflux.\n",
    "simfile = os.path.join(lensdir, 'simspec-{:08d}.fits'.format(0))\n",
    "sim = read_simspec(simfile)\n",
    "\n",
    "simfile1 = os.path.join(lensdir, 'simspec-{:08d}.fits'.format(1))\n",
    "sim1 = read_simspec(simfile1)"
   ]
  },
  {
   "cell_type": "code",
   "execution_count": null,
   "metadata": {
    "collapsed": true,
    "deletable": true,
    "editable": true
   },
   "outputs": [],
   "source": []
  },
  {
   "cell_type": "code",
   "execution_count": null,
   "metadata": {
    "collapsed": false,
    "deletable": true,
    "editable": true
   },
   "outputs": [],
   "source": [
    "#ploting the lens for the three color cuts: blue, red, and near infrared \n",
    "for channel in ('b', 'r', 'z'):\n",
    "    ff = desispec.io.read_frame(os.path.join(lensdir, 'cframe-{}0-{:08d}.fits'.format(channel, 0)))\n",
    "    plt.plot(ff.wave, ff.flux[0, :])\n",
    "    \n",
    "    ff_test = desispec.io.read_frame(os.path.join(lensdir, 'cframe-{}0-{:08d}.fits'.format(channel, 1)))\n",
    "    plt.plot(ff_test.wave, ff_test.flux[0, :])\n",
    "\n",
    "plt.plot(sim.wave['brz'], sim.flux[0, :], color='k')\n",
    "plt.ylim(-4, 10)    \n",
    "plt.show()\n",
    "\n",
    "for channel in ('b', 'r', 'z'):\n",
    "    ff = desispec.io.read_frame(os.path.join(lensdir, 'cframe-{}0-{:08d}.fits'.format(channel, 0)))\n",
    "    ff_test = desispec.io.read_frame(os.path.join(lensdir, 'cframe-{}0-{:08d}.fits'.format(channel, 1)))\n",
    "    plt.plot(ff.wave, ff.flux[0, :] * np.sqrt(ff.ivar[0, :]))\n",
    "    plt.plot(ff_test.wave, ff_test.flux[0, :] * np.sqrt(ff_test.ivar[0, :]))\n",
    "plt.xlim(6000, 7000)\n",
    "plt.ylim(0, 25)\n",
    "plt.show()\n",
    "\n"
   ]
  },
  {
   "cell_type": "code",
   "execution_count": null,
   "metadata": {
    "collapsed": true,
    "deletable": true,
    "editable": true
   },
   "outputs": [],
   "source": []
  }
 ],
 "metadata": {
  "anaconda-cloud": {},
  "kernelspec": {
   "display_name": "Python [default]",
   "language": "python",
   "name": "python3"
  },
  "language_info": {
   "codemirror_mode": {
    "name": "ipython",
    "version": 3
   },
   "file_extension": ".py",
   "mimetype": "text/x-python",
   "name": "python",
   "nbconvert_exporter": "python",
   "pygments_lexer": "ipython3",
   "version": "3.5.2"
  }
 },
 "nbformat": 4,
 "nbformat_minor": 2
}
