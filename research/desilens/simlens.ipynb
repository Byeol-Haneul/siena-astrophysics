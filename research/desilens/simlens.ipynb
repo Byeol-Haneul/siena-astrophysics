{
 "cells": [
  {
   "cell_type": "code",
   "execution_count": 1,
   "metadata": {
    "collapsed": false,
    "deletable": true,
    "editable": true
   },
   "outputs": [],
   "source": [
    "import os\n",
    "import numpy as np\n",
    "\n",
    "import fitsio\n",
    "import matplotlib.pyplot as plt\n",
    "\n",
    "from desisim.scripts import quickgen\n",
    "from desispec.io.brick import Brick\n",
    "\n",
    "%matplotlib inline"
   ]
  },
  {
   "cell_type": "code",
   "execution_count": 2,
   "metadata": {
    "collapsed": false
   },
   "outputs": [
    {
     "name": "stdout",
     "output_type": "stream",
     "text": [
      "/home/desi1/simlens\n"
     ]
    }
   ],
   "source": [
    "outdir = os.path.join(os.getenv('HOME'), 'simlens')\n",
    "print(outdir)"
   ]
  },
  {
   "cell_type": "code",
   "execution_count": 8,
   "metadata": {
    "collapsed": false,
    "deletable": true,
    "editable": true
   },
   "outputs": [
    {
     "data": {
      "text/plain": [
       "Namespace(add_SNeIa=False, airmass=1.25, brickname='lens01', config='desi', exptime=15000.0, fibermap=None, frameonly=False, moon_angle=None, moon_phase=None, moon_zenith=None, nspec=3, nstart=0, objtype='ELG', outdir='/home/desi1/simlens', outdir_truth=None, rmagrange_bgs=(15.0, 19.5), seed=0, simspec=None, sne_rfluxratiorange=(0.1, 1.0), spectrograph=None, verbose=False, zrange_bgs=(0.01, 0.4), zrange_elg=(0.6, 1.6), zrange_lrg=(0.5, 1.1), zrange_qso=(0.5, 4.0))"
      ]
     },
     "execution_count": 8,
     "metadata": {},
     "output_type": "execute_result"
    }
   ],
   "source": [
    "brickname = 'lens01'\n",
    "simargs = ['--brickname', brickname,\n",
    "           '--nspec', '3',\n",
    "           '--exptime', '15000',\n",
    "           '--outdir', outdir,\n",
    "           '--objtype', 'ELG']\n",
    "args = quickgen.parse(simargs)\n",
    "args"
   ]
  },
  {
   "cell_type": "code",
   "execution_count": 9,
   "metadata": {
    "collapsed": false,
    "deletable": true,
    "editable": true
   },
   "outputs": [
    {
     "name": "stdout",
     "output_type": "stream",
     "text": [
      "INFO:quickgen.py:275:main: Initializing SpecSim with config desi\n",
      "INFO:quickgen.py:329:main: Generating ELG template\n",
      "INFO:io.py:606:read_basis_templates: Reading /global/work/desi/spectro/templates/basis_templates/v2.2/elg_templates_v2.0.fits\n",
      "HEY!!!!!!!!!!!!!!!!!!!!!!!!!!!! Exptime 15000.0 s\n",
      "INFO:quickgen.py:659:main: Wrote file /home/desi1/simlens/brick-b-lens01.fits\n"
     ]
    },
    {
     "name": "stderr",
     "output_type": "stream",
     "text": [
      "WARNING: AstropyDeprecationWarning: \"clobber\" was deprecated in version 1.3 and will be removed in a future version. Use argument \"overwrite\" instead. [astropy.utils.decorators]\n",
      "WARNING: UnitsWarning: The unit 'erg' has been deprecated in the FITS standard. Suggested: cm2 g s-2. [astropy.units.format.utils]\n",
      "WARNING: UnitsWarning: The unit 'Angstrom' has been deprecated in the FITS standard. Suggested: 10**-1 nm. [astropy.units.format.utils]\n",
      "WARNING: The unit 'dex' could not be saved to FITS format [astropy.io.fits.convenience]\n"
     ]
    },
    {
     "name": "stdout",
     "output_type": "stream",
     "text": [
      "INFO:quickgen.py:659:main: Wrote file /home/desi1/simlens/brick-r-lens01.fits\n",
      "INFO:quickgen.py:659:main: Wrote file /home/desi1/simlens/brick-z-lens01.fits\n"
     ]
    }
   ],
   "source": [
    "# Generate the spectra.\n",
    "quickgen.main(args)"
   ]
  },
  {
   "cell_type": "code",
   "execution_count": 10,
   "metadata": {
    "collapsed": false,
    "deletable": true,
    "editable": true
   },
   "outputs": [
    {
     "data": {
      "text/plain": [
       "\n",
       "  file: /home/desi1/simlens/brick-r-lens01.fits\n",
       "  mode: READONLY\n",
       "  extnum hdutype         hduname[v]\n",
       "  0      IMAGE_HDU       FLUX\n",
       "  1      IMAGE_HDU       IVAR\n",
       "  2      IMAGE_HDU       WAVELENGTH\n",
       "  3      IMAGE_HDU       RESOLUTION\n",
       "  4      BINARY_TBL      FIBERMAP\n",
       "  5      IMAGE_HDU       _TRUEFLUX"
      ]
     },
     "execution_count": 10,
     "metadata": {},
     "output_type": "execute_result"
    }
   ],
   "source": [
    "# Poke around the brick files.\n",
    "camera = 'r'\n",
    "rfile = os.path.join(outdir, 'brick-{}-{}.fits'.format(camera, brickname))\n",
    "rr = fitsio.FITS(rfile)\n",
    "rr"
   ]
  },
  {
   "cell_type": "code",
   "execution_count": 11,
   "metadata": {
    "collapsed": false
   },
   "outputs": [
    {
     "name": "stdout",
     "output_type": "stream",
     "text": [
      "/home/desi1/simlens/brick-b-lens01.fits\n",
      "(3, 4760)\n",
      "/home/desi1/simlens/brick-r-lens01.fits\n",
      "(3, 4232)\n",
      "/home/desi1/simlens/brick-z-lens01.fits\n",
      "(3, 4798)\n"
     ]
    }
   ],
   "source": [
    "# Grab the spectra.\n",
    "wave = []\n",
    "flux = []\n",
    "fivar = []\n",
    "trueflux = []\n",
    "\n",
    "for camera in ('b', 'r', 'z'):\n",
    "    brickfile = os.path.join(outdir, 'brick-{}-{}.fits'.format(camera, brickname))\n",
    "    print(brickfile)\n",
    "    brick = Brick(brickfile)\n",
    "    \n",
    "    wave1, flux1, fivar1, trueflux1 = brick.hdu_list[2].data, brick.hdu_list[0].data, brick.hdu_list[1].data, brick.hdu_list[5].data\n",
    "    print(flux1.shape)\n",
    "\n",
    "    wave.append(wave1)\n",
    "    flux.append(flux1)\n",
    "    fivar.append(fivar1)\n",
    "    trueflux.append(trueflux1) \n"
   ]
  },
  {
   "cell_type": "code",
   "execution_count": 15,
   "metadata": {
    "collapsed": false
   },
   "outputs": [
    {
     "data": {
      "image/png": "[encoded data removed]",
      "text/plain": [
       "<matplotlib.figure.Figure at 0x7f9962b80ac8>"
      ]
     },
     "metadata": {},
     "output_type": "display_data"
    }
   ],
   "source": [
    "objindx = 0\n",
    "\n",
    "for ii in (0, 1, 2):\n",
    "    plt.plot(wave[ii], flux[ii][objindx, :])\n",
    "    plt.plot(wave[ii], trueflux[ii][objindx, :])"
   ]
  },
  {
   "cell_type": "code",
   "execution_count": null,
   "metadata": {
    "collapsed": true
   },
   "outputs": [],
   "source": []
  }
 ],
 "metadata": {
  "kernelspec": {
   "display_name": "Python 3",
   "language": "python",
   "name": "python3"
  },
  "language_info": {
   "codemirror_mode": {
    "name": "ipython",
    "version": 3
   },
   "file_extension": ".py",
   "mimetype": "text/x-python",
   "name": "python",
   "nbconvert_exporter": "python",
   "pygments_lexer": "ipython3",
   "version": "3.5.2"
  }
 },
 "nbformat": 4,
 "nbformat_minor": 2
}
