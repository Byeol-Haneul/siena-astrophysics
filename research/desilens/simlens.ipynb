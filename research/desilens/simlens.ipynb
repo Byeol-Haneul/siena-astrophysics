{
 "cells": [
  {
   "cell_type": "code",
   "execution_count": 29,
   "metadata": {
    "collapsed": false,
    "deletable": true,
    "editable": true
   },
   "outputs": [],
   "source": [
    "import os, sys\n",
    "import numpy as np\n",
    "\n",
    "import fitsio\n",
    "import matplotlib.pyplot as plt\n",
    "\n",
    "from astropy.table import Table, Column\n",
    "\n",
    "import desimodel.io\n",
    "from desimodel.focalplane import FocalPlane                                                                             \n",
    "from desisim.scripts import quickgen\n",
    "from desisim.io import get_tile_radec, write_simspec, read_simspec\n",
    "from desispec.io.frame import read_frame\n",
    "import desispec.io\n",
    "from desispec import brick   \n",
    "\n",
    "from desispec.log import get_logger\n",
    "log = get_logger()\n",
    "\n",
    "%matplotlib inline"
   ]
  },
  {
   "cell_type": "code",
   "execution_count": 39,
   "metadata": {
    "collapsed": true,
    "deletable": true,
    "editable": true
   },
   "outputs": [],
   "source": [
    "def _default_wave(wavemin=None, wavemax=None, dw=0.2):\n",
    "    '''Construct and return the default wavelength vector.'''\n",
    "\n",
    "    if wavemin is None: \n",
    "        wavemin = desimodel.io.load_throughput('b').wavemin\n",
    "    if wavemax is None:\n",
    "        wavemax = desimodel.io.load_throughput('z').wavemax\n",
    "    wave = np.arange(round(wavemin, 1), wavemax, dw)\n",
    "                                                                                                              \n",
    "    return wave"
   ]
  },
  {
   "cell_type": "code",
   "execution_count": 13,
   "metadata": {
    "collapsed": true,
    "deletable": true,
    "editable": true
   },
   "outputs": [],
   "source": [
    "def get_lensing_targets(priors, tileid=None, seed=None, specmin=0):\n",
    "    \"\"\"\n",
    "    Returns:\n",
    "        fibermap\n",
    "        truth table\n",
    "    TODO: document this better\n",
    "    \n",
    "    \"\"\"\n",
    "    from desispec.io.fibermap import empty_fibermap\n",
    "    from desisim.io import empty_metatable\n",
    "    from desisim.templates import ELG, LRG\n",
    "\n",
    "    if tileid is None:\n",
    "        tile_ra, tile_dec = 0.0, 0.0\n",
    "    else:\n",
    "        tile_ra, tile_dec = get_tile_radec(tileid)  \n",
    "    \n",
    "    log.debug('Using random seed {}'.format(seed))\n",
    "    rand = np.random.RandomState(seed)\n",
    "    \n",
    "    # Get DESI wavelength coverage.\n",
    "    wave = _default_wave()\n",
    "    nwave = len(wave)\n",
    "    \n",
    "    # Initialize the 'truth' dictionary and output metadata and fibermap tables.\n",
    "    nspec = priors['NSPEC']\n",
    "    truth = dict()\n",
    "    truth['FLUX'] = np.zeros((nspec, len(wave)))\n",
    "    truth['OBJTYPE'] = np.zeros(nspec, dtype=(str, 10))\n",
    "    truth['WAVE'] = wave\n",
    "\n",
    "    objtype = 'LRG'\n",
    "    truth['META'] = empty_metatable(nmodel=nspec, objtype=objtype)\n",
    "    truth['OBJTYPE'] = objtype\n",
    "\n",
    "    fibermap = empty_fibermap(nspec)\n",
    "    fibermap['OBJTYPE'] = objtype\n",
    "    \n",
    "    # Simulate spectra according to the input priors.\n",
    "    elg = ELG(wave=wave)\n",
    "    lrg = LRG(wave=wave)\n",
    "\n",
    "    esimflux, _, emeta = elg.make_templates(nmodel=nspec, seed=seed, \n",
    "                                            zrange=priors['ZRANGE_SOURCE'],\n",
    "                                            rmagrange=priors['MAGRANGE_SOURCE'],\n",
    "                                            nocolorcuts=True, novdisp=True)\n",
    "    lsimflux, _, lmeta = lrg.make_templates(nmodel=nspec, seed=seed,\n",
    "                                            zrange=priors['ZRANGE_LENS'],\n",
    "                                            zmagrange=priors['MAGRANGE_LENS'],\n",
    "                                            nocolorcuts=True, novdisp=True)\n",
    "    simflux = lsimflux + esimflux\n",
    "    log.debug('This is wrong! Using the LRG table for META.')\n",
    "    meta = lmeta \n",
    "\n",
    "    truth['FLUX'] = 1e17 * simflux\n",
    "    truth['UNITS'] = '1e-17 erg/s/cm2/A'\n",
    "    truth['META'] = meta\n",
    "    truth['META_SOURCE'] = emeta\n",
    "\n",
    "    ugrizy = 22.5-2.5*np.log10(meta['DECAM_FLUX'].data)\n",
    "    wise = 22.5-2.5*np.log10(meta['WISE_FLUX'].data)\n",
    "    fibermap['FILTER'][:, :6] = ['DECAM_G', 'DECAM_R', 'DECAM_Z', 'WISE_W1', 'WISE_W2']\n",
    "    fibermap['MAG'][:, 0] = ugrizy[:, 1]\n",
    "    fibermap['MAG'][:, 1] = ugrizy[:, 2]\n",
    "    fibermap['MAG'][:, 2] = ugrizy[:, 4]\n",
    "    fibermap['MAG'][:, 3] = wise[:, 0]\n",
    "    fibermap['MAG'][:, 4] = wise[:, 1]\n",
    "\n",
    "    # Load fiber -> positioner mapping and tile information\n",
    "    fiberpos = desimodel.io.load_fiberpos()\n",
    "\n",
    "    # Where are these targets?  Centered on positioners for now.\n",
    "    x = fiberpos['X'][specmin:specmin+nspec]\n",
    "    y = fiberpos['Y'][specmin:specmin+nspec]\n",
    "    fp = FocalPlane(tile_ra, tile_dec)\n",
    "    ra = np.zeros(nspec)\n",
    "    dec = np.zeros(nspec)\n",
    "    for i in range(nspec):\n",
    "        ra[i], dec[i] = fp.xy2radec(x[i], y[i])\n",
    "\n",
    "    # Fill in the rest of the fibermap structure\n",
    "    fibermap['FIBER'] = np.arange(nspec, dtype='i4')\n",
    "    fibermap['POSITIONER'] = fiberpos['POSITIONER'][specmin:specmin+nspec]\n",
    "    fibermap['SPECTROID'] = fiberpos['SPECTROGRAPH'][specmin:specmin+nspec]\n",
    "    fibermap['TARGETID'] = rand.randint(sys.maxsize, size=nspec)\n",
    "    fibermap['TARGETCAT'] = np.zeros(nspec, dtype=(str, 20))\n",
    "    fibermap['LAMBDAREF'] = np.ones(nspec, dtype=np.float32)*5400\n",
    "    fibermap['RA_TARGET'] = ra\n",
    "    fibermap['DEC_TARGET'] = dec\n",
    "    fibermap['X_TARGET'] = x\n",
    "    fibermap['Y_TARGET'] = y\n",
    "    fibermap['X_FVCOBS'] = fibermap['X_TARGET']\n",
    "    fibermap['Y_FVCOBS'] = fibermap['Y_TARGET']\n",
    "    fibermap['X_FVCERR'] = np.zeros(nspec, dtype=np.float32)\n",
    "    fibermap['Y_FVCERR'] = np.zeros(nspec, dtype=np.float32)\n",
    "    fibermap['RA_OBS'] = fibermap['RA_TARGET']\n",
    "    fibermap['DEC_OBS'] = fibermap['DEC_TARGET']\n",
    "    fibermap['BRICKNAME'] = brick.brickname(ra, dec)\n",
    "\n",
    "    return fibermap, truth"
   ]
  },
  {
   "cell_type": "code",
   "execution_count": 14,
   "metadata": {
    "collapsed": true,
    "deletable": true,
    "editable": true
   },
   "outputs": [],
   "source": [
    "def new_lensing_exposure(priors, airmass=1.0, exptime=None, expid=None,\n",
    "                         seed=None, lensingdir='./'):\n",
    "    \"\"\"\n",
    "    Create a new exposure and output input simulation files.\n",
    "    Does not generate pixel-level simulations or noisy spectra.\n",
    "\n",
    "    Args:\n",
    "        priors (astropy.Table): table of prior parameters\n",
    "\n",
    "    Options:\n",
    "        airmass : airmass, default 1.0\n",
    "        exptime : exposure time in seconds\n",
    "        seed : random seed\n",
    "        lensingdir : output directory\n",
    "\n",
    "    Writes:\n",
    "        $LENSINGDIR/fibermap-{expid}.fits\n",
    "        $LENSINGDIR/simspec-{expid}.fits\n",
    "\n",
    "    Returns:\n",
    "        fibermap numpy structured array\n",
    "        truth dictionary\n",
    "\n",
    "    Notes:\n",
    "\n",
    "    \"\"\"\n",
    "    import time\n",
    "    from desisim.obs import get_next_expid, get_next_tileid, get_night\n",
    "\n",
    "    if expid is None:\n",
    "        expid = get_next_expid()\n",
    "    tileid = get_next_tileid()\n",
    "    night = get_night(utc=time.gmtime()) # simulation obs time = now, even if sun is up\n",
    "    dateobs = time.strptime(night+':22', '%Y%m%d:%H')\n",
    "    \n",
    "    flavor = 'science'\n",
    "    \n",
    "    params = desimodel.io.load_desiparams()\n",
    "    if exptime is None:\n",
    "        exptime = params['exptime']\n",
    "        \n",
    "    nspec = priors['NSPEC']\n",
    "    log.debug('Generating {} targets'.format(nspec))\n",
    "    fibermap, truth = get_lensing_targets(priors, tileid=tileid, seed=seed)\n",
    "\n",
    "    flux = truth['FLUX']\n",
    "    wave = truth['WAVE']\n",
    "    nwave = len(wave)\n",
    "\n",
    "    # Load sky [Magic knowledge of units 1e-17 erg/s/cm2/A/arcsec2]\n",
    "    skyfile = os.getenv('DESIMODEL')+'/data/spectra/spec-sky.dat'\n",
    "\n",
    "    log.info('skyfile {}'.format(skyfile))\n",
    "    skywave, skyflux = np.loadtxt(skyfile, unpack=True)\n",
    "    skyflux = np.interp(wave, skywave, skyflux)\n",
    "    truth['SKYFLUX'] = skyflux\n",
    "\n",
    "    log.debug('Calculating flux -> photons')\n",
    "    for channel in ('B', 'R', 'Z'):\n",
    "        thru = desimodel.io.load_throughput(channel)\n",
    "\n",
    "        ii = np.where( (thru.wavemin <= wave) & (wave <= thru.wavemax) )[0]\n",
    "\n",
    "        # Project flux to photons\n",
    "        phot = thru.photons(wave[ii], flux[:,ii], units=truth['UNITS'],\n",
    "                objtype='LRG', exptime=exptime, airmass=airmass)\n",
    "\n",
    "        truth['PHOT_'+channel] = phot\n",
    "        truth['WAVE_'+channel] = wave[ii]\n",
    "\n",
    "        # Project sky flux to photons\n",
    "        skyphot = thru.photons(wave[ii], skyflux[ii]*airmass,\n",
    "                               units='1e-17 erg/s/cm2/A/arcsec2',\n",
    "                               objtype='SKY', exptime=exptime, airmass=airmass)\n",
    "\n",
    "        # 2D version\n",
    "        ### truth['SKYPHOT_'+channel] = np.tile(skyphot, nspec).reshape((nspec, len(ii)))\n",
    "        # 1D version\n",
    "        truth['SKYPHOT_{}'.format(channel)] = skyphot.astype(np.float32)\n",
    "\n",
    "    # NOTE: someday skyflux and skyphot may be 2D instead of 1D\n",
    "\n",
    "    # Extract the metadata part of the truth dictionary into a table\n",
    "    meta = truth['META']\n",
    "\n",
    "    # Write fibermap\n",
    "    telera, teledec = get_tile_radec(tileid)\n",
    "    hdr = dict(\n",
    "        NIGHT = (night, 'Night of observation YEARMMDD'),\n",
    "        EXPID = (expid, 'DESI exposure ID'),\n",
    "        TILEID = (tileid, 'DESI tile ID'),\n",
    "        FLAVOR = (flavor, 'Flavor [arc, flat, science, ...]'),\n",
    "        TELRA = (telera, 'Telescope pointing RA [degrees]'),\n",
    "        TELDEC = (teledec, 'Telescope pointing dec [degrees]'),\n",
    "        )\n",
    "    #- ISO 8601 DATE-OBS year-mm-ddThh:mm:ss\n",
    "    fiberfile = os.path.join(lensingdir, 'fibermap-{:08d}.fits'.format(expid))\n",
    "    desispec.io.write_fibermap(fiberfile, fibermap, header=hdr)\n",
    "    log.info('Wrote {}'.format(fiberfile))\n",
    "\n",
    "    #- Write simspec; expand fibermap header\n",
    "    hdr['AIRMASS'] = (airmass, 'Airmass at middle of exposure')\n",
    "    hdr['EXPTIME'] = (exptime, 'Exposure time [sec]')\n",
    "    hdr['DATE-OBS'] = (time.strftime('%FT%T', dateobs), 'Start of exposure')\n",
    "\n",
    "    simfile = os.path.join(lensingdir, 'simspec-{:08d}.fits'.format(expid))\n",
    "    _ = write_simspec(meta, truth, expid, night, header=hdr, outfile=simfile)\n",
    "    log.info('Wrote {}'.format(simfile))\n",
    "\n",
    "    return fibermap, truth"
   ]
  },
  {
   "cell_type": "code",
   "execution_count": 40,
   "metadata": {
    "collapsed": false,
    "deletable": true,
    "editable": true
   },
   "outputs": [
    {
     "name": "stdout",
     "output_type": "stream",
     "text": [
      "/home/desi1/simlens\n",
      "{'MAGRANGE_SOURCE': array([ 21.,  21.]), 'EXPID': array([0, 1]), 'MAGRANGE_LENS': array([ 21.3,  21.3]), 'ZRANGE_LENS': array([ 0.5,  0.5]), 'NSPEC': 3, 'ZRANGE_SOURCE': array([ 1.,  1.]), 'SEED': 456, 'EXPTIME': array([  10000.,  100000.], dtype=float32)}\n"
     ]
    }
   ],
   "source": [
    "# Initialize the table of prior parameters.\n",
    "outdir = os.path.join(os.getenv('HOME'), 'simlens')\n",
    "print(outdir)\n",
    "\n",
    "# Temporarily hack the DESI environments\n",
    "os.environ['DESI_SPECTRO_DATA'] = outdir\n",
    "os.environ['PIXPROD'] = './'\n",
    "\n",
    "seed = 456\n",
    "rand = np.random.RandomState(seed)\n",
    "\n",
    "# Make our table.\n",
    "nspec = 3\n",
    "exptime = np.array([10000.0, 100000.0]).astype('f4')\n",
    "nexp = len(exptime)\n",
    "expid = np.arange(nexp)\n",
    "\n",
    "priors = dict()\n",
    "priors['EXPID'] = expid\n",
    "priors['EXPTIME'] = exptime\n",
    "priors['SEED'] = seed\n",
    "priors['NSPEC'] = nspec\n",
    "priors['ZRANGE_SOURCE'] = np.array([1.0, 1.0])\n",
    "priors['ZRANGE_LENS'] = np.array([0.5, 0.5])\n",
    "priors['MAGRANGE_SOURCE'] = np.array([21.0, 21.0])\n",
    "priors['MAGRANGE_LENS'] = np.array([21.3, 21.3])\n",
    "print(priors)"
   ]
  },
  {
   "cell_type": "code",
   "execution_count": 41,
   "metadata": {
    "collapsed": false,
    "deletable": true,
    "editable": true
   },
   "outputs": [
    {
     "name": "stdout",
     "output_type": "stream",
     "text": [
      "INFO:io.py:622:read_basis_templates: Reading /global/work/desi/spectro/templates/basis_templates/v2.2/elg_templates_v2.0.fits\n",
      "INFO:io.py:622:read_basis_templates: Reading /global/work/desi/spectro/templates/basis_templates/v2.2/lrg_templates_v1.3.fits\n",
      "INFO:<ipython-input-14-4fdd4a8140e2>:53:new_lensing_exposure: skyfile /usr/local/desihub/desimodel/data/spectra/spec-sky.dat\n",
      "INFO:<ipython-input-14-4fdd4a8140e2>:99:new_lensing_exposure: Wrote /home/desi1/simlens/fibermap-00000000.fits\n",
      "INFO:<ipython-input-14-4fdd4a8140e2>:108:new_lensing_exposure: Wrote /home/desi1/simlens/simspec-00000000.fits\n"
     ]
    },
    {
     "name": "stderr",
     "output_type": "stream",
     "text": [
      "WARNING: UnitsWarning: The unit 'erg' has been deprecated in the FITS standard. Suggested: cm2 g s-2. [astropy.units.format.utils]\n",
      "WARNING: UnitsWarning: The unit 'Angstrom' has been deprecated in the FITS standard. Suggested: 10**-1 nm. [astropy.units.format.utils]\n",
      "WARNING: The unit 'dex' could not be saved to FITS format [astropy.io.fits.convenience]\n"
     ]
    },
    {
     "name": "stdout",
     "output_type": "stream",
     "text": [
      "INFO:io.py:622:read_basis_templates: Reading /global/work/desi/spectro/templates/basis_templates/v2.2/elg_templates_v2.0.fits\n",
      "INFO:io.py:622:read_basis_templates: Reading /global/work/desi/spectro/templates/basis_templates/v2.2/lrg_templates_v1.3.fits\n",
      "INFO:<ipython-input-14-4fdd4a8140e2>:53:new_lensing_exposure: skyfile /usr/local/desihub/desimodel/data/spectra/spec-sky.dat\n",
      "INFO:<ipython-input-14-4fdd4a8140e2>:99:new_lensing_exposure: Wrote /home/desi1/simlens/fibermap-00000001.fits\n",
      "INFO:<ipython-input-14-4fdd4a8140e2>:108:new_lensing_exposure: Wrote /home/desi1/simlens/simspec-00000001.fits\n"
     ]
    },
    {
     "name": "stderr",
     "output_type": "stream",
     "text": [
      "WARNING: UnitsWarning: The unit 'erg' has been deprecated in the FITS standard. Suggested: cm2 g s-2. [astropy.units.format.utils]\n",
      "WARNING: UnitsWarning: The unit 'Angstrom' has been deprecated in the FITS standard. Suggested: 10**-1 nm. [astropy.units.format.utils]\n",
      "WARNING: The unit 'dex' could not be saved to FITS format [astropy.io.fits.convenience]\n"
     ]
    }
   ],
   "source": [
    "# Generate fibermap and simspec files.\n",
    "for ii in range(nexp):\n",
    "    fibermap, truth = new_lensing_exposure(priors, exptime=priors['EXPTIME'][ii], \n",
    "                                           expid=priors['EXPID'][ii], seed=seed, \n",
    "                                           lensingdir=outdir)\n",
    "    # Write out truth table of the source.\n",
    "    #source_meta = truth['META_SOURCE']\n"
   ]
  },
  {
   "cell_type": "code",
   "execution_count": 42,
   "metadata": {
    "collapsed": false,
    "deletable": true,
    "editable": true
   },
   "outputs": [
    {
     "name": "stdout",
     "output_type": "stream",
     "text": [
      "fibermap-00000000.fits /home/desi1/simlens/simspec-00000000.fits\n",
      "INFO:quickgen.py:242:main: Reading fibermap file /home/desi1/simlens/fibermap-00000000.fits\n",
      "INFO:quickgen.py:275:main: Initializing SpecSim with config desi\n",
      "INFO:quickgen.py:281:main: Reading input file /home/desi1/simlens/simspec-00000000.fits\n",
      "INFO:quickgen.py:310:main: Only 3 spectra in input file\n",
      "HEY!!!!!!!!!!!!!!!!!!!!!!! LRG\n",
      "HEY!!!!!!!!!!!!!!!!!!!!!!! LRG\n",
      "HEY!!!!!!!!!!!!!!!!!!!!!!! LRG\n",
      "INFO:quickgen.py:671:main: Writing files for channel:b, spectrograph:0, spectra:0 to 3\n",
      "INFO:quickgen.py:697:main: Wrote file /home/desi1/simlens/frame-b0-00000000.fits\n",
      "INFO:quickgen.py:714:main: Wrote file /home/desi1/simlens/cframe-b0-00000000.fits\n",
      "INFO:quickgen.py:729:main: Wrote file /home/desi1/simlens/sky-b0-00000000.fits\n",
      "INFO:quickgen.py:750:main: Wrote file /home/desi1/simlens/calib-b0-00000000.fits\n",
      "INFO:quickgen.py:671:main: Writing files for channel:r, spectrograph:0, spectra:0 to 3\n",
      "INFO:quickgen.py:697:main: Wrote file /home/desi1/simlens/frame-r0-00000000.fits\n"
     ]
    },
    {
     "name": "stderr",
     "output_type": "stream",
     "text": [
      "WARNING: VerifyWarning: Card is too long, comment will be truncated. [astropy.io.fits.card]\n"
     ]
    },
    {
     "name": "stdout",
     "output_type": "stream",
     "text": [
      "INFO:quickgen.py:714:main: Wrote file /home/desi1/simlens/cframe-r0-00000000.fits\n",
      "INFO:quickgen.py:729:main: Wrote file /home/desi1/simlens/sky-r0-00000000.fits\n",
      "INFO:quickgen.py:750:main: Wrote file /home/desi1/simlens/calib-r0-00000000.fits\n",
      "INFO:quickgen.py:671:main: Writing files for channel:z, spectrograph:0, spectra:0 to 3\n",
      "INFO:quickgen.py:697:main: Wrote file /home/desi1/simlens/frame-z0-00000000.fits\n",
      "INFO:quickgen.py:714:main: Wrote file /home/desi1/simlens/cframe-z0-00000000.fits\n",
      "INFO:quickgen.py:729:main: Wrote file /home/desi1/simlens/sky-z0-00000000.fits\n",
      "INFO:quickgen.py:750:main: Wrote file /home/desi1/simlens/calib-z0-00000000.fits\n",
      "fibermap-00000001.fits /home/desi1/simlens/simspec-00000001.fits\n",
      "INFO:quickgen.py:242:main: Reading fibermap file /home/desi1/simlens/fibermap-00000001.fits\n",
      "INFO:quickgen.py:275:main: Initializing SpecSim with config desi\n",
      "INFO:quickgen.py:281:main: Reading input file /home/desi1/simlens/simspec-00000001.fits\n",
      "INFO:quickgen.py:310:main: Only 3 spectra in input file\n",
      "HEY!!!!!!!!!!!!!!!!!!!!!!! LRG\n",
      "HEY!!!!!!!!!!!!!!!!!!!!!!! LRG\n",
      "HEY!!!!!!!!!!!!!!!!!!!!!!! LRG\n",
      "INFO:quickgen.py:671:main: Writing files for channel:b, spectrograph:0, spectra:0 to 3\n",
      "INFO:quickgen.py:697:main: Wrote file /home/desi1/simlens/frame-b0-00000001.fits\n",
      "INFO:quickgen.py:714:main: Wrote file /home/desi1/simlens/cframe-b0-00000001.fits\n",
      "INFO:quickgen.py:729:main: Wrote file /home/desi1/simlens/sky-b0-00000001.fits\n",
      "INFO:quickgen.py:750:main: Wrote file /home/desi1/simlens/calib-b0-00000001.fits\n",
      "INFO:quickgen.py:671:main: Writing files for channel:r, spectrograph:0, spectra:0 to 3\n",
      "INFO:quickgen.py:697:main: Wrote file /home/desi1/simlens/frame-r0-00000001.fits\n"
     ]
    },
    {
     "name": "stderr",
     "output_type": "stream",
     "text": [
      "WARNING: VerifyWarning: Card is too long, comment will be truncated. [astropy.io.fits.card]\n"
     ]
    },
    {
     "name": "stdout",
     "output_type": "stream",
     "text": [
      "INFO:quickgen.py:714:main: Wrote file /home/desi1/simlens/cframe-r0-00000001.fits\n",
      "INFO:quickgen.py:729:main: Wrote file /home/desi1/simlens/sky-r0-00000001.fits\n",
      "INFO:quickgen.py:750:main: Wrote file /home/desi1/simlens/calib-r0-00000001.fits\n",
      "INFO:quickgen.py:671:main: Writing files for channel:z, spectrograph:0, spectra:0 to 3\n",
      "INFO:quickgen.py:697:main: Wrote file /home/desi1/simlens/frame-z0-00000001.fits\n",
      "INFO:quickgen.py:714:main: Wrote file /home/desi1/simlens/cframe-z0-00000001.fits\n",
      "INFO:quickgen.py:729:main: Wrote file /home/desi1/simlens/sky-z0-00000001.fits\n",
      "INFO:quickgen.py:750:main: Wrote file /home/desi1/simlens/calib-z0-00000001.fits\n"
     ]
    }
   ],
   "source": [
    "# Run quickgen\n",
    "for ii in range(nexp):\n",
    "    expid = priors['EXPID'][ii]\n",
    "    fiberfile = 'fibermap-{:08d}.fits'.format(expid)\n",
    "    #simfile = 'simspec-{:08d}.fits'.format(expid)\n",
    "    #fiberfile = os.path.join(outdir, 'fibermap-{:08d}.fits'.format(expid))\n",
    "    simfile = os.path.join(outdir, 'simspec-{:08d}.fits'.format(expid))\n",
    "    print(fiberfile, simfile)\n",
    "    quickargs = quickgen.parse(['--simspec', simfile, '--fibermap', fiberfile, '--outdir', outdir])\n",
    "    quickgen.main(quickargs)\n"
   ]
  },
  {
   "cell_type": "code",
   "execution_count": 43,
   "metadata": {
    "collapsed": false
   },
   "outputs": [],
   "source": [
    "# Read the simspec file to get trueflux.\n",
    "simfile = os.path.join(outdir, 'simspec-{:08d}.fits'.format(0))\n",
    "sim = read_simspec(simfile)\n",
    "\n",
    "simfile1 = os.path.join(outdir, 'simspec-{:08d}.fits'.format(1))\n",
    "sim1 = read_simspec(simfile1)"
   ]
  },
  {
   "cell_type": "code",
   "execution_count": 52,
   "metadata": {
    "collapsed": false
   },
   "outputs": [
    {
     "data": {
      "image/png": "[encoded data removed]",
      "text/plain": [
       "<matplotlib.figure.Figure at 0x7f2edf419b38>"
      ]
     },
     "metadata": {},
     "output_type": "display_data"
    },
    {
     "data": {
      "image/png": "[encoded data removed]",
      "text/plain": [
       "<matplotlib.figure.Figure at 0x7f2eda8bf588>"
      ]
     },
     "metadata": {},
     "output_type": "display_data"
    }
   ],
   "source": [
    "for channel in ('b', 'r', 'z'):\n",
    "    ff = desispec.io.read_frame(os.path.join(outdir, 'cframe-{}0-{:08d}.fits'.format(channel, 0)))\n",
    "    plt.plot(ff.wave, ff.flux[0, :])\n",
    "    \n",
    "    ff_test = desispec.io.read_frame(os.path.join(outdir, 'cframe-{}0-{:08d}.fits'.format(channel, 1)))\n",
    "    plt.plot(ff_test.wave, ff_test.flux[0, :])\n",
    "\n",
    "plt.plot(sim.wave['brz'], sim.flux[0, :], color='k')\n",
    "plt.ylim(-4, 10)    \n",
    "plt.show()\n",
    "\n",
    "for channel in ('b', 'r', 'z'):\n",
    "    ff = desispec.io.read_frame(os.path.join(outdir, 'cframe-{}0-{:08d}.fits'.format(channel, 0)))\n",
    "    ff_test = desispec.io.read_frame(os.path.join(outdir, 'cframe-{}0-{:08d}.fits'.format(channel, 1)))\n",
    "    plt.plot(ff.wave, ff.flux[0, :] * np.sqrt(ff.ivar[0, :]))\n",
    "    plt.plot(ff_test.wave, ff_test.flux[0, :] * np.sqrt(ff_test.ivar[0, :]))\n",
    "plt.xlim(6000, 7000)\n",
    "plt.ylim(0, 25)\n",
    "plt.show()\n",
    "\n"
   ]
  },
  {
   "cell_type": "code",
   "execution_count": null,
   "metadata": {
    "collapsed": true
   },
   "outputs": [],
   "source": []
  }
 ],
 "metadata": {
  "anaconda-cloud": {},
  "kernelspec": {
   "display_name": "Python 3",
   "language": "python",
   "name": "python3"
  },
  "language_info": {
   "codemirror_mode": {
    "name": "ipython",
    "version": 3
   },
   "file_extension": ".py",
   "mimetype": "text/x-python",
   "name": "python",
   "nbconvert_exporter": "python",
   "pygments_lexer": "ipython3",
   "version": "3.5.2"
  }
 },
 "nbformat": 4,
 "nbformat_minor": 2
}
