{
 "cells": [
  {
   "cell_type": "code",
   "execution_count": 30,
   "metadata": {
    "collapsed": false
   },
   "outputs": [],
   "source": [
    "import numpy as np\n",
    "import matplotlib.pyplot as plt\n",
    "%matplotlib inline\n",
    "\n",
    "from desisim.templates import ELG, LRG"
   ]
  },
  {
   "cell_type": "code",
   "execution_count": 32,
   "metadata": {
    "collapsed": false
   },
   "outputs": [
    {
     "name": "stdout",
     "output_type": "stream",
     "text": [
      "INFO:io.py:612:read_basis_templates: Reading /Users/ioannis/research/projects/desi/spectro/templates/basis_templates/v2.2/elg_templates_v2.0.fits\n"
     ]
    },
    {
     "name": "stderr",
     "output_type": "stream",
     "text": [
      "INFO:DESI:Reading /Users/ioannis/research/projects/desi/spectro/templates/basis_templates/v2.2/elg_templates_v2.0.fits\n"
     ]
    },
    {
     "name": "stdout",
     "output_type": "stream",
     "text": [
      "INFO:io.py:612:read_basis_templates: Reading /Users/ioannis/research/projects/desi/spectro/templates/basis_templates/v2.2/lrg_templates_v1.3.fits\n"
     ]
    },
    {
     "name": "stderr",
     "output_type": "stream",
     "text": [
      "INFO:DESI:Reading /Users/ioannis/research/projects/desi/spectro/templates/basis_templates/v2.2/lrg_templates_v1.3.fits\n"
     ]
    }
   ],
   "source": [
    "elg = ELG()\n",
    "lrg = LRG(normfilter='decam2014-r')"
   ]
  },
  {
   "cell_type": "code",
   "execution_count": 53,
   "metadata": {
    "collapsed": false
   },
   "outputs": [],
   "source": [
    "eflux, wave, emeta = elg.make_templates(nmodel=1, nocolorcuts=True, seed=123, mag=[23.0])"
   ]
  },
  {
   "cell_type": "code",
   "execution_count": 44,
   "metadata": {
    "collapsed": false
   },
   "outputs": [],
   "source": [
    "lflux, _, lmeta = lrg.make_templates(nmodel=1, nocolorcuts=True, seed=123, mag=[21.8])"
   ]
  },
  {
   "cell_type": "code",
   "execution_count": 62,
   "metadata": {
    "collapsed": false
   },
   "outputs": [
    {
     "data": {
      "text/html": [
       "&lt;Table length=1&gt;\n",
       "<table id=\"table4660974800\" class=\"table-striped table-bordered table-condensed\">\n",
       "<thead><tr><th>OBJTYPE</th><th>TEMPLATEID</th><th>SEED</th><th>REDSHIFT</th><th>MAG</th><th>DECAM_FLUX [6]</th><th>WISE_FLUX [2]</th><th>OIIFLUX</th><th>HBETAFLUX</th><th>EWOII</th><th>EWHBETA</th><th>D4000</th><th>VDISP</th><th>OIIDOUBLET</th><th>OIIIHBETA</th><th>OIIHBETA</th><th>NIIHBETA</th><th>SIIHBETA</th><th>ZMETAL</th><th>AGE</th><th>TEFF</th><th>LOGG</th><th>FEH</th></tr></thead>\n",
       "<thead><tr><th></th><th></th><th></th><th></th><th></th><th></th><th></th><th>erg / (cm2 s)</th><th>erg / (cm2 s)</th><th>Angstrom</th><th>Angstrom</th><th></th><th>km / s</th><th></th><th>dex</th><th>dex</th><th>dex</th><th>dex</th><th></th><th>Gyr</th><th>K</th><th>m / s2</th><th></th></tr></thead>\n",
       "<thead><tr><th>str10</th><th>int32</th><th>int64</th><th>float32</th><th>float32</th><th>float32</th><th>float32</th><th>float32</th><th>float32</th><th>float32</th><th>float32</th><th>float32</th><th>float32</th><th>float32</th><th>float32</th><th>float32</th><th>float32</th><th>float32</th><th>float32</th><th>float32</th><th>float32</th><th>float32</th><th>float32</th></tr></thead>\n",
       "<tr><td>LRG</td><td>124</td><td>2991312382</td><td>0.502067</td><td>21.8</td><td>0.0526277 .. 7.14666</td><td>14.1627 .. 9.11354</td><td>-1.0</td><td>-1.0</td><td>-1.0</td><td>-1.0</td><td>2.0982</td><td>176.746</td><td>-1.0</td><td>-1.0</td><td>-1.0</td><td>-1.0</td><td>-1.0</td><td>0.03</td><td>5.01187</td><td>-1.0</td><td>-1.0</td><td>-1.0</td></tr>\n",
       "</table>"
      ],
      "text/plain": [
       "<Table length=1>\n",
       "OBJTYPE TEMPLATEID    SEED    REDSHIFT ...   AGE     TEFF    LOGG    FEH  \n",
       "                                       ...   Gyr      K     m / s2        \n",
       " str10    int32      int64    float32  ... float32 float32 float32 float32\n",
       "------- ---------- ---------- -------- ... ------- ------- ------- -------\n",
       "    LRG        124 2991312382 0.502067 ... 5.01187    -1.0    -1.0    -1.0"
      ]
     },
     "execution_count": 62,
     "metadata": {},
     "output_type": "execute_result"
    }
   ],
   "source": [
    "lmeta"
   ]
  },
  {
   "cell_type": "code",
   "execution_count": 63,
   "metadata": {
    "collapsed": false
   },
   "outputs": [
    {
     "data": {
      "text/html": [
       "&lt;Table length=1&gt;\n",
       "<table id=\"table4675337552\" class=\"table-striped table-bordered table-condensed\">\n",
       "<thead><tr><th>OBJTYPE</th><th>TEMPLATEID</th><th>SEED</th><th>REDSHIFT</th><th>MAG</th><th>DECAM_FLUX [6]</th><th>WISE_FLUX [2]</th><th>OIIFLUX</th><th>HBETAFLUX</th><th>EWOII</th><th>EWHBETA</th><th>D4000</th><th>VDISP</th><th>OIIDOUBLET</th><th>OIIIHBETA</th><th>OIIHBETA</th><th>NIIHBETA</th><th>SIIHBETA</th><th>ZMETAL</th><th>AGE</th><th>TEFF</th><th>LOGG</th><th>FEH</th></tr></thead>\n",
       "<thead><tr><th></th><th></th><th></th><th></th><th></th><th></th><th></th><th>erg / (cm2 s)</th><th>erg / (cm2 s)</th><th>Angstrom</th><th>Angstrom</th><th></th><th>km / s</th><th></th><th>dex</th><th>dex</th><th>dex</th><th>dex</th><th></th><th>Gyr</th><th>K</th><th>m / s2</th><th></th></tr></thead>\n",
       "<thead><tr><th>str10</th><th>int32</th><th>int64</th><th>float32</th><th>float32</th><th>float32</th><th>float32</th><th>float32</th><th>float32</th><th>float32</th><th>float32</th><th>float32</th><th>float32</th><th>float32</th><th>float32</th><th>float32</th><th>float32</th><th>float32</th><th>float32</th><th>float32</th><th>float32</th><th>float32</th><th>float32</th></tr></thead>\n",
       "<tr><td>ELG</td><td>7345</td><td>2991312382</td><td>1.18034</td><td>23.0</td><td>0.388789 .. 1.44419</td><td>2.12205 .. 1.77418</td><td>3.00614e-16</td><td>-1.0</td><td>257.108</td><td>-1.0</td><td>1.0338</td><td>59.43</td><td>0.697248</td><td>0.154731</td><td>0.494617</td><td>-0.27648</td><td>0.0910287</td><td>-1.0</td><td>-1.0</td><td>-1.0</td><td>-1.0</td><td>-1.0</td></tr>\n",
       "</table>"
      ],
      "text/plain": [
       "<Table length=1>\n",
       "OBJTYPE TEMPLATEID    SEED    REDSHIFT ...   AGE     TEFF    LOGG    FEH  \n",
       "                                       ...   Gyr      K     m / s2        \n",
       " str10    int32      int64    float32  ... float32 float32 float32 float32\n",
       "------- ---------- ---------- -------- ... ------- ------- ------- -------\n",
       "    ELG       7345 2991312382  1.18034 ...    -1.0    -1.0    -1.0    -1.0"
      ]
     },
     "execution_count": 63,
     "metadata": {},
     "output_type": "execute_result"
    }
   ],
   "source": [
    "emeta"
   ]
  },
  {
   "cell_type": "code",
   "execution_count": 59,
   "metadata": {
    "collapsed": false
   },
   "outputs": [
    {
     "data": {
      "text/plain": [
       "(0, 2e-17)"
      ]
     },
     "execution_count": 59,
     "metadata": {},
     "output_type": "execute_result"
    },
    {
     "data": {
      "image/png": "[encoded data removed]",
      "text/plain": [
       "<matplotlib.figure.Figure at 0x10e9efc10>"
      ]
     },
     "metadata": {},
     "output_type": "display_data"
    }
   ],
   "source": [
    "plt.plot(wave, eflux[0, :] + lflux[0, :], color='k')\n",
    "plt.plot(wave, lflux[0, :], color='orange')\n",
    "plt.plot(wave, eflux[0, :], color='cyan')\n",
    "plt.ylim(0, 2E-17)"
   ]
  },
  {
   "cell_type": "code",
   "execution_count": 16,
   "metadata": {
    "collapsed": false
   },
   "outputs": [
    {
     "data": {
      "text/plain": [
       "9131.150000000001"
      ]
     },
     "execution_count": 16,
     "metadata": {},
     "output_type": "execute_result"
    }
   ],
   "source": [
    "3727*(2.45)"
   ]
  },
  {
   "cell_type": "code",
   "execution_count": null,
   "metadata": {
    "collapsed": true
   },
   "outputs": [],
   "source": []
  }
 ],
 "metadata": {
  "kernelspec": {
   "display_name": "Python 2",
   "language": "python",
   "name": "python2"
  },
  "language_info": {
   "codemirror_mode": {
    "name": "ipython",
    "version": 2
   },
   "file_extension": ".py",
   "mimetype": "text/x-python",
   "name": "python",
   "nbconvert_exporter": "python",
   "pygments_lexer": "ipython2",
   "version": "2.7.12"
  }
 },
 "nbformat": 4,
 "nbformat_minor": 0
}
