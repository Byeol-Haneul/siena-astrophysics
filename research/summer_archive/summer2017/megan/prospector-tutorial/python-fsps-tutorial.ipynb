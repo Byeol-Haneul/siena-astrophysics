{
 "cells": [
  {
   "cell_type": "markdown",
   "metadata": {},
   "source": [
    "Link to the tutorial I followed: http://dan.iel.fm/python-fsps/current/stellarpop_api/"
   ]
  },
  {
   "cell_type": "markdown",
   "metadata": {},
   "source": [
    "# Imports"
   ]
  },
  {
   "cell_type": "code",
   "execution_count": 5,
   "metadata": {
    "collapsed": true
   },
   "outputs": [],
   "source": [
    "import fsps"
   ]
  },
  {
   "cell_type": "code",
   "execution_count": 7,
   "metadata": {},
   "outputs": [],
   "source": [
    "# Initialize SSP with solar metallicity and some dust with a Calzetti et al (2000) extinction curve\n",
    "\n",
    "sp = fsps.StellarPopulation(compute_vega_mags=False, zcontinuous=1, sfh=0, logzsol=0.0, dust_type=2, dust2=0.2)\n",
    "#sp.libraries() # using Padova isochrones and MILES spectral library"
   ]
  },
  {
   "cell_type": "code",
   "execution_count": 10,
   "metadata": {},
   "outputs": [
    {
     "name": "stdout",
     "output_type": "stream",
     "text": [
      "['sdss_u', 'sdss_g', 'sdss_r', 'sdss_i', 'sdss_z']\n"
     ]
    },
    {
     "data": {
      "text/plain": [
       "array([ 9.85484694,  7.8785663 ,  6.99828574,  6.56580511,  6.16779663])"
      ]
     },
     "execution_count": 10,
     "metadata": {},
     "output_type": "execute_result"
    }
   ],
   "source": [
    "# AB magnitudes in SDSS bands\n",
    "sdss_bands = fsps.find_filter('sdss')\n",
    "print(sdss_bands)\n",
    "\n",
    "sp.get_mags(tage=13.7, bands=sdss_bands) # for SSP that is 13.7 Gyr old"
   ]
  },
  {
   "cell_type": "code",
   "execution_count": 11,
   "metadata": {},
   "outputs": [
    {
     "data": {
      "text/plain": [
       "array([ 8.5626572 ,  7.07918435,  6.38592117,  6.05304881,  5.84199   ])"
      ]
     },
     "execution_count": 11,
     "metadata": {},
     "output_type": "execute_result"
    }
   ],
   "source": [
    "# Changing the parameters (here the metallicity os changed), and getting new magnitudes\n",
    "sp.params['logzsol'] = -1\n",
    "sp.get_mags(tage=13.7, bands=sdss_bands)"
   ]
  },
  {
   "cell_type": "code",
   "execution_count": 14,
   "metadata": {},
   "outputs": [
    {
     "name": "stdout",
     "output_type": "stream",
     "text": [
      "1.0\n",
      "0.578092441443\n"
     ]
    }
   ],
   "source": [
    "# Get  spectrum (L⊙/Hz) and total stellar mass (M⊙) formed by 13.7 Gyr \n",
    "# and the surviving stellar mass (M⊙) at 13.7 Gyr\n",
    "\n",
    "wave, spec = sp.get_spectrum(tage=13.7)\n",
    "print(sp.formed_mass)\n",
    "print(sp.stellar_mass)"
   ]
  },
  {
   "cell_type": "code",
   "execution_count": null,
   "metadata": {
    "collapsed": true
   },
   "outputs": [],
   "source": []
  }
 ],
 "metadata": {
  "kernelspec": {
   "display_name": "Python 3",
   "language": "python",
   "name": "python3"
  },
  "language_info": {
   "codemirror_mode": {
    "name": "ipython",
    "version": 3
   },
   "file_extension": ".py",
   "mimetype": "text/x-python",
   "name": "python",
   "nbconvert_exporter": "python",
   "pygments_lexer": "ipython3",
   "version": "3.6.1"
  }
 },
 "nbformat": 4,
 "nbformat_minor": 2
}
