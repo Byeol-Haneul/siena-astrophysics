{
 "cells": [
  {
   "cell_type": "code",
   "execution_count": 1,
   "metadata": {},
   "outputs": [],
   "source": [
    "import numpy as np\n",
    "import seaborn as sns\n",
    "import matplotlib.pyplot as plt\n",
    "%matplotlib inline"
   ]
  },
  {
   "cell_type": "code",
   "execution_count": 3,
   "metadata": {},
   "outputs": [],
   "source": [
    "import halotools"
   ]
  },
  {
   "cell_type": "code",
   "execution_count": 48,
   "metadata": {},
   "outputs": [],
   "source": [
    "from halotools.empirical_models import PrebuiltSubhaloModelFactory\n",
    "from halotools.empirical_models import PrebuiltHodModelFactory\n",
    "from halotools.sim_manager import CachedHaloCatalog\n",
    "from halotools.utils import group_member_generator\n",
    "from halotools.mock_observables import mean_y_vs_x\n",
    "from halotools.mock_observables import return_xyz_formatted_array\n",
    "from halotools.mock_observables import wp\n",
    "from halotools.mock_observables import FoFGroups\n",
    "from halotools.mock_observables import mean_radial_velocity_vs_r"
   ]
  },
  {
   "cell_type": "markdown",
   "metadata": {},
   "source": [
    "## Calculate projected clustering signal of a mock catalog"
   ]
  },
  {
   "cell_type": "code",
   "execution_count": 59,
   "metadata": {},
   "outputs": [],
   "source": [
    "#model=PrebuiltHodModelFactory('tinker13', threshold=10.25)\n",
    "#halocat=CachedHaloCatalog(simname='bolshoi', redshift=0, halo_finder='rockstar')\n",
    "#model.populate_mock(halocat)"
   ]
  },
  {
   "cell_type": "markdown",
   "metadata": {},
   "source": [
    "## Identify galaxy groups in mock galaxies"
   ]
  },
  {
   "cell_type": "code",
   "execution_count": 23,
   "metadata": {},
   "outputs": [],
   "source": [
    "model=PrebuiltSubhaloModelFactory('behroozi10')\n",
    "halocat=CachedHaloCatalog(simname='bolshoi', redshift=0, halo_finder='rockstar')\n",
    "model.populate_mock(halocat)"
   ]
  },
  {
   "cell_type": "code",
   "execution_count": 7,
   "metadata": {},
   "outputs": [],
   "source": [
    "sample_mask=model.mock.galaxy_table['stellar_mass']>10**10.75\n",
    "galaxy_sample=model.mock.galaxy_table[sample_mask]\n",
    "\n",
    "#only galaxies above mass of 10^10.75"
   ]
  },
  {
   "cell_type": "code",
   "execution_count": 8,
   "metadata": {},
   "outputs": [],
   "source": [
    "x=galaxy_sample['x']\n",
    "y=galaxy_sample['y']\n",
    "z=galaxy_sample['z']\n",
    "vz=galaxy_sample['vz']"
   ]
  },
  {
   "cell_type": "code",
   "execution_count": 9,
   "metadata": {},
   "outputs": [],
   "source": [
    "pos=return_xyz_formatted_array(x, y, z,\n",
    "                              velocity=vz, velocity_distortion_dimension='z')\n",
    "# redshift distortions added"
   ]
  },
  {
   "cell_type": "code",
   "execution_count": 10,
   "metadata": {},
   "outputs": [],
   "source": [
    "# linking lengths specified by b_para and b_perp\n",
    "\n",
    "b_para, b_perp = 0.7, 0.15\n",
    "groups=FoFGroups(pos, b_perp, b_para,\n",
    "                Lbox=model.mock.Lbox, num_threads='max')\n",
    "\n",
    "galaxy_sample['fof_group_id']=groups.group_ids"
   ]
  },
  {
   "cell_type": "code",
   "execution_count": 16,
   "metadata": {},
   "outputs": [],
   "source": [
    "galaxy_sample['negative_stellar_mass']=-1*galaxy_sample['stellar_mass']\n",
    "galaxy_sample.sort(['fof_group_id', 'negative_stellar_mass'])\n",
    "grouping_key='fof_group_id'\n",
    "requested_columns=[]\n",
    "\n",
    "group_gen=group_member_generator(galaxy_sample, grouping_key, requested_columns)\n",
    "\n",
    "group_central=np.zeros(len(galaxy_sample), dtype=bool)\n",
    "for first, last, member_props in group_gen:\n",
    "    temp_result=[False for member in range(first, last)]\n",
    "    temp_result[0]=True\n",
    "    group_central[first:last]=temp_result\n",
    "\n",
    "galaxy_sample['group_central']=group_central\n",
    "\n",
    "# sort by FoF ID\n",
    "# within group sorted by -M\n",
    "# (massive groups placed first)"
   ]
  },
  {
   "cell_type": "code",
   "execution_count": 34,
   "metadata": {},
   "outputs": [
    {
     "name": "stdout",
     "output_type": "stream",
     "text": [
      "    halo_mvir     halo_vz  halo_z  ... group_richness group_central_true_mvir\n",
      "----------------- ------- -------- ... -------------- -----------------------\n",
      "164300000000000.0  -82.51 17.71299 ...              1                     0.0\n",
      " 41560000000000.0  490.89 37.49146 ...              3                     0.0\n",
      "158900000000000.0 -132.11 39.91124 ...              3                     0.0\n",
      "  5106000000000.0 -260.49 40.27675 ...              3                     0.0\n",
      "114400000000000.0  -61.29  9.54759 ...              2                     0.0\n",
      "   389400000000.0  -92.45  9.62159 ...              2                     0.0\n",
      " 97090000000000.0  423.44  6.51834 ...              1                     0.0\n",
      " 85270000000000.0  179.34 17.82519 ...              1                     0.0\n",
      " 84260000000000.0 -187.27 22.29268 ...              1                     0.0\n",
      " 83570000000000.0 -386.58  33.6698 ...              2                     0.0\n",
      "  1575000000000.0 -804.86 33.71918 ...              2                     0.0\n",
      " 77950000000000.0   64.62  41.8451 ...              1                     0.0\n",
      " 68390000000000.0 -206.93 23.48616 ...              1                     0.0\n",
      " 63090000000000.0  286.42 15.30358 ...              3                     0.0\n",
      " 40700000000000.0  -272.2 22.08778 ...              3                     0.0\n"
     ]
    }
   ],
   "source": [
    "print(galaxy_sample[0:15])"
   ]
  },
  {
   "cell_type": "code",
   "execution_count": 25,
   "metadata": {},
   "outputs": [],
   "source": [
    "# calculate number of members in each FoF group\n",
    "\n",
    "rouping_key='fof_group_id'\n",
    "requested_columns=[]\n",
    "\n",
    "group_gen=group_member_generator(galaxy_sample, grouping_key, requested_columns)\n",
    "\n",
    "group_richness=np.zeros(len(galaxy_sample), dtype=int)\n",
    "for first, last, member_props in group_gen:\n",
    "    group_richness[first:last]=last-first\n",
    "    galaxy_sample['group_richness']=group_richness"
   ]
  },
  {
   "cell_type": "code",
   "execution_count": 35,
   "metadata": {},
   "outputs": [
    {
     "name": "stdout",
     "output_type": "stream",
     "text": [
      "    halo_mvir     halo_vz  halo_z  ... group_richness group_central_true_mvir\n",
      "----------------- ------- -------- ... -------------- -----------------------\n",
      "164300000000000.0  -82.51 17.71299 ...              1                     0.0\n",
      " 41560000000000.0  490.89 37.49146 ...              3                     0.0\n",
      "158900000000000.0 -132.11 39.91124 ...              3                     0.0\n",
      "  5106000000000.0 -260.49 40.27675 ...              3                     0.0\n",
      "114400000000000.0  -61.29  9.54759 ...              2                     0.0\n",
      "   389400000000.0  -92.45  9.62159 ...              2                     0.0\n",
      " 97090000000000.0  423.44  6.51834 ...              1                     0.0\n",
      " 85270000000000.0  179.34 17.82519 ...              1                     0.0\n",
      " 84260000000000.0 -187.27 22.29268 ...              1                     0.0\n",
      " 83570000000000.0 -386.58  33.6698 ...              2                     0.0\n",
      "  1575000000000.0 -804.86 33.71918 ...              2                     0.0\n",
      " 77950000000000.0   64.62  41.8451 ...              1                     0.0\n",
      " 68390000000000.0 -206.93 23.48616 ...              1                     0.0\n",
      " 63090000000000.0  286.42 15.30358 ...              3                     0.0\n",
      " 40700000000000.0  -272.2 22.08778 ...              3                     0.0\n"
     ]
    }
   ],
   "source": [
    "print(galaxy_sample[0:15])"
   ]
  },
  {
   "cell_type": "code",
   "execution_count": 28,
   "metadata": {},
   "outputs": [],
   "source": [
    "galaxy_sample.sort(['fof_group_id', 'negative_stellar_mass'])\n",
    "grouping_key = 'fof_group_id'\n",
    "requested_columns = ['halo_mvir_host_halo']\n",
    "group_gen = group_member_generator(galaxy_sample, grouping_key, requested_columns)"
   ]
  },
  {
   "cell_type": "code",
   "execution_count": 30,
   "metadata": {},
   "outputs": [],
   "source": [
    "group_central_true_mvir = np.zeros(len(galaxy_sample))\n",
    "for first, last, member_props in group_gen:\n",
    "    member_masses = member_props[0]\n",
    "    true_mass = member_masses[0]\n",
    "    group_central_true_mvir[first:last] = true_mass\n",
    "\n",
    "galaxy_sample['group_central_true_mvir'] = group_central_true_mvir\n",
    "\n",
    "#calculate true halo mass of central group"
   ]
  },
  {
   "cell_type": "code",
   "execution_count": 36,
   "metadata": {},
   "outputs": [
    {
     "name": "stdout",
     "output_type": "stream",
     "text": [
      "    halo_mvir     halo_vz  halo_z  ... group_richness group_central_true_mvir\n",
      "----------------- ------- -------- ... -------------- -----------------------\n",
      "164300000000000.0  -82.51 17.71299 ...              1                     0.0\n",
      " 41560000000000.0  490.89 37.49146 ...              3                     0.0\n",
      "158900000000000.0 -132.11 39.91124 ...              3                     0.0\n",
      "  5106000000000.0 -260.49 40.27675 ...              3                     0.0\n",
      "114400000000000.0  -61.29  9.54759 ...              2                     0.0\n",
      "   389400000000.0  -92.45  9.62159 ...              2                     0.0\n",
      " 97090000000000.0  423.44  6.51834 ...              1                     0.0\n",
      " 85270000000000.0  179.34 17.82519 ...              1                     0.0\n",
      " 84260000000000.0 -187.27 22.29268 ...              1                     0.0\n",
      " 83570000000000.0 -386.58  33.6698 ...              2                     0.0\n"
     ]
    }
   ],
   "source": [
    "print(galaxy_sample[0:10])"
   ]
  },
  {
   "cell_type": "markdown",
   "metadata": {},
   "source": [
    "### Calculate mean infall velocity of galaxies towards the clusters BCGs (bright cluster galaxies)"
   ]
  },
  {
   "cell_type": "code",
   "execution_count": 37,
   "metadata": {},
   "outputs": [],
   "source": [
    "model=PrebuiltSubhaloModelFactory('smhm_binary_sfr')\n",
    "halocat=CachedHaloCatalog(simname='bolshoi', redshift=0, halo_finder='rockstar')\n",
    "model.populate_mock(halocat)"
   ]
  },
  {
   "cell_type": "code",
   "execution_count": 38,
   "metadata": {},
   "outputs": [],
   "source": [
    "# extract position and vel. coord\n",
    "\n",
    "cluster_central_mask = (model.mock.galaxy_table['stellar_mass'] > 10**11.5)\n",
    "cluster_centrals = model.mock.galaxy_table[cluster_central_mask]"
   ]
  },
  {
   "cell_type": "code",
   "execution_count": 39,
   "metadata": {},
   "outputs": [],
   "source": [
    "low_mass_tracers_mask = ((model.mock.galaxy_table['stellar_mass'] > 10**10) &\n",
    "                         (model.mock.galaxy_table['stellar_mass'] < 10**10.5))\n",
    "low_mass_tracers = model.mock.galaxy_table[low_mass_tracers_mask]"
   ]
  },
  {
   "cell_type": "code",
   "execution_count": 40,
   "metadata": {},
   "outputs": [],
   "source": [
    "cluster_pos = return_xyz_formatted_array(cluster_centrals['x'],\n",
    "    cluster_centrals['y'] ,cluster_centrals['z'])\n",
    "cluster_vel = return_xyz_formatted_array(cluster_centrals['vx'],\n",
    "    cluster_centrals['vy'] ,cluster_centrals['vz'])"
   ]
  },
  {
   "cell_type": "code",
   "execution_count": 41,
   "metadata": {},
   "outputs": [],
   "source": [
    "low_mass_tracers_pos = return_xyz_formatted_array(low_mass_tracers['x'],\n",
    "    low_mass_tracers['y'], low_mass_tracers['z'])\n",
    "low_mass_tracers_vel = return_xyz_formatted_array(low_mass_tracers['vx'],\n",
    "    low_mass_tracers['vy'], low_mass_tracers['vz'])"
   ]
  },
  {
   "cell_type": "code",
   "execution_count": 44,
   "metadata": {},
   "outputs": [],
   "source": [
    "# calculate velocity\n",
    "\n",
    "rbins = np.logspace(-0.5, 1.25, 15)\n",
    "rbin_midpoints = (rbins[1:] + rbins[:-1])/2.\n",
    "\n",
    "vr_clusters = mean_radial_velocity_vs_r(cluster_pos, cluster_vel, rbins_absolute=rbins,\n",
    "                                        sample2=low_mass_tracers_pos, velocities2=low_mass_tracers_vel,\n",
    "                                        period = model.mock.Lbox)"
   ]
  },
  {
   "cell_type": "code",
   "execution_count": 45,
   "metadata": {},
   "outputs": [
    {
     "data": {
      "image/png": "[encoded data removed]",
      "text/plain": [
       "<Figure size 432x288 with 1 Axes>"
      ]
     },
     "metadata": {
      "needs_background": "light"
     },
     "output_type": "display_data"
    }
   ],
   "source": [
    "fig, ax = plt.subplots(1, 1)\n",
    "\n",
    "__=ax.plot(rbin_midpoints, vr_clusters, color='k')\n",
    "xscale = ax.set_xscale('log')\n",
    "\n",
    "xlim = ax.set_xlim(xmin=0.5, xmax=20)\n",
    "\n",
    "xlabel = ax.set_xlabel(r'$r $  $\\rm{[Mpc]}$', fontsize=15)\n",
    "ylabel = ax.set_ylabel(r'$\\langle V_{\\rm rad}\\rangle$  $[{\\rm km/s}]$', fontsize=15)\n",
    "title = ax.set_title('Radial infall velocity into cluster BCGs', fontsize=15)"
   ]
  },
  {
   "cell_type": "code",
   "execution_count": null,
   "metadata": {},
   "outputs": [],
   "source": []
  }
 ],
 "metadata": {
  "kernelspec": {
   "display_name": "Python 3",
   "language": "python",
   "name": "python3"
  },
  "language_info": {
   "codemirror_mode": {
    "name": "ipython",
    "version": 3
   },
   "file_extension": ".py",
   "mimetype": "text/x-python",
   "name": "python",
   "nbconvert_exporter": "python",
   "pygments_lexer": "ipython3",
   "version": "3.7.3"
  }
 },
 "nbformat": 4,
 "nbformat_minor": 2
}
