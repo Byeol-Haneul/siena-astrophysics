{
 "cells": [
  {
   "cell_type": "markdown",
   "metadata": {},
   "source": [
    "# Redmapper vs. Prospector"
   ]
  },
  {
   "cell_type": "code",
   "execution_count": 1,
   "metadata": {},
   "outputs": [
    {
     "data": {
      "text/html": [
       "<center><img src=\"http://s2.quickmeme.com/img/c2/c2828e70e296c1c79ebda75bbde83368e9680437e62b91229ca0959ff0685936.jpg\" \n",
       "alt=\"Jokes\" style=\"width:406px;height:304px;\"></center>"
      ],
      "text/plain": [
       "<IPython.core.display.HTML object>"
      ]
     },
     "metadata": {},
     "output_type": "display_data"
    }
   ],
   "source": [
    "# Tribute to Kevin\n",
    "%%html\n",
    "<center><img src=\"http://s2.quickmeme.com/img/c2/c2828e70e296c1c79ebda75bbde83368e9680437e62b91229ca0959ff0685936.jpg\" \n",
    "alt=\"Jokes\" style=\"width:406px;height:304px;\"></center>"
   ]
  },
  {
   "cell_type": "code",
   "execution_count": 9,
   "metadata": {},
   "outputs": [
    {
     "name": "stdout",
     "output_type": "stream",
     "text": [
      "Populating the interactive namespace from numpy and matplotlib\n"
     ]
    }
   ],
   "source": [
    "# Imports\n",
    "import os\n",
    "import numpy as np\n",
    "import matplotlib.pyplot as plt\n",
    "\n",
    "from astropy.io.ascii import read\n",
    "import fitsio\n",
    "from glob import glob\n",
    "\n",
    "%pylab inline"
   ]
  },
  {
   "cell_type": "code",
   "execution_count": 6,
   "metadata": {
    "collapsed": true
   },
   "outputs": [],
   "source": [
    "def medxbin(x,y,binsize,minpts=20,xmin=None,xmax=None):\n",
    "    \"\"\"\n",
    "    Compute the median (and other statistics) in fixed bins along the x-axis.\n",
    "    \"\"\"\n",
    "    from scipy import ptp\n",
    "\n",
    "    # Need an exception if there are fewer than three arguments.\n",
    "\n",
    "    if xmin==None:\n",
    "        xmin = x.min()\n",
    "    if xmax==None:\n",
    "        xmax = x.max()\n",
    "    print(xmin,xmax)\n",
    "\n",
    "    nbin = int(ptp(x)/binsize)\n",
    "    bins = np.linspace(xmin,xmax,nbin)\n",
    "    idx  = np.digitize(x,bins)\n",
    "    print(nbin, bins, xmin, xmax)\n",
    "\n",
    "    stats = np.zeros(nbin,[('median','f8'),('sigma','f8'),('iqr','f8')])\n",
    "    for kk in np.arange(nbin):\n",
    "        npts = len(y[idx==kk])\n",
    "        if npts>minpts:\n",
    "            stats['median'][kk] = np.median(y[idx==kk])\n",
    "            stats['sigma'][kk] = np.std(y[idx==kk])\n",
    "            stats['iqr'][kk] = np.subtract(*np.percentile(y[idx==kk],[75, 25]))\n",
    "\n",
    "    # Remove bins with too few points.\n",
    "    good = np.nonzero(stats['median'])\n",
    "    stats = stats[good]\n",
    "\n",
    "    return bins[good], stats"
   ]
  },
  {
   "cell_type": "code",
   "execution_count": 7,
   "metadata": {
    "collapsed": true
   },
   "outputs": [],
   "source": [
    "# Setting convenient paths\n",
    "pypath = os.path.join(os.sep, 'global', 'work', 'projects', 'legacysurvey', 'legacycentrals')\n",
    "meertcat = os.path.join(pypath, 'meert_et_al_data_tables_v2')\n",
    "mendelcat = os.path.join(pypath, 'UPenn_PhotDec_Mstar_mlMendel14.dat')\n",
    "wisccat = os.path.join(pypath, 'UPenn_PhotDec_Mstar_mlPCAWiscM11.dat')\n",
    "rmpath = os.path.join(os.sep, 'global', 'work', 'projects', 'redmapper')\n",
    "rmcatfile = os.path.join(rmpath, 'redmapper_isedfit_v5.10_centrals.fits.gz')"
   ]
  },
  {
   "cell_type": "code",
   "execution_count": 8,
   "metadata": {},
   "outputs": [
    {
     "data": {
      "text/plain": [
       "\n",
       "  file: /global/work/projects/redmapper/redmapper_isedfit_v5.10_centrals.fits.gz\n",
       "  extension: 1\n",
       "  type: BINARY_TBL\n",
       "  rows: 407118\n",
       "  column info:\n",
       "    MEM_MATCH_ID        i4  \n",
       "    Z                   f4  \n",
       "    RA                  f8  \n",
       "    DEC                 f8  \n",
       "    R                   f4  \n",
       "    P                   f4  \n",
       "    PFREE               f4  \n",
       "    THETA_I             f4  \n",
       "    THETA_R             f4  \n",
       "    IMAG                f4  \n",
       "    IMAG_ERR            f4  \n",
       "    ZRED                f4  \n",
       "    ZRED_E              f4  \n",
       "    ZRED_CHISQ          f4  \n",
       "    BCG_SPEC_Z          f4  \n",
       "    Z_SPEC_INIT         f4  \n",
       "    Z_INIT              f4  \n",
       "    LAMBDA_CHISQ        f4  \n",
       "    LAMBDA_CHISQ_E      f4  \n",
       "    LAMBDA_ZRED         f4  \n",
       "    LAMBDA_ZRED_E       f4  \n",
       "    R_LAMBDA            f4  \n",
       "    SCALEVAL            f4  \n",
       "    MASKFRAC            f4  \n",
       "    C_LAMBDA            f4  array[4]\n",
       "    C_LAMBDA_ERR        f4  array[4]\n",
       "    MAG_LAMBDA_ERR      f4  array[5]\n",
       "    CHISQ               f4  \n",
       "    Z_LAMBDA            f4  \n",
       "    Z_LAMBDA_E          f4  \n",
       "    EBV_MEAN            f4  \n",
       "    LNLAMLIKE           f4  \n",
       "    LNBCGLIKE           f4  \n",
       "    LNLIKE              f4  \n",
       "    PZBINS              f4  array[21]\n",
       "    PZ                  f4  array[21]\n",
       "    NCROSS              i2  \n",
       "    RMASK               f4  \n",
       "    RA_ORIG             f8  \n",
       "    DEC_ORIG            f8  \n",
       "    W                   f4  \n",
       "    DLAMBDA_DZ          f4  \n",
       "    DLAMBDA_DZ2         f4  \n",
       "    DLAMBDAVAR_DZ       f4  \n",
       "    DLAMBDAVAR_DZ2      f4  \n",
       "    LAMBDA_CHISQ_C      f4  \n",
       "    LAMBDA_CHISQ_CE     f4  \n",
       "    NCENT               i2  \n",
       "    NCENT_GOOD          i2  \n",
       "    RA_CENT             f8  array[5]\n",
       "    DEC_CENT            f8  array[5]\n",
       "    ID_CENT             i4  array[5]\n",
       "    LAMBDA_CHISQ_CENT\n",
       "                        f4  array[5]\n",
       "    ZLAMBDA_CENT        f4  array[5]\n",
       "    P_BCG               f4  array[5]\n",
       "    P_CEN               f4  array[5]\n",
       "    Q_CEN               f4  array[5]\n",
       "    P_FG                f4  array[5]\n",
       "    Q_MISS              f4  \n",
       "    P_SAT               f4  array[5]\n",
       "    P_C                 f4  array[5]\n",
       "    BCG_ILUM            f4  \n",
       "    ILUM                f4  \n",
       "    Z_LAMBDA_RAW        f4  \n",
       "    Z_LAMBDA_E_RAW      f4  \n",
       "    LIM_EXPTIME         f4  \n",
       "    LIM_LIMMAG          f4  \n",
       "    LIM_LIMMAG_HARD     f4  \n",
       "    KCORR_MSTAR         f4  \n",
       "    KCORR_COEFFS        f4  array[5]\n",
       "    KCORR_CHI2          f4  \n",
       "    KCORR_UVFLUX        f4  array[2]\n",
       "    FNUV_ABSMAG_00      f4  array[2]\n",
       "    FNUV_ABSMAG_IVAR_00\n",
       "                        f4  array[2]\n",
       "    UGRIZ_ABSMAG_00     f4  array[5]\n",
       "    UGRIZ_ABSMAG_IVAR_00\n",
       "                        f4  array[5]\n",
       "    UBVRI_ABSMAG_00     f4  array[5]\n",
       "    UBVRI_ABSMAG_IVAR_00\n",
       "                        f4  array[5]\n",
       "    JHK_ABSMAG_00       f4  array[3]\n",
       "    JHK_ABSMAG_IVAR_00\n",
       "                        f4  array[3]\n",
       "    ISEDFIT_ID          i4  \n",
       "    MAGGIES             f4  array[7]\n",
       "    IVARMAGGIES         f4  array[7]\n",
       "    BESTMAGGIES         f4  array[7]\n",
       "    CHUNKINDX           i2  \n",
       "    MODELINDX           i2  \n",
       "    DELAYED             i4  \n",
       "    BURSTTYPE           i4  \n",
       "    CHI2                f4  \n",
       "    TOTALMASS           f4  \n",
       "    TOTALMASS_ERR       f4  \n",
       "    MSTAR               f4  \n",
       "    AGE                 f4  \n",
       "    SFRAGE              f4  \n",
       "    TAU                 f4  \n",
       "    ZMETAL              f4  \n",
       "    AV                  f4  \n",
       "    MU                  f4  \n",
       "    OIIIHB              f4  \n",
       "    NLYC                f4  \n",
       "    SFR                 f4  \n",
       "    SFR100              f4  \n",
       "    B100                f4  \n",
       "    B1000               f4  \n",
       "    EWOII               f4  \n",
       "    EWOIIIHB            f4  \n",
       "    EWNIIHA             f4  \n",
       "    NBURST              i2  \n",
       "    TRUNCTAU            f4  \n",
       "    TBURST              f4  array[7]\n",
       "    DTBURST             f4  array[7]\n",
       "    FBURST              f4  array[7]\n",
       "    MSTAR_50            f4  \n",
       "    AGE_50              f4  \n",
       "    SFRAGE_50           f4  \n",
       "    TAU_50              f4  \n",
       "    ZMETAL_50           f4  \n",
       "    AV_50               f4  \n",
       "    MU_50               f4  \n",
       "    OIIIHB_50           f4  \n",
       "    SFR_50              f4  \n",
       "    SFR100_50           f4  \n",
       "    B100_50             f4  \n",
       "    B1000_50            f4  \n",
       "    EWOII_50            f4  \n",
       "    EWOIIIHB_50         f4  \n",
       "    EWNIIHA_50          f4  \n",
       "    MSTAR_AVG           f4  \n",
       "    AGE_AVG             f4  \n",
       "    SFRAGE_AVG          f4  \n",
       "    TAU_AVG             f4  \n",
       "    ZMETAL_AVG          f4  \n",
       "    AV_AVG              f4  \n",
       "    MU_AVG              f4  \n",
       "    OIIIHB_AVG          f4  \n",
       "    SFR_AVG             f4  \n",
       "    SFR100_AVG          f4  \n",
       "    B100_AVG            f4  \n",
       "    B1000_AVG           f4  \n",
       "    EWOII_AVG           f4  \n",
       "    EWOIIIHB_AVG        f4  \n",
       "    EWNIIHA_AVG         f4  \n",
       "    MSTAR_ERR           f4  \n",
       "    AGE_ERR             f4  \n",
       "    SFRAGE_ERR          f4  \n",
       "    TAU_ERR             f4  \n",
       "    ZMETAL_ERR          f4  \n",
       "    AV_ERR              f4  \n",
       "    MU_ERR              f4  \n",
       "    OIIIHB_ERR          f4  \n",
       "    SFR_ERR             f4  \n",
       "    SFR100_ERR          f4  \n",
       "    B100_ERR            f4  \n",
       "    B1000_ERR           f4  \n",
       "    EWOII_ERR           f4  \n",
       "    EWOIIIHB_ERR        f4  \n",
       "    EWNIIHA_ERR         f4  "
      ]
     },
     "execution_count": 8,
     "metadata": {},
     "output_type": "execute_result"
    }
   ],
   "source": [
    "# Read in Redmapper catalog \n",
    "rminfo = fitsio.FITS(rmcatfile)\n",
    "rmcat = rminfo[1].read(columns=['Z', 'RA', 'DEC', 'LAMBDA_CHISQ', 'MSTAR_50', 'MSTAR_ERR', 'IMAG'])\n",
    "rminfo[1]"
   ]
  },
  {
   "cell_type": "code",
   "execution_count": 13,
   "metadata": {},
   "outputs": [
    {
     "name": "stdout",
     "output_type": "stream",
     "text": [
      "['/home/desi2/stellar-mass/redmapper-sdssphot/redmapper_sdssphot_00434_mcmc.h5', '/home/desi2/stellar-mass/redmapper-sdssphot/redmapper_sdssphot_00666_mcmc.h5', '/home/desi2/stellar-mass/redmapper-sdssphot/redmapper_sdssphot_00798_mcmc.h5', '/home/desi2/stellar-mass/redmapper-sdssphot/redmapper_sdssphot_00168_mcmc.h5']\n"
     ]
    }
   ],
   "source": [
    "# Read in Prospector files\n",
    "prosp = glob('~/stellar-mass/redmapper-sdssphot/*') # get rid of redmapper-sdssphot for test files\n",
    "print(red)\n",
    "\n",
    "# I think I have to read in differently because those are just the files names...\n",
    "# Need to read in the actual data..."
   ]
  },
  {
   "cell_type": "code",
   "execution_count": 14,
   "metadata": {
    "collapsed": true
   },
   "outputs": [],
   "source": [
    "# Keep good measurements and data\n",
    "\n",
    "# ...?"
   ]
  },
  {
   "cell_type": "code",
   "execution_count": null,
   "metadata": {
    "collapsed": true
   },
   "outputs": [],
   "source": [
    "# Cross-matching Redmapper and Prospector\n",
    "rcoord = SkyCoord(ra=rmcat['RA']*u.degree, dec=rmcat['DEC']*u.degree) # for Redmapper\n",
    "### not sure what to do for prospector"
   ]
  }
 ],
 "metadata": {
  "kernelspec": {
   "display_name": "Python 3",
   "language": "python",
   "name": "python3"
  },
  "language_info": {
   "codemirror_mode": {
    "name": "ipython",
    "version": 3
   },
   "file_extension": ".py",
   "mimetype": "text/x-python",
   "name": "python",
   "nbconvert_exporter": "python",
   "pygments_lexer": "ipython3",
   "version": "3.6.1"
  }
 },
 "nbformat": 4,
 "nbformat_minor": 2
}
