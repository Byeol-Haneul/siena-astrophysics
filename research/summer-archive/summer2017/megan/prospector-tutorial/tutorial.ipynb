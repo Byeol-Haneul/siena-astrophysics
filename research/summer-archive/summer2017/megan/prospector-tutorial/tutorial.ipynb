{
 "cells": [
  {
   "cell_type": "code",
   "execution_count": 2,
   "metadata": {
    "collapsed": true
   },
   "outputs": [],
   "source": [
    "import os\n",
    "import numpy as np\n",
    "\n",
    "import fitsio"
   ]
  },
  {
   "cell_type": "code",
   "execution_count": 3,
   "metadata": {
    "collapsed": true
   },
   "outputs": [],
   "source": [
    "phottable = 'demo_photometry.dat'\n",
    "with open(phottable, 'r') as f:\n",
    "    header = f.readline().split()[1:]\n",
    "    catalog = np.genfromtxt(phottable, comments='#',\n",
    "                            dtype=np.dtype([(n, np.float) for n in header]))"
   ]
  },
  {
   "cell_type": "code",
   "execution_count": 4,
   "metadata": {},
   "outputs": [
    {
     "data": {
      "text/plain": [
       "(3,)"
      ]
     },
     "execution_count": 4,
     "metadata": {},
     "output_type": "execute_result"
    }
   ],
   "source": [
    "catalog['mag0'].shape"
   ]
  },
  {
   "cell_type": "code",
   "execution_count": 5,
   "metadata": {},
   "outputs": [
    {
     "data": {
      "text/plain": [
       "array([2])"
      ]
     },
     "execution_count": 5,
     "metadata": {},
     "output_type": "execute_result"
    }
   ],
   "source": [
    "np.where(catalog['objid'] == 2)[0]"
   ]
  },
  {
   "cell_type": "code",
   "execution_count": 6,
   "metadata": {},
   "outputs": [
    {
     "data": {
      "text/plain": [
       "'/global/work/projects/redmapper/redmapper_isedfit_v5.10_centrals.fits.gz'"
      ]
     },
     "execution_count": 6,
     "metadata": {},
     "output_type": "execute_result"
    }
   ],
   "source": [
    "redfile = os.path.join('/global', 'work', 'projects', 'redmapper', 'redmapper_isedfit_v5.10_centrals.fits.gz')\n",
    "print(redfile)"
   ]
  },
  {
   "cell_type": "code",
   "execution_count": 8,
   "metadata": {},
   "outputs": [
    {
     "name": "stdout",
     "output_type": "stream",
     "text": [
      "\n",
      "  file: /global/work/projects/redmapper/redmapper_isedfit_v5.10_centrals.fits.gz\n",
      "  mode: READONLY\n",
      "  extnum hdutype         hduname[v]\n",
      "  0      IMAGE_HDU       \n",
      "  1      BINARY_TBL      \n"
     ]
    }
   ],
   "source": [
    "info = fitsio.FITS(redfile)\n",
    "print(info)"
   ]
  },
  {
   "cell_type": "code",
   "execution_count": 11,
   "metadata": {
    "collapsed": true
   },
   "outputs": [],
   "source": [
    "cat = info[1].read()\n",
    "# print(cat)"
   ]
  },
  {
   "cell_type": "code",
   "execution_count": 12,
   "metadata": {
    "collapsed": true
   },
   "outputs": [],
   "source": [
    "# output dictionary\n",
    "obs = {}\n",
    "obs['maggies'] = cat['MAGGIES'][:3, :]\n",
    "obs['maggies_unc'] = 1.0/np.sqrt(cat['IVARMAGGIES'][:3, :])\n",
    "obs['wavelength'] = None\n",
    "\n",
    "# ToDo\n",
    "# obs['filters'] = \n",
    "# obs['phot_mask'] = "
   ]
  },
  {
   "cell_type": "code",
   "execution_count": null,
   "metadata": {
    "collapsed": true
   },
   "outputs": [],
   "source": []
  }
 ],
 "metadata": {
  "kernelspec": {
   "display_name": "Python 2",
   "language": "python",
   "name": "python2"
  },
  "language_info": {
   "codemirror_mode": {
    "name": "ipython",
    "version": 2
   },
   "file_extension": ".py",
   "mimetype": "text/x-python",
   "name": "python",
   "nbconvert_exporter": "python",
   "pygments_lexer": "ipython2",
   "version": "2.7.13"
  }
 },
 "nbformat": 4,
 "nbformat_minor": 2
}
