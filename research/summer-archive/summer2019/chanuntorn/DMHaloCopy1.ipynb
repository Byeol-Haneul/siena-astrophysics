{
 "cells": [
  {
   "cell_type": "code",
   "execution_count": 5,
   "metadata": {},
   "outputs": [],
   "source": [
    "import numpy as np\n",
    "import pandas as pd\n",
    "import os, pdb # \n",
    "import scipy.stats # Conatins large number of propability distributions\n",
    "                  # and library of statistics\n",
    "import warnings\n",
    "\n",
    "from astropy.io import fits, ascii\n",
    "from astropy.table import Table, hstack\n",
    "\n",
    "import h5py"
   ]
  },
  {
   "cell_type": "code",
   "execution_count": 6,
   "metadata": {},
   "outputs": [],
   "source": [
    "import matplotlib.pyplot as plt\n",
    "from matplotlib.ticker import FormatStrFormatter, MultipleLocator, ScalarFormatter\n",
    "%matplotlib inline"
   ]
  },
  {
   "cell_type": "code",
   "execution_count": 17,
   "metadata": {},
   "outputs": [],
   "source": [
    "import colossus\n",
    "import colossus.halo\n",
    "from colossus.cosmology import cosmology\n",
    "from colossus.halo import mass_defs, concentration\n",
    "from colossus.lss import mass_function\n",
    "from colossus.halo import mass_adv"
   ]
  },
  {
   "cell_type": "code",
   "execution_count": 8,
   "metadata": {},
   "outputs": [
    {
     "data": {
      "text/plain": [
       "<colossus.cosmology.cosmology.Cosmology at 0x7feb3cbcdb70>"
      ]
     },
     "execution_count": 8,
     "metadata": {},
     "output_type": "execute_result"
    }
   ],
   "source": [
    "cosmology.setCosmology('planck15')"
   ]
  },
  {
   "cell_type": "code",
   "execution_count": 86,
   "metadata": {},
   "outputs": [],
   "source": [
    "def mhalo_relations(mvir, halodef='200c', redshift=0.0):\n",
    "    conc = concentration.concentration(mvir, 'vir', redshift)\n",
    "    mnew, Rnew, cnew = mass_defs.changeMassDefinition(mvir, conc, redshift, 'vir', halodef)\n",
    "    return np.log10(mnew)"
   ]
  },
  {
   "cell_type": "code",
   "execution_count": 87,
   "metadata": {},
   "outputs": [],
   "source": [
    "def qa_mhalo_relations(minmass=11, maxmass=15.3, dm=0.1):\n",
    "    logmvir = np.arange(minmass, maxmass, dm)\n",
    "    mvir = 10**logmvir\n",
    "    \n",
    "    logm200c = mhalo_relations(mvir, '200c')\n",
    "    logm500c = mhalo_relations(mvir, '500c')\n",
    "    \n",
    "    fig, ax = plt.subplots(figsize=(8, 6))\n",
    "    ax.plot(logmvir, logm200c-logmvir, 'blue', lw=2, ls='-', label='M(200c)')\n",
    "    ax.plot(logmvir, logm500c-logmvir, 'orange', lw=2, ls='--', label='M(500c)')\n",
    "    #ax.fill_between(logmvir, logm500c-0.1, logm500c+0.1, color='orange', \n",
    "    #                alpha=0.5, label='M(500c)')\n",
    "    ax.plot(logmvir, logmvir*0, 'gray', alpha=0.5, ls='-', label='1-1 relation')\n",
    "    ax.set_xlim(minmass, maxmass-dm)\n",
    "    #ax.set_ylim(minmass, maxmass-dm)\n",
    "    ax.set_ylim(-0.5, 0.5)\n",
    "    ax.margins(0)\n",
    "    ax.legend(loc='upper left')"
   ]
  },
  {
   "cell_type": "code",
   "execution_count": 88,
   "metadata": {},
   "outputs": [
    {
     "data": {
      "image/png": "[encoded data removed]",
      "text/plain": [
       "<Figure size 576x432 with 1 Axes>"
      ]
     },
     "metadata": {
      "needs_background": "light"
     },
     "output_type": "display_data"
    }
   ],
   "source": [
    "qa_mhalo_relations()"
   ]
  },
  {
   "cell_type": "code",
   "execution_count": null,
   "metadata": {},
   "outputs": [],
   "source": [
    "H = ['M200c', 'M200m', 'M500c', 'M500m']\n",
    "H2 = [2E13, 2E14, 2E20, 2E25]\n",
    "mvir = 10**np.arange(11.0, 15.5, 0.1)\n",
    "m1, m2, m3= mass_defs.changeMassDefinition(mvir, 3.5, 0.0, 'vir', '200c')"
   ]
  },
  {
   "cell_type": "code",
   "execution_count": null,
   "metadata": {},
   "outputs": [],
   "source": [
    "m1"
   ]
  },
  {
   "cell_type": "code",
   "execution_count": null,
   "metadata": {},
   "outputs": [],
   "source": [
    "fig, ax = plt.subplots()\n",
    "ax.plot(mvir, m1)\n",
    "ax.set_xlabel('log Mvirial', fontsize=12)\n",
    "ax.set_ylabel('Mhalo', fontsize=12)\n",
    "ax.loglog()\n",
    "ax.set_xlim(1E11, 4E15)\n",
    "# ax.set_ylim(1E-7, 1E-1,)\n",
    "ax.set_title('Comparing Halo Mass Definitions')\n",
    "# ax.legend(loc='lower left', frameon=True)\n",
    "\n",
    "plt.savefig('DarkMatterHalo3')"
   ]
  },
  {
   "cell_type": "code",
   "execution_count": null,
   "metadata": {},
   "outputs": [],
   "source": [
    "m2"
   ]
  },
  {
   "cell_type": "code",
   "execution_count": null,
   "metadata": {},
   "outputs": [],
   "source": [
    "# steeper\n",
    "\n",
    "fig, ax = plt.subplots()\n",
    "ax.plot(mvir, m2)\n",
    "ax.set_xlabel('log Mvirial', fontsize=12)\n",
    "ax.set_ylabel('Mhalo', fontsize=12)\n",
    "ax.loglog()\n",
    "ax.set_xlim(1E11, 4E15)\n",
    "# ax.set_ylim(1E-7, 1E-1,)\n",
    "ax.set_title('Comparing Halo Mass Definitions')\n",
    "# ax.legend(loc='lower left', frameon=True)\\\n",
    "plt.savefig('DarkMatterHalo2')"
   ]
  },
  {
   "cell_type": "code",
   "execution_count": null,
   "metadata": {},
   "outputs": [],
   "source": [
    "m3"
   ]
  },
  {
   "cell_type": "code",
   "execution_count": null,
   "metadata": {},
   "outputs": [],
   "source": [
    "fig, ax = plt.subplots()\n",
    "ax.plot(mvir, m3)\n",
    "ax.set_xlabel('log Mvirial', fontsize=12)\n",
    "ax.set_ylabel('Mhalo', fontsize=12)\n",
    "ax.loglog()\n",
    "ax.set_xlim(1E11, 4E15)\n",
    "# ax.set_ylim(1E-7, 1E-1,)\n",
    "ax.set_title('Comparing Halo Mass Definitions')\n",
    "# ax.legend(loc='lower left', frameon=True)\n",
    "\n",
    "plt.savefig('DarkMatterHalo3')"
   ]
  },
  {
   "cell_type": "code",
   "execution_count": null,
   "metadata": {},
   "outputs": [],
   "source": [
    "# dir('cosmology')"
   ]
  },
  {
   "cell_type": "code",
   "execution_count": null,
   "metadata": {},
   "outputs": [],
   "source": [
    "# list(['cosmology'])"
   ]
  },
  {
   "cell_type": "markdown",
   "metadata": {},
   "source": [
    "Note:\n",
    "\n",
    "-slopes should differ slightly since we are comparing the halo mass on a theoretical view point\n",
    "-the concentration is dependent on the halo mass\n",
    "-use the mass definition to comapare the virial mass\n",
    "-refer to \"stellar mass-halo mass relation\" on how to import the mass_defs\n",
    "-know halo concentration!!!(density) \n",
    "-galaxies today have a smaller density"
   ]
  },
  {
   "cell_type": "code",
   "execution_count": null,
   "metadata": {},
   "outputs": [],
   "source": [
    "# 3 graphs combined\n",
    "\n",
    "\n",
    "H = ['M200c', 'M200m', 'M500c', 'M500m']\n",
    "H2 = [2E13, 2E14, 2E20, 2E25]\n",
    "mvir = 10**np.arange(11.0, 15.5, 0.1)\n",
    "m7, m8, m9= mass_defs.changeMassDefinition(mvir, 3.5, 0.0, 'vir', '200c')"
   ]
  },
  {
   "cell_type": "code",
   "execution_count": null,
   "metadata": {},
   "outputs": [],
   "source": [
    "fig, ax = plt.subplots()\n",
    "ax.plot(mvir, m1, label='m1')\n",
    "ax.plot(mvir, m2, label='m2')\n",
    "ax.plot(mvir, m3, label='m3')\n",
    "ax.set_xlabel('log Mvirial', fontsize=12)\n",
    "ax.set_ylabel('Mhalo', fontsize=12)\n",
    "ax.loglog()\n",
    "ax.set_xlim(1E11, 1E15)\n",
    "ax.set_title('Comparing Halo Mass Definitions')\n",
    "ax.legend(loc='center right', frameon=True)\n",
    "plt.savefig('DMH1')"
   ]
  },
  {
   "cell_type": "code",
   "execution_count": null,
   "metadata": {},
   "outputs": [],
   "source": [
    "z = [0.0, 1.0, 2.0, 3.0, 5.0, 11.0]\n",
    "M = 10**np.arange(11.0, 15.5, 0.1)\n",
    "y1 = M\n",
    "y2 = mvir"
   ]
  },
  {
   "cell_type": "code",
   "execution_count": null,
   "metadata": {},
   "outputs": [],
   "source": [
    "# def halomass2():\n",
    "z = [i for i in range(12) ]\n",
    "# y = [i for i in x]\n",
    "# plt.plot(x,y)\n",
    "plt.plot(m1)\n",
    "plt.plot(m2)\n",
    "plt.plot(m3)"
   ]
  },
  {
   "cell_type": "code",
   "execution_count": null,
   "metadata": {},
   "outputs": [],
   "source": [
    "H = ['M200c', 'M200m', 'M500c', 'M500m']\n",
    "H2 = [2E13, 2E14, 2E20, 2E25]\n",
    "mvir = 10**np.arange(11.0, 15.5, 0.1)\n",
    "m7, m8, m9= mass_defs.changeMassDefinition(mvir,3.5, 11.1, 'vir', '500c')"
   ]
  },
  {
   "cell_type": "code",
   "execution_count": null,
   "metadata": {},
   "outputs": [],
   "source": [
    "fig, ax = plt.subplots()\n",
    "ax.plot(mvir, m7, label='m7')\n",
    "ax.plot(mvir, m8, label='m8')\n",
    "ax.plot(mvir, m9, label='m9')\n",
    "ax.plot(H)\n",
    "ax.set_xlabel('log Mvirial', fontsize=12)\n",
    "ax.set_ylabel('Mhalo', fontsize=12)\n",
    "ax.loglog()\n",
    "ax.set_xlim(1E11, 1E15)\n",
    "ax.set_title('Comparing Halo Mass Definitions')\n",
    "ax.legend(loc='center right', frameon=True)\n",
    "plt.savefig('DMH1')"
   ]
  },
  {
   "cell_type": "code",
   "execution_count": null,
   "metadata": {},
   "outputs": [],
   "source": [
    "z = [0.0, 3.0, 7.0, 11.0]\n",
    "M = 10**np.arange(11.0, 15.5, 0.1)\n",
    "\n",
    "ax.plot(z)\n",
    "ax.plot(M)\n",
    "ax.plot('M500m')\n",
    "plt.loglog()\n",
    "# plt.xlim(1E11, 4E15)\n",
    "# plt.ylim(1E7, 1E1)\n",
    "\n",
    "\n",
    "ax.set_xlabel('log Mvirial', fontsize=12)\n",
    "ax.set_ylabel('Mhalo', fontsize=12)\n",
    "\n",
    "\n",
    "for i in range(len(z)):\n",
    "    mfunc = mass_function.massFunction(M, z[i], mdef = '500m', model = 'tinker08', q_out = 'dndlnM')\n",
    "    plt.plot(M, mfunc, '-', label = 'z = %.1f' % (z[i]))\n",
    "plt.legend();"
   ]
  },
  {
   "cell_type": "code",
   "execution_count": null,
   "metadata": {},
   "outputs": [],
   "source": [
    "z = [0.0, 3.0, 7.0, 11.0]\n",
    "M = 10**np.arange(11.0, 15.5, 0.1)\n",
    "\n",
    "ax.plot(z)\n",
    "ax.plot(M)\n",
    "ax.plot('M200c')\n",
    "plt.loglog()\n",
    "# plt.xlim(1E11, 4E15)\n",
    "# plt.ylim(1E7, 1E1)\n",
    "\n",
    "ax.set_xlabel('log Mvirial', fontsize=12)\n",
    "ax.set_ylabel('Mhalo', fontsize=12)\n",
    "\n",
    "for i in range(len(z)):\n",
    "    mfunc = mass_function.massFunction(M, z[i], mdef = '200c', model = 'tinker08', q_out = 'dndlnM')\n",
    "    plt.plot(M, mfunc, '-', label = 'z = %.1f' % (z[i]))\n",
    "plt.legend();"
   ]
  },
  {
   "cell_type": "code",
   "execution_count": null,
   "metadata": {},
   "outputs": [],
   "source": [
    "fig, ax = plt.subplots()\n",
    "\n",
    "mvir = 1E12\n",
    "# mvir2 = 10**np.arange(11.0, 15.5, 0.1)\n",
    "# = 0.0\n",
    "M = 10**np.arange(11.0, 15.5, 0.1)"
   ]
  },
  {
   "cell_type": "code",
   "execution_count": null,
   "metadata": {},
   "outputs": [],
   "source": [
    "# M500m, R500m, c500m = mass_adv.changeMassDefinitionCModel(mvir,z,'vir','500m')\n",
    "# M200m, R200m, c200m = mass_adv.changeMassDefinitionCModel(mvir,z,'vir','200m')"
   ]
  },
  {
   "cell_type": "code",
   "execution_count": null,
   "metadata": {},
   "outputs": [],
   "source": [
    "# ax.set_xlabel('Mhalo', fontsize=12)\n",
    "# ax.set_ylabel('mvir', fontsize=12)\n",
    "\n",
    "\n",
    "ax.plot('500m')\n",
    "# ax.plot('M200m')\n",
    "# ax.plot(M)\n",
    "# ax.plot(z)\n",
    "# ax.plot(mvir, M)\n",
    "# ax.plot(mvir2)\n",
    "plt.show()"
   ]
  },
  {
   "cell_type": "code",
   "execution_count": null,
   "metadata": {},
   "outputs": [],
   "source": [
    "from colossus.halo import concentration"
   ]
  },
  {
   "cell_type": "code",
   "execution_count": null,
   "metadata": {},
   "outputs": [],
   "source": [
    "from astropy.table import table\n",
    "import matplotlib as mp1"
   ]
  },
  {
   "cell_type": "code",
   "execution_count": null,
   "metadata": {},
   "outputs": [],
   "source": [
    "# lw = data['VRMS_EXTRAP']\n",
    "# vmass = data['VIRMASS_EXTRAP_DECONV']\n",
    "# lmass = data['MASS_EXTRAP']\n",
    "# radius = data['RADRMS_EXTRAP_DECONV']"
   ]
  },
  {
   "cell_type": "code",
   "execution_count": null,
   "metadata": {},
   "outputs": [],
   "source": [
    "from astropy.table import Table    \n",
    "from astropy.table import Column    \n",
    "import numpy as np\n",
    "import astropy.table\n",
    "import astropy.units as u\n",
    "import matplotlib.pyplot as plt"
   ]
  },
  {
   "cell_type": "raw",
   "metadata": {},
   "source": []
  }
 ],
 "metadata": {
  "kernelspec": {
   "display_name": "Python 3",
   "language": "python",
   "name": "python3"
  },
  "language_info": {
   "codemirror_mode": {
    "name": "ipython",
    "version": 3
   },
   "file_extension": ".py",
   "mimetype": "text/x-python",
   "name": "python",
   "nbconvert_exporter": "python",
   "pygments_lexer": "ipython3",
   "version": "3.7.3"
  }
 },
 "nbformat": 4,
 "nbformat_minor": 2
}
