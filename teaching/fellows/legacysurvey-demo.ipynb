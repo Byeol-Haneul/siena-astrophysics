{
 "cells": [
  {
   "cell_type": "markdown",
   "metadata": {},
   "source": [
    "##Import and basic setup"
   ]
  },
  {
   "cell_type": "code",
   "execution_count": 28,
   "metadata": {
    "collapsed": true
   },
   "outputs": [],
   "source": [
    "import numpy as np \n",
    "import matplotlib.pyplot as plt\n",
    "from astropy.io import fits\n",
    "from astropy.table import Table, Column\n",
    "%matplotlib inline"
   ]
  },
  {
   "cell_type": "markdown",
   "metadata": {},
   "source": [
    "#Visual inspection of quasars images and spectra"
   ]
  },
  {
   "cell_type": "code",
   "execution_count": null,
   "metadata": {
    "collapsed": true
   },
   "outputs": [],
   "source": []
  },
  {
   "cell_type": "code",
   "execution_count": 20,
   "metadata": {
    "collapsed": false
   },
   "outputs": [
    {
     "data": {
      "text/plain": [
       "ColDefs(\n",
       "    name = 'SDSS_NAME'; format = '18A'; unit = '-'\n",
       "    name = 'RA'; format = 'D'; unit = 'deg'\n",
       "    name = 'DEC'; format = 'D'; unit = 'deg'\n",
       "    name = 'THING_ID'; format = 'J'; unit = '-'\n",
       "    name = 'PLATE'; format = 'J'; unit = '-'\n",
       "    name = 'MJD'; format = 'J'; unit = '-'\n",
       "    name = 'FIBERID'; format = 'J'; unit = '-'\n",
       "    name = 'Z_VI'; format = 'D'; unit = '-'\n",
       "    name = 'Z_PIPE'; format = 'E'; unit = '-'\n",
       "    name = 'ERR_ZPIPE'; format = 'E'; unit = '-'\n",
       "    name = 'ZWARNING'; format = 'J'; unit = '-'\n",
       "    name = 'Z_PCA'; format = 'D'; unit = '-'\n",
       "    name = 'ERR_ZPCA'; format = 'D'; unit = '-'\n",
       "    name = 'PCA_QUAL'; format = 'D'; unit = '-'\n",
       "    name = 'Z_CIV'; format = 'D'; unit = '-'\n",
       "    name = 'Z_CIII'; format = 'D'; unit = '-'\n",
       "    name = 'Z_MGII'; format = 'D'; unit = '-'\n",
       "    name = 'SDSS_MORPHO'; format = 'I'; unit = '-'\n",
       "    name = 'BOSS_TARGET1'; format = 'K'; unit = '-'\n",
       "    name = 'ANCILLARY_TARGET1'; format = 'K'; unit = '-'\n",
       "    name = 'ANCILLARY_TARGET2'; format = 'K'; unit = '-'\n",
       "    name = 'EBOSS_TARGET0'; format = 'K'; unit = '-'\n",
       "    name = 'NSPEC_BOSS'; format = 'J'; unit = '-'\n",
       "    name = 'PLATE_DUPLICATE'; format = '32J'; unit = '-'\n",
       "    name = 'MJD_DUPLICATE'; format = '32J'; unit = '-'\n",
       "    name = 'FIBERID_DUPLICATE'; format = '32J'; unit = '-'\n",
       "    name = 'SDSS_DR7'; format = 'J'; unit = '-'\n",
       "    name = 'PLATE_DR7'; format = 'J'; unit = '-'\n",
       "    name = 'MJD_DR7'; format = 'J'; unit = '-'\n",
       "    name = 'FIBERID_DR7'; format = 'J'; unit = '-'\n",
       "    name = 'UNIFORM'; format = 'I'; unit = '-'\n",
       "    name = 'ALPHA_NU'; format = 'D'; unit = '-'\n",
       "    name = 'SNR_SPEC'; format = 'D'; unit = '-'\n",
       "    name = 'SNR_DUPLICATE'; format = '32D'; unit = '-'\n",
       "    name = 'SNR_1700'; format = 'D'; unit = '-'\n",
       "    name = 'SNR_3000'; format = 'D'; unit = '-'\n",
       "    name = 'SNR_5150'; format = 'D'; unit = '-'\n",
       "    name = 'FWHM_CIV'; format = 'D'; unit = 'km s-1'\n",
       "    name = 'BHWHM_CIV'; format = 'D'; unit = 'km s-1'\n",
       "    name = 'RHWHM_CIV'; format = 'D'; unit = 'km s-1'\n",
       "    name = 'AMP_CIV'; format = 'D'; unit = '-'\n",
       "    name = 'REWE_CIV'; format = 'D'; unit = '0.1nm'\n",
       "    name = 'ERR_REWE_CIV'; format = 'D'; unit = '0.1nm'\n",
       "    name = 'FWHM_CIII'; format = 'D'; unit = 'km s-1'\n",
       "    name = 'BHWHM_CIII'; format = 'D'; unit = 'km s-1'\n",
       "    name = 'RHWHM_CIII'; format = 'D'; unit = 'km s-1'\n",
       "    name = 'AMP_CIII'; format = 'D'; unit = '-'\n",
       "    name = 'REWE_CIII'; format = 'D'; unit = '0.1nm'\n",
       "    name = 'ERR_REWE_CIII'; format = 'D'; unit = '0.1nm'\n",
       "    name = 'FWHM_MGII'; format = 'D'; unit = 'km s-1'\n",
       "    name = 'BHWHM_MGII'; format = 'D'; unit = 'km s-1'\n",
       "    name = 'RHWHM_MGII'; format = 'D'; unit = 'km s-1'\n",
       "    name = 'AMP_MGII'; format = 'D'; unit = '-'\n",
       "    name = 'REWE_MGII'; format = 'D'; unit = '0.1nm'\n",
       "    name = 'ERR_REWE_MGII'; format = 'D'; unit = '0.1nm'\n",
       "    name = 'BAL_FLAG_VI'; format = 'I'; unit = '-'\n",
       "    name = 'BI_CIV'; format = 'D'; unit = 'km s-1'\n",
       "    name = 'ERR_BI_CIV'; format = 'D'; unit = 'km s-1'\n",
       "    name = 'AI_CIV'; format = 'D'; unit = 'km s-1'\n",
       "    name = 'ERR_AI_CIV'; format = 'D'; unit = 'km s-1'\n",
       "    name = 'CHI2TROUGH'; format = 'D'; unit = '-'\n",
       "    name = 'NCIV_2000'; format = 'J'; unit = '-'\n",
       "    name = 'VMIN_CIV_2000'; format = 'D'; unit = '-'\n",
       "    name = 'VMAX_CIV_2000'; format = 'D'; unit = '-'\n",
       "    name = 'NCIV_450'; format = 'J'; unit = '-'\n",
       "    name = 'VMIN_CIV_450'; format = 'D'; unit = '-'\n",
       "    name = 'VMAX_CIV_450'; format = 'D'; unit = '-'\n",
       "    name = 'REW_SIIV'; format = 'D'; unit = '0.1nm'\n",
       "    name = 'REW_CIV'; format = 'D'; unit = '0.1nm'\n",
       "    name = 'REW_ALIII'; format = 'D'; unit = '0.1nm'\n",
       "    name = 'RUN_NUMBER'; format = 'I'; unit = '-'\n",
       "    name = 'PHOTO_MJD'; format = 'J'; unit = '-'\n",
       "    name = 'RERUN_NUMBER'; format = '3A'; unit = '-'\n",
       "    name = 'COL_NUMBER'; format = 'I'; unit = '-'\n",
       "    name = 'FIELD_NUMBER'; format = 'I'; unit = '-'\n",
       "    name = 'OBJ_ID'; format = '19A'; unit = '-'\n",
       "    name = 'PSFFLUX'; format = '5E'; unit = 'nanomaggies'\n",
       "    name = 'IVAR_PSFFLUX'; format = '5E'; unit = '-'\n",
       "    name = 'PSFMAG'; format = '5E'; unit = '-'\n",
       "    name = 'ERR_PSFMAG'; format = '5E'; unit = '-'\n",
       "    name = 'TARGET_FLUX'; format = '5D'; unit = 'nanomaggies'\n",
       "    name = 'MI'; format = 'D'; unit = '-'\n",
       "    name = 'DGMI'; format = 'D'; unit = '-'\n",
       "    name = 'EXTINCTION'; format = '5E'; unit = '-'\n",
       "    name = 'EXTINCTION_RECAL'; format = '5E'; unit = '-'\n",
       "    name = 'HI_GAL'; format = 'D'; unit = '-'\n",
       "    name = 'VAR_MATCHED'; format = 'I'; unit = '-'\n",
       "    name = 'VAR_CHI2'; format = 'D'; unit = '-'\n",
       "    name = 'VAR_A'; format = 'D'; unit = '-'\n",
       "    name = 'VAR_GAMMA'; format = 'D'; unit = '-'\n",
       "    name = 'RASS_COUNTS'; format = 'D'; unit = 'counts s-1'\n",
       "    name = 'RASS_COUNTS_SNR'; format = 'D'; unit = '-'\n",
       "    name = 'SDSS2ROSAT_SEP'; format = 'D'; unit = 'arcsec'\n",
       "    name = 'N_DETECTION_XMM'; format = 'I'; unit = '-'\n",
       "    name = 'FLUX02_12KEV_SGL'; format = 'D'; unit = 'erg cm-2 s-1'\n",
       "    name = 'ERR_FLUX02_12KEV_SGL'; format = 'D'; unit = 'erg cm-2 s-1'\n",
       "    name = 'FLUX02_2KEV'; format = 'D'; unit = 'erg cm-2 s-1'\n",
       "    name = 'ERR_FLUX02_2KEV'; format = 'D'; unit = 'erg cm-2 s-1'\n",
       "    name = 'FLUX2_12KEV'; format = 'D'; unit = 'erg cm-2 s-1'\n",
       "    name = 'ERR_FLUX2_12KEV'; format = 'D'; unit = 'erg cm-2 s-1'\n",
       "    name = 'FLUX02_12KEV'; format = 'D'; unit = 'erg cm-2 s-1'\n",
       "    name = 'ERR_FLUX02_12KEV'; format = 'D'; unit = 'erg cm-2 s-1'\n",
       "    name = 'LUM02_2KEV_SGL'; format = 'D'; unit = 'erg s-1'\n",
       "    name = 'LUM05_2KEV'; format = 'D'; unit = 'erg s-1'\n",
       "    name = 'LUM2_12KEV'; format = 'D'; unit = 'erg s-1'\n",
       "    name = 'LUM02_2KEV'; format = 'D'; unit = 'erg s-1'\n",
       "    name = 'LUMX2_10_UPPER'; format = 'I'; unit = '-'\n",
       "    name = 'SDSS2XMM_SEP'; format = 'D'; unit = 'arcsec'\n",
       "    name = 'GALEX_MATCHED'; format = 'I'; unit = '-'\n",
       "    name = 'FUV'; format = 'D'; unit = 'nanomaggies'\n",
       "    name = 'FUV_IVAR'; format = 'D'; unit = 'nanomaggies-2'\n",
       "    name = 'NUV'; format = 'D'; unit = 'nanomaggies'\n",
       "    name = 'NUV_IVAR'; format = 'D'; unit = 'nanomaggies-2'\n",
       "    name = 'JMAG'; format = 'D'; unit = 'mag Vega'\n",
       "    name = 'ERR_JMAG'; format = 'D'; unit = 'mag Vega'\n",
       "    name = 'JSNR'; format = 'D'; unit = '-'\n",
       "    name = 'JRDFLAG'; format = 'J'; unit = '-'\n",
       "    name = 'HMAG'; format = 'D'; unit = 'mag Vega'\n",
       "    name = 'ERR_HMAG'; format = 'D'; unit = 'mag Vega'\n",
       "    name = 'HSNR'; format = 'D'; unit = '-'\n",
       "    name = 'HRDFLAG'; format = 'J'; unit = '-'\n",
       "    name = 'KMAG'; format = 'D'; unit = 'mag Vega'\n",
       "    name = 'ERR_KMAG'; format = 'D'; unit = 'mag Vega'\n",
       "    name = 'KSNR'; format = 'D'; unit = '-'\n",
       "    name = 'KRDFLAG'; format = 'J'; unit = '-'\n",
       "    name = 'SDSS2MASS_SEP'; format = 'D'; unit = 'arcsec'\n",
       "    name = 'W1MAG'; format = 'D'; unit = 'mag Vega'\n",
       "    name = 'ERR_W1MAG'; format = 'D'; unit = 'mag Vega'\n",
       "    name = 'W1SNR'; format = 'D'; unit = '-'\n",
       "    name = 'W1CHI2'; format = 'D'; unit = '-'\n",
       "    name = 'W2MAG'; format = 'D'; unit = 'mag Vega'\n",
       "    name = 'ERR_W2MAG'; format = 'D'; unit = 'mag Vega'\n",
       "    name = 'W2SNR'; format = 'D'; unit = '-'\n",
       "    name = 'W2CHI2'; format = 'D'; unit = '-'\n",
       "    name = 'W3MAG'; format = 'D'; unit = 'mag Vega'\n",
       "    name = 'ERR_W3MAG'; format = 'D'; unit = 'mag Vega'\n",
       "    name = 'W3SNR'; format = 'D'; unit = '-'\n",
       "    name = 'W3CHI2'; format = 'D'; unit = '-'\n",
       "    name = 'W4MAG'; format = 'D'; unit = 'mag Vega'\n",
       "    name = 'ERR_W4MAG'; format = 'D'; unit = 'mag Vega'\n",
       "    name = 'W4SNR'; format = 'D'; unit = '-'\n",
       "    name = 'W4CHI2'; format = 'D'; unit = '-'\n",
       "    name = 'CC_FLAGS'; format = '4A'; unit = '-'\n",
       "    name = 'PH_FLAG'; format = '4A'; unit = '-'\n",
       "    name = 'SDSS2WISE_SEP'; format = 'D'; unit = 'arcsec'\n",
       "    name = 'UKIDSS_MATCHED'; format = 'I'; unit = '-'\n",
       "    name = 'YFLUX'; format = 'E'; unit = 'nanomaggies'\n",
       "    name = 'YFLUX_ERR'; format = 'E'; unit = 'nanomaggies'\n",
       "    name = 'JFLUX'; format = 'E'; unit = 'nanomaggies'\n",
       "    name = 'JFLUX_ERR'; format = 'E'; unit = 'nanomaggies'\n",
       "    name = 'HFLUX'; format = 'E'; unit = 'nanomaggies'\n",
       "    name = 'HFLUX_ERR'; format = 'E'; unit = 'nanomaggies'\n",
       "    name = 'KFLUX'; format = 'E'; unit = 'nanomaggies'\n",
       "    name = 'KFLUX_ERR'; format = 'E'; unit = 'nanomaggies'\n",
       "    name = 'FIRST_MATCHED'; format = 'I'; unit = '-'\n",
       "    name = 'FIRST_FLUX'; format = 'D'; unit = 'mJy'\n",
       "    name = 'FIRST_SNR'; format = 'D'; unit = '-'\n",
       "    name = 'SDSS2FIRST_SEP'; format = 'D'; unit = 'arcsec'\n",
       ")"
      ]
     },
     "execution_count": 20,
     "metadata": {},
     "output_type": "execute_result"
    }
   ],
   "source": [
    "# Read the catalogs:\n",
    "#   /global/work/data/sdss/dr12/DR12Q.fits\n",
    "#   /global/work/decam/release/dr3/external/survey-dr3-DR12Q.fits\n",
    "sdss = fits.getdata(\"/Users/ioannis/tmp/DR12Q.fits\", 1)\n",
    "\n",
    "dcal = fits.getdata(\"/Users/ioannis/tmp/survey-dr3-DR12Q.fits\", 1)\n",
    "#dcal.columns\n",
    "sdss.columns"
   ]
  },
  {
   "cell_type": "code",
   "execution_count": 15,
   "metadata": {
    "collapsed": false
   },
   "outputs": [
    {
     "name": "stdout",
     "output_type": "stream",
     "text": [
      "165633 297301\n"
     ]
    }
   ],
   "source": [
    "index = np.where(dcal['OBJID']>0)[0]\n",
    "print len(index), len(dcal)\n",
    "qso = dcal[index]\n",
    "sqso = sdss[index]"
   ]
  },
  {
   "cell_type": "code",
   "execution_count": 18,
   "metadata": {
    "collapsed": false
   },
   "outputs": [
    {
     "data": {
      "text/plain": [
       "<matplotlib.collections.PathCollection at 0x1f9f6ca50>"
      ]
     },
     "execution_count": 18,
     "metadata": {},
     "output_type": "execute_result"
    },
    {
     "data": {
      "image/png": "[encoded data removed]",
      "text/plain": [
       "<matplotlib.figure.Figure at 0x1088a0210>"
      ]
     },
     "metadata": {},
     "output_type": "display_data"
    }
   ],
   "source": [
    "plt.scatter(qso['RA'], qso['DEC'])"
   ]
  },
  {
   "cell_type": "code",
   "execution_count": 22,
   "metadata": {
    "collapsed": false
   },
   "outputs": [
    {
     "data": {
      "text/plain": [
       "(1, 6)"
      ]
     },
     "execution_count": 22,
     "metadata": {},
     "output_type": "execute_result"
    },
    {
     "data": {
      "image/png": "[encoded data removed]",
      "text/plain": [
       "<matplotlib.figure.Figure at 0x26a63e710>"
      ]
     },
     "metadata": {},
     "output_type": "display_data"
    }
   ],
   "source": [
    "# Make some basic plots\n",
    "#   * ra, dec - full SDSS and matched SDSS/DR3\n",
    "#   * redshift histogram\n",
    "# Select a subset of QSOs and write them out\n",
    "\n",
    "plt.hist(sqso['Z_PIPE'], bins=50)\n",
    "plt.xlim(1,6)"
   ]
  },
  {
   "cell_type": "code",
   "execution_count": 33,
   "metadata": {
    "collapsed": false
   },
   "outputs": [],
   "source": [
    "# Upload the output catalog; inspect the images and spectra.\n",
    "ww = np.where(sqso['Z_PIPE']>4)[0]\n",
    "out = Table()\n",
    "out.add_column(Column(name='RA', data=qso['RA'][ww]))\n",
    "out.add_column(Column(name='DEC', data=qso['DEC'][ww]))\n",
    "out.write('/Users/ioannis/tmp/hiz-qsos.fits')"
   ]
  },
  {
   "cell_type": "markdown",
   "metadata": {},
   "source": [
    "#Galaxy clusters in the sky"
   ]
  },
  {
   "cell_type": "code",
   "execution_count": null,
   "metadata": {
    "collapsed": true
   },
   "outputs": [],
   "source": [
    "# Read the catalogs:\n",
    "#   /global/work/projects/redmapper/redmapper_v5.10_dr3.fits\n",
    "#   /global/work/projects/redmapper/redmapper_isedfit_v5.10_centrals.fits.gz"
   ]
  },
  {
   "cell_type": "code",
   "execution_count": null,
   "metadata": {
    "collapsed": true
   },
   "outputs": [],
   "source": [
    "# Visually inspect 2-3 clusters in the viewer"
   ]
  },
  {
   "cell_type": "code",
   "execution_count": null,
   "metadata": {
    "collapsed": true
   },
   "outputs": [],
   "source": [
    "# Make a plot of cluster richness vs central galaxy stellar mass"
   ]
  }
 ],
 "metadata": {
  "kernelspec": {
   "display_name": "Python 2",
   "language": "python",
   "name": "python2"
  },
  "language_info": {
   "codemirror_mode": {
    "name": "ipython",
    "version": 2
   },
   "file_extension": ".py",
   "mimetype": "text/x-python",
   "name": "python",
   "nbconvert_exporter": "python",
   "pygments_lexer": "ipython2",
   "version": "2.7.12"
  }
 },
 "nbformat": 4,
 "nbformat_minor": 0
}
