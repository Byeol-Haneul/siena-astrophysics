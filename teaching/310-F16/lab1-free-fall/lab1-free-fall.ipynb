{
 "cells": [
  {
   "cell_type": "code",
   "execution_count": 5,
   "metadata": {
    "collapsed": true
   },
   "outputs": [],
   "source": [
    "import numpy as np\n",
    "import matplotlib.pyplot as plt\n",
    "%matplotlib inline"
   ]
  },
  {
   "cell_type": "markdown",
   "metadata": {},
   "source": [
    "## Example: Reading in a File"
   ]
  },
  {
   "cell_type": "code",
   "execution_count": 6,
   "metadata": {
    "collapsed": false
   },
   "outputs": [
    {
     "data": {
      "text/plain": [
       "(array([ 0.43333333,  0.46666667,  0.5       ,  0.53333333,  0.56666667,\n",
       "         0.6       ,  0.63333333,  0.66666667,  0.7       ,  0.73333333,\n",
       "         0.76666667,  0.8       ,  0.83333333,  0.86666667,  0.9       ,\n",
       "         0.93333333,  0.96666667,  1.        ,  1.03333333,  1.06666667]),\n",
       " array([ 0.02285677,  0.02285677,  0.02285677,  0.03428515,  0.04571354,\n",
       "         0.04571354,  0.02285677,  0.03428515,  0.04571354,  0.04571354,\n",
       "         0.04571354,  0.03428515,  0.04571354,  0.05714192,  0.05714192,\n",
       "         0.05714192,  0.06857031,  0.06857031,  0.06857031,  0.06857031]),\n",
       " array([-0.03428515, -0.05714192, -0.06857031, -0.04571354, -0.2285677 ,\n",
       "        -0.31999478, -0.44570701, -0.50284893, -0.6057044 , -0.74284501,\n",
       "        -0.86855725, -1.01712625, -1.17712364, -1.33712103, -1.5085468 ,\n",
       "        -1.70282934, -1.8856835 , -2.13710797, -2.36567566, -2.55995821]))"
      ]
     },
     "execution_count": 6,
     "metadata": {},
     "output_type": "execute_result"
    }
   ],
   "source": [
    "time, xx, yy, vx, vy = np.loadtxt('video1.txt', unpack=True, skiprows=7)\n",
    "time, xx, yy"
   ]
  },
  {
   "cell_type": "code",
   "execution_count": 10,
   "metadata": {
    "collapsed": false
   },
   "outputs": [
    {
     "data": {
      "image/png": "[encoded data removed]",
      "text/plain": [
       "<matplotlib.figure.Figure at 0x111223490>"
      ]
     },
     "metadata": {},
     "output_type": "display_data"
    }
   ],
   "source": [
    "fig, ax = plt.subplots()\n",
    "ax.plot(time, yy, 'gs')\n",
    "fig.savefig('Ilikecheese.png')"
   ]
  },
  {
   "cell_type": "markdown",
   "metadata": {},
   "source": [
    "## Example: Plotting theoretical Curves"
   ]
  },
  {
   "cell_type": "code",
   "execution_count": null,
   "metadata": {
    "collapsed": true
   },
   "outputs": [],
   "source": []
  }
 ],
 "metadata": {
  "kernelspec": {
   "display_name": "Python 2",
   "language": "python",
   "name": "python2"
  },
  "language_info": {
   "codemirror_mode": {
    "name": "ipython",
    "version": 2
   },
   "file_extension": ".py",
   "mimetype": "text/x-python",
   "name": "python",
   "nbconvert_exporter": "python",
   "pygments_lexer": "ipython2",
   "version": "2.7.12"
  }
 },
 "nbformat": 4,
 "nbformat_minor": 0
}
