{
 "cells": [
  {
   "cell_type": "code",
   "execution_count": 5,
   "metadata": {
    "collapsed": true
   },
   "outputs": [],
   "source": [
    "import numpy as np\n",
    "import matplotlib.pyplot as plt\n",
    "%matplotlib inline"
   ]
  },
  {
   "cell_type": "markdown",
   "metadata": {},
   "source": [
    "## Example: Reading One File"
   ]
  },
  {
   "cell_type": "code",
   "execution_count": 14,
   "metadata": {
    "collapsed": false
   },
   "outputs": [
    {
     "data": {
      "text/plain": [
       "array([ 0.        ,  0.03333333,  0.06666667,  0.1       ,  0.13333333,\n",
       "        0.16666667,  0.2       ,  0.23333333,  0.26666667,  0.3       ,\n",
       "        0.33333333,  0.36666667,  0.4       ,  0.43333333,  0.46666667,\n",
       "        0.5       ,  0.53333333,  0.56666667,  0.6       ,  0.63333333])"
      ]
     },
     "execution_count": 14,
     "metadata": {},
     "output_type": "execute_result"
    }
   ],
   "source": [
    "time, xx, yy, vx, vy = np.loadtxt('video1.txt', unpack=True, skiprows=7)\n",
    "time -= time[0]\n",
    "time"
   ]
  },
  {
   "cell_type": "code",
   "execution_count": 10,
   "metadata": {
    "collapsed": false
   },
   "outputs": [
    {
     "data": {
      "image/png": "[encoded data removed]",
      "text/plain": [
       "<matplotlib.figure.Figure at 0x111223490>"
      ]
     },
     "metadata": {},
     "output_type": "display_data"
    }
   ],
   "source": [
    "fig, ax = plt.subplots()\n",
    "ax.plot(time, yy, 'gs')\n",
    "fig.savefig('Ilikecheese.png')"
   ]
  },
  {
   "cell_type": "markdown",
   "metadata": {},
   "source": [
    "## Reading Multiple Files"
   ]
  },
  {
   "cell_type": "code",
   "execution_count": 48,
   "metadata": {
    "collapsed": false
   },
   "outputs": [
    {
     "name": "stdout",
     "output_type": "stream",
     "text": [
      "(28, 28, 28)\n",
      "(28, 28, 28)\n",
      "Yay!\n"
     ]
    }
   ],
   "source": [
    "t1, y1 = np.loadtxt('BigBlackStyro1.txt', unpack=True, skiprows=7, usecols=[0, 2])\n",
    "t2, y2 = np.loadtxt('BigBlackStyro2.txt', unpack=True, skiprows=7, usecols=[0, 2])\n",
    "t3, y3 = np.loadtxt('BigBlackStyro3.txt', unpack=True, skiprows=7, usecols=[0, 2])\n",
    "\n",
    "# Remove time zeropoint.\n",
    "t1 -= 1.4\n",
    "#t2 -= t2[0]\n",
    "#t3 = t3 - t3[0]\n",
    "\n",
    "# Throw out last few datapoints so arrays are lined up.\n",
    "t1 = t1[:-3]\n",
    "t2 = t2[:-2]\n",
    "y1 = y1[:-3]\n",
    "y2 = y2[:-2]\n",
    "print(len(t1), len(t2), len(t3))\n",
    "print(len(y1), len(y2), len(y3))\n",
    "#print(t1 - t2)\n",
    "#print(t1 - t3)\n",
    "print('Yay!')"
   ]
  },
  {
   "cell_type": "code",
   "execution_count": 49,
   "metadata": {
    "collapsed": false
   },
   "outputs": [
    {
     "data": {
      "text/plain": [
       "[<matplotlib.lines.Line2D at 0x1120bec10>]"
      ]
     },
     "execution_count": 49,
     "metadata": {},
     "output_type": "execute_result"
    },
    {
     "data": {
      "image/png": "[encoded data removed]",
      "text/plain": [
       "<matplotlib.figure.Figure at 0x111492590>"
      ]
     },
     "metadata": {},
     "output_type": "display_data"
    }
   ],
   "source": [
    "# Make a plot!\n",
    "fig, ax = plt.subplots()\n",
    "ax.plot(t1, y1, color='orange', marker='s')\n",
    "ax.plot(t2, y2, color='green', marker='s')\n",
    "ax.plot(t3, y3, color='red', marker='s')"
   ]
  },
  {
   "cell_type": "code",
   "execution_count": null,
   "metadata": {
    "collapsed": true
   },
   "outputs": [],
   "source": []
  }
 ],
 "metadata": {
  "kernelspec": {
   "display_name": "Python 2",
   "language": "python",
   "name": "python2"
  },
  "language_info": {
   "codemirror_mode": {
    "name": "ipython",
    "version": 2
   },
   "file_extension": ".py",
   "mimetype": "text/x-python",
   "name": "python",
   "nbconvert_exporter": "python",
   "pygments_lexer": "ipython2",
   "version": "2.7.12"
  }
 },
 "nbformat": 4,
 "nbformat_minor": 0
}
