{
 "cells": [
  {
   "cell_type": "markdown",
   "metadata": {},
   "source": [
    "# Rotational Dynamics Lab\n",
    "\n",
    "This notebook demonstrates some of the analysis tools you will need to complete this lab."
   ]
  },
  {
   "cell_type": "code",
   "execution_count": 1,
   "metadata": {
    "collapsed": true
   },
   "outputs": [],
   "source": [
    "import os\n",
    "import codecs\n",
    "\n",
    "import numpy as np\n",
    "import matplotlib.pyplot as plt\n",
    "\n",
    "from scipy.optimize import curve_fit"
   ]
  },
  {
   "cell_type": "code",
   "execution_count": 2,
   "metadata": {
    "collapsed": true
   },
   "outputs": [],
   "source": [
    "%matplotlib inline"
   ]
  },
  {
   "cell_type": "markdown",
   "metadata": {},
   "source": [
    "### Dump the contents of one file to see what it looks like.\n",
    "\n",
    "There's a 7-row header that we don't care about and we see that the measurements we care about -- time and position -- are in columns 0 and 1."
   ]
  },
  {
   "cell_type": "code",
   "execution_count": 40,
   "metadata": {},
   "outputs": [
    {
     "name": "stdout",
     "output_type": "stream",
     "text": [
      "���Vernier Format 2\r",
      "\r\n",
      "5cm_data_200.cmbl 11/20/17 4:25 PM .\r",
      "\r\n",
      "Latest\r",
      "\r\n",
      "Time\tAngle\tVelocity\tAcceleration\r",
      "\r\n",
      "t\tAngle\tv\ta\r",
      "\r\n",
      "s\trad\trad/s\trad/s��\r",
      "\r\n",
      "\r",
      "\r\n",
      "0\t0\t3.83972435438\t12.1095683905\r",
      "\r\n",
      "0.05\t0.174532925199\t4.36332312999\t14.2885365462\r",
      "\r\n",
      "0.1\t0.401425727959\t5.14872129339\t16.9167653796\r",
      "\r\n"
     ]
    }
   ],
   "source": [
    "#!head P1T1.txt\n",
    "!head 5cm_data_200_txt.txt"
   ]
  },
  {
   "cell_type": "markdown",
   "metadata": {},
   "source": [
    "### Read the data, pick a good subset, and plot it."
   ]
  },
  {
   "cell_type": "code",
   "execution_count": 41,
   "metadata": {
    "collapsed": true
   },
   "outputs": [],
   "source": [
    "filecp = codecs.open('5cm_data_200_txt.txt', encoding='cp1252')\n",
    "t1, a1 = np.loadtxt(filecp, unpack=True, skiprows=7, usecols=[0, 3])"
   ]
  },
  {
   "cell_type": "code",
   "execution_count": 46,
   "metadata": {},
   "outputs": [
    {
     "name": "stdout",
     "output_type": "stream",
     "text": [
      "18.7189704588 0.16230064088\n"
     ]
    }
   ],
   "source": [
    "good = (t1 > 0.25) * (t1 < 1.5)\n",
    "meana1 = np.mean(a1[good])\n",
    "siga1 = np.std(a1[good]) / np.sqrt(np.count_nonzero(good)-1)\n",
    "print(meana1, siga1)"
   ]
  },
  {
   "cell_type": "code",
   "execution_count": 47,
   "metadata": {},
   "outputs": [
    {
     "name": "stdout",
     "output_type": "stream",
     "text": [
      "0.09800000000000003\n"
     ]
    }
   ],
   "source": [
    "tor1 = 0.05 * 0.2 * 9.8  # torque = rmg\n",
    "print(tor1)"
   ]
  },
  {
   "cell_type": "code",
   "execution_count": 48,
   "metadata": {},
   "outputs": [
    {
     "data": {
      "text/plain": [
       "<matplotlib.collections.PathCollection at 0x11d5a1da0>"
      ]
     },
     "execution_count": 48,
     "metadata": {},
     "output_type": "execute_result"
    },
    {
     "data": {
      "image/png": "[encoded data removed]",
      "text/plain": [
       "<matplotlib.figure.Figure at 0x11d795d68>"
      ]
     },
     "metadata": {},
     "output_type": "display_data"
    }
   ],
   "source": [
    "fig, ax = plt.subplots()\n",
    "ax.scatter(t1, a1)\n",
    "ax.scatter(t1[good], a1[good])"
   ]
  },
  {
   "cell_type": "markdown",
   "metadata": {},
   "source": [
    "## Combine all the data."
   ]
  },
  {
   "cell_type": "code",
   "execution_count": 17,
   "metadata": {},
   "outputs": [],
   "source": [
    "torque = np.log10([tor1])\n",
    "alpha = np.log10([meana1])"
   ]
  },
  {
   "cell_type": "markdown",
   "metadata": {},
   "source": [
    "## Here's a trick to process all the data."
   ]
  },
  {
   "cell_type": "code",
   "execution_count": 73,
   "metadata": {
    "collapsed": true
   },
   "outputs": [],
   "source": [
    "def read_and_get_alpha():\n",
    "    datafiles = ('5cm_data_200_txt.txt', '1cm_data_150_txt.txt', '3cm_data_200_txt.txt')\n",
    "    tmin = (0.25, 2, 1.5)\n",
    "    tmax = (1.5, 7, 3.5)\n",
    "    rad = (0.05, 0.012, 0.012, 0.032) # [m]\n",
    "    mass = (0.2, 0.15, 0.2)  # [kg]\n",
    "    ndata = len(datafiles)\n",
    "\n",
    "    logtorque = np.zeros(ndata)\n",
    "    logalpha = np.zeros(ndata)\n",
    "    logalphaerr = np.zeros(ndata)\n",
    "    \n",
    "    for ii, (ff, t1, t2, rr, mm) in enumerate(zip(datafiles, tmin, tmax, rad, mass)):\n",
    "        filecp = codecs.open(ff, encoding='cp1252')\n",
    "        time, alpha = np.loadtxt(filecp, unpack=True, skiprows=7, usecols=[0, 3])\n",
    "        good = (time > t1) * (time < t2)\n",
    "        \n",
    "        fig, ax = plt.subplots()\n",
    "        ax.scatter(time, alpha)\n",
    "        ax.scatter(time[good], alpha[good])        \n",
    "        \n",
    "        meanalpha = np.mean(alpha[good])\n",
    "        sigalpha = np.std(alpha[good]) / np.sqrt(np.count_nonzero(good)-1)\n",
    "        \n",
    "        logalpha[ii] = np.log10(meanalpha)\n",
    "        logalphaerr[ii] = sigalpha / meanalpha / np.log(10)\n",
    "        logtorque[ii] = np.log10(rr * mm * 9.8)\n",
    "\n",
    "        print(logalpha[ii])\n",
    "        \n",
    "    return logtorque, logalpha, logalphaerr"
   ]
  },
  {
   "cell_type": "code",
   "execution_count": 74,
   "metadata": {},
   "outputs": [
    {
     "name": "stdout",
     "output_type": "stream",
     "text": [
      "1.27228195891\n",
      "0.462888566182\n",
      "1.06998802296\n"
     ]
    },
    {
     "data": {
      "image/png": "[encoded data removed]",
      "text/plain": [
       "<matplotlib.figure.Figure at 0x11df23ac8>"
      ]
     },
     "metadata": {},
     "output_type": "display_data"
    },
    {
     "data": {
      "image/png": "[encoded data removed]",
      "text/plain": [
       "<matplotlib.figure.Figure at 0x11d8bb0b8>"
      ]
     },
     "metadata": {},
     "output_type": "display_data"
    },
    {
     "data": {
      "image/png": "[encoded data removed]",
      "text/plain": [
       "<matplotlib.figure.Figure at 0x11ca78748>"
      ]
     },
     "metadata": {},
     "output_type": "display_data"
    }
   ],
   "source": [
    "logtorque, logalpha, logalphaerr = read_and_get_alpha()"
   ]
  },
  {
   "cell_type": "markdown",
   "metadata": {},
   "source": [
    "## Plot alpha vs torque"
   ]
  },
  {
   "cell_type": "code",
   "execution_count": 75,
   "metadata": {},
   "outputs": [
    {
     "data": {
      "text/plain": [
       "<Container object of 3 artists>"
      ]
     },
     "execution_count": 75,
     "metadata": {},
     "output_type": "execute_result"
    },
    {
     "data": {
      "image/png": "[encoded data removed]",
      "text/plain": [
       "<matplotlib.figure.Figure at 0x11ec71748>"
      ]
     },
     "metadata": {},
     "output_type": "display_data"
    }
   ],
   "source": [
    "fig, ax = plt.subplots()\n",
    "ax.errorbar(logtorque, logalpha, logalphaerr, fmt='s')"
   ]
  },
  {
   "cell_type": "code",
   "execution_count": null,
   "metadata": {
    "collapsed": true
   },
   "outputs": [],
   "source": []
  },
  {
   "cell_type": "code",
   "execution_count": null,
   "metadata": {
    "collapsed": true
   },
   "outputs": [],
   "source": []
  }
 ],
 "metadata": {
  "kernelspec": {
   "display_name": "Python 3",
   "language": "python",
   "name": "python3"
  },
  "language_info": {
   "codemirror_mode": {
    "name": "ipython",
    "version": 3
   },
   "file_extension": ".py",
   "mimetype": "text/x-python",
   "name": "python",
   "nbconvert_exporter": "python",
   "pygments_lexer": "ipython3",
   "version": "3.6.1"
  }
 },
 "nbformat": 4,
 "nbformat_minor": 1
}
