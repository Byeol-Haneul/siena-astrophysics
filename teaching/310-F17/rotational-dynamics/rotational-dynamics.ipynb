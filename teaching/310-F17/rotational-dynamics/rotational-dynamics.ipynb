{
 "cells": [
  {
   "cell_type": "markdown",
   "metadata": {},
   "source": [
    "# Rotational Dynamics Lab\n",
    "\n",
    "This notebook demonstrates some of the analysis tools you will need to complete this lab."
   ]
  },
  {
   "cell_type": "code",
   "execution_count": 1,
   "metadata": {
    "collapsed": true
   },
   "outputs": [],
   "source": [
    "import os\n",
    "import codecs\n",
    "\n",
    "import numpy as np\n",
    "import matplotlib.pyplot as plt\n",
    "\n",
    "from scipy.optimize import curve_fit"
   ]
  },
  {
   "cell_type": "code",
   "execution_count": 2,
   "metadata": {
    "collapsed": true
   },
   "outputs": [],
   "source": [
    "%matplotlib inline"
   ]
  },
  {
   "cell_type": "markdown",
   "metadata": {},
   "source": [
    "### Dump the contents of one file to see what it looks like.\n",
    "\n",
    "There's a 7-row header that we don't care about and we see that the measurements we care about -- time and position -- are in columns 0 and 1."
   ]
  },
  {
   "cell_type": "code",
   "execution_count": 4,
   "metadata": {},
   "outputs": [
    {
     "name": "stdout",
     "output_type": "stream",
     "text": [
      "���Vernier Format 2\r",
      "\r\n",
      "5cm_data_200.cmbl 11/20/17 4:25 PM .\r",
      "\r\n",
      "Latest\r",
      "\r\n",
      "Time\tAngle\tVelocity\tAcceleration\r",
      "\r\n",
      "t\tAngle\tv\ta\r",
      "\r\n",
      "s\trad\trad/s\trad/s��\r",
      "\r\n",
      "\r",
      "\r\n",
      "0\t0\t3.83972435438\t12.1095683905\r",
      "\r\n",
      "0.05\t0.174532925199\t4.36332312999\t14.2885365462\r",
      "\r\n",
      "0.1\t0.401425727959\t5.14872129339\t16.9167653796\r",
      "\r\n"
     ]
    }
   ],
   "source": [
    "!head 5cm_data_200_txt.txt"
   ]
  },
  {
   "cell_type": "markdown",
   "metadata": {},
   "source": [
    "### Read the data, pick a good subset, and plot it."
   ]
  },
  {
   "cell_type": "code",
   "execution_count": 9,
   "metadata": {
    "collapsed": true
   },
   "outputs": [],
   "source": [
    "filecp = codecs.open('5cm_data_200_txt.txt', encoding='cp1252')\n",
    "t1, a1 = np.loadtxt(filecp, unpack=True, skiprows=7, usecols=[0, 3])"
   ]
  },
  {
   "cell_type": "code",
   "execution_count": 13,
   "metadata": {},
   "outputs": [
    {
     "name": "stdout",
     "output_type": "stream",
     "text": [
      "18.725659092 0.155816931049\n"
     ]
    }
   ],
   "source": [
    "good = (t1 > 0.2) * (t1 < 1.5)\n",
    "meana1 = np.mean(a1[good])\n",
    "siga1 = np.std(a1[good]) / np.sqrt(np.count_nonzero(good)-1)\n",
    "print(meana1, siga1)"
   ]
  },
  {
   "cell_type": "code",
   "execution_count": 15,
   "metadata": {},
   "outputs": [
    {
     "name": "stdout",
     "output_type": "stream",
     "text": [
      "0.09800000000000003\n"
     ]
    }
   ],
   "source": [
    "tor1 = 0.05 * 0.2 * 9.8  # torque = rmg\n",
    "print(tor1)"
   ]
  },
  {
   "cell_type": "code",
   "execution_count": 14,
   "metadata": {},
   "outputs": [
    {
     "data": {
      "text/plain": [
       "<matplotlib.collections.PathCollection at 0x11d32e5f8>"
      ]
     },
     "execution_count": 14,
     "metadata": {},
     "output_type": "execute_result"
    },
    {
     "data": {
      "image/png": "[encoded data removed]",
      "text/plain": [
       "<matplotlib.figure.Figure at 0x11d194748>"
      ]
     },
     "metadata": {},
     "output_type": "display_data"
    }
   ],
   "source": [
    "fig, ax = plt.subplots()\n",
    "ax.scatter(t1, a1)\n",
    "ax.scatter(t1[good], a1[good])"
   ]
  },
  {
   "cell_type": "markdown",
   "metadata": {},
   "source": [
    "## Combine all the data."
   ]
  },
  {
   "cell_type": "code",
   "execution_count": 17,
   "metadata": {},
   "outputs": [],
   "source": [
    "torque = np.log10([tor1])\n",
    "alpha = np.log10([meana1])"
   ]
  },
  {
   "cell_type": "markdown",
   "metadata": {},
   "source": [
    "## Plot alpha vs torque"
   ]
  },
  {
   "cell_type": "code",
   "execution_count": 18,
   "metadata": {},
   "outputs": [
    {
     "data": {
      "text/plain": [
       "<matplotlib.collections.PathCollection at 0x11d252860>"
      ]
     },
     "execution_count": 18,
     "metadata": {},
     "output_type": "execute_result"
    },
    {
     "data": {
      "image/png": "[encoded data removed]",
      "text/plain": [
       "<matplotlib.figure.Figure at 0x11d252048>"
      ]
     },
     "metadata": {},
     "output_type": "display_data"
    }
   ],
   "source": [
    "fig, ax = plt.subplots()\n",
    "ax.scatter(torque, alpha)"
   ]
  },
  {
   "cell_type": "code",
   "execution_count": null,
   "metadata": {
    "collapsed": true
   },
   "outputs": [],
   "source": []
  }
 ],
 "metadata": {
  "kernelspec": {
   "display_name": "Python 3",
   "language": "python",
   "name": "python3"
  },
  "language_info": {
   "codemirror_mode": {
    "name": "ipython",
    "version": 3
   },
   "file_extension": ".py",
   "mimetype": "text/x-python",
   "name": "python",
   "nbconvert_exporter": "python",
   "pygments_lexer": "ipython3",
   "version": "3.6.1"
  }
 },
 "nbformat": 4,
 "nbformat_minor": 1
}
