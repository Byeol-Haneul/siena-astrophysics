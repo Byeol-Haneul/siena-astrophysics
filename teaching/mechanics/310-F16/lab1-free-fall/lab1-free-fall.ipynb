{
 "cells": [
  {
   "cell_type": "code",
   "execution_count": 5,
   "metadata": {
    "collapsed": true
   },
   "outputs": [],
   "source": [
    "import numpy as np\n",
    "import matplotlib.pyplot as plt\n",
    "%matplotlib inline"
   ]
  },
  {
   "cell_type": "markdown",
   "metadata": {},
   "source": [
    "## Example: Reading One File"
   ]
  },
  {
   "cell_type": "code",
   "execution_count": 14,
   "metadata": {
    "collapsed": false
   },
   "outputs": [
    {
     "data": {
      "text/plain": [
       "array([ 0.        ,  0.03333333,  0.06666667,  0.1       ,  0.13333333,\n",
       "        0.16666667,  0.2       ,  0.23333333,  0.26666667,  0.3       ,\n",
       "        0.33333333,  0.36666667,  0.4       ,  0.43333333,  0.46666667,\n",
       "        0.5       ,  0.53333333,  0.56666667,  0.6       ,  0.63333333])"
      ]
     },
     "execution_count": 14,
     "metadata": {},
     "output_type": "execute_result"
    }
   ],
   "source": [
    "time, xx, yy, vx, vy = np.loadtxt('video1.txt', unpack=True, skiprows=7)\n",
    "time -= time[0]\n",
    "time"
   ]
  },
  {
   "cell_type": "markdown",
   "metadata": {},
   "source": [
    "## Reading Multiple Files"
   ]
  },
  {
   "cell_type": "code",
   "execution_count": 55,
   "metadata": {
    "collapsed": false
   },
   "outputs": [
    {
     "name": "stdout",
     "output_type": "stream",
     "text": [
      "(31, 28, 28)\n",
      "(31, 28, 28)\n",
      "Yay!\n"
     ]
    }
   ],
   "source": [
    "t1, y1 = np.loadtxt('BigBlackStyro1.txt', unpack=True, skiprows=7, usecols=[0, 2])\n",
    "t2, y2 = np.loadtxt('BigBlackStyro2.txt', unpack=True, skiprows=7, usecols=[0, 2])\n",
    "t3, y3 = np.loadtxt('BigBlackStyro3.txt', unpack=True, skiprows=7, usecols=[0, 2])\n",
    "\n",
    "# Remove time zeropoint.\n",
    "#t1 -= 1.4\n",
    "t2 -= t2[0]\n",
    "t3 = t3 - t3[0]\n",
    "\n",
    "# Throw out last few datapoints so arrays are lined up.\n",
    "#t1 = t1[:-3]\n",
    "t2 = t2[:-2]\n",
    "#y1 = y1[:-3]\n",
    "y2 = y2[:-2]\n",
    "print(len(t1), len(t2), len(t3))\n",
    "print(len(y1), len(y2), len(y3))\n",
    "#print(t1 - t2)\n",
    "#print(t1 - t3)\n",
    "print('Yay!')"
   ]
  },
  {
   "cell_type": "code",
   "execution_count": 56,
   "metadata": {
    "collapsed": false
   },
   "outputs": [
    {
     "data": {
      "text/plain": [
       "[<matplotlib.lines.Line2D at 0x112554750>]"
      ]
     },
     "execution_count": 56,
     "metadata": {},
     "output_type": "execute_result"
    },
    {
     "data": {
      "image/png": "[encoded data removed]",
      "text/plain": [
       "<matplotlib.figure.Figure at 0x112125fd0>"
      ]
     },
     "metadata": {},
     "output_type": "display_data"
    }
   ],
   "source": [
    "# Make a plot!\n",
    "fig, ax = plt.subplots()\n",
    "#ax.plot(t1, y1, color='orange', marker='s')\n",
    "ax.plot(t2, y2, color='green', marker='s')\n",
    "ax.plot(t3, y3, color='red', marker='s')"
   ]
  },
  {
   "cell_type": "code",
   "execution_count": 69,
   "metadata": {
    "collapsed": true
   },
   "outputs": [],
   "source": [
    "twood, ywood = np.loadtxt('WoodenBallTrial1-1.txt', unpack=True, skiprows=7, usecols=[0, 2])\n",
    "tstyro, ystyro = np.loadtxt('BBB_Trial_1-1.txt', unpack=True, skiprows=7, usecols=[0, 2])\n",
    "twood -= twood[0]\n",
    "tstyro -= tstyro[0]"
   ]
  },
  {
   "cell_type": "code",
   "execution_count": 82,
   "metadata": {
    "collapsed": true
   },
   "outputs": [],
   "source": [
    "# Generate theoretical curve with no drag\n",
    "grav = 9.8 # [m/s^2]\n",
    "time = np.linspace(0, 1.0, 50)\n",
    "ynodrag = -0.5 * grav * time**2"
   ]
  },
  {
   "cell_type": "code",
   "execution_count": 85,
   "metadata": {
    "collapsed": true
   },
   "outputs": [],
   "source": [
    "# Find optimum drag coefficient for linear drag \n",
    "mass = 7E-3  # [mass of styrofoam ball in kg]\n",
    "\n",
    "bdragarr = np.linspace(0.005, 0.05, 100)\n",
    "chisq = np.zeros_like(bdragarr)\n",
    "for ii, bdrag in enumerate(bdragarr):\n",
    "    tau = bdrag / mass\n",
    "    ylindrag = grav * tau**2 * (1 - tstyro / tau - np.exp(- tstyro / tau))\n",
    "    chisq[ii] = np.sum((ystyro - ylindrag)**2)"
   ]
  },
  {
   "cell_type": "code",
   "execution_count": 86,
   "metadata": {
    "collapsed": false
   },
   "outputs": [
    {
     "data": {
      "text/plain": [
       "[<matplotlib.lines.Line2D at 0x113c84610>]"
      ]
     },
     "execution_count": 86,
     "metadata": {},
     "output_type": "execute_result"
    },
    {
     "data": {
      "image/png": "[encoded data removed]",
      "text/plain": [
       "<matplotlib.figure.Figure at 0x113b79e10>"
      ]
     },
     "metadata": {},
     "output_type": "display_data"
    }
   ],
   "source": [
    "plt.plot(bdragarr, chisq)"
   ]
  },
  {
   "cell_type": "code",
   "execution_count": 81,
   "metadata": {
    "collapsed": false
   },
   "outputs": [
    {
     "data": {
      "text/plain": [
       "[<matplotlib.lines.Line2D at 0x113a4bcd0>]"
      ]
     },
     "execution_count": 81,
     "metadata": {},
     "output_type": "execute_result"
    },
    {
     "data": {
      "image/png": "[encoded data removed]",
      "text/plain": [
       "<matplotlib.figure.Figure at 0x113877550>"
      ]
     },
     "metadata": {},
     "output_type": "display_data"
    }
   ],
   "source": [
    "fig, ax = plt.subplots()\n",
    "ax.scatter(twood, ywood, color='green', marker='s')\n",
    "ax.scatter(tstyro, ystyro, color='red', marker='s')\n",
    "\n",
    "ax.plot(time, ynodrag, color='black')\n",
    "ax.plot(time, ylindrag, color='orange')"
   ]
  },
  {
   "cell_type": "code",
   "execution_count": null,
   "metadata": {
    "collapsed": true
   },
   "outputs": [],
   "source": []
  }
 ],
 "metadata": {
  "kernelspec": {
   "display_name": "Python 2",
   "language": "python",
   "name": "python2"
  },
  "language_info": {
   "codemirror_mode": {
    "name": "ipython",
    "version": 2
   },
   "file_extension": ".py",
   "mimetype": "text/x-python",
   "name": "python",
   "nbconvert_exporter": "python",
   "pygments_lexer": "ipython2",
   "version": "2.7.12"
  }
 },
 "nbformat": 4,
 "nbformat_minor": 0
}
