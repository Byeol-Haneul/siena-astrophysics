{
 "cells": [
  {
   "cell_type": "code",
   "execution_count": null,
   "metadata": {
    "collapsed": true
   },
   "outputs": [],
   "source": [
    "# Ghadeer's Summer 2017 NoteBook!"
   ]
  },
  {
   "cell_type": "markdown",
   "metadata": {},
   "source": [
    "# Monday: 22nd of May"
   ]
  },
  {
   "cell_type": "code",
   "execution_count": 62,
   "metadata": {
    "collapsed": true
   },
   "outputs": [],
   "source": [
    "# the below code will help you import and appreviate at the same time\n",
    "import numpy as np\n",
    "import matplotlib.pyplot as plt \n",
    "%matplotlib inline"
   ]
  },
  {
   "cell_type": "code",
   "execution_count": 73,
   "metadata": {
    "collapsed": true
   },
   "outputs": [],
   "source": [
    "# the below code will help create our intial graph base\n",
    "n = 30\n",
    "x = np.linspace(0, 20, n)\n",
    "slope = 0.2\n",
    "intercept = 0\n",
    "ytrue = slope * x + intercept"
   ]
  },
  {
   "cell_type": "code",
   "execution_count": 74,
   "metadata": {
    "collapsed": true
   },
   "outputs": [],
   "source": [
    "ynoise = ytrue + np.random.normal(scale = 0.05 * ytrue, size = n)"
   ]
  },
  {
   "cell_type": "code",
   "execution_count": 75,
   "metadata": {},
   "outputs": [
    {
     "name": "stdout",
     "output_type": "stream",
     "text": [
      "[ 0.20078796 -0.0396016 ]\n"
     ]
    },
    {
     "data": {
      "text/plain": [
       "[<matplotlib.lines.Line2D at 0x7f6329284400>]"
      ]
     },
     "execution_count": 75,
     "metadata": {},
     "output_type": "execute_result"
    },
    {
     "data": {
      "image/png": "[encoded data removed]",
      "text/plain": [
       "<matplotlib.figure.Figure at 0x7f632918a208>"
      ]
     },
     "metadata": {},
     "output_type": "display_data"
    }
   ],
   "source": [
    "# the below code is for fitting\n",
    "plt.figure()\n",
    "plt.scatter(x, ynoise)\n",
    "coefficients = np.polyfit(x, ynoise, 1)\n",
    "print(coefficients)\n",
    "\n",
    "plt.plot(x, x*coefficients[0] + coefficients[1], 'r')"
   ]
  },
  {
   "cell_type": "markdown",
   "metadata": {},
   "source": [
    "# Tuesday: 23rdof May"
   ]
  },
  {
   "cell_type": "code",
   "execution_count": 1,
   "metadata": {
    "collapsed": true
   },
   "outputs": [],
   "source": [
    "# The Responsible Conduct of Research is finally done!\n",
    "# I have organized all the toturials that I need to go through one by one\n",
    "# I started reading Stellar mass -- halo mass relation and star formation efficiency in high-mass halos\n",
    "# have many many questions for Dr.Moustakas!\n"
   ]
  },
  {
   "cell_type": "markdown",
   "metadata": {},
   "source": [
    "# Wednesday: 24th of May"
   ]
  },
  {
   "cell_type": "code",
   "execution_count": 4,
   "metadata": {
    "collapsed": true
   },
   "outputs": [],
   "source": [
    "# I finished till now the first 5 sections of programming with python and I have recorded aal my notes\n",
    "# on my tutorial notebook.\n",
    "# I attended 30 min of Dr.Moustakas targeting discussions and it was very iteresting. \n",
    "# I got to know a bit more about DESI project\n",
    "# The whole sky is a 41,253 squared degrees and DESI will be surveying 14,000 squared degrees of the sky. why?!"
   ]
  },
  {
   "cell_type": "markdown",
   "metadata": {},
   "source": [
    "# Thrusday: 25th of May"
   ]
  },
  {
   "cell_type": "code",
   "execution_count": null,
   "metadata": {
    "collapsed": true
   },
   "outputs": [],
   "source": [
    "# trying to work out the Halo Mass - BCG Mass graph"
   ]
  },
  {
   "cell_type": "code",
   "execution_count": 101,
   "metadata": {},
   "outputs": [
    {
     "name": "stdout",
     "output_type": "stream",
     "text": [
      "[ 0.15416284  0.7400497   0.26331502]\n",
      "[ 0.53373939  0.01457496  0.91874701]\n"
     ]
    }
   ],
   "source": [
    "seed = 12\n",
    "rand = np.random.RandomState(seed)\n",
    "print(rand.uniform(size=3))\n",
    "print(rand.uniform(size=3))\n",
    "rand?"
   ]
  },
  {
   "cell_type": "code",
   "execution_count": 33,
   "metadata": {},
   "outputs": [
    {
     "data": {
      "text/plain": [
       "[<matplotlib.lines.Line2D at 0x7f693e0f4fd0>]"
      ]
     },
     "execution_count": 33,
     "metadata": {},
     "output_type": "execute_result"
    },
    {
     "data": {
      "image/png": "[encoded data removed]",
      "text/plain": [
       "<matplotlib.figure.Figure at 0x7f693e2174e0>"
      ]
     },
     "metadata": {},
     "output_type": "display_data"
    }
   ],
   "source": [
    "import random\n",
    "import numpy as np\n",
    "import matplotlib.pyplot as plt \n",
    "from random import randint\n",
    "%matplotlib inline\n",
    "\n",
    "\n",
    "seed = 123\n",
    "rand  = np.random.RandomState(seed)\n",
    "log10Gas = rand.uniform(size=100)\n",
    "\n",
    "n = 100\n",
    "#log10Gas = f * totalLog10Halo\n",
    "\n",
    "\n",
    "epsilon = 0.02\n",
    "bcgMass = epsilon * log10Gas\n",
    "\n",
    "log10Halo = np.linspace(12, 14, n)\n",
    "\n",
    "leftGas = log10Gas - bcgMass\n",
    "\n",
    "totalLog10Halo = leftGas + log10Halo\n",
    "\n",
    "\n",
    "plt.plot(totalLog10Halo, bcgMass, 'ro')\n",
    "\n",
    "\n",
    "coefficients = np.polyfit(totalLog10Halo, bcgMass, 1)\n",
    "\n",
    "\n",
    "plt.plot(totalLog10Halo, totalLog10Halo*coefficients[0] + coefficients[1], 'b')"
   ]
  },
  {
   "cell_type": "code",
   "execution_count": 13,
   "metadata": {},
   "outputs": [
    {
     "data": {
      "text/plain": [
       "[<matplotlib.lines.Line2D at 0x7fa2f0cd0d30>]"
      ]
     },
     "execution_count": 13,
     "metadata": {},
     "output_type": "execute_result"
    },
    {
     "data": {
      "image/png": "[encoded data removed]",
      "text/plain": [
       "<matplotlib.figure.Figure at 0x7fa2f0ce1390>"
      ]
     },
     "metadata": {},
     "output_type": "display_data"
    }
   ],
   "source": [
    "import random\n",
    "import numpy as np\n",
    "import matplotlib.pyplot as plt \n",
    "from random import randint\n",
    "%matplotlib inline\n",
    "\n",
    "\n",
    "seed = 123\n",
    "rand  = np.random.RandomState(seed)\n",
    "log10Halo = rand.uniform(13, 15, 1)\n",
    "\n",
    "log10Halo1 = np.ones(50)*log10Halo\n",
    "\n",
    "\n",
    "n = 50\n",
    "epsilon = np.linspace(0.01, 0.5, n)\n",
    "\n",
    "fraction = np.linspace(0.1, 0.5, n)\n",
    "\n",
    "\n",
    "\n",
    "totalLog10gas = fraction * log10Halo1\n",
    "\n",
    "bcg = epsilon * totalLog10gas\n",
    "\n",
    "leftHalo = log10Halo1 - totalLog10gas\n",
    "\n",
    "slope = 0.2\n",
    "intercept = 0\n",
    "leftHalo1= (bcg - intercept)/slope\n",
    "\n",
    "plt.plot(leftHalo1, bcg, 'ro')\n",
    "\n",
    "\n",
    "coefficients = np.polyfit(leftHalo1, bcg, 1)\n",
    "\n",
    "\n",
    "plt.plot(leftHalo1, leftHalo1*coefficients[0] + coefficients[1], 'b')"
   ]
  },
  {
   "cell_type": "markdown",
   "metadata": {
    "collapsed": true
   },
   "source": [
    "# Sunday: 28th of May"
   ]
  },
  {
   "cell_type": "code",
   "execution_count": null,
   "metadata": {
    "collapsed": true
   },
   "outputs": [],
   "source": [
    "# watched a couble of videos to understand what is the difference btw Bayesian vs Frequentist and Bayes Theorem\n",
    "# started wathcing: Astro Hack Week 2016: Frequentist and Bayesian Statistics with David Hogg\n",
    "# started section 5 of programming with Python Toturial"
   ]
  }
 ],
 "metadata": {
  "kernelspec": {
   "display_name": "Python 3",
   "language": "python",
   "name": "python3"
  },
  "language_info": {
   "codemirror_mode": {
    "name": "ipython",
    "version": 3
   },
   "file_extension": ".py",
   "mimetype": "text/x-python",
   "name": "python",
   "nbconvert_exporter": "python",
   "pygments_lexer": "ipython3",
   "version": "3.6.1"
  }
 },
 "nbformat": 4,
 "nbformat_minor": 2
}
