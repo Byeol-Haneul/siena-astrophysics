{
 "cells": [
  {
   "cell_type": "markdown",
   "metadata": {},
   "source": [
    "# Ghadeer's Summer 2017 NoteBook!"
   ]
  },
  {
   "cell_type": "markdown",
   "metadata": {},
   "source": [
    "# Monday: 22nd of May"
   ]
  },
  {
   "cell_type": "code",
   "execution_count": 62,
   "metadata": {
    "collapsed": true
   },
   "outputs": [],
   "source": [
    "# the below code will help you import and appreviate at the same time\n",
    "import numpy as np\n",
    "import matplotlib.pyplot as plt \n",
    "%matplotlib inline"
   ]
  },
  {
   "cell_type": "code",
   "execution_count": 73,
   "metadata": {
    "collapsed": true
   },
   "outputs": [],
   "source": [
    "# the below code will help create our intial graph base\n",
    "n = 30\n",
    "x = np.linspace(0, 20, n)\n",
    "slope = 0.2\n",
    "intercept = 0\n",
    "ytrue = slope * x + intercept"
   ]
  },
  {
   "cell_type": "code",
   "execution_count": 74,
   "metadata": {
    "collapsed": true
   },
   "outputs": [],
   "source": [
    "ynoise = ytrue + np.random.normal(scale = 0.05 * ytrue, size = n)"
   ]
  },
  {
   "cell_type": "code",
   "execution_count": 75,
   "metadata": {},
   "outputs": [
    {
     "name": "stdout",
     "output_type": "stream",
     "text": [
      "[ 0.20078796 -0.0396016 ]\n"
     ]
    },
    {
     "data": {
      "text/plain": [
       "[<matplotlib.lines.Line2D at 0x7f6329284400>]"
      ]
     },
     "execution_count": 75,
     "metadata": {},
     "output_type": "execute_result"
    },
    {
     "data": {
      "image/png": "[encoded data removed]",
      "text/plain": [
       "<matplotlib.figure.Figure at 0x7f632918a208>"
      ]
     },
     "metadata": {},
     "output_type": "display_data"
    }
   ],
   "source": [
    "# the below code is for fitting\n",
    "plt.figure()\n",
    "plt.scatter(x, ynoise)\n",
    "coefficients = np.polyfit(x, ynoise, 1)\n",
    "print(coefficients)\n",
    "\n",
    "plt.plot(x, x*coefficients[0] + coefficients[1], 'r')"
   ]
  },
  {
   "cell_type": "markdown",
   "metadata": {},
   "source": [
    "# Tuesday: 23rdof May"
   ]
  },
  {
   "cell_type": "code",
   "execution_count": 1,
   "metadata": {
    "collapsed": true
   },
   "outputs": [],
   "source": [
    "# The Responsible Conduct of Research is finally done!\n",
    "# I have organized all the toturials that I need to go through one by one\n",
    "# I started reading Stellar mass -- halo mass relation and star formation efficiency in high-mass halos\n",
    "# have many many questions for Dr.Moustakas!\n"
   ]
  },
  {
   "cell_type": "markdown",
   "metadata": {},
   "source": [
    "# Wednesday: 24th of May"
   ]
  },
  {
   "cell_type": "code",
   "execution_count": null,
   "metadata": {
    "collapsed": true
   },
   "outputs": [],
   "source": [
    "# I finished till now the first 5 sections of programming with python and I have recorded aal my notes\n",
    "# on my tutorial notebook.\n",
    "# I attended 30 min of Dr.Moustakas targeting discussions and it was very iteresting. \n",
    "# I got to know a bit more about DESI project\n",
    "# The whole sky is a 41,253 squared degrees and DESI will be surveying 14,000 squared degrees of the sky. why?!"
   ]
  }
 ],
 "metadata": {
  "kernelspec": {
   "display_name": "Python 3",
   "language": "python",
   "name": "python3"
  },
  "language_info": {
   "codemirror_mode": {
    "name": "ipython",
    "version": 3
   },
   "file_extension": ".py",
   "mimetype": "text/x-python",
   "name": "python",
   "nbconvert_exporter": "python",
   "pygments_lexer": "ipython3",
   "version": "3.6.1"
  }
 },
 "nbformat": 4,
 "nbformat_minor": 2
}
