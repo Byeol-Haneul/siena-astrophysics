{
 "cells": [
  {
   "cell_type": "code",
   "execution_count": null,
   "metadata": {
    "collapsed": true
   },
   "outputs": [],
   "source": [
    "# Ghadeer's Summer 2017 NoteBook!"
   ]
  },
  {
   "cell_type": "markdown",
   "metadata": {},
   "source": [
    "# Monday: 22nd of May"
   ]
  },
  {
   "cell_type": "code",
   "execution_count": 62,
   "metadata": {
    "collapsed": true
   },
   "outputs": [],
   "source": [
    "# the below code will help you import and appreviate at the same time\n",
    "import numpy as np\n",
    "import matplotlib.pyplot as plt \n",
    "%matplotlib inline"
   ]
  },
  {
   "cell_type": "code",
   "execution_count": 73,
   "metadata": {
    "collapsed": true
   },
   "outputs": [],
   "source": [
    "# the below code will help create our intial graph base\n",
    "n = 30\n",
    "x = np.linspace(0, 20, n)\n",
    "slope = 0.2\n",
    "intercept = 0\n",
    "ytrue = slope * x + intercept"
   ]
  },
  {
   "cell_type": "code",
   "execution_count": 74,
   "metadata": {
    "collapsed": true
   },
   "outputs": [],
   "source": [
    "ynoise = ytrue + np.random.normal(scale = 0.05 * ytrue, size = n)"
   ]
  },
  {
   "cell_type": "code",
   "execution_count": 75,
   "metadata": {},
   "outputs": [
    {
     "name": "stdout",
     "output_type": "stream",
     "text": [
      "[ 0.20078796 -0.0396016 ]\n"
     ]
    },
    {
     "data": {
      "text/plain": [
       "[<matplotlib.lines.Line2D at 0x7f6329284400>]"
      ]
     },
     "execution_count": 75,
     "metadata": {},
     "output_type": "execute_result"
    },
    {
     "data": {
      "image/png": "[encoded data removed]",
      "text/plain": [
       "<matplotlib.figure.Figure at 0x7f632918a208>"
      ]
     },
     "metadata": {},
     "output_type": "display_data"
    }
   ],
   "source": [
    "# the below code is for fitting\n",
    "plt.figure()\n",
    "plt.scatter(x, ynoise)\n",
    "coefficients = np.polyfit(x, ynoise, 1)\n",
    "print(coefficients)\n",
    "\n",
    "plt.plot(x, x*coefficients[0] + coefficients[1], 'r')"
   ]
  },
  {
   "cell_type": "markdown",
   "metadata": {},
   "source": [
    "# Tuesday: 23rdof May"
   ]
  },
  {
   "cell_type": "code",
   "execution_count": 1,
   "metadata": {
    "collapsed": true
   },
   "outputs": [],
   "source": [
    "# The Responsible Conduct of Research is finally done!\n",
    "# I have organized all the toturials that I need to go through one by one\n",
    "# I started reading Stellar mass -- halo mass relation and star formation efficiency in high-mass halos\n",
    "# have many many questions for Dr.Moustakas!\n"
   ]
  },
  {
   "cell_type": "markdown",
   "metadata": {},
   "source": [
    "# Wednesday: 24th of May"
   ]
  },
  {
   "cell_type": "code",
   "execution_count": 4,
   "metadata": {
    "collapsed": true
   },
   "outputs": [],
   "source": [
    "# I finished till now the first 5 sections of programming with python and I have recorded aal my notes\n",
    "# on my tutorial notebook.\n",
    "# I attended 30 min of Dr.Moustakas targeting discussions and it was very iteresting. \n",
    "# I got to know a bit more about DESI project\n",
    "# The whole sky is a 41,253 squared degrees and DESI will be surveying 14,000 squared degrees of the sky. why?!"
   ]
  },
  {
   "cell_type": "markdown",
   "metadata": {},
   "source": [
    "# Thrusday: 25th of May"
   ]
  },
  {
   "cell_type": "code",
   "execution_count": null,
   "metadata": {
    "collapsed": true
   },
   "outputs": [],
   "source": [
    "# trying to work out the Halo Mass - BCG Mass graph"
   ]
  },
  {
   "cell_type": "code",
   "execution_count": 101,
   "metadata": {},
   "outputs": [
    {
     "name": "stdout",
     "output_type": "stream",
     "text": [
      "[ 0.15416284  0.7400497   0.26331502]\n",
      "[ 0.53373939  0.01457496  0.91874701]\n"
     ]
    }
   ],
   "source": [
    "seed = 12\n",
    "rand = np.random.RandomState(seed)\n",
    "print(rand.uniform(size=3))\n",
    "print(rand.uniform(size=3))\n",
    "rand?"
   ]
  },
  {
   "cell_type": "code",
   "execution_count": 33,
   "metadata": {},
   "outputs": [
    {
     "data": {
      "text/plain": [
       "[<matplotlib.lines.Line2D at 0x7f693e0f4fd0>]"
      ]
     },
     "execution_count": 33,
     "metadata": {},
     "output_type": "execute_result"
    },
    {
     "data": {
      "image/png": "[encoded data removed]",
      "text/plain": [
       "<matplotlib.figure.Figure at 0x7f693e2174e0>"
      ]
     },
     "metadata": {},
     "output_type": "display_data"
    }
   ],
   "source": [
    "import random\n",
    "import numpy as np\n",
    "import matplotlib.pyplot as plt \n",
    "from random import randint\n",
    "%matplotlib inline\n",
    "\n",
    "\n",
    "seed = 123\n",
    "rand  = np.random.RandomState(seed)\n",
    "log10Gas = rand.uniform(size=100)\n",
    "\n",
    "n = 100\n",
    "#log10Gas = f * totalLog10Halo\n",
    "\n",
    "\n",
    "epsilon = 0.02\n",
    "bcgMass = epsilon * log10Gas\n",
    "\n",
    "log10Halo = np.linspace(12, 14, n)\n",
    "\n",
    "leftGas = log10Gas - bcgMass\n",
    "\n",
    "totalLog10Halo = leftGas + log10Halo\n",
    "\n",
    "\n",
    "plt.plot(totalLog10Halo, bcgMass, 'ro')\n",
    "\n",
    "\n",
    "coefficients = np.polyfit(totalLog10Halo, bcgMass, 1)\n",
    "\n",
    "\n",
    "plt.plot(totalLog10Halo, totalLog10Halo*coefficients[0] + coefficients[1], 'b')"
   ]
  },
  {
   "cell_type": "code",
   "execution_count": null,
   "metadata": {
    "collapsed": true
   },
   "outputs": [],
   "source": [
    "import random\n",
    "import numpy as np\n",
    "import matplotlib.pyplot as plt \n",
    "from random import randint\n",
    "%matplotlib inline"
   ]
  },
  {
   "cell_type": "code",
   "execution_count": null,
   "metadata": {
    "collapsed": true
   },
   "outputs": [],
   "source": [
    "seed = 123\n",
    "rand  = np.random.RandomState(seed)\n",
    "#log10Halo = rand.uniform(13, 15, 1)\n",
    "\n",
    "#log10Halo1 = np.ones(50)*log10Halo\n",
    "\n",
    "\n",
    "n = 50\n",
    "log10Halo1 = np.linspace(13, 15, n)\n",
    "\n",
    "epsilon = np.linspace(0.01, 0.5, n)\n",
    "\n",
    "fraction = np.linspace(0.1, 0.5, n)\n",
    "\n",
    "\n",
    "\n",
    "totalLog10gas = fraction * log10Halo1\n",
    "\n",
    "bcg = epsilon * totalLog10gas\n",
    "\n",
    "#leftHalo = log10Halo1 - totalLog10gas"
   ]
  },
  {
   "cell_type": "code",
   "execution_count": 18,
   "metadata": {},
   "outputs": [
    {
     "data": {
      "text/plain": [
       "[<matplotlib.lines.Line2D at 0x7fbac2567cf8>]"
      ]
     },
     "execution_count": 18,
     "metadata": {},
     "output_type": "execute_result"
    },
    {
     "data": {
      "image/png": "[encoded data removed]",
      "text/plain": [
       "<matplotlib.figure.Figure at 0x7fbac29b24a8>"
      ]
     },
     "metadata": {},
     "output_type": "display_data"
    }
   ],
   "source": [
    "plt.plot(log10Halo1, bcg, 'ro')\n",
    "\n",
    "\n",
    "coefficients = np.polyfit(log10Halo1, bcg, 1)\n",
    "\n",
    "\n",
    "plt.plot(log10Halo1, log10Halo1*coefficients[0] + coefficients[1], 'b')"
   ]
  },
  {
   "cell_type": "markdown",
   "metadata": {
    "collapsed": true
   },
   "source": [
    "# Sunday: 28th of May"
   ]
  },
  {
   "cell_type": "markdown",
   "metadata": {
    "collapsed": true
   },
   "source": [
    "watched a couble of videos to understand what is the difference btw Bayesian vs Frequentist and Bayes Theorem\n",
    "started wathcing: Astro Hack Week 2016: Frequentist and Bayesian Statistics with David Hogg\n",
    "started section 5 of programming with Python Toturial"
   ]
  },
  {
   "cell_type": "markdown",
   "metadata": {},
   "source": [
    "# Monday: 29th of May "
   ]
  },
  {
   "cell_type": "code",
   "execution_count": 5,
   "metadata": {
    "collapsed": true
   },
   "outputs": [],
   "source": [
    "# working again on the Kravtsov A vs Gonzalez A graph\n",
    "\n",
    "import numpy as np\n",
    "import matplotlib.pyplot as plt\n",
    "%matplotlib inline"
   ]
  },
  {
   "cell_type": "code",
   "execution_count": 6,
   "metadata": {
    "collapsed": true
   },
   "outputs": [],
   "source": [
    "# Krovstav paper table 2 columns 7 and 9\n",
    "\n",
    "M500_K = np.array([15.6, 10.3, 7, 5.34, 2.35, 1.86, 1.34, 0.46, 0.47])*1e14\n",
    "MBCG_K = np.array([3.12, 4.14, 3.06, 1.47, 0.79, 1.26, 1.09, 0.91, 1.38])*1e12"
   ]
  },
  {
   "cell_type": "code",
   "execution_count": 7,
   "metadata": {
    "collapsed": true
   },
   "outputs": [],
   "source": [
    "# Gonzalez paper table 2 columns 4(where we will take the luminosity and multiply it by Υ*=2.65) and 7\n",
    "\n",
    "M500_G = np.array([2.35, 5.37, 0.99, 3.6, 3.73, 1.03, 0.99, 3.37, 2.36, 2.51, 2.47, 1.51])*1e14\n",
    "LBCG_ICL_G = np.array([0.84, 0.87, 0.33, 0.57, 0.85, 0.60, 0.86, 0.93, 0.71, 0.81, 0.7, 0.57])*2.65*1e12"
   ]
  },
  {
   "cell_type": "code",
   "execution_count": 9,
   "metadata": {},
   "outputs": [
    {
     "data": {
      "text/plain": [
       "<matplotlib.text.Text at 0x7f4d20d2c400>"
      ]
     },
     "execution_count": 9,
     "metadata": {},
     "output_type": "execute_result"
    },
    {
     "data": {
      "image/png": "[encoded data removed]",
      "text/plain": [
       "<matplotlib.figure.Figure at 0x7f4d20b2f3c8>"
      ]
     },
     "metadata": {},
     "output_type": "display_data"
    }
   ],
   "source": [
    "fig, ax = plt.subplots()\n",
    "\n",
    "ax.plot(x, y,'ro')\n",
    "ax.plot(xg, yg,'bs')\n",
    "\n",
    "ax.set_xscale('log')\n",
    "ax.set_yscale('log')\n",
    "\n",
    "ax.set_xlabel('M_500 (M_Solarmasses)')\n",
    "ax.set_ylabel('M_BCG (M_Solarmasses)')\n",
    "\n",
    "#ax.set_xlim(2e13, 2e15)\n",
    "#ax.set_ylim(5e10, 2e13)"
   ]
  },
  {
   "cell_type": "markdown",
   "metadata": {
    "collapsed": true
   },
   "source": [
    "# Tuesday: 30th of May"
   ]
  },
  {
   "cell_type": "markdown",
   "metadata": {},
   "source": [
    "* We learned about the differences between Krovstav's graph and Gonazalez Graph and that the reseaon is due eaither to different measuring systems or due to different measured data(for example it can change when the ICL is included or excluded)\n",
    "\n",
    "* we worked step by step the math of mass halo - mass BCG\n",
    "\n",
    "* I am on Section 3 of the unix shell toturial and recording my summary on a text notebook!\n"
   ]
  },
  {
   "cell_type": "markdown",
   "metadata": {},
   "source": [
    "# Wednesday: 31st of May"
   ]
  },
  {
   "cell_type": "code",
   "execution_count": 119,
   "metadata": {
    "collapsed": true
   },
   "outputs": [],
   "source": [
    "import random\n",
    "from numpy import *\n",
    "import matplotlib.pyplot as plt \n",
    "from random import randint\n",
    "%matplotlib inline\n",
    "import math\n",
    "from statistics import mean\n",
    "from matplotlib import style\n",
    "from scipy.interpolate import *"
   ]
  },
  {
   "cell_type": "code",
   "execution_count": 120,
   "metadata": {},
   "outputs": [],
   "source": [
    "n = 30\n",
    "logmHalo = np.linspace(12.0,14.0,n) \n",
    "\n",
    "# I need to know what will happen if I change the fraction to be a variable\n",
    "fraction = 1/3.0\n",
    "mGas = fraction * logmHalo\n",
    "\n",
    "seed = 123\n",
    "rand  = np.random.RandomState(seed)\n",
    "variable = rand.uniform(0.0, 1.0, 30)\n",
    "\n",
    "epsilon = logmHalo**variable\n",
    "\n",
    "logEpsilon = np.log10(epsilon)\n",
    "    \n",
    "mBCG = epsilon * mGas\n",
    "\n",
    "logMgas = math.log10(fraction) + mGas\n",
    "\n",
    "\n",
    "logMBCG = []\n",
    "for xx in logEpsilon:\n",
    "    logMBCG.append(xx + logMgas)    \n"
   ]
  },
  {
   "cell_type": "code",
   "execution_count": 127,
   "metadata": {},
   "outputs": [
    {
     "data": {
      "text/plain": [
       "<matplotlib.text.Text at 0x7f14dee50898>"
      ]
     },
     "execution_count": 127,
     "metadata": {},
     "output_type": "execute_result"
    },
    {
     "data": {
      "image/png": "[encoded data removed]",
      "text/plain": [
       "<matplotlib.figure.Figure at 0x7f14de7ab8d0>"
      ]
     },
     "metadata": {},
     "output_type": "display_data"
    }
   ],
   "source": [
    "fig, ax = plt.subplots()\n",
    "\n",
    "ax.plot(logmHalo, logMBCG,'ro')\n",
    "p1 = polyfit(logmHalo, logMBCG, 1)\n",
    "ax.plot(logmHalo, polyval(p1,logmHalo), 'b-')\n",
    "\n",
    "ax.set_xscale('log')\n",
    "ax.set_yscale('log')\n",
    "\n",
    "ax.set_xlabel('M_Halo (M_Solarmasses)')\n",
    "ax.set_ylabel('M_BCG (M_Solarmasses)')\n",
    "\n"
   ]
  },
  {
   "cell_type": "code",
   "execution_count": 56,
   "metadata": {
    "collapsed": true
   },
   "outputs": [],
   "source": [
    "import random\n",
    "import numpy as np\n",
    "import matplotlib.pyplot as plt \n",
    "from random import randint\n",
    "%matplotlib inline\n",
    "import math\n",
    "from operator import add\n"
   ]
  },
  {
   "cell_type": "code",
   "execution_count": 85,
   "metadata": {},
   "outputs": [],
   "source": [
    "n = 10\n",
    "logmHalo = np.linspace(12.0,14.0,n) \n",
    "\n",
    "fraction = np.linspace(0.1,1.0,3) \n",
    "logFraction = np.log10(fraction)\n",
    "\n",
    "mGas = []\n",
    "for yy in fraction:\n",
    "    mGas.append(yy*logmHalo)\n",
    "# mGas now has 3 different arrays for different fractions\n",
    "\n",
    "seed = 123\n",
    "rand  = np.random.RandomState(seed)\n",
    "variable = rand.uniform(0.0, 1.0, 10)\n",
    "\n",
    "epsilon = logmHalo**variable\n",
    "\n",
    "logEpsilon = np.log10(epsilon)  \n",
    "mBCG = epsilon * mGas\n",
    "\n",
    "\n",
    "logMgas = []\n",
    "for num in logFraction:\n",
    "    logMgas.append(num + mGas)\n",
    "# logMgas is now 3 arrays, each array contains 3 arrays \n",
    "\n",
    "\n",
    "\n",
    "logMBCG = []\n",
    "for xx in logEpsilon:\n",
    "    logMBCG.append(xx + logMgas)"
   ]
  },
  {
   "cell_type": "code",
   "execution_count": 72,
   "metadata": {},
   "outputs": [
    {
     "ename": "ValueError",
     "evalue": "x and y can be no greater than 2-D, but have shapes (50,) and (50, 3, 3, 50)",
     "output_type": "error",
     "traceback": [
      "\u001b[0;31m---------------------------------------------------------------------------\u001b[0m",
      "\u001b[0;31mValueError\u001b[0m                                Traceback (most recent call last)",
      "\u001b[0;32m<ipython-input-72-fdbbd21021e9>\u001b[0m in \u001b[0;36m<module>\u001b[0;34m()\u001b[0m\n\u001b[1;32m      1\u001b[0m \u001b[0mfig\u001b[0m\u001b[0;34m,\u001b[0m \u001b[0max\u001b[0m \u001b[0;34m=\u001b[0m \u001b[0mplt\u001b[0m\u001b[0;34m.\u001b[0m\u001b[0msubplots\u001b[0m\u001b[0;34m(\u001b[0m\u001b[0;34m)\u001b[0m\u001b[0;34m\u001b[0m\u001b[0m\n\u001b[1;32m      2\u001b[0m \u001b[0;34m\u001b[0m\u001b[0m\n\u001b[0;32m----> 3\u001b[0;31m \u001b[0max\u001b[0m\u001b[0;34m.\u001b[0m\u001b[0mplot\u001b[0m\u001b[0;34m(\u001b[0m\u001b[0mlogmHalo\u001b[0m\u001b[0;34m,\u001b[0m \u001b[0mlogMBCG\u001b[0m\u001b[0;34m,\u001b[0m\u001b[0;34m'ro'\u001b[0m\u001b[0;34m)\u001b[0m\u001b[0;34m\u001b[0m\u001b[0m\n\u001b[0m\u001b[1;32m      4\u001b[0m \u001b[0;34m\u001b[0m\u001b[0m\n\u001b[1;32m      5\u001b[0m \u001b[0max\u001b[0m\u001b[0;34m.\u001b[0m\u001b[0mset_xscale\u001b[0m\u001b[0;34m(\u001b[0m\u001b[0;34m'log'\u001b[0m\u001b[0;34m)\u001b[0m\u001b[0;34m\u001b[0m\u001b[0m\n",
      "\u001b[0;32m/usr/local/anaconda3/envs/py35/lib/python3.6/site-packages/matplotlib/__init__.py\u001b[0m in \u001b[0;36minner\u001b[0;34m(ax, *args, **kwargs)\u001b[0m\n\u001b[1;32m   1896\u001b[0m                     warnings.warn(msg % (label_namer, func.__name__),\n\u001b[1;32m   1897\u001b[0m                                   RuntimeWarning, stacklevel=2)\n\u001b[0;32m-> 1898\u001b[0;31m             \u001b[0;32mreturn\u001b[0m \u001b[0mfunc\u001b[0m\u001b[0;34m(\u001b[0m\u001b[0max\u001b[0m\u001b[0;34m,\u001b[0m \u001b[0;34m*\u001b[0m\u001b[0margs\u001b[0m\u001b[0;34m,\u001b[0m \u001b[0;34m**\u001b[0m\u001b[0mkwargs\u001b[0m\u001b[0;34m)\u001b[0m\u001b[0;34m\u001b[0m\u001b[0m\n\u001b[0m\u001b[1;32m   1899\u001b[0m         \u001b[0mpre_doc\u001b[0m \u001b[0;34m=\u001b[0m \u001b[0minner\u001b[0m\u001b[0;34m.\u001b[0m\u001b[0m__doc__\u001b[0m\u001b[0;34m\u001b[0m\u001b[0m\n\u001b[1;32m   1900\u001b[0m         \u001b[0;32mif\u001b[0m \u001b[0mpre_doc\u001b[0m \u001b[0;32mis\u001b[0m \u001b[0;32mNone\u001b[0m\u001b[0;34m:\u001b[0m\u001b[0;34m\u001b[0m\u001b[0m\n",
      "\u001b[0;32m/usr/local/anaconda3/envs/py35/lib/python3.6/site-packages/matplotlib/axes/_axes.py\u001b[0m in \u001b[0;36mplot\u001b[0;34m(self, *args, **kwargs)\u001b[0m\n\u001b[1;32m   1404\u001b[0m         \u001b[0mkwargs\u001b[0m \u001b[0;34m=\u001b[0m \u001b[0mcbook\u001b[0m\u001b[0;34m.\u001b[0m\u001b[0mnormalize_kwargs\u001b[0m\u001b[0;34m(\u001b[0m\u001b[0mkwargs\u001b[0m\u001b[0;34m,\u001b[0m \u001b[0m_alias_map\u001b[0m\u001b[0;34m)\u001b[0m\u001b[0;34m\u001b[0m\u001b[0m\n\u001b[1;32m   1405\u001b[0m \u001b[0;34m\u001b[0m\u001b[0m\n\u001b[0;32m-> 1406\u001b[0;31m         \u001b[0;32mfor\u001b[0m \u001b[0mline\u001b[0m \u001b[0;32min\u001b[0m \u001b[0mself\u001b[0m\u001b[0;34m.\u001b[0m\u001b[0m_get_lines\u001b[0m\u001b[0;34m(\u001b[0m\u001b[0;34m*\u001b[0m\u001b[0margs\u001b[0m\u001b[0;34m,\u001b[0m \u001b[0;34m**\u001b[0m\u001b[0mkwargs\u001b[0m\u001b[0;34m)\u001b[0m\u001b[0;34m:\u001b[0m\u001b[0;34m\u001b[0m\u001b[0m\n\u001b[0m\u001b[1;32m   1407\u001b[0m             \u001b[0mself\u001b[0m\u001b[0;34m.\u001b[0m\u001b[0madd_line\u001b[0m\u001b[0;34m(\u001b[0m\u001b[0mline\u001b[0m\u001b[0;34m)\u001b[0m\u001b[0;34m\u001b[0m\u001b[0m\n\u001b[1;32m   1408\u001b[0m             \u001b[0mlines\u001b[0m\u001b[0;34m.\u001b[0m\u001b[0mappend\u001b[0m\u001b[0;34m(\u001b[0m\u001b[0mline\u001b[0m\u001b[0;34m)\u001b[0m\u001b[0;34m\u001b[0m\u001b[0m\n",
      "\u001b[0;32m/usr/local/anaconda3/envs/py35/lib/python3.6/site-packages/matplotlib/axes/_base.py\u001b[0m in \u001b[0;36m_grab_next_args\u001b[0;34m(self, *args, **kwargs)\u001b[0m\n\u001b[1;32m    405\u001b[0m                 \u001b[0;32mreturn\u001b[0m\u001b[0;34m\u001b[0m\u001b[0m\n\u001b[1;32m    406\u001b[0m             \u001b[0;32mif\u001b[0m \u001b[0mlen\u001b[0m\u001b[0;34m(\u001b[0m\u001b[0mremaining\u001b[0m\u001b[0;34m)\u001b[0m \u001b[0;34m<=\u001b[0m \u001b[0;36m3\u001b[0m\u001b[0;34m:\u001b[0m\u001b[0;34m\u001b[0m\u001b[0m\n\u001b[0;32m--> 407\u001b[0;31m                 \u001b[0;32mfor\u001b[0m \u001b[0mseg\u001b[0m \u001b[0;32min\u001b[0m \u001b[0mself\u001b[0m\u001b[0;34m.\u001b[0m\u001b[0m_plot_args\u001b[0m\u001b[0;34m(\u001b[0m\u001b[0mremaining\u001b[0m\u001b[0;34m,\u001b[0m \u001b[0mkwargs\u001b[0m\u001b[0;34m)\u001b[0m\u001b[0;34m:\u001b[0m\u001b[0;34m\u001b[0m\u001b[0m\n\u001b[0m\u001b[1;32m    408\u001b[0m                     \u001b[0;32myield\u001b[0m \u001b[0mseg\u001b[0m\u001b[0;34m\u001b[0m\u001b[0m\n\u001b[1;32m    409\u001b[0m                 \u001b[0;32mreturn\u001b[0m\u001b[0;34m\u001b[0m\u001b[0m\n",
      "\u001b[0;32m/usr/local/anaconda3/envs/py35/lib/python3.6/site-packages/matplotlib/axes/_base.py\u001b[0m in \u001b[0;36m_plot_args\u001b[0;34m(self, tup, kwargs)\u001b[0m\n\u001b[1;32m    383\u001b[0m             \u001b[0mx\u001b[0m\u001b[0;34m,\u001b[0m \u001b[0my\u001b[0m \u001b[0;34m=\u001b[0m \u001b[0mindex_of\u001b[0m\u001b[0;34m(\u001b[0m\u001b[0mtup\u001b[0m\u001b[0;34m[\u001b[0m\u001b[0;34m-\u001b[0m\u001b[0;36m1\u001b[0m\u001b[0;34m]\u001b[0m\u001b[0;34m)\u001b[0m\u001b[0;34m\u001b[0m\u001b[0m\n\u001b[1;32m    384\u001b[0m \u001b[0;34m\u001b[0m\u001b[0m\n\u001b[0;32m--> 385\u001b[0;31m         \u001b[0mx\u001b[0m\u001b[0;34m,\u001b[0m \u001b[0my\u001b[0m \u001b[0;34m=\u001b[0m \u001b[0mself\u001b[0m\u001b[0;34m.\u001b[0m\u001b[0m_xy_from_xy\u001b[0m\u001b[0;34m(\u001b[0m\u001b[0mx\u001b[0m\u001b[0;34m,\u001b[0m \u001b[0my\u001b[0m\u001b[0;34m)\u001b[0m\u001b[0;34m\u001b[0m\u001b[0m\n\u001b[0m\u001b[1;32m    386\u001b[0m \u001b[0;34m\u001b[0m\u001b[0m\n\u001b[1;32m    387\u001b[0m         \u001b[0;32mif\u001b[0m \u001b[0mself\u001b[0m\u001b[0;34m.\u001b[0m\u001b[0mcommand\u001b[0m \u001b[0;34m==\u001b[0m \u001b[0;34m'plot'\u001b[0m\u001b[0;34m:\u001b[0m\u001b[0;34m\u001b[0m\u001b[0m\n",
      "\u001b[0;32m/usr/local/anaconda3/envs/py35/lib/python3.6/site-packages/matplotlib/axes/_base.py\u001b[0m in \u001b[0;36m_xy_from_xy\u001b[0;34m(self, x, y)\u001b[0m\n\u001b[1;32m    245\u001b[0m         \u001b[0;32mif\u001b[0m \u001b[0mx\u001b[0m\u001b[0;34m.\u001b[0m\u001b[0mndim\u001b[0m \u001b[0;34m>\u001b[0m \u001b[0;36m2\u001b[0m \u001b[0;32mor\u001b[0m \u001b[0my\u001b[0m\u001b[0;34m.\u001b[0m\u001b[0mndim\u001b[0m \u001b[0;34m>\u001b[0m \u001b[0;36m2\u001b[0m\u001b[0;34m:\u001b[0m\u001b[0;34m\u001b[0m\u001b[0m\n\u001b[1;32m    246\u001b[0m             raise ValueError(\"x and y can be no greater than 2-D, but have \"\n\u001b[0;32m--> 247\u001b[0;31m                              \"shapes {} and {}\".format(x.shape, y.shape))\n\u001b[0m\u001b[1;32m    248\u001b[0m \u001b[0;34m\u001b[0m\u001b[0m\n\u001b[1;32m    249\u001b[0m         \u001b[0;32mif\u001b[0m \u001b[0mx\u001b[0m\u001b[0;34m.\u001b[0m\u001b[0mndim\u001b[0m \u001b[0;34m==\u001b[0m \u001b[0;36m1\u001b[0m\u001b[0;34m:\u001b[0m\u001b[0;34m\u001b[0m\u001b[0m\n",
      "\u001b[0;31mValueError\u001b[0m: x and y can be no greater than 2-D, but have shapes (50,) and (50, 3, 3, 50)"
     ]
    },
    {
     "data": {
      "image/png": "[encoded data removed]",
      "text/plain": [
       "<matplotlib.figure.Figure at 0x7f14eb0cfef0>"
      ]
     },
     "metadata": {},
     "output_type": "display_data"
    }
   ],
   "source": [
    "fig, ax = plt.subplots()\n",
    "\n",
    "ax.plot(logmHalo, logMBCG,'ro')\n",
    "\n",
    "ax.set_xscale('log')\n",
    "ax.set_yscale('log')\n",
    "\n",
    "ax.set_xlabel('M_Halo (M_Solarmasses)')\n",
    "ax.set_ylabel('M_BCG (M_Solarmasses)')\n"
   ]
  },
  {
   "cell_type": "code",
   "execution_count": 142,
   "metadata": {
    "collapsed": true
   },
   "outputs": [],
   "source": [
    "import random\n",
    "from numpy import *\n",
    "import matplotlib.pyplot as plt \n",
    "from random import randint\n",
    "%matplotlib inline\n",
    "import math\n",
    "from operator import add\n",
    "from scipy.interpolate import *"
   ]
  },
  {
   "cell_type": "code",
   "execution_count": 143,
   "metadata": {
    "collapsed": true
   },
   "outputs": [],
   "source": [
    "n = 10\n",
    "logmHalo = np.linspace(12.0,14.0,n) \n",
    "\n",
    "# I need to know what will happen if I change the fraction to be a variable\n",
    "fraction = 0.1\n",
    "mGas = fraction * logmHalo\n",
    "\n",
    "seed = 123\n",
    "rand  = np.random.RandomState(seed)\n",
    "variable = rand.uniform(0.0, 1.0, 10)\n",
    "\n",
    "epsilon = logmHalo**variable\n",
    "\n",
    "logEpsilon = np.log10(epsilon)\n",
    "    \n",
    "mBCG = epsilon * mGas\n",
    "\n",
    "logMgas = math.log10(fraction) + mGas\n",
    "\n",
    "\n",
    "logMBCG = []\n",
    "for xx in logEpsilon:\n",
    "    logMBCG.append(xx + logMgas)    \n"
   ]
  },
  {
   "cell_type": "code",
   "execution_count": 144,
   "metadata": {
    "collapsed": true
   },
   "outputs": [],
   "source": [
    "n = 10\n",
    "logmHalo1 = np.linspace(12.0,14.0,n) \n",
    "\n",
    "# I need to know what will happen if I change the fraction to be a variable\n",
    "fraction1 = 0.2\n",
    "mGas1 = fraction1 * logmHalo1\n",
    "\n",
    "seed = 123\n",
    "rand  = np.random.RandomState(seed)\n",
    "variable1 = rand.uniform(0.0, 1.0, 10)\n",
    "\n",
    "epsilon1 = logmHalo1**variable1\n",
    "\n",
    "logEpsilon1 = np.log10(epsilon1)\n",
    "    \n",
    "mBCG1 = epsilon1 * mGas1\n",
    "\n",
    "logMgas1 = math.log10(fraction1) + mGas1\n",
    "\n",
    "\n",
    "logMBCG1 = []\n",
    "for xx in logEpsilon1:\n",
    "    logMBCG1.append(xx + logMgas1)    \n"
   ]
  },
  {
   "cell_type": "code",
   "execution_count": 145,
   "metadata": {
    "collapsed": true
   },
   "outputs": [],
   "source": [
    "n = 10\n",
    "logmHalo2 = np.linspace(12.0,14.0,n) \n",
    "\n",
    "# I need to know what will happen if I change the fraction to be a variable\n",
    "fraction2 = 0.3\n",
    "mGas2 = fraction2 * logmHalo2\n",
    "\n",
    "seed = 123\n",
    "rand  = np.random.RandomState(seed)\n",
    "variable2 = rand.uniform(0.0, 1.0, 10)\n",
    "\n",
    "epsilon2 = logmHalo2**variable2\n",
    "\n",
    "logEpsilon2 = np.log10(epsilon2)\n",
    "    \n",
    "mBCG2 = epsilon2 * mGas2\n",
    "\n",
    "logMgas2 = math.log10(fraction2) + mGas2\n",
    "\n",
    "\n",
    "logMBCG2 = []\n",
    "for xx in logEpsilon2:\n",
    "    logMBCG2.append(xx + logMgas2)    \n"
   ]
  },
  {
   "cell_type": "code",
   "execution_count": 146,
   "metadata": {},
   "outputs": [
    {
     "data": {
      "text/plain": [
       "<matplotlib.text.Text at 0x7f14dcc4b588>"
      ]
     },
     "execution_count": 146,
     "metadata": {},
     "output_type": "execute_result"
    },
    {
     "data": {
      "image/png": "[encoded data removed]",
      "text/plain": [
       "<matplotlib.figure.Figure at 0x7f14dcc39d68>"
      ]
     },
     "metadata": {},
     "output_type": "display_data"
    }
   ],
   "source": [
    "fig, ax = plt.subplots()\n",
    "\n",
    "ax.plot(logmHalo, logMBCG,'ro')\n",
    "p1 = polyfit(logmHalo, logMBCG, 1)\n",
    "ax.plot(logmHalo, polyval(p1,logmHalo), 'b-')\n",
    "\n",
    "ax.plot(logmHalo1, logMBCG1,'ro')\n",
    "p2 = polyfit(logmHalo1, logMBCG1, 1)\n",
    "ax.plot(logmHalo1, polyval(p2,logmHalo1), 'b-')\n",
    "\n",
    "ax.plot(logmHalo2, logMBCG2,'ro')\n",
    "p3 = polyfit(logmHalo2, logMBCG2, 1)\n",
    "ax.plot(logmHalo2, polyval(p3,logmHalo2), 'b-')\n",
    "\n",
    "\n",
    "ax.set_xscale('log')\n",
    "ax.set_yscale('log')\n",
    "\n",
    "ax.set_xlabel('M_Halo (M_Solarmasses)')\n",
    "ax.set_ylabel('M_BCG (M_Solarmasses)')"
   ]
  },
  {
   "cell_type": "code",
   "execution_count": 158,
   "metadata": {
    "collapsed": true
   },
   "outputs": [],
   "source": [
    "def getMstar(logMhalo, f=0.1, epsilon0=0.1, alpha=1.0, Mscale=1E14):\n",
    "    logMstar = np.log10(f) + np.log10(epsilon0) - np.log10(Mscale) + (alpha + 1) * logMhalo\n",
    "    return logMstar"
   ]
  },
  {
   "cell_type": "code",
   "execution_count": 159,
   "metadata": {
    "collapsed": true
   },
   "outputs": [],
   "source": [
    "logMhalo = np.linspace(13, 15, 20)\n",
    "logMstar = getMstar(logMhalo)"
   ]
  },
  {
   "cell_type": "code",
   "execution_count": 162,
   "metadata": {
    "collapsed": true
   },
   "outputs": [],
   "source": [
    "# Choose a range of epsilon0 values.\n",
    "epsilon0 = np.array([0.1, 0.3, 0.5, 0.7])"
   ]
  },
  {
   "cell_type": "code",
   "execution_count": 175,
   "metadata": {
    "collapsed": true
   },
   "outputs": [],
   "source": [
    "def efficiency_plot(logMhalo, epsilon0_grid, alpha):\n",
    "    fig, ax = plt.subplots()\n",
    "    for ee in epsilon0:\n",
    "        ax.plot(logMhalo, getMstar(logMhalo, epsilon0=ee, alpha=alpha), label=r'$\\epsilon = {:.1f}$'.format(ee))\n",
    "    ax.legend(loc='upper left')\n",
    "    ax.set_xlabel(r'$\\log_{10}\\ (M_{halo} / M_{\\odot})$')\n",
    "    ax.set_ylabel(r'$\\log_{10}\\ (M_{*} / M_{\\odot})$')\n",
    "    #ax.set_xlim(12.5, 15.5)\n",
    "    #ax.set_ylim(9.5, 15)\n",
    "    ax.set_title(r'$\\alpha = {:.0f}$'.format(alpha))"
   ]
  },
  {
   "cell_type": "code",
   "execution_count": 176,
   "metadata": {},
   "outputs": [
    {
     "data": {
      "image/png": "[encoded data removed]",
      "text/plain": [
       "<matplotlib.figure.Figure at 0x7f14dc642550>"
      ]
     },
     "metadata": {},
     "output_type": "display_data"
    }
   ],
   "source": [
    "efficiency_plot(logMhalo, epsilon0, alpha=1.0)"
   ]
  },
  {
   "cell_type": "code",
   "execution_count": 177,
   "metadata": {},
   "outputs": [
    {
     "data": {
      "image/png": "[encoded data removed]",
      "text/plain": [
       "<matplotlib.figure.Figure at 0x7f14dc1e62b0>"
      ]
     },
     "metadata": {},
     "output_type": "display_data"
    }
   ],
   "source": [
    "efficiency_plot(logMhalo, epsilon0, alpha=2.0)"
   ]
  },
  {
   "cell_type": "code",
   "execution_count": null,
   "metadata": {
    "collapsed": true
   },
   "outputs": [],
   "source": []
  }
 ],
 "metadata": {
  "kernelspec": {
   "display_name": "Python 3",
   "language": "python",
   "name": "python3"
  },
  "language_info": {
   "codemirror_mode": {
    "name": "ipython",
    "version": 3
   },
   "file_extension": ".py",
   "mimetype": "text/x-python",
   "name": "python",
   "nbconvert_exporter": "python",
   "pygments_lexer": "ipython3",
   "version": "3.6.1"
  }
 },
 "nbformat": 4,
 "nbformat_minor": 2
}
