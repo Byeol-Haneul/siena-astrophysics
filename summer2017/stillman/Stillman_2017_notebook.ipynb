{
 "cells": [
  {
   "cell_type": "markdown",
   "metadata": {},
   "source": [
    "Coley Stillman Summer Research 2017\n",
    "Note Book:\n"
   ]
  },
  {
   "cell_type": "code",
   "execution_count": 2,
   "metadata": {
    "collapsed": true
   },
   "outputs": [],
   "source": [
    "# python packages\n",
    "import numpy as np\n",
    "import matplotlib.pyplot as plt\n",
    "\n",
    "%matplotlib inline\n"
   ]
  },
  {
   "cell_type": "code",
   "execution_count": 3,
   "metadata": {
    "collapsed": true
   },
   "outputs": [],
   "source": [
    "Numberpoints = 10\n",
    "x = np.linspace(0, Numberpoints, Numberpoints)\n",
    "slope = 3/2.0\n",
    "intercept = 3\n",
    "ytrue = (slope*x)+intercept\n"
   ]
  },
  {
   "cell_type": "code",
   "execution_count": 4,
   "metadata": {
    "collapsed": true
   },
   "outputs": [],
   "source": [
    "ynoise = ytrue+(np.random.normal(scale = 0.5, size = Numberpoints)) "
   ]
  },
  {
   "cell_type": "code",
   "execution_count": 5,
   "metadata": {},
   "outputs": [
    {
     "name": "stdout",
     "output_type": "stream",
     "text": [
      "[ 1.57385243  2.66422376]\n"
     ]
    },
    {
     "data": {
      "text/plain": [
       "[<matplotlib.lines.Line2D at 0x7feda45eb358>]"
      ]
     },
     "execution_count": 5,
     "metadata": {},
     "output_type": "execute_result"
    },
    {
     "data": {
      "image/png": "[encoded data removed]",
      "text/plain": [
       "<matplotlib.figure.Figure at 0x7feda45a08d0>"
      ]
     },
     "metadata": {},
     "output_type": "display_data"
    }
   ],
   "source": [
    "plt.figure()\n",
    "fit = np.polyfit(x, ynoise, 1)\n",
    "print(fit)\n",
    "\n",
    "plt.scatter(x, ynoise)\n",
    "plt.title('Scatter Plot')\n",
    "plt.plot(x,x*fit[0]+fit[1],'r')"
   ]
  },
  {
   "cell_type": "code",
   "execution_count": 22,
   "metadata": {},
   "outputs": [
    {
     "name": "stdout",
     "output_type": "stream",
     "text": [
      "[  2.00000009e+00   2.99999305e+00   1.00023289e+00   1.01486179e+00\n",
      "   3.99997799e+05]\n"
     ]
    },
    {
     "data": {
      "text/plain": [
       "[<matplotlib.lines.Line2D at 0x7fed9a26a5f8>]"
      ]
     },
     "execution_count": 22,
     "metadata": {},
     "output_type": "execute_result"
    },
    {
     "data": {
      "image/png": "[encoded data removed]",
      "text/plain": [
       "<matplotlib.figure.Figure at 0x7feda1897da0>"
      ]
     },
     "metadata": {},
     "output_type": "display_data"
    }
   ],
   "source": [
    "Numberpoints = 40\n",
    "x = np.linspace(-Numberpoints, Numberpoints, Numberpoints)\n",
    "\n",
    "ytrue = 2*((x**4)+200000)+3*(x**3)+(x**2)+x-2\n",
    "ynoise = ytrue+(np.random.normal(scale = 0.5, size = Numberpoints)) \n",
    "plt.figure()\n",
    "fit = np.polyfit(x, ynoise, 4)\n",
    "print(fit)\n",
    "\n",
    "plt.scatter(x, ynoise)\n",
    "plt.title('Scatter Plot')\n",
    "plt.plot(x, ((fit[0]*((x**4.0)+200000)+3*(x**3.0)+(x**2)+x))+fit[1],'r')"
   ]
  },
  {
   "cell_type": "markdown",
   "metadata": {},
   "source": [
    "# Monday 5/22/2017\n",
    "worked from 9 - 12, 12:30 - 5 \n",
    "\n",
    "Completed:\n",
    "The Unix Shell tutorial, \n",
    "Programming with Python, \n",
    "NSF responsible concduct of research, \n",
    "version control with git.\n",
    "\n",
    "Made above plot succesfully."
   ]
  },
  {
   "cell_type": "markdown",
   "metadata": {},
   "source": [
    "# Tuesday 5/22/2017\n",
    "\n",
    "Completed:\n",
    "Scipy lecture notes - begun to learn,\n",
    "Reading on board - completed,\n",
    "Practical python for astronomers - begun to learn.\n",
    "\n",
    "Also get up to speed on project."
   ]
  },
  {
   "cell_type": "markdown",
   "metadata": {},
   "source": [
    "# Wednesday 5/22/2017\n",
    "\n",
    "Completed: \n",
    "prospector tutorial, \n",
    "python dictionary tutorial. \n",
    "Note: do not close github repositorys into git hub repositorys. \n",
    "Begun to install / understand prospector pipeline.\n",
    "\n",
    "Spent some time going over prospector code. Ran into some errors and will tackle tomorrow. Errors include missing files and import data. Simple fixes but i do not know how to tackle. "
   ]
  },
  {
   "cell_type": "markdown",
   "metadata": {},
   "source": [
    "# Thursday 5/22/2017\n",
    "\n"
   ]
  },
  {
   "cell_type": "markdown",
   "metadata": {},
   "source": [
    "# Friday 5/22/2017\n",
    "\n"
   ]
  },
  {
   "cell_type": "code",
   "execution_count": null,
   "metadata": {
    "collapsed": true
   },
   "outputs": [],
   "source": [
    " "
   ]
  },
  {
   "cell_type": "code",
   "execution_count": null,
   "metadata": {
    "collapsed": true
   },
   "outputs": [],
   "source": []
  }
 ],
 "metadata": {
  "kernelspec": {
   "display_name": "Python 3",
   "language": "python",
   "name": "python3"
  },
  "language_info": {
   "codemirror_mode": {
    "name": "ipython",
    "version": 3
   },
   "file_extension": ".py",
   "mimetype": "text/x-python",
   "name": "python",
   "nbconvert_exporter": "python",
   "pygments_lexer": "ipython3",
   "version": "3.6.1"
  }
 },
 "nbformat": 4,
 "nbformat_minor": 2
}
