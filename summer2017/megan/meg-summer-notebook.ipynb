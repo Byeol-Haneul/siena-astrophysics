{
 "cells": [
  {
   "cell_type": "markdown",
   "metadata": {},
   "source": [
    "# Megan's Summer 2017 Notebook"
   ]
  },
  {
   "cell_type": "markdown",
   "metadata": {},
   "source": [
    "Hello! This is my notebook for the summer where I will record everything I learned and what I worked on. I am going to try to log in it every day, but I make no promises!"
   ]
  },
  {
   "cell_type": "code",
   "execution_count": 2,
   "metadata": {
    "collapsed": true
   },
   "outputs": [],
   "source": [
    "import numpy as np\n",
    "import matplotlib.pyplot as plt\n",
    "%matplotlib inline"
   ]
  },
  {
   "cell_type": "markdown",
   "metadata": {},
   "source": [
    "## Monday 05/22/17"
   ]
  },
  {
   "cell_type": "markdown",
   "metadata": {},
   "source": [
    "Today was the first day of the summer! Most of the day was introductory information laced with Dr. Moustakas' sassafrass. I think our research group has a really fun vibe to it and I am excited for the rest of the summer!\n",
    "\n",
    "In the morning, we started on the tutorials on the siena-astrophysics github page (https://github.com/moustakas/siena-astrophysics). I spent most of my time on the Programming with Python tutorial because it was a much needed review of the material covered in CSIS 200. I hope to get to more of the tutorials from Software Carpentry this week, especially the Unix tutorial.\n",
    "\n",
    "In the afternoon, I began NSF training, which was interesting. Then Dr. Moustakas guided us in creating this notebook and uploading it to GitHub.\n",
    "\n",
    ":)"
   ]
  },
  {
   "cell_type": "code",
   "execution_count": 30,
   "metadata": {
    "collapsed": true
   },
   "outputs": [],
   "source": [
    "# Here's a fun graph we made! Its supposed to be Gaussian noise\n",
    "\n",
    "n = 50\n",
    "x = np.linspace(0, 100, n)\n",
    "slope = 3.14\n",
    "yint = 0\n",
    "y = slope * x**2 + yint"
   ]
  },
  {
   "cell_type": "code",
   "execution_count": 31,
   "metadata": {
    "collapsed": true
   },
   "outputs": [],
   "source": [
    "# Let's add some uncertainty!\n",
    "yuncertainty = y + np.random.normal(scale=0.05 * y, size = n)"
   ]
  },
  {
   "cell_type": "code",
   "execution_count": 32,
   "metadata": {},
   "outputs": [
    {
     "data": {
      "text/plain": [
       "<matplotlib.text.Text at 0x7f684aebc470>"
      ]
     },
     "execution_count": 32,
     "metadata": {},
     "output_type": "execute_result"
    },
    {
     "data": {
      "image/png": "[encoded data removed]",
      "text/plain": [
       "<matplotlib.figure.Figure at 0x7f684b4e2e10>"
      ]
     },
     "metadata": {},
     "output_type": "display_data"
    }
   ],
   "source": [
    "plt.figure()\n",
    "plt.scatter(x, yuncertainty)\n",
    "\n",
    "fit = np.polyfit(x, yuncertainty, 2)\n",
    "# print(fit)\n",
    "\n",
    "plt.plot(x, (x**2)*fit[0] + fit[1], 'r') # Thanks Coley!!\n",
    "plt.title('This is my plot')"
   ]
  },
  {
   "cell_type": "markdown",
   "metadata": {},
   "source": [
    "## Tuesday 05/23/17"
   ]
  },
  {
   "cell_type": "markdown",
   "metadata": {
    "collapsed": true,
    "scrolled": false
   },
   "source": [
    "Today I began the day by wrapping up the NSF training. I started looking into the Unix tutorial, but realized I actually had a pretty good grip on most of the content, so I read what I didn't know and moved on. Then, I finished fitting the plot from yesterday with some help from Coley. Because you can never have enough practice, I plotted another graph below.\n",
    "\n",
    "The afternoon was spent reading various papers and catching up Coley on the project I have been working on with Dr. Moustakas this past semester (spring 2017).\n"
   ]
  },
  {
   "cell_type": "code",
   "execution_count": 33,
   "metadata": {
    "collapsed": true
   },
   "outputs": [],
   "source": [
    "n = 27\n",
    "x = np.linspace(0, 45, n)\n",
    "m = 82\n",
    "b = 17\n",
    "y = m * x + b\n",
    "\n",
    "yuncertainty = y + np.random.normal(scale=0.07 * y, size=n)"
   ]
  },
  {
   "cell_type": "code",
   "execution_count": 34,
   "metadata": {},
   "outputs": [
    {
     "data": {
      "text/plain": [
       "[<matplotlib.lines.Line2D at 0x7f684b76a8d0>]"
      ]
     },
     "execution_count": 34,
     "metadata": {},
     "output_type": "execute_result"
    },
    {
     "data": {
      "image/png": "[encoded data removed]",
      "text/plain": [
       "<matplotlib.figure.Figure at 0x7f684af7aef0>"
      ]
     },
     "metadata": {},
     "output_type": "display_data"
    }
   ],
   "source": [
    "plt.figure()\n",
    "plt.scatter(x, yuncertainty)\n",
    "\n",
    "fit = np.polyfit(x, yuncertainty, 1)\n",
    "# print(fit)\n",
    "\n",
    "plt.plot(x, x * fit[0] + fit[1], 'r')"
   ]
  },
  {
   "cell_type": "code",
   "execution_count": null,
   "metadata": {
    "collapsed": true
   },
   "outputs": [],
   "source": []
  },
  {
   "cell_type": "code",
   "execution_count": null,
   "metadata": {
    "collapsed": true
   },
   "outputs": [],
   "source": []
  }
 ],
 "metadata": {
  "kernelspec": {
   "display_name": "Python 3",
   "language": "python",
   "name": "python3"
  },
  "language_info": {
   "codemirror_mode": {
    "name": "ipython",
    "version": 3
   },
   "file_extension": ".py",
   "mimetype": "text/x-python",
   "name": "python",
   "nbconvert_exporter": "python",
   "pygments_lexer": "ipython3",
   "version": "3.6.1"
  }
 },
 "nbformat": 4,
 "nbformat_minor": 2
}
