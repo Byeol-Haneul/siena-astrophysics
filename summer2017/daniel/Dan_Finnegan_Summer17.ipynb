{
 "cells": [
  {
   "cell_type": "markdown",
   "metadata": {},
   "source": [
    "# Daniel Finnegan Summer 2017 Notebook"
   ]
  },
  {
   "cell_type": "markdown",
   "metadata": {},
   "source": [
    "# Monday May 22nd - - \n",
    "\n",
    "First day of research\n",
    "\n",
    "First we created our notebooks on python here and made practice plots.\n",
    "\n",
    "We went through Git commands on the X-term on how to create our own branches, add files, commit them, and then pushed them to the master branch. "
   ]
  },
  {
   "cell_type": "code",
   "execution_count": 61,
   "metadata": {
    "collapsed": true
   },
   "outputs": [],
   "source": [
    "import numpy as np\n",
    "import matplotlib.pyplot as plt\n",
    "%matplotlib inline"
   ]
  },
  {
   "cell_type": "code",
   "execution_count": 27,
   "metadata": {
    "collapsed": true
   },
   "outputs": [],
   "source": [
    "N = 50\n",
    "x = np.linspace(1,50,N)  #(start, end, number of points)\n",
    "slope = 2\n",
    "intercept = 0\n",
    "ytrue = slope*x+intercept"
   ]
  },
  {
   "cell_type": "code",
   "execution_count": 28,
   "metadata": {
    "collapsed": true
   },
   "outputs": [],
   "source": [
    "ynoisy = ytrue + np.random.normal(scale=0.05*ytrue,size=N)\n",
    "\n",
    "# different way to do the best fit line\n",
    "# fit = np.polyfit(x, ynoisy,1) # 1 is the degree of the polynomial, if plotting x^2 change 1 to 2\n",
    "# print(fit)\n",
    "# plt.plot(x,x*fit(0)+fit(1),'r') # x is also same dimensions as plot. If doing x^2 plot, change x to x^2"
   ]
  },
  {
   "cell_type": "code",
   "execution_count": 29,
   "metadata": {},
   "outputs": [
    {
     "data": {
      "text/plain": [
       "[<matplotlib.lines.Line2D at 0x7f7a8a723588>]"
      ]
     },
     "execution_count": 29,
     "metadata": {},
     "output_type": "execute_result"
    },
    {
     "data": {
      "image/png": "[encoded data removed]",
      "text/plain": [
       "<matplotlib.figure.Figure at 0x7f7a8aa45940>"
      ]
     },
     "metadata": {},
     "output_type": "display_data"
    }
   ],
   "source": [
    "plt.title('Scatter Plot')\n",
    "plt.scatter(x,ynoisy)\n",
    "plt.plot(np.unique(x), np.poly1d(np.polyfit(x, ynoisy, 1))(np.unique(x)),'r')"
   ]
  },
  {
   "cell_type": "markdown",
   "metadata": {
    "collapsed": true
   },
   "source": [
    "# Tuesday May 23rd - -\n",
    "\n",
    "Day two\n",
    "\n",
    "Started the day by beginning to go through Dr. Moustakas' \"To Read\" list. \n",
    "Looked at some of the key differences between Python 2 and the newer Python 3.\n",
    "\n",
    "Read the article Dr. M sent us on \"STELLAR MASS – HALO MASS RELATION AND STAR FORMATION EFFICIENCY IN HIGH-MASS HALOS\"\n",
    "\n",
    "Ghadeer and I had to recreate a plot in an astrophysics article. The plot below was my attempt at starting it with the data we were given in just the article. We need more data and some help from Dr. M to finish it however. "
   ]
  },
  {
   "cell_type": "code",
   "execution_count": 30,
   "metadata": {},
   "outputs": [
    {
     "data": {
      "image/png": "[encoded data removed]",
      "text/plain": [
       "<matplotlib.figure.Figure at 0x7f7a8abebcf8>"
      ]
     },
     "metadata": {},
     "output_type": "display_data"
    }
   ],
   "source": [
    "import matplotlib.pyplot as plt\n",
    "plt.plot([0.47,0.46,1.34,1.86,2.35,5.34,7.00,10.30,15.60],[1.38,0.91,1.09,1.26,0.79,1.47,3.06,4.14,3.12],'ro')\n",
    "plt.axis([-4,18,-1,6])\n",
    "plt.xlabel('M_500 (10^14 M_solarmasses)')\n",
    "plt.ylabel('M_*BCG (10^12 M_solarmasses)')\n",
    "plt.show() \n",
    "\n"
   ]
  },
  {
   "cell_type": "markdown",
   "metadata": {
    "collapsed": true
   },
   "source": [
    "Had to leave for class, came back and read more review on python and article Dr. M gave us. "
   ]
  },
  {
   "cell_type": "markdown",
   "metadata": {
    "collapsed": true
   },
   "source": [
    "# Wednesday May 24th - -\n",
    "\n",
    "Day three of searching for this mysterious new energy source called \"Dark Energy\"\n",
    "\n",
    "Last night when I was reading through some of the tutorials that Dr. M gave us I found one that was a \"Crash Course in Scientific Python: 2D STIS Reduction\"\n",
    "\n",
    "https://python4astronomers.github.io/core/numpy_scipy.html\n",
    "\n",
    "I followed along with the course and completed it, I feel like this is good practice since I will definitely have to make some of my own like this later on. I especially enjoyed looking at how they did the data reduction since I have heard about it being done before but it was fun doing it myself.\n",
    "\n",
    "After I was done with this I continued reading some review on python and then the article Dr. M gave us. Ghadeer and I agreed to continue the plot recreation tomorrow since she had been sitting at the computer longer than I had, since I had the break from my class, and her eyes were starting to bother her. This was fine with me since we can take a fresh look at it tomorrow and get it done quicker\n"
   ]
  },
  {
   "cell_type": "markdown",
   "metadata": {},
   "source": [
    "# Thursday May 25th - -\n",
    "\n",
    "Captains log - Stardate 94998.77\n",
    "\n",
    "Ghadeer and I are going to finish the plot recreation that Dr. M asked us to do. We just need to go to the other articles that are used in the paper to make the plot. "
   ]
  },
  {
   "cell_type": "code",
   "execution_count": 3,
   "metadata": {
    "collapsed": true
   },
   "outputs": [],
   "source": [
    "import matplotlib.pyplot as plt\n",
    "import numpy as np\n"
   ]
  },
  {
   "cell_type": "code",
   "execution_count": 14,
   "metadata": {
    "collapsed": true
   },
   "outputs": [],
   "source": [
    "%matplotlib inline"
   ]
  },
  {
   "cell_type": "code",
   "execution_count": 15,
   "metadata": {
    "collapsed": true
   },
   "outputs": [],
   "source": [
    "# Kravstov Table 1 Columns 4 and 7\n",
    "\n",
    "M500_K =(np.array([0.47,0.46,1.34,1.86,2.35,5.34,7.00,10.30,15.60])*1e14)\n",
    "MBCG_K = (np.array([1.38,.91,1.09,1.26,.79,1.47,3.06,4.14,3.12])*1e12)"
   ]
  },
  {
   "cell_type": "code",
   "execution_count": 21,
   "metadata": {
    "collapsed": true
   },
   "outputs": [],
   "source": [
    "# Gonzalez Table 2 Columns 4 and 9\n",
    "\n",
    "M500_G = np.array([1.45,2.37,2.41,2.26,3.23,0.95,0.99,3.59,3.46,0.95,5.15,2.26]) * 1e14\n",
    "MBCG_G = np.array([0.57,0.7,0.81,0.71,0.93,0.86,0.60,0.85,0.57,0.33,0.87,0.84]) * 1e12 * 2.65\n",
    "\n",
    "# To get the MBCG from Gonzalez we had to use the Luminosity for the BCG's and multiply \n",
    "# them by the Y_* (Mass to light ratio) of 2.65 "
   ]
  },
  {
   "cell_type": "code",
   "execution_count": 22,
   "metadata": {
    "collapsed": true
   },
   "outputs": [],
   "source": [
    "# Gonzalez Table 7 Columns 7 and 9\n",
    "\n",
    "# M500_G = (np.array([1.51,2.47,2.51,2.36,3.37,0.99,1.03,3.73,3.60,0.99,5.37,2.35])*1e14)\n",
    "# MBCG_G =(np.array([0.37,0.74,0.71,0.73,0.92,0.48,0.39,0.56,0.75,0.33,0.84,0.76])*1e13)"
   ]
  },
  {
   "cell_type": "code",
   "execution_count": 23,
   "metadata": {},
   "outputs": [
    {
     "data": {
      "text/plain": [
       "(50000000000.0, 20000000000000.0)"
      ]
     },
     "execution_count": 23,
     "metadata": {},
     "output_type": "execute_result"
    },
    {
     "data": {
      "image/png": "[encoded data removed]",
      "text/plain": [
       "<matplotlib.figure.Figure at 0x7fd067644940>"
      ]
     },
     "metadata": {},
     "output_type": "display_data"
    }
   ],
   "source": [
    "fig, ax = plt.subplots()\n",
    "\n",
    "ax.plot(M500_K,MBCG_K,'ro')\n",
    "ax.plot(M500_G,MBCG_G,'bs')\n",
    "\n",
    "ax.set_xlabel('M_500 (M_solarmasses)')\n",
    "ax.set_ylabel('M_*BCG (M_solarmasses)')\n",
    "\n",
    "ax.set_yscale('log')\n",
    "ax.set_xscale('log')\n",
    "\n",
    "ax.set_xlim(2e13,2e15)\n",
    "ax.set_ylim(5e10,2e13)"
   ]
  },
  {
   "cell_type": "markdown",
   "metadata": {},
   "source": [
    "After trying to recreate the plot unsuccessfully for a while, we were given a new task of making our own data to see a relation between the mass inside of the over all halo and the mass of the stars inside. We had to take the mass of the overall halo and take a percentage of that to get the mass of the gas that is inside, along with a percentage of that to get the total stellar mass. "
   ]
  },
  {
   "cell_type": "code",
   "execution_count": 2,
   "metadata": {
    "collapsed": true
   },
   "outputs": [],
   "source": [
    "import matplotlib.pyplot as plt\n",
    "import random\n",
    "import numpy as np"
   ]
  },
  {
   "cell_type": "code",
   "execution_count": 5,
   "metadata": {},
   "outputs": [
    {
     "data": {
      "image/png": "[encoded data removed]",
      "text/plain": [
       "<matplotlib.figure.Figure at 0x7fd767ffdeb8>"
      ]
     },
     "metadata": {},
     "output_type": "display_data"
    }
   ],
   "source": [
    "mhalo = np.linspace(10**12,10**14,10)\n",
    "Mstars = []\n",
    "Mgas = []\n",
    "val = 0.1\n",
    "for i in range(10):\n",
    "    m = val * mhalo\n",
    "    Mgas.append(m) \n",
    "    Mstars.append(val * m)\n",
    "    val += .1\n",
    "    \n",
    "#print(Mgas)\n",
    "#print(mhalo*val)\n",
    "#mhalo = mhalo * np.ones(10)\n",
    "plt.plot(mhalo,Mstars,'bp')\n",
    "plt.ylabel('Mass of Stars M_solarmasses')\n",
    "plt.xlabel('Mass of Halo M_solarmasses')\n",
    "\n",
    "plt.show()"
   ]
  },
  {
   "cell_type": "markdown",
   "metadata": {
    "collapsed": true
   },
   "source": [
    "# Friday May 26th - -\n",
    "\n",
    "Continued working on both of the above plots that we were assigned. I feel like I have made a good amount of progress on both. The second one (comparing the mass of the stars in the halo versus the mass of the halo) looks like it has inside it what he wants but there are extra things inside that I don't need. \n",
    "\n",
    "The first plot needs alot more work. Kevin helped me for a good chunk of the first one as far as fixing the axes to make it a log log plot but now the points from Gonzalez aren't matching up with Kravtsov. "
   ]
  },
  {
   "cell_type": "markdown",
   "metadata": {
    "collapsed": true
   },
   "source": [
    "# Tuesday May 30th - -\n",
    "\n",
    "Yesterday was memorial day so we didn't have to work, but Ghadeer and I came in for a little bit so that I could catch her up on what I did on Friday. Dr. Moustakas is helping us finish our plots since the first one we had to do required us to use a different piece of data than we all had originally thought. He also went over some stuff with the Hubbles constant and the IMF or (Initial Mass Function), which shows how the number of stars and number of stars is related to the mass of the cluster and halo."
   ]
  },
  {
   "cell_type": "code",
   "execution_count": 46,
   "metadata": {
    "collapsed": true
   },
   "outputs": [],
   "source": [
    "import matplotlib.pyplot as plt\n",
    "import numpy as np\n",
    "%matplotlib inline"
   ]
  },
  {
   "cell_type": "code",
   "execution_count": 47,
   "metadata": {
    "collapsed": true
   },
   "outputs": [],
   "source": [
    "# Kravstov Table 1 Columns 4 and 7\n",
    "\n",
    "M500_K =(np.array([0.47,0.46,1.34,1.86,2.35,5.34,7.00,10.30,15.60])*1e14)\n",
    "MBCG_K = (np.array([1.38,.91,1.09,1.26,.79,1.47,3.06,4.14,3.12])*1e12)"
   ]
  },
  {
   "cell_type": "code",
   "execution_count": 48,
   "metadata": {
    "collapsed": true
   },
   "outputs": [],
   "source": [
    "# Gonzalez Table 2 Columns 4 and 9\n",
    "\n",
    "M500_G = np.array([1.45,2.37,2.41,2.26,3.23,0.95,0.99,3.59,3.46,0.95,5.15,2.26]) * 1e14\n",
    "MBCG_G = np.array([0.57,0.7,0.81,0.71,0.93,0.86,0.60,0.85,0.57,0.33,0.87,0.84]) * 1e12 * 2.65\n",
    "\n",
    "# To get the MBCG from Gonzalez we had to use the Luminosity for the BCG's and multiply \n",
    "# them by the Y_* (Mass luminosity ratio) of 2.65 "
   ]
  },
  {
   "cell_type": "code",
   "execution_count": 245,
   "metadata": {
    "collapsed": true
   },
   "outputs": [],
   "source": [
    "# log(Mstar) = log(f) + log(e) + log(Mhalo)\n",
    "\n",
    "#e = 0.1\n",
    "#f = 0.1\n",
    "\n",
    "Mhalo = np.linspace(10**13.5,10**15.5,50)\n",
    "\n",
    "alpha = 1\n",
    "e = 0.001*Mhalo**alpha\n",
    "f = e\n",
    "\n",
    "#Mgas = np.log10(e) + np.log10(Mhalo)\n",
    "logMstar = np.log10(f) + np.log10(Mhalo) + np.log10(e)\n",
    "\n",
    "#logMstar = np.log(e) + np.log(f) + np.log(Mhalo)\n",
    "\n",
    "#Mstar = e*f*Mhalo\n"
   ]
  },
  {
   "cell_type": "code",
   "execution_count": 246,
   "metadata": {},
   "outputs": [
    {
     "name": "stdout",
     "output_type": "stream",
     "text": [
      "[  3.16227766e+10   9.55136926e+10   1.59404609e+11   2.23295525e+11\n",
      "   2.87186441e+11   3.51077357e+11   4.14968273e+11   4.78859189e+11\n",
      "   5.42750105e+11   6.06641021e+11   6.70531937e+11   7.34422853e+11\n",
      "   7.98313768e+11   8.62204684e+11   9.26095600e+11   9.89986516e+11\n",
      "   1.05387743e+12   1.11776835e+12   1.18165926e+12   1.24555018e+12\n",
      "   1.30944110e+12   1.37333201e+12   1.43722293e+12   1.50111384e+12\n",
      "   1.56500476e+12   1.62889568e+12   1.69278659e+12   1.75667751e+12\n",
      "   1.82056842e+12   1.88445934e+12   1.94835026e+12   2.01224117e+12\n",
      "   2.07613209e+12   2.14002300e+12   2.20391392e+12   2.26780484e+12\n",
      "   2.33169575e+12   2.39558667e+12   2.45947758e+12   2.52336850e+12\n",
      "   2.58725942e+12   2.65115033e+12   2.71504125e+12   2.77893216e+12\n",
      "   2.84282308e+12   2.90671400e+12   2.97060491e+12   3.03449583e+12\n",
      "   3.09838674e+12   3.16227766e+12]\n"
     ]
    }
   ],
   "source": [
    "#print(logMstar)\n",
    "print(e)"
   ]
  },
  {
   "cell_type": "code",
   "execution_count": 247,
   "metadata": {},
   "outputs": [
    {
     "data": {
      "text/plain": [
       "<matplotlib.text.Text at 0x7f1c84dd1630>"
      ]
     },
     "execution_count": 247,
     "metadata": {},
     "output_type": "execute_result"
    },
    {
     "data": {
      "image/png": "[encoded data removed]",
      "text/plain": [
       "<matplotlib.figure.Figure at 0x7f1c84cb56d8>"
      ]
     },
     "metadata": {},
     "output_type": "display_data"
    }
   ],
   "source": [
    "fig, ax = plt.subplots()\n",
    "\n",
    "ax.plot(np.log10(M500_K),np.log10(MBCG_K),'bo')\n",
    "ax.plot(np.log10(M500_G),np.log10(MBCG_G),'bs')\n",
    "ax.plot(np.log10(Mhalo),logMstar,'r-')\n",
    "\n",
    "\n",
    "ax.set_xlabel('M_500 (M_solarmasses)')\n",
    "ax.set_ylabel('M_*BCG (M_solarmasses)')\n",
    "\n",
    "#ax.set_yscale('log')\n",
    "#ax.set_xscale('log')\n",
    "\n",
    "#ax.set_xlim(2e13,2e15)\n",
    "#ax.set_ylim(5e10,2e13)"
   ]
  },
  {
   "cell_type": "markdown",
   "metadata": {
    "collapsed": true
   },
   "source": [
    "# Wednesday May 31st - -\n",
    "\n",
    "We started the new assignment that Dr. Moustakas gave us of adding to the above plot lines showing the relationship between the Halo mass, efficiency, and the Stellar mass created inside. \n",
    "\n",
    "I got it to the point it is above but it is clearly wrong so then we had Dr. Moustakas help us and go through the math of it to basically start over. "
   ]
  },
  {
   "cell_type": "code",
   "execution_count": 36,
   "metadata": {},
   "outputs": [],
   "source": [
    "import numpy as np\n",
    "import matplotlib.pyplot as plt\n",
    "%matplotlib inline"
   ]
  },
  {
   "cell_type": "code",
   "execution_count": 49,
   "metadata": {
    "collapsed": true
   },
   "outputs": [],
   "source": [
    "def getMstar(logMhalo, f=0.1, epsilon0=0.1, alpha=1.0, Mscale=1E14):\n",
    "    logMstar = np.log10(f) + np.log10(epsilon0) - np.log10(Mscale) + (1+alpha) * logMhalo\n",
    "    return logMstar"
   ]
  },
  {
   "cell_type": "code",
   "execution_count": 50,
   "metadata": {},
   "outputs": [],
   "source": [
    "logMhalo = np.linspace(13, 15, 20)\n",
    "logMstar = getMstar(logMhalo)"
   ]
  },
  {
   "cell_type": "code",
   "execution_count": 51,
   "metadata": {
    "collapsed": true
   },
   "outputs": [],
   "source": [
    "# Choose a range of epsilon0 values.\n",
    "epsilon0 = np.array([0.1, 0.3, 0.5, 0.7])"
   ]
  },
  {
   "cell_type": "code",
   "execution_count": 52,
   "metadata": {
    "collapsed": true
   },
   "outputs": [],
   "source": [
    "def efficiency_plot(logMhalo, epsilon0_grid, alpha):\n",
    "    fig, ax = plt.subplots()\n",
    "    for ee in epsilon0:\n",
    "        ax.plot(logMhalo, getMstar(logMhalo, epsilon0=ee, alpha=alpha), label=r'$\\epsilon = {:.1f}$'.format(ee))\n",
    "    ax.legend(loc='upper left')\n",
    "    ax.set_xlabel(r'$\\log_{10}\\ (M_{halo} / M_{\\odot})$')\n",
    "    ax.set_ylabel(r'$\\log_{10}\\ (M_{*} / M_{\\odot})$')\n",
    "    #ax.set_xlim(12.5, 15.5)\n",
    "    #ax.set_ylim(9.5, 15)\n",
    "    ax.set_title(r'$\\alpha = {:.0f}$'.format(alpha))"
   ]
  },
  {
   "cell_type": "code",
   "execution_count": 57,
   "metadata": {},
   "outputs": [
    {
     "data": {
      "image/png": "[encoded data removed]",
      "text/plain": [
       "<matplotlib.figure.Figure at 0x7f7d8bccd358>"
      ]
     },
     "metadata": {},
     "output_type": "display_data"
    }
   ],
   "source": [
    "efficiency_plot(logMhalo, epsilon0, alpha=1.0)"
   ]
  },
  {
   "cell_type": "code",
   "execution_count": null,
   "metadata": {
    "collapsed": true
   },
   "outputs": [],
   "source": []
  },
  {
   "cell_type": "code",
   "execution_count": null,
   "metadata": {
    "collapsed": true
   },
   "outputs": [],
   "source": []
  }
 ],
 "metadata": {
  "kernelspec": {
   "display_name": "Python 3",
   "language": "python",
   "name": "python3"
  },
  "language_info": {
   "codemirror_mode": {
    "name": "ipython",
    "version": 3
   },
   "file_extension": ".py",
   "mimetype": "text/x-python",
   "name": "python",
   "nbconvert_exporter": "python",
   "pygments_lexer": "ipython3",
   "version": "3.6.1"
  }
 },
 "nbformat": 4,
 "nbformat_minor": 2
}
